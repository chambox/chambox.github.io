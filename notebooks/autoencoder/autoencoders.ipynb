{
 "metadata": {
  "language_info": {
   "codemirror_mode": {
    "name": "ipython",
    "version": 3
   },
   "file_extension": ".py",
   "mimetype": "text/x-python",
   "name": "python",
   "nbconvert_exporter": "python",
   "pygments_lexer": "ipython3",
   "version": "3.7.9"
  },
  "orig_nbformat": 4,
  "kernelspec": {
   "name": "python3",
   "display_name": "Python 3.7.9 64-bit ('venv': venv)"
  },
  "interpreter": {
   "hash": "7473eb5de9899b903baf5af208a8c617653e3ff3071504d1e46d9b22301cad0e"
  }
 },
 "nbformat": 4,
 "nbformat_minor": 2,
 "cells": [
  {
   "cell_type": "markdown",
   "source": [
    "## Anomaly detection with autoencoders\n",
    "\n",
    "In this blog post we will use autoencoders to detect anomalies in ECG5000 dataset. In writing this blog post I have assumed that the reader has some basic understanding of neural networks and autoencoders as a specific type of neural network. Jeremy Jordan has a nice 10mins-read blog post on autoencoders, you can find it [here](https://www.jeremyjordan.me/autoencoders/).  The ECG5000 dataset which we will use contains 50,000 Electrocardiograms (ECG). Each cardiogram has 140 data points.  Luckily for us, the data has been labeled into a normal and abnormal rhythm by medical experts. Our goal is to use autoencoders to see if they can mimic the knowledge of a medical doctor and identify abnormal Electrocardiograms.\n",
    "\n",
    "Our approach will be to (1) train the autoencoder on the normal data and (2) use our trained model to reconstruct the entire dataset. We hypothesize that abnormal Electrocardiograms will have a higher reconstruction error. Recall that an autoencoder takes the input data and projects it onto a lower-dimensional space that captures only the signals in the data. The data can then be reconstructed from the lower-dimensional space. Note here that if a data point is noisy its reconstruction error (the distance between the actual point and the reconstructed one) will be large. It is this simple principle that we use to identity anomalies. \n",
    "\n",
    "\n",
    "## Lets load the ECG data "
   ],
   "metadata": {}
  },
  {
   "cell_type": "code",
   "execution_count": 25,
   "source": [
    "# libraries \n",
    "import matplotlib.pyplot as plt\n",
    "import numpy as np\n",
    "import pandas as pd\n",
    "import tensorflow as tf\n",
    "\n",
    "\n",
    "from sklearn.model_selection import train_test_split\n",
    "from sklearn.metrics import accuracy_score, precision_score, recall_score\n",
    "from tensorflow.keras import layers, losses\n",
    "from tensorflow.keras.datasets import fashion_mnist\n",
    "from tensorflow.keras.models import Model\n",
    "import plotly.express as px \n",
    "import plotly.graph_objects as go \n",
    "import plotly.offline as py_offline"
   ],
   "outputs": [],
   "metadata": {}
  },
  {
   "cell_type": "code",
   "execution_count": 26,
   "source": [
    "# Download the dataset\n",
    "url = 'http://storage.googleapis.com/download.tensorflow.org/data/ecg.csv'\n",
    "\n",
    "dataframe = pd.read_csv(url,header=None)\n",
    "raw_data = dataframe.values\n",
    "# first five rows and columns\n",
    "print(dataframe.iloc[:,0:5].head().to_markdown())"
   ],
   "outputs": [
    {
     "output_type": "stream",
     "name": "stdout",
     "text": [
      "|    |         0 |         1 |        2 |        3 |        4 |\n|---:|----------:|----------:|---------:|---------:|---------:|\n|  0 | -0.112522 | -2.8272   | -3.7739  | -4.34975 | -4.37604 |\n|  1 | -1.10088  | -3.99684  | -4.28584 | -4.50658 | -4.02238 |\n|  2 | -0.567088 | -2.59345  | -3.87423 | -4.58409 | -4.18745 |\n|  3 |  0.490473 | -1.91441  | -3.61636 | -4.31882 | -4.26802 |\n|  4 |  0.800232 | -0.874252 | -2.38476 | -3.97329 | -4.33822 |\n"
     ]
    }
   ],
   "metadata": {
    "tags": []
   }
  },
  {
   "cell_type": "markdown",
   "source": [
    "The last column contains the labels. The other data points are the electrocardiogram data. We will also create a train and test a dataset, as well as their labels, this is what data scientists do to overcome a serious problem in data science namely `over-fitting`."
   ],
   "metadata": {}
  },
  {
   "cell_type": "code",
   "execution_count": 27,
   "source": [
    "# The last element contains the labels\n",
    "labels = raw_data[:, -1]\n",
    "\n",
    "# The other data points are the electrocadriogram data\n",
    "data = raw_data[:, 0:-1]\n",
    "\n",
    "train_data, test_data, train_labels, test_labels = train_test_split(\n",
    "    data, labels, test_size=0.2, random_state=21\n",
    ")"
   ],
   "outputs": [],
   "metadata": {}
  },
  {
   "cell_type": "markdown",
   "source": [
    "We will also normalize the data to lie between [0,1]. Note here that we do normalization because to speed up the learning and convergence of the optimizer. \n"
   ],
   "metadata": {}
  },
  {
   "cell_type": "code",
   "execution_count": 28,
   "source": [
    "min_val = tf.reduce_min(train_data)\n",
    "max_val = tf.reduce_max(train_data)\n",
    "\n",
    "train_data = (train_data - min_val) / (max_val - min_val)\n",
    "test_data = (test_data - min_val) / (max_val - min_val)\n",
    "\n",
    "train_data = tf.cast(train_data, tf.float32)\n",
    "test_data = tf.cast(test_data, tf.float32)"
   ],
   "outputs": [],
   "metadata": {}
  },
  {
   "cell_type": "code",
   "execution_count": null,
   "source": [],
   "outputs": [],
   "metadata": {}
  },
  {
   "cell_type": "markdown",
   "source": [
    "\n",
    "As mentioned earlier, we will only train the autoencoder on the data with normal rhythms. Electrocardiograms with normal rhythm are labeled with 1. We will separate the normal rhythm from the abnormal ones in the following chunk of code."
   ],
   "metadata": {}
  },
  {
   "cell_type": "code",
   "execution_count": 29,
   "source": [
    "train_labels = train_labels.astype(bool)\n",
    "test_labels = test_labels.astype(bool)\n",
    "\n",
    "normal_train_data = train_data[train_labels]\n",
    "normal_test_data = test_data[test_labels]\n",
    "\n",
    "\n",
    "abnormal_train_data = train_data[~train_labels]\n",
    "abnormal_test_data = test_data[~test_labels]"
   ],
   "outputs": [],
   "metadata": {}
  },
  {
   "cell_type": "markdown",
   "source": [
    "Let's visualize a normal and an abnormal  ECG. "
   ],
   "metadata": {}
  },
  {
   "cell_type": "code",
   "execution_count": 30,
   "source": [
    "fig = go.Figure()\n",
    "trace1 = go.Scatter(x=np.arange(140), y=normal_train_data[0],name='Normal')\n",
    "trace2 = go.Scatter(x=np.arange(140), y=abnormal_train_data[0],name='Abnormal')\n",
    "data = [trace1,trace2]\n",
    "# py_offline.plot(data, filename='basic-line', include_plotlyjs=False, output_type='div')\n",
    "py_offline.iplot(data)"
   ],
   "outputs": [
    {
     "output_type": "display_data",
     "data": {
      "application/vnd.plotly.v1+json": {
       "config": {
        "linkText": "Export to plot.ly",
        "plotlyServerURL": "https://plot.ly",
        "showLink": false
       },
       "data": [
        {
         "name": "Normal",
         "type": "scatter",
         "x": [
          0,
          1,
          2,
          3,
          4,
          5,
          6,
          7,
          8,
          9,
          10,
          11,
          12,
          13,
          14,
          15,
          16,
          17,
          18,
          19,
          20,
          21,
          22,
          23,
          24,
          25,
          26,
          27,
          28,
          29,
          30,
          31,
          32,
          33,
          34,
          35,
          36,
          37,
          38,
          39,
          40,
          41,
          42,
          43,
          44,
          45,
          46,
          47,
          48,
          49,
          50,
          51,
          52,
          53,
          54,
          55,
          56,
          57,
          58,
          59,
          60,
          61,
          62,
          63,
          64,
          65,
          66,
          67,
          68,
          69,
          70,
          71,
          72,
          73,
          74,
          75,
          76,
          77,
          78,
          79,
          80,
          81,
          82,
          83,
          84,
          85,
          86,
          87,
          88,
          89,
          90,
          91,
          92,
          93,
          94,
          95,
          96,
          97,
          98,
          99,
          100,
          101,
          102,
          103,
          104,
          105,
          106,
          107,
          108,
          109,
          110,
          111,
          112,
          113,
          114,
          115,
          116,
          117,
          118,
          119,
          120,
          121,
          122,
          123,
          124,
          125,
          126,
          127,
          128,
          129,
          130,
          131,
          132,
          133,
          134,
          135,
          136,
          137,
          138,
          139
         ],
         "y": [
          0.5703046321868896,
          0.4656165838241577,
          0.2905811667442322,
          0.17791584134101868,
          0.09538919478654861,
          0.08467857539653778,
          0.2019510418176651,
          0.3163002133369446,
          0.33732032775878906,
          0.41424882411956787,
          0.47070595622062683,
          0.4691905081272125,
          0.4776775538921356,
          0.48004090785980225,
          0.4702724516391754,
          0.4729926884174347,
          0.479171484708786,
          0.48027467727661133,
          0.46928870677948,
          0.46106863021850586,
          0.46148037910461426,
          0.4465829133987427,
          0.45325326919555664,
          0.4561009407043457,
          0.4489617943763733,
          0.44325318932533264,
          0.4340217411518097,
          0.4430723488330841,
          0.4325052499771118,
          0.43014901876449585,
          0.41454657912254333,
          0.4120652973651886,
          0.40420278906822205,
          0.4105454385280609,
          0.4082913100719452,
          0.40342992544174194,
          0.39648476243019104,
          0.3933204412460327,
          0.39158815145492554,
          0.3960387706756592,
          0.4074695408344269,
          0.40531179308891296,
          0.41734880208969116,
          0.41624557971954346,
          0.42334118485450745,
          0.4459063708782196,
          0.4455184042453766,
          0.44474098086357117,
          0.44404327869415283,
          0.4567321836948395,
          0.4521746337413788,
          0.4532504081726074,
          0.46082931756973267,
          0.4669593572616577,
          0.4663194417953491,
          0.47432830929756165,
          0.46297091245651245,
          0.4738894999027252,
          0.4678889811038971,
          0.4673447906970978,
          0.4802667498588562,
          0.48439839482307434,
          0.48574668169021606,
          0.48985567688941956,
          0.4931734800338745,
          0.48830410838127136,
          0.49913936853408813,
          0.505709171295166,
          0.5078241229057312,
          0.5132302641868591,
          0.5211992859840393,
          0.514991819858551,
          0.519900918006897,
          0.5074853897094727,
          0.5113434195518494,
          0.5092939734458923,
          0.5073481798171997,
          0.5110538005828857,
          0.5096123814582825,
          0.4963955879211426,
          0.49456536769866943,
          0.5014910101890564,
          0.5063670873641968,
          0.5020293593406677,
          0.5007152557373047,
          0.4958237409591675,
          0.4843623638153076,
          0.4914246201515198,
          0.4825357496738434,
          0.47723883390426636,
          0.47550636529922485,
          0.47530031204223633,
          0.4876338243484497,
          0.4776129722595215,
          0.474583238363266,
          0.4757544696331024,
          0.47009119391441345,
          0.4540967047214508,
          0.46874862909317017,
          0.4767007529735565,
          0.4795878529548645,
          0.4751480519771576,
          0.47619494795799255,
          0.48561891913414,
          0.48763763904571533,
          0.4996277689933777,
          0.5284430384635925,
          0.5431970953941345,
          0.5495933294296265,
          0.5488370060920715,
          0.5231477618217468,
          0.4934438467025757,
          0.49881476163864136,
          0.5099680423736572,
          0.516133189201355,
          0.4907889664173126,
          0.4668024778366089,
          0.43299439549446106,
          0.4164400100708008,
          0.4182245135307312,
          0.43140411376953125,
          0.43214115500450134,
          0.4212411642074585,
          0.42373567819595337,
          0.42885276675224304,
          0.43089887499809265,
          0.43537637591362,
          0.4391244351863861,
          0.4371418356895447,
          0.4453428089618683,
          0.4533092975616455,
          0.48821336030960083,
          0.5786804556846619,
          0.5858615636825562,
          0.5959517955780029,
          0.5952476263046265,
          0.5700759291648865,
          0.4850423336029053,
          0.42335018515586853,
          0.4759834408760071
         ]
        },
        {
         "name": "Abnormal",
         "type": "scatter",
         "x": [
          0,
          1,
          2,
          3,
          4,
          5,
          6,
          7,
          8,
          9,
          10,
          11,
          12,
          13,
          14,
          15,
          16,
          17,
          18,
          19,
          20,
          21,
          22,
          23,
          24,
          25,
          26,
          27,
          28,
          29,
          30,
          31,
          32,
          33,
          34,
          35,
          36,
          37,
          38,
          39,
          40,
          41,
          42,
          43,
          44,
          45,
          46,
          47,
          48,
          49,
          50,
          51,
          52,
          53,
          54,
          55,
          56,
          57,
          58,
          59,
          60,
          61,
          62,
          63,
          64,
          65,
          66,
          67,
          68,
          69,
          70,
          71,
          72,
          73,
          74,
          75,
          76,
          77,
          78,
          79,
          80,
          81,
          82,
          83,
          84,
          85,
          86,
          87,
          88,
          89,
          90,
          91,
          92,
          93,
          94,
          95,
          96,
          97,
          98,
          99,
          100,
          101,
          102,
          103,
          104,
          105,
          106,
          107,
          108,
          109,
          110,
          111,
          112,
          113,
          114,
          115,
          116,
          117,
          118,
          119,
          120,
          121,
          122,
          123,
          124,
          125,
          126,
          127,
          128,
          129,
          130,
          131,
          132,
          133,
          134,
          135,
          136,
          137,
          138,
          139
         ],
         "y": [
          0.4304001033306122,
          0.35345321893692017,
          0.3034263849258423,
          0.2818489074707031,
          0.28353944420814514,
          0.28959953784942627,
          0.3114522695541382,
          0.3470645248889923,
          0.3809654414653778,
          0.39506226778030396,
          0.3976452350616455,
          0.41356122493743896,
          0.4387162923812866,
          0.4520491063594818,
          0.4495706260204315,
          0.44956129789352417,
          0.45499545335769653,
          0.45426806807518005,
          0.44863343238830566,
          0.45084789395332336,
          0.45330581068992615,
          0.4520796537399292,
          0.4475529193878174,
          0.44939249753952026,
          0.4473649561405182,
          0.44874852895736694,
          0.4485017955303192,
          0.4462437331676483,
          0.44809791445732117,
          0.4483480751514435,
          0.44390979409217834,
          0.44208911061286926,
          0.4433857798576355,
          0.44462850689888,
          0.43986889719963074,
          0.4404641091823578,
          0.4400186240673065,
          0.43668332695961,
          0.4339315891265869,
          0.4317610263824463,
          0.4295136630535126,
          0.4274426996707916,
          0.42877644300460815,
          0.42894187569618225,
          0.4254743754863739,
          0.42517906427383423,
          0.42631953954696655,
          0.4277213215827942,
          0.42250746488571167,
          0.42367860674858093,
          0.4281102418899536,
          0.4270593523979187,
          0.4272007346153259,
          0.4308776557445526,
          0.4309622049331665,
          0.43490204215049744,
          0.43578556180000305,
          0.43896228075027466,
          0.44403478503227234,
          0.4491182863712311,
          0.453519344329834,
          0.4524179995059967,
          0.45339763164520264,
          0.45347079634666443,
          0.45640361309051514,
          0.45917513966560364,
          0.45685112476348877,
          0.45898863673210144,
          0.4569636881351471,
          0.45675793290138245,
          0.46130383014678955,
          0.45900118350982666,
          0.46151021122932434,
          0.46561598777770996,
          0.4587060809135437,
          0.4582265317440033,
          0.4626377522945404,
          0.4621920883655548,
          0.4627910554409027,
          0.46581798791885376,
          0.4644567370414734,
          0.4647052586078644,
          0.46456974744796753,
          0.4647565186023712,
          0.46593987941741943,
          0.46568334102630615,
          0.46936455368995667,
          0.47205060720443726,
          0.4691234230995178,
          0.4770551025867462,
          0.4743116497993469,
          0.4712502956390381,
          0.476502001285553,
          0.4755341112613678,
          0.47373101115226746,
          0.47748467326164246,
          0.48040735721588135,
          0.47647133469581604,
          0.4788639545440674,
          0.48452094197273254,
          0.4846736788749695,
          0.4795249104499817,
          0.4818657338619232,
          0.4819636642932892,
          0.48308029770851135,
          0.47801387310028076,
          0.48302972316741943,
          0.48857638239860535,
          0.48736441135406494,
          0.49351075291633606,
          0.49945521354675293,
          0.505765438079834,
          0.5169975757598877,
          0.527177631855011,
          0.5347791314125061,
          0.544451892375946,
          0.5556207895278931,
          0.5749051570892334,
          0.5851321816444397,
          0.5897799730300903,
          0.5978419184684753,
          0.6050950884819031,
          0.6238124370574951,
          0.6344885230064392,
          0.6365599036216736,
          0.6482247710227966,
          0.6608508229255676,
          0.6543368697166443,
          0.6259334683418274,
          0.5985985398292542,
          0.5772880911827087,
          0.5069698095321655,
          0.423368364572525,
          0.395474374294281,
          0.3666984438896179,
          0.35847392678260803,
          0.34862595796585083,
          0.3050689399242401,
          0.2622550129890442,
          0.25020110607147217
         ]
        }
       ],
       "layout": {
        "template": {
         "data": {
          "bar": [
           {
            "error_x": {
             "color": "#2a3f5f"
            },
            "error_y": {
             "color": "#2a3f5f"
            },
            "marker": {
             "line": {
              "color": "#E5ECF6",
              "width": 0.5
             },
             "pattern": {
              "fillmode": "overlay",
              "size": 10,
              "solidity": 0.2
             }
            },
            "type": "bar"
           }
          ],
          "barpolar": [
           {
            "marker": {
             "line": {
              "color": "#E5ECF6",
              "width": 0.5
             },
             "pattern": {
              "fillmode": "overlay",
              "size": 10,
              "solidity": 0.2
             }
            },
            "type": "barpolar"
           }
          ],
          "carpet": [
           {
            "aaxis": {
             "endlinecolor": "#2a3f5f",
             "gridcolor": "white",
             "linecolor": "white",
             "minorgridcolor": "white",
             "startlinecolor": "#2a3f5f"
            },
            "baxis": {
             "endlinecolor": "#2a3f5f",
             "gridcolor": "white",
             "linecolor": "white",
             "minorgridcolor": "white",
             "startlinecolor": "#2a3f5f"
            },
            "type": "carpet"
           }
          ],
          "choropleth": [
           {
            "colorbar": {
             "outlinewidth": 0,
             "ticks": ""
            },
            "type": "choropleth"
           }
          ],
          "contour": [
           {
            "colorbar": {
             "outlinewidth": 0,
             "ticks": ""
            },
            "colorscale": [
             [
              0,
              "#0d0887"
             ],
             [
              0.1111111111111111,
              "#46039f"
             ],
             [
              0.2222222222222222,
              "#7201a8"
             ],
             [
              0.3333333333333333,
              "#9c179e"
             ],
             [
              0.4444444444444444,
              "#bd3786"
             ],
             [
              0.5555555555555556,
              "#d8576b"
             ],
             [
              0.6666666666666666,
              "#ed7953"
             ],
             [
              0.7777777777777778,
              "#fb9f3a"
             ],
             [
              0.8888888888888888,
              "#fdca26"
             ],
             [
              1,
              "#f0f921"
             ]
            ],
            "type": "contour"
           }
          ],
          "contourcarpet": [
           {
            "colorbar": {
             "outlinewidth": 0,
             "ticks": ""
            },
            "type": "contourcarpet"
           }
          ],
          "heatmap": [
           {
            "colorbar": {
             "outlinewidth": 0,
             "ticks": ""
            },
            "colorscale": [
             [
              0,
              "#0d0887"
             ],
             [
              0.1111111111111111,
              "#46039f"
             ],
             [
              0.2222222222222222,
              "#7201a8"
             ],
             [
              0.3333333333333333,
              "#9c179e"
             ],
             [
              0.4444444444444444,
              "#bd3786"
             ],
             [
              0.5555555555555556,
              "#d8576b"
             ],
             [
              0.6666666666666666,
              "#ed7953"
             ],
             [
              0.7777777777777778,
              "#fb9f3a"
             ],
             [
              0.8888888888888888,
              "#fdca26"
             ],
             [
              1,
              "#f0f921"
             ]
            ],
            "type": "heatmap"
           }
          ],
          "heatmapgl": [
           {
            "colorbar": {
             "outlinewidth": 0,
             "ticks": ""
            },
            "colorscale": [
             [
              0,
              "#0d0887"
             ],
             [
              0.1111111111111111,
              "#46039f"
             ],
             [
              0.2222222222222222,
              "#7201a8"
             ],
             [
              0.3333333333333333,
              "#9c179e"
             ],
             [
              0.4444444444444444,
              "#bd3786"
             ],
             [
              0.5555555555555556,
              "#d8576b"
             ],
             [
              0.6666666666666666,
              "#ed7953"
             ],
             [
              0.7777777777777778,
              "#fb9f3a"
             ],
             [
              0.8888888888888888,
              "#fdca26"
             ],
             [
              1,
              "#f0f921"
             ]
            ],
            "type": "heatmapgl"
           }
          ],
          "histogram": [
           {
            "marker": {
             "pattern": {
              "fillmode": "overlay",
              "size": 10,
              "solidity": 0.2
             }
            },
            "type": "histogram"
           }
          ],
          "histogram2d": [
           {
            "colorbar": {
             "outlinewidth": 0,
             "ticks": ""
            },
            "colorscale": [
             [
              0,
              "#0d0887"
             ],
             [
              0.1111111111111111,
              "#46039f"
             ],
             [
              0.2222222222222222,
              "#7201a8"
             ],
             [
              0.3333333333333333,
              "#9c179e"
             ],
             [
              0.4444444444444444,
              "#bd3786"
             ],
             [
              0.5555555555555556,
              "#d8576b"
             ],
             [
              0.6666666666666666,
              "#ed7953"
             ],
             [
              0.7777777777777778,
              "#fb9f3a"
             ],
             [
              0.8888888888888888,
              "#fdca26"
             ],
             [
              1,
              "#f0f921"
             ]
            ],
            "type": "histogram2d"
           }
          ],
          "histogram2dcontour": [
           {
            "colorbar": {
             "outlinewidth": 0,
             "ticks": ""
            },
            "colorscale": [
             [
              0,
              "#0d0887"
             ],
             [
              0.1111111111111111,
              "#46039f"
             ],
             [
              0.2222222222222222,
              "#7201a8"
             ],
             [
              0.3333333333333333,
              "#9c179e"
             ],
             [
              0.4444444444444444,
              "#bd3786"
             ],
             [
              0.5555555555555556,
              "#d8576b"
             ],
             [
              0.6666666666666666,
              "#ed7953"
             ],
             [
              0.7777777777777778,
              "#fb9f3a"
             ],
             [
              0.8888888888888888,
              "#fdca26"
             ],
             [
              1,
              "#f0f921"
             ]
            ],
            "type": "histogram2dcontour"
           }
          ],
          "mesh3d": [
           {
            "colorbar": {
             "outlinewidth": 0,
             "ticks": ""
            },
            "type": "mesh3d"
           }
          ],
          "parcoords": [
           {
            "line": {
             "colorbar": {
              "outlinewidth": 0,
              "ticks": ""
             }
            },
            "type": "parcoords"
           }
          ],
          "pie": [
           {
            "automargin": true,
            "type": "pie"
           }
          ],
          "scatter": [
           {
            "marker": {
             "colorbar": {
              "outlinewidth": 0,
              "ticks": ""
             }
            },
            "type": "scatter"
           }
          ],
          "scatter3d": [
           {
            "line": {
             "colorbar": {
              "outlinewidth": 0,
              "ticks": ""
             }
            },
            "marker": {
             "colorbar": {
              "outlinewidth": 0,
              "ticks": ""
             }
            },
            "type": "scatter3d"
           }
          ],
          "scattercarpet": [
           {
            "marker": {
             "colorbar": {
              "outlinewidth": 0,
              "ticks": ""
             }
            },
            "type": "scattercarpet"
           }
          ],
          "scattergeo": [
           {
            "marker": {
             "colorbar": {
              "outlinewidth": 0,
              "ticks": ""
             }
            },
            "type": "scattergeo"
           }
          ],
          "scattergl": [
           {
            "marker": {
             "colorbar": {
              "outlinewidth": 0,
              "ticks": ""
             }
            },
            "type": "scattergl"
           }
          ],
          "scattermapbox": [
           {
            "marker": {
             "colorbar": {
              "outlinewidth": 0,
              "ticks": ""
             }
            },
            "type": "scattermapbox"
           }
          ],
          "scatterpolar": [
           {
            "marker": {
             "colorbar": {
              "outlinewidth": 0,
              "ticks": ""
             }
            },
            "type": "scatterpolar"
           }
          ],
          "scatterpolargl": [
           {
            "marker": {
             "colorbar": {
              "outlinewidth": 0,
              "ticks": ""
             }
            },
            "type": "scatterpolargl"
           }
          ],
          "scatterternary": [
           {
            "marker": {
             "colorbar": {
              "outlinewidth": 0,
              "ticks": ""
             }
            },
            "type": "scatterternary"
           }
          ],
          "surface": [
           {
            "colorbar": {
             "outlinewidth": 0,
             "ticks": ""
            },
            "colorscale": [
             [
              0,
              "#0d0887"
             ],
             [
              0.1111111111111111,
              "#46039f"
             ],
             [
              0.2222222222222222,
              "#7201a8"
             ],
             [
              0.3333333333333333,
              "#9c179e"
             ],
             [
              0.4444444444444444,
              "#bd3786"
             ],
             [
              0.5555555555555556,
              "#d8576b"
             ],
             [
              0.6666666666666666,
              "#ed7953"
             ],
             [
              0.7777777777777778,
              "#fb9f3a"
             ],
             [
              0.8888888888888888,
              "#fdca26"
             ],
             [
              1,
              "#f0f921"
             ]
            ],
            "type": "surface"
           }
          ],
          "table": [
           {
            "cells": {
             "fill": {
              "color": "#EBF0F8"
             },
             "line": {
              "color": "white"
             }
            },
            "header": {
             "fill": {
              "color": "#C8D4E3"
             },
             "line": {
              "color": "white"
             }
            },
            "type": "table"
           }
          ]
         },
         "layout": {
          "annotationdefaults": {
           "arrowcolor": "#2a3f5f",
           "arrowhead": 0,
           "arrowwidth": 1
          },
          "autotypenumbers": "strict",
          "coloraxis": {
           "colorbar": {
            "outlinewidth": 0,
            "ticks": ""
           }
          },
          "colorscale": {
           "diverging": [
            [
             0,
             "#8e0152"
            ],
            [
             0.1,
             "#c51b7d"
            ],
            [
             0.2,
             "#de77ae"
            ],
            [
             0.3,
             "#f1b6da"
            ],
            [
             0.4,
             "#fde0ef"
            ],
            [
             0.5,
             "#f7f7f7"
            ],
            [
             0.6,
             "#e6f5d0"
            ],
            [
             0.7,
             "#b8e186"
            ],
            [
             0.8,
             "#7fbc41"
            ],
            [
             0.9,
             "#4d9221"
            ],
            [
             1,
             "#276419"
            ]
           ],
           "sequential": [
            [
             0,
             "#0d0887"
            ],
            [
             0.1111111111111111,
             "#46039f"
            ],
            [
             0.2222222222222222,
             "#7201a8"
            ],
            [
             0.3333333333333333,
             "#9c179e"
            ],
            [
             0.4444444444444444,
             "#bd3786"
            ],
            [
             0.5555555555555556,
             "#d8576b"
            ],
            [
             0.6666666666666666,
             "#ed7953"
            ],
            [
             0.7777777777777778,
             "#fb9f3a"
            ],
            [
             0.8888888888888888,
             "#fdca26"
            ],
            [
             1,
             "#f0f921"
            ]
           ],
           "sequentialminus": [
            [
             0,
             "#0d0887"
            ],
            [
             0.1111111111111111,
             "#46039f"
            ],
            [
             0.2222222222222222,
             "#7201a8"
            ],
            [
             0.3333333333333333,
             "#9c179e"
            ],
            [
             0.4444444444444444,
             "#bd3786"
            ],
            [
             0.5555555555555556,
             "#d8576b"
            ],
            [
             0.6666666666666666,
             "#ed7953"
            ],
            [
             0.7777777777777778,
             "#fb9f3a"
            ],
            [
             0.8888888888888888,
             "#fdca26"
            ],
            [
             1,
             "#f0f921"
            ]
           ]
          },
          "colorway": [
           "#636efa",
           "#EF553B",
           "#00cc96",
           "#ab63fa",
           "#FFA15A",
           "#19d3f3",
           "#FF6692",
           "#B6E880",
           "#FF97FF",
           "#FECB52"
          ],
          "font": {
           "color": "#2a3f5f"
          },
          "geo": {
           "bgcolor": "white",
           "lakecolor": "white",
           "landcolor": "#E5ECF6",
           "showlakes": true,
           "showland": true,
           "subunitcolor": "white"
          },
          "hoverlabel": {
           "align": "left"
          },
          "hovermode": "closest",
          "mapbox": {
           "style": "light"
          },
          "paper_bgcolor": "white",
          "plot_bgcolor": "#E5ECF6",
          "polar": {
           "angularaxis": {
            "gridcolor": "white",
            "linecolor": "white",
            "ticks": ""
           },
           "bgcolor": "#E5ECF6",
           "radialaxis": {
            "gridcolor": "white",
            "linecolor": "white",
            "ticks": ""
           }
          },
          "scene": {
           "xaxis": {
            "backgroundcolor": "#E5ECF6",
            "gridcolor": "white",
            "gridwidth": 2,
            "linecolor": "white",
            "showbackground": true,
            "ticks": "",
            "zerolinecolor": "white"
           },
           "yaxis": {
            "backgroundcolor": "#E5ECF6",
            "gridcolor": "white",
            "gridwidth": 2,
            "linecolor": "white",
            "showbackground": true,
            "ticks": "",
            "zerolinecolor": "white"
           },
           "zaxis": {
            "backgroundcolor": "#E5ECF6",
            "gridcolor": "white",
            "gridwidth": 2,
            "linecolor": "white",
            "showbackground": true,
            "ticks": "",
            "zerolinecolor": "white"
           }
          },
          "shapedefaults": {
           "line": {
            "color": "#2a3f5f"
           }
          },
          "ternary": {
           "aaxis": {
            "gridcolor": "white",
            "linecolor": "white",
            "ticks": ""
           },
           "baxis": {
            "gridcolor": "white",
            "linecolor": "white",
            "ticks": ""
           },
           "bgcolor": "#E5ECF6",
           "caxis": {
            "gridcolor": "white",
            "linecolor": "white",
            "ticks": ""
           }
          },
          "title": {
           "x": 0.05
          },
          "xaxis": {
           "automargin": true,
           "gridcolor": "white",
           "linecolor": "white",
           "ticks": "",
           "title": {
            "standoff": 15
           },
           "zerolinecolor": "white",
           "zerolinewidth": 2
          },
          "yaxis": {
           "automargin": true,
           "gridcolor": "white",
           "linecolor": "white",
           "ticks": "",
           "title": {
            "standoff": 15
           },
           "zerolinecolor": "white",
           "zerolinewidth": 2
          }
         }
        }
       }
      }
     },
     "metadata": {}
    }
   ],
   "metadata": {}
  },
  {
   "cell_type": "markdown",
   "source": [
    "Observe that there is a huge discrepancy between the normal and abnormal graphs for large values on the x-axis. We will now build an autoencoder that will encode the normal data.\n",
    "\n",
    "Build the model. Here we will use `Kera`'s sequential API, with three dense layers for the encoder and three dense layers for the decoder. We will create an `AnormlyDectector` class that inherits from the `Model` class. "
   ],
   "metadata": {}
  },
  {
   "cell_type": "code",
   "execution_count": 31,
   "source": [
    "class AnomalyDetector(Model):\n",
    "  def __init__(self):\n",
    "    super(AnomalyDetector, self).__init__()\n",
    "    self.encoder = tf.keras.Sequential([\n",
    "      layers.Dense(32, activation=\"relu\"),\n",
    "      layers.Dense(16, activation=\"relu\"),\n",
    "      layers.Dense(8, activation=\"relu\")])\n",
    "\n",
    "    self.decoder = tf.keras.Sequential([\n",
    "      layers.Dense(16, activation=\"relu\"),\n",
    "      layers.Dense(32, activation=\"relu\"),\n",
    "      layers.Dense(140, activation=\"sigmoid\")])\n",
    "\n",
    "  def call(self, x):\n",
    "    encoded = self.encoder(x)\n",
    "    decoded = self.decoder(encoded)\n",
    "    return decoded\n",
    "\n",
    "autoencoder = AnomalyDetector()"
   ],
   "outputs": [],
   "metadata": {}
  },
  {
   "cell_type": "markdown",
   "source": [
    "Note that the call method in the `AnormalyDetector` class combines the `encoder` and `decoder` and returns the `decoder` object. Let's `compile`, compilation here will mean we will update our `autoencoder` object with an `optimizer` and a `loss` function. We are using the mean absolute error loss defined as:\n",
    "\n",
    "$$\n",
    "\\text{mae} = \\frac{1}{n}\\sum_{i=1}^n{|y_i-\\hat{y}_i|}.\n",
    "$$\n",
    "\n",
    "Where in this simple formular, we have $n$ data points $ i = 1,2,...,n$, $y_i $ refers to the actual (true/observed) data point and $\\hat{y}_i$ is its estimate. In our use case, $y_i$ is the actual ECG and $\\hat{y}_i$ will be its reconstructed version."
   ],
   "metadata": {}
  },
  {
   "cell_type": "code",
   "execution_count": 32,
   "source": [
    "autoencoder.compile(optimizer='adam', loss='mae')"
   ],
   "outputs": [],
   "metadata": {}
  },
  {
   "cell_type": "markdown",
   "source": [
    "We now train the `autoencoder` by calling its fit method using only the normal rhythm ECG."
   ],
   "metadata": {}
  },
  {
   "cell_type": "code",
   "execution_count": 33,
   "source": [
    "history = autoencoder.fit(normal_train_data, normal_train_data, \n",
    "          epochs=40, \n",
    "          batch_size=1024,\n",
    "          validation_data=(test_data, test_data),\n",
    "          shuffle=True)"
   ],
   "outputs": [
    {
     "output_type": "stream",
     "name": "stdout",
     "text": [
      "Epoch 1/40\n",
      "3/3 [==============================] - 0s 41ms/step - loss: 0.0609 - val_loss: 0.0548\n",
      "Epoch 2/40\n",
      "3/3 [==============================] - 0s 9ms/step - loss: 0.0574 - val_loss: 0.0532\n",
      "Epoch 3/40\n",
      "3/3 [==============================] - 0s 9ms/step - loss: 0.0560 - val_loss: 0.0524\n",
      "Epoch 4/40\n",
      "3/3 [==============================] - 0s 9ms/step - loss: 0.0548 - val_loss: 0.0515\n",
      "Epoch 5/40\n",
      "3/3 [==============================] - 0s 9ms/step - loss: 0.0532 - val_loss: 0.0507\n",
      "Epoch 6/40\n",
      "3/3 [==============================] - 0s 9ms/step - loss: 0.0510 - val_loss: 0.0503\n",
      "Epoch 7/40\n",
      "3/3 [==============================] - 0s 9ms/step - loss: 0.0491 - val_loss: 0.0496\n",
      "Epoch 8/40\n",
      "3/3 [==============================] - 0s 8ms/step - loss: 0.0470 - val_loss: 0.0478\n",
      "Epoch 9/40\n",
      "3/3 [==============================] - 0s 10ms/step - loss: 0.0447 - val_loss: 0.0461\n",
      "Epoch 10/40\n",
      "3/3 [==============================] - 0s 9ms/step - loss: 0.0426 - val_loss: 0.0449\n",
      "Epoch 11/40\n",
      "3/3 [==============================] - 0s 9ms/step - loss: 0.0405 - val_loss: 0.0442\n",
      "Epoch 12/40\n",
      "3/3 [==============================] - 0s 9ms/step - loss: 0.0385 - val_loss: 0.0432\n",
      "Epoch 13/40\n",
      "3/3 [==============================] - 0s 9ms/step - loss: 0.0366 - val_loss: 0.0420\n",
      "Epoch 14/40\n",
      "3/3 [==============================] - 0s 9ms/step - loss: 0.0348 - val_loss: 0.0410\n",
      "Epoch 15/40\n",
      "3/3 [==============================] - 0s 10ms/step - loss: 0.0332 - val_loss: 0.0406\n",
      "Epoch 16/40\n",
      "3/3 [==============================] - 0s 8ms/step - loss: 0.0317 - val_loss: 0.0398\n",
      "Epoch 17/40\n",
      "3/3 [==============================] - 0s 9ms/step - loss: 0.0304 - val_loss: 0.0390\n",
      "Epoch 18/40\n",
      "3/3 [==============================] - 0s 9ms/step - loss: 0.0293 - val_loss: 0.0386\n",
      "Epoch 19/40\n",
      "3/3 [==============================] - 0s 11ms/step - loss: 0.0284 - val_loss: 0.0382\n",
      "Epoch 20/40\n",
      "3/3 [==============================] - 0s 10ms/step - loss: 0.0275 - val_loss: 0.0376\n",
      "Epoch 21/40\n",
      "3/3 [==============================] - 0s 9ms/step - loss: 0.0268 - val_loss: 0.0374\n",
      "Epoch 22/40\n",
      "3/3 [==============================] - 0s 14ms/step - loss: 0.0261 - val_loss: 0.0369\n",
      "Epoch 23/40\n",
      "3/3 [==============================] - 0s 9ms/step - loss: 0.0255 - val_loss: 0.0365\n",
      "Epoch 24/40\n",
      "3/3 [==============================] - 0s 10ms/step - loss: 0.0249 - val_loss: 0.0361\n",
      "Epoch 25/40\n",
      "3/3 [==============================] - 0s 11ms/step - loss: 0.0245 - val_loss: 0.0357\n",
      "Epoch 26/40\n",
      "3/3 [==============================] - 0s 10ms/step - loss: 0.0241 - val_loss: 0.0354\n",
      "Epoch 27/40\n",
      "3/3 [==============================] - 0s 9ms/step - loss: 0.0237 - val_loss: 0.0351\n",
      "Epoch 28/40\n",
      "3/3 [==============================] - 0s 9ms/step - loss: 0.0234 - val_loss: 0.0348\n",
      "Epoch 29/40\n",
      "3/3 [==============================] - 0s 11ms/step - loss: 0.0231 - val_loss: 0.0347\n",
      "Epoch 30/40\n",
      "3/3 [==============================] - 0s 8ms/step - loss: 0.0228 - val_loss: 0.0345\n",
      "Epoch 31/40\n",
      "3/3 [==============================] - 0s 9ms/step - loss: 0.0226 - val_loss: 0.0344\n",
      "Epoch 32/40\n",
      "3/3 [==============================] - 0s 9ms/step - loss: 0.0223 - val_loss: 0.0343\n",
      "Epoch 33/40\n",
      "3/3 [==============================] - 0s 8ms/step - loss: 0.0220 - val_loss: 0.0342\n",
      "Epoch 34/40\n",
      "3/3 [==============================] - 0s 12ms/step - loss: 0.0217 - val_loss: 0.0341\n",
      "Epoch 35/40\n",
      "3/3 [==============================] - 0s 8ms/step - loss: 0.0215 - val_loss: 0.0340\n",
      "Epoch 36/40\n",
      "3/3 [==============================] - 0s 11ms/step - loss: 0.0213 - val_loss: 0.0338\n",
      "Epoch 37/40\n",
      "3/3 [==============================] - 0s 10ms/step - loss: 0.0211 - val_loss: 0.0339\n",
      "Epoch 38/40\n",
      "3/3 [==============================] - 0s 8ms/step - loss: 0.0209 - val_loss: 0.0338\n",
      "Epoch 39/40\n",
      "3/3 [==============================] - 0s 9ms/step - loss: 0.0207 - val_loss: 0.0337\n",
      "Epoch 40/40\n",
      "3/3 [==============================] - 0s 10ms/step - loss: 0.0206 - val_loss: 0.0337\n"
     ]
    }
   ],
   "metadata": {}
  },
  {
   "cell_type": "markdown",
   "source": [
    "Note that although, the training is done on the normal rythm ECG, the validation is done on the entire test dataset. "
   ],
   "metadata": {}
  },
  {
   "cell_type": "code",
   "execution_count": 34,
   "source": [
    "trace1 = go.Scatter(y=history.history[\"loss\"],name='Training loss')\n",
    "trace2 = go.Scatter(y=history.history[\"val_loss\"],name=\"Validation Loss\")\n",
    "\n",
    "data = [trace1,trace2]\n",
    "# py_offline.plot(data, filename='basic-line', include_plotlyjs=False, output_type='div')\n",
    "py_offline.iplot(data)"
   ],
   "outputs": [
    {
     "output_type": "display_data",
     "data": {
      "application/vnd.plotly.v1+json": {
       "config": {
        "linkText": "Export to plot.ly",
        "plotlyServerURL": "https://plot.ly",
        "showLink": false
       },
       "data": [
        {
         "name": "Training loss",
         "type": "scatter",
         "y": [
          0.060881126672029495,
          0.05737188085913658,
          0.05601787194609642,
          0.05484791472554207,
          0.053150925785303116,
          0.0510227307677269,
          0.049064233899116516,
          0.0470331571996212,
          0.04473879560828209,
          0.0426233634352684,
          0.040478695183992386,
          0.03849140554666519,
          0.036582887172698975,
          0.03478528559207916,
          0.03318065404891968,
          0.031740572303533554,
          0.030445706099271774,
          0.02932928502559662,
          0.02835206314921379,
          0.027490444481372833,
          0.02675299346446991,
          0.026097705587744713,
          0.025491351261734962,
          0.024946555495262146,
          0.02447078563272953,
          0.02406817302107811,
          0.023719199001789093,
          0.023409679532051086,
          0.023123227059841156,
          0.022834667935967445,
          0.02255348302423954,
          0.02227557823061943,
          0.022006221115589142,
          0.021748987957835197,
          0.021505584940314293,
          0.021277202293276787,
          0.02106892503798008,
          0.020887015387415886,
          0.020720412954688072,
          0.020587921142578125
         ]
        },
        {
         "name": "Validation Loss",
         "type": "scatter",
         "y": [
          0.0547742024064064,
          0.05318206921219826,
          0.052385520190000534,
          0.05152524635195732,
          0.0507344976067543,
          0.050348348915576935,
          0.049610987305641174,
          0.04784480482339859,
          0.046092499047517776,
          0.04493360593914986,
          0.04420780763030052,
          0.043245669454336166,
          0.041954390704631805,
          0.04103789106011391,
          0.040590424090623856,
          0.039831217378377914,
          0.03899545967578888,
          0.0386456623673439,
          0.03821524232625961,
          0.03761705756187439,
          0.03737949952483177,
          0.036905936896800995,
          0.03647995740175247,
          0.036122992634773254,
          0.03566518425941467,
          0.03540755808353424,
          0.03512515500187874,
          0.03483409807085991,
          0.034688230603933334,
          0.03449255973100662,
          0.03439311310648918,
          0.03425905480980873,
          0.03415243700146675,
          0.034100160002708435,
          0.03398583084344864,
          0.03383808583021164,
          0.0338955856859684,
          0.033781830221414566,
          0.033657222986221313,
          0.033744387328624725
         ]
        }
       ],
       "layout": {
        "template": {
         "data": {
          "bar": [
           {
            "error_x": {
             "color": "#2a3f5f"
            },
            "error_y": {
             "color": "#2a3f5f"
            },
            "marker": {
             "line": {
              "color": "#E5ECF6",
              "width": 0.5
             },
             "pattern": {
              "fillmode": "overlay",
              "size": 10,
              "solidity": 0.2
             }
            },
            "type": "bar"
           }
          ],
          "barpolar": [
           {
            "marker": {
             "line": {
              "color": "#E5ECF6",
              "width": 0.5
             },
             "pattern": {
              "fillmode": "overlay",
              "size": 10,
              "solidity": 0.2
             }
            },
            "type": "barpolar"
           }
          ],
          "carpet": [
           {
            "aaxis": {
             "endlinecolor": "#2a3f5f",
             "gridcolor": "white",
             "linecolor": "white",
             "minorgridcolor": "white",
             "startlinecolor": "#2a3f5f"
            },
            "baxis": {
             "endlinecolor": "#2a3f5f",
             "gridcolor": "white",
             "linecolor": "white",
             "minorgridcolor": "white",
             "startlinecolor": "#2a3f5f"
            },
            "type": "carpet"
           }
          ],
          "choropleth": [
           {
            "colorbar": {
             "outlinewidth": 0,
             "ticks": ""
            },
            "type": "choropleth"
           }
          ],
          "contour": [
           {
            "colorbar": {
             "outlinewidth": 0,
             "ticks": ""
            },
            "colorscale": [
             [
              0,
              "#0d0887"
             ],
             [
              0.1111111111111111,
              "#46039f"
             ],
             [
              0.2222222222222222,
              "#7201a8"
             ],
             [
              0.3333333333333333,
              "#9c179e"
             ],
             [
              0.4444444444444444,
              "#bd3786"
             ],
             [
              0.5555555555555556,
              "#d8576b"
             ],
             [
              0.6666666666666666,
              "#ed7953"
             ],
             [
              0.7777777777777778,
              "#fb9f3a"
             ],
             [
              0.8888888888888888,
              "#fdca26"
             ],
             [
              1,
              "#f0f921"
             ]
            ],
            "type": "contour"
           }
          ],
          "contourcarpet": [
           {
            "colorbar": {
             "outlinewidth": 0,
             "ticks": ""
            },
            "type": "contourcarpet"
           }
          ],
          "heatmap": [
           {
            "colorbar": {
             "outlinewidth": 0,
             "ticks": ""
            },
            "colorscale": [
             [
              0,
              "#0d0887"
             ],
             [
              0.1111111111111111,
              "#46039f"
             ],
             [
              0.2222222222222222,
              "#7201a8"
             ],
             [
              0.3333333333333333,
              "#9c179e"
             ],
             [
              0.4444444444444444,
              "#bd3786"
             ],
             [
              0.5555555555555556,
              "#d8576b"
             ],
             [
              0.6666666666666666,
              "#ed7953"
             ],
             [
              0.7777777777777778,
              "#fb9f3a"
             ],
             [
              0.8888888888888888,
              "#fdca26"
             ],
             [
              1,
              "#f0f921"
             ]
            ],
            "type": "heatmap"
           }
          ],
          "heatmapgl": [
           {
            "colorbar": {
             "outlinewidth": 0,
             "ticks": ""
            },
            "colorscale": [
             [
              0,
              "#0d0887"
             ],
             [
              0.1111111111111111,
              "#46039f"
             ],
             [
              0.2222222222222222,
              "#7201a8"
             ],
             [
              0.3333333333333333,
              "#9c179e"
             ],
             [
              0.4444444444444444,
              "#bd3786"
             ],
             [
              0.5555555555555556,
              "#d8576b"
             ],
             [
              0.6666666666666666,
              "#ed7953"
             ],
             [
              0.7777777777777778,
              "#fb9f3a"
             ],
             [
              0.8888888888888888,
              "#fdca26"
             ],
             [
              1,
              "#f0f921"
             ]
            ],
            "type": "heatmapgl"
           }
          ],
          "histogram": [
           {
            "marker": {
             "pattern": {
              "fillmode": "overlay",
              "size": 10,
              "solidity": 0.2
             }
            },
            "type": "histogram"
           }
          ],
          "histogram2d": [
           {
            "colorbar": {
             "outlinewidth": 0,
             "ticks": ""
            },
            "colorscale": [
             [
              0,
              "#0d0887"
             ],
             [
              0.1111111111111111,
              "#46039f"
             ],
             [
              0.2222222222222222,
              "#7201a8"
             ],
             [
              0.3333333333333333,
              "#9c179e"
             ],
             [
              0.4444444444444444,
              "#bd3786"
             ],
             [
              0.5555555555555556,
              "#d8576b"
             ],
             [
              0.6666666666666666,
              "#ed7953"
             ],
             [
              0.7777777777777778,
              "#fb9f3a"
             ],
             [
              0.8888888888888888,
              "#fdca26"
             ],
             [
              1,
              "#f0f921"
             ]
            ],
            "type": "histogram2d"
           }
          ],
          "histogram2dcontour": [
           {
            "colorbar": {
             "outlinewidth": 0,
             "ticks": ""
            },
            "colorscale": [
             [
              0,
              "#0d0887"
             ],
             [
              0.1111111111111111,
              "#46039f"
             ],
             [
              0.2222222222222222,
              "#7201a8"
             ],
             [
              0.3333333333333333,
              "#9c179e"
             ],
             [
              0.4444444444444444,
              "#bd3786"
             ],
             [
              0.5555555555555556,
              "#d8576b"
             ],
             [
              0.6666666666666666,
              "#ed7953"
             ],
             [
              0.7777777777777778,
              "#fb9f3a"
             ],
             [
              0.8888888888888888,
              "#fdca26"
             ],
             [
              1,
              "#f0f921"
             ]
            ],
            "type": "histogram2dcontour"
           }
          ],
          "mesh3d": [
           {
            "colorbar": {
             "outlinewidth": 0,
             "ticks": ""
            },
            "type": "mesh3d"
           }
          ],
          "parcoords": [
           {
            "line": {
             "colorbar": {
              "outlinewidth": 0,
              "ticks": ""
             }
            },
            "type": "parcoords"
           }
          ],
          "pie": [
           {
            "automargin": true,
            "type": "pie"
           }
          ],
          "scatter": [
           {
            "marker": {
             "colorbar": {
              "outlinewidth": 0,
              "ticks": ""
             }
            },
            "type": "scatter"
           }
          ],
          "scatter3d": [
           {
            "line": {
             "colorbar": {
              "outlinewidth": 0,
              "ticks": ""
             }
            },
            "marker": {
             "colorbar": {
              "outlinewidth": 0,
              "ticks": ""
             }
            },
            "type": "scatter3d"
           }
          ],
          "scattercarpet": [
           {
            "marker": {
             "colorbar": {
              "outlinewidth": 0,
              "ticks": ""
             }
            },
            "type": "scattercarpet"
           }
          ],
          "scattergeo": [
           {
            "marker": {
             "colorbar": {
              "outlinewidth": 0,
              "ticks": ""
             }
            },
            "type": "scattergeo"
           }
          ],
          "scattergl": [
           {
            "marker": {
             "colorbar": {
              "outlinewidth": 0,
              "ticks": ""
             }
            },
            "type": "scattergl"
           }
          ],
          "scattermapbox": [
           {
            "marker": {
             "colorbar": {
              "outlinewidth": 0,
              "ticks": ""
             }
            },
            "type": "scattermapbox"
           }
          ],
          "scatterpolar": [
           {
            "marker": {
             "colorbar": {
              "outlinewidth": 0,
              "ticks": ""
             }
            },
            "type": "scatterpolar"
           }
          ],
          "scatterpolargl": [
           {
            "marker": {
             "colorbar": {
              "outlinewidth": 0,
              "ticks": ""
             }
            },
            "type": "scatterpolargl"
           }
          ],
          "scatterternary": [
           {
            "marker": {
             "colorbar": {
              "outlinewidth": 0,
              "ticks": ""
             }
            },
            "type": "scatterternary"
           }
          ],
          "surface": [
           {
            "colorbar": {
             "outlinewidth": 0,
             "ticks": ""
            },
            "colorscale": [
             [
              0,
              "#0d0887"
             ],
             [
              0.1111111111111111,
              "#46039f"
             ],
             [
              0.2222222222222222,
              "#7201a8"
             ],
             [
              0.3333333333333333,
              "#9c179e"
             ],
             [
              0.4444444444444444,
              "#bd3786"
             ],
             [
              0.5555555555555556,
              "#d8576b"
             ],
             [
              0.6666666666666666,
              "#ed7953"
             ],
             [
              0.7777777777777778,
              "#fb9f3a"
             ],
             [
              0.8888888888888888,
              "#fdca26"
             ],
             [
              1,
              "#f0f921"
             ]
            ],
            "type": "surface"
           }
          ],
          "table": [
           {
            "cells": {
             "fill": {
              "color": "#EBF0F8"
             },
             "line": {
              "color": "white"
             }
            },
            "header": {
             "fill": {
              "color": "#C8D4E3"
             },
             "line": {
              "color": "white"
             }
            },
            "type": "table"
           }
          ]
         },
         "layout": {
          "annotationdefaults": {
           "arrowcolor": "#2a3f5f",
           "arrowhead": 0,
           "arrowwidth": 1
          },
          "autotypenumbers": "strict",
          "coloraxis": {
           "colorbar": {
            "outlinewidth": 0,
            "ticks": ""
           }
          },
          "colorscale": {
           "diverging": [
            [
             0,
             "#8e0152"
            ],
            [
             0.1,
             "#c51b7d"
            ],
            [
             0.2,
             "#de77ae"
            ],
            [
             0.3,
             "#f1b6da"
            ],
            [
             0.4,
             "#fde0ef"
            ],
            [
             0.5,
             "#f7f7f7"
            ],
            [
             0.6,
             "#e6f5d0"
            ],
            [
             0.7,
             "#b8e186"
            ],
            [
             0.8,
             "#7fbc41"
            ],
            [
             0.9,
             "#4d9221"
            ],
            [
             1,
             "#276419"
            ]
           ],
           "sequential": [
            [
             0,
             "#0d0887"
            ],
            [
             0.1111111111111111,
             "#46039f"
            ],
            [
             0.2222222222222222,
             "#7201a8"
            ],
            [
             0.3333333333333333,
             "#9c179e"
            ],
            [
             0.4444444444444444,
             "#bd3786"
            ],
            [
             0.5555555555555556,
             "#d8576b"
            ],
            [
             0.6666666666666666,
             "#ed7953"
            ],
            [
             0.7777777777777778,
             "#fb9f3a"
            ],
            [
             0.8888888888888888,
             "#fdca26"
            ],
            [
             1,
             "#f0f921"
            ]
           ],
           "sequentialminus": [
            [
             0,
             "#0d0887"
            ],
            [
             0.1111111111111111,
             "#46039f"
            ],
            [
             0.2222222222222222,
             "#7201a8"
            ],
            [
             0.3333333333333333,
             "#9c179e"
            ],
            [
             0.4444444444444444,
             "#bd3786"
            ],
            [
             0.5555555555555556,
             "#d8576b"
            ],
            [
             0.6666666666666666,
             "#ed7953"
            ],
            [
             0.7777777777777778,
             "#fb9f3a"
            ],
            [
             0.8888888888888888,
             "#fdca26"
            ],
            [
             1,
             "#f0f921"
            ]
           ]
          },
          "colorway": [
           "#636efa",
           "#EF553B",
           "#00cc96",
           "#ab63fa",
           "#FFA15A",
           "#19d3f3",
           "#FF6692",
           "#B6E880",
           "#FF97FF",
           "#FECB52"
          ],
          "font": {
           "color": "#2a3f5f"
          },
          "geo": {
           "bgcolor": "white",
           "lakecolor": "white",
           "landcolor": "#E5ECF6",
           "showlakes": true,
           "showland": true,
           "subunitcolor": "white"
          },
          "hoverlabel": {
           "align": "left"
          },
          "hovermode": "closest",
          "mapbox": {
           "style": "light"
          },
          "paper_bgcolor": "white",
          "plot_bgcolor": "#E5ECF6",
          "polar": {
           "angularaxis": {
            "gridcolor": "white",
            "linecolor": "white",
            "ticks": ""
           },
           "bgcolor": "#E5ECF6",
           "radialaxis": {
            "gridcolor": "white",
            "linecolor": "white",
            "ticks": ""
           }
          },
          "scene": {
           "xaxis": {
            "backgroundcolor": "#E5ECF6",
            "gridcolor": "white",
            "gridwidth": 2,
            "linecolor": "white",
            "showbackground": true,
            "ticks": "",
            "zerolinecolor": "white"
           },
           "yaxis": {
            "backgroundcolor": "#E5ECF6",
            "gridcolor": "white",
            "gridwidth": 2,
            "linecolor": "white",
            "showbackground": true,
            "ticks": "",
            "zerolinecolor": "white"
           },
           "zaxis": {
            "backgroundcolor": "#E5ECF6",
            "gridcolor": "white",
            "gridwidth": 2,
            "linecolor": "white",
            "showbackground": true,
            "ticks": "",
            "zerolinecolor": "white"
           }
          },
          "shapedefaults": {
           "line": {
            "color": "#2a3f5f"
           }
          },
          "ternary": {
           "aaxis": {
            "gridcolor": "white",
            "linecolor": "white",
            "ticks": ""
           },
           "baxis": {
            "gridcolor": "white",
            "linecolor": "white",
            "ticks": ""
           },
           "bgcolor": "#E5ECF6",
           "caxis": {
            "gridcolor": "white",
            "linecolor": "white",
            "ticks": ""
           }
          },
          "title": {
           "x": 0.05
          },
          "xaxis": {
           "automargin": true,
           "gridcolor": "white",
           "linecolor": "white",
           "ticks": "",
           "title": {
            "standoff": 15
           },
           "zerolinecolor": "white",
           "zerolinewidth": 2
          },
          "yaxis": {
           "automargin": true,
           "gridcolor": "white",
           "linecolor": "white",
           "ticks": "",
           "title": {
            "standoff": 15
           },
           "zerolinecolor": "white",
           "zerolinewidth": 2
          }
         }
        }
       }
      }
     },
     "metadata": {}
    }
   ],
   "metadata": {}
  },
  {
   "cell_type": "markdown",
   "source": [
    "## Reconstruction error\n",
    "\n",
    "We now have a model that can encode and decode ECG. Let's use the model to reconstruct a particular ECG and check the reconstruction error, i.e., the difference between the actual ECG and its reconstruction. \n"
   ],
   "metadata": {}
  },
  {
   "cell_type": "code",
   "execution_count": 35,
   "source": [
    "encoded_data = autoencoder.encoder(normal_test_data).numpy()\n",
    "decoded_data = autoencoder.decoder(encoded_data).numpy()\n",
    "\n",
    "\n",
    "trace1 = go.Scatter(y=normal_test_data[0],name='Input data')\n",
    "trace2 = go.Scatter(y=decoded_data[0],name='Reconstruction & error',\n",
    "                         fill='tonexty')\n",
    "\n",
    "data = [trace1,trace2]\n",
    "# py_offline.plot(data, filename='basic-line', include_plotlyjs=False, output_type='div')\n",
    "py_offline.iplot(data)\n"
   ],
   "outputs": [
    {
     "output_type": "display_data",
     "data": {
      "application/vnd.plotly.v1+json": {
       "config": {
        "linkText": "Export to plot.ly",
        "plotlyServerURL": "https://plot.ly",
        "showLink": false
       },
       "data": [
        {
         "name": "Input data",
         "type": "scatter",
         "y": [
          0.48035767674446106,
          0.2887779176235199,
          0.19828546047210693,
          0.17403002083301544,
          0.19065187871456146,
          0.2570231258869171,
          0.35133999586105347,
          0.3795180916786194,
          0.41933903098106384,
          0.47931399941444397,
          0.5085671544075012,
          0.5021305084228516,
          0.4981786012649536,
          0.5009568333625793,
          0.4963546097278595,
          0.4957442283630371,
          0.49634596705436707,
          0.4871847927570343,
          0.49864014983177185,
          0.49027618765830994,
          0.48405030369758606,
          0.4853919446468353,
          0.4781576991081238,
          0.4776414632797241,
          0.4754825830459595,
          0.4680434465408325,
          0.4633431136608124,
          0.4667298495769501,
          0.4565943777561188,
          0.45639845728874207,
          0.44269412755966187,
          0.4387221038341522,
          0.4350164234638214,
          0.4311322867870331,
          0.43271467089653015,
          0.43053433299064636,
          0.4260518252849579,
          0.4177199602127075,
          0.4224426746368408,
          0.4249061048030853,
          0.4222816526889801,
          0.4255194664001465,
          0.427318811416626,
          0.4344993233680725,
          0.43405434489250183,
          0.4319981336593628,
          0.4433560073375702,
          0.4449458420276642,
          0.4500327408313751,
          0.44775307178497314,
          0.45146772265434265,
          0.4631691873073578,
          0.4599079489707947,
          0.4583589732646942,
          0.46505701541900635,
          0.4695504903793335,
          0.48476895689964294,
          0.4720330536365509,
          0.47590193152427673,
          0.48128950595855713,
          0.48106202483177185,
          0.483425110578537,
          0.4797944724559784,
          0.49654191732406616,
          0.497626930475235,
          0.5003345012664795,
          0.4999160170555115,
          0.4998267590999603,
          0.5085312724113464,
          0.5027685165405273,
          0.5192650556564331,
          0.5174381136894226,
          0.5176679491996765,
          0.5243684649467468,
          0.522845447063446,
          0.523930549621582,
          0.5308157205581665,
          0.5383780002593994,
          0.5319925546646118,
          0.5184898376464844,
          0.5222746729850769,
          0.5139047503471375,
          0.5156378149986267,
          0.5147913098335266,
          0.5096921324729919,
          0.5125722289085388,
          0.5018595457077026,
          0.49053633213043213,
          0.48884034156799316,
          0.4823535084724426,
          0.47934600710868835,
          0.48330995440483093,
          0.4766990542411804,
          0.47691449522972107,
          0.4795263111591339,
          0.4947693347930908,
          0.5108534097671509,
          0.5188336968421936,
          0.5332105159759521,
          0.5425611138343811,
          0.5682035684585571,
          0.5826812386512756,
          0.6099961996078491,
          0.6065466403961182,
          0.5954951047897339,
          0.5819999575614929,
          0.5612176060676575,
          0.5507384538650513,
          0.5170336961746216,
          0.4897701144218445,
          0.4583636224269867,
          0.41286134719848633,
          0.3860044479370117,
          0.3743003010749817,
          0.37155696749687195,
          0.36838045716285706,
          0.3640936613082886,
          0.3643512427806854,
          0.3664138913154602,
          0.3565950393676758,
          0.3636854290962219,
          0.3610741198062897,
          0.3605392873287201,
          0.3603725731372833,
          0.36098870635032654,
          0.3649810552597046,
          0.3636249601840973,
          0.36424019932746887,
          0.3778349459171295,
          0.4150768220424652,
          0.4684041142463684,
          0.46837979555130005,
          0.48350921273231506,
          0.4904227554798126,
          0.4625466465950012,
          0.43603575229644775,
          0.4314790964126587,
          0.45463305711746216,
          0.5246124863624573,
          0.37137290835380554
         ]
        },
        {
         "fill": "tonexty",
         "name": "Reconstruction & error",
         "type": "scatter",
         "y": [
          0.4211139678955078,
          0.25865525007247925,
          0.24008330702781677,
          0.18643057346343994,
          0.20565959811210632,
          0.20449507236480713,
          0.2779737114906311,
          0.3392140865325928,
          0.36661696434020996,
          0.4183783233165741,
          0.4381142258644104,
          0.4396853446960449,
          0.4413248598575592,
          0.44021376967430115,
          0.44198378920555115,
          0.4401436746120453,
          0.43962332606315613,
          0.4399667978286743,
          0.4395817518234253,
          0.43789544701576233,
          0.4372294545173645,
          0.4312587082386017,
          0.43365707993507385,
          0.4320790469646454,
          0.4283924102783203,
          0.42780810594558716,
          0.4248753488063812,
          0.42170509696006775,
          0.41464486718177795,
          0.4164048433303833,
          0.41509634256362915,
          0.4143822193145752,
          0.4032929837703705,
          0.40717995166778564,
          0.4086376428604126,
          0.40623337030410767,
          0.4043534994125366,
          0.40677422285079956,
          0.41011959314346313,
          0.4147307276725769,
          0.41611430048942566,
          0.4218384027481079,
          0.4289390444755554,
          0.43516576290130615,
          0.43787726759910583,
          0.44502389430999756,
          0.45108142495155334,
          0.45328980684280396,
          0.4590255618095398,
          0.45769667625427246,
          0.46136096119880676,
          0.4603812098503113,
          0.4632614552974701,
          0.46573424339294434,
          0.464352548122406,
          0.46402430534362793,
          0.4660276174545288,
          0.4658917486667633,
          0.4679652452468872,
          0.4688555598258972,
          0.4680236876010895,
          0.47265172004699707,
          0.4722634255886078,
          0.4733157455921173,
          0.4748710095882416,
          0.4778974950313568,
          0.4796644449234009,
          0.48304200172424316,
          0.48515957593917847,
          0.4905601143836975,
          0.490031361579895,
          0.49504077434539795,
          0.4984009563922882,
          0.49901631474494934,
          0.4974861741065979,
          0.5001261830329895,
          0.5017163753509521,
          0.49893099069595337,
          0.4987056255340576,
          0.49884411692619324,
          0.49702686071395874,
          0.49887147545814514,
          0.49527961015701294,
          0.49314022064208984,
          0.492933988571167,
          0.49180030822753906,
          0.4906793534755707,
          0.49025318026542664,
          0.48923105001449585,
          0.48968568444252014,
          0.48748886585235596,
          0.48886215686798096,
          0.48524317145347595,
          0.4902147948741913,
          0.49109119176864624,
          0.49232202768325806,
          0.502379834651947,
          0.512647271156311,
          0.5265654921531677,
          0.535173773765564,
          0.5468611717224121,
          0.5614880323410034,
          0.5748189091682434,
          0.5820538401603699,
          0.5816767811775208,
          0.5745159387588501,
          0.5673699975013733,
          0.5595965385437012,
          0.541218101978302,
          0.5268208980560303,
          0.510469913482666,
          0.4866609573364258,
          0.4685308039188385,
          0.45587849617004395,
          0.45123395323753357,
          0.4475152790546417,
          0.44402366876602173,
          0.44443392753601074,
          0.44445425271987915,
          0.44315704703330994,
          0.44405752420425415,
          0.4446355998516083,
          0.44128042459487915,
          0.44441530108451843,
          0.4437938928604126,
          0.44609203934669495,
          0.44651535153388977,
          0.4494967758655548,
          0.4640887677669525,
          0.4956401586532593,
          0.5259790420532227,
          0.5343278646469116,
          0.5406160354614258,
          0.5414353609085083,
          0.5343031883239746,
          0.5158745050430298,
          0.5125278234481812,
          0.5095738172531128,
          0.5143082737922668,
          0.4234619736671448
         ]
        }
       ],
       "layout": {
        "template": {
         "data": {
          "bar": [
           {
            "error_x": {
             "color": "#2a3f5f"
            },
            "error_y": {
             "color": "#2a3f5f"
            },
            "marker": {
             "line": {
              "color": "#E5ECF6",
              "width": 0.5
             },
             "pattern": {
              "fillmode": "overlay",
              "size": 10,
              "solidity": 0.2
             }
            },
            "type": "bar"
           }
          ],
          "barpolar": [
           {
            "marker": {
             "line": {
              "color": "#E5ECF6",
              "width": 0.5
             },
             "pattern": {
              "fillmode": "overlay",
              "size": 10,
              "solidity": 0.2
             }
            },
            "type": "barpolar"
           }
          ],
          "carpet": [
           {
            "aaxis": {
             "endlinecolor": "#2a3f5f",
             "gridcolor": "white",
             "linecolor": "white",
             "minorgridcolor": "white",
             "startlinecolor": "#2a3f5f"
            },
            "baxis": {
             "endlinecolor": "#2a3f5f",
             "gridcolor": "white",
             "linecolor": "white",
             "minorgridcolor": "white",
             "startlinecolor": "#2a3f5f"
            },
            "type": "carpet"
           }
          ],
          "choropleth": [
           {
            "colorbar": {
             "outlinewidth": 0,
             "ticks": ""
            },
            "type": "choropleth"
           }
          ],
          "contour": [
           {
            "colorbar": {
             "outlinewidth": 0,
             "ticks": ""
            },
            "colorscale": [
             [
              0,
              "#0d0887"
             ],
             [
              0.1111111111111111,
              "#46039f"
             ],
             [
              0.2222222222222222,
              "#7201a8"
             ],
             [
              0.3333333333333333,
              "#9c179e"
             ],
             [
              0.4444444444444444,
              "#bd3786"
             ],
             [
              0.5555555555555556,
              "#d8576b"
             ],
             [
              0.6666666666666666,
              "#ed7953"
             ],
             [
              0.7777777777777778,
              "#fb9f3a"
             ],
             [
              0.8888888888888888,
              "#fdca26"
             ],
             [
              1,
              "#f0f921"
             ]
            ],
            "type": "contour"
           }
          ],
          "contourcarpet": [
           {
            "colorbar": {
             "outlinewidth": 0,
             "ticks": ""
            },
            "type": "contourcarpet"
           }
          ],
          "heatmap": [
           {
            "colorbar": {
             "outlinewidth": 0,
             "ticks": ""
            },
            "colorscale": [
             [
              0,
              "#0d0887"
             ],
             [
              0.1111111111111111,
              "#46039f"
             ],
             [
              0.2222222222222222,
              "#7201a8"
             ],
             [
              0.3333333333333333,
              "#9c179e"
             ],
             [
              0.4444444444444444,
              "#bd3786"
             ],
             [
              0.5555555555555556,
              "#d8576b"
             ],
             [
              0.6666666666666666,
              "#ed7953"
             ],
             [
              0.7777777777777778,
              "#fb9f3a"
             ],
             [
              0.8888888888888888,
              "#fdca26"
             ],
             [
              1,
              "#f0f921"
             ]
            ],
            "type": "heatmap"
           }
          ],
          "heatmapgl": [
           {
            "colorbar": {
             "outlinewidth": 0,
             "ticks": ""
            },
            "colorscale": [
             [
              0,
              "#0d0887"
             ],
             [
              0.1111111111111111,
              "#46039f"
             ],
             [
              0.2222222222222222,
              "#7201a8"
             ],
             [
              0.3333333333333333,
              "#9c179e"
             ],
             [
              0.4444444444444444,
              "#bd3786"
             ],
             [
              0.5555555555555556,
              "#d8576b"
             ],
             [
              0.6666666666666666,
              "#ed7953"
             ],
             [
              0.7777777777777778,
              "#fb9f3a"
             ],
             [
              0.8888888888888888,
              "#fdca26"
             ],
             [
              1,
              "#f0f921"
             ]
            ],
            "type": "heatmapgl"
           }
          ],
          "histogram": [
           {
            "marker": {
             "pattern": {
              "fillmode": "overlay",
              "size": 10,
              "solidity": 0.2
             }
            },
            "type": "histogram"
           }
          ],
          "histogram2d": [
           {
            "colorbar": {
             "outlinewidth": 0,
             "ticks": ""
            },
            "colorscale": [
             [
              0,
              "#0d0887"
             ],
             [
              0.1111111111111111,
              "#46039f"
             ],
             [
              0.2222222222222222,
              "#7201a8"
             ],
             [
              0.3333333333333333,
              "#9c179e"
             ],
             [
              0.4444444444444444,
              "#bd3786"
             ],
             [
              0.5555555555555556,
              "#d8576b"
             ],
             [
              0.6666666666666666,
              "#ed7953"
             ],
             [
              0.7777777777777778,
              "#fb9f3a"
             ],
             [
              0.8888888888888888,
              "#fdca26"
             ],
             [
              1,
              "#f0f921"
             ]
            ],
            "type": "histogram2d"
           }
          ],
          "histogram2dcontour": [
           {
            "colorbar": {
             "outlinewidth": 0,
             "ticks": ""
            },
            "colorscale": [
             [
              0,
              "#0d0887"
             ],
             [
              0.1111111111111111,
              "#46039f"
             ],
             [
              0.2222222222222222,
              "#7201a8"
             ],
             [
              0.3333333333333333,
              "#9c179e"
             ],
             [
              0.4444444444444444,
              "#bd3786"
             ],
             [
              0.5555555555555556,
              "#d8576b"
             ],
             [
              0.6666666666666666,
              "#ed7953"
             ],
             [
              0.7777777777777778,
              "#fb9f3a"
             ],
             [
              0.8888888888888888,
              "#fdca26"
             ],
             [
              1,
              "#f0f921"
             ]
            ],
            "type": "histogram2dcontour"
           }
          ],
          "mesh3d": [
           {
            "colorbar": {
             "outlinewidth": 0,
             "ticks": ""
            },
            "type": "mesh3d"
           }
          ],
          "parcoords": [
           {
            "line": {
             "colorbar": {
              "outlinewidth": 0,
              "ticks": ""
             }
            },
            "type": "parcoords"
           }
          ],
          "pie": [
           {
            "automargin": true,
            "type": "pie"
           }
          ],
          "scatter": [
           {
            "marker": {
             "colorbar": {
              "outlinewidth": 0,
              "ticks": ""
             }
            },
            "type": "scatter"
           }
          ],
          "scatter3d": [
           {
            "line": {
             "colorbar": {
              "outlinewidth": 0,
              "ticks": ""
             }
            },
            "marker": {
             "colorbar": {
              "outlinewidth": 0,
              "ticks": ""
             }
            },
            "type": "scatter3d"
           }
          ],
          "scattercarpet": [
           {
            "marker": {
             "colorbar": {
              "outlinewidth": 0,
              "ticks": ""
             }
            },
            "type": "scattercarpet"
           }
          ],
          "scattergeo": [
           {
            "marker": {
             "colorbar": {
              "outlinewidth": 0,
              "ticks": ""
             }
            },
            "type": "scattergeo"
           }
          ],
          "scattergl": [
           {
            "marker": {
             "colorbar": {
              "outlinewidth": 0,
              "ticks": ""
             }
            },
            "type": "scattergl"
           }
          ],
          "scattermapbox": [
           {
            "marker": {
             "colorbar": {
              "outlinewidth": 0,
              "ticks": ""
             }
            },
            "type": "scattermapbox"
           }
          ],
          "scatterpolar": [
           {
            "marker": {
             "colorbar": {
              "outlinewidth": 0,
              "ticks": ""
             }
            },
            "type": "scatterpolar"
           }
          ],
          "scatterpolargl": [
           {
            "marker": {
             "colorbar": {
              "outlinewidth": 0,
              "ticks": ""
             }
            },
            "type": "scatterpolargl"
           }
          ],
          "scatterternary": [
           {
            "marker": {
             "colorbar": {
              "outlinewidth": 0,
              "ticks": ""
             }
            },
            "type": "scatterternary"
           }
          ],
          "surface": [
           {
            "colorbar": {
             "outlinewidth": 0,
             "ticks": ""
            },
            "colorscale": [
             [
              0,
              "#0d0887"
             ],
             [
              0.1111111111111111,
              "#46039f"
             ],
             [
              0.2222222222222222,
              "#7201a8"
             ],
             [
              0.3333333333333333,
              "#9c179e"
             ],
             [
              0.4444444444444444,
              "#bd3786"
             ],
             [
              0.5555555555555556,
              "#d8576b"
             ],
             [
              0.6666666666666666,
              "#ed7953"
             ],
             [
              0.7777777777777778,
              "#fb9f3a"
             ],
             [
              0.8888888888888888,
              "#fdca26"
             ],
             [
              1,
              "#f0f921"
             ]
            ],
            "type": "surface"
           }
          ],
          "table": [
           {
            "cells": {
             "fill": {
              "color": "#EBF0F8"
             },
             "line": {
              "color": "white"
             }
            },
            "header": {
             "fill": {
              "color": "#C8D4E3"
             },
             "line": {
              "color": "white"
             }
            },
            "type": "table"
           }
          ]
         },
         "layout": {
          "annotationdefaults": {
           "arrowcolor": "#2a3f5f",
           "arrowhead": 0,
           "arrowwidth": 1
          },
          "autotypenumbers": "strict",
          "coloraxis": {
           "colorbar": {
            "outlinewidth": 0,
            "ticks": ""
           }
          },
          "colorscale": {
           "diverging": [
            [
             0,
             "#8e0152"
            ],
            [
             0.1,
             "#c51b7d"
            ],
            [
             0.2,
             "#de77ae"
            ],
            [
             0.3,
             "#f1b6da"
            ],
            [
             0.4,
             "#fde0ef"
            ],
            [
             0.5,
             "#f7f7f7"
            ],
            [
             0.6,
             "#e6f5d0"
            ],
            [
             0.7,
             "#b8e186"
            ],
            [
             0.8,
             "#7fbc41"
            ],
            [
             0.9,
             "#4d9221"
            ],
            [
             1,
             "#276419"
            ]
           ],
           "sequential": [
            [
             0,
             "#0d0887"
            ],
            [
             0.1111111111111111,
             "#46039f"
            ],
            [
             0.2222222222222222,
             "#7201a8"
            ],
            [
             0.3333333333333333,
             "#9c179e"
            ],
            [
             0.4444444444444444,
             "#bd3786"
            ],
            [
             0.5555555555555556,
             "#d8576b"
            ],
            [
             0.6666666666666666,
             "#ed7953"
            ],
            [
             0.7777777777777778,
             "#fb9f3a"
            ],
            [
             0.8888888888888888,
             "#fdca26"
            ],
            [
             1,
             "#f0f921"
            ]
           ],
           "sequentialminus": [
            [
             0,
             "#0d0887"
            ],
            [
             0.1111111111111111,
             "#46039f"
            ],
            [
             0.2222222222222222,
             "#7201a8"
            ],
            [
             0.3333333333333333,
             "#9c179e"
            ],
            [
             0.4444444444444444,
             "#bd3786"
            ],
            [
             0.5555555555555556,
             "#d8576b"
            ],
            [
             0.6666666666666666,
             "#ed7953"
            ],
            [
             0.7777777777777778,
             "#fb9f3a"
            ],
            [
             0.8888888888888888,
             "#fdca26"
            ],
            [
             1,
             "#f0f921"
            ]
           ]
          },
          "colorway": [
           "#636efa",
           "#EF553B",
           "#00cc96",
           "#ab63fa",
           "#FFA15A",
           "#19d3f3",
           "#FF6692",
           "#B6E880",
           "#FF97FF",
           "#FECB52"
          ],
          "font": {
           "color": "#2a3f5f"
          },
          "geo": {
           "bgcolor": "white",
           "lakecolor": "white",
           "landcolor": "#E5ECF6",
           "showlakes": true,
           "showland": true,
           "subunitcolor": "white"
          },
          "hoverlabel": {
           "align": "left"
          },
          "hovermode": "closest",
          "mapbox": {
           "style": "light"
          },
          "paper_bgcolor": "white",
          "plot_bgcolor": "#E5ECF6",
          "polar": {
           "angularaxis": {
            "gridcolor": "white",
            "linecolor": "white",
            "ticks": ""
           },
           "bgcolor": "#E5ECF6",
           "radialaxis": {
            "gridcolor": "white",
            "linecolor": "white",
            "ticks": ""
           }
          },
          "scene": {
           "xaxis": {
            "backgroundcolor": "#E5ECF6",
            "gridcolor": "white",
            "gridwidth": 2,
            "linecolor": "white",
            "showbackground": true,
            "ticks": "",
            "zerolinecolor": "white"
           },
           "yaxis": {
            "backgroundcolor": "#E5ECF6",
            "gridcolor": "white",
            "gridwidth": 2,
            "linecolor": "white",
            "showbackground": true,
            "ticks": "",
            "zerolinecolor": "white"
           },
           "zaxis": {
            "backgroundcolor": "#E5ECF6",
            "gridcolor": "white",
            "gridwidth": 2,
            "linecolor": "white",
            "showbackground": true,
            "ticks": "",
            "zerolinecolor": "white"
           }
          },
          "shapedefaults": {
           "line": {
            "color": "#2a3f5f"
           }
          },
          "ternary": {
           "aaxis": {
            "gridcolor": "white",
            "linecolor": "white",
            "ticks": ""
           },
           "baxis": {
            "gridcolor": "white",
            "linecolor": "white",
            "ticks": ""
           },
           "bgcolor": "#E5ECF6",
           "caxis": {
            "gridcolor": "white",
            "linecolor": "white",
            "ticks": ""
           }
          },
          "title": {
           "x": 0.05
          },
          "xaxis": {
           "automargin": true,
           "gridcolor": "white",
           "linecolor": "white",
           "ticks": "",
           "title": {
            "standoff": 15
           },
           "zerolinecolor": "white",
           "zerolinewidth": 2
          },
          "yaxis": {
           "automargin": true,
           "gridcolor": "white",
           "linecolor": "white",
           "ticks": "",
           "title": {
            "standoff": 15
           },
           "zerolinecolor": "white",
           "zerolinewidth": 2
          }
         }
        }
       }
      }
     },
     "metadata": {}
    }
   ],
   "metadata": {}
  },
  {
   "cell_type": "markdown",
   "source": [
    "Let's do the same as above for an abnormal rhythm ECG on the test dataset."
   ],
   "metadata": {}
  },
  {
   "cell_type": "code",
   "execution_count": 36,
   "source": [
    "encoded_data = autoencoder.encoder(abnormal_test_data).numpy()\n",
    "decoded_data = autoencoder.decoder(encoded_data).numpy()\n",
    "\n",
    "\n",
    "trace1 = go.Scatter(y=abnormal_test_data[0],name='Input data')\n",
    "trace2 = go.Scatter(y=decoded_data[0],name='Reconstruction & error',\n",
    "                         fill='tonexty')\n",
    "\n",
    "\n",
    "data = [trace1,trace2]\n",
    "# py_offline.plot(data, filename='basic-line', include_plotlyjs=False, output_type='div')\n",
    "py_offline.iplot(data)"
   ],
   "outputs": [
    {
     "output_type": "display_data",
     "data": {
      "application/vnd.plotly.v1+json": {
       "config": {
        "linkText": "Export to plot.ly",
        "plotlyServerURL": "https://plot.ly",
        "showLink": false
       },
       "data": [
        {
         "name": "Input data",
         "type": "scatter",
         "y": [
          0.3687897026538849,
          0.30728116631507874,
          0.2658798396587372,
          0.2342016100883484,
          0.2289544939994812,
          0.24441950023174286,
          0.2897324562072754,
          0.32673344016075134,
          0.3450625240802765,
          0.35946375131607056,
          0.366017609834671,
          0.38083764910697937,
          0.4098110496997833,
          0.426404744386673,
          0.4301389157772064,
          0.42872142791748047,
          0.4324492812156677,
          0.42882904410362244,
          0.4317876100540161,
          0.4314000606536865,
          0.4309997260570526,
          0.43363940715789795,
          0.43189460039138794,
          0.4334389865398407,
          0.4282280206680298,
          0.4304920434951782,
          0.4316231906414032,
          0.43162646889686584,
          0.4328855872154236,
          0.42824631929397583,
          0.43387359380722046,
          0.4338427782058716,
          0.4270707368850708,
          0.4270402491092682,
          0.4258621335029602,
          0.42957353591918945,
          0.43204739689826965,
          0.42690134048461914,
          0.4267188310623169,
          0.42579153180122375,
          0.42145025730133057,
          0.42689019441604614,
          0.4192477762699127,
          0.42660969495773315,
          0.425228089094162,
          0.4170193672180176,
          0.4184109568595886,
          0.41961243748664856,
          0.41716280579566956,
          0.41829556226730347,
          0.41633373498916626,
          0.4121170938014984,
          0.4156325161457062,
          0.4140487611293793,
          0.4120148718357086,
          0.41335198283195496,
          0.4142370820045471,
          0.41685929894447327,
          0.41644006967544556,
          0.41624537110328674,
          0.4196259379386902,
          0.4177689850330353,
          0.41905897855758667,
          0.42218971252441406,
          0.4196544587612152,
          0.42940545082092285,
          0.4308989942073822,
          0.4307335913181305,
          0.4318483769893646,
          0.43540969491004944,
          0.44192975759506226,
          0.445151150226593,
          0.44695404171943665,
          0.4487036466598511,
          0.45294925570487976,
          0.4540736973285675,
          0.45773977041244507,
          0.4565097689628601,
          0.46157169342041016,
          0.4622882306575775,
          0.46499142050743103,
          0.46702536940574646,
          0.46528127789497375,
          0.4724016785621643,
          0.4684238135814667,
          0.4714818596839905,
          0.4761196970939636,
          0.4806874096393585,
          0.477120041847229,
          0.47579425573349,
          0.4818546175956726,
          0.48146358132362366,
          0.4816263020038605,
          0.4840543866157532,
          0.4852852523326874,
          0.48290780186653137,
          0.4826079308986664,
          0.48741355538368225,
          0.4890534281730652,
          0.49074432253837585,
          0.49717646837234497,
          0.4968552887439728,
          0.4969344139099121,
          0.5008605718612671,
          0.5031581521034241,
          0.5059995651245117,
          0.5076162815093994,
          0.5129083395004272,
          0.5130175948143005,
          0.5137396454811096,
          0.5173085331916809,
          0.5215231776237488,
          0.5224050283432007,
          0.5229285359382629,
          0.5217630863189697,
          0.5279528498649597,
          0.5248215794563293,
          0.5252198576927185,
          0.531267523765564,
          0.5323393940925598,
          0.5313363671302795,
          0.5249910354614258,
          0.531597912311554,
          0.5341436862945557,
          0.5397691130638123,
          0.5453839898109436,
          0.5644707083702087,
          0.5959868431091309,
          0.6098214387893677,
          0.6092298626899719,
          0.6011083722114563,
          0.5885306596755981,
          0.5727330446243286,
          0.5786002278327942,
          0.6149988770484924,
          0.6372957229614258,
          0.6170028448104858,
          0.5855123400688171,
          0.56629878282547,
          0.5726404190063477
         ]
        },
        {
         "fill": "tonexty",
         "name": "Reconstruction & error",
         "type": "scatter",
         "y": [
          0.4203948378562927,
          0.25000298023223877,
          0.2324201464653015,
          0.18065062165260315,
          0.19831597805023193,
          0.19719713926315308,
          0.26916971802711487,
          0.3355468511581421,
          0.3592022657394409,
          0.41164031624794006,
          0.4331091344356537,
          0.43555977940559387,
          0.43634068965911865,
          0.4367620348930359,
          0.4381060302257538,
          0.43666568398475647,
          0.4397215247154236,
          0.4387947916984558,
          0.43761295080184937,
          0.43651875853538513,
          0.4318690001964569,
          0.4315990209579468,
          0.42972424626350403,
          0.42837196588516235,
          0.4269566833972931,
          0.4240744113922119,
          0.42067137360572815,
          0.41987574100494385,
          0.4166836738586426,
          0.41524773836135864,
          0.4078689217567444,
          0.4064202904701233,
          0.40264323353767395,
          0.40242958068847656,
          0.3995741605758667,
          0.40036967396736145,
          0.39969852566719055,
          0.4027336537837982,
          0.4058961272239685,
          0.40822580456733704,
          0.4130118489265442,
          0.4198959767818451,
          0.42686522006988525,
          0.4295395612716675,
          0.43682748079299927,
          0.4429836869239807,
          0.4493972957134247,
          0.4511870741844177,
          0.45314714312553406,
          0.4582357108592987,
          0.4589104652404785,
          0.4602827727794647,
          0.46164488792419434,
          0.4607943296432495,
          0.4620925486087799,
          0.4657469689846039,
          0.46417236328125,
          0.4661109447479248,
          0.46658262610435486,
          0.4661228656768799,
          0.4698016047477722,
          0.4668000340461731,
          0.47160160541534424,
          0.473451167345047,
          0.476045161485672,
          0.4764760136604309,
          0.4806267321109772,
          0.48337244987487793,
          0.485892653465271,
          0.48689907789230347,
          0.4949249029159546,
          0.49370986223220825,
          0.4958372116088867,
          0.4972175061702728,
          0.5013622045516968,
          0.5013407468795776,
          0.4998798370361328,
          0.501836359500885,
          0.5005944967269897,
          0.4980778992176056,
          0.4989781379699707,
          0.4962468445301056,
          0.49631205201148987,
          0.4967252314090729,
          0.4932418167591095,
          0.4923141598701477,
          0.49134954810142517,
          0.4900103211402893,
          0.4882444739341736,
          0.48620957136154175,
          0.48812705278396606,
          0.48512062430381775,
          0.48892784118652344,
          0.4858882427215576,
          0.4898374676704407,
          0.49556416273117065,
          0.5013166069984436,
          0.5137189030647278,
          0.5244280695915222,
          0.537999153137207,
          0.5488914251327515,
          0.563194215297699,
          0.5777692794799805,
          0.5854813456535339,
          0.5852690935134888,
          0.5832630395889282,
          0.5735137462615967,
          0.5584725737571716,
          0.5453700423240662,
          0.5275967121124268,
          0.5071286559104919,
          0.4889855682849884,
          0.4681709408760071,
          0.4527490437030792,
          0.44500041007995605,
          0.4438123106956482,
          0.44293761253356934,
          0.4405760169029236,
          0.440338671207428,
          0.4401891529560089,
          0.4403439164161682,
          0.43970730900764465,
          0.4423357844352722,
          0.4399431347846985,
          0.4438772201538086,
          0.4413563013076782,
          0.44491681456565857,
          0.45157328248023987,
          0.46304935216903687,
          0.49284225702285767,
          0.5261810421943665,
          0.5372120141983032,
          0.5418835878372192,
          0.5442452430725098,
          0.536500871181488,
          0.5191292762756348,
          0.5140501856803894,
          0.511600911617279,
          0.5110554695129395,
          0.4236898720264435
         ]
        }
       ],
       "layout": {
        "template": {
         "data": {
          "bar": [
           {
            "error_x": {
             "color": "#2a3f5f"
            },
            "error_y": {
             "color": "#2a3f5f"
            },
            "marker": {
             "line": {
              "color": "#E5ECF6",
              "width": 0.5
             },
             "pattern": {
              "fillmode": "overlay",
              "size": 10,
              "solidity": 0.2
             }
            },
            "type": "bar"
           }
          ],
          "barpolar": [
           {
            "marker": {
             "line": {
              "color": "#E5ECF6",
              "width": 0.5
             },
             "pattern": {
              "fillmode": "overlay",
              "size": 10,
              "solidity": 0.2
             }
            },
            "type": "barpolar"
           }
          ],
          "carpet": [
           {
            "aaxis": {
             "endlinecolor": "#2a3f5f",
             "gridcolor": "white",
             "linecolor": "white",
             "minorgridcolor": "white",
             "startlinecolor": "#2a3f5f"
            },
            "baxis": {
             "endlinecolor": "#2a3f5f",
             "gridcolor": "white",
             "linecolor": "white",
             "minorgridcolor": "white",
             "startlinecolor": "#2a3f5f"
            },
            "type": "carpet"
           }
          ],
          "choropleth": [
           {
            "colorbar": {
             "outlinewidth": 0,
             "ticks": ""
            },
            "type": "choropleth"
           }
          ],
          "contour": [
           {
            "colorbar": {
             "outlinewidth": 0,
             "ticks": ""
            },
            "colorscale": [
             [
              0,
              "#0d0887"
             ],
             [
              0.1111111111111111,
              "#46039f"
             ],
             [
              0.2222222222222222,
              "#7201a8"
             ],
             [
              0.3333333333333333,
              "#9c179e"
             ],
             [
              0.4444444444444444,
              "#bd3786"
             ],
             [
              0.5555555555555556,
              "#d8576b"
             ],
             [
              0.6666666666666666,
              "#ed7953"
             ],
             [
              0.7777777777777778,
              "#fb9f3a"
             ],
             [
              0.8888888888888888,
              "#fdca26"
             ],
             [
              1,
              "#f0f921"
             ]
            ],
            "type": "contour"
           }
          ],
          "contourcarpet": [
           {
            "colorbar": {
             "outlinewidth": 0,
             "ticks": ""
            },
            "type": "contourcarpet"
           }
          ],
          "heatmap": [
           {
            "colorbar": {
             "outlinewidth": 0,
             "ticks": ""
            },
            "colorscale": [
             [
              0,
              "#0d0887"
             ],
             [
              0.1111111111111111,
              "#46039f"
             ],
             [
              0.2222222222222222,
              "#7201a8"
             ],
             [
              0.3333333333333333,
              "#9c179e"
             ],
             [
              0.4444444444444444,
              "#bd3786"
             ],
             [
              0.5555555555555556,
              "#d8576b"
             ],
             [
              0.6666666666666666,
              "#ed7953"
             ],
             [
              0.7777777777777778,
              "#fb9f3a"
             ],
             [
              0.8888888888888888,
              "#fdca26"
             ],
             [
              1,
              "#f0f921"
             ]
            ],
            "type": "heatmap"
           }
          ],
          "heatmapgl": [
           {
            "colorbar": {
             "outlinewidth": 0,
             "ticks": ""
            },
            "colorscale": [
             [
              0,
              "#0d0887"
             ],
             [
              0.1111111111111111,
              "#46039f"
             ],
             [
              0.2222222222222222,
              "#7201a8"
             ],
             [
              0.3333333333333333,
              "#9c179e"
             ],
             [
              0.4444444444444444,
              "#bd3786"
             ],
             [
              0.5555555555555556,
              "#d8576b"
             ],
             [
              0.6666666666666666,
              "#ed7953"
             ],
             [
              0.7777777777777778,
              "#fb9f3a"
             ],
             [
              0.8888888888888888,
              "#fdca26"
             ],
             [
              1,
              "#f0f921"
             ]
            ],
            "type": "heatmapgl"
           }
          ],
          "histogram": [
           {
            "marker": {
             "pattern": {
              "fillmode": "overlay",
              "size": 10,
              "solidity": 0.2
             }
            },
            "type": "histogram"
           }
          ],
          "histogram2d": [
           {
            "colorbar": {
             "outlinewidth": 0,
             "ticks": ""
            },
            "colorscale": [
             [
              0,
              "#0d0887"
             ],
             [
              0.1111111111111111,
              "#46039f"
             ],
             [
              0.2222222222222222,
              "#7201a8"
             ],
             [
              0.3333333333333333,
              "#9c179e"
             ],
             [
              0.4444444444444444,
              "#bd3786"
             ],
             [
              0.5555555555555556,
              "#d8576b"
             ],
             [
              0.6666666666666666,
              "#ed7953"
             ],
             [
              0.7777777777777778,
              "#fb9f3a"
             ],
             [
              0.8888888888888888,
              "#fdca26"
             ],
             [
              1,
              "#f0f921"
             ]
            ],
            "type": "histogram2d"
           }
          ],
          "histogram2dcontour": [
           {
            "colorbar": {
             "outlinewidth": 0,
             "ticks": ""
            },
            "colorscale": [
             [
              0,
              "#0d0887"
             ],
             [
              0.1111111111111111,
              "#46039f"
             ],
             [
              0.2222222222222222,
              "#7201a8"
             ],
             [
              0.3333333333333333,
              "#9c179e"
             ],
             [
              0.4444444444444444,
              "#bd3786"
             ],
             [
              0.5555555555555556,
              "#d8576b"
             ],
             [
              0.6666666666666666,
              "#ed7953"
             ],
             [
              0.7777777777777778,
              "#fb9f3a"
             ],
             [
              0.8888888888888888,
              "#fdca26"
             ],
             [
              1,
              "#f0f921"
             ]
            ],
            "type": "histogram2dcontour"
           }
          ],
          "mesh3d": [
           {
            "colorbar": {
             "outlinewidth": 0,
             "ticks": ""
            },
            "type": "mesh3d"
           }
          ],
          "parcoords": [
           {
            "line": {
             "colorbar": {
              "outlinewidth": 0,
              "ticks": ""
             }
            },
            "type": "parcoords"
           }
          ],
          "pie": [
           {
            "automargin": true,
            "type": "pie"
           }
          ],
          "scatter": [
           {
            "marker": {
             "colorbar": {
              "outlinewidth": 0,
              "ticks": ""
             }
            },
            "type": "scatter"
           }
          ],
          "scatter3d": [
           {
            "line": {
             "colorbar": {
              "outlinewidth": 0,
              "ticks": ""
             }
            },
            "marker": {
             "colorbar": {
              "outlinewidth": 0,
              "ticks": ""
             }
            },
            "type": "scatter3d"
           }
          ],
          "scattercarpet": [
           {
            "marker": {
             "colorbar": {
              "outlinewidth": 0,
              "ticks": ""
             }
            },
            "type": "scattercarpet"
           }
          ],
          "scattergeo": [
           {
            "marker": {
             "colorbar": {
              "outlinewidth": 0,
              "ticks": ""
             }
            },
            "type": "scattergeo"
           }
          ],
          "scattergl": [
           {
            "marker": {
             "colorbar": {
              "outlinewidth": 0,
              "ticks": ""
             }
            },
            "type": "scattergl"
           }
          ],
          "scattermapbox": [
           {
            "marker": {
             "colorbar": {
              "outlinewidth": 0,
              "ticks": ""
             }
            },
            "type": "scattermapbox"
           }
          ],
          "scatterpolar": [
           {
            "marker": {
             "colorbar": {
              "outlinewidth": 0,
              "ticks": ""
             }
            },
            "type": "scatterpolar"
           }
          ],
          "scatterpolargl": [
           {
            "marker": {
             "colorbar": {
              "outlinewidth": 0,
              "ticks": ""
             }
            },
            "type": "scatterpolargl"
           }
          ],
          "scatterternary": [
           {
            "marker": {
             "colorbar": {
              "outlinewidth": 0,
              "ticks": ""
             }
            },
            "type": "scatterternary"
           }
          ],
          "surface": [
           {
            "colorbar": {
             "outlinewidth": 0,
             "ticks": ""
            },
            "colorscale": [
             [
              0,
              "#0d0887"
             ],
             [
              0.1111111111111111,
              "#46039f"
             ],
             [
              0.2222222222222222,
              "#7201a8"
             ],
             [
              0.3333333333333333,
              "#9c179e"
             ],
             [
              0.4444444444444444,
              "#bd3786"
             ],
             [
              0.5555555555555556,
              "#d8576b"
             ],
             [
              0.6666666666666666,
              "#ed7953"
             ],
             [
              0.7777777777777778,
              "#fb9f3a"
             ],
             [
              0.8888888888888888,
              "#fdca26"
             ],
             [
              1,
              "#f0f921"
             ]
            ],
            "type": "surface"
           }
          ],
          "table": [
           {
            "cells": {
             "fill": {
              "color": "#EBF0F8"
             },
             "line": {
              "color": "white"
             }
            },
            "header": {
             "fill": {
              "color": "#C8D4E3"
             },
             "line": {
              "color": "white"
             }
            },
            "type": "table"
           }
          ]
         },
         "layout": {
          "annotationdefaults": {
           "arrowcolor": "#2a3f5f",
           "arrowhead": 0,
           "arrowwidth": 1
          },
          "autotypenumbers": "strict",
          "coloraxis": {
           "colorbar": {
            "outlinewidth": 0,
            "ticks": ""
           }
          },
          "colorscale": {
           "diverging": [
            [
             0,
             "#8e0152"
            ],
            [
             0.1,
             "#c51b7d"
            ],
            [
             0.2,
             "#de77ae"
            ],
            [
             0.3,
             "#f1b6da"
            ],
            [
             0.4,
             "#fde0ef"
            ],
            [
             0.5,
             "#f7f7f7"
            ],
            [
             0.6,
             "#e6f5d0"
            ],
            [
             0.7,
             "#b8e186"
            ],
            [
             0.8,
             "#7fbc41"
            ],
            [
             0.9,
             "#4d9221"
            ],
            [
             1,
             "#276419"
            ]
           ],
           "sequential": [
            [
             0,
             "#0d0887"
            ],
            [
             0.1111111111111111,
             "#46039f"
            ],
            [
             0.2222222222222222,
             "#7201a8"
            ],
            [
             0.3333333333333333,
             "#9c179e"
            ],
            [
             0.4444444444444444,
             "#bd3786"
            ],
            [
             0.5555555555555556,
             "#d8576b"
            ],
            [
             0.6666666666666666,
             "#ed7953"
            ],
            [
             0.7777777777777778,
             "#fb9f3a"
            ],
            [
             0.8888888888888888,
             "#fdca26"
            ],
            [
             1,
             "#f0f921"
            ]
           ],
           "sequentialminus": [
            [
             0,
             "#0d0887"
            ],
            [
             0.1111111111111111,
             "#46039f"
            ],
            [
             0.2222222222222222,
             "#7201a8"
            ],
            [
             0.3333333333333333,
             "#9c179e"
            ],
            [
             0.4444444444444444,
             "#bd3786"
            ],
            [
             0.5555555555555556,
             "#d8576b"
            ],
            [
             0.6666666666666666,
             "#ed7953"
            ],
            [
             0.7777777777777778,
             "#fb9f3a"
            ],
            [
             0.8888888888888888,
             "#fdca26"
            ],
            [
             1,
             "#f0f921"
            ]
           ]
          },
          "colorway": [
           "#636efa",
           "#EF553B",
           "#00cc96",
           "#ab63fa",
           "#FFA15A",
           "#19d3f3",
           "#FF6692",
           "#B6E880",
           "#FF97FF",
           "#FECB52"
          ],
          "font": {
           "color": "#2a3f5f"
          },
          "geo": {
           "bgcolor": "white",
           "lakecolor": "white",
           "landcolor": "#E5ECF6",
           "showlakes": true,
           "showland": true,
           "subunitcolor": "white"
          },
          "hoverlabel": {
           "align": "left"
          },
          "hovermode": "closest",
          "mapbox": {
           "style": "light"
          },
          "paper_bgcolor": "white",
          "plot_bgcolor": "#E5ECF6",
          "polar": {
           "angularaxis": {
            "gridcolor": "white",
            "linecolor": "white",
            "ticks": ""
           },
           "bgcolor": "#E5ECF6",
           "radialaxis": {
            "gridcolor": "white",
            "linecolor": "white",
            "ticks": ""
           }
          },
          "scene": {
           "xaxis": {
            "backgroundcolor": "#E5ECF6",
            "gridcolor": "white",
            "gridwidth": 2,
            "linecolor": "white",
            "showbackground": true,
            "ticks": "",
            "zerolinecolor": "white"
           },
           "yaxis": {
            "backgroundcolor": "#E5ECF6",
            "gridcolor": "white",
            "gridwidth": 2,
            "linecolor": "white",
            "showbackground": true,
            "ticks": "",
            "zerolinecolor": "white"
           },
           "zaxis": {
            "backgroundcolor": "#E5ECF6",
            "gridcolor": "white",
            "gridwidth": 2,
            "linecolor": "white",
            "showbackground": true,
            "ticks": "",
            "zerolinecolor": "white"
           }
          },
          "shapedefaults": {
           "line": {
            "color": "#2a3f5f"
           }
          },
          "ternary": {
           "aaxis": {
            "gridcolor": "white",
            "linecolor": "white",
            "ticks": ""
           },
           "baxis": {
            "gridcolor": "white",
            "linecolor": "white",
            "ticks": ""
           },
           "bgcolor": "#E5ECF6",
           "caxis": {
            "gridcolor": "white",
            "linecolor": "white",
            "ticks": ""
           }
          },
          "title": {
           "x": 0.05
          },
          "xaxis": {
           "automargin": true,
           "gridcolor": "white",
           "linecolor": "white",
           "ticks": "",
           "title": {
            "standoff": 15
           },
           "zerolinecolor": "white",
           "zerolinewidth": 2
          },
          "yaxis": {
           "automargin": true,
           "gridcolor": "white",
           "linecolor": "white",
           "ticks": "",
           "title": {
            "standoff": 15
           },
           "zerolinecolor": "white",
           "zerolinewidth": 2
          }
         }
        }
       }
      }
     },
     "metadata": {}
    }
   ],
   "metadata": {}
  },
  {
   "cell_type": "markdown",
   "source": [
    "With the naked eye, the two plots above seem to suggest that the reconstruction error for the abnormal rhythm ECG is larger. We will formalize our findings in the next section.\n",
    "\n",
    "## Detecting anomalies\n",
    "\n",
    "Here we will compute the reconstruction error for all the data points both normal and abnormal.  For the reconstruction error, we will use the mean absolute error.\n",
    "We will compute the reconstruction error of the training dataset and choose a threshold  (one standard deviation away from the mean) above which we will classify an ECG as abnormal.\n"
   ],
   "metadata": {}
  },
  {
   "cell_type": "code",
   "execution_count": 37,
   "source": [
    "reconstructions = autoencoder.predict(normal_train_data)\n",
    "train_loss = tf.keras.losses.mae(reconstructions, normal_train_data)\n",
    "\n",
    "fig = go.Figure()\n",
    "fig = fig.add_trace(go.Histogram(x=train_loss[None,:][0],name='Normal loss'))\n",
    "fig.show()\n"
   ],
   "outputs": [
    {
     "output_type": "display_data",
     "data": {
      "application/vnd.plotly.v1+json": {
       "config": {
        "plotlyServerURL": "https://plot.ly"
       },
       "data": [
        {
         "name": "Normal loss",
         "type": "histogram",
         "x": [
          0.027249012142419815,
          0.011343758553266525,
          0.020665228366851807,
          0.019544284790754318,
          0.012097586877644062,
          0.018151750788092613,
          0.02216527983546257,
          0.014678716659545898,
          0.01513493712991476,
          0.017695216462016106,
          0.015180962160229683,
          0.009793208912014961,
          0.012035676278173923,
          0.024834683164954185,
          0.06903086602687836,
          0.021991899237036705,
          0.013793421909213066,
          0.011506360024213791,
          0.04184439778327942,
          0.010238702408969402,
          0.015358982607722282,
          0.011412948369979858,
          0.02187626250088215,
          0.02552684023976326,
          0.025316035374999046,
          0.024908853694796562,
          0.03303873538970947,
          0.018219340592622757,
          0.008674552664160728,
          0.01680881157517433,
          0.023238448426127434,
          0.025534939020872116,
          0.012362922541797161,
          0.01482390146702528,
          0.012648125179111958,
          0.008748744614422321,
          0.013102675788104534,
          0.021072689443826675,
          0.030221495777368546,
          0.00871285330504179,
          0.01568424329161644,
          0.046367816627025604,
          0.013465535826981068,
          0.011683451943099499,
          0.017183365300297737,
          0.015294646844267845,
          0.022611744701862335,
          0.013375665061175823,
          0.02315358817577362,
          0.011315968818962574,
          0.010411604307591915,
          0.007210785057395697,
          0.0202922523021698,
          0.014184916391968727,
          0.012513257563114166,
          0.01569550111889839,
          0.04256703332066536,
          0.029874028638005257,
          0.02060605213046074,
          0.047450922429561615,
          0.028197381645441055,
          0.044430751353502274,
          0.023894472047686577,
          0.022999227046966553,
          0.01021646149456501,
          0.020192397758364677,
          0.023179227486252785,
          0.018169453367590904,
          0.04250461235642433,
          0.011221147142350674,
          0.0882132425904274,
          0.01788976788520813,
          0.015673065558075905,
          0.025798743590712547,
          0.013073909096419811,
          0.012793585658073425,
          0.014136549085378647,
          0.0133224967867136,
          0.05549309402704239,
          0.010749871842563152,
          0.025060631334781647,
          0.016401395201683044,
          0.013928590342402458,
          0.05783192068338394,
          0.013358942233026028,
          0.012771234847605228,
          0.012045647948980331,
          0.013285827822983265,
          0.011826775968074799,
          0.08414822071790695,
          0.009600559249520302,
          0.011378462426364422,
          0.014016890898346901,
          0.013587124645709991,
          0.023647017776966095,
          0.028208661824464798,
          0.02428448013961315,
          0.010503738187253475,
          0.017601341009140015,
          0.008862470276653767,
          0.0579913966357708,
          0.028958013281226158,
          0.022330105304718018,
          0.021599890664219856,
          0.015536596067249775,
          0.01625334657728672,
          0.028752857819199562,
          0.010845418088138103,
          0.010840105824172497,
          0.01778184436261654,
          0.011470029130578041,
          0.01306940708309412,
          0.020067384466528893,
          0.02189219556748867,
          0.02548147179186344,
          0.07639039307832718,
          0.028394503518939018,
          0.01749826781451702,
          0.009759001433849335,
          0.013181167654693127,
          0.012373851612210274,
          0.009751535952091217,
          0.015443569980561733,
          0.01919344812631607,
          0.02708364464342594,
          0.025301618501544,
          0.01324966736137867,
          0.009563389234244823,
          0.021762290969491005,
          0.023563718423247337,
          0.013438413850963116,
          0.04176027700304985,
          0.012875718995928764,
          0.019548358395695686,
          0.017844008281826973,
          0.011531040072441101,
          0.010084080509841442,
          0.023295313119888306,
          0.010380091145634651,
          0.031230589374899864,
          0.05469266325235367,
          0.013906579464673996,
          0.0120484484359622,
          0.023792263120412827,
          0.013473995961248875,
          0.012120186351239681,
          0.011780351400375366,
          0.033463042229413986,
          0.009647157974541187,
          0.06233711913228035,
          0.012324578128755093,
          0.017555108293890953,
          0.021357163786888123,
          0.008598745800554752,
          0.018528595566749573,
          0.06186841055750847,
          0.011325076222419739,
          0.010607906617224216,
          0.016192909330129623,
          0.008679675869643688,
          0.024576997384428978,
          0.012933004647493362,
          0.009719716385006905,
          0.024237830191850662,
          0.013840259984135628,
          0.021565265953540802,
          0.027855070307850838,
          0.015716267749667168,
          0.018546929582953453,
          0.03151652589440346,
          0.0360100083053112,
          0.011779259890317917,
          0.037111639976501465,
          0.015049726702272892,
          0.006609720643609762,
          0.021601513028144836,
          0.010951865464448929,
          0.028030183166265488,
          0.015072980895638466,
          0.014918606728315353,
          0.012406131252646446,
          0.02640528418123722,
          0.014962182380259037,
          0.03639952465891838,
          0.014808379113674164,
          0.01900208741426468,
          0.0294516459107399,
          0.01579979434609413,
          0.02138148620724678,
          0.027461741119623184,
          0.012318958528339863,
          0.05216795951128006,
          0.022487012669444084,
          0.010439072735607624,
          0.018123691901564598,
          0.013903995975852013,
          0.021798178553581238,
          0.017635038122534752,
          0.01092645525932312,
          0.010476301424205303,
          0.016356393694877625,
          0.023532917723059654,
          0.04872845113277435,
          0.013147777877748013,
          0.0233815535902977,
          0.027063200250267982,
          0.009828232228755951,
          0.01195558812469244,
          0.013788009993731976,
          0.014474204741418362,
          0.016173861920833588,
          0.012050935067236423,
          0.012631126679480076,
          0.014604275114834309,
          0.025286201387643814,
          0.015735628083348274,
          0.011461131274700165,
          0.018408922478556633,
          0.014596682041883469,
          0.02709255926311016,
          0.011918275617063046,
          0.034763600677251816,
          0.01633700728416443,
          0.011776651255786419,
          0.01804075948894024,
          0.013396593742072582,
          0.023715006187558174,
          0.021334683522582054,
          0.010253021493554115,
          0.015892688184976578,
          0.014653006568551064,
          0.011072582565248013,
          0.01177151408046484,
          0.014768018387258053,
          0.012929615564644337,
          0.010131350718438625,
          0.019821997731924057,
          0.015746448189020157,
          0.030514724552631378,
          0.027047326788306236,
          0.02389131672680378,
          0.010773851536214352,
          0.010871535167098045,
          0.021738752722740173,
          0.01572975143790245,
          0.020309854298830032,
          0.007926838472485542,
          0.013140765950083733,
          0.013327929191291332,
          0.0229193102568388,
          0.019427606835961342,
          0.022170454263687134,
          0.02963770367205143,
          0.023878172039985657,
          0.014343874529004097,
          0.022893274202942848,
          0.019644934684038162,
          0.02264796756207943,
          0.008780763484537601,
          0.013035229407250881,
          0.012956003658473492,
          0.02758612670004368,
          0.026936644688248634,
          0.02790786698460579,
          0.014626961201429367,
          0.04389313980937004,
          0.008931317366659641,
          0.02003069594502449,
          0.03598489612340927,
          0.02472771890461445,
          0.008633877150714397,
          0.018414488062262535,
          0.009866888634860516,
          0.020349638536572456,
          0.019163526594638824,
          0.01248048897832632,
          0.028123751282691956,
          0.06236201152205467,
          0.017291607335209846,
          0.029056910425424576,
          0.015216837637126446,
          0.013817056082189083,
          0.04556228220462799,
          0.016512887552380562,
          0.012536374852061272,
          0.015077071264386177,
          0.013768007047474384,
          0.010570745915174484,
          0.01539056096225977,
          0.011555323377251625,
          0.00966079905629158,
          0.028889250010252,
          0.017109932377934456,
          0.023932434618473053,
          0.028784899041056633,
          0.019110610708594322,
          0.06306871771812439,
          0.012373815290629864,
          0.029338469728827477,
          0.012959696352481842,
          0.1023460403084755,
          0.007830919697880745,
          0.031605951488018036,
          0.029038483276963234,
          0.021296365186572075,
          0.04816316068172455,
          0.02303796075284481,
          0.017089372500777245,
          0.015800122171640396,
          0.012680296786129475,
          0.029089557006955147,
          0.009937477298080921,
          0.026904545724391937,
          0.017585311084985733,
          0.024537425488233566,
          0.018211007118225098,
          0.009560433216392994,
          0.010492861270904541,
          0.02935175970196724,
          0.012957771308720112,
          0.01616615615785122,
          0.012612517923116684,
          0.0755285769701004,
          0.015180614776909351,
          0.01349947415292263,
          0.01983024738729,
          0.01815563440322876,
          0.011001798324286938,
          0.015495439991354942,
          0.013046913780272007,
          0.02035447023808956,
          0.00889995414763689,
          0.009703586809337139,
          0.012215293012559414,
          0.01923753321170807,
          0.02107173018157482,
          0.007681970950216055,
          0.013629700057208538,
          0.01836210861802101,
          0.02559397928416729,
          0.013265540823340416,
          0.025323182344436646,
          0.009474948979914188,
          0.019528327509760857,
          0.018100064247846603,
          0.01102029625326395,
          0.02535017766058445,
          0.015016940422356129,
          0.021731318905949593,
          0.02773064188659191,
          0.023166628554463387,
          0.022769609466195107,
          0.022845396772027016,
          0.008772295899689198,
          0.06980814784765244,
          0.010721790604293346,
          0.015680402517318726,
          0.009776037186384201,
          0.013661473989486694,
          0.05863839015364647,
          0.014788818545639515,
          0.02160595916211605,
          0.024800118058919907,
          0.03154534846544266,
          0.012390083633363247,
          0.014416871592402458,
          0.02082618698477745,
          0.025528468191623688,
          0.01247853972017765,
          0.02015371434390545,
          0.010437780059874058,
          0.015582415275275707,
          0.027861518785357475,
          0.014698922634124756,
          0.013399837538599968,
          0.07275529950857162,
          0.013497650623321533,
          0.05140003189444542,
          0.02537502720952034,
          0.024323265999555588,
          0.014277864247560501,
          0.01089572161436081,
          0.024118073284626007,
          0.017103757709264755,
          0.02031821571290493,
          0.025447392836213112,
          0.013942635618150234,
          0.038912199437618256,
          0.01318628154695034,
          0.026512570679187775,
          0.03577607125043869,
          0.01597113348543644,
          0.010439303703606129,
          0.02564876340329647,
          0.009957469999790192,
          0.007224065717309713,
          0.024438470602035522,
          0.009298340417444706,
          0.014319987036287785,
          0.018744604662060738,
          0.03073790669441223,
          0.014726875349879265,
          0.010328754782676697,
          0.011197851039469242,
          0.027109889313578606,
          0.013355116359889507,
          0.021021468564867973,
          0.015763893723487854,
          0.02560833841562271,
          0.03556983917951584,
          0.010678034275770187,
          0.014528936706483364,
          0.009377087466418743,
          0.029132431373000145,
          0.01857423037290573,
          0.02385915257036686,
          0.013243167661130428,
          0.040817685425281525,
          0.012842179276049137,
          0.011239681392908096,
          0.013436218723654747,
          0.016726357862353325,
          0.01399647444486618,
          0.04934392124414444,
          0.02457776665687561,
          0.026743853464722633,
          0.04369714483618736,
          0.012867221608757973,
          0.01023358479142189,
          0.034965209662914276,
          0.013689231127500534,
          0.02824106253683567,
          0.019395867362618446,
          0.031960856169462204,
          0.014154629781842232,
          0.027747787535190582,
          0.02653130702674389,
          0.00892200879752636,
          0.016238262876868248,
          0.02542555145919323,
          0.011221748776733875,
          0.023873362690210342,
          0.012281518429517746,
          0.01796288788318634,
          0.05381624028086662,
          0.020581508055329323,
          0.015592798590660095,
          0.012589112855494022,
          0.010727334767580032,
          0.022762779146432877,
          0.02426919713616371,
          0.01712905429303646,
          0.011350150220096111,
          0.027031119912862778,
          0.03112640790641308,
          0.012973101809620857,
          0.02947152964770794,
          0.016086377203464508,
          0.02138712629675865,
          0.016515010967850685,
          0.01176575105637312,
          0.01341239083558321,
          0.023106902837753296,
          0.025629669427871704,
          0.008709202520549297,
          0.035683128982782364,
          0.023027781397104263,
          0.010312514379620552,
          0.020902622491121292,
          0.01729797013103962,
          0.06259548664093018,
          0.020500533282756805,
          0.023652663454413414,
          0.02118140459060669,
          0.013775432482361794,
          0.009331909008324146,
          0.021857693791389465,
          0.02940281480550766,
          0.011933079920709133,
          0.01815444603562355,
          0.019968023523688316,
          0.019235914573073387,
          0.010066952556371689,
          0.013082863762974739,
          0.013006744906306267,
          0.013849443756043911,
          0.016854776069521904,
          0.018876774236559868,
          0.013982757925987244,
          0.012498329393565655,
          0.023461734876036644,
          0.022556820884346962,
          0.01180038321763277,
          0.021026799455285072,
          0.05597349628806114,
          0.02284577675163746,
          0.013158555142581463,
          0.012687155045568943,
          0.014318743720650673,
          0.018551962450146675,
          0.015665104612708092,
          0.009605422616004944,
          0.015180325135588646,
          0.014367364346981049,
          0.01053761038929224,
          0.011228632181882858,
          0.06876833736896515,
          0.026372572407126427,
          0.02363063022494316,
          0.011772430501878262,
          0.01119572576135397,
          0.04581381380558014,
          0.013906608335673809,
          0.013139043934643269,
          0.011667147278785706,
          0.02555065229535103,
          0.029552936553955078,
          0.017760759219527245,
          0.019909579306840897,
          0.017817264422774315,
          0.008791374042630196,
          0.012964431196451187,
          0.02428853139281273,
          0.01556307077407837,
          0.056148964911699295,
          0.012903899885714054,
          0.025414058938622475,
          0.01670456863939762,
          0.022553572431206703,
          0.011015619151294231,
          0.016983551904559135,
          0.018211286514997482,
          0.012491956353187561,
          0.024096179753541946,
          0.011783301830291748,
          0.01469906885176897,
          0.016402747482061386,
          0.015136661008000374,
          0.01147547084838152,
          0.023477105423808098,
          0.014350580982863903,
          0.023752879351377487,
          0.022559601813554764,
          0.00788273848593235,
          0.009605270810425282,
          0.011418493464589119,
          0.015728263184428215,
          0.009402639232575893,
          0.012249975465238094,
          0.01702500693500042,
          0.016634538769721985,
          0.012724099680781364,
          0.012495233677327633,
          0.010643459856510162,
          0.012504532933235168,
          0.04666171595454216,
          0.013704076409339905,
          0.02247408777475357,
          0.019889840856194496,
          0.008765109814703465,
          0.01994021050632,
          0.03170076012611389,
          0.05897029489278793,
          0.028404373675584793,
          0.02577384188771248,
          0.015702715143561363,
          0.011253352276980877,
          0.015327099710702896,
          0.045437030494213104,
          0.02062704600393772,
          0.010211274027824402,
          0.010799931362271309,
          0.00676743546500802,
          0.013533228076994419,
          0.013520396314561367,
          0.012838565744459629,
          0.012670040130615234,
          0.01485352497547865,
          0.023819319903850555,
          0.015531858429312706,
          0.02381844073534012,
          0.011646591126918793,
          0.013240489177405834,
          0.00945135485380888,
          0.03790483623743057,
          0.009551134891808033,
          0.011580470018088818,
          0.018054649233818054,
          0.015915878117084503,
          0.02590540423989296,
          0.009202291257679462,
          0.016620585694909096,
          0.01210732851177454,
          0.010281547904014587,
          0.024335691705346107,
          0.014802075922489166,
          0.026919705793261528,
          0.011400382965803146,
          0.07347659021615982,
          0.029958272352814674,
          0.010093418881297112,
          0.01016425620764494,
          0.030989058315753937,
          0.02357782982289791,
          0.03554172068834305,
          0.013608046807348728,
          0.023503731936216354,
          0.03592480346560478,
          0.010032758116722107,
          0.01715659722685814,
          0.0212345402687788,
          0.02052336372435093,
          0.013083210214972496,
          0.013915199786424637,
          0.011532449163496494,
          0.023278867825865746,
          0.04829118773341179,
          0.01686323992908001,
          0.014026853255927563,
          0.014905449002981186,
          0.032160915434360504,
          0.011141536757349968,
          0.009674745611846447,
          0.010711701586842537,
          0.013491097837686539,
          0.02783924899995327,
          0.015424095094203949,
          0.012957639992237091,
          0.03194707632064819,
          0.01812855899333954,
          0.01530509814620018,
          0.00959940254688263,
          0.0139223113656044,
          0.03904856741428375,
          0.02662409283220768,
          0.009449208155274391,
          0.011890390887856483,
          0.01821429654955864,
          0.0133691830560565,
          0.008523874916136265,
          0.04023018106818199,
          0.012535614892840385,
          0.01113313902169466,
          0.019234592095017433,
          0.017621483653783798,
          0.031004218384623528,
          0.032077886164188385,
          0.011468395590782166,
          0.011767308227717876,
          0.01803017593920231,
          0.017597557976841927,
          0.008333040401339531,
          0.020369471982121468,
          0.022530609741806984,
          0.012600619345903397,
          0.011631540022790432,
          0.011841094121336937,
          0.019898055121302605,
          0.008839800953865051,
          0.013268841430544853,
          0.0341888852417469,
          0.0316932238638401,
          0.017283698543906212,
          0.022211892530322075,
          0.012714987620711327,
          0.015275354497134686,
          0.012979010120034218,
          0.011410227045416832,
          0.011526191607117653,
          0.014063063077628613,
          0.009215409867465496,
          0.03566219285130501,
          0.020983608439564705,
          0.011257888749241829,
          0.01982148550450802,
          0.011520780622959137,
          0.017110224813222885,
          0.013640068471431732,
          0.08292658627033234,
          0.008179557509720325,
          0.012470192275941372,
          0.031069468706846237,
          0.030649099498987198,
          0.019969923421740532,
          0.04374896362423897,
          0.012091475538909435,
          0.00990019366145134,
          0.012567163445055485,
          0.011272127740085125,
          0.029114410281181335,
          0.011529697105288506,
          0.047217655926942825,
          0.009383524768054485,
          0.02060241810977459,
          0.018369661644101143,
          0.022972846403717995,
          0.051552895456552505,
          0.02375997044146061,
          0.03122507780790329,
          0.015622992068529129,
          0.02838735096156597,
          0.00913941115140915,
          0.028485625982284546,
          0.010182876139879227,
          0.016920078545808792,
          0.023320617154240608,
          0.012886341661214828,
          0.033027127385139465,
          0.01680755242705345,
          0.017902854830026627,
          0.009031068533658981,
          0.014725927263498306,
          0.015314332209527493,
          0.01925012469291687,
          0.024791469797492027,
          0.03875262290239334,
          0.021765010431408882,
          0.010374308563768864,
          0.019111594185233116,
          0.018616296350955963,
          0.012988011352717876,
          0.01412090566009283,
          0.014818296767771244,
          0.016590945422649384,
          0.009727940894663334,
          0.009898818098008633,
          0.028160810470581055,
          0.01107092946767807,
          0.022733114659786224,
          0.01021385658532381,
          0.009362642653286457,
          0.03938142582774162,
          0.02332296036183834,
          0.013520033098757267,
          0.011521630920469761,
          0.02495713345706463,
          0.011655372567474842,
          0.00916489027440548,
          0.012802708894014359,
          0.06335145235061646,
          0.03193947300314903,
          0.030405821278691292,
          0.02266170270740986,
          0.024838443845510483,
          0.013807828538119793,
          0.02735353447496891,
          0.012935486622154713,
          0.011155514977872372,
          0.009988568723201752,
          0.03238056227564812,
          0.016674119979143143,
          0.008442508056759834,
          0.015876928344368935,
          0.06353771686553955,
          0.020022843033075333,
          0.02932227961719036,
          0.08081819862127304,
          0.016688723117113113,
          0.009854755364358425,
          0.013212130405008793,
          0.019393345341086388,
          0.01587778888642788,
          0.07971255481243134,
          0.024286245927214622,
          0.015155477449297905,
          0.03362056985497475,
          0.013139818795025349,
          0.030710455030202866,
          0.025650516152381897,
          0.05025950074195862,
          0.03153824061155319,
          0.013434494845569134,
          0.014379199594259262,
          0.020089950412511826,
          0.02648867666721344,
          0.01206307765096426,
          0.06419568508863449,
          0.010742311365902424,
          0.02223038300871849,
          0.022058213129639626,
          0.026242252439260483,
          0.014500681310892105,
          0.038033660501241684,
          0.014742148108780384,
          0.013393945060670376,
          0.026524970307946205,
          0.014886060729622841,
          0.012065684422850609,
          0.023683752864599228,
          0.012876907363533974,
          0.012935365550220013,
          0.012960423715412617,
          0.009293995797634125,
          0.01688135415315628,
          0.016115374863147736,
          0.010246084071695805,
          0.012550975196063519,
          0.010698470287024975,
          0.016552334651350975,
          0.022709570825099945,
          0.019895732402801514,
          0.020398251712322235,
          0.008448841981589794,
          0.013948737643659115,
          0.010705828666687012,
          0.007383550051599741,
          0.01222121249884367,
          0.013313825242221355,
          0.014167712070047855,
          0.018057046458125114,
          0.011740113608539104,
          0.015812767669558525,
          0.014197313226759434,
          0.021142084151506424,
          0.01622006855905056,
          0.019700495526194572,
          0.02785927802324295,
          0.017918981611728668,
          0.015681067481637,
          0.020612569525837898,
          0.026469290256500244,
          0.029764072969555855,
          0.023259490728378296,
          0.05219843611121178,
          0.030563000589609146,
          0.028808264061808586,
          0.023902811110019684,
          0.014852459542453289,
          0.02201438881456852,
          0.027622470632195473,
          0.020393574610352516,
          0.025838185101747513,
          0.02658046968281269,
          0.03524971753358841,
          0.019147206097841263,
          0.012999581173062325,
          0.011391769163310528,
          0.024648170918226242,
          0.02867523953318596,
          0.016435332596302032,
          0.025312550365924835,
          0.022748181596398354,
          0.013425183482468128,
          0.01208420004695654,
          0.022162070497870445,
          0.011984847486019135,
          0.024520069360733032,
          0.013906684704124928,
          0.01622721180319786,
          0.023589184507727623,
          0.02530643343925476,
          0.02853984571993351,
          0.02647661790251732,
          0.01076283399015665,
          0.011069882661104202,
          0.02390878275036812,
          0.0107002854347229,
          0.017827486619353294,
          0.013275445438921452,
          0.0381539911031723,
          0.0252964049577713,
          0.0196616780012846,
          0.008928953669965267,
          0.018584031611680984,
          0.015365814790129662,
          0.013481363654136658,
          0.012219348922371864,
          0.0067605809308588505,
          0.02636438049376011,
          0.01520561520010233,
          0.029063060879707336,
          0.010152474045753479,
          0.02549002692103386,
          0.01063904631882906,
          0.018001630902290344,
          0.028986304998397827,
          0.02846374548971653,
          0.01640285924077034,
          0.025913048535585403,
          0.02178158052265644,
          0.015752645209431648,
          0.019640767946839333,
          0.009707819670438766,
          0.007776943501085043,
          0.010854240506887436,
          0.016468679532408714,
          0.018337080255150795,
          0.0175295639783144,
          0.03368915989995003,
          0.02248530276119709,
          0.022822514176368713,
          0.017749516293406487,
          0.014210063964128494,
          0.02615901082754135,
          0.00941168051213026,
          0.012926010414958,
          0.024440590292215347,
          0.010086164809763432,
          0.02038928121328354,
          0.01974043995141983,
          0.030393116176128387,
          0.04052017256617546,
          0.009534760378301144,
          0.033108584582805634,
          0.01337076723575592,
          0.01111373770982027,
          0.011210682801902294,
          0.011628245003521442,
          0.013066412881016731,
          0.02319425158202648,
          0.011033684946596622,
          0.013931069523096085,
          0.027079863473773003,
          0.021634886041283607,
          0.015347684733569622,
          0.01778506301343441,
          0.010038932785391808,
          0.02549736015498638,
          0.013890871778130531,
          0.014065002091228962,
          0.012400228530168533,
          0.021825838834047318,
          0.02343900501728058,
          0.052667513489723206,
          0.018752237781882286,
          0.022701850160956383,
          0.0097959004342556,
          0.023884877562522888,
          0.015442720614373684,
          0.06105354055762291,
          0.016343288123607635,
          0.012214798480272293,
          0.030926872044801712,
          0.010757855139672756,
          0.02506106160581112,
          0.014476985670626163,
          0.024542631581425667,
          0.02303013764321804,
          0.03676571324467659,
          0.01778242364525795,
          0.009546720422804356,
          0.03506693243980408,
          0.020799363031983376,
          0.030560974031686783,
          0.031723398715257645,
          0.010507239028811455,
          0.02452045865356922,
          0.012291458435356617,
          0.024124931544065475,
          0.02838936820626259,
          0.02860245294868946,
          0.018432464450597763,
          0.025992080569267273,
          0.027797890827059746,
          0.028069166466593742,
          0.021291721612215042,
          0.010582784190773964,
          0.02348003350198269,
          0.010680693201720715,
          0.013060901314020157,
          0.011244124732911587,
          0.01126126665621996,
          0.031424861401319504,
          0.019336355850100517,
          0.033540207892656326,
          0.022451894357800484,
          0.02197187766432762,
          0.008780857548117638,
          0.014726543799042702,
          0.0230904221534729,
          0.024412086233496666,
          0.014993562363088131,
          0.011497451923787594,
          0.008030928671360016,
          0.00894812773913145,
          0.030505184084177017,
          0.021814465522766113,
          0.017348604276776314,
          0.03744484484195709,
          0.013522474095225334,
          0.010512476786971092,
          0.013096347451210022,
          0.016771651804447174,
          0.0071018473245203495,
          0.019770799204707146,
          0.011206010356545448,
          0.015271684154868126,
          0.01416352391242981,
          0.021091144531965256,
          0.009506038390100002,
          0.019392021000385284,
          0.029133887961506844,
          0.015787173062562943,
          0.01393092144280672,
          0.03253866732120514,
          0.014412684366106987,
          0.011866855435073376,
          0.02860068529844284,
          0.01023750938475132,
          0.013967610895633698,
          0.01676369644701481,
          0.02444557100534439,
          0.01702648401260376,
          0.013540533371269703,
          0.01519776415079832,
          0.016085674986243248,
          0.024192804470658302,
          0.062058087438344955,
          0.013863212428987026,
          0.030372384935617447,
          0.010165134444832802,
          0.011469352059066296,
          0.009105668403208256,
          0.02672717534005642,
          0.01738068088889122,
          0.02746286429464817,
          0.04144533723592758,
          0.01928654871881008,
          0.01707407645881176,
          0.014867653138935566,
          0.024452505633234978,
          0.0358048714697361,
          0.022402428090572357,
          0.06746796518564224,
          0.017342740669846535,
          0.011522808112204075,
          0.011550206691026688,
          0.012098914943635464,
          0.03007037378847599,
          0.01577087678015232,
          0.011071416549384594,
          0.024927355349063873,
          0.014724932610988617,
          0.026105087250471115,
          0.018661340698599815,
          0.07149413228034973,
          0.025977281853556633,
          0.01011192612349987,
          0.029996782541275024,
          0.011203122325241566,
          0.02646810933947563,
          0.011297157034277916,
          0.01014897134155035,
          0.016243377700448036,
          0.01342750620096922,
          0.01715102791786194,
          0.01622604951262474,
          0.05952849239110947,
          0.04308634623885155,
          0.015648026019334793,
          0.012563410215079784,
          0.037903670221567154,
          0.012606958858668804,
          0.025760356336832047,
          0.01747358962893486,
          0.017049333080649376,
          0.020165955647826195,
          0.02304214984178543,
          0.011269076727330685,
          0.03749056160449982,
          0.011489377357065678,
          0.010582835413515568,
          0.014062227681279182,
          0.013061389327049255,
          0.030911585316061974,
          0.012025894597172737,
          0.019523002207279205,
          0.028764396905899048,
          0.008781450800597668,
          0.02109105885028839,
          0.014653927646577358,
          0.022120323032140732,
          0.09405230730772018,
          0.02087138406932354,
          0.03714815154671669,
          0.021783040836453438,
          0.021808000281453133,
          0.012559158727526665,
          0.010360228829085827,
          0.01264051254838705,
          0.03290152922272682,
          0.01850828528404236,
          0.05408342182636261,
          0.013456780463457108,
          0.06397964805364609,
          0.013111847452819347,
          0.0232557225972414,
          0.03456561639904976,
          0.015361354686319828,
          0.023197783157229424,
          0.01012916024774313,
          0.01183624193072319,
          0.020122583955526352,
          0.015870684757828712,
          0.0210211630910635,
          0.019140291959047318,
          0.016168393194675446,
          0.010767930187284946,
          0.0209516454488039,
          0.021672697737812996,
          0.013358669355511665,
          0.06296423077583313,
          0.02491617202758789,
          0.03157544136047363,
          0.033401694148778915,
          0.0290580615401268,
          0.0197951290756464,
          0.07206563651561737,
          0.021707961335778236,
          0.011937870644032955,
          0.00945617351680994,
          0.009499678388237953,
          0.011247762478888035,
          0.01394339744001627,
          0.015794893726706505,
          0.009844952262938023,
          0.021484574303030968,
          0.014826733618974686,
          0.013451099395751953,
          0.012788733467459679,
          0.01686284691095352,
          0.031074775382876396,
          0.032061271369457245,
          0.012396158650517464,
          0.03838781267404556,
          0.025188254192471504,
          0.02725374698638916,
          0.015652574598789215,
          0.05746810883283615,
          0.013349899090826511,
          0.02547875978052616,
          0.014513732865452766,
          0.019172130152583122,
          0.00980027299374342,
          0.01629415899515152,
          0.04070241376757622,
          0.012555974535644054,
          0.02529190108180046,
          0.012509174644947052,
          0.010443031787872314,
          0.02031669020652771,
          0.01239085290580988,
          0.024440914392471313,
          0.013694610446691513,
          0.017474761232733727,
          0.01962805911898613,
          0.014064325951039791,
          0.019046206027269363,
          0.01521735917776823,
          0.01474099699407816,
          0.02137368731200695,
          0.01150081492960453,
          0.01596626453101635,
          0.023715976625680923,
          0.015635833144187927,
          0.0358477421104908,
          0.02039528638124466,
          0.016504814848303795,
          0.013606422580778599,
          0.024313878268003464,
          0.012895193882286549,
          0.023031264543533325,
          0.044566910713911057,
          0.0225072018802166,
          0.03208177164196968,
          0.025824720039963722,
          0.013220366090536118,
          0.02710697054862976,
          0.01136732567101717,
          0.03749220073223114,
          0.015529067255556583,
          0.028687801212072372,
          0.02913360297679901,
          0.02107379026710987,
          0.014017727226018906,
          0.014272070489823818,
          0.014373666606843472,
          0.01685226894915104,
          0.016132621094584465,
          0.015704581514000893,
          0.03162824362516403,
          0.03551133722066879,
          0.012295729480683804,
          0.019116073846817017,
          0.013041491620242596,
          0.011851017363369465,
          0.00879830401390791,
          0.0265794787555933,
          0.01567954197525978,
          0.011859611608088017,
          0.022763175889849663,
          0.0254516564309597,
          0.016710279509425163,
          0.016373038291931152,
          0.018267076462507248,
          0.018990829586982727,
          0.009012538939714432,
          0.01962188258767128,
          0.012114092707633972,
          0.03357801213860512,
          0.03973842412233353,
          0.040051575750112534,
          0.012065856717526913,
          0.012163487263023853,
          0.007827549241483212,
          0.014800616540014744,
          0.0520717091858387,
          0.015080098062753677,
          0.016450505703687668,
          0.010330243967473507,
          0.02495758794248104,
          0.013803457841277122,
          0.01647728867828846,
          0.015731437131762505,
          0.04453936591744423,
          0.01609349064528942,
          0.020104192197322845,
          0.026588981971144676,
          0.027037309482693672,
          0.011524524539709091,
          0.014810815453529358,
          0.01694081537425518,
          0.015360583551228046,
          0.015301289036870003,
          0.011835542507469654,
          0.033812642097473145,
          0.016032829880714417,
          0.024519814178347588,
          0.031081482768058777,
          0.020958075299859047,
          0.023046033456921577,
          0.025107866153120995,
          0.013819566927850246,
          0.009212756529450417,
          0.009003871120512486,
          0.014082529582083225,
          0.025649240240454674,
          0.07762540131807327,
          0.010040759108960629,
          0.01605520024895668,
          0.0328415185213089,
          0.01464876625686884,
          0.01595393195748329,
          0.013348250649869442,
          0.01934562250971794,
          0.008889065124094486,
          0.025473132729530334,
          0.016239792108535767,
          0.013983527198433876,
          0.014390286058187485,
          0.009825034067034721,
          0.010946117341518402,
          0.02509714663028717,
          0.010722295381128788,
          0.010644164867699146,
          0.011405492201447487,
          0.0072361743077635765,
          0.011769035831093788,
          0.0415172353386879,
          0.06125675514340401,
          0.023432370275259018,
          0.02155391499400139,
          0.02871732786297798,
          0.015214338898658752,
          0.014495735056698322,
          0.013211564160883427,
          0.010106473229825497,
          0.018354875966906548,
          0.009428325109183788,
          0.02669873833656311,
          0.02509901486337185,
          0.02880653738975525,
          0.026187032461166382,
          0.01428663358092308,
          0.01124697457998991,
          0.011993919499218464,
          0.011699939146637917,
          0.014776762574911118,
          0.036151766777038574,
          0.02012058161199093,
          0.026715464890003204,
          0.026572100818157196,
          0.019102156162261963,
          0.010627366602420807,
          0.014988330192863941,
          0.0203572865575552,
          0.021558664739131927,
          0.014495798386633396,
          0.09032309055328369,
          0.020705360919237137,
          0.018853573128581047,
          0.00744993519037962,
          0.02722812630236149,
          0.015303930267691612,
          0.01997368223965168,
          0.013371499255299568,
          0.01386649813503027,
          0.014354660175740719,
          0.013985945843160152,
          0.02276717685163021,
          0.02707287110388279,
          0.015904419124126434,
          0.03253820911049843,
          0.01305285282433033,
          0.01215000357478857,
          0.016773954033851624,
          0.011494963429868221,
          0.025827884674072266,
          0.013936179690063,
          0.014533162117004395,
          0.028097523376345634,
          0.013037039898335934,
          0.011134590022265911,
          0.008210836909711361,
          0.015385556034743786,
          0.014491369016468525,
          0.026122672483325005,
          0.015322335995733738,
          0.02555849403142929,
          0.009381839074194431,
          0.015907756984233856,
          0.011715061962604523,
          0.011208620853722095,
          0.014225982129573822,
          0.022683128714561462,
          0.0229015052318573,
          0.00913697574287653,
          0.024663742631673813,
          0.022396812215447426,
          0.018022548407316208,
          0.027209870517253876,
          0.00828107725828886,
          0.013420021161437035,
          0.03320947289466858,
          0.013473976403474808,
          0.014652655459940434,
          0.0247840266674757,
          0.015147661790251732,
          0.023993154987692833,
          0.024899819865822792,
          0.0111865708604455,
          0.014099960215389729,
          0.011932934634387493,
          0.011347789317369461,
          0.027118103578686714,
          0.016530390828847885,
          0.0206291601061821,
          0.019550170749425888,
          0.011876299045979977,
          0.02285246178507805,
          0.023476600646972656,
          0.010364782996475697,
          0.012810850515961647,
          0.018201999366283417,
          0.01635509356856346,
          0.01625523902475834,
          0.012155805714428425,
          0.025215743109583855,
          0.009167330339550972,
          0.019465278834104538,
          0.03345074877142906,
          0.015539097599685192,
          0.013388684950768948,
          0.015645982697606087,
          0.009611789137125015,
          0.02104056440293789,
          0.06421380490064621,
          0.04595425724983215,
          0.03004870004951954,
          0.017317064106464386,
          0.01235175970941782,
          0.014968015253543854,
          0.01419435441493988,
          0.023560864850878716,
          0.013991078361868858,
          0.021365102380514145,
          0.02507806569337845,
          0.014715349301695824,
          0.014936896972358227,
          0.008909417316317558,
          0.017892831936478615,
          0.01818716712296009,
          0.015792241320014,
          0.011584929190576077,
          0.019589683040976524,
          0.00901434663683176,
          0.018324313685297966,
          0.01631038449704647,
          0.020451458171010017,
          0.043240368366241455,
          0.012002219446003437,
          0.04675520211458206,
          0.05920014530420303,
          0.02723928540945053,
          0.03280484303832054,
          0.017415037378668785,
          0.013728325255215168,
          0.013476048596203327,
          0.016385292634367943,
          0.012907733209431171,
          0.011646687053143978,
          0.015295090153813362,
          0.01997082494199276,
          0.02582278847694397,
          0.02199796959757805,
          0.012608539313077927,
          0.07940973341464996,
          0.01517921220511198,
          0.02510066144168377,
          0.010624180547893047,
          0.011133499443531036,
          0.026936719194054604,
          0.008729707449674606,
          0.015470840036869049,
          0.016765188425779343,
          0.030169108882546425,
          0.02115260437130928,
          0.011469408869743347,
          0.0588269904255867,
          0.02076677605509758,
          0.026433568447828293,
          0.021477947011590004,
          0.01424467284232378,
          0.012744472362101078,
          0.01584567315876484,
          0.01766122877597809,
          0.025299638509750366,
          0.013518723659217358,
          0.016099266707897186,
          0.011932930909097195,
          0.012062249705195427,
          0.029873507097363472,
          0.014516275376081467,
          0.022605234757065773,
          0.01998341828584671,
          0.012223695404827595,
          0.011933881789445877,
          0.023062381893396378,
          0.09777571260929108,
          0.06599567830562592,
          0.03797590360045433,
          0.02900049090385437,
          0.02263045683503151,
          0.021604396402835846,
          0.012167610228061676,
          0.018234679475426674,
          0.013145205564796925,
          0.0253014974296093,
          0.03771405294537544,
          0.03244469687342644,
          0.016845734789967537,
          0.020849255844950676,
          0.011045369319617748,
          0.01927606575191021,
          0.021555228158831596,
          0.022425325587391853,
          0.0278408732265234,
          0.018554696813225746,
          0.014019009657204151,
          0.02403915673494339,
          0.010712487623095512,
          0.013801311142742634,
          0.014530633576214314,
          0.014455941505730152,
          0.03593222424387932,
          0.017836900427937508,
          0.018339626491069794,
          0.022893503308296204,
          0.01609622687101364,
          0.01373039186000824,
          0.019506437703967094,
          0.028214717283844948,
          0.03128044307231903,
          0.012076985090970993,
          0.01043684221804142,
          0.022158218547701836,
          0.025583576411008835,
          0.009677093476057053,
          0.031429268419742584,
          0.013765718787908554,
          0.012511217035353184,
          0.012992382049560547,
          0.012146150693297386,
          0.010752682574093342,
          0.023061314597725868,
          0.01593169942498207,
          0.009589261375367641,
          0.013325112871825695,
          0.018272535875439644,
          0.010394924320280552,
          0.010925042442977428,
          0.0163266584277153,
          0.021620098501443863,
          0.02376340888440609,
          0.024129532277584076,
          0.011978578753769398,
          0.009484052658081055,
          0.01563151925802231,
          0.014970830641686916,
          0.02402988262474537,
          0.026834070682525635,
          0.008684679865837097,
          0.013776031322777271,
          0.026111258193850517,
          0.011763243936002254,
          0.01710326597094536,
          0.015121950767934322,
          0.010592272505164146,
          0.017005188390612602,
          0.017085779458284378,
          0.013313844799995422,
          0.020458806306123734,
          0.015485377050936222,
          0.01118321530520916,
          0.0612977109849453,
          0.02640666253864765,
          0.03296194598078728,
          0.023612406104803085,
          0.012541155330836773,
          0.026417654007673264,
          0.012371034361422062,
          0.04845583438873291,
          0.012570382095873356,
          0.026352010667324066,
          0.011171376332640648,
          0.0217264536768198,
          0.011095462366938591,
          0.01135057769715786,
          0.05084298551082611,
          0.016170212998986244,
          0.019460799172520638,
          0.012679348699748516,
          0.01817181520164013,
          0.02427850104868412,
          0.020885009318590164,
          0.011174929328262806,
          0.024098198860883713,
          0.025079013779759407,
          0.021354645490646362,
          0.02812410518527031,
          0.02377435192465782,
          0.016942784190177917,
          0.013531455770134926,
          0.02798842452466488,
          0.013895386829972267,
          0.012872790917754173,
          0.024412019178271294,
          0.011213124729692936,
          0.011793418787419796,
          0.018888017162680626,
          0.0481872484087944,
          0.021307332441210747,
          0.017991598695516586,
          0.014915723353624344,
          0.012177398428320885,
          0.013643787242472172,
          0.03646901622414589,
          0.014569200575351715,
          0.010433468036353588,
          0.01345420815050602,
          0.05903429910540581,
          0.025289660319685936,
          0.015138207003474236,
          0.04127955809235573,
          0.020014028996229172,
          0.014314079657196999,
          0.012609131634235382,
          0.011454258114099503,
          0.013330929912626743,
          0.012975621037185192,
          0.012898539192974567,
          0.013753045350313187,
          0.012193168513476849,
          0.009246522560715675,
          0.011918803676962852,
          0.028109222650527954,
          0.013302926905453205,
          0.032782524824142456,
          0.014644963666796684,
          0.02385120838880539,
          0.010158158838748932,
          0.013508979231119156,
          0.024059070274233818,
          0.02234460599720478,
          0.01335230004042387,
          0.012561832554638386,
          0.0179684367030859,
          0.030261816456913948,
          0.014336301945149899,
          0.02755850926041603,
          0.02226247452199459,
          0.013667420484125614,
          0.01296937931329012,
          0.02181510254740715,
          0.03671199828386307,
          0.01243611890822649,
          0.019464170560240746,
          0.010399464517831802,
          0.027416855096817017,
          0.024322958663105965,
          0.03617362305521965,
          0.016811665147542953,
          0.010888699442148209,
          0.020993463695049286,
          0.01677308790385723,
          0.01731840893626213,
          0.013396133668720722,
          0.029816249385476112,
          0.020258473232388496,
          0.013754963874816895,
          0.013564154505729675,
          0.026092572137713432,
          0.013935775496065617,
          0.01339701097458601,
          0.00841229222714901,
          0.01493836846202612,
          0.024249335750937462,
          0.02512948028743267,
          0.01894504204392433,
          0.014385093934834003,
          0.013883370906114578,
          0.018106570467352867,
          0.029848242178559303,
          0.009426687844097614,
          0.008758735843002796,
          0.024831997230648994,
          0.010063107125461102,
          0.011721627786755562,
          0.009942815639078617,
          0.01647203043103218,
          0.02605867199599743,
          0.023843983188271523,
          0.013973457738757133,
          0.015858648344874382,
          0.02771908789873123,
          0.06514663249254227,
          0.020945312455296516,
          0.013472136110067368,
          0.019741637632250786,
          0.01911040209233761,
          0.014520938508212566,
          0.02550356276333332,
          0.00897339265793562,
          0.00882787723094225,
          0.012661286629736423,
          0.01812865398824215,
          0.011214877478778362,
          0.014053376391530037,
          0.011487971991300583,
          0.012215388007462025,
          0.009428011253476143,
          0.015947675332427025,
          0.010507041588425636,
          0.028378169983625412,
          0.016489053145051003,
          0.02680061385035515,
          0.02025497704744339,
          0.012159452773630619,
          0.013145392760634422,
          0.033927321434020996,
          0.022459762170910835,
          0.029008643701672554,
          0.013007030822336674,
          0.030445091426372528,
          0.018736394122242928,
          0.02436278946697712,
          0.02719181589782238,
          0.01970338635146618,
          0.009317498654127121,
          0.011468951590359211,
          0.015337341465055943,
          0.020579028874635696,
          0.017161816358566284,
          0.03313374146819115,
          0.00833581481128931,
          0.014376776292920113,
          0.014885538257658482,
          0.07698099315166473,
          0.032619718462228775,
          0.05846770107746124,
          0.017542969435453415,
          0.03053111769258976,
          0.025417421013116837,
          0.011551463976502419,
          0.021728109568357468,
          0.01753329299390316,
          0.023677855730056763,
          0.02865450456738472,
          0.028995074331760406,
          0.011381666176021099,
          0.02208203636109829,
          0.014579261653125286,
          0.02207488939166069,
          0.01021045632660389,
          0.01201164722442627,
          0.0168559979647398,
          0.011413105763494968,
          0.011853649280965328,
          0.01293832529336214,
          0.06524890661239624,
          0.022756824269890785,
          0.01550039928406477,
          0.03162918612360954,
          0.017779424786567688,
          0.01214988436549902,
          0.009930966421961784,
          0.02430451475083828,
          0.009694619104266167,
          0.03492601960897446,
          0.011503043584525585,
          0.01584295928478241,
          0.013234526850283146,
          0.02491595968604088,
          0.029454687610268593,
          0.014730279333889484,
          0.009041947312653065,
          0.024659859016537666,
          0.014095833525061607,
          0.02760426327586174,
          0.01159630250185728,
          0.02268868125975132,
          0.013004506938159466,
          0.013650879263877869,
          0.013138229958713055,
          0.012612330727279186,
          0.01349154394119978,
          0.02106389030814171,
          0.022691886872053146,
          0.027380045503377914,
          0.09431830793619156,
          0.018199797719717026,
          0.010078053921461105,
          0.015879783779382706,
          0.018609672784805298,
          0.02023565210402012,
          0.02649053744971752,
          0.036408089101314545,
          0.016552085056900978,
          0.009700514376163483,
          0.008902524597942829,
          0.027910053730010986,
          0.028193041682243347,
          0.015000777319073677,
          0.020632492378354073,
          0.00881925504654646,
          0.008948181755840778,
          0.013857832178473473,
          0.010014505125582218,
          0.021346496418118477,
          0.024185193702578545,
          0.013495896942913532,
          0.015080959536135197,
          0.011022152379155159,
          0.016955269500613213,
          0.01331252045929432,
          0.031714100390672684,
          0.02096278965473175,
          0.013460719957947731,
          0.01420648768544197,
          0.023685965687036514,
          0.013554154895246029,
          0.016726026311516762,
          0.014875496737658978,
          0.011538363993167877,
          0.010485127568244934,
          0.009201780892908573,
          0.024428121745586395,
          0.013129930943250656,
          0.013756200671195984,
          0.02310248464345932,
          0.01117625366896391,
          0.019917011260986328,
          0.05234822258353233,
          0.019304081797599792,
          0.05439550429582596,
          0.08242020010948181,
          0.014345730654895306,
          0.014142204076051712,
          0.012879330664873123,
          0.02182445116341114,
          0.02471110224723816,
          0.06398198008537292,
          0.010357748717069626,
          0.021343529224395752,
          0.007595432456582785,
          0.016273872926831245,
          0.014388158917427063,
          0.01380352582782507,
          0.00995898898690939,
          0.012627247720956802,
          0.03843102231621742,
          0.010544349439442158,
          0.014367008581757545,
          0.009818744845688343,
          0.009867213666439056,
          0.029766280204057693,
          0.019276941195130348,
          0.01627320796251297,
          0.044315747916698456,
          0.03281860426068306,
          0.021189330145716667,
          0.0116364024579525,
          0.012903997674584389,
          0.018317406997084618,
          0.02482394129037857,
          0.02313999831676483,
          0.025872090831398964,
          0.012442157603800297,
          0.01145627535879612,
          0.009492027573287487,
          0.01004047505557537,
          0.01501596998423338,
          0.020403990522027016,
          0.021966541185975075,
          0.009508621878921986,
          0.01043942105025053,
          0.015532779507339,
          0.046065714210271835,
          0.026837175711989403,
          0.016104750335216522,
          0.011206026189029217,
          0.020232830196619034,
          0.016612568870186806,
          0.0177011601626873,
          0.03139929100871086,
          0.013754555024206638,
          0.018091604113578796,
          0.025096284225583076,
          0.014596731401979923,
          0.020732397213578224,
          0.0267945509403944,
          0.028490375727415085,
          0.010713142342865467,
          0.012428061105310917,
          0.022490181028842926,
          0.02558828331530094,
          0.016365887597203255,
          0.01676279492676258,
          0.02870280109345913,
          0.012831198051571846,
          0.020376114174723625,
          0.02732214331626892,
          0.013356227427721024,
          0.011707629077136517,
          0.012738088145852089,
          0.009706752374768257,
          0.020241012796759605,
          0.014549432322382927,
          0.03925188630819321,
          0.012508575804531574,
          0.012633374892175198,
          0.009356976486742496,
          0.03039918653666973,
          0.014273162931203842,
          0.0130030307918787,
          0.010607339441776276,
          0.018391406163573265,
          0.011864670552313328,
          0.027688372880220413,
          0.051432106643915176,
          0.01248378586024046,
          0.023162292316555977,
          0.013303572311997414,
          0.07107268273830414,
          0.03648114204406738,
          0.011011800728738308,
          0.010014902800321579,
          0.02424687147140503,
          0.02144225314259529,
          0.025930216535925865,
          0.02010461501777172,
          0.022930940613150597,
          0.04355509206652641,
          0.018967280164361,
          0.036619752645492554,
          0.03211485594511032,
          0.025576824322342873,
          0.029680170118808746,
          0.009571944363415241,
          0.026180924847722054,
          0.039965152740478516,
          0.01369370985776186,
          0.023948851972818375,
          0.023146143183112144,
          0.011282777413725853,
          0.01647769659757614,
          0.01761082373559475,
          0.01678253896534443,
          0.0332147479057312,
          0.01792657934129238,
          0.019452586770057678,
          0.016422990709543228,
          0.011923539452254772,
          0.013370292261242867,
          0.013986741192638874,
          0.0231925155967474,
          0.011887342669069767,
          0.03201174736022949,
          0.014843164011836052,
          0.04594499617815018,
          0.015054280869662762,
          0.023812534287571907,
          0.014855816029012203,
          0.01232066098600626,
          0.0482373982667923,
          0.058010052889585495,
          0.018132219091057777,
          0.02030346356332302,
          0.010097522288560867,
          0.021503260359168053,
          0.015283972956240177,
          0.015790428966283798,
          0.016702614724636078,
          0.01210720557719469,
          0.01704242266714573,
          0.011508935131132603,
          0.016393449157476425,
          0.01917494647204876,
          0.01091755647212267,
          0.020636389032006264,
          0.012042820453643799,
          0.01749403215944767,
          0.008887873962521553,
          0.01879114843904972,
          0.010616316460072994,
          0.015793317928910255,
          0.014312585815787315,
          0.007877559401094913,
          0.02340584248304367,
          0.010599326342344284,
          0.010519768111407757,
          0.01899138279259205,
          0.012445293366909027,
          0.023762166500091553,
          0.014639273285865784,
          0.012992334552109241,
          0.019603509455919266,
          0.02436947450041771,
          0.0222005657851696,
          0.021576570346951485,
          0.011309846304357052,
          0.011480407789349556,
          0.009898364543914795,
          0.015472088940441608,
          0.023756299167871475,
          0.012107839807868004,
          0.015204325318336487,
          0.013423250988125801,
          0.02166367881000042,
          0.022562848404049873,
          0.027314141392707825,
          0.02172093093395233,
          0.016280125826597214,
          0.01418804470449686,
          0.012838774360716343,
          0.016805291175842285,
          0.025624200701713562,
          0.011536367237567902,
          0.006527140270918608,
          0.01672971621155739,
          0.010881682857871056,
          0.006854362785816193,
          0.013096734881401062,
          0.024675121530890465,
          0.014046778902411461,
          0.02206716313958168,
          0.01254129596054554,
          0.009164324961602688,
          0.025172216817736626,
          0.0292679276317358,
          0.013918946497142315,
          0.017067354172468185,
          0.008762355893850327,
          0.031041676178574562,
          0.026363473385572433,
          0.02389756217598915,
          0.012045146897435188,
          0.01333685964345932,
          0.022544316947460175,
          0.030683238059282303,
          0.027678733691573143,
          0.0634094849228859,
          0.02470763772726059,
          0.01857425644993782,
          0.014699109829962254,
          0.015281060710549355,
          0.022192973643541336,
          0.018639639019966125,
          0.012856164015829563,
          0.024837620556354523,
          0.015096940100193024,
          0.02710692211985588,
          0.011517239734530449,
          0.07088259607553482,
          0.021605433896183968,
          0.009681358002126217,
          0.012017392553389072,
          0.048749543726444244,
          0.014729263260960579,
          0.029013490304350853,
          0.01754051074385643,
          0.014464456588029861,
          0.017428217455744743,
          0.021673448383808136,
          0.011069285683333874,
          0.00994980800896883,
          0.015443826094269753,
          0.04926739260554314,
          0.010728550143539906,
          0.027513492852449417,
          0.010178963653743267,
          0.017541881650686264,
          0.012200422585010529,
          0.011859421618282795,
          0.010720774531364441,
          0.024580832570791245,
          0.013374579139053822,
          0.018514668568968773,
          0.017411820590496063,
          0.015214593149721622,
          0.023845884948968887,
          0.01886298693716526,
          0.020407743752002716,
          0.014650351367890835,
          0.02103879489004612,
          0.02325325645506382,
          0.029196351766586304,
          0.019626062363386154,
          0.01519995927810669,
          0.013625161722302437,
          0.028273314237594604,
          0.009667497128248215,
          0.023364733904600143,
          0.01677648536860943,
          0.056920602917671204,
          0.012584216892719269,
          0.023253420367836952,
          0.05768707022070885,
          0.02136080525815487,
          0.009746972471475601,
          0.027096496894955635,
          0.04402078688144684,
          0.046126194298267365,
          0.015242920257151127,
          0.016125716269016266,
          0.05518864467740059,
          0.011490711010992527,
          0.011979710310697556,
          0.010708143003284931,
          0.018541226163506508,
          0.024549487978219986,
          0.018957987427711487,
          0.026883143931627274,
          0.013519332744181156,
          0.05064266547560692,
          0.010005955584347248,
          0.0243008304387331,
          0.015027785673737526,
          0.019765742123126984,
          0.023498184978961945,
          0.009180462919175625,
          0.021527761593461037,
          0.017034316435456276,
          0.01743726059794426,
          0.011220662854611874,
          0.014385473914444447,
          0.031566377729177475,
          0.010302119888365269,
          0.011845411732792854,
          0.015500131994485855,
          0.01522110216319561,
          0.014684025198221207,
          0.045182447880506516,
          0.06490819901227951,
          0.021863039582967758,
          0.013594014570116997,
          0.014318590052425861,
          0.02097833715379238,
          0.010533485561609268,
          0.025018801912665367,
          0.03003460355103016,
          0.015200362540781498,
          0.012341215275228024,
          0.02365918643772602,
          0.012300964444875717,
          0.012589573860168457,
          0.012607456184923649,
          0.020571988075971603,
          0.009752308949828148,
          0.014656572602689266,
          0.03620295226573944,
          0.013810602948069572,
          0.012273488566279411,
          0.021678144112229347,
          0.01020279061049223,
          0.010380622930824757,
          0.014858379028737545,
          0.04719589650630951,
          0.016179794445633888,
          0.022045794874429703,
          0.012899555265903473,
          0.019739413633942604,
          0.012195857241749763,
          0.010501631535589695,
          0.010818010196089745,
          0.011008452624082565,
          0.01503895316272974,
          0.013243021443486214,
          0.011655355803668499,
          0.010797317139804363,
          0.010281484574079514,
          0.013281350024044514,
          0.021736375987529755,
          0.025011206045746803,
          0.025880273431539536,
          0.008345735259354115,
          0.010129920206964016,
          0.016140829771757126,
          0.060957249253988266,
          0.049967072904109955,
          0.04136369004845619,
          0.018769754096865654,
          0.028356188908219337,
          0.021307092159986496,
          0.023504938930273056,
          0.026784250512719154,
          0.01534217968583107,
          0.015311789698898792,
          0.01152286771684885,
          0.012209773994982243,
          0.024913260713219643,
          0.008630341850221157,
          0.057638686150312424,
          0.010553424246609211,
          0.00963044073432684,
          0.011255881749093533,
          0.01462952233850956,
          0.018309399485588074,
          0.01319227647036314,
          0.01807486079633236,
          0.009349741972982883,
          0.009038429707288742,
          0.02481420338153839,
          0.026315689086914062,
          0.04460067301988602,
          0.010757426731288433,
          0.0326029397547245,
          0.011812476441264153,
          0.025179000571370125,
          0.012893425300717354,
          0.01110309362411499,
          0.017299050465226173,
          0.017581064254045486,
          0.01477104239165783,
          0.01645435206592083,
          0.015706034377217293,
          0.012695389799773693,
          0.013414442539215088,
          0.06334345042705536,
          0.024503817781805992,
          0.013112109154462814,
          0.012945979833602905,
          0.05219295248389244,
          0.03642360866069794,
          0.03263085335493088,
          0.020150551572442055,
          0.01842355914413929,
          0.008399948477745056,
          0.020357295870780945,
          0.009920389391481876,
          0.017287395894527435,
          0.017498498782515526,
          0.01672377996146679,
          0.010523660108447075,
          0.01321310643106699,
          0.024461962282657623,
          0.02415846846997738,
          0.01643611676990986,
          0.027380801737308502,
          0.009218735620379448,
          0.016353173181414604,
          0.01623450592160225,
          0.01734825409948826,
          0.011437349021434784,
          0.015523537993431091,
          0.06840433925390244,
          0.009855050593614578,
          0.0709090605378151,
          0.011294430121779442,
          0.018409207463264465,
          0.03572580963373184,
          0.04407704249024391,
          0.01405493076890707,
          0.035012487322092056,
          0.04223646596074104,
          0.018929773941636086,
          0.01059338916093111,
          0.007885689847171307,
          0.020915858447551727,
          0.01114951353520155,
          0.014486978761851788,
          0.0740145668387413,
          0.010380947962403297,
          0.020928174257278442,
          0.011195614002645016,
          0.013085892423987389,
          0.014949722215533257,
          0.030326733365654945,
          0.01563200168311596,
          0.021328894421458244,
          0.019589906558394432,
          0.022418634966015816,
          0.012156839482486248,
          0.020499520003795624,
          0.06464368104934692,
          0.04656221345067024,
          0.011928899213671684,
          0.012017298489809036,
          0.02132699266076088,
          0.016033144667744637,
          0.034998178482055664,
          0.025258200243115425,
          0.016661256551742554,
          0.039820585399866104,
          0.01555714476853609,
          0.019181812182068825,
          0.009516562335193157,
          0.025370175018906593,
          0.026538623496890068,
          0.009985074400901794,
          0.011913410387933254,
          0.009839148260653019,
          0.018680302426218987,
          0.031981825828552246,
          0.019359983503818512,
          0.011784795671701431,
          0.025639008730649948,
          0.02036895602941513,
          0.014094033278524876,
          0.021415436640381813,
          0.00921142753213644,
          0.0664680227637291,
          0.0124841732904315,
          0.01636633276939392,
          0.013212217949330807,
          0.013699783012270927,
          0.015623862855136395,
          0.023910317569971085,
          0.013521390967071056,
          0.01608678326010704,
          0.020690537989139557,
          0.011318007484078407,
          0.009877167642116547,
          0.011544844135642052,
          0.01333452295511961,
          0.012601807713508606,
          0.026711732149124146,
          0.024991853162646294,
          0.012132414616644382,
          0.01591513864696026,
          0.010524739511311054,
          0.013899846002459526,
          0.03447522968053818,
          0.011590562760829926,
          0.018411390483379364,
          0.016597500070929527,
          0.04844963923096657,
          0.03541536629199982,
          0.01574692502617836,
          0.0089310547336936,
          0.023628635331988335,
          0.01021015178412199,
          0.01876842975616455,
          0.05824660509824753,
          0.020446747541427612,
          0.011236065067350864,
          0.021790262311697006,
          0.013986542820930481,
          0.010693321004509926,
          0.011340765282511711,
          0.023089176043868065,
          0.01615828461945057,
          0.009417549706995487,
          0.012829506769776344,
          0.027415994554758072,
          0.019712187349796295,
          0.00830887258052826,
          0.023996299132704735,
          0.034002020955085754,
          0.06433562934398651,
          0.011147577315568924,
          0.025146668776869774,
          0.032982975244522095,
          0.010690872557461262,
          0.024319177493453026,
          0.02309848554432392,
          0.02032698504626751,
          0.019932366907596588,
          0.02892080694437027,
          0.03638464957475662,
          0.008280334062874317,
          0.022736776620149612,
          0.01567750610411167,
          0.03737182170152664,
          0.025754334405064583,
          0.028432665392756462,
          0.02253229171037674,
          0.008837766945362091,
          0.012414094060659409,
          0.028181111440062523,
          0.059305280447006226,
          0.020893294364213943,
          0.06683286279439926,
          0.018583927303552628,
          0.011348854750394821,
          0.015472854487597942,
          0.012148354202508926,
          0.012876075692474842,
          0.025860222056508064,
          0.016049304977059364,
          0.012212513945996761,
          0.01279394794255495,
          0.06261683255434036,
          0.014917110092937946,
          0.014936244115233421,
          0.02727740816771984,
          0.02032763510942459,
          0.025396045297384262,
          0.018828652799129486,
          0.01688380353152752,
          0.02430807612836361,
          0.01133166067302227,
          0.02022944577038288,
          0.010810615494847298,
          0.022021522745490074,
          0.015526522882282734,
          0.015109187923371792,
          0.008729949593544006,
          0.018487274646759033,
          0.021902263164520264,
          0.010737542994320393,
          0.03288626670837402,
          0.01752091571688652,
          0.014238259755074978,
          0.023841170594096184,
          0.011295976117253304,
          0.01964220404624939,
          0.0945090502500534,
          0.016031093895435333,
          0.022434329614043236,
          0.014399436302483082,
          0.026971833780407906,
          0.028384391218423843,
          0.02014268934726715,
          0.019775107502937317,
          0.020619092509150505,
          0.012365550734102726,
          0.02326378785073757,
          0.01681337133049965
         ]
        }
       ],
       "layout": {
        "template": {
         "data": {
          "bar": [
           {
            "error_x": {
             "color": "#2a3f5f"
            },
            "error_y": {
             "color": "#2a3f5f"
            },
            "marker": {
             "line": {
              "color": "#E5ECF6",
              "width": 0.5
             },
             "pattern": {
              "fillmode": "overlay",
              "size": 10,
              "solidity": 0.2
             }
            },
            "type": "bar"
           }
          ],
          "barpolar": [
           {
            "marker": {
             "line": {
              "color": "#E5ECF6",
              "width": 0.5
             },
             "pattern": {
              "fillmode": "overlay",
              "size": 10,
              "solidity": 0.2
             }
            },
            "type": "barpolar"
           }
          ],
          "carpet": [
           {
            "aaxis": {
             "endlinecolor": "#2a3f5f",
             "gridcolor": "white",
             "linecolor": "white",
             "minorgridcolor": "white",
             "startlinecolor": "#2a3f5f"
            },
            "baxis": {
             "endlinecolor": "#2a3f5f",
             "gridcolor": "white",
             "linecolor": "white",
             "minorgridcolor": "white",
             "startlinecolor": "#2a3f5f"
            },
            "type": "carpet"
           }
          ],
          "choropleth": [
           {
            "colorbar": {
             "outlinewidth": 0,
             "ticks": ""
            },
            "type": "choropleth"
           }
          ],
          "contour": [
           {
            "colorbar": {
             "outlinewidth": 0,
             "ticks": ""
            },
            "colorscale": [
             [
              0,
              "#0d0887"
             ],
             [
              0.1111111111111111,
              "#46039f"
             ],
             [
              0.2222222222222222,
              "#7201a8"
             ],
             [
              0.3333333333333333,
              "#9c179e"
             ],
             [
              0.4444444444444444,
              "#bd3786"
             ],
             [
              0.5555555555555556,
              "#d8576b"
             ],
             [
              0.6666666666666666,
              "#ed7953"
             ],
             [
              0.7777777777777778,
              "#fb9f3a"
             ],
             [
              0.8888888888888888,
              "#fdca26"
             ],
             [
              1,
              "#f0f921"
             ]
            ],
            "type": "contour"
           }
          ],
          "contourcarpet": [
           {
            "colorbar": {
             "outlinewidth": 0,
             "ticks": ""
            },
            "type": "contourcarpet"
           }
          ],
          "heatmap": [
           {
            "colorbar": {
             "outlinewidth": 0,
             "ticks": ""
            },
            "colorscale": [
             [
              0,
              "#0d0887"
             ],
             [
              0.1111111111111111,
              "#46039f"
             ],
             [
              0.2222222222222222,
              "#7201a8"
             ],
             [
              0.3333333333333333,
              "#9c179e"
             ],
             [
              0.4444444444444444,
              "#bd3786"
             ],
             [
              0.5555555555555556,
              "#d8576b"
             ],
             [
              0.6666666666666666,
              "#ed7953"
             ],
             [
              0.7777777777777778,
              "#fb9f3a"
             ],
             [
              0.8888888888888888,
              "#fdca26"
             ],
             [
              1,
              "#f0f921"
             ]
            ],
            "type": "heatmap"
           }
          ],
          "heatmapgl": [
           {
            "colorbar": {
             "outlinewidth": 0,
             "ticks": ""
            },
            "colorscale": [
             [
              0,
              "#0d0887"
             ],
             [
              0.1111111111111111,
              "#46039f"
             ],
             [
              0.2222222222222222,
              "#7201a8"
             ],
             [
              0.3333333333333333,
              "#9c179e"
             ],
             [
              0.4444444444444444,
              "#bd3786"
             ],
             [
              0.5555555555555556,
              "#d8576b"
             ],
             [
              0.6666666666666666,
              "#ed7953"
             ],
             [
              0.7777777777777778,
              "#fb9f3a"
             ],
             [
              0.8888888888888888,
              "#fdca26"
             ],
             [
              1,
              "#f0f921"
             ]
            ],
            "type": "heatmapgl"
           }
          ],
          "histogram": [
           {
            "marker": {
             "pattern": {
              "fillmode": "overlay",
              "size": 10,
              "solidity": 0.2
             }
            },
            "type": "histogram"
           }
          ],
          "histogram2d": [
           {
            "colorbar": {
             "outlinewidth": 0,
             "ticks": ""
            },
            "colorscale": [
             [
              0,
              "#0d0887"
             ],
             [
              0.1111111111111111,
              "#46039f"
             ],
             [
              0.2222222222222222,
              "#7201a8"
             ],
             [
              0.3333333333333333,
              "#9c179e"
             ],
             [
              0.4444444444444444,
              "#bd3786"
             ],
             [
              0.5555555555555556,
              "#d8576b"
             ],
             [
              0.6666666666666666,
              "#ed7953"
             ],
             [
              0.7777777777777778,
              "#fb9f3a"
             ],
             [
              0.8888888888888888,
              "#fdca26"
             ],
             [
              1,
              "#f0f921"
             ]
            ],
            "type": "histogram2d"
           }
          ],
          "histogram2dcontour": [
           {
            "colorbar": {
             "outlinewidth": 0,
             "ticks": ""
            },
            "colorscale": [
             [
              0,
              "#0d0887"
             ],
             [
              0.1111111111111111,
              "#46039f"
             ],
             [
              0.2222222222222222,
              "#7201a8"
             ],
             [
              0.3333333333333333,
              "#9c179e"
             ],
             [
              0.4444444444444444,
              "#bd3786"
             ],
             [
              0.5555555555555556,
              "#d8576b"
             ],
             [
              0.6666666666666666,
              "#ed7953"
             ],
             [
              0.7777777777777778,
              "#fb9f3a"
             ],
             [
              0.8888888888888888,
              "#fdca26"
             ],
             [
              1,
              "#f0f921"
             ]
            ],
            "type": "histogram2dcontour"
           }
          ],
          "mesh3d": [
           {
            "colorbar": {
             "outlinewidth": 0,
             "ticks": ""
            },
            "type": "mesh3d"
           }
          ],
          "parcoords": [
           {
            "line": {
             "colorbar": {
              "outlinewidth": 0,
              "ticks": ""
             }
            },
            "type": "parcoords"
           }
          ],
          "pie": [
           {
            "automargin": true,
            "type": "pie"
           }
          ],
          "scatter": [
           {
            "marker": {
             "colorbar": {
              "outlinewidth": 0,
              "ticks": ""
             }
            },
            "type": "scatter"
           }
          ],
          "scatter3d": [
           {
            "line": {
             "colorbar": {
              "outlinewidth": 0,
              "ticks": ""
             }
            },
            "marker": {
             "colorbar": {
              "outlinewidth": 0,
              "ticks": ""
             }
            },
            "type": "scatter3d"
           }
          ],
          "scattercarpet": [
           {
            "marker": {
             "colorbar": {
              "outlinewidth": 0,
              "ticks": ""
             }
            },
            "type": "scattercarpet"
           }
          ],
          "scattergeo": [
           {
            "marker": {
             "colorbar": {
              "outlinewidth": 0,
              "ticks": ""
             }
            },
            "type": "scattergeo"
           }
          ],
          "scattergl": [
           {
            "marker": {
             "colorbar": {
              "outlinewidth": 0,
              "ticks": ""
             }
            },
            "type": "scattergl"
           }
          ],
          "scattermapbox": [
           {
            "marker": {
             "colorbar": {
              "outlinewidth": 0,
              "ticks": ""
             }
            },
            "type": "scattermapbox"
           }
          ],
          "scatterpolar": [
           {
            "marker": {
             "colorbar": {
              "outlinewidth": 0,
              "ticks": ""
             }
            },
            "type": "scatterpolar"
           }
          ],
          "scatterpolargl": [
           {
            "marker": {
             "colorbar": {
              "outlinewidth": 0,
              "ticks": ""
             }
            },
            "type": "scatterpolargl"
           }
          ],
          "scatterternary": [
           {
            "marker": {
             "colorbar": {
              "outlinewidth": 0,
              "ticks": ""
             }
            },
            "type": "scatterternary"
           }
          ],
          "surface": [
           {
            "colorbar": {
             "outlinewidth": 0,
             "ticks": ""
            },
            "colorscale": [
             [
              0,
              "#0d0887"
             ],
             [
              0.1111111111111111,
              "#46039f"
             ],
             [
              0.2222222222222222,
              "#7201a8"
             ],
             [
              0.3333333333333333,
              "#9c179e"
             ],
             [
              0.4444444444444444,
              "#bd3786"
             ],
             [
              0.5555555555555556,
              "#d8576b"
             ],
             [
              0.6666666666666666,
              "#ed7953"
             ],
             [
              0.7777777777777778,
              "#fb9f3a"
             ],
             [
              0.8888888888888888,
              "#fdca26"
             ],
             [
              1,
              "#f0f921"
             ]
            ],
            "type": "surface"
           }
          ],
          "table": [
           {
            "cells": {
             "fill": {
              "color": "#EBF0F8"
             },
             "line": {
              "color": "white"
             }
            },
            "header": {
             "fill": {
              "color": "#C8D4E3"
             },
             "line": {
              "color": "white"
             }
            },
            "type": "table"
           }
          ]
         },
         "layout": {
          "annotationdefaults": {
           "arrowcolor": "#2a3f5f",
           "arrowhead": 0,
           "arrowwidth": 1
          },
          "autotypenumbers": "strict",
          "coloraxis": {
           "colorbar": {
            "outlinewidth": 0,
            "ticks": ""
           }
          },
          "colorscale": {
           "diverging": [
            [
             0,
             "#8e0152"
            ],
            [
             0.1,
             "#c51b7d"
            ],
            [
             0.2,
             "#de77ae"
            ],
            [
             0.3,
             "#f1b6da"
            ],
            [
             0.4,
             "#fde0ef"
            ],
            [
             0.5,
             "#f7f7f7"
            ],
            [
             0.6,
             "#e6f5d0"
            ],
            [
             0.7,
             "#b8e186"
            ],
            [
             0.8,
             "#7fbc41"
            ],
            [
             0.9,
             "#4d9221"
            ],
            [
             1,
             "#276419"
            ]
           ],
           "sequential": [
            [
             0,
             "#0d0887"
            ],
            [
             0.1111111111111111,
             "#46039f"
            ],
            [
             0.2222222222222222,
             "#7201a8"
            ],
            [
             0.3333333333333333,
             "#9c179e"
            ],
            [
             0.4444444444444444,
             "#bd3786"
            ],
            [
             0.5555555555555556,
             "#d8576b"
            ],
            [
             0.6666666666666666,
             "#ed7953"
            ],
            [
             0.7777777777777778,
             "#fb9f3a"
            ],
            [
             0.8888888888888888,
             "#fdca26"
            ],
            [
             1,
             "#f0f921"
            ]
           ],
           "sequentialminus": [
            [
             0,
             "#0d0887"
            ],
            [
             0.1111111111111111,
             "#46039f"
            ],
            [
             0.2222222222222222,
             "#7201a8"
            ],
            [
             0.3333333333333333,
             "#9c179e"
            ],
            [
             0.4444444444444444,
             "#bd3786"
            ],
            [
             0.5555555555555556,
             "#d8576b"
            ],
            [
             0.6666666666666666,
             "#ed7953"
            ],
            [
             0.7777777777777778,
             "#fb9f3a"
            ],
            [
             0.8888888888888888,
             "#fdca26"
            ],
            [
             1,
             "#f0f921"
            ]
           ]
          },
          "colorway": [
           "#636efa",
           "#EF553B",
           "#00cc96",
           "#ab63fa",
           "#FFA15A",
           "#19d3f3",
           "#FF6692",
           "#B6E880",
           "#FF97FF",
           "#FECB52"
          ],
          "font": {
           "color": "#2a3f5f"
          },
          "geo": {
           "bgcolor": "white",
           "lakecolor": "white",
           "landcolor": "#E5ECF6",
           "showlakes": true,
           "showland": true,
           "subunitcolor": "white"
          },
          "hoverlabel": {
           "align": "left"
          },
          "hovermode": "closest",
          "mapbox": {
           "style": "light"
          },
          "paper_bgcolor": "white",
          "plot_bgcolor": "#E5ECF6",
          "polar": {
           "angularaxis": {
            "gridcolor": "white",
            "linecolor": "white",
            "ticks": ""
           },
           "bgcolor": "#E5ECF6",
           "radialaxis": {
            "gridcolor": "white",
            "linecolor": "white",
            "ticks": ""
           }
          },
          "scene": {
           "xaxis": {
            "backgroundcolor": "#E5ECF6",
            "gridcolor": "white",
            "gridwidth": 2,
            "linecolor": "white",
            "showbackground": true,
            "ticks": "",
            "zerolinecolor": "white"
           },
           "yaxis": {
            "backgroundcolor": "#E5ECF6",
            "gridcolor": "white",
            "gridwidth": 2,
            "linecolor": "white",
            "showbackground": true,
            "ticks": "",
            "zerolinecolor": "white"
           },
           "zaxis": {
            "backgroundcolor": "#E5ECF6",
            "gridcolor": "white",
            "gridwidth": 2,
            "linecolor": "white",
            "showbackground": true,
            "ticks": "",
            "zerolinecolor": "white"
           }
          },
          "shapedefaults": {
           "line": {
            "color": "#2a3f5f"
           }
          },
          "ternary": {
           "aaxis": {
            "gridcolor": "white",
            "linecolor": "white",
            "ticks": ""
           },
           "baxis": {
            "gridcolor": "white",
            "linecolor": "white",
            "ticks": ""
           },
           "bgcolor": "#E5ECF6",
           "caxis": {
            "gridcolor": "white",
            "linecolor": "white",
            "ticks": ""
           }
          },
          "title": {
           "x": 0.05
          },
          "xaxis": {
           "automargin": true,
           "gridcolor": "white",
           "linecolor": "white",
           "ticks": "",
           "title": {
            "standoff": 15
           },
           "zerolinecolor": "white",
           "zerolinewidth": 2
          },
          "yaxis": {
           "automargin": true,
           "gridcolor": "white",
           "linecolor": "white",
           "ticks": "",
           "title": {
            "standoff": 15
           },
           "zerolinecolor": "white",
           "zerolinewidth": 2
          }
         }
        }
       }
      }
     },
     "metadata": {}
    }
   ],
   "metadata": {}
  },
  {
   "cell_type": "markdown",
   "source": [
    "We now define the threshold."
   ],
   "metadata": {}
  },
  {
   "cell_type": "code",
   "execution_count": 38,
   "source": [
    "threshold = np.mean(train_loss) + np.std(train_loss)\n",
    "print(\"Threshold: \", threshold)"
   ],
   "outputs": [
    {
     "output_type": "stream",
     "name": "stdout",
     "text": [
      "Threshold:  0.03278242\n"
     ]
    }
   ],
   "metadata": {}
  },
  {
   "cell_type": "markdown",
   "source": [
    "On the test dataset, we will use the threshold above to determine anormalies. We will do this as follows:"
   ],
   "metadata": {}
  },
  {
   "cell_type": "code",
   "execution_count": 39,
   "source": [
    "reconstructions_normal = autoencoder.predict(normal_test_data)\n",
    "test_loss_normal = tf.keras.losses.mae(reconstructions_normal, normal_test_data)\n",
    "\n",
    "\n",
    "reconstructions_abnormal = autoencoder.predict(abnormal_test_data)\n",
    "test_loss_abnormal = tf.keras.losses.mae(reconstructions_abnormal, abnormal_test_data)\n",
    "\n",
    "fig = go.Figure()\n",
    "fig.add_trace(go.Histogram(x=test_loss_normal[None,:][0],name='Normal loss'))\n",
    "fig.add_trace(go.Histogram(x=test_loss_abnormal[None,:][0],name='Abnormal loss',opacity=0.4))\n",
    "\n",
    "# Overlay both histograms\n",
    "fig.update_layout(barmode='overlay')\n",
    "# Reduce opacity to see both histograms\n",
    "fig.update_traces(opacity=0.75)\n",
    "\n",
    "\n",
    "\n",
    "\n",
    "fig.add_shape(type=\"line\",\n",
    "    xref=\"x\", yref=\"y\",\n",
    "    x0=threshold, y0=0, x1=threshold, y1=90,\n",
    "    line=dict(\n",
    "        color=\"red\",\n",
    "        width=3,\n",
    "    ),\n",
    ")\n",
    "fig.show()"
   ],
   "outputs": [
    {
     "output_type": "display_data",
     "data": {
      "application/vnd.plotly.v1+json": {
       "config": {
        "plotlyServerURL": "https://plot.ly"
       },
       "data": [
        {
         "name": "Normal loss",
         "opacity": 0.75,
         "type": "histogram",
         "x": [
          0.03462143987417221,
          0.010847673751413822,
          0.026106156408786774,
          0.06091497838497162,
          0.0131496237590909,
          0.00962713174521923,
          0.012503404170274734,
          0.06532633304595947,
          0.011475378647446632,
          0.023857232183218002,
          0.018448742106556892,
          0.018436841666698456,
          0.011689893901348114,
          0.021181974560022354,
          0.01988156884908676,
          0.021208982914686203,
          0.024003999307751656,
          0.019786767661571503,
          0.01198065746575594,
          0.01832868531346321,
          0.03542079031467438,
          0.015740418806672096,
          0.027635939419269562,
          0.012886873446404934,
          0.02039489895105362,
          0.026507655158638954,
          0.027076363563537598,
          0.01075147558003664,
          0.019657598808407784,
          0.008656702004373074,
          0.020702233538031578,
          0.016669470816850662,
          0.01652468368411064,
          0.03005966730415821,
          0.042417772114276886,
          0.025516116991639137,
          0.022782299667596817,
          0.02540571428835392,
          0.010967878624796867,
          0.03994661569595337,
          0.011789800599217415,
          0.026302233338356018,
          0.01411296147853136,
          0.01809871196746826,
          0.010134548880159855,
          0.010099729523062706,
          0.022334828972816467,
          0.016309471800923347,
          0.0176467914134264,
          0.010800748132169247,
          0.012940628454089165,
          0.013514364138245583,
          0.07435080409049988,
          0.02097439207136631,
          0.013299434445798397,
          0.011522233486175537,
          0.024703288450837135,
          0.013465986587107182,
          0.006995133124291897,
          0.01710732840001583,
          0.028438465669751167,
          0.029852718114852905,
          0.014670077711343765,
          0.01756112277507782,
          0.09930916130542755,
          0.007750921417027712,
          0.01242345292121172,
          0.026657868176698685,
          0.012706859037280083,
          0.024344822391867638,
          0.01409945823252201,
          0.018671708181500435,
          0.017020074650645256,
          0.018582923337817192,
          0.02570248581469059,
          0.01389950979501009,
          0.024735499173402786,
          0.017090143635869026,
          0.015760039910674095,
          0.050381775945425034,
          0.015353716909885406,
          0.011484636925160885,
          0.01270292978733778,
          0.017205433920025826,
          0.0541079044342041,
          0.02286672592163086,
          0.017605891451239586,
          0.01459195651113987,
          0.01273625623434782,
          0.0314328595995903,
          0.02398238703608513,
          0.012173686176538467,
          0.01679297909140587,
          0.017269542440772057,
          0.012833919376134872,
          0.015010927803814411,
          0.026317885145545006,
          0.010056992061436176,
          0.012020495720207691,
          0.027554670348763466,
          0.00956772267818451,
          0.011400542221963406,
          0.03598099946975708,
          0.013884271495044231,
          0.010979926213622093,
          0.01037463080137968,
          0.022045278921723366,
          0.014115726575255394,
          0.012202157638967037,
          0.020673735067248344,
          0.02282543294131756,
          0.01981354132294655,
          0.02549051307141781,
          0.014118396677076817,
          0.013479642570018768,
          0.02534080669283867,
          0.014095350168645382,
          0.009337052702903748,
          0.014781826175749302,
          0.009124278090894222,
          0.01810038834810257,
          0.04363001137971878,
          0.02392064779996872,
          0.017326029017567635,
          0.022025136277079582,
          0.018589084967970848,
          0.01963362656533718,
          0.012047522701323032,
          0.02082342654466629,
          0.006255867425352335,
          0.017509935423731804,
          0.01852291449904442,
          0.014570550993084908,
          0.016664601862430573,
          0.013667457737028599,
          0.014271312393248081,
          0.02621845155954361,
          0.009503496810793877,
          0.022280514240264893,
          0.04564182460308075,
          0.014409015886485577,
          0.00646637100726366,
          0.016162734478712082,
          0.009671579115092754,
          0.011377153918147087,
          0.015821728855371475,
          0.012387818656861782,
          0.015360688790678978,
          0.016102910041809082,
          0.009795760735869408,
          0.013047752901911736,
          0.01916012354195118,
          0.01253810990601778,
          0.01412308681756258,
          0.027475306764245033,
          0.01965237595140934,
          0.02770993486046791,
          0.01718635857105255,
          0.01857677660882473,
          0.024256907403469086,
          0.020844019949436188,
          0.021160094067454338,
          0.010486180894076824,
          0.010924513451755047,
          0.028500190004706383,
          0.020860765129327774,
          0.013586987741291523,
          0.013712647370994091,
          0.01898404210805893,
          0.022819338366389275,
          0.025004008784890175,
          0.010751064866781235,
          0.012828375212848186,
          0.025047212839126587,
          0.010292179882526398,
          0.023839563131332397,
          0.03593311831355095,
          0.01618908904492855,
          0.009538991376757622,
          0.019054889678955078,
          0.015242263674736023,
          0.013144698925316334,
          0.017436090856790543,
          0.019569747149944305,
          0.010006261989474297,
          0.02596687711775303,
          0.01402575895190239,
          0.024948112666606903,
          0.01559556182473898,
          0.014704777859151363,
          0.028869500383734703,
          0.012284106574952602,
          0.016869621351361275,
          0.025898246094584465,
          0.021236605942249298,
          0.01568021811544895,
          0.011172273196280003,
          0.028832493349909782,
          0.012398733757436275,
          0.015371575020253658,
          0.027163194492459297,
          0.013582994230091572,
          0.011128033511340618,
          0.014631959609687328,
          0.030077651143074036,
          0.007819882594048977,
          0.014667919836938381,
          0.012345247901976109,
          0.020700674504041672,
          0.031558167189359665,
          0.03478604555130005,
          0.05936606973409653,
          0.01629278063774109,
          0.02289663441479206,
          0.013616282492876053,
          0.03226280212402344,
          0.019926756620407104,
          0.01748282089829445,
          0.010041882283985615,
          0.008955254219472408,
          0.03780525177717209,
          0.018430013209581375,
          0.024602867662906647,
          0.013673996552824974,
          0.013067370280623436,
          0.017857389524579048,
          0.012123605236411095,
          0.016932116821408272,
          0.023204026743769646,
          0.012177929282188416,
          0.013269655406475067,
          0.01239016093313694,
          0.02578050270676613,
          0.021203797310590744,
          0.014630583114922047,
          0.018537824973464012,
          0.017902124673128128,
          0.011154566891491413,
          0.05798480287194252,
          0.09993218630552292,
          0.022456007078289986,
          0.019939128309488297,
          0.009501580148935318,
          0.01724201627075672,
          0.011228230781853199,
          0.01191915012896061,
          0.023011589422822,
          0.012924849055707455,
          0.025719651952385902,
          0.010139255784451962,
          0.012267137877643108,
          0.024874744936823845,
          0.026612520217895508,
          0.00864809937775135,
          0.04960767179727554,
          0.015993041917681694,
          0.016836537048220634,
          0.022258678451180458,
          0.015428845770657063,
          0.022912362590432167,
          0.016089055687189102,
          0.02217986062169075,
          0.027463393285870552,
          0.02186954952776432,
          0.01422620564699173,
          0.011695953086018562,
          0.01851533353328705,
          0.013644913211464882,
          0.012867319397628307,
          0.058266621083021164,
          0.008806586265563965,
          0.020263541489839554,
          0.013767185620963573,
          0.029294749721884727,
          0.025520846247673035,
          0.021417826414108276,
          0.01805158331990242,
          0.01314990222454071,
          0.010262581519782543,
          0.013663954101502895,
          0.030554447323083878,
          0.009781166911125183,
          0.01155109517276287,
          0.00948931835591793,
          0.012490297667682171,
          0.030866503715515137,
          0.015205364674329758,
          0.013970860280096531,
          0.011120238341391087,
          0.01897711120545864,
          0.040197908878326416,
          0.031115807592868805,
          0.026490909978747368,
          0.011186640709638596,
          0.010323653928935528,
          0.031808238476514816,
          0.00918351486325264,
          0.01296120323240757,
          0.016375713050365448,
          0.021201560273766518,
          0.013715993613004684,
          0.016781413927674294,
          0.01633896864950657,
          0.05492541939020157,
          0.028704635798931122,
          0.016002444550395012,
          0.0262563806027174,
          0.009708957746624947,
          0.022848783060908318,
          0.01207273080945015,
          0.039839837700128555,
          0.020293153822422028,
          0.013020155020058155,
          0.014992582611739635,
          0.014251863583922386,
          0.010863106697797775,
          0.012566805817186832,
          0.011442417278885841,
          0.02708609588444233,
          0.022019654512405396,
          0.018254777416586876,
          0.015209076926112175,
          0.011815089732408524,
          0.011170688085258007,
          0.016845807433128357,
          0.017348429188132286,
          0.016109848394989967,
          0.01063400600105524,
          0.011810453608632088,
          0.00907569658011198,
          0.06189349666237831,
          0.02272222563624382,
          0.009621351957321167,
          0.044506195932626724,
          0.013528501614928246,
          0.02438856102526188,
          0.0318622924387455,
          0.01906454749405384,
          0.012608281336724758,
          0.022304898127913475,
          0.025473657995462418,
          0.007183505687862635,
          0.012747502885758877,
          0.016979174688458443,
          0.025702625513076782,
          0.02046043612062931,
          0.011477402411401272,
          0.01611279509961605,
          0.012723615393042564,
          0.025274263694882393,
          0.0193545650690794,
          0.008990805596113205,
          0.012121060863137245,
          0.015167517587542534,
          0.02275185100734234,
          0.026654114946722984,
          0.021361226215958595,
          0.015976296737790108,
          0.025123747065663338,
          0.024782396852970123,
          0.013298089616000652,
          0.032811373472213745,
          0.0234341099858284,
          0.03763831406831741,
          0.018896089866757393,
          0.012467018328607082,
          0.01712307706475258,
          0.015219703316688538,
          0.011482849717140198,
          0.014666402712464333,
          0.012735973112285137,
          0.01410903874784708,
          0.027380388230085373,
          0.02826431579887867,
          0.02366068586707115,
          0.0108117600902915,
          0.0635736808180809,
          0.01710495911538601,
          0.011343899182975292,
          0.061914749443531036,
          0.00854151975363493,
          0.013939699158072472,
          0.01817973330616951,
          0.00976854469627142,
          0.01903345435857773,
          0.028505925089120865,
          0.010764545761048794,
          0.010077103972434998,
          0.02574070543050766,
          0.030108043923974037,
          0.00875725969672203,
          0.02021719701588154,
          0.013997737318277359,
          0.02237381972372532,
          0.014915877021849155,
          0.014449226669967175,
          0.03344455361366272,
          0.013879358768463135,
          0.027769675478339195,
          0.02615612931549549,
          0.01484593003988266,
          0.014623590745031834,
          0.0164694394916296,
          0.024004941806197166,
          0.008244049735367298,
          0.016988351941108704,
          0.017249884083867073,
          0.009782357141375542,
          0.011517318896949291,
          0.011204002425074577,
          0.007639288902282715,
          0.02391079254448414,
          0.02196457050740719,
          0.014848170801997185,
          0.01004219800233841,
          0.008722181431949139,
          0.028979182243347168,
          0.015528845600783825,
          0.011425706557929516,
          0.012924893759191036,
          0.01227522175759077,
          0.010210530832409859,
          0.017713546752929688,
          0.026568198576569557,
          0.025156544521450996,
          0.014529144391417503,
          0.0213878583163023,
          0.028411593288183212,
          0.03409050405025482,
          0.013125722296535969,
          0.024972006678581238,
          0.01275648269802332,
          0.02651427686214447,
          0.02883009985089302,
          0.021350814029574394,
          0.012742353603243828,
          0.027103152126073837,
          0.0161358080804348,
          0.016972381621599197,
          0.013098188675940037,
          0.013011319562792778,
          0.020992888137698174,
          0.027990536764264107,
          0.04318523779511452,
          0.05823201313614845,
          0.011616749688982964,
          0.012232895009219646,
          0.009042426943778992,
          0.08546514809131622,
          0.016263801604509354,
          0.0223587267100811,
          0.022127384319901466,
          0.024799769744277,
          0.012989087030291557,
          0.02219594456255436,
          0.025302808731794357,
          0.01844363659620285,
          0.019635595381259918,
          0.020096784457564354,
          0.0492936335504055,
          0.041692230850458145,
          0.05203670635819435,
          0.013721669092774391,
          0.03375687822699547,
          0.054034456610679626,
          0.008899781852960587,
          0.03436443209648132,
          0.011924928985536098,
          0.03314713016152382,
          0.0752953588962555,
          0.013366124592721462,
          0.008779587224125862,
          0.027138179168105125,
          0.02110287919640541,
          0.011945877224206924,
          0.029227307066321373,
          0.014528775587677956,
          0.02063632570207119,
          0.00992265623062849,
          0.015731381252408028,
          0.02498035505414009,
          0.02730962634086609,
          0.031344685703516006,
          0.022006329149007797,
          0.014228863641619682,
          0.02689073048532009,
          0.01638192869722843,
          0.011631610803306103,
          0.007851958274841309,
          0.011620861478149891,
          0.013417218811810017,
          0.009293061681091785,
          0.01197920273989439,
          0.013494695536792278,
          0.024104347452521324,
          0.04049474000930786,
          0.0128250727429986,
          0.02619406022131443,
          0.012288243509829044,
          0.025679465383291245,
          0.009518838487565517,
          0.012758217751979828,
          0.022483665496110916,
          0.014027559198439121,
          0.01752356067299843,
          0.01181630790233612,
          0.010366500355303288,
          0.012321317568421364,
          0.02266884408891201,
          0.031752459704875946,
          0.011539195664227009,
          0.017140749841928482,
          0.01441721897572279,
          0.01330043375492096,
          0.013038674369454384,
          0.017204973846673965,
          0.020368879660964012,
          0.03624914586544037,
          0.010923185385763645,
          0.07576432079076767,
          0.019985318183898926,
          0.0199368167668581,
          0.02463686466217041,
          0.0417412631213665,
          0.037541914731264114,
          0.03418350964784622,
          0.012149621732532978,
          0.03561251983046532,
          0.011613492853939533,
          0.014516918919980526,
          0.010379614308476448,
          0.01367346104234457,
          0.01138413604348898,
          0.012615444138646126,
          0.011913197115063667,
          0.01526179350912571,
          0.011295372620224953,
          0.010461586527526379,
          0.020286990329623222,
          0.013373185880482197,
          0.009754572995007038,
          0.0248209647834301,
          0.01716107316315174,
          0.01620488613843918,
          0.017406927421689034,
          0.029744291678071022,
          0.013275791890919209,
          0.013678021728992462,
          0.012375249527394772,
          0.01846992038190365,
          0.008807104080915451,
          0.030551059171557426,
          0.017795437946915627,
          0.0389554426074028,
          0.02101053297519684,
          0.015949152410030365,
          0.012750959023833275,
          0.0452740341424942,
          0.015638038516044617,
          0.014943969435989857
         ]
        },
        {
         "name": "Abnormal loss",
         "opacity": 0.75,
         "type": "histogram",
         "x": [
          0.04329793527722359,
          0.058290161192417145,
          0.04585597291588783,
          0.05412493646144867,
          0.04918421432375908,
          0.05198643356561661,
          0.04184991121292114,
          0.04307528957724571,
          0.04512510076165199,
          0.058658525347709656,
          0.03464077413082123,
          0.042879439890384674,
          0.04067481681704521,
          0.049410950392484665,
          0.021468449383974075,
          0.05490837246179581,
          0.04337551072239876,
          0.0458502359688282,
          0.06037387251853943,
          0.056374065577983856,
          0.057982780039310455,
          0.04152360558509827,
          0.06021960824728012,
          0.0505148321390152,
          0.04605019465088844,
          0.043893683701753616,
          0.057188715785741806,
          0.051929134875535965,
          0.09345327317714691,
          0.044943615794181824,
          0.09351324290037155,
          0.04372702166438103,
          0.05077611282467842,
          0.051412418484687805,
          0.049426447600126266,
          0.04943454638123512,
          0.04436912015080452,
          0.05786413326859474,
          0.05598848685622215,
          0.05762027949094772,
          0.04742254316806793,
          0.04712678864598274,
          0.04721660539507866,
          0.05241625756025314,
          0.042857397347688675,
          0.058192722499370575,
          0.050388749688863754,
          0.06363408267498016,
          0.05439601093530655,
          0.047168049961328506,
          0.04853586480021477,
          0.05582264065742493,
          0.05291516333818436,
          0.04841260239481926,
          0.06029844284057617,
          0.05272256210446358,
          0.0512118898332119,
          0.05068515986204147,
          0.05202625319361687,
          0.04571598023176193,
          0.03731733188033104,
          0.051464322954416275,
          0.04806818813085556,
          0.050933416932821274,
          0.05448121950030327,
          0.04318302869796753,
          0.04480601102113724,
          0.05121723935008049,
          0.057618796825408936,
          0.05480724573135376,
          0.049714189022779465,
          0.03555002436041832,
          0.048609159886837006,
          0.04353228211402893,
          0.048923004418611526,
          0.0504668764770031,
          0.04782237857580185,
          0.051745712757110596,
          0.0385071225464344,
          0.05645786225795746,
          0.05379919335246086,
          0.05245703086256981,
          0.049553148448467255,
          0.036285389214754105,
          0.049246322363615036,
          0.04678279161453247,
          0.050502099096775055,
          0.06410867720842361,
          0.0486285537481308,
          0.043997179716825485,
          0.04377254098653793,
          0.054525893181562424,
          0.05914968624711037,
          0.04889127239584923,
          0.04978233575820923,
          0.05432416498661041,
          0.04712739586830139,
          0.04683254659175873,
          0.04321800172328949,
          0.0522608608007431,
          0.051752954721450806,
          0.054553061723709106,
          0.042856644839048386,
          0.060285404324531555,
          0.050000403076410294,
          0.05314187332987785,
          0.046081170439720154,
          0.0483865961432457,
          0.04399397596716881,
          0.051502957940101624,
          0.07350355386734009,
          0.05210047587752342,
          0.05483120679855347,
          0.04356002062559128,
          0.05046332627534866,
          0.054336171597242355,
          0.05134169012308121,
          0.05864664539694786,
          0.05206656455993652,
          0.037567559629678726,
          0.049333732575178146,
          0.056913163512945175,
          0.04940947890281677,
          0.04989244416356087,
          0.06336187571287155,
          0.05231771990656853,
          0.04581031948328018,
          0.06293633580207825,
          0.053925711661577225,
          0.0498635359108448,
          0.06031686067581177,
          0.058883845806121826,
          0.044800665229558945,
          0.04628656432032585,
          0.04925444349646568,
          0.04525984078645706,
          0.04530024528503418,
          0.04485202208161354,
          0.04801624268293381,
          0.05007261037826538,
          0.05364411324262619,
          0.04719505459070206,
          0.06153629347681999,
          0.05258150398731232,
          0.05389173701405525,
          0.05637689307332039,
          0.04974466934800148,
          0.05012224242091179,
          0.04958510026335716,
          0.05323547124862671,
          0.049078602343797684,
          0.05410454794764519,
          0.04237263277173042,
          0.06281416118144989,
          0.039217788726091385,
          0.04713185504078865,
          0.04400326684117317,
          0.046478498727083206,
          0.045045237988233566,
          0.04069595783948898,
          0.047602247446775436,
          0.03780762851238251,
          0.04645654559135437,
          0.05229418724775314,
          0.051511261612176895,
          0.03731755539774895,
          0.04850202798843384,
          0.045084577053785324,
          0.03813306987285614,
          0.043880440294742584,
          0.05246696621179581,
          0.04884542152285576,
          0.05823931097984314,
          0.05009625479578972,
          0.052463047206401825,
          0.05346168205142021,
          0.05255763232707977,
          0.05082320794463158,
          0.09499850869178772,
          0.06107129901647568,
          0.047002051025629044,
          0.05445869266986847,
          0.054746873676776886,
          0.03868063539266586,
          0.04237464815378189,
          0.037783168256282806,
          0.049274951219558716,
          0.054932255297899246,
          0.047254521399736404,
          0.05235058441758156,
          0.04673202335834503,
          0.040726400911808014,
          0.018257101997733116,
          0.05764107033610344,
          0.05392366275191307,
          0.04523007944226265,
          0.045411061495542526,
          0.05352504178881645,
          0.05437694117426872,
          0.052154917269945145,
          0.06026778370141983,
          0.051199328154325485,
          0.054277922958135605,
          0.045228660106658936,
          0.051112767308950424,
          0.056354377418756485,
          0.05020853504538536,
          0.05268506705760956,
          0.04508503898978233,
          0.04544563964009285,
          0.04456249624490738,
          0.05694771185517311,
          0.05484309419989586,
          0.04882436990737915,
          0.04814816266298294,
          0.04210072383284569,
          0.05856889858841896,
          0.04833495244383812,
          0.05593007430434227,
          0.05135878175497055,
          0.053367290645837784,
          0.04539139196276665,
          0.06924355030059814,
          0.0518280453979969,
          0.046936627477407455,
          0.04512285441160202,
          0.05663522705435753,
          0.04909752309322357,
          0.048345014452934265,
          0.051556795835494995,
          0.056125856935977936,
          0.04994472861289978,
          0.047106146812438965,
          0.04651225730776787,
          0.05284997075796127,
          0.048237502574920654,
          0.04900652542710304,
          0.049607351422309875,
          0.04767678305506706,
          0.05765634402632713,
          0.04774794727563858,
          0.057293299585580826,
          0.04869851842522621,
          0.051066529005765915,
          0.0394783690571785,
          0.04681205376982689,
          0.04353815317153931,
          0.04652071371674538,
          0.05048927664756775,
          0.05147761479020119,
          0.07149940729141235,
          0.06230120733380318,
          0.04507865756750107,
          0.047233011573553085,
          0.04862682521343231,
          0.04189426079392433,
          0.04074937477707863,
          0.05377119779586792,
          0.05465485528111458,
          0.04943743348121643,
          0.057579271495342255,
          0.04852500930428505,
          0.04944492131471634,
          0.05161578208208084,
          0.059019532054662704,
          0.05188252404332161,
          0.063034288585186,
          0.059835851192474365,
          0.05158158391714096,
          0.05862261727452278,
          0.03968968987464905,
          0.04877379164099693,
          0.05421339347958565,
          0.05325442552566528,
          0.051506172865629196,
          0.04648406431078911,
          0.0551670603454113,
          0.04864935576915741,
          0.01273705717176199,
          0.05972667410969734,
          0.0548669695854187,
          0.05417404696345329,
          0.07912719249725342,
          0.04526170715689659,
          0.047754112631082535,
          0.03845683112740517,
          0.04129810631275177,
          0.08124152570962906,
          0.04998096823692322,
          0.048395298421382904,
          0.048304129391908646,
          0.05201766639947891,
          0.04713589698076248,
          0.03585755452513695,
          0.04805498570203781,
          0.05677289888262749,
          0.04796603322029114,
          0.050392311066389084,
          0.05424417927861214,
          0.048811763525009155,
          0.0422574058175087,
          0.041656073182821274,
          0.056407708674669266,
          0.050704460591077805,
          0.04903099313378334,
          0.0355520099401474,
          0.0484713539481163,
          0.050267159938812256,
          0.06711119413375854,
          0.05529523640871048,
          0.047372132539749146,
          0.03171918913722038,
          0.03712529316544533,
          0.05343228578567505,
          0.06046690419316292,
          0.04988843575119972,
          0.04814714193344116,
          0.08075226843357086,
          0.05599558353424072,
          0.05567824840545654,
          0.052835047245025635,
          0.04672893509268761,
          0.05460749939084053,
          0.046941157430410385,
          0.07154630124568939,
          0.04970458149909973,
          0.04964836314320564,
          0.049907222390174866,
          0.04963560774922371,
          0.04576021432876587,
          0.04630613699555397,
          0.05482448637485504,
          0.04736417904496193,
          0.04740876704454422,
          0.050255268812179565,
          0.04642873257398605,
          0.04902535304427147,
          0.04772087559103966,
          0.043357204645872116,
          0.04624219611287117,
          0.054786670953035355,
          0.058647338300943375,
          0.043235983699560165,
          0.05032578855752945,
          0.04397702217102051,
          0.06051665171980858,
          0.05569559335708618,
          0.0559660829603672,
          0.06002042070031166,
          0.06618691235780716,
          0.047799259424209595,
          0.05023612454533577,
          0.053859174251556396,
          0.04485568776726723,
          0.06283115595579147,
          0.053033530712127686,
          0.052897948771715164,
          0.054049961268901825,
          0.0418621189892292,
          0.05714996159076691,
          0.05246046185493469,
          0.05432821065187454,
          0.04882568120956421,
          0.050417397171258926,
          0.05548776686191559,
          0.049317218363285065,
          0.05034423992037773,
          0.05188766121864319,
          0.05107198283076286,
          0.04420618712902069,
          0.045997254550457,
          0.05125224590301514,
          0.04650832712650299,
          0.04439573362469673,
          0.05050315707921982,
          0.049764811992645264,
          0.056619901210069656,
          0.04320332780480385,
          0.05695156380534172,
          0.07419489324092865,
          0.0405014269053936,
          0.04032626375555992,
          0.05489575117826462,
          0.05867823213338852,
          0.08593621850013733,
          0.05096869543194771,
          0.046394232660532,
          0.04558115452528,
          0.05765840783715248,
          0.05184871703386307,
          0.06826742738485336,
          0.0520121231675148,
          0.04595501348376274,
          0.058217812329530716,
          0.05018002539873123,
          0.060975927859544754,
          0.058179616928100586,
          0.06326491385698318,
          0.052143797278404236,
          0.04755432903766632,
          0.04514731839299202,
          0.05387040227651596,
          0.05126258358359337,
          0.044698238372802734,
          0.05421042442321777,
          0.062376417219638824,
          0.04779559373855591,
          0.05396312102675438,
          0.04089935123920441,
          0.054557543247938156,
          0.050543319433927536,
          0.04841906577348709,
          0.045556582510471344,
          0.06000405177474022,
          0.05512157455086708,
          0.05121302604675293,
          0.05229279771447182,
          0.04784059524536133,
          0.05319664254784584,
          0.0490785650908947,
          0.056632183492183685,
          0.053895920515060425,
          0.05160912498831749,
          0.046611979603767395,
          0.0621638223528862,
          0.050524286925792694,
          0.051370348781347275,
          0.04947298392653465,
          0.05305030941963196,
          0.04575782269239426,
          0.055479228496551514,
          0.04532014578580856,
          0.048417866230010986,
          0.049067746847867966,
          0.049273163080215454,
          0.07397765666246414,
          0.047363899648189545,
          0.04765789210796356,
          0.0580582469701767,
          0.05868271365761757
         ]
        }
       ],
       "layout": {
        "barmode": "overlay",
        "shapes": [
         {
          "line": {
           "color": "red",
           "width": 3
          },
          "type": "line",
          "x0": 0.0327824205160141,
          "x1": 0.0327824205160141,
          "xref": "x",
          "y0": 0,
          "y1": 90,
          "yref": "y"
         }
        ],
        "template": {
         "data": {
          "bar": [
           {
            "error_x": {
             "color": "#2a3f5f"
            },
            "error_y": {
             "color": "#2a3f5f"
            },
            "marker": {
             "line": {
              "color": "#E5ECF6",
              "width": 0.5
             },
             "pattern": {
              "fillmode": "overlay",
              "size": 10,
              "solidity": 0.2
             }
            },
            "type": "bar"
           }
          ],
          "barpolar": [
           {
            "marker": {
             "line": {
              "color": "#E5ECF6",
              "width": 0.5
             },
             "pattern": {
              "fillmode": "overlay",
              "size": 10,
              "solidity": 0.2
             }
            },
            "type": "barpolar"
           }
          ],
          "carpet": [
           {
            "aaxis": {
             "endlinecolor": "#2a3f5f",
             "gridcolor": "white",
             "linecolor": "white",
             "minorgridcolor": "white",
             "startlinecolor": "#2a3f5f"
            },
            "baxis": {
             "endlinecolor": "#2a3f5f",
             "gridcolor": "white",
             "linecolor": "white",
             "minorgridcolor": "white",
             "startlinecolor": "#2a3f5f"
            },
            "type": "carpet"
           }
          ],
          "choropleth": [
           {
            "colorbar": {
             "outlinewidth": 0,
             "ticks": ""
            },
            "type": "choropleth"
           }
          ],
          "contour": [
           {
            "colorbar": {
             "outlinewidth": 0,
             "ticks": ""
            },
            "colorscale": [
             [
              0,
              "#0d0887"
             ],
             [
              0.1111111111111111,
              "#46039f"
             ],
             [
              0.2222222222222222,
              "#7201a8"
             ],
             [
              0.3333333333333333,
              "#9c179e"
             ],
             [
              0.4444444444444444,
              "#bd3786"
             ],
             [
              0.5555555555555556,
              "#d8576b"
             ],
             [
              0.6666666666666666,
              "#ed7953"
             ],
             [
              0.7777777777777778,
              "#fb9f3a"
             ],
             [
              0.8888888888888888,
              "#fdca26"
             ],
             [
              1,
              "#f0f921"
             ]
            ],
            "type": "contour"
           }
          ],
          "contourcarpet": [
           {
            "colorbar": {
             "outlinewidth": 0,
             "ticks": ""
            },
            "type": "contourcarpet"
           }
          ],
          "heatmap": [
           {
            "colorbar": {
             "outlinewidth": 0,
             "ticks": ""
            },
            "colorscale": [
             [
              0,
              "#0d0887"
             ],
             [
              0.1111111111111111,
              "#46039f"
             ],
             [
              0.2222222222222222,
              "#7201a8"
             ],
             [
              0.3333333333333333,
              "#9c179e"
             ],
             [
              0.4444444444444444,
              "#bd3786"
             ],
             [
              0.5555555555555556,
              "#d8576b"
             ],
             [
              0.6666666666666666,
              "#ed7953"
             ],
             [
              0.7777777777777778,
              "#fb9f3a"
             ],
             [
              0.8888888888888888,
              "#fdca26"
             ],
             [
              1,
              "#f0f921"
             ]
            ],
            "type": "heatmap"
           }
          ],
          "heatmapgl": [
           {
            "colorbar": {
             "outlinewidth": 0,
             "ticks": ""
            },
            "colorscale": [
             [
              0,
              "#0d0887"
             ],
             [
              0.1111111111111111,
              "#46039f"
             ],
             [
              0.2222222222222222,
              "#7201a8"
             ],
             [
              0.3333333333333333,
              "#9c179e"
             ],
             [
              0.4444444444444444,
              "#bd3786"
             ],
             [
              0.5555555555555556,
              "#d8576b"
             ],
             [
              0.6666666666666666,
              "#ed7953"
             ],
             [
              0.7777777777777778,
              "#fb9f3a"
             ],
             [
              0.8888888888888888,
              "#fdca26"
             ],
             [
              1,
              "#f0f921"
             ]
            ],
            "type": "heatmapgl"
           }
          ],
          "histogram": [
           {
            "marker": {
             "pattern": {
              "fillmode": "overlay",
              "size": 10,
              "solidity": 0.2
             }
            },
            "type": "histogram"
           }
          ],
          "histogram2d": [
           {
            "colorbar": {
             "outlinewidth": 0,
             "ticks": ""
            },
            "colorscale": [
             [
              0,
              "#0d0887"
             ],
             [
              0.1111111111111111,
              "#46039f"
             ],
             [
              0.2222222222222222,
              "#7201a8"
             ],
             [
              0.3333333333333333,
              "#9c179e"
             ],
             [
              0.4444444444444444,
              "#bd3786"
             ],
             [
              0.5555555555555556,
              "#d8576b"
             ],
             [
              0.6666666666666666,
              "#ed7953"
             ],
             [
              0.7777777777777778,
              "#fb9f3a"
             ],
             [
              0.8888888888888888,
              "#fdca26"
             ],
             [
              1,
              "#f0f921"
             ]
            ],
            "type": "histogram2d"
           }
          ],
          "histogram2dcontour": [
           {
            "colorbar": {
             "outlinewidth": 0,
             "ticks": ""
            },
            "colorscale": [
             [
              0,
              "#0d0887"
             ],
             [
              0.1111111111111111,
              "#46039f"
             ],
             [
              0.2222222222222222,
              "#7201a8"
             ],
             [
              0.3333333333333333,
              "#9c179e"
             ],
             [
              0.4444444444444444,
              "#bd3786"
             ],
             [
              0.5555555555555556,
              "#d8576b"
             ],
             [
              0.6666666666666666,
              "#ed7953"
             ],
             [
              0.7777777777777778,
              "#fb9f3a"
             ],
             [
              0.8888888888888888,
              "#fdca26"
             ],
             [
              1,
              "#f0f921"
             ]
            ],
            "type": "histogram2dcontour"
           }
          ],
          "mesh3d": [
           {
            "colorbar": {
             "outlinewidth": 0,
             "ticks": ""
            },
            "type": "mesh3d"
           }
          ],
          "parcoords": [
           {
            "line": {
             "colorbar": {
              "outlinewidth": 0,
              "ticks": ""
             }
            },
            "type": "parcoords"
           }
          ],
          "pie": [
           {
            "automargin": true,
            "type": "pie"
           }
          ],
          "scatter": [
           {
            "marker": {
             "colorbar": {
              "outlinewidth": 0,
              "ticks": ""
             }
            },
            "type": "scatter"
           }
          ],
          "scatter3d": [
           {
            "line": {
             "colorbar": {
              "outlinewidth": 0,
              "ticks": ""
             }
            },
            "marker": {
             "colorbar": {
              "outlinewidth": 0,
              "ticks": ""
             }
            },
            "type": "scatter3d"
           }
          ],
          "scattercarpet": [
           {
            "marker": {
             "colorbar": {
              "outlinewidth": 0,
              "ticks": ""
             }
            },
            "type": "scattercarpet"
           }
          ],
          "scattergeo": [
           {
            "marker": {
             "colorbar": {
              "outlinewidth": 0,
              "ticks": ""
             }
            },
            "type": "scattergeo"
           }
          ],
          "scattergl": [
           {
            "marker": {
             "colorbar": {
              "outlinewidth": 0,
              "ticks": ""
             }
            },
            "type": "scattergl"
           }
          ],
          "scattermapbox": [
           {
            "marker": {
             "colorbar": {
              "outlinewidth": 0,
              "ticks": ""
             }
            },
            "type": "scattermapbox"
           }
          ],
          "scatterpolar": [
           {
            "marker": {
             "colorbar": {
              "outlinewidth": 0,
              "ticks": ""
             }
            },
            "type": "scatterpolar"
           }
          ],
          "scatterpolargl": [
           {
            "marker": {
             "colorbar": {
              "outlinewidth": 0,
              "ticks": ""
             }
            },
            "type": "scatterpolargl"
           }
          ],
          "scatterternary": [
           {
            "marker": {
             "colorbar": {
              "outlinewidth": 0,
              "ticks": ""
             }
            },
            "type": "scatterternary"
           }
          ],
          "surface": [
           {
            "colorbar": {
             "outlinewidth": 0,
             "ticks": ""
            },
            "colorscale": [
             [
              0,
              "#0d0887"
             ],
             [
              0.1111111111111111,
              "#46039f"
             ],
             [
              0.2222222222222222,
              "#7201a8"
             ],
             [
              0.3333333333333333,
              "#9c179e"
             ],
             [
              0.4444444444444444,
              "#bd3786"
             ],
             [
              0.5555555555555556,
              "#d8576b"
             ],
             [
              0.6666666666666666,
              "#ed7953"
             ],
             [
              0.7777777777777778,
              "#fb9f3a"
             ],
             [
              0.8888888888888888,
              "#fdca26"
             ],
             [
              1,
              "#f0f921"
             ]
            ],
            "type": "surface"
           }
          ],
          "table": [
           {
            "cells": {
             "fill": {
              "color": "#EBF0F8"
             },
             "line": {
              "color": "white"
             }
            },
            "header": {
             "fill": {
              "color": "#C8D4E3"
             },
             "line": {
              "color": "white"
             }
            },
            "type": "table"
           }
          ]
         },
         "layout": {
          "annotationdefaults": {
           "arrowcolor": "#2a3f5f",
           "arrowhead": 0,
           "arrowwidth": 1
          },
          "autotypenumbers": "strict",
          "coloraxis": {
           "colorbar": {
            "outlinewidth": 0,
            "ticks": ""
           }
          },
          "colorscale": {
           "diverging": [
            [
             0,
             "#8e0152"
            ],
            [
             0.1,
             "#c51b7d"
            ],
            [
             0.2,
             "#de77ae"
            ],
            [
             0.3,
             "#f1b6da"
            ],
            [
             0.4,
             "#fde0ef"
            ],
            [
             0.5,
             "#f7f7f7"
            ],
            [
             0.6,
             "#e6f5d0"
            ],
            [
             0.7,
             "#b8e186"
            ],
            [
             0.8,
             "#7fbc41"
            ],
            [
             0.9,
             "#4d9221"
            ],
            [
             1,
             "#276419"
            ]
           ],
           "sequential": [
            [
             0,
             "#0d0887"
            ],
            [
             0.1111111111111111,
             "#46039f"
            ],
            [
             0.2222222222222222,
             "#7201a8"
            ],
            [
             0.3333333333333333,
             "#9c179e"
            ],
            [
             0.4444444444444444,
             "#bd3786"
            ],
            [
             0.5555555555555556,
             "#d8576b"
            ],
            [
             0.6666666666666666,
             "#ed7953"
            ],
            [
             0.7777777777777778,
             "#fb9f3a"
            ],
            [
             0.8888888888888888,
             "#fdca26"
            ],
            [
             1,
             "#f0f921"
            ]
           ],
           "sequentialminus": [
            [
             0,
             "#0d0887"
            ],
            [
             0.1111111111111111,
             "#46039f"
            ],
            [
             0.2222222222222222,
             "#7201a8"
            ],
            [
             0.3333333333333333,
             "#9c179e"
            ],
            [
             0.4444444444444444,
             "#bd3786"
            ],
            [
             0.5555555555555556,
             "#d8576b"
            ],
            [
             0.6666666666666666,
             "#ed7953"
            ],
            [
             0.7777777777777778,
             "#fb9f3a"
            ],
            [
             0.8888888888888888,
             "#fdca26"
            ],
            [
             1,
             "#f0f921"
            ]
           ]
          },
          "colorway": [
           "#636efa",
           "#EF553B",
           "#00cc96",
           "#ab63fa",
           "#FFA15A",
           "#19d3f3",
           "#FF6692",
           "#B6E880",
           "#FF97FF",
           "#FECB52"
          ],
          "font": {
           "color": "#2a3f5f"
          },
          "geo": {
           "bgcolor": "white",
           "lakecolor": "white",
           "landcolor": "#E5ECF6",
           "showlakes": true,
           "showland": true,
           "subunitcolor": "white"
          },
          "hoverlabel": {
           "align": "left"
          },
          "hovermode": "closest",
          "mapbox": {
           "style": "light"
          },
          "paper_bgcolor": "white",
          "plot_bgcolor": "#E5ECF6",
          "polar": {
           "angularaxis": {
            "gridcolor": "white",
            "linecolor": "white",
            "ticks": ""
           },
           "bgcolor": "#E5ECF6",
           "radialaxis": {
            "gridcolor": "white",
            "linecolor": "white",
            "ticks": ""
           }
          },
          "scene": {
           "xaxis": {
            "backgroundcolor": "#E5ECF6",
            "gridcolor": "white",
            "gridwidth": 2,
            "linecolor": "white",
            "showbackground": true,
            "ticks": "",
            "zerolinecolor": "white"
           },
           "yaxis": {
            "backgroundcolor": "#E5ECF6",
            "gridcolor": "white",
            "gridwidth": 2,
            "linecolor": "white",
            "showbackground": true,
            "ticks": "",
            "zerolinecolor": "white"
           },
           "zaxis": {
            "backgroundcolor": "#E5ECF6",
            "gridcolor": "white",
            "gridwidth": 2,
            "linecolor": "white",
            "showbackground": true,
            "ticks": "",
            "zerolinecolor": "white"
           }
          },
          "shapedefaults": {
           "line": {
            "color": "#2a3f5f"
           }
          },
          "ternary": {
           "aaxis": {
            "gridcolor": "white",
            "linecolor": "white",
            "ticks": ""
           },
           "baxis": {
            "gridcolor": "white",
            "linecolor": "white",
            "ticks": ""
           },
           "bgcolor": "#E5ECF6",
           "caxis": {
            "gridcolor": "white",
            "linecolor": "white",
            "ticks": ""
           }
          },
          "title": {
           "x": 0.05
          },
          "xaxis": {
           "automargin": true,
           "gridcolor": "white",
           "linecolor": "white",
           "ticks": "",
           "title": {
            "standoff": 15
           },
           "zerolinecolor": "white",
           "zerolinewidth": 2
          },
          "yaxis": {
           "automargin": true,
           "gridcolor": "white",
           "linecolor": "white",
           "ticks": "",
           "title": {
            "standoff": 15
           },
           "zerolinecolor": "white",
           "zerolinewidth": 2
          }
         }
        }
       }
      }
     },
     "metadata": {}
    }
   ],
   "metadata": {}
  },
  {
   "cell_type": "markdown",
   "source": [
    "The red vertical line is at the threshold. Anything above the red vertical line is considered as an anormaly. \n",
    "\n",
    "## How accurate is our model \n",
    "\n",
    "We will compute the accuracy, precision and recall of our model. "
   ],
   "metadata": {}
  },
  {
   "cell_type": "code",
   "execution_count": 40,
   "source": [
    "def predict(model, data, threshold):\n",
    "  reconstructions = model(data)\n",
    "  loss = tf.keras.losses.mae(reconstructions, data)\n",
    "  return tf.math.less(loss, threshold)\n",
    "\n",
    "def print_stats(predictions, labels):\n",
    "  print(\"Accuracy = {}\".format(accuracy_score(labels, predictions)))\n",
    "  print(\"Precision = {}\".format(precision_score(labels, predictions)))\n",
    "  print(\"Recall = {}\".format(recall_score(labels, predictions)))\n",
    "\n",
    "\n",
    "\n",
    "preds = predict(autoencoder, test_data, threshold)\n",
    "print_stats(preds, test_labels)"
   ],
   "outputs": [
    {
     "output_type": "stream",
     "name": "stdout",
     "text": [
      "Accuracy = 0.944\nPrecision = 0.9921875\nRecall = 0.9071428571428571\n"
     ]
    }
   ],
   "metadata": {}
  },
  {
   "cell_type": "markdown",
   "source": [
    "## Final words\n",
    "\n",
    "In this blog post, we have seen how autoencoders can be used to detect anomalies in our data. The ECG data is a  nice example to illustrate the idea, however, with a typical real-world use case, there will be more shortcomings. "
   ],
   "metadata": {}
  }
 ]
}