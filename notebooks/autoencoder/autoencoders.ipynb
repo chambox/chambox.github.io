{
 "metadata": {
  "language_info": {
   "codemirror_mode": {
    "name": "ipython",
    "version": 3
   },
   "file_extension": ".py",
   "mimetype": "text/x-python",
   "name": "python",
   "nbconvert_exporter": "python",
   "pygments_lexer": "ipython3",
   "version": "3.7.9"
  },
  "orig_nbformat": 4,
  "kernelspec": {
   "name": "python3",
   "display_name": "Python 3.7.9 64-bit ('venv': venv)"
  },
  "interpreter": {
   "hash": "7473eb5de9899b903baf5af208a8c617653e3ff3071504d1e46d9b22301cad0e"
  }
 },
 "nbformat": 4,
 "nbformat_minor": 2,
 "cells": [
  {
   "cell_type": "markdown",
   "source": [
    "## Anomaly detection with autoencoders\n",
    "\n",
    "In this blog post we will use autoencoders to detect anomalies in ECG5000 dataset. In writing this blog post I have assumed that the reader has some basic understanding of neural networks and autoencoders as a specific type of neural network. Jeremy Jordan has a nice 10mins-read blog post on autoencoders, you can find it [here](https://www.jeremyjordan.me/autoencoders/).  The ECG5000 dataset which we will use contains 50,000 Electrocardiograms (ECG). Each cardiogram has 140 data points.  Luckily for us, the data has been labeled into a normal and abnormal rhythm by medical experts. Our goal is to use autoencoders to see if they can mimic the knowledge of a medical doctor and identify abnormal Electrocardiograms.\n",
    "\n",
    "Our approach will be to (1) train the autoencoder on the normal data and (2) use our trained model to reconstruct the entire dataset. We hypothesize that abnormal Electrocardiograms will have a higher reconstruction error. Recall that an autoencoder takes the input data and projects it onto a lower-dimensional space that captures only the signals in the data. The data can then be reconstructed from the lower-dimensional space. Note here that if a data point is noisy its reconstruction error (the distance between the actual point and the reconstructed one) will be large. It is this simple principle that we use to identity anomalies. \n",
    "\n",
    "\n",
    "## Lets load the ECG data "
   ],
   "metadata": {}
  },
  {
   "cell_type": "code",
   "execution_count": 2,
   "source": [
    "# libraries \n",
    "import matplotlib.pyplot as plt\n",
    "import numpy as np\n",
    "import pandas as pd\n",
    "import tensorflow as tf\n",
    "\n",
    "\n",
    "from sklearn.model_selection import train_test_split\n",
    "from sklearn.metrics import accuracy_score, precision_score, recall_score\n",
    "from tensorflow.keras import layers, losses\n",
    "from tensorflow.keras.datasets import fashion_mnist\n",
    "from tensorflow.keras.models import Model\n",
    "import plotly.express as px \n",
    "import plotly.graph_objects as go \n",
    "import plotly.offline as py_offline"
   ],
   "outputs": [
    {
     "output_type": "stream",
     "name": "stderr",
     "text": [
      "2021-07-02 00:48:00.309464: W tensorflow/stream_executor/platform/default/dso_loader.cc:64] Could not load dynamic library 'libcudart.so.11.0'; dlerror: libcudart.so.11.0: cannot open shared object file: No such file or directory\n2021-07-02 00:48:00.309482: I tensorflow/stream_executor/cuda/cudart_stub.cc:29] Ignore above cudart dlerror if you do not have a GPU set up on your machine.\n"
     ]
    }
   ],
   "metadata": {}
  },
  {
   "cell_type": "code",
   "execution_count": 3,
   "source": [
    "# Download the dataset\n",
    "url = 'http://storage.googleapis.com/download.tensorflow.org/data/ecg.csv'\n",
    "\n",
    "dataframe = pd.read_csv(url,header=None)\n",
    "raw_data = dataframe.values\n",
    "# first five rows and columns\n",
    "print(dataframe.iloc[:,0:5].head().to_markdown())"
   ],
   "outputs": [
    {
     "output_type": "stream",
     "name": "stdout",
     "text": [
      "|    |         0 |         1 |        2 |        3 |        4 |\n|---:|----------:|----------:|---------:|---------:|---------:|\n|  0 | -0.112522 | -2.8272   | -3.7739  | -4.34975 | -4.37604 |\n|  1 | -1.10088  | -3.99684  | -4.28584 | -4.50658 | -4.02238 |\n|  2 | -0.567088 | -2.59345  | -3.87423 | -4.58409 | -4.18745 |\n|  3 |  0.490473 | -1.91441  | -3.61636 | -4.31882 | -4.26802 |\n|  4 |  0.800232 | -0.874252 | -2.38476 | -3.97329 | -4.33822 |\n"
     ]
    }
   ],
   "metadata": {
    "tags": []
   }
  },
  {
   "cell_type": "markdown",
   "source": [
    "The last column contains the labels. The other data points are the electrocardiogram data. We will also create a train and test a dataset, as well as their labels, this is what data scientists do to overcome a serious problem in data science namely `over-fitting`."
   ],
   "metadata": {}
  },
  {
   "cell_type": "code",
   "execution_count": 4,
   "source": [
    "# The last element contains the labels\n",
    "labels = raw_data[:, -1]\n",
    "\n",
    "# The other data points are the electrocadriogram data\n",
    "data = raw_data[:, 0:-1]\n",
    "\n",
    "train_data, test_data, train_labels, test_labels = train_test_split(\n",
    "    data, labels, test_size=0.2, random_state=21\n",
    ")"
   ],
   "outputs": [],
   "metadata": {}
  },
  {
   "cell_type": "markdown",
   "source": [
    "We will also normalize the data to lie between [0,1]. Note here that we do normalization because to speed up the learning and convergence of the optimizer. \n"
   ],
   "metadata": {}
  },
  {
   "cell_type": "code",
   "execution_count": 5,
   "source": [
    "min_val = tf.reduce_min(train_data)\n",
    "max_val = tf.reduce_max(train_data)\n",
    "\n",
    "train_data = (train_data - min_val) / (max_val - min_val)\n",
    "test_data = (test_data - min_val) / (max_val - min_val)\n",
    "\n",
    "train_data = tf.cast(train_data, tf.float32)\n",
    "test_data = tf.cast(test_data, tf.float32)"
   ],
   "outputs": [
    {
     "output_type": "stream",
     "name": "stderr",
     "text": [
      "2021-07-02 00:48:02.515008: I tensorflow/stream_executor/platform/default/dso_loader.cc:53] Successfully opened dynamic library libcuda.so.1\n2021-07-02 00:48:02.540194: I tensorflow/stream_executor/cuda/cuda_gpu_executor.cc:937] successful NUMA node read from SysFS had negative value (-1), but there must be at least one NUMA node, so returning NUMA node zero\n2021-07-02 00:48:02.540381: I tensorflow/core/common_runtime/gpu/gpu_device.cc:1733] Found device 0 with properties: \npciBusID: 0000:01:00.0 name: Quadro T2000 computeCapability: 7.5\ncoreClock: 1.5GHz coreCount: 16 deviceMemorySize: 3.82GiB deviceMemoryBandwidth: 104.34GiB/s\n2021-07-02 00:48:02.540443: W tensorflow/stream_executor/platform/default/dso_loader.cc:64] Could not load dynamic library 'libcudart.so.11.0'; dlerror: libcudart.so.11.0: cannot open shared object file: No such file or directory\n2021-07-02 00:48:02.540482: W tensorflow/stream_executor/platform/default/dso_loader.cc:64] Could not load dynamic library 'libcublas.so.11'; dlerror: libcublas.so.11: cannot open shared object file: No such file or directory\n2021-07-02 00:48:02.540520: W tensorflow/stream_executor/platform/default/dso_loader.cc:64] Could not load dynamic library 'libcublasLt.so.11'; dlerror: libcublasLt.so.11: cannot open shared object file: No such file or directory\n2021-07-02 00:48:02.540556: W tensorflow/stream_executor/platform/default/dso_loader.cc:64] Could not load dynamic library 'libcufft.so.10'; dlerror: libcufft.so.10: cannot open shared object file: No such file or directory\n2021-07-02 00:48:02.540592: W tensorflow/stream_executor/platform/default/dso_loader.cc:64] Could not load dynamic library 'libcurand.so.10'; dlerror: libcurand.so.10: cannot open shared object file: No such file or directory\n2021-07-02 00:48:02.540628: W tensorflow/stream_executor/platform/default/dso_loader.cc:64] Could not load dynamic library 'libcusolver.so.11'; dlerror: libcusolver.so.11: cannot open shared object file: No such file or directory\n2021-07-02 00:48:02.540663: W tensorflow/stream_executor/platform/default/dso_loader.cc:64] Could not load dynamic library 'libcusparse.so.11'; dlerror: libcusparse.so.11: cannot open shared object file: No such file or directory\n2021-07-02 00:48:02.540699: W tensorflow/stream_executor/platform/default/dso_loader.cc:64] Could not load dynamic library 'libcudnn.so.8'; dlerror: libcudnn.so.8: cannot open shared object file: No such file or directory\n2021-07-02 00:48:02.540706: W tensorflow/core/common_runtime/gpu/gpu_device.cc:1766] Cannot dlopen some GPU libraries. Please make sure the missing libraries mentioned above are installed properly if you would like to use GPU. Follow the guide at https://www.tensorflow.org/install/gpu for how to download and setup the required libraries for your platform.\nSkipping registering GPU devices...\n2021-07-02 00:48:02.541297: I tensorflow/core/platform/cpu_feature_guard.cc:142] This TensorFlow binary is optimized with oneAPI Deep Neural Network Library (oneDNN) to use the following CPU instructions in performance-critical operations:  AVX2 FMA\nTo enable them in other operations, rebuild TensorFlow with the appropriate compiler flags.\n2021-07-02 00:48:02.541609: I tensorflow/core/common_runtime/gpu/gpu_device.cc:1258] Device interconnect StreamExecutor with strength 1 edge matrix:\n2021-07-02 00:48:02.541618: I tensorflow/core/common_runtime/gpu/gpu_device.cc:1264]      \n"
     ]
    }
   ],
   "metadata": {}
  },
  {
   "cell_type": "code",
   "execution_count": null,
   "source": [],
   "outputs": [],
   "metadata": {}
  },
  {
   "cell_type": "markdown",
   "source": [
    "\n",
    "As mentioned earlier, we will only train the autoencoder on the data with normal rhythms. Electrocardiograms with normal rhythm are labeled with 1. We will separate the normal rhythm from the abnormal ones in the following chunk of code."
   ],
   "metadata": {}
  },
  {
   "cell_type": "code",
   "execution_count": 6,
   "source": [
    "train_labels = train_labels.astype(bool)\n",
    "test_labels = test_labels.astype(bool)\n",
    "\n",
    "normal_train_data = train_data[train_labels]\n",
    "normal_test_data = test_data[test_labels]\n",
    "\n",
    "\n",
    "abnormal_train_data = train_data[~train_labels]\n",
    "abnormal_test_data = test_data[~test_labels]"
   ],
   "outputs": [],
   "metadata": {}
  },
  {
   "cell_type": "markdown",
   "source": [
    "Let's visualize a normal and an abnormal  ECG. "
   ],
   "metadata": {}
  },
  {
   "cell_type": "code",
   "execution_count": 7,
   "source": [
    "fig = go.Figure()\n",
    "trace1 = go.Scatter(x=np.arange(140), y=normal_train_data[0],name='Normal')\n",
    "trace2 = go.Scatter(x=np.arange(140), y=abnormal_train_data[0],name='Abnormal')\n",
    "data = [trace1,trace2]\n",
    "py_offline.plot(data, filename='basic-line', include_plotlyjs=False, output_type='div')\n",
    "\n"
   ],
   "outputs": [
    {
     "output_type": "execute_result",
     "data": {
      "text/plain": [
       "'<div>                            <div id=\"dd845d70-4a27-4f0e-9fc0-ca14cc91c83f\" class=\"plotly-graph-div\" style=\"height:100%; width:100%;\"></div>            <script type=\"text/javascript\">                                    window.PLOTLYENV=window.PLOTLYENV || {};                                    if (document.getElementById(\"dd845d70-4a27-4f0e-9fc0-ca14cc91c83f\")) {                    Plotly.newPlot(                        \"dd845d70-4a27-4f0e-9fc0-ca14cc91c83f\",                        [{\"name\":\"Normal\",\"type\":\"scatter\",\"x\":[0,1,2,3,4,5,6,7,8,9,10,11,12,13,14,15,16,17,18,19,20,21,22,23,24,25,26,27,28,29,30,31,32,33,34,35,36,37,38,39,40,41,42,43,44,45,46,47,48,49,50,51,52,53,54,55,56,57,58,59,60,61,62,63,64,65,66,67,68,69,70,71,72,73,74,75,76,77,78,79,80,81,82,83,84,85,86,87,88,89,90,91,92,93,94,95,96,97,98,99,100,101,102,103,104,105,106,107,108,109,110,111,112,113,114,115,116,117,118,119,120,121,122,123,124,125,126,127,128,129,130,131,132,133,134,135,136,137,138,139],\"y\":[0.5703046321868896,0.4656165838241577,0.2905811667442322,0.17791584134101868,0.09538919478654861,0.08467857539653778,0.2019510418176651,0.3163002133369446,0.33732032775878906,0.41424882411956787,0.47070595622062683,0.4691905081272125,0.4776775538921356,0.48004090785980225,0.4702724516391754,0.4729926884174347,0.479171484708786,0.48027467727661133,0.46928870677948,0.46106863021850586,0.46148037910461426,0.4465829133987427,0.45325326919555664,0.4561009407043457,0.4489617943763733,0.44325318932533264,0.4340217411518097,0.4430723488330841,0.4325052499771118,0.43014901876449585,0.41454657912254333,0.4120652973651886,0.40420278906822205,0.4105454385280609,0.4082913100719452,0.40342992544174194,0.39648476243019104,0.3933204412460327,0.39158815145492554,0.3960387706756592,0.4074695408344269,0.40531179308891296,0.41734880208969116,0.41624557971954346,0.42334118485450745,0.4459063708782196,0.4455184042453766,0.44474098086357117,0.44404327869415283,0.4567321836948395,0.4521746337413788,0.4532504081726074,0.46082931756973267,0.4669593572616577,0.4663194417953491,0.47432830929756165,0.46297091245651245,0.4738894999027252,0.4678889811038971,0.4673447906970978,0.4802667498588562,0.48439839482307434,0.48574668169021606,0.48985567688941956,0.4931734800338745,0.48830410838127136,0.49913936853408813,0.505709171295166,0.5078241229057312,0.5132302641868591,0.5211992859840393,0.514991819858551,0.519900918006897,0.5074853897094727,0.5113434195518494,0.5092939734458923,0.5073481798171997,0.5110538005828857,0.5096123814582825,0.4963955879211426,0.49456536769866943,0.5014910101890564,0.5063670873641968,0.5020293593406677,0.5007152557373047,0.4958237409591675,0.4843623638153076,0.4914246201515198,0.4825357496738434,0.47723883390426636,0.47550636529922485,0.47530031204223633,0.4876338243484497,0.4776129722595215,0.474583238363266,0.4757544696331024,0.47009119391441345,0.4540967047214508,0.46874862909317017,0.4767007529735565,0.4795878529548645,0.4751480519771576,0.47619494795799255,0.48561891913414,0.48763763904571533,0.4996277689933777,0.5284430384635925,0.5431970953941345,0.5495933294296265,0.5488370060920715,0.5231477618217468,0.4934438467025757,0.49881476163864136,0.5099680423736572,0.516133189201355,0.4907889664173126,0.4668024778366089,0.43299439549446106,0.4164400100708008,0.4182245135307312,0.43140411376953125,0.43214115500450134,0.4212411642074585,0.42373567819595337,0.42885276675224304,0.43089887499809265,0.43537637591362,0.4391244351863861,0.4371418356895447,0.4453428089618683,0.4533092975616455,0.48821336030960083,0.5786804556846619,0.5858615636825562,0.5959517955780029,0.5952476263046265,0.5700759291648865,0.4850423336029053,0.42335018515586853,0.4759834408760071]},{\"name\":\"Abnormal\",\"type\":\"scatter\",\"x\":[0,1,2,3,4,5,6,7,8,9,10,11,12,13,14,15,16,17,18,19,20,21,22,23,24,25,26,27,28,29,30,31,32,33,34,35,36,37,38,39,40,41,42,43,44,45,46,47,48,49,50,51,52,53,54,55,56,57,58,59,60,61,62,63,64,65,66,67,68,69,70,71,72,73,74,75,76,77,78,79,80,81,82,83,84,85,86,87,88,89,90,91,92,93,94,95,96,97,98,99,100,101,102,103,104,105,106,107,108,109,110,111,112,113,114,115,116,117,118,119,120,121,122,123,124,125,126,127,128,129,130,131,132,133,134,135,136,137,138,139],\"y\":[0.4304001033306122,0.35345321893692017,0.3034263849258423,0.2818489074707031,0.28353944420814514,0.28959953784942627,0.3114522695541382,0.3470645248889923,0.3809654414653778,0.39506226778030396,0.3976452350616455,0.41356122493743896,0.4387162923812866,0.4520491063594818,0.4495706260204315,0.44956129789352417,0.45499545335769653,0.45426806807518005,0.44863343238830566,0.45084789395332336,0.45330581068992615,0.4520796537399292,0.4475529193878174,0.44939249753952026,0.4473649561405182,0.44874852895736694,0.4485017955303192,0.4462437331676483,0.44809791445732117,0.4483480751514435,0.44390979409217834,0.44208911061286926,0.4433857798576355,0.44462850689888,0.43986889719963074,0.4404641091823578,0.4400186240673065,0.43668332695961,0.4339315891265869,0.4317610263824463,0.4295136630535126,0.4274426996707916,0.42877644300460815,0.42894187569618225,0.4254743754863739,0.42517906427383423,0.42631953954696655,0.4277213215827942,0.42250746488571167,0.42367860674858093,0.4281102418899536,0.4270593523979187,0.4272007346153259,0.4308776557445526,0.4309622049331665,0.43490204215049744,0.43578556180000305,0.43896228075027466,0.44403478503227234,0.4491182863712311,0.453519344329834,0.4524179995059967,0.45339763164520264,0.45347079634666443,0.45640361309051514,0.45917513966560364,0.45685112476348877,0.45898863673210144,0.4569636881351471,0.45675793290138245,0.46130383014678955,0.45900118350982666,0.46151021122932434,0.46561598777770996,0.4587060809135437,0.4582265317440033,0.4626377522945404,0.4621920883655548,0.4627910554409027,0.46581798791885376,0.4644567370414734,0.4647052586078644,0.46456974744796753,0.4647565186023712,0.46593987941741943,0.46568334102630615,0.46936455368995667,0.47205060720443726,0.4691234230995178,0.4770551025867462,0.4743116497993469,0.4712502956390381,0.476502001285553,0.4755341112613678,0.47373101115226746,0.47748467326164246,0.48040735721588135,0.47647133469581604,0.4788639545440674,0.48452094197273254,0.4846736788749695,0.4795249104499817,0.4818657338619232,0.4819636642932892,0.48308029770851135,0.47801387310028076,0.48302972316741943,0.48857638239860535,0.48736441135406494,0.49351075291633606,0.49945521354675293,0.505765438079834,0.5169975757598877,0.527177631855011,0.5347791314125061,0.544451892375946,0.5556207895278931,0.5749051570892334,0.5851321816444397,0.5897799730300903,0.5978419184684753,0.6050950884819031,0.6238124370574951,0.6344885230064392,0.6365599036216736,0.6482247710227966,0.6608508229255676,0.6543368697166443,0.6259334683418274,0.5985985398292542,0.5772880911827087,0.5069698095321655,0.423368364572525,0.395474374294281,0.3666984438896179,0.35847392678260803,0.34862595796585083,0.3050689399242401,0.2622550129890442,0.25020110607147217]}],                        {\"template\":{\"data\":{\"bar\":[{\"error_x\":{\"color\":\"#2a3f5f\"},\"error_y\":{\"color\":\"#2a3f5f\"},\"marker\":{\"line\":{\"color\":\"#E5ECF6\",\"width\":0.5},\"pattern\":{\"fillmode\":\"overlay\",\"size\":10,\"solidity\":0.2}},\"type\":\"bar\"}],\"barpolar\":[{\"marker\":{\"line\":{\"color\":\"#E5ECF6\",\"width\":0.5},\"pattern\":{\"fillmode\":\"overlay\",\"size\":10,\"solidity\":0.2}},\"type\":\"barpolar\"}],\"carpet\":[{\"aaxis\":{\"endlinecolor\":\"#2a3f5f\",\"gridcolor\":\"white\",\"linecolor\":\"white\",\"minorgridcolor\":\"white\",\"startlinecolor\":\"#2a3f5f\"},\"baxis\":{\"endlinecolor\":\"#2a3f5f\",\"gridcolor\":\"white\",\"linecolor\":\"white\",\"minorgridcolor\":\"white\",\"startlinecolor\":\"#2a3f5f\"},\"type\":\"carpet\"}],\"choropleth\":[{\"colorbar\":{\"outlinewidth\":0,\"ticks\":\"\"},\"type\":\"choropleth\"}],\"contour\":[{\"colorbar\":{\"outlinewidth\":0,\"ticks\":\"\"},\"colorscale\":[[0.0,\"#0d0887\"],[0.1111111111111111,\"#46039f\"],[0.2222222222222222,\"#7201a8\"],[0.3333333333333333,\"#9c179e\"],[0.4444444444444444,\"#bd3786\"],[0.5555555555555556,\"#d8576b\"],[0.6666666666666666,\"#ed7953\"],[0.7777777777777778,\"#fb9f3a\"],[0.8888888888888888,\"#fdca26\"],[1.0,\"#f0f921\"]],\"type\":\"contour\"}],\"contourcarpet\":[{\"colorbar\":{\"outlinewidth\":0,\"ticks\":\"\"},\"type\":\"contourcarpet\"}],\"heatmap\":[{\"colorbar\":{\"outlinewidth\":0,\"ticks\":\"\"},\"colorscale\":[[0.0,\"#0d0887\"],[0.1111111111111111,\"#46039f\"],[0.2222222222222222,\"#7201a8\"],[0.3333333333333333,\"#9c179e\"],[0.4444444444444444,\"#bd3786\"],[0.5555555555555556,\"#d8576b\"],[0.6666666666666666,\"#ed7953\"],[0.7777777777777778,\"#fb9f3a\"],[0.8888888888888888,\"#fdca26\"],[1.0,\"#f0f921\"]],\"type\":\"heatmap\"}],\"heatmapgl\":[{\"colorbar\":{\"outlinewidth\":0,\"ticks\":\"\"},\"colorscale\":[[0.0,\"#0d0887\"],[0.1111111111111111,\"#46039f\"],[0.2222222222222222,\"#7201a8\"],[0.3333333333333333,\"#9c179e\"],[0.4444444444444444,\"#bd3786\"],[0.5555555555555556,\"#d8576b\"],[0.6666666666666666,\"#ed7953\"],[0.7777777777777778,\"#fb9f3a\"],[0.8888888888888888,\"#fdca26\"],[1.0,\"#f0f921\"]],\"type\":\"heatmapgl\"}],\"histogram\":[{\"marker\":{\"pattern\":{\"fillmode\":\"overlay\",\"size\":10,\"solidity\":0.2}},\"type\":\"histogram\"}],\"histogram2d\":[{\"colorbar\":{\"outlinewidth\":0,\"ticks\":\"\"},\"colorscale\":[[0.0,\"#0d0887\"],[0.1111111111111111,\"#46039f\"],[0.2222222222222222,\"#7201a8\"],[0.3333333333333333,\"#9c179e\"],[0.4444444444444444,\"#bd3786\"],[0.5555555555555556,\"#d8576b\"],[0.6666666666666666,\"#ed7953\"],[0.7777777777777778,\"#fb9f3a\"],[0.8888888888888888,\"#fdca26\"],[1.0,\"#f0f921\"]],\"type\":\"histogram2d\"}],\"histogram2dcontour\":[{\"colorbar\":{\"outlinewidth\":0,\"ticks\":\"\"},\"colorscale\":[[0.0,\"#0d0887\"],[0.1111111111111111,\"#46039f\"],[0.2222222222222222,\"#7201a8\"],[0.3333333333333333,\"#9c179e\"],[0.4444444444444444,\"#bd3786\"],[0.5555555555555556,\"#d8576b\"],[0.6666666666666666,\"#ed7953\"],[0.7777777777777778,\"#fb9f3a\"],[0.8888888888888888,\"#fdca26\"],[1.0,\"#f0f921\"]],\"type\":\"histogram2dcontour\"}],\"mesh3d\":[{\"colorbar\":{\"outlinewidth\":0,\"ticks\":\"\"},\"type\":\"mesh3d\"}],\"parcoords\":[{\"line\":{\"colorbar\":{\"outlinewidth\":0,\"ticks\":\"\"}},\"type\":\"parcoords\"}],\"pie\":[{\"automargin\":true,\"type\":\"pie\"}],\"scatter\":[{\"marker\":{\"colorbar\":{\"outlinewidth\":0,\"ticks\":\"\"}},\"type\":\"scatter\"}],\"scatter3d\":[{\"line\":{\"colorbar\":{\"outlinewidth\":0,\"ticks\":\"\"}},\"marker\":{\"colorbar\":{\"outlinewidth\":0,\"ticks\":\"\"}},\"type\":\"scatter3d\"}],\"scattercarpet\":[{\"marker\":{\"colorbar\":{\"outlinewidth\":0,\"ticks\":\"\"}},\"type\":\"scattercarpet\"}],\"scattergeo\":[{\"marker\":{\"colorbar\":{\"outlinewidth\":0,\"ticks\":\"\"}},\"type\":\"scattergeo\"}],\"scattergl\":[{\"marker\":{\"colorbar\":{\"outlinewidth\":0,\"ticks\":\"\"}},\"type\":\"scattergl\"}],\"scattermapbox\":[{\"marker\":{\"colorbar\":{\"outlinewidth\":0,\"ticks\":\"\"}},\"type\":\"scattermapbox\"}],\"scatterpolar\":[{\"marker\":{\"colorbar\":{\"outlinewidth\":0,\"ticks\":\"\"}},\"type\":\"scatterpolar\"}],\"scatterpolargl\":[{\"marker\":{\"colorbar\":{\"outlinewidth\":0,\"ticks\":\"\"}},\"type\":\"scatterpolargl\"}],\"scatterternary\":[{\"marker\":{\"colorbar\":{\"outlinewidth\":0,\"ticks\":\"\"}},\"type\":\"scatterternary\"}],\"surface\":[{\"colorbar\":{\"outlinewidth\":0,\"ticks\":\"\"},\"colorscale\":[[0.0,\"#0d0887\"],[0.1111111111111111,\"#46039f\"],[0.2222222222222222,\"#7201a8\"],[0.3333333333333333,\"#9c179e\"],[0.4444444444444444,\"#bd3786\"],[0.5555555555555556,\"#d8576b\"],[0.6666666666666666,\"#ed7953\"],[0.7777777777777778,\"#fb9f3a\"],[0.8888888888888888,\"#fdca26\"],[1.0,\"#f0f921\"]],\"type\":\"surface\"}],\"table\":[{\"cells\":{\"fill\":{\"color\":\"#EBF0F8\"},\"line\":{\"color\":\"white\"}},\"header\":{\"fill\":{\"color\":\"#C8D4E3\"},\"line\":{\"color\":\"white\"}},\"type\":\"table\"}]},\"layout\":{\"annotationdefaults\":{\"arrowcolor\":\"#2a3f5f\",\"arrowhead\":0,\"arrowwidth\":1},\"autotypenumbers\":\"strict\",\"coloraxis\":{\"colorbar\":{\"outlinewidth\":0,\"ticks\":\"\"}},\"colorscale\":{\"diverging\":[[0,\"#8e0152\"],[0.1,\"#c51b7d\"],[0.2,\"#de77ae\"],[0.3,\"#f1b6da\"],[0.4,\"#fde0ef\"],[0.5,\"#f7f7f7\"],[0.6,\"#e6f5d0\"],[0.7,\"#b8e186\"],[0.8,\"#7fbc41\"],[0.9,\"#4d9221\"],[1,\"#276419\"]],\"sequential\":[[0.0,\"#0d0887\"],[0.1111111111111111,\"#46039f\"],[0.2222222222222222,\"#7201a8\"],[0.3333333333333333,\"#9c179e\"],[0.4444444444444444,\"#bd3786\"],[0.5555555555555556,\"#d8576b\"],[0.6666666666666666,\"#ed7953\"],[0.7777777777777778,\"#fb9f3a\"],[0.8888888888888888,\"#fdca26\"],[1.0,\"#f0f921\"]],\"sequentialminus\":[[0.0,\"#0d0887\"],[0.1111111111111111,\"#46039f\"],[0.2222222222222222,\"#7201a8\"],[0.3333333333333333,\"#9c179e\"],[0.4444444444444444,\"#bd3786\"],[0.5555555555555556,\"#d8576b\"],[0.6666666666666666,\"#ed7953\"],[0.7777777777777778,\"#fb9f3a\"],[0.8888888888888888,\"#fdca26\"],[1.0,\"#f0f921\"]]},\"colorway\":[\"#636efa\",\"#EF553B\",\"#00cc96\",\"#ab63fa\",\"#FFA15A\",\"#19d3f3\",\"#FF6692\",\"#B6E880\",\"#FF97FF\",\"#FECB52\"],\"font\":{\"color\":\"#2a3f5f\"},\"geo\":{\"bgcolor\":\"white\",\"lakecolor\":\"white\",\"landcolor\":\"#E5ECF6\",\"showlakes\":true,\"showland\":true,\"subunitcolor\":\"white\"},\"hoverlabel\":{\"align\":\"left\"},\"hovermode\":\"closest\",\"mapbox\":{\"style\":\"light\"},\"paper_bgcolor\":\"white\",\"plot_bgcolor\":\"#E5ECF6\",\"polar\":{\"angularaxis\":{\"gridcolor\":\"white\",\"linecolor\":\"white\",\"ticks\":\"\"},\"bgcolor\":\"#E5ECF6\",\"radialaxis\":{\"gridcolor\":\"white\",\"linecolor\":\"white\",\"ticks\":\"\"}},\"scene\":{\"xaxis\":{\"backgroundcolor\":\"#E5ECF6\",\"gridcolor\":\"white\",\"gridwidth\":2,\"linecolor\":\"white\",\"showbackground\":true,\"ticks\":\"\",\"zerolinecolor\":\"white\"},\"yaxis\":{\"backgroundcolor\":\"#E5ECF6\",\"gridcolor\":\"white\",\"gridwidth\":2,\"linecolor\":\"white\",\"showbackground\":true,\"ticks\":\"\",\"zerolinecolor\":\"white\"},\"zaxis\":{\"backgroundcolor\":\"#E5ECF6\",\"gridcolor\":\"white\",\"gridwidth\":2,\"linecolor\":\"white\",\"showbackground\":true,\"ticks\":\"\",\"zerolinecolor\":\"white\"}},\"shapedefaults\":{\"line\":{\"color\":\"#2a3f5f\"}},\"ternary\":{\"aaxis\":{\"gridcolor\":\"white\",\"linecolor\":\"white\",\"ticks\":\"\"},\"baxis\":{\"gridcolor\":\"white\",\"linecolor\":\"white\",\"ticks\":\"\"},\"bgcolor\":\"#E5ECF6\",\"caxis\":{\"gridcolor\":\"white\",\"linecolor\":\"white\",\"ticks\":\"\"}},\"title\":{\"x\":0.05},\"xaxis\":{\"automargin\":true,\"gridcolor\":\"white\",\"linecolor\":\"white\",\"ticks\":\"\",\"title\":{\"standoff\":15},\"zerolinecolor\":\"white\",\"zerolinewidth\":2},\"yaxis\":{\"automargin\":true,\"gridcolor\":\"white\",\"linecolor\":\"white\",\"ticks\":\"\",\"title\":{\"standoff\":15},\"zerolinecolor\":\"white\",\"zerolinewidth\":2}}}},                        {\"responsive\": true}                    )                };                            </script>        </div>'"
      ]
     },
     "metadata": {},
     "execution_count": 7
    }
   ],
   "metadata": {}
  },
  {
   "cell_type": "markdown",
   "source": [
    "Observe that there is a huge discrepancy between the normal and abnormal graphs for large values on the x-axis. We will now build an autoencoder that will encode the normal data.\n",
    "\n",
    "Build the model. Here we will use `Kera`'s sequential API, with three dense layers for the encoder and three dense layers for the decoder. We will create an `AnormlyDectector` class that inherits from the `Model` class. "
   ],
   "metadata": {}
  },
  {
   "cell_type": "code",
   "execution_count": 8,
   "source": [
    "class AnomalyDetector(Model):\n",
    "  def __init__(self):\n",
    "    super(AnomalyDetector, self).__init__()\n",
    "    self.encoder = tf.keras.Sequential([\n",
    "      layers.Dense(32, activation=\"relu\"),\n",
    "      layers.Dense(16, activation=\"relu\"),\n",
    "      layers.Dense(8, activation=\"relu\")])\n",
    "\n",
    "    self.decoder = tf.keras.Sequential([\n",
    "      layers.Dense(16, activation=\"relu\"),\n",
    "      layers.Dense(32, activation=\"relu\"),\n",
    "      layers.Dense(140, activation=\"sigmoid\")])\n",
    "\n",
    "  def call(self, x):\n",
    "    encoded = self.encoder(x)\n",
    "    decoded = self.decoder(encoded)\n",
    "    return decoded\n",
    "\n",
    "autoencoder = AnomalyDetector()"
   ],
   "outputs": [],
   "metadata": {}
  },
  {
   "cell_type": "markdown",
   "source": [
    "Note that the call method in the `AnormalyDetector` class combines the `encoder` and `decoder` and returns the `decoder` object. Let's `compile`, compilation here will mean we will update our `autoencoder` object with an `optimizer` and a `loss` function. We are using the mean absolute error loss defined as:\n",
    "\n",
    "$$\n",
    "\\text{mae} = \\frac{1}{n}\\sum_{i=1}^n{|y_i-\\hat{y}_i|}.\n",
    "$$\n",
    "\n",
    "Where in this simple formular, we have $n$ data points $$ i = 1,2,...,n$$, $$y_i $$ refers to the actual (true/observed) data point and $$\\hat{y}_i$$ is its estimate. In our use case, $$y_i$$ is the actual ECG and $$\\hat{y}_i$$ will be its reconstructed version."
   ],
   "metadata": {}
  },
  {
   "cell_type": "code",
   "execution_count": 9,
   "source": [
    "autoencoder.compile(optimizer='adam', loss='mae')"
   ],
   "outputs": [],
   "metadata": {}
  },
  {
   "cell_type": "markdown",
   "source": [
    "We now train the `autoencoder` by calling its fit method using only the normal rhythm ECG."
   ],
   "metadata": {}
  },
  {
   "cell_type": "code",
   "execution_count": 10,
   "source": [
    "history = autoencoder.fit(normal_train_data, normal_train_data, \n",
    "          epochs=40, \n",
    "          batch_size=1024,\n",
    "          validation_data=(test_data, test_data),\n",
    "          shuffle=True)"
   ],
   "outputs": [
    {
     "output_type": "stream",
     "name": "stderr",
     "text": [
      "2021-07-02 00:48:02.958076: I tensorflow/compiler/mlir/mlir_graph_optimization_pass.cc:176] None of the MLIR Optimization Passes are enabled (registered 2)\n",
      "2021-07-02 00:48:02.958682: I tensorflow/core/platform/profile_utils/cpu_utils.cc:114] CPU Frequency: 2299965000 Hz\n",
      "Epoch 1/40\n",
      "3/3 [==============================] - 0s 51ms/step - loss: 0.0609 - val_loss: 0.0544\n",
      "Epoch 2/40\n",
      "3/3 [==============================] - 0s 9ms/step - loss: 0.0570 - val_loss: 0.0525\n",
      "Epoch 3/40\n",
      "3/3 [==============================] - 0s 8ms/step - loss: 0.0553 - val_loss: 0.0512\n",
      "Epoch 4/40\n",
      "3/3 [==============================] - 0s 10ms/step - loss: 0.0536 - val_loss: 0.0499\n",
      "Epoch 5/40\n",
      "3/3 [==============================] - 0s 9ms/step - loss: 0.0515 - val_loss: 0.0483\n",
      "Epoch 6/40\n",
      "3/3 [==============================] - 0s 9ms/step - loss: 0.0487 - val_loss: 0.0470\n",
      "Epoch 7/40\n",
      "3/3 [==============================] - 0s 9ms/step - loss: 0.0461 - val_loss: 0.0462\n",
      "Epoch 8/40\n",
      "3/3 [==============================] - 0s 10ms/step - loss: 0.0438 - val_loss: 0.0453\n",
      "Epoch 9/40\n",
      "3/3 [==============================] - 0s 9ms/step - loss: 0.0414 - val_loss: 0.0438\n",
      "Epoch 10/40\n",
      "3/3 [==============================] - 0s 9ms/step - loss: 0.0389 - val_loss: 0.0423\n",
      "Epoch 11/40\n",
      "3/3 [==============================] - 0s 8ms/step - loss: 0.0366 - val_loss: 0.0410\n",
      "Epoch 12/40\n",
      "3/3 [==============================] - 0s 9ms/step - loss: 0.0346 - val_loss: 0.0401\n",
      "Epoch 13/40\n",
      "3/3 [==============================] - 0s 9ms/step - loss: 0.0327 - val_loss: 0.0396\n",
      "Epoch 14/40\n",
      "3/3 [==============================] - 0s 9ms/step - loss: 0.0312 - val_loss: 0.0391\n",
      "Epoch 15/40\n",
      "3/3 [==============================] - 0s 11ms/step - loss: 0.0299 - val_loss: 0.0384\n",
      "Epoch 16/40\n",
      "3/3 [==============================] - 0s 8ms/step - loss: 0.0288 - val_loss: 0.0380\n",
      "Epoch 17/40\n",
      "3/3 [==============================] - 0s 10ms/step - loss: 0.0280 - val_loss: 0.0377\n",
      "Epoch 18/40\n",
      "3/3 [==============================] - 0s 8ms/step - loss: 0.0273 - val_loss: 0.0374\n",
      "Epoch 19/40\n",
      "3/3 [==============================] - 0s 13ms/step - loss: 0.0267 - val_loss: 0.0369\n",
      "Epoch 20/40\n",
      "3/3 [==============================] - 0s 9ms/step - loss: 0.0261 - val_loss: 0.0365\n",
      "Epoch 21/40\n",
      "3/3 [==============================] - 0s 8ms/step - loss: 0.0257 - val_loss: 0.0363\n",
      "Epoch 22/40\n",
      "3/3 [==============================] - 0s 9ms/step - loss: 0.0252 - val_loss: 0.0360\n",
      "Epoch 23/40\n",
      "3/3 [==============================] - 0s 8ms/step - loss: 0.0248 - val_loss: 0.0356\n",
      "Epoch 24/40\n",
      "3/3 [==============================] - 0s 12ms/step - loss: 0.0244 - val_loss: 0.0353\n",
      "Epoch 25/40\n",
      "3/3 [==============================] - 0s 10ms/step - loss: 0.0240 - val_loss: 0.0350\n",
      "Epoch 26/40\n",
      "3/3 [==============================] - 0s 13ms/step - loss: 0.0237 - val_loss: 0.0347\n",
      "Epoch 27/40\n",
      "3/3 [==============================] - 0s 9ms/step - loss: 0.0234 - val_loss: 0.0344\n",
      "Epoch 28/40\n",
      "3/3 [==============================] - 0s 9ms/step - loss: 0.0231 - val_loss: 0.0341\n",
      "Epoch 29/40\n",
      "3/3 [==============================] - 0s 9ms/step - loss: 0.0228 - val_loss: 0.0339\n",
      "Epoch 30/40\n",
      "3/3 [==============================] - 0s 9ms/step - loss: 0.0225 - val_loss: 0.0337\n",
      "Epoch 31/40\n",
      "3/3 [==============================] - 0s 9ms/step - loss: 0.0223 - val_loss: 0.0335\n",
      "Epoch 32/40\n",
      "3/3 [==============================] - 0s 9ms/step - loss: 0.0220 - val_loss: 0.0333\n",
      "Epoch 33/40\n",
      "3/3 [==============================] - 0s 10ms/step - loss: 0.0218 - val_loss: 0.0332\n",
      "Epoch 34/40\n",
      "3/3 [==============================] - 0s 9ms/step - loss: 0.0216 - val_loss: 0.0330\n",
      "Epoch 35/40\n",
      "3/3 [==============================] - 0s 10ms/step - loss: 0.0214 - val_loss: 0.0330\n",
      "Epoch 36/40\n",
      "3/3 [==============================] - 0s 12ms/step - loss: 0.0212 - val_loss: 0.0328\n",
      "Epoch 37/40\n",
      "3/3 [==============================] - 0s 11ms/step - loss: 0.0210 - val_loss: 0.0327\n",
      "Epoch 38/40\n",
      "3/3 [==============================] - 0s 10ms/step - loss: 0.0208 - val_loss: 0.0326\n",
      "Epoch 39/40\n",
      "3/3 [==============================] - 0s 9ms/step - loss: 0.0207 - val_loss: 0.0325\n",
      "Epoch 40/40\n",
      "3/3 [==============================] - 0s 9ms/step - loss: 0.0205 - val_loss: 0.0324\n"
     ]
    }
   ],
   "metadata": {}
  },
  {
   "cell_type": "markdown",
   "source": [
    "Note that although, the training is done on the normal rythm ECG, the validation is done on the entire test dataset. "
   ],
   "metadata": {}
  },
  {
   "cell_type": "code",
   "execution_count": 11,
   "source": [
    "trace1 = go.Scatter(y=history.history[\"loss\"],name='Training loss')\n",
    "trace2 = go.Scatter(y=history.history[\"val_loss\"],name=\"Validation Loss\")\n",
    "\n",
    "data = [trace1,trace2]\n",
    "py_offline.plot(data, filename='basic-line', include_plotlyjs=False, output_type='div')"
   ],
   "outputs": [
    {
     "output_type": "execute_result",
     "data": {
      "text/plain": [
       "'<div>                            <div id=\"042fd2bb-3189-4c7d-92b5-3156de480927\" class=\"plotly-graph-div\" style=\"height:100%; width:100%;\"></div>            <script type=\"text/javascript\">                                    window.PLOTLYENV=window.PLOTLYENV || {};                                    if (document.getElementById(\"042fd2bb-3189-4c7d-92b5-3156de480927\")) {                    Plotly.newPlot(                        \"042fd2bb-3189-4c7d-92b5-3156de480927\",                        [{\"name\":\"Training loss\",\"type\":\"scatter\",\"y\":[0.0608646497130394,0.05697528272867203,0.05526373162865639,0.0536150299012661,0.05148984491825104,0.04871390014886856,0.04608292877674103,0.04383505508303642,0.04142149165272713,0.038949817419052124,0.0366407185792923,0.03456065431237221,0.032707519829273224,0.031165171414613724,0.02987736463546753,0.028836779296398163,0.02800091914832592,0.027289798483252525,0.026683425530791283,0.026141071692109108,0.02566680498421192,0.025235915556550026,0.024826940149068832,0.024427488446235657,0.024046648293733597,0.02368655987083912,0.023355286568403244,0.023052792996168137,0.022773003205657005,0.022513845935463905,0.022265292704105377,0.02202960103750229,0.021803583949804306,0.0215885192155838,0.02138853818178177,0.02119353413581848,0.02100936882197857,0.020833471789956093,0.020674414932727814,0.02052999846637249]},{\"name\":\"Validation Loss\",\"type\":\"scatter\",\"y\":[0.05437151715159416,0.05254930257797241,0.05122449994087219,0.04991447553038597,0.048289794474840164,0.046991754323244095,0.046230632811784744,0.04525034502148628,0.043816037476062775,0.04229316860437393,0.04098391905426979,0.04011549428105354,0.03964058309793472,0.03909236565232277,0.03838443011045456,0.037973158061504364,0.0377265028655529,0.03739756718277931,0.036910153925418854,0.036513593047857285,0.036271315068006516,0.035984061658382416,0.03561314195394516,0.03533192351460457,0.03502923622727394,0.03468158841133118,0.0343896746635437,0.034131310880184174,0.033923275768756866,0.033679764717817307,0.03353424370288849,0.033306784927845,0.03322882577776909,0.032963767647743225,0.032981183379888535,0.03280375525355339,0.0326983705163002,0.032580550760030746,0.032511256635189056,0.032433029264211655]}],                        {\"template\":{\"data\":{\"bar\":[{\"error_x\":{\"color\":\"#2a3f5f\"},\"error_y\":{\"color\":\"#2a3f5f\"},\"marker\":{\"line\":{\"color\":\"#E5ECF6\",\"width\":0.5},\"pattern\":{\"fillmode\":\"overlay\",\"size\":10,\"solidity\":0.2}},\"type\":\"bar\"}],\"barpolar\":[{\"marker\":{\"line\":{\"color\":\"#E5ECF6\",\"width\":0.5},\"pattern\":{\"fillmode\":\"overlay\",\"size\":10,\"solidity\":0.2}},\"type\":\"barpolar\"}],\"carpet\":[{\"aaxis\":{\"endlinecolor\":\"#2a3f5f\",\"gridcolor\":\"white\",\"linecolor\":\"white\",\"minorgridcolor\":\"white\",\"startlinecolor\":\"#2a3f5f\"},\"baxis\":{\"endlinecolor\":\"#2a3f5f\",\"gridcolor\":\"white\",\"linecolor\":\"white\",\"minorgridcolor\":\"white\",\"startlinecolor\":\"#2a3f5f\"},\"type\":\"carpet\"}],\"choropleth\":[{\"colorbar\":{\"outlinewidth\":0,\"ticks\":\"\"},\"type\":\"choropleth\"}],\"contour\":[{\"colorbar\":{\"outlinewidth\":0,\"ticks\":\"\"},\"colorscale\":[[0.0,\"#0d0887\"],[0.1111111111111111,\"#46039f\"],[0.2222222222222222,\"#7201a8\"],[0.3333333333333333,\"#9c179e\"],[0.4444444444444444,\"#bd3786\"],[0.5555555555555556,\"#d8576b\"],[0.6666666666666666,\"#ed7953\"],[0.7777777777777778,\"#fb9f3a\"],[0.8888888888888888,\"#fdca26\"],[1.0,\"#f0f921\"]],\"type\":\"contour\"}],\"contourcarpet\":[{\"colorbar\":{\"outlinewidth\":0,\"ticks\":\"\"},\"type\":\"contourcarpet\"}],\"heatmap\":[{\"colorbar\":{\"outlinewidth\":0,\"ticks\":\"\"},\"colorscale\":[[0.0,\"#0d0887\"],[0.1111111111111111,\"#46039f\"],[0.2222222222222222,\"#7201a8\"],[0.3333333333333333,\"#9c179e\"],[0.4444444444444444,\"#bd3786\"],[0.5555555555555556,\"#d8576b\"],[0.6666666666666666,\"#ed7953\"],[0.7777777777777778,\"#fb9f3a\"],[0.8888888888888888,\"#fdca26\"],[1.0,\"#f0f921\"]],\"type\":\"heatmap\"}],\"heatmapgl\":[{\"colorbar\":{\"outlinewidth\":0,\"ticks\":\"\"},\"colorscale\":[[0.0,\"#0d0887\"],[0.1111111111111111,\"#46039f\"],[0.2222222222222222,\"#7201a8\"],[0.3333333333333333,\"#9c179e\"],[0.4444444444444444,\"#bd3786\"],[0.5555555555555556,\"#d8576b\"],[0.6666666666666666,\"#ed7953\"],[0.7777777777777778,\"#fb9f3a\"],[0.8888888888888888,\"#fdca26\"],[1.0,\"#f0f921\"]],\"type\":\"heatmapgl\"}],\"histogram\":[{\"marker\":{\"pattern\":{\"fillmode\":\"overlay\",\"size\":10,\"solidity\":0.2}},\"type\":\"histogram\"}],\"histogram2d\":[{\"colorbar\":{\"outlinewidth\":0,\"ticks\":\"\"},\"colorscale\":[[0.0,\"#0d0887\"],[0.1111111111111111,\"#46039f\"],[0.2222222222222222,\"#7201a8\"],[0.3333333333333333,\"#9c179e\"],[0.4444444444444444,\"#bd3786\"],[0.5555555555555556,\"#d8576b\"],[0.6666666666666666,\"#ed7953\"],[0.7777777777777778,\"#fb9f3a\"],[0.8888888888888888,\"#fdca26\"],[1.0,\"#f0f921\"]],\"type\":\"histogram2d\"}],\"histogram2dcontour\":[{\"colorbar\":{\"outlinewidth\":0,\"ticks\":\"\"},\"colorscale\":[[0.0,\"#0d0887\"],[0.1111111111111111,\"#46039f\"],[0.2222222222222222,\"#7201a8\"],[0.3333333333333333,\"#9c179e\"],[0.4444444444444444,\"#bd3786\"],[0.5555555555555556,\"#d8576b\"],[0.6666666666666666,\"#ed7953\"],[0.7777777777777778,\"#fb9f3a\"],[0.8888888888888888,\"#fdca26\"],[1.0,\"#f0f921\"]],\"type\":\"histogram2dcontour\"}],\"mesh3d\":[{\"colorbar\":{\"outlinewidth\":0,\"ticks\":\"\"},\"type\":\"mesh3d\"}],\"parcoords\":[{\"line\":{\"colorbar\":{\"outlinewidth\":0,\"ticks\":\"\"}},\"type\":\"parcoords\"}],\"pie\":[{\"automargin\":true,\"type\":\"pie\"}],\"scatter\":[{\"marker\":{\"colorbar\":{\"outlinewidth\":0,\"ticks\":\"\"}},\"type\":\"scatter\"}],\"scatter3d\":[{\"line\":{\"colorbar\":{\"outlinewidth\":0,\"ticks\":\"\"}},\"marker\":{\"colorbar\":{\"outlinewidth\":0,\"ticks\":\"\"}},\"type\":\"scatter3d\"}],\"scattercarpet\":[{\"marker\":{\"colorbar\":{\"outlinewidth\":0,\"ticks\":\"\"}},\"type\":\"scattercarpet\"}],\"scattergeo\":[{\"marker\":{\"colorbar\":{\"outlinewidth\":0,\"ticks\":\"\"}},\"type\":\"scattergeo\"}],\"scattergl\":[{\"marker\":{\"colorbar\":{\"outlinewidth\":0,\"ticks\":\"\"}},\"type\":\"scattergl\"}],\"scattermapbox\":[{\"marker\":{\"colorbar\":{\"outlinewidth\":0,\"ticks\":\"\"}},\"type\":\"scattermapbox\"}],\"scatterpolar\":[{\"marker\":{\"colorbar\":{\"outlinewidth\":0,\"ticks\":\"\"}},\"type\":\"scatterpolar\"}],\"scatterpolargl\":[{\"marker\":{\"colorbar\":{\"outlinewidth\":0,\"ticks\":\"\"}},\"type\":\"scatterpolargl\"}],\"scatterternary\":[{\"marker\":{\"colorbar\":{\"outlinewidth\":0,\"ticks\":\"\"}},\"type\":\"scatterternary\"}],\"surface\":[{\"colorbar\":{\"outlinewidth\":0,\"ticks\":\"\"},\"colorscale\":[[0.0,\"#0d0887\"],[0.1111111111111111,\"#46039f\"],[0.2222222222222222,\"#7201a8\"],[0.3333333333333333,\"#9c179e\"],[0.4444444444444444,\"#bd3786\"],[0.5555555555555556,\"#d8576b\"],[0.6666666666666666,\"#ed7953\"],[0.7777777777777778,\"#fb9f3a\"],[0.8888888888888888,\"#fdca26\"],[1.0,\"#f0f921\"]],\"type\":\"surface\"}],\"table\":[{\"cells\":{\"fill\":{\"color\":\"#EBF0F8\"},\"line\":{\"color\":\"white\"}},\"header\":{\"fill\":{\"color\":\"#C8D4E3\"},\"line\":{\"color\":\"white\"}},\"type\":\"table\"}]},\"layout\":{\"annotationdefaults\":{\"arrowcolor\":\"#2a3f5f\",\"arrowhead\":0,\"arrowwidth\":1},\"autotypenumbers\":\"strict\",\"coloraxis\":{\"colorbar\":{\"outlinewidth\":0,\"ticks\":\"\"}},\"colorscale\":{\"diverging\":[[0,\"#8e0152\"],[0.1,\"#c51b7d\"],[0.2,\"#de77ae\"],[0.3,\"#f1b6da\"],[0.4,\"#fde0ef\"],[0.5,\"#f7f7f7\"],[0.6,\"#e6f5d0\"],[0.7,\"#b8e186\"],[0.8,\"#7fbc41\"],[0.9,\"#4d9221\"],[1,\"#276419\"]],\"sequential\":[[0.0,\"#0d0887\"],[0.1111111111111111,\"#46039f\"],[0.2222222222222222,\"#7201a8\"],[0.3333333333333333,\"#9c179e\"],[0.4444444444444444,\"#bd3786\"],[0.5555555555555556,\"#d8576b\"],[0.6666666666666666,\"#ed7953\"],[0.7777777777777778,\"#fb9f3a\"],[0.8888888888888888,\"#fdca26\"],[1.0,\"#f0f921\"]],\"sequentialminus\":[[0.0,\"#0d0887\"],[0.1111111111111111,\"#46039f\"],[0.2222222222222222,\"#7201a8\"],[0.3333333333333333,\"#9c179e\"],[0.4444444444444444,\"#bd3786\"],[0.5555555555555556,\"#d8576b\"],[0.6666666666666666,\"#ed7953\"],[0.7777777777777778,\"#fb9f3a\"],[0.8888888888888888,\"#fdca26\"],[1.0,\"#f0f921\"]]},\"colorway\":[\"#636efa\",\"#EF553B\",\"#00cc96\",\"#ab63fa\",\"#FFA15A\",\"#19d3f3\",\"#FF6692\",\"#B6E880\",\"#FF97FF\",\"#FECB52\"],\"font\":{\"color\":\"#2a3f5f\"},\"geo\":{\"bgcolor\":\"white\",\"lakecolor\":\"white\",\"landcolor\":\"#E5ECF6\",\"showlakes\":true,\"showland\":true,\"subunitcolor\":\"white\"},\"hoverlabel\":{\"align\":\"left\"},\"hovermode\":\"closest\",\"mapbox\":{\"style\":\"light\"},\"paper_bgcolor\":\"white\",\"plot_bgcolor\":\"#E5ECF6\",\"polar\":{\"angularaxis\":{\"gridcolor\":\"white\",\"linecolor\":\"white\",\"ticks\":\"\"},\"bgcolor\":\"#E5ECF6\",\"radialaxis\":{\"gridcolor\":\"white\",\"linecolor\":\"white\",\"ticks\":\"\"}},\"scene\":{\"xaxis\":{\"backgroundcolor\":\"#E5ECF6\",\"gridcolor\":\"white\",\"gridwidth\":2,\"linecolor\":\"white\",\"showbackground\":true,\"ticks\":\"\",\"zerolinecolor\":\"white\"},\"yaxis\":{\"backgroundcolor\":\"#E5ECF6\",\"gridcolor\":\"white\",\"gridwidth\":2,\"linecolor\":\"white\",\"showbackground\":true,\"ticks\":\"\",\"zerolinecolor\":\"white\"},\"zaxis\":{\"backgroundcolor\":\"#E5ECF6\",\"gridcolor\":\"white\",\"gridwidth\":2,\"linecolor\":\"white\",\"showbackground\":true,\"ticks\":\"\",\"zerolinecolor\":\"white\"}},\"shapedefaults\":{\"line\":{\"color\":\"#2a3f5f\"}},\"ternary\":{\"aaxis\":{\"gridcolor\":\"white\",\"linecolor\":\"white\",\"ticks\":\"\"},\"baxis\":{\"gridcolor\":\"white\",\"linecolor\":\"white\",\"ticks\":\"\"},\"bgcolor\":\"#E5ECF6\",\"caxis\":{\"gridcolor\":\"white\",\"linecolor\":\"white\",\"ticks\":\"\"}},\"title\":{\"x\":0.05},\"xaxis\":{\"automargin\":true,\"gridcolor\":\"white\",\"linecolor\":\"white\",\"ticks\":\"\",\"title\":{\"standoff\":15},\"zerolinecolor\":\"white\",\"zerolinewidth\":2},\"yaxis\":{\"automargin\":true,\"gridcolor\":\"white\",\"linecolor\":\"white\",\"ticks\":\"\",\"title\":{\"standoff\":15},\"zerolinecolor\":\"white\",\"zerolinewidth\":2}}}},                        {\"responsive\": true}                    )                };                            </script>        </div>'"
      ]
     },
     "metadata": {},
     "execution_count": 11
    }
   ],
   "metadata": {}
  },
  {
   "cell_type": "markdown",
   "source": [
    "## Reconstruction error\n",
    "\n",
    "We now have a model that can encode and decode ECG. Let's use the model to reconstruct a particular ECG and check the reconstruction error, i.e., the difference between the actual ECG and its reconstruction. \n"
   ],
   "metadata": {}
  },
  {
   "cell_type": "code",
   "execution_count": 12,
   "source": [
    "encoded_data = autoencoder.encoder(normal_test_data).numpy()\n",
    "decoded_data = autoencoder.decoder(encoded_data).numpy()\n",
    "\n",
    "\n",
    "trace1 = go.Scatter(y=normal_test_data[0],name='Input data')\n",
    "trace2 = go.Scatter(y=decoded_data[0],name='Reconstruction & error',\n",
    "                         fill='tonexty')\n",
    "\n",
    "data = [trace1,trace2]\n",
    "py_offline.plot(data, filename='basic-line', include_plotlyjs=False, output_type='div')\n"
   ],
   "outputs": [
    {
     "output_type": "execute_result",
     "data": {
      "text/plain": [
       "'<div>                            <div id=\"3f4a8cf9-4134-40c4-be1d-d285c1b6eedd\" class=\"plotly-graph-div\" style=\"height:100%; width:100%;\"></div>            <script type=\"text/javascript\">                                    window.PLOTLYENV=window.PLOTLYENV || {};                                    if (document.getElementById(\"3f4a8cf9-4134-40c4-be1d-d285c1b6eedd\")) {                    Plotly.newPlot(                        \"3f4a8cf9-4134-40c4-be1d-d285c1b6eedd\",                        [{\"name\":\"Input data\",\"type\":\"scatter\",\"y\":[0.48035767674446106,0.2887779176235199,0.19828546047210693,0.17403002083301544,0.19065187871456146,0.2570231258869171,0.35133999586105347,0.3795180916786194,0.41933903098106384,0.47931399941444397,0.5085671544075012,0.5021305084228516,0.4981786012649536,0.5009568333625793,0.4963546097278595,0.4957442283630371,0.49634596705436707,0.4871847927570343,0.49864014983177185,0.49027618765830994,0.48405030369758606,0.4853919446468353,0.4781576991081238,0.4776414632797241,0.4754825830459595,0.4680434465408325,0.4633431136608124,0.4667298495769501,0.4565943777561188,0.45639845728874207,0.44269412755966187,0.4387221038341522,0.4350164234638214,0.4311322867870331,0.43271467089653015,0.43053433299064636,0.4260518252849579,0.4177199602127075,0.4224426746368408,0.4249061048030853,0.4222816526889801,0.4255194664001465,0.427318811416626,0.4344993233680725,0.43405434489250183,0.4319981336593628,0.4433560073375702,0.4449458420276642,0.4500327408313751,0.44775307178497314,0.45146772265434265,0.4631691873073578,0.4599079489707947,0.4583589732646942,0.46505701541900635,0.4695504903793335,0.48476895689964294,0.4720330536365509,0.47590193152427673,0.48128950595855713,0.48106202483177185,0.483425110578537,0.4797944724559784,0.49654191732406616,0.497626930475235,0.5003345012664795,0.4999160170555115,0.4998267590999603,0.5085312724113464,0.5027685165405273,0.5192650556564331,0.5174381136894226,0.5176679491996765,0.5243684649467468,0.522845447063446,0.523930549621582,0.5308157205581665,0.5383780002593994,0.5319925546646118,0.5184898376464844,0.5222746729850769,0.5139047503471375,0.5156378149986267,0.5147913098335266,0.5096921324729919,0.5125722289085388,0.5018595457077026,0.49053633213043213,0.48884034156799316,0.4823535084724426,0.47934600710868835,0.48330995440483093,0.4766990542411804,0.47691449522972107,0.4795263111591339,0.4947693347930908,0.5108534097671509,0.5188336968421936,0.5332105159759521,0.5425611138343811,0.5682035684585571,0.5826812386512756,0.6099961996078491,0.6065466403961182,0.5954951047897339,0.5819999575614929,0.5612176060676575,0.5507384538650513,0.5170336961746216,0.4897701144218445,0.4583636224269867,0.41286134719848633,0.3860044479370117,0.3743003010749817,0.37155696749687195,0.36838045716285706,0.3640936613082886,0.3643512427806854,0.3664138913154602,0.3565950393676758,0.3636854290962219,0.3610741198062897,0.3605392873287201,0.3603725731372833,0.36098870635032654,0.3649810552597046,0.3636249601840973,0.36424019932746887,0.3778349459171295,0.4150768220424652,0.4684041142463684,0.46837979555130005,0.48350921273231506,0.4904227554798126,0.4625466465950012,0.43603575229644775,0.4314790964126587,0.45463305711746216,0.5246124863624573,0.37137290835380554]},{\"fill\":\"tonexty\",\"name\":\"Reconstruction & error\",\"type\":\"scatter\",\"y\":[0.4291831851005554,0.2665160894393921,0.21744295954704285,0.2191842794418335,0.23264256119728088,0.20375698804855347,0.2883302569389343,0.3438566029071808,0.3696839511394501,0.4171086549758911,0.439180850982666,0.44094207882881165,0.44174301624298096,0.44099634885787964,0.44301700592041016,0.439198762178421,0.44268354773521423,0.4414125084877014,0.44092273712158203,0.4391290545463562,0.43747127056121826,0.43691056966781616,0.43546658754348755,0.4333227276802063,0.4302925765514374,0.4256860613822937,0.4262356758117676,0.4240325093269348,0.4198894798755646,0.41968417167663574,0.41568076610565186,0.41205042600631714,0.4096914827823639,0.4092315435409546,0.40499767661094666,0.40747344493865967,0.4070172607898712,0.4088149666786194,0.41176798939704895,0.4152817130088806,0.4184681475162506,0.424305260181427,0.4300737977027893,0.43500345945358276,0.44180262088775635,0.4454636573791504,0.45189908146858215,0.4555590748786926,0.45828017592430115,0.46124324202537537,0.4618954658508301,0.46172162890434265,0.46522659063339233,0.46452638506889343,0.464822381734848,0.4652511477470398,0.46655362844467163,0.46620967984199524,0.4692327678203583,0.4698980152606964,0.4693501591682434,0.4710485637187958,0.4727265536785126,0.47332823276519775,0.47529375553131104,0.47701966762542725,0.4811636805534363,0.4824940860271454,0.4868803322315216,0.489937424659729,0.492495596408844,0.49428611993789673,0.497589111328125,0.4982497990131378,0.4993596374988556,0.5017770528793335,0.4989299476146698,0.500777006149292,0.5012779235839844,0.49961379170417786,0.49827179312705994,0.49792489409446716,0.4951142370700836,0.49415868520736694,0.4932851195335388,0.4923238456249237,0.49266308546066284,0.48883989453315735,0.4903154969215393,0.49094367027282715,0.4871214032173157,0.486433207988739,0.48647332191467285,0.48854967951774597,0.49217796325683594,0.49399930238723755,0.49979761242866516,0.5129638314247131,0.5239664912223816,0.5334833264350891,0.5455901622772217,0.5576971769332886,0.5752453207969666,0.5804300904273987,0.5791659355163574,0.5757433772087097,0.567409336566925,0.5569570064544678,0.5402500033378601,0.5287011861801147,0.5097983479499817,0.48962077498435974,0.46986526250839233,0.45808425545692444,0.4495549201965332,0.44929876923561096,0.4456542730331421,0.4445050060749054,0.4453142285346985,0.44477805495262146,0.44574302434921265,0.44598665833473206,0.4441795349121094,0.44652414321899414,0.4454057812690735,0.4476800858974457,0.44842103123664856,0.45281633734703064,0.4640958905220032,0.4930195212364197,0.5247980952262878,0.5345789194107056,0.5384899377822876,0.5417156219482422,0.5376124978065491,0.5199398994445801,0.5149399042129517,0.5104025602340698,0.5144163966178894,0.42796212434768677]}],                        {\"template\":{\"data\":{\"bar\":[{\"error_x\":{\"color\":\"#2a3f5f\"},\"error_y\":{\"color\":\"#2a3f5f\"},\"marker\":{\"line\":{\"color\":\"#E5ECF6\",\"width\":0.5},\"pattern\":{\"fillmode\":\"overlay\",\"size\":10,\"solidity\":0.2}},\"type\":\"bar\"}],\"barpolar\":[{\"marker\":{\"line\":{\"color\":\"#E5ECF6\",\"width\":0.5},\"pattern\":{\"fillmode\":\"overlay\",\"size\":10,\"solidity\":0.2}},\"type\":\"barpolar\"}],\"carpet\":[{\"aaxis\":{\"endlinecolor\":\"#2a3f5f\",\"gridcolor\":\"white\",\"linecolor\":\"white\",\"minorgridcolor\":\"white\",\"startlinecolor\":\"#2a3f5f\"},\"baxis\":{\"endlinecolor\":\"#2a3f5f\",\"gridcolor\":\"white\",\"linecolor\":\"white\",\"minorgridcolor\":\"white\",\"startlinecolor\":\"#2a3f5f\"},\"type\":\"carpet\"}],\"choropleth\":[{\"colorbar\":{\"outlinewidth\":0,\"ticks\":\"\"},\"type\":\"choropleth\"}],\"contour\":[{\"colorbar\":{\"outlinewidth\":0,\"ticks\":\"\"},\"colorscale\":[[0.0,\"#0d0887\"],[0.1111111111111111,\"#46039f\"],[0.2222222222222222,\"#7201a8\"],[0.3333333333333333,\"#9c179e\"],[0.4444444444444444,\"#bd3786\"],[0.5555555555555556,\"#d8576b\"],[0.6666666666666666,\"#ed7953\"],[0.7777777777777778,\"#fb9f3a\"],[0.8888888888888888,\"#fdca26\"],[1.0,\"#f0f921\"]],\"type\":\"contour\"}],\"contourcarpet\":[{\"colorbar\":{\"outlinewidth\":0,\"ticks\":\"\"},\"type\":\"contourcarpet\"}],\"heatmap\":[{\"colorbar\":{\"outlinewidth\":0,\"ticks\":\"\"},\"colorscale\":[[0.0,\"#0d0887\"],[0.1111111111111111,\"#46039f\"],[0.2222222222222222,\"#7201a8\"],[0.3333333333333333,\"#9c179e\"],[0.4444444444444444,\"#bd3786\"],[0.5555555555555556,\"#d8576b\"],[0.6666666666666666,\"#ed7953\"],[0.7777777777777778,\"#fb9f3a\"],[0.8888888888888888,\"#fdca26\"],[1.0,\"#f0f921\"]],\"type\":\"heatmap\"}],\"heatmapgl\":[{\"colorbar\":{\"outlinewidth\":0,\"ticks\":\"\"},\"colorscale\":[[0.0,\"#0d0887\"],[0.1111111111111111,\"#46039f\"],[0.2222222222222222,\"#7201a8\"],[0.3333333333333333,\"#9c179e\"],[0.4444444444444444,\"#bd3786\"],[0.5555555555555556,\"#d8576b\"],[0.6666666666666666,\"#ed7953\"],[0.7777777777777778,\"#fb9f3a\"],[0.8888888888888888,\"#fdca26\"],[1.0,\"#f0f921\"]],\"type\":\"heatmapgl\"}],\"histogram\":[{\"marker\":{\"pattern\":{\"fillmode\":\"overlay\",\"size\":10,\"solidity\":0.2}},\"type\":\"histogram\"}],\"histogram2d\":[{\"colorbar\":{\"outlinewidth\":0,\"ticks\":\"\"},\"colorscale\":[[0.0,\"#0d0887\"],[0.1111111111111111,\"#46039f\"],[0.2222222222222222,\"#7201a8\"],[0.3333333333333333,\"#9c179e\"],[0.4444444444444444,\"#bd3786\"],[0.5555555555555556,\"#d8576b\"],[0.6666666666666666,\"#ed7953\"],[0.7777777777777778,\"#fb9f3a\"],[0.8888888888888888,\"#fdca26\"],[1.0,\"#f0f921\"]],\"type\":\"histogram2d\"}],\"histogram2dcontour\":[{\"colorbar\":{\"outlinewidth\":0,\"ticks\":\"\"},\"colorscale\":[[0.0,\"#0d0887\"],[0.1111111111111111,\"#46039f\"],[0.2222222222222222,\"#7201a8\"],[0.3333333333333333,\"#9c179e\"],[0.4444444444444444,\"#bd3786\"],[0.5555555555555556,\"#d8576b\"],[0.6666666666666666,\"#ed7953\"],[0.7777777777777778,\"#fb9f3a\"],[0.8888888888888888,\"#fdca26\"],[1.0,\"#f0f921\"]],\"type\":\"histogram2dcontour\"}],\"mesh3d\":[{\"colorbar\":{\"outlinewidth\":0,\"ticks\":\"\"},\"type\":\"mesh3d\"}],\"parcoords\":[{\"line\":{\"colorbar\":{\"outlinewidth\":0,\"ticks\":\"\"}},\"type\":\"parcoords\"}],\"pie\":[{\"automargin\":true,\"type\":\"pie\"}],\"scatter\":[{\"marker\":{\"colorbar\":{\"outlinewidth\":0,\"ticks\":\"\"}},\"type\":\"scatter\"}],\"scatter3d\":[{\"line\":{\"colorbar\":{\"outlinewidth\":0,\"ticks\":\"\"}},\"marker\":{\"colorbar\":{\"outlinewidth\":0,\"ticks\":\"\"}},\"type\":\"scatter3d\"}],\"scattercarpet\":[{\"marker\":{\"colorbar\":{\"outlinewidth\":0,\"ticks\":\"\"}},\"type\":\"scattercarpet\"}],\"scattergeo\":[{\"marker\":{\"colorbar\":{\"outlinewidth\":0,\"ticks\":\"\"}},\"type\":\"scattergeo\"}],\"scattergl\":[{\"marker\":{\"colorbar\":{\"outlinewidth\":0,\"ticks\":\"\"}},\"type\":\"scattergl\"}],\"scattermapbox\":[{\"marker\":{\"colorbar\":{\"outlinewidth\":0,\"ticks\":\"\"}},\"type\":\"scattermapbox\"}],\"scatterpolar\":[{\"marker\":{\"colorbar\":{\"outlinewidth\":0,\"ticks\":\"\"}},\"type\":\"scatterpolar\"}],\"scatterpolargl\":[{\"marker\":{\"colorbar\":{\"outlinewidth\":0,\"ticks\":\"\"}},\"type\":\"scatterpolargl\"}],\"scatterternary\":[{\"marker\":{\"colorbar\":{\"outlinewidth\":0,\"ticks\":\"\"}},\"type\":\"scatterternary\"}],\"surface\":[{\"colorbar\":{\"outlinewidth\":0,\"ticks\":\"\"},\"colorscale\":[[0.0,\"#0d0887\"],[0.1111111111111111,\"#46039f\"],[0.2222222222222222,\"#7201a8\"],[0.3333333333333333,\"#9c179e\"],[0.4444444444444444,\"#bd3786\"],[0.5555555555555556,\"#d8576b\"],[0.6666666666666666,\"#ed7953\"],[0.7777777777777778,\"#fb9f3a\"],[0.8888888888888888,\"#fdca26\"],[1.0,\"#f0f921\"]],\"type\":\"surface\"}],\"table\":[{\"cells\":{\"fill\":{\"color\":\"#EBF0F8\"},\"line\":{\"color\":\"white\"}},\"header\":{\"fill\":{\"color\":\"#C8D4E3\"},\"line\":{\"color\":\"white\"}},\"type\":\"table\"}]},\"layout\":{\"annotationdefaults\":{\"arrowcolor\":\"#2a3f5f\",\"arrowhead\":0,\"arrowwidth\":1},\"autotypenumbers\":\"strict\",\"coloraxis\":{\"colorbar\":{\"outlinewidth\":0,\"ticks\":\"\"}},\"colorscale\":{\"diverging\":[[0,\"#8e0152\"],[0.1,\"#c51b7d\"],[0.2,\"#de77ae\"],[0.3,\"#f1b6da\"],[0.4,\"#fde0ef\"],[0.5,\"#f7f7f7\"],[0.6,\"#e6f5d0\"],[0.7,\"#b8e186\"],[0.8,\"#7fbc41\"],[0.9,\"#4d9221\"],[1,\"#276419\"]],\"sequential\":[[0.0,\"#0d0887\"],[0.1111111111111111,\"#46039f\"],[0.2222222222222222,\"#7201a8\"],[0.3333333333333333,\"#9c179e\"],[0.4444444444444444,\"#bd3786\"],[0.5555555555555556,\"#d8576b\"],[0.6666666666666666,\"#ed7953\"],[0.7777777777777778,\"#fb9f3a\"],[0.8888888888888888,\"#fdca26\"],[1.0,\"#f0f921\"]],\"sequentialminus\":[[0.0,\"#0d0887\"],[0.1111111111111111,\"#46039f\"],[0.2222222222222222,\"#7201a8\"],[0.3333333333333333,\"#9c179e\"],[0.4444444444444444,\"#bd3786\"],[0.5555555555555556,\"#d8576b\"],[0.6666666666666666,\"#ed7953\"],[0.7777777777777778,\"#fb9f3a\"],[0.8888888888888888,\"#fdca26\"],[1.0,\"#f0f921\"]]},\"colorway\":[\"#636efa\",\"#EF553B\",\"#00cc96\",\"#ab63fa\",\"#FFA15A\",\"#19d3f3\",\"#FF6692\",\"#B6E880\",\"#FF97FF\",\"#FECB52\"],\"font\":{\"color\":\"#2a3f5f\"},\"geo\":{\"bgcolor\":\"white\",\"lakecolor\":\"white\",\"landcolor\":\"#E5ECF6\",\"showlakes\":true,\"showland\":true,\"subunitcolor\":\"white\"},\"hoverlabel\":{\"align\":\"left\"},\"hovermode\":\"closest\",\"mapbox\":{\"style\":\"light\"},\"paper_bgcolor\":\"white\",\"plot_bgcolor\":\"#E5ECF6\",\"polar\":{\"angularaxis\":{\"gridcolor\":\"white\",\"linecolor\":\"white\",\"ticks\":\"\"},\"bgcolor\":\"#E5ECF6\",\"radialaxis\":{\"gridcolor\":\"white\",\"linecolor\":\"white\",\"ticks\":\"\"}},\"scene\":{\"xaxis\":{\"backgroundcolor\":\"#E5ECF6\",\"gridcolor\":\"white\",\"gridwidth\":2,\"linecolor\":\"white\",\"showbackground\":true,\"ticks\":\"\",\"zerolinecolor\":\"white\"},\"yaxis\":{\"backgroundcolor\":\"#E5ECF6\",\"gridcolor\":\"white\",\"gridwidth\":2,\"linecolor\":\"white\",\"showbackground\":true,\"ticks\":\"\",\"zerolinecolor\":\"white\"},\"zaxis\":{\"backgroundcolor\":\"#E5ECF6\",\"gridcolor\":\"white\",\"gridwidth\":2,\"linecolor\":\"white\",\"showbackground\":true,\"ticks\":\"\",\"zerolinecolor\":\"white\"}},\"shapedefaults\":{\"line\":{\"color\":\"#2a3f5f\"}},\"ternary\":{\"aaxis\":{\"gridcolor\":\"white\",\"linecolor\":\"white\",\"ticks\":\"\"},\"baxis\":{\"gridcolor\":\"white\",\"linecolor\":\"white\",\"ticks\":\"\"},\"bgcolor\":\"#E5ECF6\",\"caxis\":{\"gridcolor\":\"white\",\"linecolor\":\"white\",\"ticks\":\"\"}},\"title\":{\"x\":0.05},\"xaxis\":{\"automargin\":true,\"gridcolor\":\"white\",\"linecolor\":\"white\",\"ticks\":\"\",\"title\":{\"standoff\":15},\"zerolinecolor\":\"white\",\"zerolinewidth\":2},\"yaxis\":{\"automargin\":true,\"gridcolor\":\"white\",\"linecolor\":\"white\",\"ticks\":\"\",\"title\":{\"standoff\":15},\"zerolinecolor\":\"white\",\"zerolinewidth\":2}}}},                        {\"responsive\": true}                    )                };                            </script>        </div>'"
      ]
     },
     "metadata": {},
     "execution_count": 12
    }
   ],
   "metadata": {}
  },
  {
   "cell_type": "markdown",
   "source": [
    "Let's do the same as above for an abnormal rhythm ECG on the test dataset."
   ],
   "metadata": {}
  },
  {
   "cell_type": "code",
   "execution_count": 13,
   "source": [
    "encoded_data = autoencoder.encoder(abnormal_test_data).numpy()\n",
    "decoded_data = autoencoder.decoder(encoded_data).numpy()\n",
    "\n",
    "\n",
    "trace1 = go.Scatter(y=abnormal_test_data[0],name='Input data')\n",
    "trace2 = go.Scatter(y=decoded_data[0],name='Reconstruction & error',\n",
    "                         fill='tonexty')\n",
    "\n",
    "\n",
    "data = [trace1,trace2]\n",
    "py_offline.plot(data, filename='basic-line', include_plotlyjs=False, output_type='div')"
   ],
   "outputs": [
    {
     "output_type": "execute_result",
     "data": {
      "text/plain": [
       "'<div>                            <div id=\"f6add781-3c23-4338-90c4-b63e962fb342\" class=\"plotly-graph-div\" style=\"height:100%; width:100%;\"></div>            <script type=\"text/javascript\">                                    window.PLOTLYENV=window.PLOTLYENV || {};                                    if (document.getElementById(\"f6add781-3c23-4338-90c4-b63e962fb342\")) {                    Plotly.newPlot(                        \"f6add781-3c23-4338-90c4-b63e962fb342\",                        [{\"name\":\"Input data\",\"type\":\"scatter\",\"y\":[0.3687897026538849,0.30728116631507874,0.2658798396587372,0.2342016100883484,0.2289544939994812,0.24441950023174286,0.2897324562072754,0.32673344016075134,0.3450625240802765,0.35946375131607056,0.366017609834671,0.38083764910697937,0.4098110496997833,0.426404744386673,0.4301389157772064,0.42872142791748047,0.4324492812156677,0.42882904410362244,0.4317876100540161,0.4314000606536865,0.4309997260570526,0.43363940715789795,0.43189460039138794,0.4334389865398407,0.4282280206680298,0.4304920434951782,0.4316231906414032,0.43162646889686584,0.4328855872154236,0.42824631929397583,0.43387359380722046,0.4338427782058716,0.4270707368850708,0.4270402491092682,0.4258621335029602,0.42957353591918945,0.43204739689826965,0.42690134048461914,0.4267188310623169,0.42579153180122375,0.42145025730133057,0.42689019441604614,0.4192477762699127,0.42660969495773315,0.425228089094162,0.4170193672180176,0.4184109568595886,0.41961243748664856,0.41716280579566956,0.41829556226730347,0.41633373498916626,0.4121170938014984,0.4156325161457062,0.4140487611293793,0.4120148718357086,0.41335198283195496,0.4142370820045471,0.41685929894447327,0.41644006967544556,0.41624537110328674,0.4196259379386902,0.4177689850330353,0.41905897855758667,0.42218971252441406,0.4196544587612152,0.42940545082092285,0.4308989942073822,0.4307335913181305,0.4318483769893646,0.43540969491004944,0.44192975759506226,0.445151150226593,0.44695404171943665,0.4487036466598511,0.45294925570487976,0.4540736973285675,0.45773977041244507,0.4565097689628601,0.46157169342041016,0.4622882306575775,0.46499142050743103,0.46702536940574646,0.46528127789497375,0.4724016785621643,0.4684238135814667,0.4714818596839905,0.4761196970939636,0.4806874096393585,0.477120041847229,0.47579425573349,0.4818546175956726,0.48146358132362366,0.4816263020038605,0.4840543866157532,0.4852852523326874,0.48290780186653137,0.4826079308986664,0.48741355538368225,0.4890534281730652,0.49074432253837585,0.49717646837234497,0.4968552887439728,0.4969344139099121,0.5008605718612671,0.5031581521034241,0.5059995651245117,0.5076162815093994,0.5129083395004272,0.5130175948143005,0.5137396454811096,0.5173085331916809,0.5215231776237488,0.5224050283432007,0.5229285359382629,0.5217630863189697,0.5279528498649597,0.5248215794563293,0.5252198576927185,0.531267523765564,0.5323393940925598,0.5313363671302795,0.5249910354614258,0.531597912311554,0.5341436862945557,0.5397691130638123,0.5453839898109436,0.5644707083702087,0.5959868431091309,0.6098214387893677,0.6092298626899719,0.6011083722114563,0.5885306596755981,0.5727330446243286,0.5786002278327942,0.6149988770484924,0.6372957229614258,0.6170028448104858,0.5855123400688171,0.56629878282547,0.5726404190063477]},{\"fill\":\"tonexty\",\"name\":\"Reconstruction & error\",\"type\":\"scatter\",\"y\":[0.4256843328475952,0.25454503297805786,0.20544037222862244,0.20650309324264526,0.2215614914894104,0.19130352139472961,0.27707168459892273,0.3335607945919037,0.362309992313385,0.41345974802970886,0.43746817111968994,0.4389730393886566,0.43871766328811646,0.43799155950546265,0.4410869777202606,0.43189117312431335,0.44161778688430786,0.4382389783859253,0.4384671449661255,0.436014324426651,0.4343562722206116,0.43462926149368286,0.43192869424819946,0.4310837984085083,0.42581939697265625,0.4207507073879242,0.4220753610134125,0.41935884952545166,0.4137709140777588,0.416206419467926,0.41038691997528076,0.40503352880477905,0.4054444432258606,0.40574556589126587,0.39939945936203003,0.40339595079421997,0.4012412428855896,0.40368130803108215,0.4076978266239166,0.4119296371936798,0.4129789173603058,0.42210620641708374,0.42626670002937317,0.43109041452407837,0.43990886211395264,0.44017019867897034,0.44988495111465454,0.453815758228302,0.45671913027763367,0.46062928438186646,0.4609215259552002,0.4584144353866577,0.46470651030540466,0.4622734487056732,0.46336469054222107,0.4632166028022766,0.46491000056266785,0.46403729915618896,0.46883952617645264,0.4686332643032074,0.46776145696640015,0.4683658480644226,0.4717467725276947,0.47282683849334717,0.47285109758377075,0.47477957606315613,0.4800027906894684,0.4806848168373108,0.4856235384941101,0.48898476362228394,0.4929889738559723,0.4935923218727112,0.49799951910972595,0.4972800314426422,0.49840670824050903,0.5032339692115784,0.49591177701950073,0.5010835528373718,0.5030845403671265,0.4996143877506256,0.49921169877052307,0.4975881576538086,0.49486514925956726,0.4937552511692047,0.49228331446647644,0.4911697208881378,0.49299943447113037,0.4854464828968048,0.48968061804771423,0.49250704050064087,0.4856533706188202,0.4848209023475647,0.4844740927219391,0.48676708340644836,0.49430152773857117,0.4940229654312134,0.4988734722137451,0.5127152800559998,0.5242849588394165,0.5337012410163879,0.5486502647399902,0.5590289235115051,0.5809598565101624,0.5845168232917786,0.5826619267463684,0.5799670219421387,0.5683370232582092,0.5597468614578247,0.5421831607818604,0.5322701334953308,0.5099816918373108,0.4898626506328583,0.4684865474700928,0.45729199051856995,0.44492319226264954,0.4455365538597107,0.4424281120300293,0.44178307056427,0.4423621594905853,0.44164174795150757,0.4444350004196167,0.4430350065231323,0.43986544013023376,0.4445151090621948,0.441933274269104,0.44573426246643066,0.445489764213562,0.4494786262512207,0.46065929532051086,0.4916643500328064,0.5238155722618103,0.5366279482841492,0.5385555028915405,0.5443313121795654,0.5392601490020752,0.5209140777587891,0.5162511467933655,0.5105314254760742,0.5157020688056946,0.42538943886756897]}],                        {\"template\":{\"data\":{\"bar\":[{\"error_x\":{\"color\":\"#2a3f5f\"},\"error_y\":{\"color\":\"#2a3f5f\"},\"marker\":{\"line\":{\"color\":\"#E5ECF6\",\"width\":0.5},\"pattern\":{\"fillmode\":\"overlay\",\"size\":10,\"solidity\":0.2}},\"type\":\"bar\"}],\"barpolar\":[{\"marker\":{\"line\":{\"color\":\"#E5ECF6\",\"width\":0.5},\"pattern\":{\"fillmode\":\"overlay\",\"size\":10,\"solidity\":0.2}},\"type\":\"barpolar\"}],\"carpet\":[{\"aaxis\":{\"endlinecolor\":\"#2a3f5f\",\"gridcolor\":\"white\",\"linecolor\":\"white\",\"minorgridcolor\":\"white\",\"startlinecolor\":\"#2a3f5f\"},\"baxis\":{\"endlinecolor\":\"#2a3f5f\",\"gridcolor\":\"white\",\"linecolor\":\"white\",\"minorgridcolor\":\"white\",\"startlinecolor\":\"#2a3f5f\"},\"type\":\"carpet\"}],\"choropleth\":[{\"colorbar\":{\"outlinewidth\":0,\"ticks\":\"\"},\"type\":\"choropleth\"}],\"contour\":[{\"colorbar\":{\"outlinewidth\":0,\"ticks\":\"\"},\"colorscale\":[[0.0,\"#0d0887\"],[0.1111111111111111,\"#46039f\"],[0.2222222222222222,\"#7201a8\"],[0.3333333333333333,\"#9c179e\"],[0.4444444444444444,\"#bd3786\"],[0.5555555555555556,\"#d8576b\"],[0.6666666666666666,\"#ed7953\"],[0.7777777777777778,\"#fb9f3a\"],[0.8888888888888888,\"#fdca26\"],[1.0,\"#f0f921\"]],\"type\":\"contour\"}],\"contourcarpet\":[{\"colorbar\":{\"outlinewidth\":0,\"ticks\":\"\"},\"type\":\"contourcarpet\"}],\"heatmap\":[{\"colorbar\":{\"outlinewidth\":0,\"ticks\":\"\"},\"colorscale\":[[0.0,\"#0d0887\"],[0.1111111111111111,\"#46039f\"],[0.2222222222222222,\"#7201a8\"],[0.3333333333333333,\"#9c179e\"],[0.4444444444444444,\"#bd3786\"],[0.5555555555555556,\"#d8576b\"],[0.6666666666666666,\"#ed7953\"],[0.7777777777777778,\"#fb9f3a\"],[0.8888888888888888,\"#fdca26\"],[1.0,\"#f0f921\"]],\"type\":\"heatmap\"}],\"heatmapgl\":[{\"colorbar\":{\"outlinewidth\":0,\"ticks\":\"\"},\"colorscale\":[[0.0,\"#0d0887\"],[0.1111111111111111,\"#46039f\"],[0.2222222222222222,\"#7201a8\"],[0.3333333333333333,\"#9c179e\"],[0.4444444444444444,\"#bd3786\"],[0.5555555555555556,\"#d8576b\"],[0.6666666666666666,\"#ed7953\"],[0.7777777777777778,\"#fb9f3a\"],[0.8888888888888888,\"#fdca26\"],[1.0,\"#f0f921\"]],\"type\":\"heatmapgl\"}],\"histogram\":[{\"marker\":{\"pattern\":{\"fillmode\":\"overlay\",\"size\":10,\"solidity\":0.2}},\"type\":\"histogram\"}],\"histogram2d\":[{\"colorbar\":{\"outlinewidth\":0,\"ticks\":\"\"},\"colorscale\":[[0.0,\"#0d0887\"],[0.1111111111111111,\"#46039f\"],[0.2222222222222222,\"#7201a8\"],[0.3333333333333333,\"#9c179e\"],[0.4444444444444444,\"#bd3786\"],[0.5555555555555556,\"#d8576b\"],[0.6666666666666666,\"#ed7953\"],[0.7777777777777778,\"#fb9f3a\"],[0.8888888888888888,\"#fdca26\"],[1.0,\"#f0f921\"]],\"type\":\"histogram2d\"}],\"histogram2dcontour\":[{\"colorbar\":{\"outlinewidth\":0,\"ticks\":\"\"},\"colorscale\":[[0.0,\"#0d0887\"],[0.1111111111111111,\"#46039f\"],[0.2222222222222222,\"#7201a8\"],[0.3333333333333333,\"#9c179e\"],[0.4444444444444444,\"#bd3786\"],[0.5555555555555556,\"#d8576b\"],[0.6666666666666666,\"#ed7953\"],[0.7777777777777778,\"#fb9f3a\"],[0.8888888888888888,\"#fdca26\"],[1.0,\"#f0f921\"]],\"type\":\"histogram2dcontour\"}],\"mesh3d\":[{\"colorbar\":{\"outlinewidth\":0,\"ticks\":\"\"},\"type\":\"mesh3d\"}],\"parcoords\":[{\"line\":{\"colorbar\":{\"outlinewidth\":0,\"ticks\":\"\"}},\"type\":\"parcoords\"}],\"pie\":[{\"automargin\":true,\"type\":\"pie\"}],\"scatter\":[{\"marker\":{\"colorbar\":{\"outlinewidth\":0,\"ticks\":\"\"}},\"type\":\"scatter\"}],\"scatter3d\":[{\"line\":{\"colorbar\":{\"outlinewidth\":0,\"ticks\":\"\"}},\"marker\":{\"colorbar\":{\"outlinewidth\":0,\"ticks\":\"\"}},\"type\":\"scatter3d\"}],\"scattercarpet\":[{\"marker\":{\"colorbar\":{\"outlinewidth\":0,\"ticks\":\"\"}},\"type\":\"scattercarpet\"}],\"scattergeo\":[{\"marker\":{\"colorbar\":{\"outlinewidth\":0,\"ticks\":\"\"}},\"type\":\"scattergeo\"}],\"scattergl\":[{\"marker\":{\"colorbar\":{\"outlinewidth\":0,\"ticks\":\"\"}},\"type\":\"scattergl\"}],\"scattermapbox\":[{\"marker\":{\"colorbar\":{\"outlinewidth\":0,\"ticks\":\"\"}},\"type\":\"scattermapbox\"}],\"scatterpolar\":[{\"marker\":{\"colorbar\":{\"outlinewidth\":0,\"ticks\":\"\"}},\"type\":\"scatterpolar\"}],\"scatterpolargl\":[{\"marker\":{\"colorbar\":{\"outlinewidth\":0,\"ticks\":\"\"}},\"type\":\"scatterpolargl\"}],\"scatterternary\":[{\"marker\":{\"colorbar\":{\"outlinewidth\":0,\"ticks\":\"\"}},\"type\":\"scatterternary\"}],\"surface\":[{\"colorbar\":{\"outlinewidth\":0,\"ticks\":\"\"},\"colorscale\":[[0.0,\"#0d0887\"],[0.1111111111111111,\"#46039f\"],[0.2222222222222222,\"#7201a8\"],[0.3333333333333333,\"#9c179e\"],[0.4444444444444444,\"#bd3786\"],[0.5555555555555556,\"#d8576b\"],[0.6666666666666666,\"#ed7953\"],[0.7777777777777778,\"#fb9f3a\"],[0.8888888888888888,\"#fdca26\"],[1.0,\"#f0f921\"]],\"type\":\"surface\"}],\"table\":[{\"cells\":{\"fill\":{\"color\":\"#EBF0F8\"},\"line\":{\"color\":\"white\"}},\"header\":{\"fill\":{\"color\":\"#C8D4E3\"},\"line\":{\"color\":\"white\"}},\"type\":\"table\"}]},\"layout\":{\"annotationdefaults\":{\"arrowcolor\":\"#2a3f5f\",\"arrowhead\":0,\"arrowwidth\":1},\"autotypenumbers\":\"strict\",\"coloraxis\":{\"colorbar\":{\"outlinewidth\":0,\"ticks\":\"\"}},\"colorscale\":{\"diverging\":[[0,\"#8e0152\"],[0.1,\"#c51b7d\"],[0.2,\"#de77ae\"],[0.3,\"#f1b6da\"],[0.4,\"#fde0ef\"],[0.5,\"#f7f7f7\"],[0.6,\"#e6f5d0\"],[0.7,\"#b8e186\"],[0.8,\"#7fbc41\"],[0.9,\"#4d9221\"],[1,\"#276419\"]],\"sequential\":[[0.0,\"#0d0887\"],[0.1111111111111111,\"#46039f\"],[0.2222222222222222,\"#7201a8\"],[0.3333333333333333,\"#9c179e\"],[0.4444444444444444,\"#bd3786\"],[0.5555555555555556,\"#d8576b\"],[0.6666666666666666,\"#ed7953\"],[0.7777777777777778,\"#fb9f3a\"],[0.8888888888888888,\"#fdca26\"],[1.0,\"#f0f921\"]],\"sequentialminus\":[[0.0,\"#0d0887\"],[0.1111111111111111,\"#46039f\"],[0.2222222222222222,\"#7201a8\"],[0.3333333333333333,\"#9c179e\"],[0.4444444444444444,\"#bd3786\"],[0.5555555555555556,\"#d8576b\"],[0.6666666666666666,\"#ed7953\"],[0.7777777777777778,\"#fb9f3a\"],[0.8888888888888888,\"#fdca26\"],[1.0,\"#f0f921\"]]},\"colorway\":[\"#636efa\",\"#EF553B\",\"#00cc96\",\"#ab63fa\",\"#FFA15A\",\"#19d3f3\",\"#FF6692\",\"#B6E880\",\"#FF97FF\",\"#FECB52\"],\"font\":{\"color\":\"#2a3f5f\"},\"geo\":{\"bgcolor\":\"white\",\"lakecolor\":\"white\",\"landcolor\":\"#E5ECF6\",\"showlakes\":true,\"showland\":true,\"subunitcolor\":\"white\"},\"hoverlabel\":{\"align\":\"left\"},\"hovermode\":\"closest\",\"mapbox\":{\"style\":\"light\"},\"paper_bgcolor\":\"white\",\"plot_bgcolor\":\"#E5ECF6\",\"polar\":{\"angularaxis\":{\"gridcolor\":\"white\",\"linecolor\":\"white\",\"ticks\":\"\"},\"bgcolor\":\"#E5ECF6\",\"radialaxis\":{\"gridcolor\":\"white\",\"linecolor\":\"white\",\"ticks\":\"\"}},\"scene\":{\"xaxis\":{\"backgroundcolor\":\"#E5ECF6\",\"gridcolor\":\"white\",\"gridwidth\":2,\"linecolor\":\"white\",\"showbackground\":true,\"ticks\":\"\",\"zerolinecolor\":\"white\"},\"yaxis\":{\"backgroundcolor\":\"#E5ECF6\",\"gridcolor\":\"white\",\"gridwidth\":2,\"linecolor\":\"white\",\"showbackground\":true,\"ticks\":\"\",\"zerolinecolor\":\"white\"},\"zaxis\":{\"backgroundcolor\":\"#E5ECF6\",\"gridcolor\":\"white\",\"gridwidth\":2,\"linecolor\":\"white\",\"showbackground\":true,\"ticks\":\"\",\"zerolinecolor\":\"white\"}},\"shapedefaults\":{\"line\":{\"color\":\"#2a3f5f\"}},\"ternary\":{\"aaxis\":{\"gridcolor\":\"white\",\"linecolor\":\"white\",\"ticks\":\"\"},\"baxis\":{\"gridcolor\":\"white\",\"linecolor\":\"white\",\"ticks\":\"\"},\"bgcolor\":\"#E5ECF6\",\"caxis\":{\"gridcolor\":\"white\",\"linecolor\":\"white\",\"ticks\":\"\"}},\"title\":{\"x\":0.05},\"xaxis\":{\"automargin\":true,\"gridcolor\":\"white\",\"linecolor\":\"white\",\"ticks\":\"\",\"title\":{\"standoff\":15},\"zerolinecolor\":\"white\",\"zerolinewidth\":2},\"yaxis\":{\"automargin\":true,\"gridcolor\":\"white\",\"linecolor\":\"white\",\"ticks\":\"\",\"title\":{\"standoff\":15},\"zerolinecolor\":\"white\",\"zerolinewidth\":2}}}},                        {\"responsive\": true}                    )                };                            </script>        </div>'"
      ]
     },
     "metadata": {},
     "execution_count": 13
    }
   ],
   "metadata": {}
  },
  {
   "cell_type": "markdown",
   "source": [
    "With the naked eye, the two plots above seem to suggest that the reconstruction error for the abnormal rhythm ECG is larger. We will formalize our findings in the next section.\n",
    "\n",
    "## Detecting anomalies\n",
    "\n",
    "Here we will compute the reconstruction error for all the data points both normal and abnormal.  For the reconstruction error, we will use the mean absolute error.\n",
    "We will compute the reconstruction error of the training dataset and choose a threshold  (one standard deviation away from the mean) above which we will classify an ECG as abnormal.\n"
   ],
   "metadata": {}
  },
  {
   "cell_type": "code",
   "execution_count": 14,
   "source": [
    "reconstructions = autoencoder.predict(normal_train_data)\n",
    "train_loss = tf.keras.losses.mae(reconstructions, normal_train_data)\n",
    "\n",
    "fig = go.Figure()\n",
    "fig = fig.add_trace(go.Histogram(x=train_loss[None,:][0],name='Normal loss'))\n",
    "fig.show()\n"
   ],
   "outputs": [
    {
     "output_type": "display_data",
     "data": {
      "application/vnd.plotly.v1+json": {
       "config": {
        "plotlyServerURL": "https://plot.ly"
       },
       "data": [
        {
         "name": "Normal loss",
         "type": "histogram",
         "x": [
          0.027718355879187584,
          0.011423640884459019,
          0.020439963787794113,
          0.019802305847406387,
          0.01242502499371767,
          0.018447604030370712,
          0.02142195962369442,
          0.014529291540384293,
          0.01551346480846405,
          0.018099144101142883,
          0.014980075880885124,
          0.009459160268306732,
          0.011795940808951855,
          0.024943023920059204,
          0.06608700007200241,
          0.02228361740708351,
          0.014084957540035248,
          0.011625285260379314,
          0.04119391739368439,
          0.010207423940300941,
          0.01565944217145443,
          0.011419259943068027,
          0.0220077782869339,
          0.026065904647111893,
          0.025802360847592354,
          0.024958044290542603,
          0.032680097967386246,
          0.01895991899073124,
          0.008562895469367504,
          0.016884010285139084,
          0.023164808750152588,
          0.025930043309926987,
          0.012738999910652637,
          0.01504617091268301,
          0.01287566963583231,
          0.008604860864579678,
          0.013235331512987614,
          0.021313408389687538,
          0.030176939442753792,
          0.008417174220085144,
          0.01589006558060646,
          0.04528427869081497,
          0.013394652865827084,
          0.012099449522793293,
          0.017449375241994858,
          0.015209335833787918,
          0.02271151915192604,
          0.013333728536963463,
          0.023344367742538452,
          0.011175663210451603,
          0.010594386607408524,
          0.0073113092221319675,
          0.020726483315229416,
          0.014423678629100323,
          0.01255825161933899,
          0.015308322384953499,
          0.043034374713897705,
          0.030171435326337814,
          0.02115427516400814,
          0.0461370050907135,
          0.027945606037974358,
          0.0431370884180069,
          0.023993734270334244,
          0.023156076669692993,
          0.010368432849645615,
          0.019941434264183044,
          0.02369726449251175,
          0.018416453152894974,
          0.04163114354014397,
          0.011059456504881382,
          0.08461495488882065,
          0.017956092953681946,
          0.015590861439704895,
          0.026092957705259323,
          0.013411499559879303,
          0.012965462170541286,
          0.014478230848908424,
          0.013437094166874886,
          0.05351627245545387,
          0.010734218172729015,
          0.025305114686489105,
          0.016832828521728516,
          0.014110933057963848,
          0.05296311527490616,
          0.01364390179514885,
          0.01263198722153902,
          0.01235162653028965,
          0.013212881051003933,
          0.01166367344558239,
          0.07969184964895248,
          0.009361593052744865,
          0.011552389711141586,
          0.013926651328802109,
          0.013995642773807049,
          0.023347023874521255,
          0.028429511934518814,
          0.024490131065249443,
          0.010503142140805721,
          0.016964929178357124,
          0.008654126897454262,
          0.05596170574426651,
          0.029408976435661316,
          0.02266073040664196,
          0.02188890613615513,
          0.015273131430149078,
          0.01656500995159149,
          0.028959665447473526,
          0.010944275185465813,
          0.010909111239016056,
          0.01787491701543331,
          0.011398968286812305,
          0.013435539789497852,
          0.020608216524124146,
          0.022126713767647743,
          0.02546866051852703,
          0.07274095714092255,
          0.028504885733127594,
          0.017802895978093147,
          0.009662848897278309,
          0.013368160463869572,
          0.012520461343228817,
          0.009868795983493328,
          0.015724556520581245,
          0.019312290474772453,
          0.027381760999560356,
          0.02554287575185299,
          0.013245844282209873,
          0.009607983753085136,
          0.022103264927864075,
          0.023612556979060173,
          0.013810008764266968,
          0.041429657489061356,
          0.013081255368888378,
          0.019982388243079185,
          0.01823899894952774,
          0.011036762036383152,
          0.010183720849454403,
          0.024045612663030624,
          0.010384784080088139,
          0.03100239299237728,
          0.054098814725875854,
          0.013726742938160896,
          0.0122071523219347,
          0.023931805044412613,
          0.013655684888362885,
          0.012014717794954777,
          0.011734353378415108,
          0.03366181626915932,
          0.009789824485778809,
          0.059260524809360504,
          0.01218041218817234,
          0.017270872369408607,
          0.021755272522568703,
          0.008867536671459675,
          0.01846490614116192,
          0.059360209852457047,
          0.011615611612796783,
          0.01045268401503563,
          0.01644592359662056,
          0.008671806193888187,
          0.02490648627281189,
          0.013035234063863754,
          0.009899858385324478,
          0.024857530370354652,
          0.013933156616985798,
          0.021459082141518593,
          0.027813047170639038,
          0.01592158153653145,
          0.01907348819077015,
          0.03174629434943199,
          0.035619281232357025,
          0.012008192017674446,
          0.03690938651561737,
          0.015395884402096272,
          0.006679619196802378,
          0.022198230028152466,
          0.010772970505058765,
          0.0284635778516531,
          0.015125148929655552,
          0.014582142233848572,
          0.011994166299700737,
          0.02637036330997944,
          0.015149617567658424,
          0.036105625331401825,
          0.014926685951650143,
          0.01940239779651165,
          0.029583454132080078,
          0.015731438994407654,
          0.02185354195535183,
          0.027417851611971855,
          0.012624101713299751,
          0.05177440121769905,
          0.02285170555114746,
          0.010585394687950611,
          0.018542977049946785,
          0.013827289454638958,
          0.02165413834154606,
          0.0179535411298275,
          0.011036918498575687,
          0.010829801671206951,
          0.01621708832681179,
          0.02395758219063282,
          0.0478665865957737,
          0.012951203621923923,
          0.02345656417310238,
          0.027076618745923042,
          0.009864983148872852,
          0.011904580518603325,
          0.014281322248280048,
          0.01401111576706171,
          0.016596978530287743,
          0.012137310579419136,
          0.01301798690110445,
          0.014398692175745964,
          0.02493656426668167,
          0.01609283685684204,
          0.011288940906524658,
          0.018765926361083984,
          0.014854788780212402,
          0.02720516547560692,
          0.01222156174480915,
          0.03468310460448265,
          0.016011353582143784,
          0.012382809072732925,
          0.018074799329042435,
          0.013630084693431854,
          0.024018507450819016,
          0.0212281234562397,
          0.010396035388112068,
          0.015910286456346512,
          0.014592846855521202,
          0.011178681626915932,
          0.012046631425619125,
          0.014802900142967701,
          0.012960255146026611,
          0.010048437863588333,
          0.020484793931245804,
          0.015656596049666405,
          0.030253082513809204,
          0.027202341705560684,
          0.024651087820529938,
          0.010738184675574303,
          0.010921929962933064,
          0.02214829996228218,
          0.015113715082406998,
          0.01968938671052456,
          0.008195354603230953,
          0.013286652974784374,
          0.013455583713948727,
          0.022958431392908096,
          0.01961401104927063,
          0.022573592141270638,
          0.02909521386027336,
          0.02415146864950657,
          0.014075352810323238,
          0.02285236306488514,
          0.019872652366757393,
          0.02247581258416176,
          0.009042361751198769,
          0.013239775784313679,
          0.012803088873624802,
          0.02751508355140686,
          0.027871740981936455,
          0.02822825312614441,
          0.01495759841054678,
          0.043189067393541336,
          0.008951445110142231,
          0.02043858729302883,
          0.03597644716501236,
          0.025004133582115173,
          0.008890935219824314,
          0.0178808756172657,
          0.009969239123165607,
          0.02087581157684326,
          0.019557960331439972,
          0.012356079183518887,
          0.027676470577716827,
          0.060220446437597275,
          0.017328722402453423,
          0.029149815440177917,
          0.01547937374562025,
          0.013863563537597656,
          0.04424910992383957,
          0.01673547364771366,
          0.012475823983550072,
          0.015547232702374458,
          0.014088965952396393,
          0.010922721587121487,
          0.015562871471047401,
          0.011957898736000061,
          0.009583891369402409,
          0.028726253658533096,
          0.017425965517759323,
          0.02433697134256363,
          0.028431585058569908,
          0.019135359674692154,
          0.05948716402053833,
          0.012437103316187859,
          0.029322491958737373,
          0.013723650015890598,
          0.09713497757911682,
          0.008042381145060062,
          0.03148162364959717,
          0.028558580204844475,
          0.020527739077806473,
          0.04711576923727989,
          0.02333732321858406,
          0.017383163794875145,
          0.015813449397683144,
          0.012689555995166302,
          0.029130076989531517,
          0.009953640401363373,
          0.02695678547024727,
          0.017869196832180023,
          0.025062188506126404,
          0.018278248608112335,
          0.00975924264639616,
          0.010484375059604645,
          0.029562054201960564,
          0.013222659938037395,
          0.016444995999336243,
          0.013279005885124207,
          0.07121828943490982,
          0.01585065945982933,
          0.013422314077615738,
          0.01983056776225567,
          0.018213480710983276,
          0.011083611287176609,
          0.015200559981167316,
          0.013362699188292027,
          0.020703082904219627,
          0.008798320777714252,
          0.009538259357213974,
          0.012116476893424988,
          0.01963604986667633,
          0.021078964695334435,
          0.007671870291233063,
          0.01407848484814167,
          0.018006691709160805,
          0.02524128369987011,
          0.01364050805568695,
          0.025619711726903915,
          0.009551560506224632,
          0.01982054114341736,
          0.018322041258215904,
          0.011229886673390865,
          0.025480110198259354,
          0.01541091874241829,
          0.021952679380774498,
          0.02804626151919365,
          0.023398680612444878,
          0.022831428796052933,
          0.022780204191803932,
          0.008684291504323483,
          0.06438978016376495,
          0.011132986284792423,
          0.01580619439482689,
          0.009761360473930836,
          0.013531042262911797,
          0.05642208456993103,
          0.015083563514053822,
          0.021720319986343384,
          0.02495795488357544,
          0.03149336576461792,
          0.012467026710510254,
          0.014527550898492336,
          0.021365970373153687,
          0.025981267914175987,
          0.0124274380505085,
          0.020200243219733238,
          0.009880594909191132,
          0.0160691998898983,
          0.02820083498954773,
          0.014870105311274529,
          0.013578048907220364,
          0.06888443976640701,
          0.013791813515126705,
          0.050490401685237885,
          0.02549673058092594,
          0.024511506780982018,
          0.01400690246373415,
          0.011236761696636677,
          0.02403300628066063,
          0.01728617213666439,
          0.02027278207242489,
          0.025644714012742043,
          0.013703768141567707,
          0.0384015329182148,
          0.013748998753726482,
          0.026638727635145187,
          0.03581550344824791,
          0.016270048916339874,
          0.01032703835517168,
          0.02516132779419422,
          0.010372532531619072,
          0.007385732606053352,
          0.024436667561531067,
          0.008763764053583145,
          0.01405511423945427,
          0.019302548840641975,
          0.0303976908326149,
          0.014465161599218845,
          0.010600616224110126,
          0.01114603690803051,
          0.02771538496017456,
          0.013159400783479214,
          0.021223705261945724,
          0.015714304521679878,
          0.02587461844086647,
          0.035650283098220825,
          0.010549021884799004,
          0.015069521963596344,
          0.009511658921837807,
          0.02959325723350048,
          0.01848718151450157,
          0.02347332425415516,
          0.012883840128779411,
          0.04074358195066452,
          0.013094830326735973,
          0.0111229931935668,
          0.013688134029507637,
          0.016879795119166374,
          0.013917635194957256,
          0.04862840473651886,
          0.0249046478420496,
          0.02614484913647175,
          0.0428023487329483,
          0.013112742453813553,
          0.010413698852062225,
          0.034567710012197495,
          0.013191347941756248,
          0.028199803084135056,
          0.019458996132016182,
          0.031702011823654175,
          0.014369592070579529,
          0.027548132464289665,
          0.026801425963640213,
          0.008850102312862873,
          0.016343027353286743,
          0.025877049192786217,
          0.011107880622148514,
          0.023946333676576614,
          0.012429917231202126,
          0.017689231783151627,
          0.052097052335739136,
          0.021248096600174904,
          0.01525934413075447,
          0.012458114884793758,
          0.010550548322498798,
          0.023116499185562134,
          0.02366437390446663,
          0.01678696647286415,
          0.011326566338539124,
          0.026628991588950157,
          0.031188994646072388,
          0.012825909070670605,
          0.029673665761947632,
          0.016150424256920815,
          0.02152344398200512,
          0.0168733149766922,
          0.012020237743854523,
          0.01313376147300005,
          0.0232501532882452,
          0.025897236540913582,
          0.008771012537181377,
          0.03506401553750038,
          0.02302262745797634,
          0.01047563087195158,
          0.021429814398288727,
          0.017441440373659134,
          0.05815920978784561,
          0.020961318165063858,
          0.023787761107087135,
          0.021168816834688187,
          0.013454599305987358,
          0.009197117760777473,
          0.02257189154624939,
          0.029389135539531708,
          0.012005221098661423,
          0.017729533836245537,
          0.020270155742764473,
          0.018992504104971886,
          0.010111154057085514,
          0.012978280894458294,
          0.01277870498597622,
          0.014233882538974285,
          0.01709810644388199,
          0.018300268799066544,
          0.01416140329092741,
          0.012934643775224686,
          0.023979783058166504,
          0.022270547226071358,
          0.011674846522510052,
          0.021338829770684242,
          0.05348645895719528,
          0.02294199727475643,
          0.013139952905476093,
          0.012756548821926117,
          0.01459305826574564,
          0.01840716414153576,
          0.016069965437054634,
          0.00978032499551773,
          0.015527859330177307,
          0.014705304056406021,
          0.010122154839336872,
          0.011404826305806637,
          0.06802868843078613,
          0.026687603443861008,
          0.022911980748176575,
          0.011798860505223274,
          0.011344623751938343,
          0.04447755962610245,
          0.013858756981790066,
          0.01322953775525093,
          0.01158132217824459,
          0.026037761941552162,
          0.029437866061925888,
          0.01758604310452938,
          0.01976383663713932,
          0.018267346546053886,
          0.008837406523525715,
          0.01325623132288456,
          0.024784063920378685,
          0.01567232236266136,
          0.05371876806020737,
          0.012855554930865765,
          0.025773871690034866,
          0.01694517955183983,
          0.02230742946267128,
          0.010644033551216125,
          0.017654981464147568,
          0.01833188906311989,
          0.013013293035328388,
          0.02429763600230217,
          0.011406973004341125,
          0.014805725775659084,
          0.016072582453489304,
          0.014871089719235897,
          0.011427659541368484,
          0.02357531525194645,
          0.014732670970261097,
          0.024040553718805313,
          0.022854259237647057,
          0.007846323773264885,
          0.009527241811156273,
          0.011894509196281433,
          0.015786821022629738,
          0.009704838506877422,
          0.011859907768666744,
          0.017102710902690887,
          0.016606612130999565,
          0.013069765642285347,
          0.012644991278648376,
          0.010751343332231045,
          0.012261424213647842,
          0.045185528695583344,
          0.013294034637510777,
          0.021823689341545105,
          0.02020559459924698,
          0.008374194614589214,
          0.019807780161499977,
          0.03187226504087448,
          0.05871838703751564,
          0.028052562847733498,
          0.02580183558166027,
          0.016013585031032562,
          0.011382004246115685,
          0.015592762269079685,
          0.04467134550213814,
          0.020919714123010635,
          0.010340139269828796,
          0.011204387061297894,
          0.006787985097616911,
          0.013747477903962135,
          0.013529428280889988,
          0.012834575958549976,
          0.012875491753220558,
          0.015193836763501167,
          0.024288931861519814,
          0.01611577533185482,
          0.023987969383597374,
          0.011744268238544464,
          0.013538768514990807,
          0.009771563112735748,
          0.03810403123497963,
          0.009759911336004734,
          0.011120658367872238,
          0.01760483719408512,
          0.016153346747159958,
          0.02588050439953804,
          0.009542452171444893,
          0.016656650230288506,
          0.012134105898439884,
          0.010447857901453972,
          0.02477254346013069,
          0.014863530173897743,
          0.02734335884451866,
          0.012123728170990944,
          0.06998113542795181,
          0.02982833795249462,
          0.010110840201377869,
          0.01005464419722557,
          0.03141257166862488,
          0.023194940760731697,
          0.034983206540346146,
          0.013793567195534706,
          0.02381463348865509,
          0.03539271652698517,
          0.010340476408600807,
          0.017209161072969437,
          0.02120542898774147,
          0.02070874534547329,
          0.012923243455588818,
          0.013679640367627144,
          0.011408953927457333,
          0.023817630484700203,
          0.04857214167714119,
          0.016712358221411705,
          0.014378486201167107,
          0.015129465609788895,
          0.03197382017970085,
          0.011215117760002613,
          0.009938056580722332,
          0.010337143205106258,
          0.013708571903407574,
          0.028055965900421143,
          0.015220471657812595,
          0.012957935221493244,
          0.03152237460017204,
          0.018341850489377975,
          0.015613785944879055,
          0.009816157631576061,
          0.014138814061880112,
          0.03955714777112007,
          0.02689768187701702,
          0.009501662105321884,
          0.012104255147278309,
          0.01808180846273899,
          0.012906374409794807,
          0.008358767256140709,
          0.039658669382333755,
          0.012275826185941696,
          0.011537699028849602,
          0.019561678171157837,
          0.017522405833005905,
          0.03118828311562538,
          0.0316355936229229,
          0.011561981402337551,
          0.01188682671636343,
          0.018251214176416397,
          0.017822081223130226,
          0.008364620618522167,
          0.021046482026576996,
          0.022585606202483177,
          0.012863346375524998,
          0.011864648200571537,
          0.011857399716973305,
          0.01907927915453911,
          0.00894466508179903,
          0.012923423200845718,
          0.03369385004043579,
          0.031875450164079666,
          0.01797727309167385,
          0.02163049206137657,
          0.012822243385016918,
          0.015310055576264858,
          0.013615692965686321,
          0.011524360626935959,
          0.011760643683373928,
          0.014375838451087475,
          0.009361556731164455,
          0.03577376902103424,
          0.021394774317741394,
          0.011255130171775818,
          0.019821561872959137,
          0.010926817543804646,
          0.01758771762251854,
          0.013575526885688305,
          0.07775206118822098,
          0.008196977898478508,
          0.01277825329452753,
          0.030989905819296837,
          0.03071393258869648,
          0.01986030675470829,
          0.04279804602265358,
          0.01239501591771841,
          0.009682422503829002,
          0.013044803403317928,
          0.011243067681789398,
          0.028611676767468452,
          0.011173250153660774,
          0.045684780925512314,
          0.009231115691363811,
          0.020770203322172165,
          0.01861734874546528,
          0.02329999767243862,
          0.05068550258874893,
          0.02413351833820343,
          0.03132238984107971,
          0.01597157120704651,
          0.028635073453187943,
          0.009208545088768005,
          0.028775066137313843,
          0.010519778355956078,
          0.016507325693964958,
          0.023069925606250763,
          0.012906600721180439,
          0.03221439570188522,
          0.01639632135629654,
          0.01798316463828087,
          0.008864324539899826,
          0.014380929991602898,
          0.015022764913737774,
          0.01969609595835209,
          0.024864086881279945,
          0.03838128224015236,
          0.022108903154730797,
          0.010663692839443684,
          0.019033150747418404,
          0.018951425328850746,
          0.013184302486479282,
          0.014017016626894474,
          0.014681514352560043,
          0.016809266060590744,
          0.009348277933895588,
          0.009843950159847736,
          0.02805185131728649,
          0.011153961531817913,
          0.022772708907723427,
          0.010347236879169941,
          0.00910421647131443,
          0.03884291648864746,
          0.02341771312057972,
          0.013128744438290596,
          0.011822761967778206,
          0.025052277371287346,
          0.011686982586979866,
          0.00926482304930687,
          0.012406881898641586,
          0.06148817762732506,
          0.03164447844028473,
          0.029974086210131645,
          0.022712133824825287,
          0.025015756487846375,
          0.013423465192317963,
          0.027547378093004227,
          0.012714165262877941,
          0.011141527444124222,
          0.010057851672172546,
          0.03187144547700882,
          0.016561118885874748,
          0.008366784080862999,
          0.015914766117930412,
          0.059989385306835175,
          0.01945423148572445,
          0.030086098238825798,
          0.07664874941110611,
          0.017063258215785027,
          0.009696406312286854,
          0.012996687553822994,
          0.01932363584637642,
          0.01613493077456951,
          0.0754389688372612,
          0.0246884785592556,
          0.014579812064766884,
          0.03317501023411751,
          0.012990684248507023,
          0.03063502348959446,
          0.025734910741448402,
          0.048996277153491974,
          0.030507247895002365,
          0.013456433080136776,
          0.014619728550314903,
          0.020198261365294456,
          0.02610429935157299,
          0.012165253050625324,
          0.06178625673055649,
          0.011221751570701599,
          0.02207121253013611,
          0.02239033579826355,
          0.026163773611187935,
          0.01445771660655737,
          0.03752628341317177,
          0.014904895797371864,
          0.0133536821231246,
          0.02685009501874447,
          0.015068652108311653,
          0.012201506644487381,
          0.023919174447655678,
          0.013161899521946907,
          0.013413778506219387,
          0.0130350012332201,
          0.009517529979348183,
          0.017115594819188118,
          0.016447950154542923,
          0.01081375777721405,
          0.012910529971122742,
          0.010735505260527134,
          0.016198869794607162,
          0.022681212052702904,
          0.019939811900258064,
          0.02037079446017742,
          0.008552675135433674,
          0.01444396935403347,
          0.010338228195905685,
          0.0075120823457837105,
          0.012157843448221684,
          0.012775964103639126,
          0.013786355033516884,
          0.018097149208188057,
          0.012078001163899899,
          0.015980932861566544,
          0.013556333258748055,
          0.020860807970166206,
          0.016075529158115387,
          0.019953124225139618,
          0.027882806956768036,
          0.01821102760732174,
          0.015385011211037636,
          0.02106601558625698,
          0.025984635576605797,
          0.029432855546474457,
          0.0227902140468359,
          0.050445541739463806,
          0.030553769320249557,
          0.029247453436255455,
          0.024446412920951843,
          0.014726909808814526,
          0.02213217504322529,
          0.02719441056251526,
          0.020728716626763344,
          0.026504632085561752,
          0.026462310925126076,
          0.03532093018293381,
          0.019501641392707825,
          0.013179884292185307,
          0.011578229255974293,
          0.024921486154198647,
          0.028925606980919838,
          0.016309767961502075,
          0.025186831131577492,
          0.022536296397447586,
          0.013556807301938534,
          0.01215291302651167,
          0.021309027448296547,
          0.012197685427963734,
          0.024470405653119087,
          0.013998464681208134,
          0.016168974339962006,
          0.023786496371030807,
          0.02572486363351345,
          0.02777659147977829,
          0.026387227699160576,
          0.011182314716279507,
          0.01090695895254612,
          0.023670608177781105,
          0.01099918968975544,
          0.017489032819867134,
          0.013244351372122765,
          0.03780514374375343,
          0.025860950350761414,
          0.01984700933098793,
          0.00878744013607502,
          0.01890104077756405,
          0.01586277224123478,
          0.01355193555355072,
          0.012561623007059097,
          0.006939037702977657,
          0.0257992185652256,
          0.015066499821841717,
          0.029325328767299652,
          0.01036246120929718,
          0.025332637131214142,
          0.010708206333220005,
          0.018477488309144974,
          0.029142403975129128,
          0.02856389246881008,
          0.016582613810896873,
          0.02566559985280037,
          0.021879171952605247,
          0.015851713716983795,
          0.019935470074415207,
          0.00993332453072071,
          0.007961819879710674,
          0.011182810179889202,
          0.01695934310555458,
          0.018280580639839172,
          0.016843507066369057,
          0.033406298607587814,
          0.022668907418847084,
          0.02295258641242981,
          0.01771683618426323,
          0.014035736210644245,
          0.025920752435922623,
          0.009415586479008198,
          0.012898296117782593,
          0.02458411641418934,
          0.010257397778332233,
          0.020501764491200447,
          0.02003527618944645,
          0.03058464266359806,
          0.03935813531279564,
          0.00988872442394495,
          0.0333591029047966,
          0.013614420779049397,
          0.010844320990145206,
          0.011224884539842606,
          0.011832019314169884,
          0.013284904882311821,
          0.02346012182533741,
          0.010894223116338253,
          0.013364972546696663,
          0.02668004296720028,
          0.02223283424973488,
          0.015406434424221516,
          0.017486216500401497,
          0.01027611456811428,
          0.02536993846297264,
          0.014157903380692005,
          0.01395716704428196,
          0.012965130619704723,
          0.021520324051380157,
          0.024050172418355942,
          0.05179845541715622,
          0.018082935363054276,
          0.023037822917103767,
          0.010281265713274479,
          0.02372354082763195,
          0.01549455989152193,
          0.057209376245737076,
          0.016481686383485794,
          0.012424396350979805,
          0.03114139288663864,
          0.010509380139410496,
          0.02489456906914711,
          0.014614813961088657,
          0.024893153458833694,
          0.023012137040495872,
          0.0364866741001606,
          0.018107237294316292,
          0.009529294446110725,
          0.03521852567791939,
          0.02145853079855442,
          0.030571341514587402,
          0.03216630592942238,
          0.010729205794632435,
          0.02457423321902752,
          0.012722444720566273,
          0.02413020469248295,
          0.029003623872995377,
          0.028344664722681046,
          0.018171845003962517,
          0.026469653472304344,
          0.02800382487475872,
          0.027812013402581215,
          0.02152346260845661,
          0.010592360980808735,
          0.023801466450095177,
          0.01079936046153307,
          0.012783680111169815,
          0.011556323617696762,
          0.011681764386594296,
          0.031700897961854935,
          0.01954858936369419,
          0.03379492834210396,
          0.02225799672305584,
          0.022013619542121887,
          0.008961633779108524,
          0.015133983455598354,
          0.023420989513397217,
          0.024547385051846504,
          0.014659544453024864,
          0.011580344289541245,
          0.008025274612009525,
          0.009011603891849518,
          0.030096421018242836,
          0.02198079787194729,
          0.017581285908818245,
          0.03703662380576134,
          0.013108357787132263,
          0.010728958062827587,
          0.01316982600837946,
          0.016922757029533386,
          0.007247644010931253,
          0.019762830808758736,
          0.01164599321782589,
          0.015425409190356731,
          0.014638999477028847,
          0.021597405895590782,
          0.009579884819686413,
          0.019858190789818764,
          0.028452815487980843,
          0.016430625692009926,
          0.014007097110152245,
          0.03190509229898453,
          0.014776499010622501,
          0.012232786975800991,
          0.027959488332271576,
          0.010485592298209667,
          0.0136419627815485,
          0.016797922551631927,
          0.024562953040003777,
          0.017354290932416916,
          0.013362852856516838,
          0.015202526934444904,
          0.0163278728723526,
          0.024124544113874435,
          0.059935230761766434,
          0.014284590259194374,
          0.03030366636812687,
          0.010242298245429993,
          0.011764559894800186,
          0.0094029251486063,
          0.02688382938504219,
          0.01735350489616394,
          0.027755334973335266,
          0.04111141711473465,
          0.019113434478640556,
          0.016815828159451485,
          0.014845190569758415,
          0.024607041850686073,
          0.03592810779809952,
          0.02230156399309635,
          0.06403140723705292,
          0.017877066507935524,
          0.01153139490634203,
          0.012035076506435871,
          0.01204004418104887,
          0.030352309346199036,
          0.0160465519875288,
          0.01106096152216196,
          0.024989791214466095,
          0.015535376965999603,
          0.026485854759812355,
          0.018851185217499733,
          0.06705471128225327,
          0.02583433873951435,
          0.010279183275997639,
          0.029930414631962776,
          0.011726354248821735,
          0.026619182899594307,
          0.011148050427436829,
          0.01041071955114603,
          0.016125060617923737,
          0.013465669937431812,
          0.01677081547677517,
          0.016649935394525528,
          0.05692463740706444,
          0.044183239340782166,
          0.01592438481748104,
          0.012055281549692154,
          0.03789550065994263,
          0.012828516773879528,
          0.025165511295199394,
          0.017448104918003082,
          0.017010236158967018,
          0.020144684240221977,
          0.02369251847267151,
          0.011158950626850128,
          0.037198226898908615,
          0.011313313618302345,
          0.011046500876545906,
          0.01346531417220831,
          0.01278940960764885,
          0.031020883470773697,
          0.012324015609920025,
          0.02005499228835106,
          0.028588028624653816,
          0.008861718699336052,
          0.02136760763823986,
          0.014372472651302814,
          0.022087644785642624,
          0.08979592472314835,
          0.020781373605132103,
          0.03693908452987671,
          0.022455424070358276,
          0.022167466580867767,
          0.012412544339895248,
          0.010577949695289135,
          0.012742338702082634,
          0.03317117691040039,
          0.018137840554118156,
          0.05208380147814751,
          0.01355089619755745,
          0.06185361370444298,
          0.013300251215696335,
          0.023466017097234726,
          0.03488022834062576,
          0.01557333953678608,
          0.022938037291169167,
          0.010284393094480038,
          0.011870176531374454,
          0.02021551877260208,
          0.016126051545143127,
          0.02129487507045269,
          0.019311940297484398,
          0.01639980636537075,
          0.010815387591719627,
          0.02127436362206936,
          0.021495630964636803,
          0.013438167050480843,
          0.05934055894613266,
          0.025058776140213013,
          0.0315919853746891,
          0.03336363658308983,
          0.028824016451835632,
          0.019850481301546097,
          0.06895407289266586,
          0.022135648876428604,
          0.012392569333314896,
          0.009497202932834625,
          0.009521350264549255,
          0.01148100197315216,
          0.014833242632448673,
          0.015352960675954819,
          0.009560438804328442,
          0.021622316911816597,
          0.014720378443598747,
          0.013614029623568058,
          0.012957792729139328,
          0.016569552943110466,
          0.03117796964943409,
          0.031812578439712524,
          0.01258708257228136,
          0.03804304823279381,
          0.024687379598617554,
          0.027672529220581055,
          0.015973800793290138,
          0.05579305440187454,
          0.01377292349934578,
          0.025582095608115196,
          0.014390671625733376,
          0.01953412964940071,
          0.009978940710425377,
          0.01621663011610508,
          0.04069734737277031,
          0.012723739258944988,
          0.025138068944215775,
          0.01233784481883049,
          0.010423463769257069,
          0.02081664651632309,
          0.012182825244963169,
          0.024178465828299522,
          0.01385047473013401,
          0.017155060544610023,
          0.020068345591425896,
          0.013786823488771915,
          0.018485402688384056,
          0.015470492653548717,
          0.01472263690084219,
          0.021899957209825516,
          0.011619647964835167,
          0.016294024884700775,
          0.02373478002846241,
          0.01565796695649624,
          0.03563874959945679,
          0.020388739183545113,
          0.01681305281817913,
          0.013962313532829285,
          0.024375207722187042,
          0.012911640107631683,
          0.0224631205201149,
          0.04418438673019409,
          0.022971486672759056,
          0.03193579614162445,
          0.02591853216290474,
          0.013350291177630424,
          0.027204591780900955,
          0.011514678597450256,
          0.0371260941028595,
          0.01580926775932312,
          0.028589079156517982,
          0.02878527343273163,
          0.021375488489866257,
          0.013673360459506512,
          0.014869757927954197,
          0.014396285638213158,
          0.016957523301243782,
          0.016356417909264565,
          0.015911592170596123,
          0.03162411227822304,
          0.035282377153635025,
          0.011937309987843037,
          0.019436880946159363,
          0.013276108540594578,
          0.012091291137039661,
          0.008850234560668468,
          0.026510899886488914,
          0.015761354938149452,
          0.011350451037287712,
          0.023156607523560524,
          0.024982554838061333,
          0.017294008284807205,
          0.016965357586741447,
          0.01880270056426525,
          0.01935729943215847,
          0.008856551721692085,
          0.019596341997385025,
          0.012275692075490952,
          0.033832088112831116,
          0.03962157294154167,
          0.03928735479712486,
          0.01203473936766386,
          0.012744572944939137,
          0.007675590459257364,
          0.01485244557261467,
          0.05049775168299675,
          0.015387950465083122,
          0.016685985028743744,
          0.010515241883695126,
          0.025121714919805527,
          0.013987068086862564,
          0.017059005796909332,
          0.015937484800815582,
          0.04361555352807045,
          0.015843313187360764,
          0.020453033968806267,
          0.02604411542415619,
          0.026919210329651833,
          0.011464783921837807,
          0.014788377098739147,
          0.016224391758441925,
          0.015030217356979847,
          0.01561811100691557,
          0.011778216809034348,
          0.033299289643764496,
          0.015829525887966156,
          0.024640338495373726,
          0.030901461839675903,
          0.020869892090559006,
          0.023483561351895332,
          0.0250912606716156,
          0.01386483944952488,
          0.009330290369689465,
          0.008940991014242172,
          0.013987956568598747,
          0.025815611705183983,
          0.07269056886434555,
          0.01021356787532568,
          0.01610802300274372,
          0.03327374905347824,
          0.014053638093173504,
          0.01583099365234375,
          0.013637681491672993,
          0.0194349717348814,
          0.008822078816592693,
          0.025526415556669235,
          0.016252392902970314,
          0.014194364659488201,
          0.014540154486894608,
          0.009812869131565094,
          0.01102365367114544,
          0.024733539670705795,
          0.010629232041537762,
          0.01100050937384367,
          0.010959991253912449,
          0.007371146231889725,
          0.011565351858735085,
          0.0409732349216938,
          0.05899824574589729,
          0.023749317973852158,
          0.02191123366355896,
          0.028568284586071968,
          0.015122723765671253,
          0.014709784649312496,
          0.013090623542666435,
          0.009951231069862843,
          0.01814696565270424,
          0.009401075541973114,
          0.026742784306406975,
          0.02508522756397724,
          0.029177702963352203,
          0.026356739923357964,
          0.01418810710310936,
          0.011093338951468468,
          0.012033289298415184,
          0.011866292916238308,
          0.014721749350428581,
          0.03522239997982979,
          0.020501425489783287,
          0.026712145656347275,
          0.0270057525485754,
          0.019077926874160767,
          0.010725811123847961,
          0.01490404736250639,
          0.020498277619481087,
          0.021430442109704018,
          0.01513095386326313,
          0.0846262127161026,
          0.020922278985381126,
          0.019604884088039398,
          0.0072499830275774,
          0.026971494778990746,
          0.015092765912413597,
          0.02001175470650196,
          0.013767708092927933,
          0.01378623303025961,
          0.01404971070587635,
          0.014439634047448635,
          0.02279641479253769,
          0.027066156268119812,
          0.016038326546549797,
          0.03290273994207382,
          0.012985492125153542,
          0.01178432535380125,
          0.01670735701918602,
          0.011432986706495285,
          0.02591257356107235,
          0.014314787462353706,
          0.014877923764288425,
          0.0282187107950449,
          0.013003252446651459,
          0.01103782095015049,
          0.007817087695002556,
          0.015424801968038082,
          0.014992102980613708,
          0.02589111588895321,
          0.01477338932454586,
          0.02615969069302082,
          0.009707204066216946,
          0.016205843538045883,
          0.011818303726613522,
          0.011187342926859856,
          0.014035452157258987,
          0.023318832740187645,
          0.023288443684577942,
          0.00979727040976286,
          0.02392292581498623,
          0.022247273474931717,
          0.01808110997080803,
          0.027693480253219604,
          0.008291970938444138,
          0.01319276262074709,
          0.03292345628142357,
          0.013148630037903786,
          0.015061824582517147,
          0.02518640272319317,
          0.015421067364513874,
          0.02345510572195053,
          0.02516721934080124,
          0.011020857840776443,
          0.013996555469930172,
          0.011710879392921925,
          0.011066841892898083,
          0.02684582583606243,
          0.016733568161725998,
          0.020505910739302635,
          0.019533243030309677,
          0.011942016892135143,
          0.0226143691688776,
          0.02319057285785675,
          0.010580983944237232,
          0.012788139283657074,
          0.018638763576745987,
          0.015742333605885506,
          0.01642714813351631,
          0.012250082567334175,
          0.025042138993740082,
          0.009124481119215488,
          0.019907698035240173,
          0.03349441662430763,
          0.015427134931087494,
          0.013452616520226002,
          0.016100740060210228,
          0.009482784196734428,
          0.0210666973143816,
          0.060607120394706726,
          0.044616322964429855,
          0.030418774113059044,
          0.01780075579881668,
          0.012768021784722805,
          0.014938405714929104,
          0.014339825138449669,
          0.023750942200422287,
          0.014352798461914062,
          0.021486347541213036,
          0.02518303319811821,
          0.015175948850810528,
          0.015546753071248531,
          0.00897402036935091,
          0.017755895853042603,
          0.018482714891433716,
          0.015959175303578377,
          0.011457673273980618,
          0.01963863894343376,
          0.009164802730083466,
          0.018156040459871292,
          0.016625499352812767,
          0.020639212802052498,
          0.041463762521743774,
          0.011828317306935787,
          0.04613388702273369,
          0.05630582571029663,
          0.027676578611135483,
          0.033113956451416016,
          0.01738099195063114,
          0.013795427046716213,
          0.013437136076390743,
          0.016644945368170738,
          0.012752044014632702,
          0.012059601955115795,
          0.015480658039450645,
          0.020425844937562943,
          0.026045646518468857,
          0.022019870579242706,
          0.01276889257133007,
          0.07331332564353943,
          0.015042752958834171,
          0.02506420388817787,
          0.010440158657729626,
          0.011421564035117626,
          0.027326850220561028,
          0.008612300269305706,
          0.015198641456663609,
          0.017085226252675056,
          0.029902059584856033,
          0.02157575450837612,
          0.011455168016254902,
          0.05621610954403877,
          0.021153397858142853,
          0.026118600741028786,
          0.021944964304566383,
          0.013784848153591156,
          0.012943211011588573,
          0.016151616349816322,
          0.017643513157963753,
          0.025841251015663147,
          0.013740927912294865,
          0.016319889575242996,
          0.011677388101816177,
          0.012153618969023228,
          0.029214538633823395,
          0.014815524220466614,
          0.022760599851608276,
          0.020048528909683228,
          0.012125751003623009,
          0.012027897872030735,
          0.023649509996175766,
          0.0914803072810173,
          0.06371525675058365,
          0.03726082295179367,
          0.0288064144551754,
          0.023152099922299385,
          0.022161757573485374,
          0.012353481724858284,
          0.018840689212083817,
          0.01309601403772831,
          0.025563381612300873,
          0.037244684994220734,
          0.032436881214380264,
          0.017297839745879173,
          0.020983334630727768,
          0.011499953456223011,
          0.019004886969923973,
          0.021754523739218712,
          0.022466212511062622,
          0.02748478204011917,
          0.018826952204108238,
          0.0142657570540905,
          0.023776087909936905,
          0.010556275956332684,
          0.014406664296984673,
          0.014504337683320045,
          0.014387013390660286,
          0.03526335954666138,
          0.01726563647389412,
          0.0185485128313303,
          0.023058375343680382,
          0.01584513485431671,
          0.014117315411567688,
          0.01996125467121601,
          0.02823656238615513,
          0.03038913942873478,
          0.012229950167238712,
          0.010364001616835594,
          0.021791944280266762,
          0.025862976908683777,
          0.009524612687528133,
          0.03104100190103054,
          0.013335766270756721,
          0.012329202145338058,
          0.013018104247748852,
          0.012470763176679611,
          0.011493727564811707,
          0.02311875857412815,
          0.01603715680539608,
          0.0096591766923666,
          0.013411754742264748,
          0.018558166921138763,
          0.010427659377455711,
          0.010729867033660412,
          0.01655811071395874,
          0.02210198901593685,
          0.024020163342356682,
          0.024681713432073593,
          0.011840189807116985,
          0.009680693969130516,
          0.015779778361320496,
          0.015374327078461647,
          0.02447333000600338,
          0.026930570602416992,
          0.008764412254095078,
          0.01363352406769991,
          0.02634049393236637,
          0.011928164400160313,
          0.017343182116746902,
          0.015436296351253986,
          0.010221539065241814,
          0.017676997929811478,
          0.017576204612851143,
          0.013109334744513035,
          0.020127790048718452,
          0.015760648995637894,
          0.011225954629480839,
          0.058913372457027435,
          0.026495791971683502,
          0.03252416104078293,
          0.02363019436597824,
          0.012773239985108376,
          0.026723580434918404,
          0.012735622934997082,
          0.046585310250520706,
          0.012482323683798313,
          0.02664230763912201,
          0.011305448599159718,
          0.021555423736572266,
          0.011153354309499264,
          0.011364276520907879,
          0.049326952546834946,
          0.016418078914284706,
          0.01974550262093544,
          0.012846598401665688,
          0.018212292343378067,
          0.02445315010845661,
          0.02088858000934124,
          0.010688834823668003,
          0.02422027848660946,
          0.02544725313782692,
          0.020726671442389488,
          0.02843920886516571,
          0.024062568321824074,
          0.017056189477443695,
          0.013751502148807049,
          0.027940819039940834,
          0.01435167621821165,
          0.01294710673391819,
          0.023759331554174423,
          0.011345729231834412,
          0.011742337606847286,
          0.019220970571041107,
          0.048278454691171646,
          0.021043814718723297,
          0.01795271411538124,
          0.01508375070989132,
          0.012311829254031181,
          0.013951379805803299,
          0.03613056614995003,
          0.0144187668338418,
          0.010555612854659557,
          0.013552273623645306,
          0.05677712336182594,
          0.02539542317390442,
          0.015611105598509312,
          0.04085332155227661,
          0.020082741975784302,
          0.014687146060168743,
          0.012542775832116604,
          0.0111805759370327,
          0.012984409928321838,
          0.013131196610629559,
          0.013012982904911041,
          0.013562534004449844,
          0.012250934727489948,
          0.009676989167928696,
          0.012254244647920132,
          0.027534818276762962,
          0.013365058228373528,
          0.03247862681746483,
          0.014133339747786522,
          0.02419387735426426,
          0.009925090707838535,
          0.01320449635386467,
          0.024123838171362877,
          0.02238433249294758,
          0.013418561778962612,
          0.012436958961188793,
          0.017525475472211838,
          0.030158009380102158,
          0.014407658949494362,
          0.027212390676140785,
          0.022287068888545036,
          0.014148530550301075,
          0.01247582770884037,
          0.022139614447951317,
          0.036795854568481445,
          0.01270363200455904,
          0.019389018416404724,
          0.01079776231199503,
          0.02775914967060089,
          0.0245146956294775,
          0.03643787279725075,
          0.016474207863211632,
          0.010932453908026218,
          0.021475832909345627,
          0.016658475622534752,
          0.01739354431629181,
          0.013436540961265564,
          0.029672104865312576,
          0.020255308598279953,
          0.013738599605858326,
          0.013527752831578255,
          0.026163548231124878,
          0.013948764652013779,
          0.01366702001541853,
          0.008297544904053211,
          0.01443538349121809,
          0.024177711457014084,
          0.024709952995181084,
          0.018968340009450912,
          0.014462791383266449,
          0.013637534342706203,
          0.01830328442156315,
          0.03013313189148903,
          0.009259955026209354,
          0.008246365003287792,
          0.02537415735423565,
          0.01025200355798006,
          0.011814648285508156,
          0.010173531249165535,
          0.016106558963656425,
          0.0261069405823946,
          0.024082891643047333,
          0.014183255843818188,
          0.01569172739982605,
          0.027619266882538795,
          0.06258051097393036,
          0.021572062745690346,
          0.0133468396961689,
          0.020123619586229324,
          0.01939060539007187,
          0.014218169264495373,
          0.025572869926691055,
          0.008887998759746552,
          0.008777974173426628,
          0.012795905582606792,
          0.018387168645858765,
          0.011246228590607643,
          0.01409955695271492,
          0.011543376371264458,
          0.011881379410624504,
          0.009356927126646042,
          0.016582299023866653,
          0.010412816889584064,
          0.028430331498384476,
          0.016817158088088036,
          0.026791999116539955,
          0.01998179405927658,
          0.012395279482007027,
          0.012966745533049107,
          0.033323969691991806,
          0.02257438190281391,
          0.028367936611175537,
          0.013021932914853096,
          0.029671965166926384,
          0.018651233986020088,
          0.02453380823135376,
          0.027334056794643402,
          0.019604038447141647,
          0.009062563069164753,
          0.01168757677078247,
          0.015345515683293343,
          0.020991716533899307,
          0.017041102051734924,
          0.03334398567676544,
          0.008302703499794006,
          0.014697588980197906,
          0.014463755302131176,
          0.07238201051950455,
          0.03256525099277496,
          0.057203128933906555,
          0.017652450129389763,
          0.030232898890972137,
          0.02599361538887024,
          0.011540991254150867,
          0.02167532406747341,
          0.017960021272301674,
          0.02362196519970894,
          0.028383389115333557,
          0.028985735028982162,
          0.01167371217161417,
          0.02212095446884632,
          0.014907489530742168,
          0.02248239330947399,
          0.010244934819638729,
          0.012855496257543564,
          0.017025576904416084,
          0.011566034518182278,
          0.012169593013823032,
          0.013145014643669128,
          0.06231880187988281,
          0.022998612374067307,
          0.016120556741952896,
          0.03147830441594124,
          0.018680043518543243,
          0.012144060805439949,
          0.010200667195022106,
          0.02419501543045044,
          0.009984971955418587,
          0.034284282475709915,
          0.011702864430844784,
          0.015546952374279499,
          0.013119322247803211,
          0.025587787851691246,
          0.029769986867904663,
          0.015092303045094013,
          0.009307017549872398,
          0.02460465393960476,
          0.014346865005791187,
          0.027323395013809204,
          0.011344775557518005,
          0.02268201857805252,
          0.013138680718839169,
          0.014060143381357193,
          0.013077805750072002,
          0.012532180175185204,
          0.013803323730826378,
          0.021267805248498917,
          0.022875413298606873,
          0.026900291442871094,
          0.08940980583429337,
          0.018545376136898994,
          0.009868568740785122,
          0.016131727024912834,
          0.018332088366150856,
          0.020638281479477882,
          0.026677580550312996,
          0.036468129605054855,
          0.016514768823981285,
          0.009829038754105568,
          0.009098470211029053,
          0.028079790994524956,
          0.02783145196735859,
          0.015448436141014099,
          0.020357903093099594,
          0.008769853040575981,
          0.009173593483865261,
          0.014406340196728706,
          0.010041022673249245,
          0.021512337028980255,
          0.02377709560096264,
          0.013666367158293724,
          0.014700328931212425,
          0.011286179535090923,
          0.017108803614974022,
          0.013029517605900764,
          0.03182295709848404,
          0.021171733736991882,
          0.013391610234975815,
          0.014321333728730679,
          0.023899730294942856,
          0.013156112283468246,
          0.01678081974387169,
          0.014244225807487965,
          0.011734727770090103,
          0.010487404651939869,
          0.008848360739648342,
          0.024505356326699257,
          0.012901038862764835,
          0.013621136546134949,
          0.023359796032309532,
          0.01120323408395052,
          0.02038903906941414,
          0.05032174289226532,
          0.019602110609412193,
          0.05198586359620094,
          0.07796461880207062,
          0.014132985845208168,
          0.013801570981740952,
          0.01325176190584898,
          0.022501371800899506,
          0.02488796040415764,
          0.06109919026494026,
          0.010603075847029686,
          0.02166423574090004,
          0.007326319348067045,
          0.01678602769970894,
          0.015216718427836895,
          0.013876260258257389,
          0.010263954289257526,
          0.012848972342908382,
          0.038413889706134796,
          0.011003495194017887,
          0.014654098078608513,
          0.009861953556537628,
          0.010031321085989475,
          0.02924799919128418,
          0.01959710754454136,
          0.015838652849197388,
          0.043437689542770386,
          0.03339104726910591,
          0.021393712610006332,
          0.011276730336248875,
          0.013385067693889141,
          0.018864527344703674,
          0.0250560212880373,
          0.023435065522789955,
          0.026030870154500008,
          0.012470820918679237,
          0.011553343385457993,
          0.0095151886343956,
          0.010325593873858452,
          0.014783988706767559,
          0.021010112017393112,
          0.02278320863842964,
          0.009695958346128464,
          0.010205945000052452,
          0.015262162312865257,
          0.044815775007009506,
          0.02664145827293396,
          0.016485683619976044,
          0.011036048643290997,
          0.02030293270945549,
          0.016128884628415108,
          0.016964994370937347,
          0.031061768531799316,
          0.013635018840432167,
          0.01826043426990509,
          0.024984365329146385,
          0.014280090108513832,
          0.02094225026667118,
          0.026727519929409027,
          0.02845553308725357,
          0.01056094653904438,
          0.012353724800050259,
          0.022491127252578735,
          0.025839518755674362,
          0.016119835898280144,
          0.017042264342308044,
          0.028940364718437195,
          0.012920188717544079,
          0.02110421098768711,
          0.0275309719145298,
          0.01347381342202425,
          0.012119658291339874,
          0.012822967022657394,
          0.009718391112983227,
          0.02081686072051525,
          0.014672470279037952,
          0.03917732834815979,
          0.012689612805843353,
          0.013069835491478443,
          0.009208428673446178,
          0.030338475480675697,
          0.014429439790546894,
          0.012807562947273254,
          0.010512376204133034,
          0.01866869442164898,
          0.012075474485754967,
          0.027134845033288002,
          0.049008019268512726,
          0.012618118897080421,
          0.023334652185440063,
          0.01337558776140213,
          0.0671912431716919,
          0.035484302788972855,
          0.010960891842842102,
          0.00977268535643816,
          0.02485128864645958,
          0.02175823412835598,
          0.025721905753016472,
          0.020220130681991577,
          0.022718043997883797,
          0.03977228328585625,
          0.019222764298319817,
          0.03624936565756798,
          0.031866952776908875,
          0.025018008425831795,
          0.029542885720729828,
          0.009744851849973202,
          0.0265201423317194,
          0.039231207221746445,
          0.01413663662970066,
          0.02431740239262581,
          0.022669345140457153,
          0.010978166945278645,
          0.01632390171289444,
          0.01838204823434353,
          0.01698819361627102,
          0.03303524851799011,
          0.018346616998314857,
          0.01924261823296547,
          0.016253938898444176,
          0.011737133376300335,
          0.013244828209280968,
          0.014076664112508297,
          0.023526648059487343,
          0.011842400766909122,
          0.03143494203686714,
          0.014744836837053299,
          0.04487362876534462,
          0.015110325999557972,
          0.024096041917800903,
          0.014576517045497894,
          0.0122904684394598,
          0.04711586609482765,
          0.057024866342544556,
          0.018574196845293045,
          0.020544907078146935,
          0.010187670588493347,
          0.02090268023312092,
          0.015518246218562126,
          0.015411551110446453,
          0.017054399475455284,
          0.01238242071121931,
          0.017143188044428825,
          0.011496730148792267,
          0.016664912924170494,
          0.018596850335597992,
          0.01083710789680481,
          0.020969774574041367,
          0.01225303765386343,
          0.017467571422457695,
          0.009045296348631382,
          0.018960783258080482,
          0.010541289113461971,
          0.016036054119467735,
          0.01431838795542717,
          0.008120027370750904,
          0.02333301305770874,
          0.010753598064184189,
          0.010578726418316364,
          0.01932150311768055,
          0.012739531695842743,
          0.024098843336105347,
          0.014485558494925499,
          0.013531580567359924,
          0.01980695314705372,
          0.023840518668293953,
          0.02243361435830593,
          0.021790029481053352,
          0.011362561024725437,
          0.011586840264499187,
          0.009966133162379265,
          0.015110679902136326,
          0.023896900936961174,
          0.012212438508868217,
          0.015265141613781452,
          0.013672089204192162,
          0.021427832543849945,
          0.0231170691549778,
          0.027337050065398216,
          0.02149236761033535,
          0.015604473650455475,
          0.014289232902228832,
          0.013042746111750603,
          0.016764888539910316,
          0.0255512073636055,
          0.011477951891720295,
          0.006472102366387844,
          0.01700587011873722,
          0.01119272317737341,
          0.006774274166673422,
          0.01288890652358532,
          0.02498823218047619,
          0.014519917778670788,
          0.02184060961008072,
          0.01263095811009407,
          0.009021527133882046,
          0.025894340127706528,
          0.028905102983117104,
          0.014024107716977596,
          0.017048904672265053,
          0.008826474659144878,
          0.030530313029885292,
          0.026537450030446053,
          0.024235961958765984,
          0.01194833591580391,
          0.013373976573348045,
          0.02243458293378353,
          0.030555814504623413,
          0.02756637893617153,
          0.06269127875566483,
          0.025000261142849922,
          0.01875613071024418,
          0.015193474479019642,
          0.015628915280103683,
          0.021189937368035316,
          0.019395049661397934,
          0.013049153611063957,
          0.024718448519706726,
          0.015080368146300316,
          0.027251390740275383,
          0.011557213962078094,
          0.0681120902299881,
          0.021816546097397804,
          0.009673258289694786,
          0.011746102944016457,
          0.04728259518742561,
          0.015011363662779331,
          0.028367815539240837,
          0.017743755131959915,
          0.014214888215065002,
          0.017627492547035217,
          0.02172529511153698,
          0.01122275646775961,
          0.010097520425915718,
          0.015606643632054329,
          0.048301830887794495,
          0.010394326411187649,
          0.027468528598546982,
          0.010064918547868729,
          0.017857661470770836,
          0.01210114173591137,
          0.012376689352095127,
          0.010829308070242405,
          0.024485059082508087,
          0.013529752381145954,
          0.018834149464964867,
          0.017337115481495857,
          0.015644917264580727,
          0.024251895025372505,
          0.01919267512857914,
          0.02044311910867691,
          0.014837813563644886,
          0.021409718319773674,
          0.02353861555457115,
          0.02931944653391838,
          0.020167822018265724,
          0.015305258333683014,
          0.013593663461506367,
          0.02862371690571308,
          0.009895005263388157,
          0.02380865253508091,
          0.01671144738793373,
          0.05468869209289551,
          0.01258526835590601,
          0.023134686052799225,
          0.056839630007743835,
          0.021943241357803345,
          0.01000966876745224,
          0.027703547850251198,
          0.043591808527708054,
          0.04567529633641243,
          0.014777222648262978,
          0.016307225450873375,
          0.05485762655735016,
          0.011637701652944088,
          0.01211803499609232,
          0.010791199281811714,
          0.01883094571530819,
          0.024633100256323814,
          0.019577467814087868,
          0.02728726714849472,
          0.013372551649808884,
          0.04886963963508606,
          0.01039653830230236,
          0.024446681141853333,
          0.015126451849937439,
          0.01987130381166935,
          0.0237461868673563,
          0.00900056678801775,
          0.02195684053003788,
          0.01638755574822426,
          0.016982760280370712,
          0.011654769070446491,
          0.01459184568375349,
          0.031226996332406998,
          0.010142955929040909,
          0.01208620797842741,
          0.01543152704834938,
          0.015651248395442963,
          0.014644398353993893,
          0.04474347084760666,
          0.062049053609371185,
          0.022059913724660873,
          0.013821118511259556,
          0.014209762215614319,
          0.020205950364470482,
          0.010805169120430946,
          0.025113577023148537,
          0.03011702559888363,
          0.01551622524857521,
          0.012715240940451622,
          0.024115554988384247,
          0.012590952217578888,
          0.012578045018017292,
          0.012333952821791172,
          0.019981149584054947,
          0.010136219672858715,
          0.014632190577685833,
          0.034179236739873886,
          0.01395623479038477,
          0.011983939446508884,
          0.02164383977651596,
          0.01014378946274519,
          0.01038387231528759,
          0.014667139388620853,
          0.04733089730143547,
          0.016717007383704185,
          0.022337812930345535,
          0.013116208836436272,
          0.020221255719661713,
          0.012236319482326508,
          0.010776708833873272,
          0.010942731983959675,
          0.010912216268479824,
          0.015066456981003284,
          0.013408439233899117,
          0.011471226811408997,
          0.011111604981124401,
          0.01025465875864029,
          0.013071227818727493,
          0.0210990309715271,
          0.025025278329849243,
          0.0259492639452219,
          0.008145548403263092,
          0.010411896742880344,
          0.016236787661910057,
          0.0587802417576313,
          0.048534292727708817,
          0.04034562036395073,
          0.018760699778795242,
          0.028159530833363533,
          0.021258581429719925,
          0.022974137216806412,
          0.027060821652412415,
          0.014979379251599312,
          0.015589253976941109,
          0.011365147307515144,
          0.01257910206913948,
          0.0249697957187891,
          0.008862122893333435,
          0.05532441660761833,
          0.010499343276023865,
          0.009847463108599186,
          0.011275420896708965,
          0.014790499582886696,
          0.018381183966994286,
          0.012935553677380085,
          0.017749350517988205,
          0.009253832511603832,
          0.008967374451458454,
          0.025132931768894196,
          0.026445280760526657,
          0.043879806995391846,
          0.010721252299845219,
          0.0328078418970108,
          0.011911639012396336,
          0.025407452136278152,
          0.012991879135370255,
          0.01080057118088007,
          0.017054906114935875,
          0.018018675968050957,
          0.014767035841941833,
          0.01667393557727337,
          0.01638026162981987,
          0.012613996863365173,
          0.013609454035758972,
          0.06096649169921875,
          0.024617860093712807,
          0.013525107875466347,
          0.012988056056201458,
          0.051644597202539444,
          0.03624052554368973,
          0.032289132475852966,
          0.01912432163953781,
          0.018568331375718117,
          0.00813062023371458,
          0.020143384113907814,
          0.01010085828602314,
          0.017485180869698524,
          0.01763823628425598,
          0.017107000574469566,
          0.010327920317649841,
          0.013342402875423431,
          0.024303322657942772,
          0.023735741153359413,
          0.016611630097031593,
          0.027443697676062584,
          0.009345569647848606,
          0.01668323017656803,
          0.01597907952964306,
          0.017405325546860695,
          0.011906399391591549,
          0.015540414489805698,
          0.06449034810066223,
          0.010195860639214516,
          0.0671699270606041,
          0.011155855841934681,
          0.019041843712329865,
          0.03584548458456993,
          0.043438274413347244,
          0.014055485837161541,
          0.03498610854148865,
          0.041461288928985596,
          0.01941766031086445,
          0.010611634701490402,
          0.007979258894920349,
          0.021262014284729958,
          0.011010433547198772,
          0.015076828189194202,
          0.07029691338539124,
          0.010234690271317959,
          0.021133895963430405,
          0.011594797484576702,
          0.013444781303405762,
          0.015107507817447186,
          0.0299384668469429,
          0.015797147527337074,
          0.021117186173796654,
          0.02015581727027893,
          0.02292998507618904,
          0.012275032699108124,
          0.020995276048779488,
          0.06107231602072716,
          0.045704394578933716,
          0.011805982328951359,
          0.012259517796337605,
          0.020771298557519913,
          0.016387363895773888,
          0.034678250551223755,
          0.025299128144979477,
          0.017284909263253212,
          0.03917715698480606,
          0.015115655958652496,
          0.01923607848584652,
          0.009758561849594116,
          0.025117836892604828,
          0.026289591565728188,
          0.010116780176758766,
          0.011759914457798004,
          0.009686763398349285,
          0.018440665677189827,
          0.03202220797538757,
          0.019360965117812157,
          0.011952518485486507,
          0.026052003726363182,
          0.020561527460813522,
          0.014149934984743595,
          0.021575238555669785,
          0.009010070003569126,
          0.0629313588142395,
          0.012543360702693462,
          0.016881605610251427,
          0.013587658293545246,
          0.014110381714999676,
          0.015152559615671635,
          0.023952411487698555,
          0.013056833297014236,
          0.01576782390475273,
          0.020865218713879585,
          0.010942921042442322,
          0.010227100923657417,
          0.011792836710810661,
          0.013927186839282513,
          0.012880831025540829,
          0.026595935225486755,
          0.024909300729632378,
          0.012838018126785755,
          0.016509825363755226,
          0.01085712481290102,
          0.01359967328608036,
          0.0342443473637104,
          0.011157444678246975,
          0.01867426373064518,
          0.0165056511759758,
          0.04783989116549492,
          0.034849755465984344,
          0.015696877613663673,
          0.008733187802135944,
          0.023798448964953423,
          0.009986127726733685,
          0.01841379888355732,
          0.05506120249629021,
          0.020847219973802567,
          0.010905932635068893,
          0.02192123420536518,
          0.01342239510267973,
          0.01114073395729065,
          0.011249898932874203,
          0.02308892458677292,
          0.016438310965895653,
          0.009528880938887596,
          0.012762517668306828,
          0.027345756068825722,
          0.019573960453271866,
          0.008265551179647446,
          0.023830603808164597,
          0.034167591482400894,
          0.061102718114852905,
          0.011559405364096165,
          0.02449563518166542,
          0.03288895636796951,
          0.01056801900267601,
          0.024674026295542717,
          0.023133983835577965,
          0.019911861047148705,
          0.020531514659523964,
          0.02870231308043003,
          0.03635038435459137,
          0.008160950616002083,
          0.022941021248698235,
          0.0156046561896801,
          0.03668798878788948,
          0.024741986766457558,
          0.02866468019783497,
          0.022794852033257484,
          0.00892526376992464,
          0.01235348079353571,
          0.02794037200510502,
          0.056581735610961914,
          0.02120235562324524,
          0.06341011822223663,
          0.01894594170153141,
          0.01122585404664278,
          0.015266981907188892,
          0.012562866322696209,
          0.012381807900965214,
          0.026080256327986717,
          0.01642223447561264,
          0.012236158363521099,
          0.013078084215521812,
          0.06040226295590401,
          0.014738457277417183,
          0.015046323649585247,
          0.02713804505765438,
          0.020544689148664474,
          0.025844380259513855,
          0.018524646759033203,
          0.01718572899699211,
          0.025118792429566383,
          0.011009071953594685,
          0.020630845800042152,
          0.010895640589296818,
          0.022233357653021812,
          0.015499006025493145,
          0.014989709481596947,
          0.008730744011700153,
          0.01900901086628437,
          0.021781127899885178,
          0.010394444689154625,
          0.03284187987446785,
          0.01753213442862034,
          0.014173376373946667,
          0.024016346782445908,
          0.011182259768247604,
          0.019858619198203087,
          0.09113740921020508,
          0.01626504585146904,
          0.022392375394701958,
          0.014640103094279766,
          0.027273647487163544,
          0.02837321162223816,
          0.020113596692681313,
          0.020401326939463615,
          0.021192403510212898,
          0.012044444680213928,
          0.023371050134301186,
          0.016466844826936722
         ]
        }
       ],
       "layout": {
        "template": {
         "data": {
          "bar": [
           {
            "error_x": {
             "color": "#2a3f5f"
            },
            "error_y": {
             "color": "#2a3f5f"
            },
            "marker": {
             "line": {
              "color": "#E5ECF6",
              "width": 0.5
             },
             "pattern": {
              "fillmode": "overlay",
              "size": 10,
              "solidity": 0.2
             }
            },
            "type": "bar"
           }
          ],
          "barpolar": [
           {
            "marker": {
             "line": {
              "color": "#E5ECF6",
              "width": 0.5
             },
             "pattern": {
              "fillmode": "overlay",
              "size": 10,
              "solidity": 0.2
             }
            },
            "type": "barpolar"
           }
          ],
          "carpet": [
           {
            "aaxis": {
             "endlinecolor": "#2a3f5f",
             "gridcolor": "white",
             "linecolor": "white",
             "minorgridcolor": "white",
             "startlinecolor": "#2a3f5f"
            },
            "baxis": {
             "endlinecolor": "#2a3f5f",
             "gridcolor": "white",
             "linecolor": "white",
             "minorgridcolor": "white",
             "startlinecolor": "#2a3f5f"
            },
            "type": "carpet"
           }
          ],
          "choropleth": [
           {
            "colorbar": {
             "outlinewidth": 0,
             "ticks": ""
            },
            "type": "choropleth"
           }
          ],
          "contour": [
           {
            "colorbar": {
             "outlinewidth": 0,
             "ticks": ""
            },
            "colorscale": [
             [
              0,
              "#0d0887"
             ],
             [
              0.1111111111111111,
              "#46039f"
             ],
             [
              0.2222222222222222,
              "#7201a8"
             ],
             [
              0.3333333333333333,
              "#9c179e"
             ],
             [
              0.4444444444444444,
              "#bd3786"
             ],
             [
              0.5555555555555556,
              "#d8576b"
             ],
             [
              0.6666666666666666,
              "#ed7953"
             ],
             [
              0.7777777777777778,
              "#fb9f3a"
             ],
             [
              0.8888888888888888,
              "#fdca26"
             ],
             [
              1,
              "#f0f921"
             ]
            ],
            "type": "contour"
           }
          ],
          "contourcarpet": [
           {
            "colorbar": {
             "outlinewidth": 0,
             "ticks": ""
            },
            "type": "contourcarpet"
           }
          ],
          "heatmap": [
           {
            "colorbar": {
             "outlinewidth": 0,
             "ticks": ""
            },
            "colorscale": [
             [
              0,
              "#0d0887"
             ],
             [
              0.1111111111111111,
              "#46039f"
             ],
             [
              0.2222222222222222,
              "#7201a8"
             ],
             [
              0.3333333333333333,
              "#9c179e"
             ],
             [
              0.4444444444444444,
              "#bd3786"
             ],
             [
              0.5555555555555556,
              "#d8576b"
             ],
             [
              0.6666666666666666,
              "#ed7953"
             ],
             [
              0.7777777777777778,
              "#fb9f3a"
             ],
             [
              0.8888888888888888,
              "#fdca26"
             ],
             [
              1,
              "#f0f921"
             ]
            ],
            "type": "heatmap"
           }
          ],
          "heatmapgl": [
           {
            "colorbar": {
             "outlinewidth": 0,
             "ticks": ""
            },
            "colorscale": [
             [
              0,
              "#0d0887"
             ],
             [
              0.1111111111111111,
              "#46039f"
             ],
             [
              0.2222222222222222,
              "#7201a8"
             ],
             [
              0.3333333333333333,
              "#9c179e"
             ],
             [
              0.4444444444444444,
              "#bd3786"
             ],
             [
              0.5555555555555556,
              "#d8576b"
             ],
             [
              0.6666666666666666,
              "#ed7953"
             ],
             [
              0.7777777777777778,
              "#fb9f3a"
             ],
             [
              0.8888888888888888,
              "#fdca26"
             ],
             [
              1,
              "#f0f921"
             ]
            ],
            "type": "heatmapgl"
           }
          ],
          "histogram": [
           {
            "marker": {
             "pattern": {
              "fillmode": "overlay",
              "size": 10,
              "solidity": 0.2
             }
            },
            "type": "histogram"
           }
          ],
          "histogram2d": [
           {
            "colorbar": {
             "outlinewidth": 0,
             "ticks": ""
            },
            "colorscale": [
             [
              0,
              "#0d0887"
             ],
             [
              0.1111111111111111,
              "#46039f"
             ],
             [
              0.2222222222222222,
              "#7201a8"
             ],
             [
              0.3333333333333333,
              "#9c179e"
             ],
             [
              0.4444444444444444,
              "#bd3786"
             ],
             [
              0.5555555555555556,
              "#d8576b"
             ],
             [
              0.6666666666666666,
              "#ed7953"
             ],
             [
              0.7777777777777778,
              "#fb9f3a"
             ],
             [
              0.8888888888888888,
              "#fdca26"
             ],
             [
              1,
              "#f0f921"
             ]
            ],
            "type": "histogram2d"
           }
          ],
          "histogram2dcontour": [
           {
            "colorbar": {
             "outlinewidth": 0,
             "ticks": ""
            },
            "colorscale": [
             [
              0,
              "#0d0887"
             ],
             [
              0.1111111111111111,
              "#46039f"
             ],
             [
              0.2222222222222222,
              "#7201a8"
             ],
             [
              0.3333333333333333,
              "#9c179e"
             ],
             [
              0.4444444444444444,
              "#bd3786"
             ],
             [
              0.5555555555555556,
              "#d8576b"
             ],
             [
              0.6666666666666666,
              "#ed7953"
             ],
             [
              0.7777777777777778,
              "#fb9f3a"
             ],
             [
              0.8888888888888888,
              "#fdca26"
             ],
             [
              1,
              "#f0f921"
             ]
            ],
            "type": "histogram2dcontour"
           }
          ],
          "mesh3d": [
           {
            "colorbar": {
             "outlinewidth": 0,
             "ticks": ""
            },
            "type": "mesh3d"
           }
          ],
          "parcoords": [
           {
            "line": {
             "colorbar": {
              "outlinewidth": 0,
              "ticks": ""
             }
            },
            "type": "parcoords"
           }
          ],
          "pie": [
           {
            "automargin": true,
            "type": "pie"
           }
          ],
          "scatter": [
           {
            "marker": {
             "colorbar": {
              "outlinewidth": 0,
              "ticks": ""
             }
            },
            "type": "scatter"
           }
          ],
          "scatter3d": [
           {
            "line": {
             "colorbar": {
              "outlinewidth": 0,
              "ticks": ""
             }
            },
            "marker": {
             "colorbar": {
              "outlinewidth": 0,
              "ticks": ""
             }
            },
            "type": "scatter3d"
           }
          ],
          "scattercarpet": [
           {
            "marker": {
             "colorbar": {
              "outlinewidth": 0,
              "ticks": ""
             }
            },
            "type": "scattercarpet"
           }
          ],
          "scattergeo": [
           {
            "marker": {
             "colorbar": {
              "outlinewidth": 0,
              "ticks": ""
             }
            },
            "type": "scattergeo"
           }
          ],
          "scattergl": [
           {
            "marker": {
             "colorbar": {
              "outlinewidth": 0,
              "ticks": ""
             }
            },
            "type": "scattergl"
           }
          ],
          "scattermapbox": [
           {
            "marker": {
             "colorbar": {
              "outlinewidth": 0,
              "ticks": ""
             }
            },
            "type": "scattermapbox"
           }
          ],
          "scatterpolar": [
           {
            "marker": {
             "colorbar": {
              "outlinewidth": 0,
              "ticks": ""
             }
            },
            "type": "scatterpolar"
           }
          ],
          "scatterpolargl": [
           {
            "marker": {
             "colorbar": {
              "outlinewidth": 0,
              "ticks": ""
             }
            },
            "type": "scatterpolargl"
           }
          ],
          "scatterternary": [
           {
            "marker": {
             "colorbar": {
              "outlinewidth": 0,
              "ticks": ""
             }
            },
            "type": "scatterternary"
           }
          ],
          "surface": [
           {
            "colorbar": {
             "outlinewidth": 0,
             "ticks": ""
            },
            "colorscale": [
             [
              0,
              "#0d0887"
             ],
             [
              0.1111111111111111,
              "#46039f"
             ],
             [
              0.2222222222222222,
              "#7201a8"
             ],
             [
              0.3333333333333333,
              "#9c179e"
             ],
             [
              0.4444444444444444,
              "#bd3786"
             ],
             [
              0.5555555555555556,
              "#d8576b"
             ],
             [
              0.6666666666666666,
              "#ed7953"
             ],
             [
              0.7777777777777778,
              "#fb9f3a"
             ],
             [
              0.8888888888888888,
              "#fdca26"
             ],
             [
              1,
              "#f0f921"
             ]
            ],
            "type": "surface"
           }
          ],
          "table": [
           {
            "cells": {
             "fill": {
              "color": "#EBF0F8"
             },
             "line": {
              "color": "white"
             }
            },
            "header": {
             "fill": {
              "color": "#C8D4E3"
             },
             "line": {
              "color": "white"
             }
            },
            "type": "table"
           }
          ]
         },
         "layout": {
          "annotationdefaults": {
           "arrowcolor": "#2a3f5f",
           "arrowhead": 0,
           "arrowwidth": 1
          },
          "autotypenumbers": "strict",
          "coloraxis": {
           "colorbar": {
            "outlinewidth": 0,
            "ticks": ""
           }
          },
          "colorscale": {
           "diverging": [
            [
             0,
             "#8e0152"
            ],
            [
             0.1,
             "#c51b7d"
            ],
            [
             0.2,
             "#de77ae"
            ],
            [
             0.3,
             "#f1b6da"
            ],
            [
             0.4,
             "#fde0ef"
            ],
            [
             0.5,
             "#f7f7f7"
            ],
            [
             0.6,
             "#e6f5d0"
            ],
            [
             0.7,
             "#b8e186"
            ],
            [
             0.8,
             "#7fbc41"
            ],
            [
             0.9,
             "#4d9221"
            ],
            [
             1,
             "#276419"
            ]
           ],
           "sequential": [
            [
             0,
             "#0d0887"
            ],
            [
             0.1111111111111111,
             "#46039f"
            ],
            [
             0.2222222222222222,
             "#7201a8"
            ],
            [
             0.3333333333333333,
             "#9c179e"
            ],
            [
             0.4444444444444444,
             "#bd3786"
            ],
            [
             0.5555555555555556,
             "#d8576b"
            ],
            [
             0.6666666666666666,
             "#ed7953"
            ],
            [
             0.7777777777777778,
             "#fb9f3a"
            ],
            [
             0.8888888888888888,
             "#fdca26"
            ],
            [
             1,
             "#f0f921"
            ]
           ],
           "sequentialminus": [
            [
             0,
             "#0d0887"
            ],
            [
             0.1111111111111111,
             "#46039f"
            ],
            [
             0.2222222222222222,
             "#7201a8"
            ],
            [
             0.3333333333333333,
             "#9c179e"
            ],
            [
             0.4444444444444444,
             "#bd3786"
            ],
            [
             0.5555555555555556,
             "#d8576b"
            ],
            [
             0.6666666666666666,
             "#ed7953"
            ],
            [
             0.7777777777777778,
             "#fb9f3a"
            ],
            [
             0.8888888888888888,
             "#fdca26"
            ],
            [
             1,
             "#f0f921"
            ]
           ]
          },
          "colorway": [
           "#636efa",
           "#EF553B",
           "#00cc96",
           "#ab63fa",
           "#FFA15A",
           "#19d3f3",
           "#FF6692",
           "#B6E880",
           "#FF97FF",
           "#FECB52"
          ],
          "font": {
           "color": "#2a3f5f"
          },
          "geo": {
           "bgcolor": "white",
           "lakecolor": "white",
           "landcolor": "#E5ECF6",
           "showlakes": true,
           "showland": true,
           "subunitcolor": "white"
          },
          "hoverlabel": {
           "align": "left"
          },
          "hovermode": "closest",
          "mapbox": {
           "style": "light"
          },
          "paper_bgcolor": "white",
          "plot_bgcolor": "#E5ECF6",
          "polar": {
           "angularaxis": {
            "gridcolor": "white",
            "linecolor": "white",
            "ticks": ""
           },
           "bgcolor": "#E5ECF6",
           "radialaxis": {
            "gridcolor": "white",
            "linecolor": "white",
            "ticks": ""
           }
          },
          "scene": {
           "xaxis": {
            "backgroundcolor": "#E5ECF6",
            "gridcolor": "white",
            "gridwidth": 2,
            "linecolor": "white",
            "showbackground": true,
            "ticks": "",
            "zerolinecolor": "white"
           },
           "yaxis": {
            "backgroundcolor": "#E5ECF6",
            "gridcolor": "white",
            "gridwidth": 2,
            "linecolor": "white",
            "showbackground": true,
            "ticks": "",
            "zerolinecolor": "white"
           },
           "zaxis": {
            "backgroundcolor": "#E5ECF6",
            "gridcolor": "white",
            "gridwidth": 2,
            "linecolor": "white",
            "showbackground": true,
            "ticks": "",
            "zerolinecolor": "white"
           }
          },
          "shapedefaults": {
           "line": {
            "color": "#2a3f5f"
           }
          },
          "ternary": {
           "aaxis": {
            "gridcolor": "white",
            "linecolor": "white",
            "ticks": ""
           },
           "baxis": {
            "gridcolor": "white",
            "linecolor": "white",
            "ticks": ""
           },
           "bgcolor": "#E5ECF6",
           "caxis": {
            "gridcolor": "white",
            "linecolor": "white",
            "ticks": ""
           }
          },
          "title": {
           "x": 0.05
          },
          "xaxis": {
           "automargin": true,
           "gridcolor": "white",
           "linecolor": "white",
           "ticks": "",
           "title": {
            "standoff": 15
           },
           "zerolinecolor": "white",
           "zerolinewidth": 2
          },
          "yaxis": {
           "automargin": true,
           "gridcolor": "white",
           "linecolor": "white",
           "ticks": "",
           "title": {
            "standoff": 15
           },
           "zerolinecolor": "white",
           "zerolinewidth": 2
          }
         }
        }
       }
      }
     },
     "metadata": {}
    }
   ],
   "metadata": {}
  },
  {
   "cell_type": "markdown",
   "source": [
    "We now define the threshold."
   ],
   "metadata": {}
  },
  {
   "cell_type": "code",
   "execution_count": 16,
   "source": [
    "threshold = np.mean(train_loss) + np.std(train_loss)\n",
    "print(\"Threshold: \", threshold)"
   ],
   "outputs": [
    {
     "output_type": "stream",
     "name": "stdout",
     "text": [
      "Threshold:  0.03219609\n"
     ]
    }
   ],
   "metadata": {}
  },
  {
   "cell_type": "markdown",
   "source": [
    "On the test dataset, we will use the threshold above to determine anormalies. We will do this as follows:"
   ],
   "metadata": {}
  },
  {
   "cell_type": "code",
   "execution_count": 17,
   "source": [
    "reconstructions_normal = autoencoder.predict(normal_test_data)\n",
    "test_loss_normal = tf.keras.losses.mae(reconstructions_normal, normal_test_data)\n",
    "\n",
    "\n",
    "reconstructions_abnormal = autoencoder.predict(abnormal_test_data)\n",
    "test_loss_abnormal = tf.keras.losses.mae(reconstructions_abnormal, abnormal_test_data)\n",
    "\n",
    "fig = go.Figure()\n",
    "fig.add_trace(go.Histogram(x=test_loss_normal[None,:][0],name='Normal loss'))\n",
    "fig.add_trace(go.Histogram(x=test_loss_abnormal[None,:][0],name='Abnormal loss',opacity=0.4))\n",
    "\n",
    "# Overlay both histograms\n",
    "fig.update_layout(barmode='overlay')\n",
    "# Reduce opacity to see both histograms\n",
    "fig.update_traces(opacity=0.75)\n",
    "\n",
    "\n",
    "\n",
    "\n",
    "fig.add_shape(type=\"line\",\n",
    "    xref=\"x\", yref=\"y\",\n",
    "    x0=threshold, y0=0, x1=threshold, y1=90,\n",
    "    line=dict(\n",
    "        color=\"red\",\n",
    "        width=3,\n",
    "    ),\n",
    ")\n",
    "fig.show()"
   ],
   "outputs": [
    {
     "output_type": "display_data",
     "data": {
      "application/vnd.plotly.v1+json": {
       "config": {
        "plotlyServerURL": "https://plot.ly"
       },
       "data": [
        {
         "name": "Normal loss",
         "opacity": 0.75,
         "type": "histogram",
         "x": [
          0.03462475538253784,
          0.010662582702934742,
          0.02572285197675228,
          0.05737920477986336,
          0.013390368781983852,
          0.00991982314735651,
          0.01252928376197815,
          0.0629248395562172,
          0.011604019440710545,
          0.024136215448379517,
          0.018819130957126617,
          0.018810128793120384,
          0.011735637672245502,
          0.02175312116742134,
          0.020178690552711487,
          0.021634742617607117,
          0.024699300527572632,
          0.02012050338089466,
          0.012012822553515434,
          0.018329394981265068,
          0.03517306223511696,
          0.016008617356419563,
          0.02830107882618904,
          0.013266179710626602,
          0.020306844264268875,
          0.02675684168934822,
          0.027037348598241806,
          0.010804358869791031,
          0.019360853359103203,
          0.008562822826206684,
          0.01983085460960865,
          0.017000775784254074,
          0.016568664461374283,
          0.030230756849050522,
          0.04237699508666992,
          0.025631189346313477,
          0.023135406896471977,
          0.02540794387459755,
          0.010853026993572712,
          0.04007894545793533,
          0.011425673961639404,
          0.026075799018144608,
          0.0144764743745327,
          0.018400439992547035,
          0.010012411512434483,
          0.0100617790594697,
          0.022716732695698738,
          0.01648908667266369,
          0.017876027151942253,
          0.011003064922988415,
          0.01277095451951027,
          0.013303982093930244,
          0.0697227269411087,
          0.021183473989367485,
          0.013028095476329327,
          0.01171494834125042,
          0.024880388751626015,
          0.013269093818962574,
          0.00719700800254941,
          0.01680484414100647,
          0.028372135013341904,
          0.029388312250375748,
          0.014963381923735142,
          0.018166199326515198,
          0.09439138323068619,
          0.00794465746730566,
          0.012712771072983742,
          0.026961876079440117,
          0.012648341245949268,
          0.024632463231682777,
          0.013522124849259853,
          0.018495213240385056,
          0.017385555431246758,
          0.018899738788604736,
          0.025690888985991478,
          0.01456761360168457,
          0.025130366906523705,
          0.01770958863198757,
          0.015686362981796265,
          0.04951034113764763,
          0.015532014891505241,
          0.011667399667203426,
          0.012908315286040306,
          0.017385832965373993,
          0.05150071904063225,
          0.02327747642993927,
          0.01775600202381611,
          0.014341999776661396,
          0.012801294215023518,
          0.031267065554857254,
          0.024630706757307053,
          0.012460267171263695,
          0.01680651679635048,
          0.01710079424083233,
          0.012661289423704147,
          0.015408534556627274,
          0.026534762233495712,
          0.01062923576682806,
          0.012145760469138622,
          0.027651909738779068,
          0.009877118282020092,
          0.011577666737139225,
          0.03586328774690628,
          0.013907128944993019,
          0.011278985999524593,
          0.010048473253846169,
          0.022360246628522873,
          0.014489955268800259,
          0.012026595883071423,
          0.021328935399651527,
          0.022433090955018997,
          0.0197586789727211,
          0.025810902938246727,
          0.014287975616753101,
          0.01381547749042511,
          0.025717968121170998,
          0.014487328007817268,
          0.009306617081165314,
          0.014368457719683647,
          0.008976658806204796,
          0.018249034881591797,
          0.04184478521347046,
          0.02382681705057621,
          0.01749579980969429,
          0.022355537861585617,
          0.018941953778266907,
          0.019332507625222206,
          0.012013891711831093,
          0.021072521805763245,
          0.006213855929672718,
          0.017551472410559654,
          0.018913477659225464,
          0.014621228910982609,
          0.016664069145917892,
          0.014339911751449108,
          0.013892914168536663,
          0.02592376433312893,
          0.009655296802520752,
          0.022505994886159897,
          0.04566027969121933,
          0.014579232782125473,
          0.0065247491002082825,
          0.01622954197227955,
          0.009623432531952858,
          0.011319916695356369,
          0.016425499692559242,
          0.012510452419519424,
          0.015708889812231064,
          0.016679421067237854,
          0.00973318237811327,
          0.013013133779168129,
          0.019474834203720093,
          0.012192893773317337,
          0.013902917504310608,
          0.02778053469955921,
          0.020286530256271362,
          0.027790967375040054,
          0.01762961968779564,
          0.01833488419651985,
          0.024542788043618202,
          0.02145971730351448,
          0.02130689099431038,
          0.010305579751729965,
          0.011083918623626232,
          0.02799247018992901,
          0.02148594707250595,
          0.013357840478420258,
          0.013884912244975567,
          0.01929786056280136,
          0.02278541401028633,
          0.025440046563744545,
          0.01090922486037016,
          0.01295482274144888,
          0.024867555126547813,
          0.010697812773287296,
          0.023317847400903702,
          0.03530969098210335,
          0.01649111695587635,
          0.009511793963611126,
          0.019340353086590767,
          0.015649504959583282,
          0.012802043929696083,
          0.017412742599844933,
          0.019442850723862648,
          0.010067787952721119,
          0.025882232934236526,
          0.01423331256955862,
          0.025394869968295097,
          0.01515077706426382,
          0.01497850101441145,
          0.028683671727776527,
          0.01269396673887968,
          0.01683516427874565,
          0.025956658646464348,
          0.021416718140244484,
          0.016344623640179634,
          0.011287549510598183,
          0.029123112559318542,
          0.011980794370174408,
          0.01553333830088377,
          0.027177324518561363,
          0.013223379850387573,
          0.011321856640279293,
          0.014349322766065598,
          0.029803453013300896,
          0.007698462810367346,
          0.014931912533938885,
          0.012478149496018887,
          0.02073395997285843,
          0.031349677592515945,
          0.03411583974957466,
          0.05645684897899628,
          0.016889404505491257,
          0.023347657173871994,
          0.01374053955078125,
          0.03199465200304985,
          0.019666990265250206,
          0.01793726161122322,
          0.010199337266385555,
          0.008972479961812496,
          0.037729110568761826,
          0.018654927611351013,
          0.024546056985855103,
          0.014434563927352428,
          0.013140144757926464,
          0.017775438725948334,
          0.012507046572864056,
          0.016678553074598312,
          0.02310226298868656,
          0.012310286983847618,
          0.013339624740183353,
          0.012190630659461021,
          0.026270216330885887,
          0.0210614874958992,
          0.014361965470016003,
          0.018994828686118126,
          0.018227921798825264,
          0.011063497513532639,
          0.05589676275849342,
          0.09492166340351105,
          0.022779930382966995,
          0.019893841817975044,
          0.009619981050491333,
          0.01735384203493595,
          0.011463571339845657,
          0.012463822960853577,
          0.023323584347963333,
          0.012720342725515366,
          0.02593144401907921,
          0.009947387501597404,
          0.012399778701364994,
          0.024692708626389503,
          0.026691410690546036,
          0.008670494891703129,
          0.04917360842227936,
          0.015779413282871246,
          0.017011135816574097,
          0.02251526713371277,
          0.015680227428674698,
          0.023155663162469864,
          0.015983186662197113,
          0.022544745355844498,
          0.027091119438409805,
          0.022352730855345726,
          0.01400989480316639,
          0.011395209468901157,
          0.018756907433271408,
          0.013862710446119308,
          0.012980828993022442,
          0.05536988005042076,
          0.008878817781805992,
          0.020430393517017365,
          0.013553392142057419,
          0.029145294800400734,
          0.02553330734372139,
          0.021484920755028725,
          0.018193157389760017,
          0.013303522020578384,
          0.010091875679790974,
          0.01398029550909996,
          0.030640652403235435,
          0.010044673457741737,
          0.011875600554049015,
          0.009321755729615688,
          0.01240153145045042,
          0.030649349093437195,
          0.015460842289030552,
          0.01425840798765421,
          0.010828617960214615,
          0.01871480606496334,
          0.040836818516254425,
          0.031290363520383835,
          0.02672169730067253,
          0.011538172140717506,
          0.0104732820764184,
          0.03167539834976196,
          0.009501331485807896,
          0.013306993991136551,
          0.0161672905087471,
          0.021325353533029556,
          0.013487856835126877,
          0.016610173508524895,
          0.01616370677947998,
          0.05323142558336258,
          0.02905203588306904,
          0.01556418277323246,
          0.026086607947945595,
          0.009561022743582726,
          0.022879958152770996,
          0.012038487941026688,
          0.039250586181879044,
          0.020900964736938477,
          0.012904755771160126,
          0.015102764591574669,
          0.014087874442338943,
          0.011152686551213264,
          0.012478508055210114,
          0.011120446026325226,
          0.02745455875992775,
          0.021993547677993774,
          0.0180039145052433,
          0.015065429732203484,
          0.011741413734853268,
          0.011181695386767387,
          0.016707848757505417,
          0.017202531918883324,
          0.015737317502498627,
          0.0105097945779562,
          0.012187579646706581,
          0.00902010127902031,
          0.05894925817847252,
          0.022723963484168053,
          0.009620217606425285,
          0.043955132365226746,
          0.014068614691495895,
          0.02495851181447506,
          0.03182104229927063,
          0.018412938341498375,
          0.012428395450115204,
          0.023017842322587967,
          0.02579265460371971,
          0.006943539250642061,
          0.012651034630835056,
          0.017160506919026375,
          0.025715896859765053,
          0.02098892442882061,
          0.011852358467876911,
          0.01566140167415142,
          0.013099255971610546,
          0.025719890370965004,
          0.019817063584923744,
          0.00895002018660307,
          0.01241587195545435,
          0.014867155812680721,
          0.022797463461756706,
          0.02704712748527527,
          0.0208950936794281,
          0.016106655821204185,
          0.025377904996275902,
          0.024318763986229897,
          0.01342559140175581,
          0.03329741954803467,
          0.02325698360800743,
          0.03730817139148712,
          0.01856539025902748,
          0.0124169010668993,
          0.016616400331258774,
          0.015192105434834957,
          0.011828567832708359,
          0.014937634579837322,
          0.012970681302249432,
          0.014425369910895824,
          0.02690098062157631,
          0.028695106506347656,
          0.023066792637109756,
          0.0104238735511899,
          0.06161562353372574,
          0.017242124304175377,
          0.011095033958554268,
          0.0583651065826416,
          0.00863841362297535,
          0.014025741256773472,
          0.018406426534056664,
          0.009727833792567253,
          0.018383514136075974,
          0.028422964736819267,
          0.010925181210041046,
          0.010220433585345745,
          0.025882987305521965,
          0.029553372412919998,
          0.008981727063655853,
          0.019774004817008972,
          0.014285390265285969,
          0.02239895984530449,
          0.015113179571926594,
          0.014187962748110294,
          0.03311086818575859,
          0.014128665439784527,
          0.02784823812544346,
          0.026176249608397484,
          0.015135684981942177,
          0.015005446970462799,
          0.016467733308672905,
          0.0245430339127779,
          0.008080772124230862,
          0.01675078272819519,
          0.01733350194990635,
          0.009672178886830807,
          0.011548751033842564,
          0.011431925930082798,
          0.007756252773106098,
          0.024213679134845734,
          0.02213328331708908,
          0.014905865304172039,
          0.010136820375919342,
          0.009023264050483704,
          0.028615577146410942,
          0.015687474980950356,
          0.01176630798727274,
          0.013244589790701866,
          0.012652149423956871,
          0.010046812705695629,
          0.017824679613113403,
          0.0258550513535738,
          0.025051608681678772,
          0.014843453653156757,
          0.02198895439505577,
          0.028454747051000595,
          0.03432239964604378,
          0.013752455823123455,
          0.02533692866563797,
          0.012663993053138256,
          0.02696460485458374,
          0.02889448218047619,
          0.021510057151317596,
          0.012265125289559364,
          0.027267344295978546,
          0.015850791707634926,
          0.01649554632604122,
          0.013149948790669441,
          0.013258888386189938,
          0.021387562155723572,
          0.028290757909417152,
          0.042939193546772,
          0.0555289126932621,
          0.011965438723564148,
          0.012334044091403484,
          0.00933945644646883,
          0.08073841035366058,
          0.016066422685980797,
          0.02224009670317173,
          0.022390875965356827,
          0.02486247383058071,
          0.01309178676456213,
          0.02226164937019348,
          0.02529761753976345,
          0.018888475373387337,
          0.01969655603170395,
          0.02042214944958687,
          0.04799773171544075,
          0.04143734276294708,
          0.05134834721684456,
          0.013732252642512321,
          0.03411071002483368,
          0.053013838827610016,
          0.008972659707069397,
          0.03445352613925934,
          0.012236610986292362,
          0.032772526144981384,
          0.07010328769683838,
          0.013298774138092995,
          0.008630047552287579,
          0.026981087401509285,
          0.02137238346040249,
          0.01243950892239809,
          0.029360491782426834,
          0.014483492821455002,
          0.020882081240415573,
          0.010165262967348099,
          0.01591368392109871,
          0.02537650428712368,
          0.02673170529305935,
          0.031462449580430984,
          0.02229822240769863,
          0.014333900064229965,
          0.026773683726787567,
          0.016162404790520668,
          0.01179030817002058,
          0.008017875254154205,
          0.01174958050251007,
          0.013186663389205933,
          0.009679531678557396,
          0.012386147864162922,
          0.013049636036157608,
          0.024263450875878334,
          0.04018576443195343,
          0.012721851468086243,
          0.026557425037026405,
          0.011999116279184818,
          0.02564426138997078,
          0.0097288116812706,
          0.012942221947014332,
          0.022602606564760208,
          0.014263893477618694,
          0.017490390688180923,
          0.012015379965305328,
          0.01061865221709013,
          0.012516769580543041,
          0.023025356233119965,
          0.03225681930780411,
          0.011110696010291576,
          0.01758972741663456,
          0.01444253884255886,
          0.01327106449753046,
          0.01261954102665186,
          0.017532560974359512,
          0.02001878246665001,
          0.0356636643409729,
          0.010884501971304417,
          0.07202327251434326,
          0.02029169723391533,
          0.01964132860302925,
          0.02493744157254696,
          0.04124870523810387,
          0.03662310540676117,
          0.0340222604572773,
          0.012137890793383121,
          0.03494584187865257,
          0.01148955151438713,
          0.014571678824722767,
          0.010639523155987263,
          0.014285453595221043,
          0.011955061927437782,
          0.01238207332789898,
          0.011611463502049446,
          0.015579764731228352,
          0.011733596213161945,
          0.010817766189575195,
          0.020776228979229927,
          0.013455736450850964,
          0.009843820706009865,
          0.024494027718901634,
          0.017321161925792694,
          0.01694801077246666,
          0.01766900159418583,
          0.02977759577333927,
          0.013401986099779606,
          0.013904683291912079,
          0.012329439632594585,
          0.01798982545733452,
          0.009066499769687653,
          0.030807675793766975,
          0.017783069983124733,
          0.037402793765068054,
          0.0204682145267725,
          0.015571760945022106,
          0.012368420138955116,
          0.04493369534611702,
          0.016005348414182663,
          0.0150604248046875
         ]
        },
        {
         "name": "Abnormal loss",
         "opacity": 0.75,
         "type": "histogram",
         "x": [
          0.0428113155066967,
          0.053901296108961105,
          0.0423116497695446,
          0.053073421120643616,
          0.04747813940048218,
          0.047762431204319,
          0.03869771584868431,
          0.04057058319449425,
          0.04381211847066879,
          0.055279411375522614,
          0.03375566005706787,
          0.04134900122880936,
          0.03944164514541626,
          0.045678433030843735,
          0.021505577489733696,
          0.05086483061313629,
          0.04114912077784538,
          0.04293583333492279,
          0.05646011233329773,
          0.05340835824608803,
          0.05321335047483444,
          0.039597682654857635,
          0.05678003281354904,
          0.04656354337930679,
          0.0438779853284359,
          0.0397924967110157,
          0.05411764979362488,
          0.047683123499155045,
          0.08792116492986679,
          0.04270487278699875,
          0.08936828374862671,
          0.04110831767320633,
          0.04875868186354637,
          0.05004221200942993,
          0.046092573553323746,
          0.046342313289642334,
          0.04136321321129799,
          0.05463410168886185,
          0.05299633741378784,
          0.05436652898788452,
          0.04453760385513306,
          0.043429646641016006,
          0.04532420262694359,
          0.048873815685510635,
          0.0426514558494091,
          0.054844968020915985,
          0.04705905169248581,
          0.06157052889466286,
          0.05020587518811226,
          0.04463425278663635,
          0.0443095937371254,
          0.053888898342847824,
          0.05276559293270111,
          0.04513421282172203,
          0.056777581572532654,
          0.0495193712413311,
          0.04870036989450455,
          0.04781124368309975,
          0.05164601281285286,
          0.044023238122463226,
          0.035761650651693344,
          0.04776281490921974,
          0.04490625113248825,
          0.048103343695402145,
          0.050849370658397675,
          0.042849525809288025,
          0.042329296469688416,
          0.04901447892189026,
          0.055152442306280136,
          0.052407387644052505,
          0.0470314621925354,
          0.03506288304924965,
          0.04522464796900749,
          0.0415714792907238,
          0.04498904570937157,
          0.04659094288945198,
          0.04437676817178726,
          0.047848254442214966,
          0.03756198659539223,
          0.053557246923446655,
          0.04982152581214905,
          0.052147723734378815,
          0.049352362751960754,
          0.03602868691086769,
          0.046757772564888,
          0.04363343492150307,
          0.0500020831823349,
          0.06179041787981987,
          0.045255422592163086,
          0.041961051523685455,
          0.04157488793134689,
          0.05052369832992554,
          0.0590142123401165,
          0.045275017619132996,
          0.04659086465835571,
          0.04988196864724159,
          0.04377271234989166,
          0.04338214546442032,
          0.040533795952796936,
          0.04997490346431732,
          0.0473015122115612,
          0.050480782985687256,
          0.040566105395555496,
          0.055689845234155655,
          0.04718476161360741,
          0.04899914190173149,
          0.043332040309906006,
          0.04472135379910469,
          0.04053063690662384,
          0.04793569818139076,
          0.07002123445272446,
          0.048971086740493774,
          0.05146808177232742,
          0.042001981288194656,
          0.045832354575395584,
          0.05230114981532097,
          0.04909517243504524,
          0.05465568229556084,
          0.048376865684986115,
          0.03675328195095062,
          0.04534559324383736,
          0.054749324917793274,
          0.04673493281006813,
          0.0463828481733799,
          0.061116915196180344,
          0.04927204176783562,
          0.04277794063091278,
          0.05833398178219795,
          0.049690429121255875,
          0.047265686094760895,
          0.055911824107170105,
          0.055869996547698975,
          0.04242633283138275,
          0.04175635799765587,
          0.04896765947341919,
          0.042870134115219116,
          0.04255777597427368,
          0.04146825522184372,
          0.0450274683535099,
          0.048744380474090576,
          0.04971734806895256,
          0.04412451758980751,
          0.0570816844701767,
          0.04852459952235222,
          0.05237240344285965,
          0.05068696662783623,
          0.047237783670425415,
          0.04688612371683121,
          0.04619109630584717,
          0.04988772049546242,
          0.0463939905166626,
          0.04989852383732796,
          0.040903832763433456,
          0.05805804207921028,
          0.03720303252339363,
          0.044265203177928925,
          0.04167409613728523,
          0.043775252997875214,
          0.04324190318584442,
          0.038142044097185135,
          0.0453171543776989,
          0.03652667999267578,
          0.043209340423345566,
          0.047724612057209015,
          0.04794766381382942,
          0.03543774038553238,
          0.04442339763045311,
          0.04456702247262001,
          0.03680156543850899,
          0.04084717109799385,
          0.049201637506484985,
          0.04549757018685341,
          0.0542433075606823,
          0.046323973685503006,
          0.04884399473667145,
          0.049878064543008804,
          0.048530228435993195,
          0.0482107438147068,
          0.08892141282558441,
          0.05655188113451004,
          0.04418356716632843,
          0.05033741891384125,
          0.05020822212100029,
          0.037421055138111115,
          0.040601469576358795,
          0.03617582470178604,
          0.04565925523638725,
          0.05098922550678253,
          0.04227996617555618,
          0.049457065761089325,
          0.043984852731227875,
          0.03938671946525574,
          0.018629981204867363,
          0.05398533120751381,
          0.049530964344739914,
          0.04323500022292137,
          0.04502474516630173,
          0.04939510300755501,
          0.05055442452430725,
          0.05151413008570671,
          0.05824197456240654,
          0.04710758104920387,
          0.05270161107182503,
          0.042558975517749786,
          0.047987230122089386,
          0.05303868278861046,
          0.04979594051837921,
          0.04792376607656479,
          0.04333554580807686,
          0.04148346185684204,
          0.042631205171346664,
          0.05467798188328743,
          0.050814349204301834,
          0.04513290897011757,
          0.043873291462659836,
          0.04015803337097168,
          0.054726190865039825,
          0.046047061681747437,
          0.05541900172829628,
          0.048847492784261703,
          0.04998866841197014,
          0.04315842688083649,
          0.0647864118218422,
          0.04827893152832985,
          0.0444718636572361,
          0.04512852430343628,
          0.05359499901533127,
          0.04635247215628624,
          0.045203763991594315,
          0.04825972020626068,
          0.053948692977428436,
          0.04699581116437912,
          0.04395129531621933,
          0.04380497708916664,
          0.0496152825653553,
          0.04474461451172829,
          0.04567279294133186,
          0.04542624205350876,
          0.04554538056254387,
          0.05393797159194946,
          0.044175419956445694,
          0.05680213123559952,
          0.04624258354306221,
          0.04733991622924805,
          0.03779807686805725,
          0.044453997164964676,
          0.041021499782800674,
          0.04377438873052597,
          0.04805662855505943,
          0.048426926136016846,
          0.0690174326300621,
          0.05550019443035126,
          0.04490348696708679,
          0.044060226529836655,
          0.04657704755663872,
          0.03988383337855339,
          0.0397353433072567,
          0.05256667733192444,
          0.05033917725086212,
          0.047073185443878174,
          0.05333812162280083,
          0.0454370491206646,
          0.04715753719210625,
          0.048322711139917374,
          0.05817939341068268,
          0.05172238126397133,
          0.05825798958539963,
          0.057730887085199356,
          0.0489162802696228,
          0.05467991158366203,
          0.03930171951651573,
          0.046124011278152466,
          0.05004752427339554,
          0.04892711341381073,
          0.04835548251867294,
          0.04480094835162163,
          0.050225913524627686,
          0.04463503137230873,
          0.012921147979795933,
          0.0560438446700573,
          0.051288437098264694,
          0.049380384385585785,
          0.07246614992618561,
          0.042654138058423996,
          0.04453013464808464,
          0.03694838285446167,
          0.03673671931028366,
          0.07644978165626526,
          0.04681878909468651,
          0.04449961706995964,
          0.046107616275548935,
          0.048533473163843155,
          0.043912842869758606,
          0.03424796089529991,
          0.04604915902018547,
          0.05502782016992569,
          0.04585341736674309,
          0.04751456156373024,
          0.049771882593631744,
          0.048504918813705444,
          0.04081448167562485,
          0.040434520691633224,
          0.0546807162463665,
          0.05041534826159477,
          0.046704988926649094,
          0.03496693819761276,
          0.046052075922489166,
          0.046564001590013504,
          0.06469286233186722,
          0.05116238817572594,
          0.0453827828168869,
          0.03136594220995903,
          0.03665086254477501,
          0.049678999930620193,
          0.05674229934811592,
          0.04690701514482498,
          0.04522694647312164,
          0.07470667362213135,
          0.05176816135644913,
          0.050929661840200424,
          0.04850488156080246,
          0.04355094954371452,
          0.0516589879989624,
          0.043282054364681244,
          0.06648745387792587,
          0.04615689069032669,
          0.047347359359264374,
          0.04722224175930023,
          0.04593802988529205,
          0.043497875332832336,
          0.043334055691957474,
          0.05140506103634834,
          0.04492861405014992,
          0.04318322613835335,
          0.046358004212379456,
          0.043931346386671066,
          0.0471319854259491,
          0.0439675971865654,
          0.04287340119481087,
          0.04395599663257599,
          0.051025934517383575,
          0.05662715807557106,
          0.04130108281970024,
          0.04722727835178375,
          0.042245958000421524,
          0.05573875457048416,
          0.05423581972718239,
          0.05279780179262161,
          0.055509865283966064,
          0.0605609230697155,
          0.04460511729121208,
          0.047527484595775604,
          0.05004047974944115,
          0.041484564542770386,
          0.06144196540117264,
          0.049186646938323975,
          0.05050681158900261,
          0.05163047835230827,
          0.03975699469447136,
          0.05558626353740692,
          0.04953211173415184,
          0.05102429538965225,
          0.04865085333585739,
          0.04722326993942261,
          0.05172264575958252,
          0.04597608372569084,
          0.04645763710141182,
          0.04839227348566055,
          0.047089774161577225,
          0.04197299852967262,
          0.04333065077662468,
          0.04730670154094696,
          0.04319535940885544,
          0.04437251761555672,
          0.04690925031900406,
          0.04595136269927025,
          0.053306326270103455,
          0.04155149683356285,
          0.05529943108558655,
          0.0666319727897644,
          0.03901003673672676,
          0.0382891446352005,
          0.05178575590252876,
          0.057708799839019775,
          0.08337882906198502,
          0.047793250530958176,
          0.043235838413238525,
          0.04220585152506828,
          0.0546170175075531,
          0.047890640795230865,
          0.062042564153671265,
          0.04838095232844353,
          0.043247681111097336,
          0.056749377399683,
          0.0475834384560585,
          0.05685565248131752,
          0.05614525079727173,
          0.058810941874980927,
          0.04839381203055382,
          0.04452766850590706,
          0.04229027032852173,
          0.05352544039487839,
          0.04740169271826744,
          0.04208379238843918,
          0.05024439096450806,
          0.05783599615097046,
          0.04488866776227951,
          0.04949125647544861,
          0.040941882878541946,
          0.05038662627339363,
          0.046884290874004364,
          0.045114386826753616,
          0.04292300343513489,
          0.053667426109313965,
          0.05103572458028793,
          0.04694420471787453,
          0.04815983772277832,
          0.04405689612030983,
          0.0495179183781147,
          0.04555312916636467,
          0.05454717203974724,
          0.05120481923222542,
          0.05040588229894638,
          0.04359443485736847,
          0.05811302363872528,
          0.046959687024354935,
          0.04643385112285614,
          0.04593907669186592,
          0.050734248012304306,
          0.04215851053595543,
          0.054782744497060776,
          0.04273505136370659,
          0.045969314873218536,
          0.0449148565530777,
          0.04515469819307327,
          0.06634358316659927,
          0.04488842561841011,
          0.04367636889219284,
          0.0548914335668087,
          0.05711160600185394
         ]
        }
       ],
       "layout": {
        "barmode": "overlay",
        "shapes": [
         {
          "line": {
           "color": "red",
           "width": 3
          },
          "type": "line",
          "x0": 0.03219608962535858,
          "x1": 0.03219608962535858,
          "xref": "x",
          "y0": 0,
          "y1": 90,
          "yref": "y"
         }
        ],
        "template": {
         "data": {
          "bar": [
           {
            "error_x": {
             "color": "#2a3f5f"
            },
            "error_y": {
             "color": "#2a3f5f"
            },
            "marker": {
             "line": {
              "color": "#E5ECF6",
              "width": 0.5
             },
             "pattern": {
              "fillmode": "overlay",
              "size": 10,
              "solidity": 0.2
             }
            },
            "type": "bar"
           }
          ],
          "barpolar": [
           {
            "marker": {
             "line": {
              "color": "#E5ECF6",
              "width": 0.5
             },
             "pattern": {
              "fillmode": "overlay",
              "size": 10,
              "solidity": 0.2
             }
            },
            "type": "barpolar"
           }
          ],
          "carpet": [
           {
            "aaxis": {
             "endlinecolor": "#2a3f5f",
             "gridcolor": "white",
             "linecolor": "white",
             "minorgridcolor": "white",
             "startlinecolor": "#2a3f5f"
            },
            "baxis": {
             "endlinecolor": "#2a3f5f",
             "gridcolor": "white",
             "linecolor": "white",
             "minorgridcolor": "white",
             "startlinecolor": "#2a3f5f"
            },
            "type": "carpet"
           }
          ],
          "choropleth": [
           {
            "colorbar": {
             "outlinewidth": 0,
             "ticks": ""
            },
            "type": "choropleth"
           }
          ],
          "contour": [
           {
            "colorbar": {
             "outlinewidth": 0,
             "ticks": ""
            },
            "colorscale": [
             [
              0,
              "#0d0887"
             ],
             [
              0.1111111111111111,
              "#46039f"
             ],
             [
              0.2222222222222222,
              "#7201a8"
             ],
             [
              0.3333333333333333,
              "#9c179e"
             ],
             [
              0.4444444444444444,
              "#bd3786"
             ],
             [
              0.5555555555555556,
              "#d8576b"
             ],
             [
              0.6666666666666666,
              "#ed7953"
             ],
             [
              0.7777777777777778,
              "#fb9f3a"
             ],
             [
              0.8888888888888888,
              "#fdca26"
             ],
             [
              1,
              "#f0f921"
             ]
            ],
            "type": "contour"
           }
          ],
          "contourcarpet": [
           {
            "colorbar": {
             "outlinewidth": 0,
             "ticks": ""
            },
            "type": "contourcarpet"
           }
          ],
          "heatmap": [
           {
            "colorbar": {
             "outlinewidth": 0,
             "ticks": ""
            },
            "colorscale": [
             [
              0,
              "#0d0887"
             ],
             [
              0.1111111111111111,
              "#46039f"
             ],
             [
              0.2222222222222222,
              "#7201a8"
             ],
             [
              0.3333333333333333,
              "#9c179e"
             ],
             [
              0.4444444444444444,
              "#bd3786"
             ],
             [
              0.5555555555555556,
              "#d8576b"
             ],
             [
              0.6666666666666666,
              "#ed7953"
             ],
             [
              0.7777777777777778,
              "#fb9f3a"
             ],
             [
              0.8888888888888888,
              "#fdca26"
             ],
             [
              1,
              "#f0f921"
             ]
            ],
            "type": "heatmap"
           }
          ],
          "heatmapgl": [
           {
            "colorbar": {
             "outlinewidth": 0,
             "ticks": ""
            },
            "colorscale": [
             [
              0,
              "#0d0887"
             ],
             [
              0.1111111111111111,
              "#46039f"
             ],
             [
              0.2222222222222222,
              "#7201a8"
             ],
             [
              0.3333333333333333,
              "#9c179e"
             ],
             [
              0.4444444444444444,
              "#bd3786"
             ],
             [
              0.5555555555555556,
              "#d8576b"
             ],
             [
              0.6666666666666666,
              "#ed7953"
             ],
             [
              0.7777777777777778,
              "#fb9f3a"
             ],
             [
              0.8888888888888888,
              "#fdca26"
             ],
             [
              1,
              "#f0f921"
             ]
            ],
            "type": "heatmapgl"
           }
          ],
          "histogram": [
           {
            "marker": {
             "pattern": {
              "fillmode": "overlay",
              "size": 10,
              "solidity": 0.2
             }
            },
            "type": "histogram"
           }
          ],
          "histogram2d": [
           {
            "colorbar": {
             "outlinewidth": 0,
             "ticks": ""
            },
            "colorscale": [
             [
              0,
              "#0d0887"
             ],
             [
              0.1111111111111111,
              "#46039f"
             ],
             [
              0.2222222222222222,
              "#7201a8"
             ],
             [
              0.3333333333333333,
              "#9c179e"
             ],
             [
              0.4444444444444444,
              "#bd3786"
             ],
             [
              0.5555555555555556,
              "#d8576b"
             ],
             [
              0.6666666666666666,
              "#ed7953"
             ],
             [
              0.7777777777777778,
              "#fb9f3a"
             ],
             [
              0.8888888888888888,
              "#fdca26"
             ],
             [
              1,
              "#f0f921"
             ]
            ],
            "type": "histogram2d"
           }
          ],
          "histogram2dcontour": [
           {
            "colorbar": {
             "outlinewidth": 0,
             "ticks": ""
            },
            "colorscale": [
             [
              0,
              "#0d0887"
             ],
             [
              0.1111111111111111,
              "#46039f"
             ],
             [
              0.2222222222222222,
              "#7201a8"
             ],
             [
              0.3333333333333333,
              "#9c179e"
             ],
             [
              0.4444444444444444,
              "#bd3786"
             ],
             [
              0.5555555555555556,
              "#d8576b"
             ],
             [
              0.6666666666666666,
              "#ed7953"
             ],
             [
              0.7777777777777778,
              "#fb9f3a"
             ],
             [
              0.8888888888888888,
              "#fdca26"
             ],
             [
              1,
              "#f0f921"
             ]
            ],
            "type": "histogram2dcontour"
           }
          ],
          "mesh3d": [
           {
            "colorbar": {
             "outlinewidth": 0,
             "ticks": ""
            },
            "type": "mesh3d"
           }
          ],
          "parcoords": [
           {
            "line": {
             "colorbar": {
              "outlinewidth": 0,
              "ticks": ""
             }
            },
            "type": "parcoords"
           }
          ],
          "pie": [
           {
            "automargin": true,
            "type": "pie"
           }
          ],
          "scatter": [
           {
            "marker": {
             "colorbar": {
              "outlinewidth": 0,
              "ticks": ""
             }
            },
            "type": "scatter"
           }
          ],
          "scatter3d": [
           {
            "line": {
             "colorbar": {
              "outlinewidth": 0,
              "ticks": ""
             }
            },
            "marker": {
             "colorbar": {
              "outlinewidth": 0,
              "ticks": ""
             }
            },
            "type": "scatter3d"
           }
          ],
          "scattercarpet": [
           {
            "marker": {
             "colorbar": {
              "outlinewidth": 0,
              "ticks": ""
             }
            },
            "type": "scattercarpet"
           }
          ],
          "scattergeo": [
           {
            "marker": {
             "colorbar": {
              "outlinewidth": 0,
              "ticks": ""
             }
            },
            "type": "scattergeo"
           }
          ],
          "scattergl": [
           {
            "marker": {
             "colorbar": {
              "outlinewidth": 0,
              "ticks": ""
             }
            },
            "type": "scattergl"
           }
          ],
          "scattermapbox": [
           {
            "marker": {
             "colorbar": {
              "outlinewidth": 0,
              "ticks": ""
             }
            },
            "type": "scattermapbox"
           }
          ],
          "scatterpolar": [
           {
            "marker": {
             "colorbar": {
              "outlinewidth": 0,
              "ticks": ""
             }
            },
            "type": "scatterpolar"
           }
          ],
          "scatterpolargl": [
           {
            "marker": {
             "colorbar": {
              "outlinewidth": 0,
              "ticks": ""
             }
            },
            "type": "scatterpolargl"
           }
          ],
          "scatterternary": [
           {
            "marker": {
             "colorbar": {
              "outlinewidth": 0,
              "ticks": ""
             }
            },
            "type": "scatterternary"
           }
          ],
          "surface": [
           {
            "colorbar": {
             "outlinewidth": 0,
             "ticks": ""
            },
            "colorscale": [
             [
              0,
              "#0d0887"
             ],
             [
              0.1111111111111111,
              "#46039f"
             ],
             [
              0.2222222222222222,
              "#7201a8"
             ],
             [
              0.3333333333333333,
              "#9c179e"
             ],
             [
              0.4444444444444444,
              "#bd3786"
             ],
             [
              0.5555555555555556,
              "#d8576b"
             ],
             [
              0.6666666666666666,
              "#ed7953"
             ],
             [
              0.7777777777777778,
              "#fb9f3a"
             ],
             [
              0.8888888888888888,
              "#fdca26"
             ],
             [
              1,
              "#f0f921"
             ]
            ],
            "type": "surface"
           }
          ],
          "table": [
           {
            "cells": {
             "fill": {
              "color": "#EBF0F8"
             },
             "line": {
              "color": "white"
             }
            },
            "header": {
             "fill": {
              "color": "#C8D4E3"
             },
             "line": {
              "color": "white"
             }
            },
            "type": "table"
           }
          ]
         },
         "layout": {
          "annotationdefaults": {
           "arrowcolor": "#2a3f5f",
           "arrowhead": 0,
           "arrowwidth": 1
          },
          "autotypenumbers": "strict",
          "coloraxis": {
           "colorbar": {
            "outlinewidth": 0,
            "ticks": ""
           }
          },
          "colorscale": {
           "diverging": [
            [
             0,
             "#8e0152"
            ],
            [
             0.1,
             "#c51b7d"
            ],
            [
             0.2,
             "#de77ae"
            ],
            [
             0.3,
             "#f1b6da"
            ],
            [
             0.4,
             "#fde0ef"
            ],
            [
             0.5,
             "#f7f7f7"
            ],
            [
             0.6,
             "#e6f5d0"
            ],
            [
             0.7,
             "#b8e186"
            ],
            [
             0.8,
             "#7fbc41"
            ],
            [
             0.9,
             "#4d9221"
            ],
            [
             1,
             "#276419"
            ]
           ],
           "sequential": [
            [
             0,
             "#0d0887"
            ],
            [
             0.1111111111111111,
             "#46039f"
            ],
            [
             0.2222222222222222,
             "#7201a8"
            ],
            [
             0.3333333333333333,
             "#9c179e"
            ],
            [
             0.4444444444444444,
             "#bd3786"
            ],
            [
             0.5555555555555556,
             "#d8576b"
            ],
            [
             0.6666666666666666,
             "#ed7953"
            ],
            [
             0.7777777777777778,
             "#fb9f3a"
            ],
            [
             0.8888888888888888,
             "#fdca26"
            ],
            [
             1,
             "#f0f921"
            ]
           ],
           "sequentialminus": [
            [
             0,
             "#0d0887"
            ],
            [
             0.1111111111111111,
             "#46039f"
            ],
            [
             0.2222222222222222,
             "#7201a8"
            ],
            [
             0.3333333333333333,
             "#9c179e"
            ],
            [
             0.4444444444444444,
             "#bd3786"
            ],
            [
             0.5555555555555556,
             "#d8576b"
            ],
            [
             0.6666666666666666,
             "#ed7953"
            ],
            [
             0.7777777777777778,
             "#fb9f3a"
            ],
            [
             0.8888888888888888,
             "#fdca26"
            ],
            [
             1,
             "#f0f921"
            ]
           ]
          },
          "colorway": [
           "#636efa",
           "#EF553B",
           "#00cc96",
           "#ab63fa",
           "#FFA15A",
           "#19d3f3",
           "#FF6692",
           "#B6E880",
           "#FF97FF",
           "#FECB52"
          ],
          "font": {
           "color": "#2a3f5f"
          },
          "geo": {
           "bgcolor": "white",
           "lakecolor": "white",
           "landcolor": "#E5ECF6",
           "showlakes": true,
           "showland": true,
           "subunitcolor": "white"
          },
          "hoverlabel": {
           "align": "left"
          },
          "hovermode": "closest",
          "mapbox": {
           "style": "light"
          },
          "paper_bgcolor": "white",
          "plot_bgcolor": "#E5ECF6",
          "polar": {
           "angularaxis": {
            "gridcolor": "white",
            "linecolor": "white",
            "ticks": ""
           },
           "bgcolor": "#E5ECF6",
           "radialaxis": {
            "gridcolor": "white",
            "linecolor": "white",
            "ticks": ""
           }
          },
          "scene": {
           "xaxis": {
            "backgroundcolor": "#E5ECF6",
            "gridcolor": "white",
            "gridwidth": 2,
            "linecolor": "white",
            "showbackground": true,
            "ticks": "",
            "zerolinecolor": "white"
           },
           "yaxis": {
            "backgroundcolor": "#E5ECF6",
            "gridcolor": "white",
            "gridwidth": 2,
            "linecolor": "white",
            "showbackground": true,
            "ticks": "",
            "zerolinecolor": "white"
           },
           "zaxis": {
            "backgroundcolor": "#E5ECF6",
            "gridcolor": "white",
            "gridwidth": 2,
            "linecolor": "white",
            "showbackground": true,
            "ticks": "",
            "zerolinecolor": "white"
           }
          },
          "shapedefaults": {
           "line": {
            "color": "#2a3f5f"
           }
          },
          "ternary": {
           "aaxis": {
            "gridcolor": "white",
            "linecolor": "white",
            "ticks": ""
           },
           "baxis": {
            "gridcolor": "white",
            "linecolor": "white",
            "ticks": ""
           },
           "bgcolor": "#E5ECF6",
           "caxis": {
            "gridcolor": "white",
            "linecolor": "white",
            "ticks": ""
           }
          },
          "title": {
           "x": 0.05
          },
          "xaxis": {
           "automargin": true,
           "gridcolor": "white",
           "linecolor": "white",
           "ticks": "",
           "title": {
            "standoff": 15
           },
           "zerolinecolor": "white",
           "zerolinewidth": 2
          },
          "yaxis": {
           "automargin": true,
           "gridcolor": "white",
           "linecolor": "white",
           "ticks": "",
           "title": {
            "standoff": 15
           },
           "zerolinecolor": "white",
           "zerolinewidth": 2
          }
         }
        }
       }
      }
     },
     "metadata": {}
    }
   ],
   "metadata": {}
  },
  {
   "cell_type": "markdown",
   "source": [
    "The red vertical line is at the threshold. Anything above the red vertical line is considered as an anormaly. \n",
    "\n",
    "## How accurate is our model \n",
    "\n",
    "We will compute the accuracy, precision and recall of our model. "
   ],
   "metadata": {}
  },
  {
   "cell_type": "code",
   "execution_count": 18,
   "source": [
    "def predict(model, data, threshold):\n",
    "  reconstructions = model(data)\n",
    "  loss = tf.keras.losses.mae(reconstructions, data)\n",
    "  return tf.math.less(loss, threshold)\n",
    "\n",
    "def print_stats(predictions, labels):\n",
    "  print(\"Accuracy = {}\".format(accuracy_score(labels, predictions)))\n",
    "  print(\"Precision = {}\".format(precision_score(labels, predictions)))\n",
    "  print(\"Recall = {}\".format(recall_score(labels, predictions)))\n",
    "\n",
    "\n",
    "\n",
    "preds = predict(autoencoder, test_data, threshold)\n",
    "print_stats(preds, test_labels)"
   ],
   "outputs": [
    {
     "output_type": "stream",
     "name": "stdout",
     "text": [
      "Accuracy = 0.943\nPrecision = 0.9921722113502935\nRecall = 0.9053571428571429\n"
     ]
    }
   ],
   "metadata": {}
  },
  {
   "cell_type": "markdown",
   "source": [
    "## Final words\n",
    "\n",
    "In this blog post, we have seen how autoencoders can be used to detect anomalies in our data. The ECG data is a  nice example to illustrate the idea, however, with a typical real-world use case, there will be more shortcomings. "
   ],
   "metadata": {}
  }
 ]
}