{
 "cells": [
  {
   "cell_type": "markdown",
   "metadata": {},
   "source": [
    "# Tanh is the rescaled version of the sigmoid.\n",
    "\n",
    "Deep learning today uses different activation functions. In this short blog post I will show you the relationship between the `tanh` and the `sigmoid` activation function. In fact I will show that the `tanh` is just a rescaled version of the `sigmoid`. "
   ]
  },
  {
   "cell_type": "markdown",
   "metadata": {},
   "source": [
    "$$\n",
    "\\text{tanh}(x) = \\frac{e^{2x}-1}{e^{2x}+1}\n",
    "$$\n",
    "\n",
    "$$\n",
    "\\text{sigmoid}(x) = \\frac{e^x}{e^x+1}\n",
    "$$\n",
    "\n",
    "Now look \n",
    "$$\n",
    "\\begin{align*}\n",
    "2 \\text{sigmoid}(2x) -1& = 2\\frac{e^{2x}}{1+e^{2x}}-1\\\\\n",
    "&= \\frac{e^{2x}}{1+e^{2x}}+\\frac{e^{2x}}{1+e^[2x]}-\\frac{1+e^{2x}}{1+e^{2x}}\\\\\n",
    "&=  \\frac{e^{2x}+e^{2x}-1-e^{2x}}{1+e^{2x}}\\\\\n",
    "&= \\frac{e^{2x}-1}{1+e^{2x}} = \\frac{e^{2x}-1}{e^{2x}+1} = \\text{tanh}(x)\n",
    "\\end{align*}\n",
    "$$\n"
   ]
  },
  {
   "cell_type": "markdown",
   "metadata": {},
   "source": [
    "Hence we can safely say the `sigmoid` is rescaled version of the `tanh`. \n"
   ]
  },
  {
   "cell_type": "markdown",
   "metadata": {},
   "source": []
  }
 ],
 "metadata": {
  "interpreter": {
   "hash": "2fb4dcad2038b855acc5d2d9285caf9743f26bff08ac6b66b0399088ab57b0e2"
  },
  "kernelspec": {
   "display_name": "Python 3.7.11 64-bit ('venv': venv)",
   "name": "python3"
  },
  "language_info": {
   "codemirror_mode": {
    "name": "ipython",
    "version": 3
   },
   "file_extension": ".py",
   "mimetype": "text/x-python",
   "name": "python",
   "nbconvert_exporter": "python",
   "pygments_lexer": "ipython3",
   "version": "3.7.11"
  },
  "orig_nbformat": 4
 },
 "nbformat": 4,
 "nbformat_minor": 2
}
