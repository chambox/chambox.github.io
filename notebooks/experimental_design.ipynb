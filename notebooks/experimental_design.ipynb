{
 "metadata": {
  "language_info": {
   "codemirror_mode": {
    "name": "ipython",
    "version": 3
   },
   "file_extension": ".py",
   "mimetype": "text/x-python",
   "name": "python",
   "nbconvert_exporter": "python",
   "pygments_lexer": "ipython3",
   "version": "3.7.9"
  },
  "orig_nbformat": 4,
  "kernelspec": {
   "name": "python3",
   "display_name": "Python 3.7.9 64-bit ('venv': venv)"
  },
  "interpreter": {
   "hash": "7473eb5de9899b903baf5af208a8c617653e3ff3071504d1e46d9b22301cad0e"
  }
 },
 "nbformat": 4,
 "nbformat_minor": 2,
 "cells": [
  {
   "source": [
    "## Why is the design of experiments important?\n",
    "\n",
    "\n",
    "If you are data scientist, you must have come accross many dataset which you have used to do analysis of some kind. Most of the datasets we encounter as data scientist was observed. I.e., the data was collected by recording or measuring the variabe of interest without influencing the subjects produces the data. \n",
    "\n",
    "One the other hand, data that is difficult to come by is one from carefully designed experiments. In this case the investigator administer some form of treatment on one or more and measure the variables.\n",
    "\n",
    "\n",
    "\n",
    "Simply put, an observation is hands-off while an experiment is hands-on.\n",
    "\n",
    "\n",
    "\n",
    "\n",
    "\n",
    "## Cause and effect versus correlation\n",
    "\n",
    "The type of conclusions we draw from analysing an independent variable and reponse variable from an observational study are limited to correlations. In other words, we can only draw conclusions like, there is a strong correlation between variable A (independent variable) and B (dependent variable) when we analyse data from an observational study. \n",
    "\n",
    "Conclusions about causation can only be drawn from carefully designed experiments, i.e.,that a unit change of the independent variable  causes the response variable to change by $x$ units. "
   ],
   "cell_type": "markdown",
   "metadata": {}
  },
  {
   "cell_type": "code",
   "execution_count": null,
   "metadata": {},
   "outputs": [],
   "source": []
  }
 ]
}