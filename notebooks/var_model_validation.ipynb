{
 "cells": [
  {
   "cell_type": "markdown",
   "source": [
    "# Value at Risk Models \n",
    "\n",
    "Market risk can be defi ned as the risk of an increase or decrease in the market\n",
    "price of a financial instrument or portfolio, due to changes in stock prices, interest\n",
    "rates, credit spreads, foreign exchange rates, commodity prices, implied volatilities."
   ],
   "metadata": {}
  },
  {
   "cell_type": "markdown",
   "source": [],
   "metadata": {}
  }
 ],
 "metadata": {
  "orig_nbformat": 4,
  "language_info": {
   "name": "python"
  }
 },
 "nbformat": 4,
 "nbformat_minor": 2
}