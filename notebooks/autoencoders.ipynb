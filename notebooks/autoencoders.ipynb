{
 "metadata": {
  "language_info": {
   "codemirror_mode": {
    "name": "ipython",
    "version": 3
   },
   "file_extension": ".py",
   "mimetype": "text/x-python",
   "name": "python",
   "nbconvert_exporter": "python",
   "pygments_lexer": "ipython3",
   "version": "3.7.9"
  },
  "orig_nbformat": 4,
  "kernelspec": {
   "name": "python3",
   "display_name": "Python 3.7.9 64-bit ('venv': venv)"
  },
  "interpreter": {
   "hash": "7473eb5de9899b903baf5af208a8c617653e3ff3071504d1e46d9b22301cad0e"
  }
 },
 "nbformat": 4,
 "nbformat_minor": 2,
 "cells": [
  {
   "cell_type": "markdown",
   "source": [
    "## Anomaly detection with autoencoders\n",
    "\n",
    "In this blog post we will use autoencoders to detect anomalies in ECG5000 dataset. In writing this blog post I have assumed that the reader has some basic understanding of neural networks and autoencoders as a specific type of neural network. Jeremy Jordan has a nice 10mins-read blog post on autoencoders, you can find it [here](https://www.jeremyjordan.me/autoencoders/).  The ECG5000 dataset which we will use contains 50,000 Electrocardiograms (ECG). Each cardiogram has 140 data points.  Luckily for us, the data has been labeled into a normal and abnormal rhythm by medical experts. Our goal is to use autoencoders to see if they can mimic the knowledge of a medical doctor and identify abnormal Electrocardiograms.\n",
    "\n",
    "Our approach will be to (1) train the autoencoder on the normal data and (2) use our trained model to reconstruct the entire dataset. We hypothesize that abnormal Electrocardiograms will have a higher reconstruction error. Recall that an autoencoder takes the input data and projects it onto a lower-dimensional space that captures only the signals in the data. The data can then be reconstructed from the lower-dimensional space. Note here that if a data point is noisy its reconstruction error (the distance between the actual point and the reconstructed one) will be large. It is this simple principle that we use to identity anomalies. \n",
    "\n",
    "\n",
    "## Lets load the ECG data "
   ],
   "metadata": {}
  },
  {
   "cell_type": "code",
   "execution_count": 1,
   "source": [
    "# libraries \n",
    "import matplotlib.pyplot as plt\n",
    "import numpy as np\n",
    "import pandas as pd\n",
    "import tensorflow as tf\n",
    "\n",
    "from sklearn.model_selection import train_test_split\n",
    "from sklearn.metrics import accuracy_score, precision_score, recall_score\n",
    "from tensorflow.keras import layers, losses\n",
    "from tensorflow.keras.datasets import fashion_mnist\n",
    "from tensorflow.keras.models import Model\n",
    "import plotly.express as px \n",
    "import plotly.graph_objects as go \n",
    "import plotly.offline as py_offline"
   ],
   "outputs": [
    {
     "output_type": "stream",
     "name": "stderr",
     "text": [
      "2021-07-01 14:47:04.153308: W tensorflow/stream_executor/platform/default/dso_loader.cc:64] Could not load dynamic library 'libcudart.so.11.0'; dlerror: libcudart.so.11.0: cannot open shared object file: No such file or directory\n2021-07-01 14:47:04.153324: I tensorflow/stream_executor/cuda/cudart_stub.cc:29] Ignore above cudart dlerror if you do not have a GPU set up on your machine.\n"
     ]
    }
   ],
   "metadata": {}
  },
  {
   "cell_type": "code",
   "execution_count": 2,
   "source": [
    "# Download the dataset\n",
    "url = 'http://storage.googleapis.com/download.tensorflow.org/data/ecg.csv'\n",
    "\n",
    "dataframe = pd.read_csv(url,header=None)\n",
    "raw_data = dataframe.values\n",
    "dataframe.head()"
   ],
   "outputs": [
    {
     "output_type": "execute_result",
     "data": {
      "text/plain": [
       "        0         1         2         3         4         5         6    \\\n",
       "0 -0.112522 -2.827204 -3.773897 -4.349751 -4.376041 -3.474986 -2.181408   \n",
       "1 -1.100878 -3.996840 -4.285843 -4.506579 -4.022377 -3.234368 -1.566126   \n",
       "2 -0.567088 -2.593450 -3.874230 -4.584095 -4.187449 -3.151462 -1.742940   \n",
       "3  0.490473 -1.914407 -3.616364 -4.318823 -4.268016 -3.881110 -2.993280   \n",
       "4  0.800232 -0.874252 -2.384761 -3.973292 -4.338224 -3.802422 -2.534510   \n",
       "\n",
       "        7         8         9    ...       131       132       133       134  \\\n",
       "0 -1.818286 -1.250522 -0.477492  ...  0.792168  0.933541  0.796958  0.578621   \n",
       "1 -0.992258 -0.754680  0.042321  ...  0.538356  0.656881  0.787490  0.724046   \n",
       "2 -1.490659 -1.183580 -0.394229  ...  0.886073  0.531452  0.311377 -0.021919   \n",
       "3 -1.671131 -1.333884 -0.965629  ...  0.350816  0.499111  0.600345  0.842069   \n",
       "4 -1.783423 -1.594450 -0.753199  ...  1.148884  0.958434  1.059025  1.371682   \n",
       "\n",
       "        135       136       137       138       139  140  \n",
       "0  0.257740  0.228077  0.123431  0.925286  0.193137  1.0  \n",
       "1  0.555784  0.476333  0.773820  1.119621 -1.436250  1.0  \n",
       "2 -0.713683 -0.532197  0.321097  0.904227 -0.421797  1.0  \n",
       "3  0.952074  0.990133  1.086798  1.403011 -0.383564  1.0  \n",
       "4  1.277392  0.960304  0.971020  1.614392  1.421456  1.0  \n",
       "\n",
       "[5 rows x 141 columns]"
      ],
      "text/html": "<div>\n<style scoped>\n    .dataframe tbody tr th:only-of-type {\n        vertical-align: middle;\n    }\n\n    .dataframe tbody tr th {\n        vertical-align: top;\n    }\n\n    .dataframe thead th {\n        text-align: right;\n    }\n</style>\n<table border=\"1\" class=\"dataframe\">\n  <thead>\n    <tr style=\"text-align: right;\">\n      <th></th>\n      <th>0</th>\n      <th>1</th>\n      <th>2</th>\n      <th>3</th>\n      <th>4</th>\n      <th>5</th>\n      <th>6</th>\n      <th>7</th>\n      <th>8</th>\n      <th>9</th>\n      <th>...</th>\n      <th>131</th>\n      <th>132</th>\n      <th>133</th>\n      <th>134</th>\n      <th>135</th>\n      <th>136</th>\n      <th>137</th>\n      <th>138</th>\n      <th>139</th>\n      <th>140</th>\n    </tr>\n  </thead>\n  <tbody>\n    <tr>\n      <th>0</th>\n      <td>-0.112522</td>\n      <td>-2.827204</td>\n      <td>-3.773897</td>\n      <td>-4.349751</td>\n      <td>-4.376041</td>\n      <td>-3.474986</td>\n      <td>-2.181408</td>\n      <td>-1.818286</td>\n      <td>-1.250522</td>\n      <td>-0.477492</td>\n      <td>...</td>\n      <td>0.792168</td>\n      <td>0.933541</td>\n      <td>0.796958</td>\n      <td>0.578621</td>\n      <td>0.257740</td>\n      <td>0.228077</td>\n      <td>0.123431</td>\n      <td>0.925286</td>\n      <td>0.193137</td>\n      <td>1.0</td>\n    </tr>\n    <tr>\n      <th>1</th>\n      <td>-1.100878</td>\n      <td>-3.996840</td>\n      <td>-4.285843</td>\n      <td>-4.506579</td>\n      <td>-4.022377</td>\n      <td>-3.234368</td>\n      <td>-1.566126</td>\n      <td>-0.992258</td>\n      <td>-0.754680</td>\n      <td>0.042321</td>\n      <td>...</td>\n      <td>0.538356</td>\n      <td>0.656881</td>\n      <td>0.787490</td>\n      <td>0.724046</td>\n      <td>0.555784</td>\n      <td>0.476333</td>\n      <td>0.773820</td>\n      <td>1.119621</td>\n      <td>-1.436250</td>\n      <td>1.0</td>\n    </tr>\n    <tr>\n      <th>2</th>\n      <td>-0.567088</td>\n      <td>-2.593450</td>\n      <td>-3.874230</td>\n      <td>-4.584095</td>\n      <td>-4.187449</td>\n      <td>-3.151462</td>\n      <td>-1.742940</td>\n      <td>-1.490659</td>\n      <td>-1.183580</td>\n      <td>-0.394229</td>\n      <td>...</td>\n      <td>0.886073</td>\n      <td>0.531452</td>\n      <td>0.311377</td>\n      <td>-0.021919</td>\n      <td>-0.713683</td>\n      <td>-0.532197</td>\n      <td>0.321097</td>\n      <td>0.904227</td>\n      <td>-0.421797</td>\n      <td>1.0</td>\n    </tr>\n    <tr>\n      <th>3</th>\n      <td>0.490473</td>\n      <td>-1.914407</td>\n      <td>-3.616364</td>\n      <td>-4.318823</td>\n      <td>-4.268016</td>\n      <td>-3.881110</td>\n      <td>-2.993280</td>\n      <td>-1.671131</td>\n      <td>-1.333884</td>\n      <td>-0.965629</td>\n      <td>...</td>\n      <td>0.350816</td>\n      <td>0.499111</td>\n      <td>0.600345</td>\n      <td>0.842069</td>\n      <td>0.952074</td>\n      <td>0.990133</td>\n      <td>1.086798</td>\n      <td>1.403011</td>\n      <td>-0.383564</td>\n      <td>1.0</td>\n    </tr>\n    <tr>\n      <th>4</th>\n      <td>0.800232</td>\n      <td>-0.874252</td>\n      <td>-2.384761</td>\n      <td>-3.973292</td>\n      <td>-4.338224</td>\n      <td>-3.802422</td>\n      <td>-2.534510</td>\n      <td>-1.783423</td>\n      <td>-1.594450</td>\n      <td>-0.753199</td>\n      <td>...</td>\n      <td>1.148884</td>\n      <td>0.958434</td>\n      <td>1.059025</td>\n      <td>1.371682</td>\n      <td>1.277392</td>\n      <td>0.960304</td>\n      <td>0.971020</td>\n      <td>1.614392</td>\n      <td>1.421456</td>\n      <td>1.0</td>\n    </tr>\n  </tbody>\n</table>\n<p>5 rows × 141 columns</p>\n</div>"
     },
     "metadata": {},
     "execution_count": 2
    }
   ],
   "metadata": {}
  },
  {
   "cell_type": "markdown",
   "source": [
    "The last column contains the labels. The other data points are the electrocardiogram data. We will also create a train and test a dataset, as well as their labels, this is what data scientists do to overcome a serious problem in data science namely `over-fitting`."
   ],
   "metadata": {}
  },
  {
   "cell_type": "code",
   "execution_count": 3,
   "source": [
    "# The last element contains the labels\n",
    "labels = raw_data[:, -1]\n",
    "\n",
    "# The other data points are the electrocadriogram data\n",
    "data = raw_data[:, 0:-1]\n",
    "\n",
    "train_data, test_data, train_labels, test_labels = train_test_split(\n",
    "    data, labels, test_size=0.2, random_state=21\n",
    ")"
   ],
   "outputs": [],
   "metadata": {}
  },
  {
   "cell_type": "markdown",
   "source": [
    "We will also normalize the data to lie between [0,1]. Note here that we do normalization because to speed up the learning and convergence of the optimizer. \n"
   ],
   "metadata": {}
  },
  {
   "cell_type": "code",
   "execution_count": 4,
   "source": [
    "min_val = tf.reduce_min(train_data)\n",
    "max_val = tf.reduce_max(train_data)\n",
    "\n",
    "train_data = (train_data - min_val) / (max_val - min_val)\n",
    "test_data = (test_data - min_val) / (max_val - min_val)\n",
    "\n",
    "train_data = tf.cast(train_data, tf.float32)\n",
    "test_data = tf.cast(test_data, tf.float32)"
   ],
   "outputs": [
    {
     "output_type": "stream",
     "name": "stderr",
     "text": [
      "2021-07-01 14:47:06.736378: I tensorflow/stream_executor/platform/default/dso_loader.cc:53] Successfully opened dynamic library libcuda.so.1\n2021-07-01 14:47:06.760692: I tensorflow/stream_executor/cuda/cuda_gpu_executor.cc:937] successful NUMA node read from SysFS had negative value (-1), but there must be at least one NUMA node, so returning NUMA node zero\n2021-07-01 14:47:06.760896: I tensorflow/core/common_runtime/gpu/gpu_device.cc:1733] Found device 0 with properties: \npciBusID: 0000:01:00.0 name: Quadro T2000 computeCapability: 7.5\ncoreClock: 1.5GHz coreCount: 16 deviceMemorySize: 3.82GiB deviceMemoryBandwidth: 104.34GiB/s\n2021-07-01 14:47:06.760960: W tensorflow/stream_executor/platform/default/dso_loader.cc:64] Could not load dynamic library 'libcudart.so.11.0'; dlerror: libcudart.so.11.0: cannot open shared object file: No such file or directory\n2021-07-01 14:47:06.761007: W tensorflow/stream_executor/platform/default/dso_loader.cc:64] Could not load dynamic library 'libcublas.so.11'; dlerror: libcublas.so.11: cannot open shared object file: No such file or directory\n2021-07-01 14:47:06.761046: W tensorflow/stream_executor/platform/default/dso_loader.cc:64] Could not load dynamic library 'libcublasLt.so.11'; dlerror: libcublasLt.so.11: cannot open shared object file: No such file or directory\n2021-07-01 14:47:06.761084: W tensorflow/stream_executor/platform/default/dso_loader.cc:64] Could not load dynamic library 'libcufft.so.10'; dlerror: libcufft.so.10: cannot open shared object file: No such file or directory\n2021-07-01 14:47:06.761121: W tensorflow/stream_executor/platform/default/dso_loader.cc:64] Could not load dynamic library 'libcurand.so.10'; dlerror: libcurand.so.10: cannot open shared object file: No such file or directory\n2021-07-01 14:47:06.761159: W tensorflow/stream_executor/platform/default/dso_loader.cc:64] Could not load dynamic library 'libcusolver.so.11'; dlerror: libcusolver.so.11: cannot open shared object file: No such file or directory\n2021-07-01 14:47:06.761195: W tensorflow/stream_executor/platform/default/dso_loader.cc:64] Could not load dynamic library 'libcusparse.so.11'; dlerror: libcusparse.so.11: cannot open shared object file: No such file or directory\n2021-07-01 14:47:06.761234: W tensorflow/stream_executor/platform/default/dso_loader.cc:64] Could not load dynamic library 'libcudnn.so.8'; dlerror: libcudnn.so.8: cannot open shared object file: No such file or directory\n2021-07-01 14:47:06.761244: W tensorflow/core/common_runtime/gpu/gpu_device.cc:1766] Cannot dlopen some GPU libraries. Please make sure the missing libraries mentioned above are installed properly if you would like to use GPU. Follow the guide at https://www.tensorflow.org/install/gpu for how to download and setup the required libraries for your platform.\nSkipping registering GPU devices...\n2021-07-01 14:47:06.762164: I tensorflow/core/platform/cpu_feature_guard.cc:142] This TensorFlow binary is optimized with oneAPI Deep Neural Network Library (oneDNN) to use the following CPU instructions in performance-critical operations:  AVX2 FMA\nTo enable them in other operations, rebuild TensorFlow with the appropriate compiler flags.\n2021-07-01 14:47:06.762529: I tensorflow/core/common_runtime/gpu/gpu_device.cc:1258] Device interconnect StreamExecutor with strength 1 edge matrix:\n2021-07-01 14:47:06.762538: I tensorflow/core/common_runtime/gpu/gpu_device.cc:1264]      \n"
     ]
    }
   ],
   "metadata": {}
  },
  {
   "cell_type": "markdown",
   "source": [
    "\n",
    "As mentioned earlier, we will only train the autoencoder on the data with normal rhythms. Electrocardiograms with normal rhythm are labeled with 1. We will separate the normal rhythm from the abnormal ones in the following chunk of code."
   ],
   "metadata": {}
  },
  {
   "cell_type": "code",
   "execution_count": 5,
   "source": [
    "train_labels = train_labels.astype(bool)\n",
    "test_labels = test_labels.astype(bool)\n",
    "\n",
    "normal_train_data = train_data[train_labels]\n",
    "normal_test_data = test_data[test_labels]\n",
    "\n",
    "abnormal_train_data = train_data[~train_labels]\n",
    "abnormal_test_data = test_data[~test_labels]"
   ],
   "outputs": [],
   "metadata": {}
  },
  {
   "cell_type": "markdown",
   "source": [
    "Let's visualize a normal and an abnormal  ECG. "
   ],
   "metadata": {}
  },
  {
   "cell_type": "code",
   "execution_count": 6,
   "source": [
    "fig = go.Figure()\n",
    "fig.add_trace(go.Scatter(x=np.arange(140), y=normal_train_data[0],name='Normal'))\n",
    "fig.add_trace(go.Scatter(x=np.arange(140), y=abnormal_train_data[10],name='Abnormal'))\n"
   ],
   "outputs": [
    {
     "output_type": "display_data",
     "data": {
      "application/vnd.plotly.v1+json": {
       "config": {
        "plotlyServerURL": "https://plot.ly"
       },
       "data": [
        {
         "name": "Normal",
         "type": "scatter",
         "x": [
          0,
          1,
          2,
          3,
          4,
          5,
          6,
          7,
          8,
          9,
          10,
          11,
          12,
          13,
          14,
          15,
          16,
          17,
          18,
          19,
          20,
          21,
          22,
          23,
          24,
          25,
          26,
          27,
          28,
          29,
          30,
          31,
          32,
          33,
          34,
          35,
          36,
          37,
          38,
          39,
          40,
          41,
          42,
          43,
          44,
          45,
          46,
          47,
          48,
          49,
          50,
          51,
          52,
          53,
          54,
          55,
          56,
          57,
          58,
          59,
          60,
          61,
          62,
          63,
          64,
          65,
          66,
          67,
          68,
          69,
          70,
          71,
          72,
          73,
          74,
          75,
          76,
          77,
          78,
          79,
          80,
          81,
          82,
          83,
          84,
          85,
          86,
          87,
          88,
          89,
          90,
          91,
          92,
          93,
          94,
          95,
          96,
          97,
          98,
          99,
          100,
          101,
          102,
          103,
          104,
          105,
          106,
          107,
          108,
          109,
          110,
          111,
          112,
          113,
          114,
          115,
          116,
          117,
          118,
          119,
          120,
          121,
          122,
          123,
          124,
          125,
          126,
          127,
          128,
          129,
          130,
          131,
          132,
          133,
          134,
          135,
          136,
          137,
          138,
          139
         ],
         "y": [
          0.5703046321868896,
          0.4656165838241577,
          0.2905811667442322,
          0.17791584134101868,
          0.09538919478654861,
          0.08467857539653778,
          0.2019510418176651,
          0.3163002133369446,
          0.33732032775878906,
          0.41424882411956787,
          0.47070595622062683,
          0.4691905081272125,
          0.4776775538921356,
          0.48004090785980225,
          0.4702724516391754,
          0.4729926884174347,
          0.479171484708786,
          0.48027467727661133,
          0.46928870677948,
          0.46106863021850586,
          0.46148037910461426,
          0.4465829133987427,
          0.45325326919555664,
          0.4561009407043457,
          0.4489617943763733,
          0.44325318932533264,
          0.4340217411518097,
          0.4430723488330841,
          0.4325052499771118,
          0.43014901876449585,
          0.41454657912254333,
          0.4120652973651886,
          0.40420278906822205,
          0.4105454385280609,
          0.4082913100719452,
          0.40342992544174194,
          0.39648476243019104,
          0.3933204412460327,
          0.39158815145492554,
          0.3960387706756592,
          0.4074695408344269,
          0.40531179308891296,
          0.41734880208969116,
          0.41624557971954346,
          0.42334118485450745,
          0.4459063708782196,
          0.4455184042453766,
          0.44474098086357117,
          0.44404327869415283,
          0.4567321836948395,
          0.4521746337413788,
          0.4532504081726074,
          0.46082931756973267,
          0.4669593572616577,
          0.4663194417953491,
          0.47432830929756165,
          0.46297091245651245,
          0.4738894999027252,
          0.4678889811038971,
          0.4673447906970978,
          0.4802667498588562,
          0.48439839482307434,
          0.48574668169021606,
          0.48985567688941956,
          0.4931734800338745,
          0.48830410838127136,
          0.49913936853408813,
          0.505709171295166,
          0.5078241229057312,
          0.5132302641868591,
          0.5211992859840393,
          0.514991819858551,
          0.519900918006897,
          0.5074853897094727,
          0.5113434195518494,
          0.5092939734458923,
          0.5073481798171997,
          0.5110538005828857,
          0.5096123814582825,
          0.4963955879211426,
          0.49456536769866943,
          0.5014910101890564,
          0.5063670873641968,
          0.5020293593406677,
          0.5007152557373047,
          0.4958237409591675,
          0.4843623638153076,
          0.4914246201515198,
          0.4825357496738434,
          0.47723883390426636,
          0.47550636529922485,
          0.47530031204223633,
          0.4876338243484497,
          0.4776129722595215,
          0.474583238363266,
          0.4757544696331024,
          0.47009119391441345,
          0.4540967047214508,
          0.46874862909317017,
          0.4767007529735565,
          0.4795878529548645,
          0.4751480519771576,
          0.47619494795799255,
          0.48561891913414,
          0.48763763904571533,
          0.4996277689933777,
          0.5284430384635925,
          0.5431970953941345,
          0.5495933294296265,
          0.5488370060920715,
          0.5231477618217468,
          0.4934438467025757,
          0.49881476163864136,
          0.5099680423736572,
          0.516133189201355,
          0.4907889664173126,
          0.4668024778366089,
          0.43299439549446106,
          0.4164400100708008,
          0.4182245135307312,
          0.43140411376953125,
          0.43214115500450134,
          0.4212411642074585,
          0.42373567819595337,
          0.42885276675224304,
          0.43089887499809265,
          0.43537637591362,
          0.4391244351863861,
          0.4371418356895447,
          0.4453428089618683,
          0.4533092975616455,
          0.48821336030960083,
          0.5786804556846619,
          0.5858615636825562,
          0.5959517955780029,
          0.5952476263046265,
          0.5700759291648865,
          0.4850423336029053,
          0.42335018515586853,
          0.4759834408760071
         ]
        },
        {
         "name": "Abnormal",
         "type": "scatter",
         "x": [
          0,
          1,
          2,
          3,
          4,
          5,
          6,
          7,
          8,
          9,
          10,
          11,
          12,
          13,
          14,
          15,
          16,
          17,
          18,
          19,
          20,
          21,
          22,
          23,
          24,
          25,
          26,
          27,
          28,
          29,
          30,
          31,
          32,
          33,
          34,
          35,
          36,
          37,
          38,
          39,
          40,
          41,
          42,
          43,
          44,
          45,
          46,
          47,
          48,
          49,
          50,
          51,
          52,
          53,
          54,
          55,
          56,
          57,
          58,
          59,
          60,
          61,
          62,
          63,
          64,
          65,
          66,
          67,
          68,
          69,
          70,
          71,
          72,
          73,
          74,
          75,
          76,
          77,
          78,
          79,
          80,
          81,
          82,
          83,
          84,
          85,
          86,
          87,
          88,
          89,
          90,
          91,
          92,
          93,
          94,
          95,
          96,
          97,
          98,
          99,
          100,
          101,
          102,
          103,
          104,
          105,
          106,
          107,
          108,
          109,
          110,
          111,
          112,
          113,
          114,
          115,
          116,
          117,
          118,
          119,
          120,
          121,
          122,
          123,
          124,
          125,
          126,
          127,
          128,
          129,
          130,
          131,
          132,
          133,
          134,
          135,
          136,
          137,
          138,
          139
         ],
         "y": [
          0.5329287052154541,
          0.42691323161125183,
          0.3145599067211151,
          0.2371739000082016,
          0.19981078803539276,
          0.21743109822273254,
          0.2518561780452728,
          0.2954537570476532,
          0.3473758399486542,
          0.3800815939903259,
          0.3923959732055664,
          0.407206654548645,
          0.44568225741386414,
          0.4751375913619995,
          0.483759343624115,
          0.47566989064216614,
          0.4684554934501648,
          0.46574896574020386,
          0.46483319997787476,
          0.4736376404762268,
          0.479197233915329,
          0.47230127453804016,
          0.4715641736984253,
          0.47323518991470337,
          0.4756664037704468,
          0.47236913442611694,
          0.4690287411212921,
          0.4677097201347351,
          0.4599353075027466,
          0.4661334753036499,
          0.4627246856689453,
          0.46366363763809204,
          0.4606701135635376,
          0.45932096242904663,
          0.457520991563797,
          0.4532535672187805,
          0.446733295917511,
          0.4478684067726135,
          0.43974071741104126,
          0.44103923439979553,
          0.438339501619339,
          0.4366229176521301,
          0.42951300740242004,
          0.4300360381603241,
          0.42419999837875366,
          0.4242825508117676,
          0.42357248067855835,
          0.4246310591697693,
          0.42515575885772705,
          0.4267626106739044,
          0.42640605568885803,
          0.42264217138290405,
          0.42632901668548584,
          0.42786073684692383,
          0.42759475111961365,
          0.43526625633239746,
          0.4472229480743408,
          0.4444811940193176,
          0.44372132420539856,
          0.45492294430732727,
          0.45955488085746765,
          0.46075913310050964,
          0.46459531784057617,
          0.47474271059036255,
          0.4805888831615448,
          0.47759559750556946,
          0.4808807373046875,
          0.4862675964832306,
          0.48406457901000977,
          0.489418625831604,
          0.49476730823516846,
          0.4897550046443939,
          0.49135324358940125,
          0.4915482997894287,
          0.49116119742393494,
          0.4948224425315857,
          0.5009164214134216,
          0.5005794167518616,
          0.5021215677261353,
          0.5005620718002319,
          0.5103944540023804,
          0.5055659413337708,
          0.49806591868400574,
          0.5113372206687927,
          0.5090336799621582,
          0.5044867396354675,
          0.5068743228912354,
          0.5040984749794006,
          0.5148007273674011,
          0.5164287090301514,
          0.524182915687561,
          0.5215707421302795,
          0.5159848928451538,
          0.5256063342094421,
          0.5236104130744934,
          0.5318549275398254,
          0.5333878397941589,
          0.5232952833175659,
          0.5311147570610046,
          0.5344234704971313,
          0.5384212136268616,
          0.5441495180130005,
          0.5390430092811584,
          0.532925546169281,
          0.5377275943756104,
          0.5385782718658447,
          0.5352274179458618,
          0.5315637588500977,
          0.5281335115432739,
          0.5307815670967102,
          0.5298353433609009,
          0.5284962058067322,
          0.5302141308784485,
          0.520867645740509,
          0.5248750448226929,
          0.5208318829536438,
          0.5216645002365112,
          0.5147979855537415,
          0.5132279396057129,
          0.5095075964927673,
          0.48747628927230835,
          0.4872313141822815,
          0.491918683052063,
          0.4869232177734375,
          0.470104455947876,
          0.46071285009384155,
          0.4496693015098572,
          0.4408409297466278,
          0.4586341381072998,
          0.444327712059021,
          0.42187783122062683,
          0.3868783414363861,
          0.34086328744888306,
          0.3116318881511688,
          0.26741787791252136,
          0.2145995795726776,
          0.21184858679771423,
          0.28825443983078003,
          0.3932759165763855,
          0.48109084367752075
         ]
        }
       ],
       "layout": {
        "template": {
         "data": {
          "bar": [
           {
            "error_x": {
             "color": "#2a3f5f"
            },
            "error_y": {
             "color": "#2a3f5f"
            },
            "marker": {
             "line": {
              "color": "#E5ECF6",
              "width": 0.5
             },
             "pattern": {
              "fillmode": "overlay",
              "size": 10,
              "solidity": 0.2
             }
            },
            "type": "bar"
           }
          ],
          "barpolar": [
           {
            "marker": {
             "line": {
              "color": "#E5ECF6",
              "width": 0.5
             },
             "pattern": {
              "fillmode": "overlay",
              "size": 10,
              "solidity": 0.2
             }
            },
            "type": "barpolar"
           }
          ],
          "carpet": [
           {
            "aaxis": {
             "endlinecolor": "#2a3f5f",
             "gridcolor": "white",
             "linecolor": "white",
             "minorgridcolor": "white",
             "startlinecolor": "#2a3f5f"
            },
            "baxis": {
             "endlinecolor": "#2a3f5f",
             "gridcolor": "white",
             "linecolor": "white",
             "minorgridcolor": "white",
             "startlinecolor": "#2a3f5f"
            },
            "type": "carpet"
           }
          ],
          "choropleth": [
           {
            "colorbar": {
             "outlinewidth": 0,
             "ticks": ""
            },
            "type": "choropleth"
           }
          ],
          "contour": [
           {
            "colorbar": {
             "outlinewidth": 0,
             "ticks": ""
            },
            "colorscale": [
             [
              0,
              "#0d0887"
             ],
             [
              0.1111111111111111,
              "#46039f"
             ],
             [
              0.2222222222222222,
              "#7201a8"
             ],
             [
              0.3333333333333333,
              "#9c179e"
             ],
             [
              0.4444444444444444,
              "#bd3786"
             ],
             [
              0.5555555555555556,
              "#d8576b"
             ],
             [
              0.6666666666666666,
              "#ed7953"
             ],
             [
              0.7777777777777778,
              "#fb9f3a"
             ],
             [
              0.8888888888888888,
              "#fdca26"
             ],
             [
              1,
              "#f0f921"
             ]
            ],
            "type": "contour"
           }
          ],
          "contourcarpet": [
           {
            "colorbar": {
             "outlinewidth": 0,
             "ticks": ""
            },
            "type": "contourcarpet"
           }
          ],
          "heatmap": [
           {
            "colorbar": {
             "outlinewidth": 0,
             "ticks": ""
            },
            "colorscale": [
             [
              0,
              "#0d0887"
             ],
             [
              0.1111111111111111,
              "#46039f"
             ],
             [
              0.2222222222222222,
              "#7201a8"
             ],
             [
              0.3333333333333333,
              "#9c179e"
             ],
             [
              0.4444444444444444,
              "#bd3786"
             ],
             [
              0.5555555555555556,
              "#d8576b"
             ],
             [
              0.6666666666666666,
              "#ed7953"
             ],
             [
              0.7777777777777778,
              "#fb9f3a"
             ],
             [
              0.8888888888888888,
              "#fdca26"
             ],
             [
              1,
              "#f0f921"
             ]
            ],
            "type": "heatmap"
           }
          ],
          "heatmapgl": [
           {
            "colorbar": {
             "outlinewidth": 0,
             "ticks": ""
            },
            "colorscale": [
             [
              0,
              "#0d0887"
             ],
             [
              0.1111111111111111,
              "#46039f"
             ],
             [
              0.2222222222222222,
              "#7201a8"
             ],
             [
              0.3333333333333333,
              "#9c179e"
             ],
             [
              0.4444444444444444,
              "#bd3786"
             ],
             [
              0.5555555555555556,
              "#d8576b"
             ],
             [
              0.6666666666666666,
              "#ed7953"
             ],
             [
              0.7777777777777778,
              "#fb9f3a"
             ],
             [
              0.8888888888888888,
              "#fdca26"
             ],
             [
              1,
              "#f0f921"
             ]
            ],
            "type": "heatmapgl"
           }
          ],
          "histogram": [
           {
            "marker": {
             "pattern": {
              "fillmode": "overlay",
              "size": 10,
              "solidity": 0.2
             }
            },
            "type": "histogram"
           }
          ],
          "histogram2d": [
           {
            "colorbar": {
             "outlinewidth": 0,
             "ticks": ""
            },
            "colorscale": [
             [
              0,
              "#0d0887"
             ],
             [
              0.1111111111111111,
              "#46039f"
             ],
             [
              0.2222222222222222,
              "#7201a8"
             ],
             [
              0.3333333333333333,
              "#9c179e"
             ],
             [
              0.4444444444444444,
              "#bd3786"
             ],
             [
              0.5555555555555556,
              "#d8576b"
             ],
             [
              0.6666666666666666,
              "#ed7953"
             ],
             [
              0.7777777777777778,
              "#fb9f3a"
             ],
             [
              0.8888888888888888,
              "#fdca26"
             ],
             [
              1,
              "#f0f921"
             ]
            ],
            "type": "histogram2d"
           }
          ],
          "histogram2dcontour": [
           {
            "colorbar": {
             "outlinewidth": 0,
             "ticks": ""
            },
            "colorscale": [
             [
              0,
              "#0d0887"
             ],
             [
              0.1111111111111111,
              "#46039f"
             ],
             [
              0.2222222222222222,
              "#7201a8"
             ],
             [
              0.3333333333333333,
              "#9c179e"
             ],
             [
              0.4444444444444444,
              "#bd3786"
             ],
             [
              0.5555555555555556,
              "#d8576b"
             ],
             [
              0.6666666666666666,
              "#ed7953"
             ],
             [
              0.7777777777777778,
              "#fb9f3a"
             ],
             [
              0.8888888888888888,
              "#fdca26"
             ],
             [
              1,
              "#f0f921"
             ]
            ],
            "type": "histogram2dcontour"
           }
          ],
          "mesh3d": [
           {
            "colorbar": {
             "outlinewidth": 0,
             "ticks": ""
            },
            "type": "mesh3d"
           }
          ],
          "parcoords": [
           {
            "line": {
             "colorbar": {
              "outlinewidth": 0,
              "ticks": ""
             }
            },
            "type": "parcoords"
           }
          ],
          "pie": [
           {
            "automargin": true,
            "type": "pie"
           }
          ],
          "scatter": [
           {
            "marker": {
             "colorbar": {
              "outlinewidth": 0,
              "ticks": ""
             }
            },
            "type": "scatter"
           }
          ],
          "scatter3d": [
           {
            "line": {
             "colorbar": {
              "outlinewidth": 0,
              "ticks": ""
             }
            },
            "marker": {
             "colorbar": {
              "outlinewidth": 0,
              "ticks": ""
             }
            },
            "type": "scatter3d"
           }
          ],
          "scattercarpet": [
           {
            "marker": {
             "colorbar": {
              "outlinewidth": 0,
              "ticks": ""
             }
            },
            "type": "scattercarpet"
           }
          ],
          "scattergeo": [
           {
            "marker": {
             "colorbar": {
              "outlinewidth": 0,
              "ticks": ""
             }
            },
            "type": "scattergeo"
           }
          ],
          "scattergl": [
           {
            "marker": {
             "colorbar": {
              "outlinewidth": 0,
              "ticks": ""
             }
            },
            "type": "scattergl"
           }
          ],
          "scattermapbox": [
           {
            "marker": {
             "colorbar": {
              "outlinewidth": 0,
              "ticks": ""
             }
            },
            "type": "scattermapbox"
           }
          ],
          "scatterpolar": [
           {
            "marker": {
             "colorbar": {
              "outlinewidth": 0,
              "ticks": ""
             }
            },
            "type": "scatterpolar"
           }
          ],
          "scatterpolargl": [
           {
            "marker": {
             "colorbar": {
              "outlinewidth": 0,
              "ticks": ""
             }
            },
            "type": "scatterpolargl"
           }
          ],
          "scatterternary": [
           {
            "marker": {
             "colorbar": {
              "outlinewidth": 0,
              "ticks": ""
             }
            },
            "type": "scatterternary"
           }
          ],
          "surface": [
           {
            "colorbar": {
             "outlinewidth": 0,
             "ticks": ""
            },
            "colorscale": [
             [
              0,
              "#0d0887"
             ],
             [
              0.1111111111111111,
              "#46039f"
             ],
             [
              0.2222222222222222,
              "#7201a8"
             ],
             [
              0.3333333333333333,
              "#9c179e"
             ],
             [
              0.4444444444444444,
              "#bd3786"
             ],
             [
              0.5555555555555556,
              "#d8576b"
             ],
             [
              0.6666666666666666,
              "#ed7953"
             ],
             [
              0.7777777777777778,
              "#fb9f3a"
             ],
             [
              0.8888888888888888,
              "#fdca26"
             ],
             [
              1,
              "#f0f921"
             ]
            ],
            "type": "surface"
           }
          ],
          "table": [
           {
            "cells": {
             "fill": {
              "color": "#EBF0F8"
             },
             "line": {
              "color": "white"
             }
            },
            "header": {
             "fill": {
              "color": "#C8D4E3"
             },
             "line": {
              "color": "white"
             }
            },
            "type": "table"
           }
          ]
         },
         "layout": {
          "annotationdefaults": {
           "arrowcolor": "#2a3f5f",
           "arrowhead": 0,
           "arrowwidth": 1
          },
          "autotypenumbers": "strict",
          "coloraxis": {
           "colorbar": {
            "outlinewidth": 0,
            "ticks": ""
           }
          },
          "colorscale": {
           "diverging": [
            [
             0,
             "#8e0152"
            ],
            [
             0.1,
             "#c51b7d"
            ],
            [
             0.2,
             "#de77ae"
            ],
            [
             0.3,
             "#f1b6da"
            ],
            [
             0.4,
             "#fde0ef"
            ],
            [
             0.5,
             "#f7f7f7"
            ],
            [
             0.6,
             "#e6f5d0"
            ],
            [
             0.7,
             "#b8e186"
            ],
            [
             0.8,
             "#7fbc41"
            ],
            [
             0.9,
             "#4d9221"
            ],
            [
             1,
             "#276419"
            ]
           ],
           "sequential": [
            [
             0,
             "#0d0887"
            ],
            [
             0.1111111111111111,
             "#46039f"
            ],
            [
             0.2222222222222222,
             "#7201a8"
            ],
            [
             0.3333333333333333,
             "#9c179e"
            ],
            [
             0.4444444444444444,
             "#bd3786"
            ],
            [
             0.5555555555555556,
             "#d8576b"
            ],
            [
             0.6666666666666666,
             "#ed7953"
            ],
            [
             0.7777777777777778,
             "#fb9f3a"
            ],
            [
             0.8888888888888888,
             "#fdca26"
            ],
            [
             1,
             "#f0f921"
            ]
           ],
           "sequentialminus": [
            [
             0,
             "#0d0887"
            ],
            [
             0.1111111111111111,
             "#46039f"
            ],
            [
             0.2222222222222222,
             "#7201a8"
            ],
            [
             0.3333333333333333,
             "#9c179e"
            ],
            [
             0.4444444444444444,
             "#bd3786"
            ],
            [
             0.5555555555555556,
             "#d8576b"
            ],
            [
             0.6666666666666666,
             "#ed7953"
            ],
            [
             0.7777777777777778,
             "#fb9f3a"
            ],
            [
             0.8888888888888888,
             "#fdca26"
            ],
            [
             1,
             "#f0f921"
            ]
           ]
          },
          "colorway": [
           "#636efa",
           "#EF553B",
           "#00cc96",
           "#ab63fa",
           "#FFA15A",
           "#19d3f3",
           "#FF6692",
           "#B6E880",
           "#FF97FF",
           "#FECB52"
          ],
          "font": {
           "color": "#2a3f5f"
          },
          "geo": {
           "bgcolor": "white",
           "lakecolor": "white",
           "landcolor": "#E5ECF6",
           "showlakes": true,
           "showland": true,
           "subunitcolor": "white"
          },
          "hoverlabel": {
           "align": "left"
          },
          "hovermode": "closest",
          "mapbox": {
           "style": "light"
          },
          "paper_bgcolor": "white",
          "plot_bgcolor": "#E5ECF6",
          "polar": {
           "angularaxis": {
            "gridcolor": "white",
            "linecolor": "white",
            "ticks": ""
           },
           "bgcolor": "#E5ECF6",
           "radialaxis": {
            "gridcolor": "white",
            "linecolor": "white",
            "ticks": ""
           }
          },
          "scene": {
           "xaxis": {
            "backgroundcolor": "#E5ECF6",
            "gridcolor": "white",
            "gridwidth": 2,
            "linecolor": "white",
            "showbackground": true,
            "ticks": "",
            "zerolinecolor": "white"
           },
           "yaxis": {
            "backgroundcolor": "#E5ECF6",
            "gridcolor": "white",
            "gridwidth": 2,
            "linecolor": "white",
            "showbackground": true,
            "ticks": "",
            "zerolinecolor": "white"
           },
           "zaxis": {
            "backgroundcolor": "#E5ECF6",
            "gridcolor": "white",
            "gridwidth": 2,
            "linecolor": "white",
            "showbackground": true,
            "ticks": "",
            "zerolinecolor": "white"
           }
          },
          "shapedefaults": {
           "line": {
            "color": "#2a3f5f"
           }
          },
          "ternary": {
           "aaxis": {
            "gridcolor": "white",
            "linecolor": "white",
            "ticks": ""
           },
           "baxis": {
            "gridcolor": "white",
            "linecolor": "white",
            "ticks": ""
           },
           "bgcolor": "#E5ECF6",
           "caxis": {
            "gridcolor": "white",
            "linecolor": "white",
            "ticks": ""
           }
          },
          "title": {
           "x": 0.05
          },
          "xaxis": {
           "automargin": true,
           "gridcolor": "white",
           "linecolor": "white",
           "ticks": "",
           "title": {
            "standoff": 15
           },
           "zerolinecolor": "white",
           "zerolinewidth": 2
          },
          "yaxis": {
           "automargin": true,
           "gridcolor": "white",
           "linecolor": "white",
           "ticks": "",
           "title": {
            "standoff": 15
           },
           "zerolinecolor": "white",
           "zerolinewidth": 2
          }
         }
        }
       }
      }
     },
     "metadata": {}
    }
   ],
   "metadata": {}
  },
  {
   "cell_type": "code",
   "execution_count": 18,
   "source": [
    "fig = go.Figure()\n",
    "trace=go.Scatter(x=np.arange(140), y=normal_train_data[0],name='Normal')\n",
    "trace2=go.Scatter(x=np.arange(140), y=normal_train_data[0],name='Normal')\n",
    "data = [trace,trace2]\n",
    "py_offline.plot(data, filename='basic-line', include_plotlyjs=False, output_type='div')\n"
   ],
   "outputs": [
    {
     "output_type": "execute_result",
     "data": {
      "text/plain": [
       "'<div>                            <div id=\"ff64409b-bce8-4f84-bf69-e418a91727bf\" class=\"plotly-graph-div\" style=\"height:100%; width:100%;\"></div>            <script type=\"text/javascript\">                                    window.PLOTLYENV=window.PLOTLYENV || {};                                    if (document.getElementById(\"ff64409b-bce8-4f84-bf69-e418a91727bf\")) {                    Plotly.newPlot(                        \"ff64409b-bce8-4f84-bf69-e418a91727bf\",                        [{\"name\":\"Normal\",\"type\":\"scatter\",\"x\":[0,1,2,3,4,5,6,7,8,9,10,11,12,13,14,15,16,17,18,19,20,21,22,23,24,25,26,27,28,29,30,31,32,33,34,35,36,37,38,39,40,41,42,43,44,45,46,47,48,49,50,51,52,53,54,55,56,57,58,59,60,61,62,63,64,65,66,67,68,69,70,71,72,73,74,75,76,77,78,79,80,81,82,83,84,85,86,87,88,89,90,91,92,93,94,95,96,97,98,99,100,101,102,103,104,105,106,107,108,109,110,111,112,113,114,115,116,117,118,119,120,121,122,123,124,125,126,127,128,129,130,131,132,133,134,135,136,137,138,139],\"y\":[0.5703046321868896,0.4656165838241577,0.2905811667442322,0.17791584134101868,0.09538919478654861,0.08467857539653778,0.2019510418176651,0.3163002133369446,0.33732032775878906,0.41424882411956787,0.47070595622062683,0.4691905081272125,0.4776775538921356,0.48004090785980225,0.4702724516391754,0.4729926884174347,0.479171484708786,0.48027467727661133,0.46928870677948,0.46106863021850586,0.46148037910461426,0.4465829133987427,0.45325326919555664,0.4561009407043457,0.4489617943763733,0.44325318932533264,0.4340217411518097,0.4430723488330841,0.4325052499771118,0.43014901876449585,0.41454657912254333,0.4120652973651886,0.40420278906822205,0.4105454385280609,0.4082913100719452,0.40342992544174194,0.39648476243019104,0.3933204412460327,0.39158815145492554,0.3960387706756592,0.4074695408344269,0.40531179308891296,0.41734880208969116,0.41624557971954346,0.42334118485450745,0.4459063708782196,0.4455184042453766,0.44474098086357117,0.44404327869415283,0.4567321836948395,0.4521746337413788,0.4532504081726074,0.46082931756973267,0.4669593572616577,0.4663194417953491,0.47432830929756165,0.46297091245651245,0.4738894999027252,0.4678889811038971,0.4673447906970978,0.4802667498588562,0.48439839482307434,0.48574668169021606,0.48985567688941956,0.4931734800338745,0.48830410838127136,0.49913936853408813,0.505709171295166,0.5078241229057312,0.5132302641868591,0.5211992859840393,0.514991819858551,0.519900918006897,0.5074853897094727,0.5113434195518494,0.5092939734458923,0.5073481798171997,0.5110538005828857,0.5096123814582825,0.4963955879211426,0.49456536769866943,0.5014910101890564,0.5063670873641968,0.5020293593406677,0.5007152557373047,0.4958237409591675,0.4843623638153076,0.4914246201515198,0.4825357496738434,0.47723883390426636,0.47550636529922485,0.47530031204223633,0.4876338243484497,0.4776129722595215,0.474583238363266,0.4757544696331024,0.47009119391441345,0.4540967047214508,0.46874862909317017,0.4767007529735565,0.4795878529548645,0.4751480519771576,0.47619494795799255,0.48561891913414,0.48763763904571533,0.4996277689933777,0.5284430384635925,0.5431970953941345,0.5495933294296265,0.5488370060920715,0.5231477618217468,0.4934438467025757,0.49881476163864136,0.5099680423736572,0.516133189201355,0.4907889664173126,0.4668024778366089,0.43299439549446106,0.4164400100708008,0.4182245135307312,0.43140411376953125,0.43214115500450134,0.4212411642074585,0.42373567819595337,0.42885276675224304,0.43089887499809265,0.43537637591362,0.4391244351863861,0.4371418356895447,0.4453428089618683,0.4533092975616455,0.48821336030960083,0.5786804556846619,0.5858615636825562,0.5959517955780029,0.5952476263046265,0.5700759291648865,0.4850423336029053,0.42335018515586853,0.4759834408760071]},{\"name\":\"Normal\",\"type\":\"scatter\",\"x\":[0,1,2,3,4,5,6,7,8,9,10,11,12,13,14,15,16,17,18,19,20,21,22,23,24,25,26,27,28,29,30,31,32,33,34,35,36,37,38,39,40,41,42,43,44,45,46,47,48,49,50,51,52,53,54,55,56,57,58,59,60,61,62,63,64,65,66,67,68,69,70,71,72,73,74,75,76,77,78,79,80,81,82,83,84,85,86,87,88,89,90,91,92,93,94,95,96,97,98,99,100,101,102,103,104,105,106,107,108,109,110,111,112,113,114,115,116,117,118,119,120,121,122,123,124,125,126,127,128,129,130,131,132,133,134,135,136,137,138,139],\"y\":[0.5703046321868896,0.4656165838241577,0.2905811667442322,0.17791584134101868,0.09538919478654861,0.08467857539653778,0.2019510418176651,0.3163002133369446,0.33732032775878906,0.41424882411956787,0.47070595622062683,0.4691905081272125,0.4776775538921356,0.48004090785980225,0.4702724516391754,0.4729926884174347,0.479171484708786,0.48027467727661133,0.46928870677948,0.46106863021850586,0.46148037910461426,0.4465829133987427,0.45325326919555664,0.4561009407043457,0.4489617943763733,0.44325318932533264,0.4340217411518097,0.4430723488330841,0.4325052499771118,0.43014901876449585,0.41454657912254333,0.4120652973651886,0.40420278906822205,0.4105454385280609,0.4082913100719452,0.40342992544174194,0.39648476243019104,0.3933204412460327,0.39158815145492554,0.3960387706756592,0.4074695408344269,0.40531179308891296,0.41734880208969116,0.41624557971954346,0.42334118485450745,0.4459063708782196,0.4455184042453766,0.44474098086357117,0.44404327869415283,0.4567321836948395,0.4521746337413788,0.4532504081726074,0.46082931756973267,0.4669593572616577,0.4663194417953491,0.47432830929756165,0.46297091245651245,0.4738894999027252,0.4678889811038971,0.4673447906970978,0.4802667498588562,0.48439839482307434,0.48574668169021606,0.48985567688941956,0.4931734800338745,0.48830410838127136,0.49913936853408813,0.505709171295166,0.5078241229057312,0.5132302641868591,0.5211992859840393,0.514991819858551,0.519900918006897,0.5074853897094727,0.5113434195518494,0.5092939734458923,0.5073481798171997,0.5110538005828857,0.5096123814582825,0.4963955879211426,0.49456536769866943,0.5014910101890564,0.5063670873641968,0.5020293593406677,0.5007152557373047,0.4958237409591675,0.4843623638153076,0.4914246201515198,0.4825357496738434,0.47723883390426636,0.47550636529922485,0.47530031204223633,0.4876338243484497,0.4776129722595215,0.474583238363266,0.4757544696331024,0.47009119391441345,0.4540967047214508,0.46874862909317017,0.4767007529735565,0.4795878529548645,0.4751480519771576,0.47619494795799255,0.48561891913414,0.48763763904571533,0.4996277689933777,0.5284430384635925,0.5431970953941345,0.5495933294296265,0.5488370060920715,0.5231477618217468,0.4934438467025757,0.49881476163864136,0.5099680423736572,0.516133189201355,0.4907889664173126,0.4668024778366089,0.43299439549446106,0.4164400100708008,0.4182245135307312,0.43140411376953125,0.43214115500450134,0.4212411642074585,0.42373567819595337,0.42885276675224304,0.43089887499809265,0.43537637591362,0.4391244351863861,0.4371418356895447,0.4453428089618683,0.4533092975616455,0.48821336030960083,0.5786804556846619,0.5858615636825562,0.5959517955780029,0.5952476263046265,0.5700759291648865,0.4850423336029053,0.42335018515586853,0.4759834408760071]}],                        {\"template\":{\"data\":{\"bar\":[{\"error_x\":{\"color\":\"#2a3f5f\"},\"error_y\":{\"color\":\"#2a3f5f\"},\"marker\":{\"line\":{\"color\":\"#E5ECF6\",\"width\":0.5},\"pattern\":{\"fillmode\":\"overlay\",\"size\":10,\"solidity\":0.2}},\"type\":\"bar\"}],\"barpolar\":[{\"marker\":{\"line\":{\"color\":\"#E5ECF6\",\"width\":0.5},\"pattern\":{\"fillmode\":\"overlay\",\"size\":10,\"solidity\":0.2}},\"type\":\"barpolar\"}],\"carpet\":[{\"aaxis\":{\"endlinecolor\":\"#2a3f5f\",\"gridcolor\":\"white\",\"linecolor\":\"white\",\"minorgridcolor\":\"white\",\"startlinecolor\":\"#2a3f5f\"},\"baxis\":{\"endlinecolor\":\"#2a3f5f\",\"gridcolor\":\"white\",\"linecolor\":\"white\",\"minorgridcolor\":\"white\",\"startlinecolor\":\"#2a3f5f\"},\"type\":\"carpet\"}],\"choropleth\":[{\"colorbar\":{\"outlinewidth\":0,\"ticks\":\"\"},\"type\":\"choropleth\"}],\"contour\":[{\"colorbar\":{\"outlinewidth\":0,\"ticks\":\"\"},\"colorscale\":[[0.0,\"#0d0887\"],[0.1111111111111111,\"#46039f\"],[0.2222222222222222,\"#7201a8\"],[0.3333333333333333,\"#9c179e\"],[0.4444444444444444,\"#bd3786\"],[0.5555555555555556,\"#d8576b\"],[0.6666666666666666,\"#ed7953\"],[0.7777777777777778,\"#fb9f3a\"],[0.8888888888888888,\"#fdca26\"],[1.0,\"#f0f921\"]],\"type\":\"contour\"}],\"contourcarpet\":[{\"colorbar\":{\"outlinewidth\":0,\"ticks\":\"\"},\"type\":\"contourcarpet\"}],\"heatmap\":[{\"colorbar\":{\"outlinewidth\":0,\"ticks\":\"\"},\"colorscale\":[[0.0,\"#0d0887\"],[0.1111111111111111,\"#46039f\"],[0.2222222222222222,\"#7201a8\"],[0.3333333333333333,\"#9c179e\"],[0.4444444444444444,\"#bd3786\"],[0.5555555555555556,\"#d8576b\"],[0.6666666666666666,\"#ed7953\"],[0.7777777777777778,\"#fb9f3a\"],[0.8888888888888888,\"#fdca26\"],[1.0,\"#f0f921\"]],\"type\":\"heatmap\"}],\"heatmapgl\":[{\"colorbar\":{\"outlinewidth\":0,\"ticks\":\"\"},\"colorscale\":[[0.0,\"#0d0887\"],[0.1111111111111111,\"#46039f\"],[0.2222222222222222,\"#7201a8\"],[0.3333333333333333,\"#9c179e\"],[0.4444444444444444,\"#bd3786\"],[0.5555555555555556,\"#d8576b\"],[0.6666666666666666,\"#ed7953\"],[0.7777777777777778,\"#fb9f3a\"],[0.8888888888888888,\"#fdca26\"],[1.0,\"#f0f921\"]],\"type\":\"heatmapgl\"}],\"histogram\":[{\"marker\":{\"pattern\":{\"fillmode\":\"overlay\",\"size\":10,\"solidity\":0.2}},\"type\":\"histogram\"}],\"histogram2d\":[{\"colorbar\":{\"outlinewidth\":0,\"ticks\":\"\"},\"colorscale\":[[0.0,\"#0d0887\"],[0.1111111111111111,\"#46039f\"],[0.2222222222222222,\"#7201a8\"],[0.3333333333333333,\"#9c179e\"],[0.4444444444444444,\"#bd3786\"],[0.5555555555555556,\"#d8576b\"],[0.6666666666666666,\"#ed7953\"],[0.7777777777777778,\"#fb9f3a\"],[0.8888888888888888,\"#fdca26\"],[1.0,\"#f0f921\"]],\"type\":\"histogram2d\"}],\"histogram2dcontour\":[{\"colorbar\":{\"outlinewidth\":0,\"ticks\":\"\"},\"colorscale\":[[0.0,\"#0d0887\"],[0.1111111111111111,\"#46039f\"],[0.2222222222222222,\"#7201a8\"],[0.3333333333333333,\"#9c179e\"],[0.4444444444444444,\"#bd3786\"],[0.5555555555555556,\"#d8576b\"],[0.6666666666666666,\"#ed7953\"],[0.7777777777777778,\"#fb9f3a\"],[0.8888888888888888,\"#fdca26\"],[1.0,\"#f0f921\"]],\"type\":\"histogram2dcontour\"}],\"mesh3d\":[{\"colorbar\":{\"outlinewidth\":0,\"ticks\":\"\"},\"type\":\"mesh3d\"}],\"parcoords\":[{\"line\":{\"colorbar\":{\"outlinewidth\":0,\"ticks\":\"\"}},\"type\":\"parcoords\"}],\"pie\":[{\"automargin\":true,\"type\":\"pie\"}],\"scatter\":[{\"marker\":{\"colorbar\":{\"outlinewidth\":0,\"ticks\":\"\"}},\"type\":\"scatter\"}],\"scatter3d\":[{\"line\":{\"colorbar\":{\"outlinewidth\":0,\"ticks\":\"\"}},\"marker\":{\"colorbar\":{\"outlinewidth\":0,\"ticks\":\"\"}},\"type\":\"scatter3d\"}],\"scattercarpet\":[{\"marker\":{\"colorbar\":{\"outlinewidth\":0,\"ticks\":\"\"}},\"type\":\"scattercarpet\"}],\"scattergeo\":[{\"marker\":{\"colorbar\":{\"outlinewidth\":0,\"ticks\":\"\"}},\"type\":\"scattergeo\"}],\"scattergl\":[{\"marker\":{\"colorbar\":{\"outlinewidth\":0,\"ticks\":\"\"}},\"type\":\"scattergl\"}],\"scattermapbox\":[{\"marker\":{\"colorbar\":{\"outlinewidth\":0,\"ticks\":\"\"}},\"type\":\"scattermapbox\"}],\"scatterpolar\":[{\"marker\":{\"colorbar\":{\"outlinewidth\":0,\"ticks\":\"\"}},\"type\":\"scatterpolar\"}],\"scatterpolargl\":[{\"marker\":{\"colorbar\":{\"outlinewidth\":0,\"ticks\":\"\"}},\"type\":\"scatterpolargl\"}],\"scatterternary\":[{\"marker\":{\"colorbar\":{\"outlinewidth\":0,\"ticks\":\"\"}},\"type\":\"scatterternary\"}],\"surface\":[{\"colorbar\":{\"outlinewidth\":0,\"ticks\":\"\"},\"colorscale\":[[0.0,\"#0d0887\"],[0.1111111111111111,\"#46039f\"],[0.2222222222222222,\"#7201a8\"],[0.3333333333333333,\"#9c179e\"],[0.4444444444444444,\"#bd3786\"],[0.5555555555555556,\"#d8576b\"],[0.6666666666666666,\"#ed7953\"],[0.7777777777777778,\"#fb9f3a\"],[0.8888888888888888,\"#fdca26\"],[1.0,\"#f0f921\"]],\"type\":\"surface\"}],\"table\":[{\"cells\":{\"fill\":{\"color\":\"#EBF0F8\"},\"line\":{\"color\":\"white\"}},\"header\":{\"fill\":{\"color\":\"#C8D4E3\"},\"line\":{\"color\":\"white\"}},\"type\":\"table\"}]},\"layout\":{\"annotationdefaults\":{\"arrowcolor\":\"#2a3f5f\",\"arrowhead\":0,\"arrowwidth\":1},\"autotypenumbers\":\"strict\",\"coloraxis\":{\"colorbar\":{\"outlinewidth\":0,\"ticks\":\"\"}},\"colorscale\":{\"diverging\":[[0,\"#8e0152\"],[0.1,\"#c51b7d\"],[0.2,\"#de77ae\"],[0.3,\"#f1b6da\"],[0.4,\"#fde0ef\"],[0.5,\"#f7f7f7\"],[0.6,\"#e6f5d0\"],[0.7,\"#b8e186\"],[0.8,\"#7fbc41\"],[0.9,\"#4d9221\"],[1,\"#276419\"]],\"sequential\":[[0.0,\"#0d0887\"],[0.1111111111111111,\"#46039f\"],[0.2222222222222222,\"#7201a8\"],[0.3333333333333333,\"#9c179e\"],[0.4444444444444444,\"#bd3786\"],[0.5555555555555556,\"#d8576b\"],[0.6666666666666666,\"#ed7953\"],[0.7777777777777778,\"#fb9f3a\"],[0.8888888888888888,\"#fdca26\"],[1.0,\"#f0f921\"]],\"sequentialminus\":[[0.0,\"#0d0887\"],[0.1111111111111111,\"#46039f\"],[0.2222222222222222,\"#7201a8\"],[0.3333333333333333,\"#9c179e\"],[0.4444444444444444,\"#bd3786\"],[0.5555555555555556,\"#d8576b\"],[0.6666666666666666,\"#ed7953\"],[0.7777777777777778,\"#fb9f3a\"],[0.8888888888888888,\"#fdca26\"],[1.0,\"#f0f921\"]]},\"colorway\":[\"#636efa\",\"#EF553B\",\"#00cc96\",\"#ab63fa\",\"#FFA15A\",\"#19d3f3\",\"#FF6692\",\"#B6E880\",\"#FF97FF\",\"#FECB52\"],\"font\":{\"color\":\"#2a3f5f\"},\"geo\":{\"bgcolor\":\"white\",\"lakecolor\":\"white\",\"landcolor\":\"#E5ECF6\",\"showlakes\":true,\"showland\":true,\"subunitcolor\":\"white\"},\"hoverlabel\":{\"align\":\"left\"},\"hovermode\":\"closest\",\"mapbox\":{\"style\":\"light\"},\"paper_bgcolor\":\"white\",\"plot_bgcolor\":\"#E5ECF6\",\"polar\":{\"angularaxis\":{\"gridcolor\":\"white\",\"linecolor\":\"white\",\"ticks\":\"\"},\"bgcolor\":\"#E5ECF6\",\"radialaxis\":{\"gridcolor\":\"white\",\"linecolor\":\"white\",\"ticks\":\"\"}},\"scene\":{\"xaxis\":{\"backgroundcolor\":\"#E5ECF6\",\"gridcolor\":\"white\",\"gridwidth\":2,\"linecolor\":\"white\",\"showbackground\":true,\"ticks\":\"\",\"zerolinecolor\":\"white\"},\"yaxis\":{\"backgroundcolor\":\"#E5ECF6\",\"gridcolor\":\"white\",\"gridwidth\":2,\"linecolor\":\"white\",\"showbackground\":true,\"ticks\":\"\",\"zerolinecolor\":\"white\"},\"zaxis\":{\"backgroundcolor\":\"#E5ECF6\",\"gridcolor\":\"white\",\"gridwidth\":2,\"linecolor\":\"white\",\"showbackground\":true,\"ticks\":\"\",\"zerolinecolor\":\"white\"}},\"shapedefaults\":{\"line\":{\"color\":\"#2a3f5f\"}},\"ternary\":{\"aaxis\":{\"gridcolor\":\"white\",\"linecolor\":\"white\",\"ticks\":\"\"},\"baxis\":{\"gridcolor\":\"white\",\"linecolor\":\"white\",\"ticks\":\"\"},\"bgcolor\":\"#E5ECF6\",\"caxis\":{\"gridcolor\":\"white\",\"linecolor\":\"white\",\"ticks\":\"\"}},\"title\":{\"x\":0.05},\"xaxis\":{\"automargin\":true,\"gridcolor\":\"white\",\"linecolor\":\"white\",\"ticks\":\"\",\"title\":{\"standoff\":15},\"zerolinecolor\":\"white\",\"zerolinewidth\":2},\"yaxis\":{\"automargin\":true,\"gridcolor\":\"white\",\"linecolor\":\"white\",\"ticks\":\"\",\"title\":{\"standoff\":15},\"zerolinecolor\":\"white\",\"zerolinewidth\":2}}}},                        {\"responsive\": true}                    )                };                            </script>        </div>'"
      ]
     },
     "metadata": {},
     "execution_count": 18
    }
   ],
   "metadata": {}
  },
  {
   "cell_type": "markdown",
   "source": [
    "Observe that there is a huge discrepancy between the normal and abnormal graphs for large values on the x-axis. We will now build an autoencoder that will encode the normal data.\n",
    "\n",
    "Build the model. Here we will use `Kera`'s sequential API, with three dense layers for the encoder and three dense layers for the decoder. We will create an `AnormlyDectector` class that inherits from the `Model` class. "
   ],
   "metadata": {}
  },
  {
   "cell_type": "code",
   "execution_count": 8,
   "source": [
    "class AnomalyDetector(Model):\n",
    "  def __init__(self):\n",
    "    super(AnomalyDetector, self).__init__()\n",
    "    self.encoder = tf.keras.Sequential([\n",
    "      layers.Dense(32, activation=\"relu\"),\n",
    "      layers.Dense(16, activation=\"relu\"),\n",
    "      layers.Dense(8, activation=\"relu\")])\n",
    "\n",
    "    self.decoder = tf.keras.Sequential([\n",
    "      layers.Dense(16, activation=\"relu\"),\n",
    "      layers.Dense(32, activation=\"relu\"),\n",
    "      layers.Dense(140, activation=\"sigmoid\")])\n",
    "\n",
    "  def call(self, x):\n",
    "    encoded = self.encoder(x)\n",
    "    decoded = self.decoder(encoded)\n",
    "    return decoded\n",
    "\n",
    "autoencoder = AnomalyDetector()"
   ],
   "outputs": [],
   "metadata": {}
  },
  {
   "cell_type": "markdown",
   "source": [
    "Note that the call method in the `AnormalyDetector` class combines the `encoder` and `decoder` and returns the `decoder` object. Let's `compile`, compilation here will mean we will update our `autoencoder` object with an `optimizer` and a `loss` function. We are using the mean absolute error loss defined as:\n",
    "\n",
    "$$\n",
    "\\text{mae} = \\frac{1}{n}\\sum_{i=1}^n{|y_i-\\hat{y}_i|}.\n",
    "$$\n",
    "\n",
    "Where in this simple formular, we have $n$ data points $i = 1,2,...,n$, $y_i$ refers to the actual (true/observed) data point and $\\hat{y}_i$ is its estimate. In our use case, $y_i$ is the actual ECG and $\\hat{y}_i$ will be its reconstructed version."
   ],
   "metadata": {}
  },
  {
   "cell_type": "code",
   "execution_count": 9,
   "source": [
    "autoencoder.compile(optimizer='adam', loss='mae')"
   ],
   "outputs": [],
   "metadata": {}
  },
  {
   "cell_type": "markdown",
   "source": [
    "We now train the `autoencoder` by calling its fit method using only the normal rhythm ECG."
   ],
   "metadata": {}
  },
  {
   "cell_type": "code",
   "execution_count": 10,
   "source": [
    "history = autoencoder.fit(normal_train_data, normal_train_data, \n",
    "          epochs=40, \n",
    "          batch_size=1024,\n",
    "          validation_data=(test_data, test_data),\n",
    "          shuffle=True)"
   ],
   "outputs": [
    {
     "output_type": "stream",
     "name": "stderr",
     "text": [
      "2021-07-01 14:47:07.260279: I tensorflow/compiler/mlir/mlir_graph_optimization_pass.cc:176] None of the MLIR Optimization Passes are enabled (registered 2)\n",
      "2021-07-01 14:47:07.261000: I tensorflow/core/platform/profile_utils/cpu_utils.cc:114] CPU Frequency: 2299965000 Hz\n",
      "Epoch 1/40\n",
      "3/3 [==============================] - 0s 49ms/step - loss: 0.0595 - val_loss: 0.0544\n",
      "Epoch 2/40\n",
      "3/3 [==============================] - 0s 10ms/step - loss: 0.0577 - val_loss: 0.0536\n",
      "Epoch 3/40\n",
      "3/3 [==============================] - 0s 12ms/step - loss: 0.0567 - val_loss: 0.0528\n",
      "Epoch 4/40\n",
      "3/3 [==============================] - 0s 8ms/step - loss: 0.0557 - val_loss: 0.0520\n",
      "Epoch 5/40\n",
      "3/3 [==============================] - 0s 8ms/step - loss: 0.0544 - val_loss: 0.0512\n",
      "Epoch 6/40\n",
      "3/3 [==============================] - 0s 11ms/step - loss: 0.0527 - val_loss: 0.0503\n",
      "Epoch 7/40\n",
      "3/3 [==============================] - 0s 8ms/step - loss: 0.0509 - val_loss: 0.0493\n",
      "Epoch 8/40\n",
      "3/3 [==============================] - 0s 10ms/step - loss: 0.0490 - val_loss: 0.0482\n",
      "Epoch 9/40\n",
      "3/3 [==============================] - 0s 8ms/step - loss: 0.0470 - val_loss: 0.0470\n",
      "Epoch 10/40\n",
      "3/3 [==============================] - 0s 10ms/step - loss: 0.0449 - val_loss: 0.0459\n",
      "Epoch 11/40\n",
      "3/3 [==============================] - 0s 10ms/step - loss: 0.0427 - val_loss: 0.0449\n",
      "Epoch 12/40\n",
      "3/3 [==============================] - 0s 8ms/step - loss: 0.0405 - val_loss: 0.0437\n",
      "Epoch 13/40\n",
      "3/3 [==============================] - 0s 9ms/step - loss: 0.0384 - val_loss: 0.0426\n",
      "Epoch 14/40\n",
      "3/3 [==============================] - 0s 9ms/step - loss: 0.0364 - val_loss: 0.0418\n",
      "Epoch 15/40\n",
      "3/3 [==============================] - 0s 8ms/step - loss: 0.0346 - val_loss: 0.0411\n",
      "Epoch 16/40\n",
      "3/3 [==============================] - 0s 9ms/step - loss: 0.0330 - val_loss: 0.0403\n",
      "Epoch 17/40\n",
      "3/3 [==============================] - 0s 9ms/step - loss: 0.0315 - val_loss: 0.0397\n",
      "Epoch 18/40\n",
      "3/3 [==============================] - 0s 9ms/step - loss: 0.0302 - val_loss: 0.0392\n",
      "Epoch 19/40\n",
      "3/3 [==============================] - 0s 8ms/step - loss: 0.0291 - val_loss: 0.0387\n",
      "Epoch 20/40\n",
      "3/3 [==============================] - 0s 9ms/step - loss: 0.0282 - val_loss: 0.0383\n",
      "Epoch 21/40\n",
      "3/3 [==============================] - 0s 9ms/step - loss: 0.0275 - val_loss: 0.0380\n",
      "Epoch 22/40\n",
      "3/3 [==============================] - 0s 9ms/step - loss: 0.0268 - val_loss: 0.0375\n",
      "Epoch 23/40\n",
      "3/3 [==============================] - 0s 9ms/step - loss: 0.0263 - val_loss: 0.0371\n",
      "Epoch 24/40\n",
      "3/3 [==============================] - 0s 10ms/step - loss: 0.0258 - val_loss: 0.0368\n",
      "Epoch 25/40\n",
      "3/3 [==============================] - 0s 12ms/step - loss: 0.0253 - val_loss: 0.0362\n",
      "Epoch 26/40\n",
      "3/3 [==============================] - 0s 10ms/step - loss: 0.0248 - val_loss: 0.0361\n",
      "Epoch 27/40\n",
      "3/3 [==============================] - 0s 8ms/step - loss: 0.0244 - val_loss: 0.0354\n",
      "Epoch 28/40\n",
      "3/3 [==============================] - 0s 8ms/step - loss: 0.0240 - val_loss: 0.0353\n",
      "Epoch 29/40\n",
      "3/3 [==============================] - 0s 17ms/step - loss: 0.0236 - val_loss: 0.0349\n",
      "Epoch 30/40\n",
      "3/3 [==============================] - 0s 8ms/step - loss: 0.0232 - val_loss: 0.0349\n",
      "Epoch 31/40\n",
      "3/3 [==============================] - 0s 8ms/step - loss: 0.0228 - val_loss: 0.0344\n",
      "Epoch 32/40\n",
      "3/3 [==============================] - 0s 9ms/step - loss: 0.0224 - val_loss: 0.0340\n",
      "Epoch 33/40\n",
      "3/3 [==============================] - 0s 11ms/step - loss: 0.0221 - val_loss: 0.0339\n",
      "Epoch 34/40\n",
      "3/3 [==============================] - 0s 8ms/step - loss: 0.0218 - val_loss: 0.0337\n",
      "Epoch 35/40\n",
      "3/3 [==============================] - 0s 8ms/step - loss: 0.0216 - val_loss: 0.0334\n",
      "Epoch 36/40\n",
      "3/3 [==============================] - 0s 9ms/step - loss: 0.0214 - val_loss: 0.0331\n",
      "Epoch 37/40\n",
      "3/3 [==============================] - 0s 9ms/step - loss: 0.0212 - val_loss: 0.0330\n",
      "Epoch 38/40\n",
      "3/3 [==============================] - 0s 9ms/step - loss: 0.0209 - val_loss: 0.0330\n",
      "Epoch 39/40\n",
      "3/3 [==============================] - 0s 10ms/step - loss: 0.0207 - val_loss: 0.0329\n",
      "Epoch 40/40\n",
      "3/3 [==============================] - 0s 8ms/step - loss: 0.0205 - val_loss: 0.0328\n"
     ]
    }
   ],
   "metadata": {}
  },
  {
   "cell_type": "markdown",
   "source": [
    "Note that although, the training is done on the normal rythm ECG, the validation is done on the entire test dataset. "
   ],
   "metadata": {}
  },
  {
   "cell_type": "code",
   "execution_count": 11,
   "source": [
    "fig = go.Figure()\n",
    "fig.add_trace(go.Scatter(y=history.history[\"loss\"],name='Training loss'))\n",
    "fig.add_trace(go.Scatter(y=history.history[\"val_loss\"],name=\"Validation Loss\"))"
   ],
   "outputs": [
    {
     "output_type": "display_data",
     "data": {
      "application/vnd.plotly.v1+json": {
       "config": {
        "plotlyServerURL": "https://plot.ly"
       },
       "data": [
        {
         "name": "Training loss",
         "type": "scatter",
         "y": [
          0.059492163360118866,
          0.05770142376422882,
          0.05670563131570816,
          0.055700816214084625,
          0.05436696857213974,
          0.05271061137318611,
          0.050924062728881836,
          0.048994094133377075,
          0.046993356198072433,
          0.04487520083785057,
          0.04270752891898155,
          0.04054814204573631,
          0.03841165080666542,
          0.0364094041287899,
          0.034602824598550797,
          0.03296608105301857,
          0.03147389367222786,
          0.03016735427081585,
          0.029089177027344704,
          0.028211010619997978,
          0.027474623173475266,
          0.026831412687897682,
          0.026263520121574402,
          0.025750158354640007,
          0.025277694687247276,
          0.02484435774385929,
          0.024431262165308,
          0.024013500660657883,
          0.02359037660062313,
          0.023200996220111847,
          0.022800544276833534,
          0.022427886724472046,
          0.022117827087640762,
          0.02183770015835762,
          0.021592000499367714,
          0.02136896550655365,
          0.02116197533905506,
          0.020939884707331657,
          0.02072783000767231,
          0.02054147608578205
         ]
        },
        {
         "name": "Validation Loss",
         "type": "scatter",
         "y": [
          0.05441942438483238,
          0.05358778312802315,
          0.052773408591747284,
          0.051996588706970215,
          0.051180507987737656,
          0.0502612367272377,
          0.04929184168577194,
          0.048233762383461,
          0.04702829197049141,
          0.04587681218981743,
          0.04491737112402916,
          0.043740175664424896,
          0.042598091065883636,
          0.041771989315748215,
          0.04106771573424339,
          0.040343429893255234,
          0.039738696068525314,
          0.03915810212492943,
          0.038692597299814224,
          0.03831857815384865,
          0.03796074539422989,
          0.03753464296460152,
          0.03714833781123161,
          0.036770302802324295,
          0.036225706338882446,
          0.03608369827270508,
          0.03544577583670616,
          0.0353194884955883,
          0.0348542183637619,
          0.034856975078582764,
          0.0344320572912693,
          0.03399323299527168,
          0.03387658670544624,
          0.033701423555612564,
          0.03336628898978233,
          0.033135320991277695,
          0.03303205221891403,
          0.03303409740328789,
          0.032911546528339386,
          0.03282078728079796
         ]
        }
       ],
       "layout": {
        "template": {
         "data": {
          "bar": [
           {
            "error_x": {
             "color": "#2a3f5f"
            },
            "error_y": {
             "color": "#2a3f5f"
            },
            "marker": {
             "line": {
              "color": "#E5ECF6",
              "width": 0.5
             },
             "pattern": {
              "fillmode": "overlay",
              "size": 10,
              "solidity": 0.2
             }
            },
            "type": "bar"
           }
          ],
          "barpolar": [
           {
            "marker": {
             "line": {
              "color": "#E5ECF6",
              "width": 0.5
             },
             "pattern": {
              "fillmode": "overlay",
              "size": 10,
              "solidity": 0.2
             }
            },
            "type": "barpolar"
           }
          ],
          "carpet": [
           {
            "aaxis": {
             "endlinecolor": "#2a3f5f",
             "gridcolor": "white",
             "linecolor": "white",
             "minorgridcolor": "white",
             "startlinecolor": "#2a3f5f"
            },
            "baxis": {
             "endlinecolor": "#2a3f5f",
             "gridcolor": "white",
             "linecolor": "white",
             "minorgridcolor": "white",
             "startlinecolor": "#2a3f5f"
            },
            "type": "carpet"
           }
          ],
          "choropleth": [
           {
            "colorbar": {
             "outlinewidth": 0,
             "ticks": ""
            },
            "type": "choropleth"
           }
          ],
          "contour": [
           {
            "colorbar": {
             "outlinewidth": 0,
             "ticks": ""
            },
            "colorscale": [
             [
              0,
              "#0d0887"
             ],
             [
              0.1111111111111111,
              "#46039f"
             ],
             [
              0.2222222222222222,
              "#7201a8"
             ],
             [
              0.3333333333333333,
              "#9c179e"
             ],
             [
              0.4444444444444444,
              "#bd3786"
             ],
             [
              0.5555555555555556,
              "#d8576b"
             ],
             [
              0.6666666666666666,
              "#ed7953"
             ],
             [
              0.7777777777777778,
              "#fb9f3a"
             ],
             [
              0.8888888888888888,
              "#fdca26"
             ],
             [
              1,
              "#f0f921"
             ]
            ],
            "type": "contour"
           }
          ],
          "contourcarpet": [
           {
            "colorbar": {
             "outlinewidth": 0,
             "ticks": ""
            },
            "type": "contourcarpet"
           }
          ],
          "heatmap": [
           {
            "colorbar": {
             "outlinewidth": 0,
             "ticks": ""
            },
            "colorscale": [
             [
              0,
              "#0d0887"
             ],
             [
              0.1111111111111111,
              "#46039f"
             ],
             [
              0.2222222222222222,
              "#7201a8"
             ],
             [
              0.3333333333333333,
              "#9c179e"
             ],
             [
              0.4444444444444444,
              "#bd3786"
             ],
             [
              0.5555555555555556,
              "#d8576b"
             ],
             [
              0.6666666666666666,
              "#ed7953"
             ],
             [
              0.7777777777777778,
              "#fb9f3a"
             ],
             [
              0.8888888888888888,
              "#fdca26"
             ],
             [
              1,
              "#f0f921"
             ]
            ],
            "type": "heatmap"
           }
          ],
          "heatmapgl": [
           {
            "colorbar": {
             "outlinewidth": 0,
             "ticks": ""
            },
            "colorscale": [
             [
              0,
              "#0d0887"
             ],
             [
              0.1111111111111111,
              "#46039f"
             ],
             [
              0.2222222222222222,
              "#7201a8"
             ],
             [
              0.3333333333333333,
              "#9c179e"
             ],
             [
              0.4444444444444444,
              "#bd3786"
             ],
             [
              0.5555555555555556,
              "#d8576b"
             ],
             [
              0.6666666666666666,
              "#ed7953"
             ],
             [
              0.7777777777777778,
              "#fb9f3a"
             ],
             [
              0.8888888888888888,
              "#fdca26"
             ],
             [
              1,
              "#f0f921"
             ]
            ],
            "type": "heatmapgl"
           }
          ],
          "histogram": [
           {
            "marker": {
             "pattern": {
              "fillmode": "overlay",
              "size": 10,
              "solidity": 0.2
             }
            },
            "type": "histogram"
           }
          ],
          "histogram2d": [
           {
            "colorbar": {
             "outlinewidth": 0,
             "ticks": ""
            },
            "colorscale": [
             [
              0,
              "#0d0887"
             ],
             [
              0.1111111111111111,
              "#46039f"
             ],
             [
              0.2222222222222222,
              "#7201a8"
             ],
             [
              0.3333333333333333,
              "#9c179e"
             ],
             [
              0.4444444444444444,
              "#bd3786"
             ],
             [
              0.5555555555555556,
              "#d8576b"
             ],
             [
              0.6666666666666666,
              "#ed7953"
             ],
             [
              0.7777777777777778,
              "#fb9f3a"
             ],
             [
              0.8888888888888888,
              "#fdca26"
             ],
             [
              1,
              "#f0f921"
             ]
            ],
            "type": "histogram2d"
           }
          ],
          "histogram2dcontour": [
           {
            "colorbar": {
             "outlinewidth": 0,
             "ticks": ""
            },
            "colorscale": [
             [
              0,
              "#0d0887"
             ],
             [
              0.1111111111111111,
              "#46039f"
             ],
             [
              0.2222222222222222,
              "#7201a8"
             ],
             [
              0.3333333333333333,
              "#9c179e"
             ],
             [
              0.4444444444444444,
              "#bd3786"
             ],
             [
              0.5555555555555556,
              "#d8576b"
             ],
             [
              0.6666666666666666,
              "#ed7953"
             ],
             [
              0.7777777777777778,
              "#fb9f3a"
             ],
             [
              0.8888888888888888,
              "#fdca26"
             ],
             [
              1,
              "#f0f921"
             ]
            ],
            "type": "histogram2dcontour"
           }
          ],
          "mesh3d": [
           {
            "colorbar": {
             "outlinewidth": 0,
             "ticks": ""
            },
            "type": "mesh3d"
           }
          ],
          "parcoords": [
           {
            "line": {
             "colorbar": {
              "outlinewidth": 0,
              "ticks": ""
             }
            },
            "type": "parcoords"
           }
          ],
          "pie": [
           {
            "automargin": true,
            "type": "pie"
           }
          ],
          "scatter": [
           {
            "marker": {
             "colorbar": {
              "outlinewidth": 0,
              "ticks": ""
             }
            },
            "type": "scatter"
           }
          ],
          "scatter3d": [
           {
            "line": {
             "colorbar": {
              "outlinewidth": 0,
              "ticks": ""
             }
            },
            "marker": {
             "colorbar": {
              "outlinewidth": 0,
              "ticks": ""
             }
            },
            "type": "scatter3d"
           }
          ],
          "scattercarpet": [
           {
            "marker": {
             "colorbar": {
              "outlinewidth": 0,
              "ticks": ""
             }
            },
            "type": "scattercarpet"
           }
          ],
          "scattergeo": [
           {
            "marker": {
             "colorbar": {
              "outlinewidth": 0,
              "ticks": ""
             }
            },
            "type": "scattergeo"
           }
          ],
          "scattergl": [
           {
            "marker": {
             "colorbar": {
              "outlinewidth": 0,
              "ticks": ""
             }
            },
            "type": "scattergl"
           }
          ],
          "scattermapbox": [
           {
            "marker": {
             "colorbar": {
              "outlinewidth": 0,
              "ticks": ""
             }
            },
            "type": "scattermapbox"
           }
          ],
          "scatterpolar": [
           {
            "marker": {
             "colorbar": {
              "outlinewidth": 0,
              "ticks": ""
             }
            },
            "type": "scatterpolar"
           }
          ],
          "scatterpolargl": [
           {
            "marker": {
             "colorbar": {
              "outlinewidth": 0,
              "ticks": ""
             }
            },
            "type": "scatterpolargl"
           }
          ],
          "scatterternary": [
           {
            "marker": {
             "colorbar": {
              "outlinewidth": 0,
              "ticks": ""
             }
            },
            "type": "scatterternary"
           }
          ],
          "surface": [
           {
            "colorbar": {
             "outlinewidth": 0,
             "ticks": ""
            },
            "colorscale": [
             [
              0,
              "#0d0887"
             ],
             [
              0.1111111111111111,
              "#46039f"
             ],
             [
              0.2222222222222222,
              "#7201a8"
             ],
             [
              0.3333333333333333,
              "#9c179e"
             ],
             [
              0.4444444444444444,
              "#bd3786"
             ],
             [
              0.5555555555555556,
              "#d8576b"
             ],
             [
              0.6666666666666666,
              "#ed7953"
             ],
             [
              0.7777777777777778,
              "#fb9f3a"
             ],
             [
              0.8888888888888888,
              "#fdca26"
             ],
             [
              1,
              "#f0f921"
             ]
            ],
            "type": "surface"
           }
          ],
          "table": [
           {
            "cells": {
             "fill": {
              "color": "#EBF0F8"
             },
             "line": {
              "color": "white"
             }
            },
            "header": {
             "fill": {
              "color": "#C8D4E3"
             },
             "line": {
              "color": "white"
             }
            },
            "type": "table"
           }
          ]
         },
         "layout": {
          "annotationdefaults": {
           "arrowcolor": "#2a3f5f",
           "arrowhead": 0,
           "arrowwidth": 1
          },
          "autotypenumbers": "strict",
          "coloraxis": {
           "colorbar": {
            "outlinewidth": 0,
            "ticks": ""
           }
          },
          "colorscale": {
           "diverging": [
            [
             0,
             "#8e0152"
            ],
            [
             0.1,
             "#c51b7d"
            ],
            [
             0.2,
             "#de77ae"
            ],
            [
             0.3,
             "#f1b6da"
            ],
            [
             0.4,
             "#fde0ef"
            ],
            [
             0.5,
             "#f7f7f7"
            ],
            [
             0.6,
             "#e6f5d0"
            ],
            [
             0.7,
             "#b8e186"
            ],
            [
             0.8,
             "#7fbc41"
            ],
            [
             0.9,
             "#4d9221"
            ],
            [
             1,
             "#276419"
            ]
           ],
           "sequential": [
            [
             0,
             "#0d0887"
            ],
            [
             0.1111111111111111,
             "#46039f"
            ],
            [
             0.2222222222222222,
             "#7201a8"
            ],
            [
             0.3333333333333333,
             "#9c179e"
            ],
            [
             0.4444444444444444,
             "#bd3786"
            ],
            [
             0.5555555555555556,
             "#d8576b"
            ],
            [
             0.6666666666666666,
             "#ed7953"
            ],
            [
             0.7777777777777778,
             "#fb9f3a"
            ],
            [
             0.8888888888888888,
             "#fdca26"
            ],
            [
             1,
             "#f0f921"
            ]
           ],
           "sequentialminus": [
            [
             0,
             "#0d0887"
            ],
            [
             0.1111111111111111,
             "#46039f"
            ],
            [
             0.2222222222222222,
             "#7201a8"
            ],
            [
             0.3333333333333333,
             "#9c179e"
            ],
            [
             0.4444444444444444,
             "#bd3786"
            ],
            [
             0.5555555555555556,
             "#d8576b"
            ],
            [
             0.6666666666666666,
             "#ed7953"
            ],
            [
             0.7777777777777778,
             "#fb9f3a"
            ],
            [
             0.8888888888888888,
             "#fdca26"
            ],
            [
             1,
             "#f0f921"
            ]
           ]
          },
          "colorway": [
           "#636efa",
           "#EF553B",
           "#00cc96",
           "#ab63fa",
           "#FFA15A",
           "#19d3f3",
           "#FF6692",
           "#B6E880",
           "#FF97FF",
           "#FECB52"
          ],
          "font": {
           "color": "#2a3f5f"
          },
          "geo": {
           "bgcolor": "white",
           "lakecolor": "white",
           "landcolor": "#E5ECF6",
           "showlakes": true,
           "showland": true,
           "subunitcolor": "white"
          },
          "hoverlabel": {
           "align": "left"
          },
          "hovermode": "closest",
          "mapbox": {
           "style": "light"
          },
          "paper_bgcolor": "white",
          "plot_bgcolor": "#E5ECF6",
          "polar": {
           "angularaxis": {
            "gridcolor": "white",
            "linecolor": "white",
            "ticks": ""
           },
           "bgcolor": "#E5ECF6",
           "radialaxis": {
            "gridcolor": "white",
            "linecolor": "white",
            "ticks": ""
           }
          },
          "scene": {
           "xaxis": {
            "backgroundcolor": "#E5ECF6",
            "gridcolor": "white",
            "gridwidth": 2,
            "linecolor": "white",
            "showbackground": true,
            "ticks": "",
            "zerolinecolor": "white"
           },
           "yaxis": {
            "backgroundcolor": "#E5ECF6",
            "gridcolor": "white",
            "gridwidth": 2,
            "linecolor": "white",
            "showbackground": true,
            "ticks": "",
            "zerolinecolor": "white"
           },
           "zaxis": {
            "backgroundcolor": "#E5ECF6",
            "gridcolor": "white",
            "gridwidth": 2,
            "linecolor": "white",
            "showbackground": true,
            "ticks": "",
            "zerolinecolor": "white"
           }
          },
          "shapedefaults": {
           "line": {
            "color": "#2a3f5f"
           }
          },
          "ternary": {
           "aaxis": {
            "gridcolor": "white",
            "linecolor": "white",
            "ticks": ""
           },
           "baxis": {
            "gridcolor": "white",
            "linecolor": "white",
            "ticks": ""
           },
           "bgcolor": "#E5ECF6",
           "caxis": {
            "gridcolor": "white",
            "linecolor": "white",
            "ticks": ""
           }
          },
          "title": {
           "x": 0.05
          },
          "xaxis": {
           "automargin": true,
           "gridcolor": "white",
           "linecolor": "white",
           "ticks": "",
           "title": {
            "standoff": 15
           },
           "zerolinecolor": "white",
           "zerolinewidth": 2
          },
          "yaxis": {
           "automargin": true,
           "gridcolor": "white",
           "linecolor": "white",
           "ticks": "",
           "title": {
            "standoff": 15
           },
           "zerolinecolor": "white",
           "zerolinewidth": 2
          }
         }
        }
       }
      }
     },
     "metadata": {}
    }
   ],
   "metadata": {}
  },
  {
   "cell_type": "markdown",
   "source": [
    "## Reconstruction error\n",
    "\n",
    "We now have a model that can encode and decode ECG. Let's use the model to reconstruct a particular ECG and check the reconstruction error, i.e., the difference between the actual ECG and its reconstruction. \n"
   ],
   "metadata": {}
  },
  {
   "cell_type": "code",
   "execution_count": 12,
   "source": [
    "encoded_data = autoencoder.encoder(normal_test_data).numpy()\n",
    "decoded_data = autoencoder.decoder(encoded_data).numpy()\n",
    "\n",
    "\n",
    "fig = go.Figure()\n",
    "fig.add_trace(go.Scatter(y=normal_test_data[0],name='Input data'))\n",
    "fig.add_trace(go.Scatter(y=decoded_data[0],name='Reconstruction & error',\n",
    "                         fill='tonexty'))\n"
   ],
   "outputs": [
    {
     "output_type": "display_data",
     "data": {
      "application/vnd.plotly.v1+json": {
       "config": {
        "plotlyServerURL": "https://plot.ly"
       },
       "data": [
        {
         "name": "Input data",
         "type": "scatter",
         "y": [
          0.48035767674446106,
          0.2887779176235199,
          0.19828546047210693,
          0.17403002083301544,
          0.19065187871456146,
          0.2570231258869171,
          0.35133999586105347,
          0.3795180916786194,
          0.41933903098106384,
          0.47931399941444397,
          0.5085671544075012,
          0.5021305084228516,
          0.4981786012649536,
          0.5009568333625793,
          0.4963546097278595,
          0.4957442283630371,
          0.49634596705436707,
          0.4871847927570343,
          0.49864014983177185,
          0.49027618765830994,
          0.48405030369758606,
          0.4853919446468353,
          0.4781576991081238,
          0.4776414632797241,
          0.4754825830459595,
          0.4680434465408325,
          0.4633431136608124,
          0.4667298495769501,
          0.4565943777561188,
          0.45639845728874207,
          0.44269412755966187,
          0.4387221038341522,
          0.4350164234638214,
          0.4311322867870331,
          0.43271467089653015,
          0.43053433299064636,
          0.4260518252849579,
          0.4177199602127075,
          0.4224426746368408,
          0.4249061048030853,
          0.4222816526889801,
          0.4255194664001465,
          0.427318811416626,
          0.4344993233680725,
          0.43405434489250183,
          0.4319981336593628,
          0.4433560073375702,
          0.4449458420276642,
          0.4500327408313751,
          0.44775307178497314,
          0.45146772265434265,
          0.4631691873073578,
          0.4599079489707947,
          0.4583589732646942,
          0.46505701541900635,
          0.4695504903793335,
          0.48476895689964294,
          0.4720330536365509,
          0.47590193152427673,
          0.48128950595855713,
          0.48106202483177185,
          0.483425110578537,
          0.4797944724559784,
          0.49654191732406616,
          0.497626930475235,
          0.5003345012664795,
          0.4999160170555115,
          0.4998267590999603,
          0.5085312724113464,
          0.5027685165405273,
          0.5192650556564331,
          0.5174381136894226,
          0.5176679491996765,
          0.5243684649467468,
          0.522845447063446,
          0.523930549621582,
          0.5308157205581665,
          0.5383780002593994,
          0.5319925546646118,
          0.5184898376464844,
          0.5222746729850769,
          0.5139047503471375,
          0.5156378149986267,
          0.5147913098335266,
          0.5096921324729919,
          0.5125722289085388,
          0.5018595457077026,
          0.49053633213043213,
          0.48884034156799316,
          0.4823535084724426,
          0.47934600710868835,
          0.48330995440483093,
          0.4766990542411804,
          0.47691449522972107,
          0.4795263111591339,
          0.4947693347930908,
          0.5108534097671509,
          0.5188336968421936,
          0.5332105159759521,
          0.5425611138343811,
          0.5682035684585571,
          0.5826812386512756,
          0.6099961996078491,
          0.6065466403961182,
          0.5954951047897339,
          0.5819999575614929,
          0.5612176060676575,
          0.5507384538650513,
          0.5170336961746216,
          0.4897701144218445,
          0.4583636224269867,
          0.41286134719848633,
          0.3860044479370117,
          0.3743003010749817,
          0.37155696749687195,
          0.36838045716285706,
          0.3640936613082886,
          0.3643512427806854,
          0.3664138913154602,
          0.3565950393676758,
          0.3636854290962219,
          0.3610741198062897,
          0.3605392873287201,
          0.3603725731372833,
          0.36098870635032654,
          0.3649810552597046,
          0.3636249601840973,
          0.36424019932746887,
          0.3778349459171295,
          0.4150768220424652,
          0.4684041142463684,
          0.46837979555130005,
          0.48350921273231506,
          0.4904227554798126,
          0.4625466465950012,
          0.43603575229644775,
          0.4314790964126587,
          0.45463305711746216,
          0.5246124863624573,
          0.37137290835380554
         ]
        },
        {
         "fill": "tonexty",
         "name": "Reconstruction & error",
         "type": "scatter",
         "y": [
          0.4292632043361664,
          0.27452462911605835,
          0.2354397475719452,
          0.25408032536506653,
          0.2539050579071045,
          0.21147307753562927,
          0.30032089352607727,
          0.3373165726661682,
          0.370617151260376,
          0.4291152060031891,
          0.43763840198516846,
          0.44320669770240784,
          0.4422905743122101,
          0.44431912899017334,
          0.4428524076938629,
          0.4450860321521759,
          0.44495946168899536,
          0.44209563732147217,
          0.4352102279663086,
          0.4425555169582367,
          0.4384046196937561,
          0.44762182235717773,
          0.44074487686157227,
          0.43751364946365356,
          0.43509477376937866,
          0.4315344989299774,
          0.4359423518180847,
          0.4307399094104767,
          0.429593026638031,
          0.43001535534858704,
          0.4240395426750183,
          0.41924259066581726,
          0.41281813383102417,
          0.4102366268634796,
          0.41154685616493225,
          0.4168872833251953,
          0.4137570559978485,
          0.40909817814826965,
          0.4103802740573883,
          0.42101454734802246,
          0.4227835237979889,
          0.4239189922809601,
          0.4292316734790802,
          0.43999916315078735,
          0.4361194968223572,
          0.45473799109458923,
          0.4606485664844513,
          0.46110591292381287,
          0.4588809609413147,
          0.4566394090652466,
          0.4589770436286926,
          0.46324801445007324,
          0.47143012285232544,
          0.46817830204963684,
          0.4657818675041199,
          0.472488671541214,
          0.4593580365180969,
          0.4730615019798279,
          0.46949219703674316,
          0.46596524119377136,
          0.47366589307785034,
          0.4740334153175354,
          0.47816020250320435,
          0.47304579615592957,
          0.48163866996765137,
          0.48167189955711365,
          0.4796096086502075,
          0.48583105206489563,
          0.48783648014068604,
          0.4895540773868561,
          0.492465078830719,
          0.4985973536968231,
          0.49238938093185425,
          0.4985947608947754,
          0.49987083673477173,
          0.5035260915756226,
          0.5015965700149536,
          0.5017666816711426,
          0.5029615163803101,
          0.500697672367096,
          0.5015753507614136,
          0.4944590926170349,
          0.48743128776550293,
          0.49957847595214844,
          0.4991322159767151,
          0.49506446719169617,
          0.4884607791900635,
          0.4877847135066986,
          0.4866173565387726,
          0.4877542555332184,
          0.4886096715927124,
          0.4860188961029053,
          0.48822715878486633,
          0.48940789699554443,
          0.49359211325645447,
          0.49092167615890503,
          0.5029416084289551,
          0.5136873722076416,
          0.5250331163406372,
          0.5353510975837708,
          0.5429473519325256,
          0.557751476764679,
          0.5746643543243408,
          0.5748950839042664,
          0.5767548680305481,
          0.5665030479431152,
          0.5621870160102844,
          0.5501628518104553,
          0.5342835783958435,
          0.5232049226760864,
          0.5016551613807678,
          0.4828823506832123,
          0.4707304835319519,
          0.4622171223163605,
          0.4542137384414673,
          0.45495137572288513,
          0.4434782862663269,
          0.45078614354133606,
          0.4501364231109619,
          0.4450223743915558,
          0.4514615535736084,
          0.4472624361515045,
          0.4431370198726654,
          0.4448569118976593,
          0.4500825107097626,
          0.4492000341415405,
          0.44994089007377625,
          0.4570576548576355,
          0.4681255519390106,
          0.4991053640842438,
          0.5253397822380066,
          0.5385921001434326,
          0.53518146276474,
          0.5424606800079346,
          0.5331582427024841,
          0.5135828852653503,
          0.514017641544342,
          0.5006937384605408,
          0.5098791718482971,
          0.4277077317237854
         ]
        }
       ],
       "layout": {
        "template": {
         "data": {
          "bar": [
           {
            "error_x": {
             "color": "#2a3f5f"
            },
            "error_y": {
             "color": "#2a3f5f"
            },
            "marker": {
             "line": {
              "color": "#E5ECF6",
              "width": 0.5
             },
             "pattern": {
              "fillmode": "overlay",
              "size": 10,
              "solidity": 0.2
             }
            },
            "type": "bar"
           }
          ],
          "barpolar": [
           {
            "marker": {
             "line": {
              "color": "#E5ECF6",
              "width": 0.5
             },
             "pattern": {
              "fillmode": "overlay",
              "size": 10,
              "solidity": 0.2
             }
            },
            "type": "barpolar"
           }
          ],
          "carpet": [
           {
            "aaxis": {
             "endlinecolor": "#2a3f5f",
             "gridcolor": "white",
             "linecolor": "white",
             "minorgridcolor": "white",
             "startlinecolor": "#2a3f5f"
            },
            "baxis": {
             "endlinecolor": "#2a3f5f",
             "gridcolor": "white",
             "linecolor": "white",
             "minorgridcolor": "white",
             "startlinecolor": "#2a3f5f"
            },
            "type": "carpet"
           }
          ],
          "choropleth": [
           {
            "colorbar": {
             "outlinewidth": 0,
             "ticks": ""
            },
            "type": "choropleth"
           }
          ],
          "contour": [
           {
            "colorbar": {
             "outlinewidth": 0,
             "ticks": ""
            },
            "colorscale": [
             [
              0,
              "#0d0887"
             ],
             [
              0.1111111111111111,
              "#46039f"
             ],
             [
              0.2222222222222222,
              "#7201a8"
             ],
             [
              0.3333333333333333,
              "#9c179e"
             ],
             [
              0.4444444444444444,
              "#bd3786"
             ],
             [
              0.5555555555555556,
              "#d8576b"
             ],
             [
              0.6666666666666666,
              "#ed7953"
             ],
             [
              0.7777777777777778,
              "#fb9f3a"
             ],
             [
              0.8888888888888888,
              "#fdca26"
             ],
             [
              1,
              "#f0f921"
             ]
            ],
            "type": "contour"
           }
          ],
          "contourcarpet": [
           {
            "colorbar": {
             "outlinewidth": 0,
             "ticks": ""
            },
            "type": "contourcarpet"
           }
          ],
          "heatmap": [
           {
            "colorbar": {
             "outlinewidth": 0,
             "ticks": ""
            },
            "colorscale": [
             [
              0,
              "#0d0887"
             ],
             [
              0.1111111111111111,
              "#46039f"
             ],
             [
              0.2222222222222222,
              "#7201a8"
             ],
             [
              0.3333333333333333,
              "#9c179e"
             ],
             [
              0.4444444444444444,
              "#bd3786"
             ],
             [
              0.5555555555555556,
              "#d8576b"
             ],
             [
              0.6666666666666666,
              "#ed7953"
             ],
             [
              0.7777777777777778,
              "#fb9f3a"
             ],
             [
              0.8888888888888888,
              "#fdca26"
             ],
             [
              1,
              "#f0f921"
             ]
            ],
            "type": "heatmap"
           }
          ],
          "heatmapgl": [
           {
            "colorbar": {
             "outlinewidth": 0,
             "ticks": ""
            },
            "colorscale": [
             [
              0,
              "#0d0887"
             ],
             [
              0.1111111111111111,
              "#46039f"
             ],
             [
              0.2222222222222222,
              "#7201a8"
             ],
             [
              0.3333333333333333,
              "#9c179e"
             ],
             [
              0.4444444444444444,
              "#bd3786"
             ],
             [
              0.5555555555555556,
              "#d8576b"
             ],
             [
              0.6666666666666666,
              "#ed7953"
             ],
             [
              0.7777777777777778,
              "#fb9f3a"
             ],
             [
              0.8888888888888888,
              "#fdca26"
             ],
             [
              1,
              "#f0f921"
             ]
            ],
            "type": "heatmapgl"
           }
          ],
          "histogram": [
           {
            "marker": {
             "pattern": {
              "fillmode": "overlay",
              "size": 10,
              "solidity": 0.2
             }
            },
            "type": "histogram"
           }
          ],
          "histogram2d": [
           {
            "colorbar": {
             "outlinewidth": 0,
             "ticks": ""
            },
            "colorscale": [
             [
              0,
              "#0d0887"
             ],
             [
              0.1111111111111111,
              "#46039f"
             ],
             [
              0.2222222222222222,
              "#7201a8"
             ],
             [
              0.3333333333333333,
              "#9c179e"
             ],
             [
              0.4444444444444444,
              "#bd3786"
             ],
             [
              0.5555555555555556,
              "#d8576b"
             ],
             [
              0.6666666666666666,
              "#ed7953"
             ],
             [
              0.7777777777777778,
              "#fb9f3a"
             ],
             [
              0.8888888888888888,
              "#fdca26"
             ],
             [
              1,
              "#f0f921"
             ]
            ],
            "type": "histogram2d"
           }
          ],
          "histogram2dcontour": [
           {
            "colorbar": {
             "outlinewidth": 0,
             "ticks": ""
            },
            "colorscale": [
             [
              0,
              "#0d0887"
             ],
             [
              0.1111111111111111,
              "#46039f"
             ],
             [
              0.2222222222222222,
              "#7201a8"
             ],
             [
              0.3333333333333333,
              "#9c179e"
             ],
             [
              0.4444444444444444,
              "#bd3786"
             ],
             [
              0.5555555555555556,
              "#d8576b"
             ],
             [
              0.6666666666666666,
              "#ed7953"
             ],
             [
              0.7777777777777778,
              "#fb9f3a"
             ],
             [
              0.8888888888888888,
              "#fdca26"
             ],
             [
              1,
              "#f0f921"
             ]
            ],
            "type": "histogram2dcontour"
           }
          ],
          "mesh3d": [
           {
            "colorbar": {
             "outlinewidth": 0,
             "ticks": ""
            },
            "type": "mesh3d"
           }
          ],
          "parcoords": [
           {
            "line": {
             "colorbar": {
              "outlinewidth": 0,
              "ticks": ""
             }
            },
            "type": "parcoords"
           }
          ],
          "pie": [
           {
            "automargin": true,
            "type": "pie"
           }
          ],
          "scatter": [
           {
            "marker": {
             "colorbar": {
              "outlinewidth": 0,
              "ticks": ""
             }
            },
            "type": "scatter"
           }
          ],
          "scatter3d": [
           {
            "line": {
             "colorbar": {
              "outlinewidth": 0,
              "ticks": ""
             }
            },
            "marker": {
             "colorbar": {
              "outlinewidth": 0,
              "ticks": ""
             }
            },
            "type": "scatter3d"
           }
          ],
          "scattercarpet": [
           {
            "marker": {
             "colorbar": {
              "outlinewidth": 0,
              "ticks": ""
             }
            },
            "type": "scattercarpet"
           }
          ],
          "scattergeo": [
           {
            "marker": {
             "colorbar": {
              "outlinewidth": 0,
              "ticks": ""
             }
            },
            "type": "scattergeo"
           }
          ],
          "scattergl": [
           {
            "marker": {
             "colorbar": {
              "outlinewidth": 0,
              "ticks": ""
             }
            },
            "type": "scattergl"
           }
          ],
          "scattermapbox": [
           {
            "marker": {
             "colorbar": {
              "outlinewidth": 0,
              "ticks": ""
             }
            },
            "type": "scattermapbox"
           }
          ],
          "scatterpolar": [
           {
            "marker": {
             "colorbar": {
              "outlinewidth": 0,
              "ticks": ""
             }
            },
            "type": "scatterpolar"
           }
          ],
          "scatterpolargl": [
           {
            "marker": {
             "colorbar": {
              "outlinewidth": 0,
              "ticks": ""
             }
            },
            "type": "scatterpolargl"
           }
          ],
          "scatterternary": [
           {
            "marker": {
             "colorbar": {
              "outlinewidth": 0,
              "ticks": ""
             }
            },
            "type": "scatterternary"
           }
          ],
          "surface": [
           {
            "colorbar": {
             "outlinewidth": 0,
             "ticks": ""
            },
            "colorscale": [
             [
              0,
              "#0d0887"
             ],
             [
              0.1111111111111111,
              "#46039f"
             ],
             [
              0.2222222222222222,
              "#7201a8"
             ],
             [
              0.3333333333333333,
              "#9c179e"
             ],
             [
              0.4444444444444444,
              "#bd3786"
             ],
             [
              0.5555555555555556,
              "#d8576b"
             ],
             [
              0.6666666666666666,
              "#ed7953"
             ],
             [
              0.7777777777777778,
              "#fb9f3a"
             ],
             [
              0.8888888888888888,
              "#fdca26"
             ],
             [
              1,
              "#f0f921"
             ]
            ],
            "type": "surface"
           }
          ],
          "table": [
           {
            "cells": {
             "fill": {
              "color": "#EBF0F8"
             },
             "line": {
              "color": "white"
             }
            },
            "header": {
             "fill": {
              "color": "#C8D4E3"
             },
             "line": {
              "color": "white"
             }
            },
            "type": "table"
           }
          ]
         },
         "layout": {
          "annotationdefaults": {
           "arrowcolor": "#2a3f5f",
           "arrowhead": 0,
           "arrowwidth": 1
          },
          "autotypenumbers": "strict",
          "coloraxis": {
           "colorbar": {
            "outlinewidth": 0,
            "ticks": ""
           }
          },
          "colorscale": {
           "diverging": [
            [
             0,
             "#8e0152"
            ],
            [
             0.1,
             "#c51b7d"
            ],
            [
             0.2,
             "#de77ae"
            ],
            [
             0.3,
             "#f1b6da"
            ],
            [
             0.4,
             "#fde0ef"
            ],
            [
             0.5,
             "#f7f7f7"
            ],
            [
             0.6,
             "#e6f5d0"
            ],
            [
             0.7,
             "#b8e186"
            ],
            [
             0.8,
             "#7fbc41"
            ],
            [
             0.9,
             "#4d9221"
            ],
            [
             1,
             "#276419"
            ]
           ],
           "sequential": [
            [
             0,
             "#0d0887"
            ],
            [
             0.1111111111111111,
             "#46039f"
            ],
            [
             0.2222222222222222,
             "#7201a8"
            ],
            [
             0.3333333333333333,
             "#9c179e"
            ],
            [
             0.4444444444444444,
             "#bd3786"
            ],
            [
             0.5555555555555556,
             "#d8576b"
            ],
            [
             0.6666666666666666,
             "#ed7953"
            ],
            [
             0.7777777777777778,
             "#fb9f3a"
            ],
            [
             0.8888888888888888,
             "#fdca26"
            ],
            [
             1,
             "#f0f921"
            ]
           ],
           "sequentialminus": [
            [
             0,
             "#0d0887"
            ],
            [
             0.1111111111111111,
             "#46039f"
            ],
            [
             0.2222222222222222,
             "#7201a8"
            ],
            [
             0.3333333333333333,
             "#9c179e"
            ],
            [
             0.4444444444444444,
             "#bd3786"
            ],
            [
             0.5555555555555556,
             "#d8576b"
            ],
            [
             0.6666666666666666,
             "#ed7953"
            ],
            [
             0.7777777777777778,
             "#fb9f3a"
            ],
            [
             0.8888888888888888,
             "#fdca26"
            ],
            [
             1,
             "#f0f921"
            ]
           ]
          },
          "colorway": [
           "#636efa",
           "#EF553B",
           "#00cc96",
           "#ab63fa",
           "#FFA15A",
           "#19d3f3",
           "#FF6692",
           "#B6E880",
           "#FF97FF",
           "#FECB52"
          ],
          "font": {
           "color": "#2a3f5f"
          },
          "geo": {
           "bgcolor": "white",
           "lakecolor": "white",
           "landcolor": "#E5ECF6",
           "showlakes": true,
           "showland": true,
           "subunitcolor": "white"
          },
          "hoverlabel": {
           "align": "left"
          },
          "hovermode": "closest",
          "mapbox": {
           "style": "light"
          },
          "paper_bgcolor": "white",
          "plot_bgcolor": "#E5ECF6",
          "polar": {
           "angularaxis": {
            "gridcolor": "white",
            "linecolor": "white",
            "ticks": ""
           },
           "bgcolor": "#E5ECF6",
           "radialaxis": {
            "gridcolor": "white",
            "linecolor": "white",
            "ticks": ""
           }
          },
          "scene": {
           "xaxis": {
            "backgroundcolor": "#E5ECF6",
            "gridcolor": "white",
            "gridwidth": 2,
            "linecolor": "white",
            "showbackground": true,
            "ticks": "",
            "zerolinecolor": "white"
           },
           "yaxis": {
            "backgroundcolor": "#E5ECF6",
            "gridcolor": "white",
            "gridwidth": 2,
            "linecolor": "white",
            "showbackground": true,
            "ticks": "",
            "zerolinecolor": "white"
           },
           "zaxis": {
            "backgroundcolor": "#E5ECF6",
            "gridcolor": "white",
            "gridwidth": 2,
            "linecolor": "white",
            "showbackground": true,
            "ticks": "",
            "zerolinecolor": "white"
           }
          },
          "shapedefaults": {
           "line": {
            "color": "#2a3f5f"
           }
          },
          "ternary": {
           "aaxis": {
            "gridcolor": "white",
            "linecolor": "white",
            "ticks": ""
           },
           "baxis": {
            "gridcolor": "white",
            "linecolor": "white",
            "ticks": ""
           },
           "bgcolor": "#E5ECF6",
           "caxis": {
            "gridcolor": "white",
            "linecolor": "white",
            "ticks": ""
           }
          },
          "title": {
           "x": 0.05
          },
          "xaxis": {
           "automargin": true,
           "gridcolor": "white",
           "linecolor": "white",
           "ticks": "",
           "title": {
            "standoff": 15
           },
           "zerolinecolor": "white",
           "zerolinewidth": 2
          },
          "yaxis": {
           "automargin": true,
           "gridcolor": "white",
           "linecolor": "white",
           "ticks": "",
           "title": {
            "standoff": 15
           },
           "zerolinecolor": "white",
           "zerolinewidth": 2
          }
         }
        }
       }
      }
     },
     "metadata": {}
    }
   ],
   "metadata": {}
  },
  {
   "cell_type": "markdown",
   "source": [
    "Let's do the same as above for an abnormal rhythm ECG on the test dataset."
   ],
   "metadata": {}
  },
  {
   "cell_type": "code",
   "execution_count": 13,
   "source": [
    "encoded_data = autoencoder.encoder(abnormal_test_data).numpy()\n",
    "decoded_data = autoencoder.decoder(encoded_data).numpy()\n",
    "\n",
    "\n",
    "fig = go.Figure()\n",
    "fig.add_trace(go.Scatter(y=abnormal_test_data[0],name='Input data'))\n",
    "fig.add_trace(go.Scatter(y=decoded_data[0],name='Reconstruction & error',\n",
    "                         fill='tonexty'))\n"
   ],
   "outputs": [
    {
     "output_type": "display_data",
     "data": {
      "application/vnd.plotly.v1+json": {
       "config": {
        "plotlyServerURL": "https://plot.ly"
       },
       "data": [
        {
         "name": "Input data",
         "type": "scatter",
         "y": [
          0.3687897026538849,
          0.30728116631507874,
          0.2658798396587372,
          0.2342016100883484,
          0.2289544939994812,
          0.24441950023174286,
          0.2897324562072754,
          0.32673344016075134,
          0.3450625240802765,
          0.35946375131607056,
          0.366017609834671,
          0.38083764910697937,
          0.4098110496997833,
          0.426404744386673,
          0.4301389157772064,
          0.42872142791748047,
          0.4324492812156677,
          0.42882904410362244,
          0.4317876100540161,
          0.4314000606536865,
          0.4309997260570526,
          0.43363940715789795,
          0.43189460039138794,
          0.4334389865398407,
          0.4282280206680298,
          0.4304920434951782,
          0.4316231906414032,
          0.43162646889686584,
          0.4328855872154236,
          0.42824631929397583,
          0.43387359380722046,
          0.4338427782058716,
          0.4270707368850708,
          0.4270402491092682,
          0.4258621335029602,
          0.42957353591918945,
          0.43204739689826965,
          0.42690134048461914,
          0.4267188310623169,
          0.42579153180122375,
          0.42145025730133057,
          0.42689019441604614,
          0.4192477762699127,
          0.42660969495773315,
          0.425228089094162,
          0.4170193672180176,
          0.4184109568595886,
          0.41961243748664856,
          0.41716280579566956,
          0.41829556226730347,
          0.41633373498916626,
          0.4121170938014984,
          0.4156325161457062,
          0.4140487611293793,
          0.4120148718357086,
          0.41335198283195496,
          0.4142370820045471,
          0.41685929894447327,
          0.41644006967544556,
          0.41624537110328674,
          0.4196259379386902,
          0.4177689850330353,
          0.41905897855758667,
          0.42218971252441406,
          0.4196544587612152,
          0.42940545082092285,
          0.4308989942073822,
          0.4307335913181305,
          0.4318483769893646,
          0.43540969491004944,
          0.44192975759506226,
          0.445151150226593,
          0.44695404171943665,
          0.4487036466598511,
          0.45294925570487976,
          0.4540736973285675,
          0.45773977041244507,
          0.4565097689628601,
          0.46157169342041016,
          0.4622882306575775,
          0.46499142050743103,
          0.46702536940574646,
          0.46528127789497375,
          0.4724016785621643,
          0.4684238135814667,
          0.4714818596839905,
          0.4761196970939636,
          0.4806874096393585,
          0.477120041847229,
          0.47579425573349,
          0.4818546175956726,
          0.48146358132362366,
          0.4816263020038605,
          0.4840543866157532,
          0.4852852523326874,
          0.48290780186653137,
          0.4826079308986664,
          0.48741355538368225,
          0.4890534281730652,
          0.49074432253837585,
          0.49717646837234497,
          0.4968552887439728,
          0.4969344139099121,
          0.5008605718612671,
          0.5031581521034241,
          0.5059995651245117,
          0.5076162815093994,
          0.5129083395004272,
          0.5130175948143005,
          0.5137396454811096,
          0.5173085331916809,
          0.5215231776237488,
          0.5224050283432007,
          0.5229285359382629,
          0.5217630863189697,
          0.5279528498649597,
          0.5248215794563293,
          0.5252198576927185,
          0.531267523765564,
          0.5323393940925598,
          0.5313363671302795,
          0.5249910354614258,
          0.531597912311554,
          0.5341436862945557,
          0.5397691130638123,
          0.5453839898109436,
          0.5644707083702087,
          0.5959868431091309,
          0.6098214387893677,
          0.6092298626899719,
          0.6011083722114563,
          0.5885306596755981,
          0.5727330446243286,
          0.5786002278327942,
          0.6149988770484924,
          0.6372957229614258,
          0.6170028448104858,
          0.5855123400688171,
          0.56629878282547,
          0.5726404190063477
         ]
        },
        {
         "fill": "tonexty",
         "name": "Reconstruction & error",
         "type": "scatter",
         "y": [
          0.42074793577194214,
          0.23521670699119568,
          0.20091915130615234,
          0.2192109227180481,
          0.22018489241600037,
          0.16984796524047852,
          0.26852914690971375,
          0.31713902950286865,
          0.3523433804512024,
          0.40187662839889526,
          0.4318641424179077,
          0.43388277292251587,
          0.4341440796852112,
          0.43338268995285034,
          0.4349321126937866,
          0.4348183572292328,
          0.43412455916404724,
          0.433919221162796,
          0.43669629096984863,
          0.43259409070014954,
          0.43090373277664185,
          0.4207691252231598,
          0.42348015308380127,
          0.42364609241485596,
          0.4203777313232422,
          0.41978615522384644,
          0.4127159118652344,
          0.40952807664871216,
          0.40645676851272583,
          0.4031293988227844,
          0.4015587866306305,
          0.40028518438339233,
          0.4009535014629364,
          0.3971642255783081,
          0.3927645683288574,
          0.39123228192329407,
          0.39381906390190125,
          0.3962581753730774,
          0.40276241302490234,
          0.39985036849975586,
          0.40656161308288574,
          0.4122074544429779,
          0.42133331298828125,
          0.42623472213745117,
          0.43870916962623596,
          0.43610602617263794,
          0.4400206506252289,
          0.4450940191745758,
          0.4522707760334015,
          0.45686253905296326,
          0.45870441198349,
          0.4597524404525757,
          0.45365557074546814,
          0.458051860332489,
          0.46078556776046753,
          0.4569331109523773,
          0.46698063611984253,
          0.4590185284614563,
          0.4653770327568054,
          0.46882644295692444,
          0.4648767113685608,
          0.4657764136791229,
          0.4676637649536133,
          0.47290170192718506,
          0.4693777859210968,
          0.47372496128082275,
          0.4795295298099518,
          0.4814649522304535,
          0.48590734601020813,
          0.4895917773246765,
          0.4906657040119171,
          0.4907726049423218,
          0.49905458092689514,
          0.4982501268386841,
          0.49957960844039917,
          0.49821868538856506,
          0.5003016591072083,
          0.4998709559440613,
          0.498399019241333,
          0.49762532114982605,
          0.4945128262042999,
          0.49995943903923035,
          0.5013399124145508,
          0.4908902645111084,
          0.4900001883506775,
          0.4913512170314789,
          0.49336355924606323,
          0.49146273732185364,
          0.4903436303138733,
          0.49050429463386536,
          0.4860813021659851,
          0.4883284568786621,
          0.4874608814716339,
          0.48733076453208923,
          0.48807764053344727,
          0.495680570602417,
          0.5022446513175964,
          0.513231098651886,
          0.5284242033958435,
          0.5390467643737793,
          0.552073061466217,
          0.5668158531188965,
          0.5807393193244934,
          0.5944498777389526,
          0.5917595028877258,
          0.5906912088394165,
          0.5781444311141968,
          0.5649069547653198,
          0.5515168905258179,
          0.5298963189125061,
          0.5156987905502319,
          0.49348708987236023,
          0.46753114461898804,
          0.45040977001190186,
          0.44513487815856934,
          0.4396517872810364,
          0.4430820345878601,
          0.4338994026184082,
          0.4364281892776489,
          0.43964916467666626,
          0.4354492425918579,
          0.43692007660865784,
          0.4424803555011749,
          0.44238153100013733,
          0.43766236305236816,
          0.44050517678260803,
          0.44367995858192444,
          0.44710469245910645,
          0.46091920137405396,
          0.4919843375682831,
          0.5284016132354736,
          0.5350645780563354,
          0.5479885935783386,
          0.5436900854110718,
          0.5448838472366333,
          0.5275996923446655,
          0.5169306993484497,
          0.5232759118080139,
          0.5217525362968445,
          0.4235742688179016
         ]
        }
       ],
       "layout": {
        "template": {
         "data": {
          "bar": [
           {
            "error_x": {
             "color": "#2a3f5f"
            },
            "error_y": {
             "color": "#2a3f5f"
            },
            "marker": {
             "line": {
              "color": "#E5ECF6",
              "width": 0.5
             },
             "pattern": {
              "fillmode": "overlay",
              "size": 10,
              "solidity": 0.2
             }
            },
            "type": "bar"
           }
          ],
          "barpolar": [
           {
            "marker": {
             "line": {
              "color": "#E5ECF6",
              "width": 0.5
             },
             "pattern": {
              "fillmode": "overlay",
              "size": 10,
              "solidity": 0.2
             }
            },
            "type": "barpolar"
           }
          ],
          "carpet": [
           {
            "aaxis": {
             "endlinecolor": "#2a3f5f",
             "gridcolor": "white",
             "linecolor": "white",
             "minorgridcolor": "white",
             "startlinecolor": "#2a3f5f"
            },
            "baxis": {
             "endlinecolor": "#2a3f5f",
             "gridcolor": "white",
             "linecolor": "white",
             "minorgridcolor": "white",
             "startlinecolor": "#2a3f5f"
            },
            "type": "carpet"
           }
          ],
          "choropleth": [
           {
            "colorbar": {
             "outlinewidth": 0,
             "ticks": ""
            },
            "type": "choropleth"
           }
          ],
          "contour": [
           {
            "colorbar": {
             "outlinewidth": 0,
             "ticks": ""
            },
            "colorscale": [
             [
              0,
              "#0d0887"
             ],
             [
              0.1111111111111111,
              "#46039f"
             ],
             [
              0.2222222222222222,
              "#7201a8"
             ],
             [
              0.3333333333333333,
              "#9c179e"
             ],
             [
              0.4444444444444444,
              "#bd3786"
             ],
             [
              0.5555555555555556,
              "#d8576b"
             ],
             [
              0.6666666666666666,
              "#ed7953"
             ],
             [
              0.7777777777777778,
              "#fb9f3a"
             ],
             [
              0.8888888888888888,
              "#fdca26"
             ],
             [
              1,
              "#f0f921"
             ]
            ],
            "type": "contour"
           }
          ],
          "contourcarpet": [
           {
            "colorbar": {
             "outlinewidth": 0,
             "ticks": ""
            },
            "type": "contourcarpet"
           }
          ],
          "heatmap": [
           {
            "colorbar": {
             "outlinewidth": 0,
             "ticks": ""
            },
            "colorscale": [
             [
              0,
              "#0d0887"
             ],
             [
              0.1111111111111111,
              "#46039f"
             ],
             [
              0.2222222222222222,
              "#7201a8"
             ],
             [
              0.3333333333333333,
              "#9c179e"
             ],
             [
              0.4444444444444444,
              "#bd3786"
             ],
             [
              0.5555555555555556,
              "#d8576b"
             ],
             [
              0.6666666666666666,
              "#ed7953"
             ],
             [
              0.7777777777777778,
              "#fb9f3a"
             ],
             [
              0.8888888888888888,
              "#fdca26"
             ],
             [
              1,
              "#f0f921"
             ]
            ],
            "type": "heatmap"
           }
          ],
          "heatmapgl": [
           {
            "colorbar": {
             "outlinewidth": 0,
             "ticks": ""
            },
            "colorscale": [
             [
              0,
              "#0d0887"
             ],
             [
              0.1111111111111111,
              "#46039f"
             ],
             [
              0.2222222222222222,
              "#7201a8"
             ],
             [
              0.3333333333333333,
              "#9c179e"
             ],
             [
              0.4444444444444444,
              "#bd3786"
             ],
             [
              0.5555555555555556,
              "#d8576b"
             ],
             [
              0.6666666666666666,
              "#ed7953"
             ],
             [
              0.7777777777777778,
              "#fb9f3a"
             ],
             [
              0.8888888888888888,
              "#fdca26"
             ],
             [
              1,
              "#f0f921"
             ]
            ],
            "type": "heatmapgl"
           }
          ],
          "histogram": [
           {
            "marker": {
             "pattern": {
              "fillmode": "overlay",
              "size": 10,
              "solidity": 0.2
             }
            },
            "type": "histogram"
           }
          ],
          "histogram2d": [
           {
            "colorbar": {
             "outlinewidth": 0,
             "ticks": ""
            },
            "colorscale": [
             [
              0,
              "#0d0887"
             ],
             [
              0.1111111111111111,
              "#46039f"
             ],
             [
              0.2222222222222222,
              "#7201a8"
             ],
             [
              0.3333333333333333,
              "#9c179e"
             ],
             [
              0.4444444444444444,
              "#bd3786"
             ],
             [
              0.5555555555555556,
              "#d8576b"
             ],
             [
              0.6666666666666666,
              "#ed7953"
             ],
             [
              0.7777777777777778,
              "#fb9f3a"
             ],
             [
              0.8888888888888888,
              "#fdca26"
             ],
             [
              1,
              "#f0f921"
             ]
            ],
            "type": "histogram2d"
           }
          ],
          "histogram2dcontour": [
           {
            "colorbar": {
             "outlinewidth": 0,
             "ticks": ""
            },
            "colorscale": [
             [
              0,
              "#0d0887"
             ],
             [
              0.1111111111111111,
              "#46039f"
             ],
             [
              0.2222222222222222,
              "#7201a8"
             ],
             [
              0.3333333333333333,
              "#9c179e"
             ],
             [
              0.4444444444444444,
              "#bd3786"
             ],
             [
              0.5555555555555556,
              "#d8576b"
             ],
             [
              0.6666666666666666,
              "#ed7953"
             ],
             [
              0.7777777777777778,
              "#fb9f3a"
             ],
             [
              0.8888888888888888,
              "#fdca26"
             ],
             [
              1,
              "#f0f921"
             ]
            ],
            "type": "histogram2dcontour"
           }
          ],
          "mesh3d": [
           {
            "colorbar": {
             "outlinewidth": 0,
             "ticks": ""
            },
            "type": "mesh3d"
           }
          ],
          "parcoords": [
           {
            "line": {
             "colorbar": {
              "outlinewidth": 0,
              "ticks": ""
             }
            },
            "type": "parcoords"
           }
          ],
          "pie": [
           {
            "automargin": true,
            "type": "pie"
           }
          ],
          "scatter": [
           {
            "marker": {
             "colorbar": {
              "outlinewidth": 0,
              "ticks": ""
             }
            },
            "type": "scatter"
           }
          ],
          "scatter3d": [
           {
            "line": {
             "colorbar": {
              "outlinewidth": 0,
              "ticks": ""
             }
            },
            "marker": {
             "colorbar": {
              "outlinewidth": 0,
              "ticks": ""
             }
            },
            "type": "scatter3d"
           }
          ],
          "scattercarpet": [
           {
            "marker": {
             "colorbar": {
              "outlinewidth": 0,
              "ticks": ""
             }
            },
            "type": "scattercarpet"
           }
          ],
          "scattergeo": [
           {
            "marker": {
             "colorbar": {
              "outlinewidth": 0,
              "ticks": ""
             }
            },
            "type": "scattergeo"
           }
          ],
          "scattergl": [
           {
            "marker": {
             "colorbar": {
              "outlinewidth": 0,
              "ticks": ""
             }
            },
            "type": "scattergl"
           }
          ],
          "scattermapbox": [
           {
            "marker": {
             "colorbar": {
              "outlinewidth": 0,
              "ticks": ""
             }
            },
            "type": "scattermapbox"
           }
          ],
          "scatterpolar": [
           {
            "marker": {
             "colorbar": {
              "outlinewidth": 0,
              "ticks": ""
             }
            },
            "type": "scatterpolar"
           }
          ],
          "scatterpolargl": [
           {
            "marker": {
             "colorbar": {
              "outlinewidth": 0,
              "ticks": ""
             }
            },
            "type": "scatterpolargl"
           }
          ],
          "scatterternary": [
           {
            "marker": {
             "colorbar": {
              "outlinewidth": 0,
              "ticks": ""
             }
            },
            "type": "scatterternary"
           }
          ],
          "surface": [
           {
            "colorbar": {
             "outlinewidth": 0,
             "ticks": ""
            },
            "colorscale": [
             [
              0,
              "#0d0887"
             ],
             [
              0.1111111111111111,
              "#46039f"
             ],
             [
              0.2222222222222222,
              "#7201a8"
             ],
             [
              0.3333333333333333,
              "#9c179e"
             ],
             [
              0.4444444444444444,
              "#bd3786"
             ],
             [
              0.5555555555555556,
              "#d8576b"
             ],
             [
              0.6666666666666666,
              "#ed7953"
             ],
             [
              0.7777777777777778,
              "#fb9f3a"
             ],
             [
              0.8888888888888888,
              "#fdca26"
             ],
             [
              1,
              "#f0f921"
             ]
            ],
            "type": "surface"
           }
          ],
          "table": [
           {
            "cells": {
             "fill": {
              "color": "#EBF0F8"
             },
             "line": {
              "color": "white"
             }
            },
            "header": {
             "fill": {
              "color": "#C8D4E3"
             },
             "line": {
              "color": "white"
             }
            },
            "type": "table"
           }
          ]
         },
         "layout": {
          "annotationdefaults": {
           "arrowcolor": "#2a3f5f",
           "arrowhead": 0,
           "arrowwidth": 1
          },
          "autotypenumbers": "strict",
          "coloraxis": {
           "colorbar": {
            "outlinewidth": 0,
            "ticks": ""
           }
          },
          "colorscale": {
           "diverging": [
            [
             0,
             "#8e0152"
            ],
            [
             0.1,
             "#c51b7d"
            ],
            [
             0.2,
             "#de77ae"
            ],
            [
             0.3,
             "#f1b6da"
            ],
            [
             0.4,
             "#fde0ef"
            ],
            [
             0.5,
             "#f7f7f7"
            ],
            [
             0.6,
             "#e6f5d0"
            ],
            [
             0.7,
             "#b8e186"
            ],
            [
             0.8,
             "#7fbc41"
            ],
            [
             0.9,
             "#4d9221"
            ],
            [
             1,
             "#276419"
            ]
           ],
           "sequential": [
            [
             0,
             "#0d0887"
            ],
            [
             0.1111111111111111,
             "#46039f"
            ],
            [
             0.2222222222222222,
             "#7201a8"
            ],
            [
             0.3333333333333333,
             "#9c179e"
            ],
            [
             0.4444444444444444,
             "#bd3786"
            ],
            [
             0.5555555555555556,
             "#d8576b"
            ],
            [
             0.6666666666666666,
             "#ed7953"
            ],
            [
             0.7777777777777778,
             "#fb9f3a"
            ],
            [
             0.8888888888888888,
             "#fdca26"
            ],
            [
             1,
             "#f0f921"
            ]
           ],
           "sequentialminus": [
            [
             0,
             "#0d0887"
            ],
            [
             0.1111111111111111,
             "#46039f"
            ],
            [
             0.2222222222222222,
             "#7201a8"
            ],
            [
             0.3333333333333333,
             "#9c179e"
            ],
            [
             0.4444444444444444,
             "#bd3786"
            ],
            [
             0.5555555555555556,
             "#d8576b"
            ],
            [
             0.6666666666666666,
             "#ed7953"
            ],
            [
             0.7777777777777778,
             "#fb9f3a"
            ],
            [
             0.8888888888888888,
             "#fdca26"
            ],
            [
             1,
             "#f0f921"
            ]
           ]
          },
          "colorway": [
           "#636efa",
           "#EF553B",
           "#00cc96",
           "#ab63fa",
           "#FFA15A",
           "#19d3f3",
           "#FF6692",
           "#B6E880",
           "#FF97FF",
           "#FECB52"
          ],
          "font": {
           "color": "#2a3f5f"
          },
          "geo": {
           "bgcolor": "white",
           "lakecolor": "white",
           "landcolor": "#E5ECF6",
           "showlakes": true,
           "showland": true,
           "subunitcolor": "white"
          },
          "hoverlabel": {
           "align": "left"
          },
          "hovermode": "closest",
          "mapbox": {
           "style": "light"
          },
          "paper_bgcolor": "white",
          "plot_bgcolor": "#E5ECF6",
          "polar": {
           "angularaxis": {
            "gridcolor": "white",
            "linecolor": "white",
            "ticks": ""
           },
           "bgcolor": "#E5ECF6",
           "radialaxis": {
            "gridcolor": "white",
            "linecolor": "white",
            "ticks": ""
           }
          },
          "scene": {
           "xaxis": {
            "backgroundcolor": "#E5ECF6",
            "gridcolor": "white",
            "gridwidth": 2,
            "linecolor": "white",
            "showbackground": true,
            "ticks": "",
            "zerolinecolor": "white"
           },
           "yaxis": {
            "backgroundcolor": "#E5ECF6",
            "gridcolor": "white",
            "gridwidth": 2,
            "linecolor": "white",
            "showbackground": true,
            "ticks": "",
            "zerolinecolor": "white"
           },
           "zaxis": {
            "backgroundcolor": "#E5ECF6",
            "gridcolor": "white",
            "gridwidth": 2,
            "linecolor": "white",
            "showbackground": true,
            "ticks": "",
            "zerolinecolor": "white"
           }
          },
          "shapedefaults": {
           "line": {
            "color": "#2a3f5f"
           }
          },
          "ternary": {
           "aaxis": {
            "gridcolor": "white",
            "linecolor": "white",
            "ticks": ""
           },
           "baxis": {
            "gridcolor": "white",
            "linecolor": "white",
            "ticks": ""
           },
           "bgcolor": "#E5ECF6",
           "caxis": {
            "gridcolor": "white",
            "linecolor": "white",
            "ticks": ""
           }
          },
          "title": {
           "x": 0.05
          },
          "xaxis": {
           "automargin": true,
           "gridcolor": "white",
           "linecolor": "white",
           "ticks": "",
           "title": {
            "standoff": 15
           },
           "zerolinecolor": "white",
           "zerolinewidth": 2
          },
          "yaxis": {
           "automargin": true,
           "gridcolor": "white",
           "linecolor": "white",
           "ticks": "",
           "title": {
            "standoff": 15
           },
           "zerolinecolor": "white",
           "zerolinewidth": 2
          }
         }
        }
       }
      }
     },
     "metadata": {}
    }
   ],
   "metadata": {}
  },
  {
   "cell_type": "markdown",
   "source": [
    "With the naked eye, the two plots above seem to suggest that the reconstruction error for the abnormal rhythm ECG is larger. We will formalize our findings in the next section.\n",
    "\n",
    "## Detecting anomalies\n",
    "\n",
    "Here we will compute the reconstruction error for all the data points both normal and abnormal.  For the reconstruction error, we will use the mean absolute error.\n",
    "We will compute the reconstruction error of the training dataset and choose a threshold  (one standard deviation away from the mean) above which we will classify an ECG as abnormal.\n"
   ],
   "metadata": {}
  },
  {
   "cell_type": "code",
   "execution_count": 14,
   "source": [
    "reconstructions = autoencoder.predict(normal_train_data)\n",
    "train_loss = tf.keras.losses.mae(reconstructions, normal_train_data)\n",
    "\n",
    "fig = go.Figure()\n",
    "fig.add_trace(go.Histogram(x=train_loss[None,:][0],name='Normal loss'))"
   ],
   "outputs": [
    {
     "output_type": "display_data",
     "data": {
      "application/vnd.plotly.v1+json": {
       "config": {
        "plotlyServerURL": "https://plot.ly"
       },
       "data": [
        {
         "name": "Normal loss",
         "type": "histogram",
         "x": [
          0.02775752730667591,
          0.012134557589888573,
          0.019443640485405922,
          0.01947467401623726,
          0.012380308471620083,
          0.01817367784678936,
          0.020991306751966476,
          0.014807319268584251,
          0.015208760276436806,
          0.01840386353433132,
          0.014590353704988956,
          0.009692950174212456,
          0.012159211561083794,
          0.025019602850079536,
          0.0673135370016098,
          0.02208506129682064,
          0.014362232759594917,
          0.012166932225227356,
          0.04028287157416344,
          0.00984575878828764,
          0.01584511622786522,
          0.01165793463587761,
          0.021720657125115395,
          0.02543947659432888,
          0.025587406009435654,
          0.02481957897543907,
          0.03289743512868881,
          0.019078873097896576,
          0.008854514919221401,
          0.017427686601877213,
          0.02262609265744686,
          0.025472188368439674,
          0.012774237431585789,
          0.01524354238063097,
          0.013075509108603,
          0.008974386379122734,
          0.013599192723631859,
          0.021328112110495567,
          0.029616639018058777,
          0.008820011280477047,
          0.015502650290727615,
          0.04495462775230408,
          0.013689117506146431,
          0.01250234991312027,
          0.01780022494494915,
          0.014989456161856651,
          0.022295307368040085,
          0.014058317057788372,
          0.022661926224827766,
          0.0114337969571352,
          0.011005294509232044,
          0.007708081975579262,
          0.020935028791427612,
          0.014946440234780312,
          0.013148251920938492,
          0.01568126678466797,
          0.04258986562490463,
          0.029675228521227837,
          0.0213166493922472,
          0.04546675458550453,
          0.02679784782230854,
          0.042048435658216476,
          0.02389054000377655,
          0.022834664210677147,
          0.010323673486709595,
          0.01958032138645649,
          0.023441815748810768,
          0.018847813829779625,
          0.0417855866253376,
          0.011223089881241322,
          0.08456382900476456,
          0.018496567383408546,
          0.015886744484305382,
          0.026365235447883606,
          0.01368979923427105,
          0.013422571122646332,
          0.014588097110390663,
          0.013965793885290623,
          0.054946281015872955,
          0.011082508601248264,
          0.025323454290628433,
          0.016855858266353607,
          0.014188585802912712,
          0.05051913857460022,
          0.014023597352206707,
          0.012614152394235134,
          0.012545970268547535,
          0.013133692555129528,
          0.01179706584662199,
          0.08074509352445602,
          0.009741688147187233,
          0.011631996370851994,
          0.014079252257943153,
          0.014130081050097942,
          0.02259226143360138,
          0.02803410403430462,
          0.024615632370114326,
          0.010769554413855076,
          0.016427192836999893,
          0.008921785280108452,
          0.05467740073800087,
          0.029718099161982536,
          0.022737745195627213,
          0.022126510739326477,
          0.015660738572478294,
          0.01605367474257946,
          0.028247419744729996,
          0.011188873089849949,
          0.011156638152897358,
          0.01835794560611248,
          0.012053481303155422,
          0.01387808471918106,
          0.020855365321040154,
          0.022280855104327202,
          0.025339119136333466,
          0.07067133486270905,
          0.028898386284708977,
          0.01837844029068947,
          0.009614318609237671,
          0.013859863393008709,
          0.012156432494521141,
          0.010009601712226868,
          0.015369468368589878,
          0.01931319385766983,
          0.027595600113272667,
          0.026003416627645493,
          0.01356268860399723,
          0.009916217066347599,
          0.0215777438133955,
          0.02334602177143097,
          0.01419267151504755,
          0.040818121284246445,
          0.012862135656177998,
          0.019829709082841873,
          0.017893459647893906,
          0.011081388220191002,
          0.010686952620744705,
          0.023845447227358818,
          0.010332953184843063,
          0.029133545234799385,
          0.05278218537569046,
          0.013975827023386955,
          0.012425221502780914,
          0.024274175986647606,
          0.013530436903238297,
          0.012293588370084763,
          0.012180461548268795,
          0.033042214810848236,
          0.010115492157638073,
          0.06115392968058586,
          0.012508077546954155,
          0.018041076138615608,
          0.021340301260352135,
          0.009158522821962833,
          0.01794273778796196,
          0.061510857194662094,
          0.011995026841759682,
          0.010230563580989838,
          0.01705268770456314,
          0.008904386311769485,
          0.025370154529809952,
          0.013087647967040539,
          0.010200774297118187,
          0.02487674169242382,
          0.013642029836773872,
          0.02103879675269127,
          0.02796480432152748,
          0.015583550557494164,
          0.019162382930517197,
          0.0311654731631279,
          0.03509591147303581,
          0.01218726672232151,
          0.036849603056907654,
          0.015431989915668964,
          0.007118137553334236,
          0.021656760945916176,
          0.010971699841320515,
          0.02904338575899601,
          0.015709184110164642,
          0.01470946241170168,
          0.012722082436084747,
          0.02589474245905876,
          0.01526695303618908,
          0.03586850315332413,
          0.015474440529942513,
          0.01951267383992672,
          0.029222382232546806,
          0.016344519332051277,
          0.021318256855010986,
          0.027364779263734818,
          0.013066141866147518,
          0.050979066640138626,
          0.022568752989172935,
          0.010831625200808048,
          0.018658917397260666,
          0.014063570648431778,
          0.02142086997628212,
          0.018026147037744522,
          0.011249005794525146,
          0.010938964784145355,
          0.015674367547035217,
          0.02322346717119217,
          0.049594465643167496,
          0.01347072422504425,
          0.023289108648896217,
          0.02673790603876114,
          0.01020903792232275,
          0.012295026332139969,
          0.014534407295286655,
          0.013591974973678589,
          0.016483314335346222,
          0.01244163978844881,
          0.013188297860324383,
          0.014663418754935265,
          0.024647215381264687,
          0.016504177823662758,
          0.011176829226315022,
          0.01905088685452938,
          0.015252823941409588,
          0.026864245533943176,
          0.012448118068277836,
          0.03402053937315941,
          0.015884673222899437,
          0.012635021470487118,
          0.018005043268203735,
          0.013855360448360443,
          0.02391822449862957,
          0.020732734352350235,
          0.010681906715035439,
          0.015948303043842316,
          0.013994293287396431,
          0.011372081004083157,
          0.012348350137472153,
          0.015116148628294468,
          0.012742593884468079,
          0.01044921949505806,
          0.0204960647970438,
          0.016000866889953613,
          0.029856828972697258,
          0.026467427611351013,
          0.023920021951198578,
          0.011114099994301796,
          0.01131764892488718,
          0.0222829170525074,
          0.01492561399936676,
          0.019075406715273857,
          0.008470315486192703,
          0.013401458039879799,
          0.01385477650910616,
          0.02227652631700039,
          0.019702043384313583,
          0.022483566775918007,
          0.028083911165595055,
          0.02398231066763401,
          0.013844418339431286,
          0.02235954999923706,
          0.020108021795749664,
          0.02103615738451481,
          0.009179905988276005,
          0.013549327850341797,
          0.013070070184767246,
          0.027400987222790718,
          0.027666470035910606,
          0.028325071558356285,
          0.014795036055147648,
          0.04295393452048302,
          0.009293755516409874,
          0.02001131884753704,
          0.035848211497068405,
          0.025457730516791344,
          0.009101483039557934,
          0.017685195431113243,
          0.010321956127882004,
          0.020978089421987534,
          0.019811853766441345,
          0.012638348154723644,
          0.02625422738492489,
          0.059720467776060104,
          0.01734454184770584,
          0.02869311347603798,
          0.015747161582112312,
          0.013948837295174599,
          0.0429670624434948,
          0.01721527986228466,
          0.01302611455321312,
          0.01563286781311035,
          0.014265495352447033,
          0.011034918949007988,
          0.015858232975006104,
          0.011963129043579102,
          0.010022084228694439,
          0.02782357670366764,
          0.01741669327020645,
          0.022868039086461067,
          0.026909036561846733,
          0.019256386905908585,
          0.05784561112523079,
          0.012890521436929703,
          0.028689870610833168,
          0.013647493906319141,
          0.09868039935827255,
          0.00851778406649828,
          0.03125505521893501,
          0.027147918939590454,
          0.02000502124428749,
          0.04555545374751091,
          0.023442577570676804,
          0.01766398549079895,
          0.016053739935159683,
          0.012578711844980717,
          0.028665130957961082,
          0.01043885201215744,
          0.02730734460055828,
          0.018140967935323715,
          0.025237061083316803,
          0.018322348594665527,
          0.010187143459916115,
          0.010863387025892735,
          0.029318660497665405,
          0.013606961816549301,
          0.015988297760486603,
          0.012980332598090172,
          0.06984899193048477,
          0.01577717624604702,
          0.01394188217818737,
          0.019821232184767723,
          0.018402032554149628,
          0.011263539083302021,
          0.014961957931518555,
          0.013589205220341682,
          0.02037162519991398,
          0.00929961446672678,
          0.009793913923203945,
          0.011936143040657043,
          0.01956302858889103,
          0.02117563970386982,
          0.007987942546606064,
          0.013922340236604214,
          0.018396126106381416,
          0.02509106509387493,
          0.01393591333180666,
          0.025473736226558685,
          0.010163882747292519,
          0.02002919651567936,
          0.01831304095685482,
          0.01131969690322876,
          0.024601878598332405,
          0.015599057078361511,
          0.022082947194576263,
          0.028301356360316277,
          0.023093491792678833,
          0.021686788648366928,
          0.022890988737344742,
          0.009127927012741566,
          0.06356215476989746,
          0.011685391888022423,
          0.016001738607883453,
          0.010052972473204136,
          0.013967910781502724,
          0.05509815737605095,
          0.01542682945728302,
          0.021516628563404083,
          0.024988284334540367,
          0.03166124224662781,
          0.012441751547157764,
          0.014932073652744293,
          0.020902954041957855,
          0.025243792682886124,
          0.012685142457485199,
          0.020316312089562416,
          0.010024633258581161,
          0.016455592587590218,
          0.027551820501685143,
          0.015271920710802078,
          0.013784836046397686,
          0.06742292642593384,
          0.014112462289631367,
          0.049975860863924026,
          0.024442924186587334,
          0.023709511384367943,
          0.014053957536816597,
          0.011395354755222797,
          0.02444210648536682,
          0.016563862562179565,
          0.01952519454061985,
          0.02621551603078842,
          0.013816498219966888,
          0.03740149363875389,
          0.0139696029946208,
          0.026181407272815704,
          0.03369200974702835,
          0.016466517001390457,
          0.010616344399750233,
          0.02402801439166069,
          0.010726523585617542,
          0.007739251013845205,
          0.023952629417181015,
          0.008889264427125454,
          0.01454614195972681,
          0.019054455682635307,
          0.02839542366564274,
          0.015093679539859295,
          0.01062640082091093,
          0.011603382416069508,
          0.027597740292549133,
          0.013148332014679909,
          0.02115742117166519,
          0.01569090224802494,
          0.026169737800955772,
          0.035122886300086975,
          0.010912202298641205,
          0.015136991627514362,
          0.00944262370467186,
          0.029141554608941078,
          0.01805393025279045,
          0.022384312003850937,
          0.013172225095331669,
          0.040732428431510925,
          0.013736439868807793,
          0.011500410735607147,
          0.01405024342238903,
          0.017161250114440918,
          0.014150882139801979,
          0.04723216965794563,
          0.024651693180203438,
          0.026159916073083878,
          0.041782885789871216,
          0.013537582010030746,
          0.010388482362031937,
          0.03273746371269226,
          0.013115167617797852,
          0.02772362343966961,
          0.018873989582061768,
          0.03195832297205925,
          0.014580517075955868,
          0.02753785252571106,
          0.027381446212530136,
          0.009158286266028881,
          0.01662052422761917,
          0.025477981194853783,
          0.011611461639404297,
          0.023811664432287216,
          0.012941448949277401,
          0.017616651952266693,
          0.049927569925785065,
          0.021074092015624046,
          0.015663454309105873,
          0.013008746318519115,
          0.010839704424142838,
          0.022724110633134842,
          0.022619521245360374,
          0.01690579392015934,
          0.011251100338995457,
          0.024882115423679352,
          0.030604863539338112,
          0.013122892938554287,
          0.028902946040034294,
          0.016333308070898056,
          0.02171413041651249,
          0.017311716452240944,
          0.012231054715812206,
          0.013434072956442833,
          0.022921575233340263,
          0.02577676810324192,
          0.009497594088315964,
          0.034781284630298615,
          0.023050984367728233,
          0.010826697573065758,
          0.020797202363610268,
          0.01748615689575672,
          0.05630280449986458,
          0.020914407446980476,
          0.022565433755517006,
          0.020730525255203247,
          0.013716134242713451,
          0.009553872980177402,
          0.021999990567564964,
          0.029165100306272507,
          0.011799323372542858,
          0.017190858721733093,
          0.02011548914015293,
          0.017888201400637627,
          0.010708854533731937,
          0.013085157610476017,
          0.013494378887116909,
          0.014461437240242958,
          0.016685716807842255,
          0.01763211004436016,
          0.014495907351374626,
          0.013250877149403095,
          0.02392915077507496,
          0.021726470440626144,
          0.011749629862606525,
          0.020914588123559952,
          0.05174301564693451,
          0.02247433550655842,
          0.013607029803097248,
          0.013007676228880882,
          0.0149894580245018,
          0.018258143216371536,
          0.016242656856775284,
          0.01020083762705326,
          0.015538152307271957,
          0.015052299946546555,
          0.01021502073854208,
          0.011653691530227661,
          0.0679222121834755,
          0.026596389710903168,
          0.02236032672226429,
          0.01161289308220148,
          0.011785099282860756,
          0.04492687061429024,
          0.01455922145396471,
          0.013063068501651287,
          0.011679328046739101,
          0.026410866528749466,
          0.029216930270195007,
          0.017444875091314316,
          0.02020771987736225,
          0.01818469539284706,
          0.009172090329229832,
          0.013631878420710564,
          0.024599019438028336,
          0.016192207112908363,
          0.05562876909971237,
          0.013253316283226013,
          0.02534971386194229,
          0.017250344157218933,
          0.021357426419854164,
          0.01059053186327219,
          0.01790415495634079,
          0.01831560768187046,
          0.013258137740194798,
          0.024473967030644417,
          0.011440618894994259,
          0.015334776602685452,
          0.015678731724619865,
          0.015337171033024788,
          0.011381207965314388,
          0.02262701280415058,
          0.014402613043785095,
          0.024045996367931366,
          0.022877447307109833,
          0.00828981027007103,
          0.009748543612658978,
          0.011637337505817413,
          0.0157608799636364,
          0.010060644708573818,
          0.01171710155904293,
          0.017110973596572876,
          0.017033344134688377,
          0.013447416014969349,
          0.012853841297328472,
          0.011101030744612217,
          0.012820945121347904,
          0.04680759459733963,
          0.013619022443890572,
          0.020977694541215897,
          0.02005353569984436,
          0.00886191800236702,
          0.018838945776224136,
          0.03119318187236786,
          0.05692432075738907,
          0.026721006259322166,
          0.02563604898750782,
          0.016495032235980034,
          0.011575773358345032,
          0.016180546954274178,
          0.04554063826799393,
          0.020688042044639587,
          0.010782425291836262,
          0.01128932274878025,
          0.007270269561558962,
          0.014104857109487057,
          0.013564989902079105,
          0.01343036163598299,
          0.013297664932906628,
          0.015147478319704533,
          0.02446785755455494,
          0.01618749275803566,
          0.02410713955760002,
          0.011882876046001911,
          0.01328776590526104,
          0.010146387852728367,
          0.03774420544505119,
          0.01015895139425993,
          0.011444266885519028,
          0.01705750823020935,
          0.016105877235531807,
          0.02510020323097706,
          0.009900643490254879,
          0.01702907122671604,
          0.01259842049330473,
          0.010670123621821404,
          0.023806748911738396,
          0.015104018151760101,
          0.027340272441506386,
          0.012377704493701458,
          0.07228919863700867,
          0.02992064692080021,
          0.010460488498210907,
          0.010440078563988209,
          0.03044659085571766,
          0.02256329171359539,
          0.033407703042030334,
          0.013469305820763111,
          0.023215245455503464,
          0.03479943424463272,
          0.010479464195668697,
          0.01752607338130474,
          0.02157227322459221,
          0.020944565534591675,
          0.013075961731374264,
          0.01409071497619152,
          0.011685873381793499,
          0.023923438042402267,
          0.04962684586644173,
          0.01709023118019104,
          0.01421065628528595,
          0.015622342936694622,
          0.03168739005923271,
          0.011406907811760902,
          0.010204816237092018,
          0.010639236308634281,
          0.014193261042237282,
          0.0277151707559824,
          0.015671245753765106,
          0.013146640732884407,
          0.02957102656364441,
          0.018675217404961586,
          0.01546245627105236,
          0.010145473293960094,
          0.014132056385278702,
          0.03994607552886009,
          0.02650373801589012,
          0.009954211302101612,
          0.012605825439095497,
          0.017601456493139267,
          0.01319341454654932,
          0.008969510905444622,
          0.039804887026548386,
          0.012913231737911701,
          0.01212417334318161,
          0.019718708470463753,
          0.017936117947101593,
          0.030709076672792435,
          0.02985730767250061,
          0.012180590070784092,
          0.012063517235219479,
          0.018566999584436417,
          0.01816108636558056,
          0.008845390751957893,
          0.02108638361096382,
          0.021767525002360344,
          0.013237952254712582,
          0.012128271162509918,
          0.0118630426004529,
          0.018375763669610023,
          0.009237647987902164,
          0.013069095090031624,
          0.03315465897321701,
          0.03177244961261749,
          0.018230346962809563,
          0.020580340176820755,
          0.01309612113982439,
          0.0156199149787426,
          0.013609671033918858,
          0.011704754084348679,
          0.012174581177532673,
          0.014799113385379314,
          0.009914246387779713,
          0.03527474030852318,
          0.020794445648789406,
          0.011720486916601658,
          0.020253149792551994,
          0.010731277987360954,
          0.01759863644838333,
          0.014092505909502506,
          0.07636012881994247,
          0.008448803797364235,
          0.01298388373106718,
          0.030545612797141075,
          0.030491529032588005,
          0.01933690533041954,
          0.04270593076944351,
          0.01296200416982174,
          0.009977848269045353,
          0.01320568472146988,
          0.011793131940066814,
          0.028085235506296158,
          0.011734836734831333,
          0.04506954178214073,
          0.00952277984470129,
          0.020682496950030327,
          0.01899128593504429,
          0.022781500592827797,
          0.049998681992292404,
          0.024579057469964027,
          0.030511420220136642,
          0.01574801467359066,
          0.02708631567656994,
          0.009415462613105774,
          0.02778579480946064,
          0.01090879924595356,
          0.016629306599497795,
          0.022851984947919846,
          0.01340414397418499,
          0.0304330512881279,
          0.016251061111688614,
          0.017740849405527115,
          0.008976681157946587,
          0.014446963556110859,
          0.015516141429543495,
          0.0202440544962883,
          0.023902758955955505,
          0.036641620099544525,
          0.021651936694979668,
          0.010894302278757095,
          0.019301138818264008,
          0.0193303395062685,
          0.013026397675275803,
          0.014571971260011196,
          0.015027469955384731,
          0.016722330823540688,
          0.009578078053891659,
          0.01013290137052536,
          0.026301249861717224,
          0.0110829072073102,
          0.02332979440689087,
          0.010627266019582748,
          0.009553131647408009,
          0.03771770000457764,
          0.02343306876718998,
          0.013072307221591473,
          0.012224864214658737,
          0.024517657235264778,
          0.011780514381825924,
          0.009720352478325367,
          0.012439358048141003,
          0.0613054558634758,
          0.03108101151883602,
          0.028148716315627098,
          0.022324664518237114,
          0.024414867162704468,
          0.013662937097251415,
          0.027461886405944824,
          0.013230342417955399,
          0.011685257777571678,
          0.010574659332633018,
          0.029847823083400726,
          0.01696663536131382,
          0.008815966546535492,
          0.016071299090981483,
          0.06286220252513885,
          0.01883823610842228,
          0.030145172029733658,
          0.07618172466754913,
          0.0173783116042614,
          0.010077539831399918,
          0.013242471031844616,
          0.018944324925541878,
          0.01574481837451458,
          0.07303660362958908,
          0.023579340428113937,
          0.014415180310606956,
          0.032935481518507004,
          0.01314148772507906,
          0.030426308512687683,
          0.024561669677495956,
          0.04778081178665161,
          0.030271628871560097,
          0.01318263728171587,
          0.013384279794991016,
          0.02070518396794796,
          0.024725502356886864,
          0.012503893114626408,
          0.06017633154988289,
          0.011211076751351357,
          0.021778276190161705,
          0.022436099126935005,
          0.0252242349088192,
          0.014529461972415447,
          0.036211736500263214,
          0.014769498258829117,
          0.013608075678348541,
          0.026236891746520996,
          0.015150283463299274,
          0.012658563442528248,
          0.023745033890008926,
          0.013069050386548042,
          0.013857737183570862,
          0.013156784698367119,
          0.009791135787963867,
          0.01710554212331772,
          0.016627196222543716,
          0.010866970755159855,
          0.013190848752856255,
          0.010875346139073372,
          0.015960581600666046,
          0.02249576523900032,
          0.020293593406677246,
          0.019780002534389496,
          0.00893328431993723,
          0.014740734361112118,
          0.01045271661132574,
          0.007920493371784687,
          0.012150765396654606,
          0.012588788755238056,
          0.013837561011314392,
          0.018226977437734604,
          0.01255760621279478,
          0.016173003241419792,
          0.013468794524669647,
          0.02092183567583561,
          0.016666844487190247,
          0.020190495997667313,
          0.027898211032152176,
          0.018645256757736206,
          0.01533221360296011,
          0.021092457696795464,
          0.025122473016381264,
          0.028833163902163506,
          0.02243436872959137,
          0.0507800430059433,
          0.03028883971273899,
          0.028830459341406822,
          0.02435057796537876,
          0.015221809968352318,
          0.022368289530277252,
          0.026092737913131714,
          0.020468072965741158,
          0.026263078674674034,
          0.026350174099206924,
          0.03434733301401138,
          0.019386451691389084,
          0.01351524330675602,
          0.0118149658665061,
          0.0248032845556736,
          0.02830982580780983,
          0.016499483957886696,
          0.025298835709691048,
          0.02179544046521187,
          0.013977591879665852,
          0.012647505849599838,
          0.02142663300037384,
          0.012466109357774258,
          0.02317478321492672,
          0.014558185823261738,
          0.016180099919438362,
          0.023626474663615227,
          0.025854099541902542,
          0.02646419033408165,
          0.026281287893652916,
          0.011426219716668129,
          0.010690150782465935,
          0.02250823751091957,
          0.011362374760210514,
          0.016686903312802315,
          0.01311813946813345,
          0.03708415478467941,
          0.025098435580730438,
          0.020107364282011986,
          0.009074819274246693,
          0.019081145524978638,
          0.015835680067539215,
          0.013873889110982418,
          0.012620831839740276,
          0.007199192885309458,
          0.02411179058253765,
          0.015364660881459713,
          0.029508015140891075,
          0.010922583751380444,
          0.025459647178649902,
          0.010581727139651775,
          0.018652260303497314,
          0.02872786484658718,
          0.02811434678733349,
          0.016642820090055466,
          0.024817941710352898,
          0.021613793447613716,
          0.015847008675336838,
          0.019894666969776154,
          0.010325152426958084,
          0.008313118480145931,
          0.011526594869792461,
          0.016823580488562584,
          0.018084796145558357,
          0.01667064055800438,
          0.03240065649151802,
          0.022831806913018227,
          0.023071570321917534,
          0.017737317830324173,
          0.014376253820955753,
          0.02472858689725399,
          0.009679047390818596,
          0.01317576877772808,
          0.024072712287306786,
          0.0101618068292737,
          0.0208488367497921,
          0.01996506191790104,
          0.030632147565484047,
          0.03870461881160736,
          0.01031331717967987,
          0.03246757760643959,
          0.01403415109962225,
          0.011305258609354496,
          0.011129285208880901,
          0.011716731823980808,
          0.013787773437798023,
          0.022074757143855095,
          0.01151781901717186,
          0.013138185255229473,
          0.025445247069001198,
          0.022032305598258972,
          0.01521577499806881,
          0.018164530396461487,
          0.010373183526098728,
          0.023637894541025162,
          0.014539630152285099,
          0.014245842583477497,
          0.012968756258487701,
          0.020992936566472054,
          0.02374991774559021,
          0.05061216279864311,
          0.017827896401286125,
          0.023217322304844856,
          0.0105051314458251,
          0.02324465848505497,
          0.015578321181237698,
          0.05462966486811638,
          0.01713034324347973,
          0.012480610981583595,
          0.030956203117966652,
          0.010747909545898438,
          0.025116687640547752,
          0.014951498247683048,
          0.024366507306694984,
          0.023278536275029182,
          0.03551900386810303,
          0.017801200971007347,
          0.00997273251414299,
          0.034205444157123566,
          0.021464772522449493,
          0.030091384425759315,
          0.03140220046043396,
          0.010357488878071308,
          0.024565523490309715,
          0.012515351176261902,
          0.022805536165833473,
          0.028528714552521706,
          0.027360787615180016,
          0.017913565039634705,
          0.026441117748618126,
          0.02768373303115368,
          0.02768656797707081,
          0.021353669464588165,
          0.011025200597941875,
          0.023161515593528748,
          0.011035972274839878,
          0.013184099458158016,
          0.011443421244621277,
          0.01180865429341793,
          0.031144097447395325,
          0.01954236440360546,
          0.03337812051177025,
          0.021902112290263176,
          0.021321453154087067,
          0.009212802164256573,
          0.01539500430226326,
          0.02267288789153099,
          0.024689173325896263,
          0.01476244255900383,
          0.011969311162829399,
          0.00843521486967802,
          0.00926834624260664,
          0.029178183525800705,
          0.021931547671556473,
          0.01756223477423191,
          0.036348067224025726,
          0.012465940788388252,
          0.011082894168794155,
          0.013004870153963566,
          0.01710544526576996,
          0.007632879074662924,
          0.019497152417898178,
          0.011552484706044197,
          0.015024082735180855,
          0.014615903608500957,
          0.021361617371439934,
          0.010096964426338673,
          0.019689489156007767,
          0.028088446706533432,
          0.016328727826476097,
          0.01375783421099186,
          0.032317858189344406,
          0.014900146052241325,
          0.012429028749465942,
          0.026799743995070457,
          0.01105095911771059,
          0.013664630241692066,
          0.016791947185993195,
          0.024724306538701057,
          0.017522772774100304,
          0.013081848621368408,
          0.01559658907353878,
          0.016106192022562027,
          0.024228299036622047,
          0.05811382085084915,
          0.01446600817143917,
          0.03040476143360138,
          0.010442840866744518,
          0.01197785697877407,
          0.009715179912745953,
          0.026618145406246185,
          0.01764833554625511,
          0.02684827148914337,
          0.0410807840526104,
          0.018401674926280975,
          0.01686764881014824,
          0.015071961097419262,
          0.024384265765547752,
          0.03556467965245247,
          0.021433567628264427,
          0.06220211461186409,
          0.01811918616294861,
          0.011862563900649548,
          0.012186024338006973,
          0.012429962866008282,
          0.03025922179222107,
          0.015887806192040443,
          0.01148801576346159,
          0.02396223321557045,
          0.015421230345964432,
          0.026370326057076454,
          0.018764328211545944,
          0.06587811559438705,
          0.025867901742458344,
          0.010788441635668278,
          0.029627084732055664,
          0.011830880306661129,
          0.026160450652241707,
          0.01162082701921463,
          0.010824121534824371,
          0.01583392731845379,
          0.014026057906448841,
          0.016666462644934654,
          0.016675610095262527,
          0.05888620764017105,
          0.0455719530582428,
          0.015738539397716522,
          0.011469370685517788,
          0.03717614710330963,
          0.012951130978763103,
          0.02417922578752041,
          0.017310356721282005,
          0.01717570051550865,
          0.02033405564725399,
          0.023793917149305344,
          0.011461607180535793,
          0.03675461933016777,
          0.01147723849862814,
          0.01130709983408451,
          0.01273064874112606,
          0.013659222051501274,
          0.030733909457921982,
          0.012483788654208183,
          0.02044215239584446,
          0.026890385895967484,
          0.009221795946359634,
          0.021800346672534943,
          0.014408886432647705,
          0.021664757281541824,
          0.08889927715063095,
          0.02007623016834259,
          0.035963017493486404,
          0.022684188559651375,
          0.022555464878678322,
          0.01279511209577322,
          0.010609137825667858,
          0.012394954450428486,
          0.032511450350284576,
          0.017565101385116577,
          0.049957506358623505,
          0.014025066047906876,
          0.05994472652673721,
          0.01356250699609518,
          0.023825617507100105,
          0.035460107028484344,
          0.01497646700590849,
          0.02198023907840252,
          0.010593811050057411,
          0.012201337143778801,
          0.01953013241291046,
          0.016032066196203232,
          0.021489372476935387,
          0.01945623755455017,
          0.01691214181482792,
          0.010979322716593742,
          0.02085270918905735,
          0.021690290421247482,
          0.013484531082212925,
          0.06188340112566948,
          0.02424859069287777,
          0.031176496297121048,
          0.03335301950573921,
          0.02741836942732334,
          0.01929089054465294,
          0.0670866072177887,
          0.02201012149453163,
          0.01285320520401001,
          0.010057437233626842,
          0.00971013493835926,
          0.011966240592300892,
          0.01445041038095951,
          0.015440096147358418,
          0.010046158917248249,
          0.02137174643576145,
          0.014821451157331467,
          0.014017731882631779,
          0.013331678695976734,
          0.017046542838215828,
          0.030271993950009346,
          0.031079690903425217,
          0.012954706326127052,
          0.03801073879003525,
          0.024586016312241554,
          0.028150608763098717,
          0.016038928180933,
          0.0578097328543663,
          0.013635928742587566,
          0.02447548136115074,
          0.01462486945092678,
          0.019778432324528694,
          0.010275128297507763,
          0.01653744839131832,
          0.0417596772313118,
          0.013237741775810719,
          0.02533773146569729,
          0.01220021490007639,
          0.010776885785162449,
          0.020841315388679504,
          0.012407963164150715,
          0.023645740002393723,
          0.014379811473190784,
          0.016825223341584206,
          0.0203945841640234,
          0.012778980657458305,
          0.01886862702667713,
          0.015321905724704266,
          0.015235337428748608,
          0.02125006727874279,
          0.01187977660447359,
          0.016352858394384384,
          0.023365596309304237,
          0.01620839722454548,
          0.035006169229745865,
          0.01936005987226963,
          0.01725020632147789,
          0.014290139079093933,
          0.024009577929973602,
          0.013213577680289745,
          0.021915068849921227,
          0.04386241361498833,
          0.02319766953587532,
          0.031517788767814636,
          0.02573184296488762,
          0.013574055396020412,
          0.02725854516029358,
          0.011720250360667706,
          0.034923162311315536,
          0.015895908698439598,
          0.02803114242851734,
          0.027227314189076424,
          0.021707432344555855,
          0.014050389640033245,
          0.014914042316377163,
          0.014872753992676735,
          0.017118453979492188,
          0.01664670556783676,
          0.016339022666215897,
          0.03147298842668533,
          0.03434641659259796,
          0.012026879005134106,
          0.019091421738266945,
          0.013679402880370617,
          0.012449541129171848,
          0.009023133665323257,
          0.026458794251084328,
          0.01602531224489212,
          0.011700214818120003,
          0.022694559767842293,
          0.02374810352921486,
          0.017539096996188164,
          0.0169770997017622,
          0.018968092277646065,
          0.01950140669941902,
          0.009471019729971886,
          0.018990421667695045,
          0.012763342820107937,
          0.03402538225054741,
          0.03942631930112839,
          0.038572318851947784,
          0.012773019261658192,
          0.012626267969608307,
          0.007973444648087025,
          0.01547483541071415,
          0.052652474492788315,
          0.015218432061374187,
          0.016979023814201355,
          0.010950205847620964,
          0.025421133264899254,
          0.013986017554998398,
          0.017269235104322433,
          0.015999598428606987,
          0.04337680712342262,
          0.01595527119934559,
          0.02046290412545204,
          0.024676956236362457,
          0.026867100968956947,
          0.01155844982713461,
          0.014569874852895737,
          0.016140589490532875,
          0.015004721470177174,
          0.015879061073064804,
          0.012339802458882332,
          0.0326579324901104,
          0.016326051205396652,
          0.023712296038866043,
          0.029489891603589058,
          0.020719198510050774,
          0.023526201024651527,
          0.02508399449288845,
          0.014136292040348053,
          0.009687572717666626,
          0.009019640274345875,
          0.014304634183645248,
          0.02539440616965294,
          0.07060536742210388,
          0.010449607856571674,
          0.015905898064374924,
          0.03243556618690491,
          0.013739358633756638,
          0.01640414260327816,
          0.013594119809567928,
          0.01937682554125786,
          0.009307598695158958,
          0.024606946855783463,
          0.016123611479997635,
          0.014568018727004528,
          0.015080279670655727,
          0.009809116832911968,
          0.011387711390852928,
          0.024528181180357933,
          0.01120238658040762,
          0.011449643410742283,
          0.011270267888903618,
          0.0077992994338274,
          0.011970526538789272,
          0.04126515984535217,
          0.05994606018066406,
          0.023963484913110733,
          0.022084014490246773,
          0.028965415433049202,
          0.015545446425676346,
          0.014755516313016415,
          0.0134123545140028,
          0.010143204592168331,
          0.017782462760806084,
          0.0095888776704669,
          0.02629612758755684,
          0.024640358984470367,
          0.028793347999453545,
          0.025363972410559654,
          0.014491344802081585,
          0.011812899261713028,
          0.012142457067966461,
          0.01241263560950756,
          0.015091304667294025,
          0.03459623083472252,
          0.020766090601682663,
          0.02649470418691635,
          0.02665429189801216,
          0.01873437687754631,
          0.011174882762134075,
          0.01502983272075653,
          0.020890546962618828,
          0.020825058221817017,
          0.015299418941140175,
          0.08352027088403702,
          0.020363127812743187,
          0.019641807302832603,
          0.007651589810848236,
          0.02559714950621128,
          0.015519276261329651,
          0.020379161462187767,
          0.014198824763298035,
          0.013624153099954128,
          0.01404773723334074,
          0.014514678157866001,
          0.02205996960401535,
          0.026731766760349274,
          0.016054073348641396,
          0.03204003721475601,
          0.012927030213177204,
          0.011899697594344616,
          0.016595959663391113,
          0.012150384485721588,
          0.02542279101908207,
          0.014720384031534195,
          0.015221575275063515,
          0.02825189381837845,
          0.013392305001616478,
          0.011333473958075047,
          0.00839298591017723,
          0.01554939430207014,
          0.015351402573287487,
          0.025059659034013748,
          0.015170170925557613,
          0.02626946195960045,
          0.010099569335579872,
          0.016525115817785263,
          0.012348347343504429,
          0.011485268361866474,
          0.014206547290086746,
          0.023045916110277176,
          0.023579733446240425,
          0.009776178747415543,
          0.024179700762033463,
          0.021594589576125145,
          0.01854807324707508,
          0.027986155822873116,
          0.0087746512144804,
          0.0130310645326972,
          0.03212406113743782,
          0.012861120514571667,
          0.015485286712646484,
          0.024542907252907753,
          0.015666980296373367,
          0.022720538079738617,
          0.024415016174316406,
          0.011596998199820518,
          0.014418616890907288,
          0.011865945532917976,
          0.01112008560448885,
          0.025498947128653526,
          0.01674460619688034,
          0.02082090638577938,
          0.019188841804862022,
          0.012225979007780552,
          0.02231748029589653,
          0.023597262799739838,
          0.011077065020799637,
          0.013196570798754692,
          0.018602821975946426,
          0.015725869685411453,
          0.01627124287188053,
          0.012868055142462254,
          0.023967478424310684,
          0.009223843924701214,
          0.019636793062090874,
          0.03315172344446182,
          0.01587991788983345,
          0.013727843761444092,
          0.016264507547020912,
          0.00965084508061409,
          0.02046044170856476,
          0.0630251094698906,
          0.046003200113773346,
          0.029669782146811485,
          0.017811883240938187,
          0.012889868579804897,
          0.015319419093430042,
          0.013914389535784721,
          0.023878449574112892,
          0.014367110095918179,
          0.021187666803598404,
          0.024577897042036057,
          0.015172137878835201,
          0.01562056876718998,
          0.009467634372413158,
          0.01839192770421505,
          0.018552809953689575,
          0.015979822725057602,
          0.011894427239894867,
          0.019896341487765312,
          0.009236550889909267,
          0.017649099230766296,
          0.016454806551337242,
          0.019662246108055115,
          0.04192366078495979,
          0.012242335826158524,
          0.04627029225230217,
          0.05779946222901344,
          0.027453038841485977,
          0.03433660790324211,
          0.01777949556708336,
          0.014020499773323536,
          0.013762334361672401,
          0.016933253034949303,
          0.013134650886058807,
          0.011999266222119331,
          0.015743926167488098,
          0.02046320028603077,
          0.024803126230835915,
          0.02196497842669487,
          0.012854604981839657,
          0.07343025505542755,
          0.015494278632104397,
          0.023857153952121735,
          0.010700725018978119,
          0.011542502790689468,
          0.027103349566459656,
          0.009162134490907192,
          0.015573697164654732,
          0.016968445852398872,
          0.030247576534748077,
          0.021575722843408585,
          0.010923064313828945,
          0.05646737664937973,
          0.02116980031132698,
          0.025953441858291626,
          0.02185826748609543,
          0.012901277281343937,
          0.01311139389872551,
          0.016435930505394936,
          0.018179655075073242,
          0.024927327409386635,
          0.01422454696148634,
          0.016613172367215157,
          0.01179116778075695,
          0.01172893401235342,
          0.028950296342372894,
          0.014693726785480976,
          0.0221017524600029,
          0.01908494345843792,
          0.012426397763192654,
          0.012363910675048828,
          0.023238981142640114,
          0.09167451411485672,
          0.061973899602890015,
          0.035755544900894165,
          0.028764745220541954,
          0.022844603285193443,
          0.02206815965473652,
          0.012616212479770184,
          0.01888829655945301,
          0.013344909064471722,
          0.025297770276665688,
          0.036518506705760956,
          0.03263310715556145,
          0.016935225576162338,
          0.0211395975202322,
          0.011703185737133026,
          0.01923677884042263,
          0.02132287621498108,
          0.02241973951458931,
          0.025721684098243713,
          0.019331663846969604,
          0.01440949086099863,
          0.022198718041181564,
          0.01065127644687891,
          0.014588582329452038,
          0.015018187463283539,
          0.014353875070810318,
          0.03375709801912308,
          0.016543949022889137,
          0.018586372956633568,
          0.022534629330039024,
          0.01613481156527996,
          0.014140547253191471,
          0.020193444564938545,
          0.028565919026732445,
          0.029035333544015884,
          0.012459596619009972,
          0.01081347931176424,
          0.02121129259467125,
          0.02627762407064438,
          0.009950431063771248,
          0.03150922805070877,
          0.013554686680436134,
          0.01245850045233965,
          0.013520216569304466,
          0.012695712968707085,
          0.011437035165727139,
          0.022662371397018433,
          0.01603451743721962,
          0.010011597536504269,
          0.013807888142764568,
          0.018110765144228935,
          0.010871050879359245,
          0.011185226030647755,
          0.017019398510456085,
          0.022016212344169617,
          0.023810096085071564,
          0.024499576538801193,
          0.01195425633341074,
          0.010051813907921314,
          0.016059186309576035,
          0.015524327754974365,
          0.02465895004570484,
          0.02662738598883152,
          0.008862633258104324,
          0.012923368252813816,
          0.026037976145744324,
          0.012327965348958969,
          0.017074057832360268,
          0.015349412336945534,
          0.010516045615077019,
          0.018147803843021393,
          0.017703847959637642,
          0.01361943781375885,
          0.020568186417222023,
          0.016000697389245033,
          0.010552321560680866,
          0.060060080140829086,
          0.026666060090065002,
          0.032014742493629456,
          0.023239674046635628,
          0.01296890527009964,
          0.026288969442248344,
          0.0126838069409132,
          0.045816268771886826,
          0.013004614040255547,
          0.026230279356241226,
          0.012000792659819126,
          0.02125283144414425,
          0.011545475572347641,
          0.01201662514358759,
          0.049159370362758636,
          0.016703680157661438,
          0.019881654530763626,
          0.013340120203793049,
          0.018102087080478668,
          0.023959925398230553,
          0.020688731223344803,
          0.010616723448038101,
          0.023283906280994415,
          0.025585850700736046,
          0.020141180604696274,
          0.028355516493320465,
          0.02327832579612732,
          0.01727013662457466,
          0.01412389986217022,
          0.028366977348923683,
          0.0143653005361557,
          0.012721022590994835,
          0.02272583544254303,
          0.0117821479216218,
          0.012051045894622803,
          0.019349712878465652,
          0.04866383969783783,
          0.021330036222934723,
          0.018532196059823036,
          0.01378557737916708,
          0.012570332735776901,
          0.014011161401867867,
          0.03480067849159241,
          0.014109930954873562,
          0.011057116091251373,
          0.01401872280985117,
          0.058041252195835114,
          0.025609895586967468,
          0.01571684330701828,
          0.03932659700512886,
          0.019612329080700874,
          0.014481793157756329,
          0.0131380008533597,
          0.01110352948307991,
          0.01286352053284645,
          0.013481918722391129,
          0.013555287383496761,
          0.013787847012281418,
          0.012554180808365345,
          0.00963559653609991,
          0.012426222674548626,
          0.02636878751218319,
          0.013877172023057938,
          0.03242144733667374,
          0.01397704891860485,
          0.02356419712305069,
          0.009989495389163494,
          0.01350316684693098,
          0.023778731003403664,
          0.022386958822607994,
          0.01326197199523449,
          0.012841857969760895,
          0.017345605418086052,
          0.02966248244047165,
          0.014534140937030315,
          0.026911726221442223,
          0.02182129956781864,
          0.01428370550274849,
          0.01301608793437481,
          0.022282136604189873,
          0.036525044590234756,
          0.01315905898809433,
          0.019841112196445465,
          0.011006028391420841,
          0.02795100212097168,
          0.0243318323045969,
          0.03587918356060982,
          0.016939537599682808,
          0.01105380617082119,
          0.021021220833063126,
          0.015904199331998825,
          0.017913587391376495,
          0.013740569353103638,
          0.029332494363188744,
          0.020452987402677536,
          0.014338224194943905,
          0.013074742630124092,
          0.025224387645721436,
          0.013934164308011532,
          0.014117448590695858,
          0.00881959404796362,
          0.013987831771373749,
          0.024107664823532104,
          0.022875061258673668,
          0.019134733825922012,
          0.01495219673961401,
          0.013894672505557537,
          0.018452858552336693,
          0.02975526452064514,
          0.009502078406512737,
          0.008472674526274204,
          0.02511952631175518,
          0.010353713296353817,
          0.012032872997224331,
          0.010601256974041462,
          0.01634739525616169,
          0.02604866959154606,
          0.02433199994266033,
          0.014557477086782455,
          0.015885263681411743,
          0.02629353292286396,
          0.06431594491004944,
          0.021158555522561073,
          0.013520483858883381,
          0.019937865436077118,
          0.019793597981333733,
          0.014145055785775185,
          0.025327246636152267,
          0.00932139903306961,
          0.009176474995911121,
          0.013192509301006794,
          0.018669787794351578,
          0.011099913157522678,
          0.014414067380130291,
          0.011790757067501545,
          0.012120875529944897,
          0.009731433354318142,
          0.016853705048561096,
          0.010267406702041626,
          0.028076130896806717,
          0.017057251185178757,
          0.02676774375140667,
          0.019998600706458092,
          0.01267094537615776,
          0.012451214715838432,
          0.03127811476588249,
          0.021786628291010857,
          0.02778043784201145,
          0.013539310544729233,
          0.028423473238945007,
          0.01807064563035965,
          0.02368107996881008,
          0.027043022215366364,
          0.020136967301368713,
          0.009566707536578178,
          0.011986132711172104,
          0.01518293097615242,
          0.020567648112773895,
          0.016907362267374992,
          0.032800812274217606,
          0.008602342568337917,
          0.014489502646028996,
          0.014597349800169468,
          0.07608439773321152,
          0.032716430723667145,
          0.0569058433175087,
          0.017409151419997215,
          0.028641274198889732,
          0.02614700421690941,
          0.011676909402012825,
          0.021877842023968697,
          0.01803308166563511,
          0.023664938285946846,
          0.02764386124908924,
          0.029552225023508072,
          0.012026085518300533,
          0.02272491529583931,
          0.014939122833311558,
          0.022027501836419106,
          0.010080319829285145,
          0.01303442195057869,
          0.017312321811914444,
          0.01177977304905653,
          0.012104595080018044,
          0.013295060954988003,
          0.061262428760528564,
          0.02181508205831051,
          0.016197849065065384,
          0.030948761850595474,
          0.018836580216884613,
          0.012338738888502121,
          0.01059526763856411,
          0.023696253076195717,
          0.01041799783706665,
          0.03426499292254448,
          0.011937722563743591,
          0.015479990281164646,
          0.013748218305408955,
          0.02557986043393612,
          0.029512643814086914,
          0.0153013551607728,
          0.0094527006149292,
          0.024302156642079353,
          0.014746392145752907,
          0.026683473959565163,
          0.011114109307527542,
          0.023259323090314865,
          0.013544109649956226,
          0.0141064478084445,
          0.013384695164859295,
          0.012896624393761158,
          0.01389075256884098,
          0.020833756774663925,
          0.022832097485661507,
          0.025293396785855293,
          0.08873733133077621,
          0.01837466098368168,
          0.01026430819183588,
          0.01571318879723549,
          0.017882293090224266,
          0.02062971331179142,
          0.026722906157374382,
          0.035524144768714905,
          0.016951777040958405,
          0.010102348402142525,
          0.009427760727703571,
          0.028425205498933792,
          0.02746708132326603,
          0.015562419779598713,
          0.01894707977771759,
          0.008996404707431793,
          0.009606237523257732,
          0.014813665300607681,
          0.01045211311429739,
          0.02136952616274357,
          0.023004960268735886,
          0.013825804926455021,
          0.014832472428679466,
          0.011018786579370499,
          0.01702146977186203,
          0.013307868503034115,
          0.030742546543478966,
          0.020803699269890785,
          0.01337364874780178,
          0.014700102619826794,
          0.023436222225427628,
          0.013495175167918205,
          0.016991982236504555,
          0.014357195235788822,
          0.01201958954334259,
          0.010815546847879887,
          0.008911204524338245,
          0.024249659851193428,
          0.012928679585456848,
          0.013783151283860207,
          0.02362487092614174,
          0.011481717228889465,
          0.02059387043118477,
          0.049175914376974106,
          0.019886914640665054,
          0.05358514189720154,
          0.07557520270347595,
          0.01457789447158575,
          0.014015644788742065,
          0.013569226488471031,
          0.021975526586174965,
          0.024600407108664513,
          0.06313783675432205,
          0.011014701798558235,
          0.021137502044439316,
          0.007515645120292902,
          0.01683775521814823,
          0.015473955310881138,
          0.013934805989265442,
          0.01059463620185852,
          0.013053789734840393,
          0.038333844393491745,
          0.011165644973516464,
          0.01504990179091692,
          0.010079838335514069,
          0.010320519097149372,
          0.027476347982883453,
          0.019832788035273552,
          0.015930525958538055,
          0.04266727715730667,
          0.03333624079823494,
          0.021678080782294273,
          0.011217526160180569,
          0.013515856117010117,
          0.019271574914455414,
          0.025538839399814606,
          0.023282760754227638,
          0.025981713086366653,
          0.012938108295202255,
          0.012023895978927612,
          0.009648319333791733,
          0.010355948470532894,
          0.015222327783703804,
          0.020875202491879463,
          0.02256966009736061,
          0.01009605173021555,
          0.010993137024343014,
          0.01508873701095581,
          0.045486509799957275,
          0.025399358943104744,
          0.016703296452760696,
          0.011301846243441105,
          0.02037017233669758,
          0.01529694627970457,
          0.01713852770626545,
          0.03104221448302269,
          0.01383176725357771,
          0.01881236396729946,
          0.02347339503467083,
          0.01417014840990305,
          0.02066023275256157,
          0.02581956796348095,
          0.027300147339701653,
          0.010657493025064468,
          0.01232557650655508,
          0.021240323781967163,
          0.02548076957464218,
          0.01593836583197117,
          0.017197689041495323,
          0.028445174917578697,
          0.013007128611207008,
          0.020516512915492058,
          0.027314703911542892,
          0.013777198269963264,
          0.012451540678739548,
          0.013012613169848919,
          0.010191971436142921,
          0.020614467561244965,
          0.014868814498186111,
          0.03810693696141243,
          0.012744198553264141,
          0.012953304685652256,
          0.009550829418003559,
          0.029064154252409935,
          0.014428622089326382,
          0.013283378444612026,
          0.010902061127126217,
          0.018886059522628784,
          0.012471628375351429,
          0.026220470666885376,
          0.05053706467151642,
          0.013231233693659306,
          0.02316439151763916,
          0.013229922391474247,
          0.06888703256845474,
          0.03412624076008797,
          0.011537671089172363,
          0.009728038683533669,
          0.024288088083267212,
          0.02188342809677124,
          0.024663953110575676,
          0.020037511363625526,
          0.02241336740553379,
          0.04112231358885765,
          0.018669068813323975,
          0.035966433584690094,
          0.031012702733278275,
          0.023909389972686768,
          0.028750920668244362,
          0.009992552921175957,
          0.026308845728635788,
          0.0386207289993763,
          0.014491338282823563,
          0.024546435102820396,
          0.022189036011695862,
          0.011277081444859505,
          0.01652224175632,
          0.018305860459804535,
          0.01709340326488018,
          0.03250310570001602,
          0.018458575010299683,
          0.01983117312192917,
          0.016534557566046715,
          0.011750031262636185,
          0.013731013983488083,
          0.014652427285909653,
          0.02275623008608818,
          0.01154578197747469,
          0.03163468465209007,
          0.014741973951458931,
          0.043123532086610794,
          0.015042321756482124,
          0.024245182052254677,
          0.014264595694839954,
          0.012246981263160706,
          0.04628729820251465,
          0.05804911255836487,
          0.018762093037366867,
          0.020383596420288086,
          0.010052814148366451,
          0.02035202644765377,
          0.015442568808794022,
          0.01540607400238514,
          0.0162753164768219,
          0.012444855645298958,
          0.0179971344769001,
          0.011693316511809826,
          0.01723230816423893,
          0.018070857971906662,
          0.011087730526924133,
          0.021145327016711235,
          0.01268919836729765,
          0.017953412607312202,
          0.009254771284759045,
          0.01943926513195038,
          0.010895859450101852,
          0.016392234712839127,
          0.014709632843732834,
          0.008456729352474213,
          0.023726947605609894,
          0.0104470644146204,
          0.010935723781585693,
          0.019208958372473717,
          0.01299228798598051,
          0.0237381961196661,
          0.01477095577865839,
          0.013322443701326847,
          0.019744040444493294,
          0.02289815992116928,
          0.022206492722034454,
          0.021752730011940002,
          0.01141068059951067,
          0.011933018453419209,
          0.010333736427128315,
          0.014992169104516506,
          0.02279607206583023,
          0.012679844163358212,
          0.015230298042297363,
          0.014118846505880356,
          0.02007458545267582,
          0.023341288790106773,
          0.027147749438881874,
          0.02076127752661705,
          0.015307033434510231,
          0.014676286838948727,
          0.013486022129654884,
          0.01675218902528286,
          0.025881746783852577,
          0.011891628615558147,
          0.006789085920900106,
          0.017359955236315727,
          0.01147462334483862,
          0.007242247927933931,
          0.013235973194241524,
          0.02460896223783493,
          0.014849280938506126,
          0.021570716053247452,
          0.012526130303740501,
          0.009550376795232296,
          0.025876199826598167,
          0.027166709303855896,
          0.014412883669137955,
          0.017139889299869537,
          0.00889979861676693,
          0.029857486486434937,
          0.02684648148715496,
          0.024267079308629036,
          0.012440807186067104,
          0.0135969752445817,
          0.022448617964982986,
          0.03055916167795658,
          0.026036078110337257,
          0.06255408376455307,
          0.024315055459737778,
          0.0188655573874712,
          0.015763014554977417,
          0.015451803803443909,
          0.020525801926851273,
          0.019152143970131874,
          0.013252596370875835,
          0.023803142830729485,
          0.015536284074187279,
          0.027074238285422325,
          0.01192509662359953,
          0.06651115417480469,
          0.0210791677236557,
          0.010226923041045666,
          0.01217279676347971,
          0.0461159273982048,
          0.014686132781207561,
          0.027378544211387634,
          0.017993014305830002,
          0.01393118780106306,
          0.017230970785021782,
          0.021661151200532913,
          0.011669974774122238,
          0.01027605589479208,
          0.015207101590931416,
          0.04819606617093086,
          0.01044998038560152,
          0.026136521250009537,
          0.010026741772890091,
          0.017831645905971527,
          0.012016941793262959,
          0.012522323988378048,
          0.010882939212024212,
          0.025149744004011154,
          0.013763795606791973,
          0.019175011664628983,
          0.017343131825327873,
          0.015691552311182022,
          0.023272082209587097,
          0.019211718812584877,
          0.021070262417197227,
          0.015226304531097412,
          0.021604187786579132,
          0.023027703166007996,
          0.029438022524118423,
          0.020039275288581848,
          0.015148419886827469,
          0.014163619838654995,
          0.028813280165195465,
          0.010139957070350647,
          0.02345125935971737,
          0.017159827053546906,
          0.05671237036585808,
          0.013065959326922894,
          0.02214432694017887,
          0.057034287601709366,
          0.022034112364053726,
          0.010223479941487312,
          0.027957258746027946,
          0.043630536645650864,
          0.044683534651994705,
          0.014363789930939674,
          0.015911167487502098,
          0.054358936846256256,
          0.012148787267506123,
          0.0124512929469347,
          0.011010515503585339,
          0.01902102306485176,
          0.024698451161384583,
          0.01920129545032978,
          0.02663700468838215,
          0.014045508578419685,
          0.048572197556495667,
          0.010760804638266563,
          0.024236155673861504,
          0.015547349117696285,
          0.019521445035934448,
          0.023684242740273476,
          0.009318843483924866,
          0.02231626771390438,
          0.016940390691161156,
          0.01727200113236904,
          0.011757499538362026,
          0.014796536415815353,
          0.030869154259562492,
          0.010290170088410378,
          0.012445974163711071,
          0.015826990827918053,
          0.015671787783503532,
          0.015095075592398643,
          0.04433209449052811,
          0.06062981113791466,
          0.0208367258310318,
          0.01396473404020071,
          0.014552555978298187,
          0.0197458416223526,
          0.011184203438460827,
          0.025382865220308304,
          0.029215553775429726,
          0.015597179532051086,
          0.012965732254087925,
          0.024147814139723778,
          0.012855497188866138,
          0.012872830964624882,
          0.012387685477733612,
          0.01972328871488571,
          0.01039147563278675,
          0.014354991726577282,
          0.03354686498641968,
          0.01439864281564951,
          0.01199091225862503,
          0.021596189588308334,
          0.009653673507273197,
          0.01067862007766962,
          0.015112445689737797,
          0.04610016196966171,
          0.01674293540418148,
          0.02213919907808304,
          0.013092289678752422,
          0.02046031691133976,
          0.012362326495349407,
          0.011097624897956848,
          0.010712701827287674,
          0.010862451046705246,
          0.015204419381916523,
          0.013094624504446983,
          0.01170733105391264,
          0.01163270603865385,
          0.010563820600509644,
          0.013285906985402107,
          0.020488083362579346,
          0.02415117248892784,
          0.025620093569159508,
          0.008323156274855137,
          0.01014147698879242,
          0.01667328178882599,
          0.06065542250871658,
          0.04844510927796364,
          0.039502646774053574,
          0.01930655725300312,
          0.027013113722205162,
          0.020916158333420753,
          0.022136060521006584,
          0.02680809795856476,
          0.015819495543837547,
          0.015724046155810356,
          0.011832798831164837,
          0.012814315967261791,
          0.025060804560780525,
          0.009038581512868404,
          0.05746827274560928,
          0.010693172924220562,
          0.010115931741893291,
          0.011698898859322071,
          0.015286426991224289,
          0.018169308081269264,
          0.012809239327907562,
          0.016493819653987885,
          0.00967837031930685,
          0.009392844513058662,
          0.024637490510940552,
          0.026243098080158234,
          0.043876226991415024,
          0.01116169337183237,
          0.032391272485256195,
          0.012280111201107502,
          0.02514156699180603,
          0.01298741064965725,
          0.010592654347419739,
          0.01680654101073742,
          0.017931783571839333,
          0.015369698405265808,
          0.017038846388459206,
          0.016490263864398003,
          0.012904904782772064,
          0.014024928212165833,
          0.061914458870887756,
          0.024366604164242744,
          0.013557285070419312,
          0.01311851479113102,
          0.05125470831990242,
          0.03638086095452309,
          0.03134487196803093,
          0.018892012536525726,
          0.01870967261493206,
          0.008403297513723373,
          0.020352905616164207,
          0.010441129095852375,
          0.017776114866137505,
          0.018165219575166702,
          0.017243362963199615,
          0.010539942421019077,
          0.013451372273266315,
          0.023937372490763664,
          0.022867927327752113,
          0.016594359651207924,
          0.026947181671857834,
          0.00975614320486784,
          0.016902584582567215,
          0.01626468449831009,
          0.016554318368434906,
          0.012088548392057419,
          0.015623028390109539,
          0.06617256999015808,
          0.010486389510333538,
          0.06923536211252213,
          0.011694803833961487,
          0.01939208246767521,
          0.03574006259441376,
          0.04384539648890495,
          0.014061246067285538,
          0.034718096256256104,
          0.040348704904317856,
          0.019810013473033905,
          0.010309820994734764,
          0.008435902185738087,
          0.021509267389774323,
          0.010961633175611496,
          0.014873620122671127,
          0.06735247373580933,
          0.010578121058642864,
          0.02097860909998417,
          0.011543328873813152,
          0.01354164071381092,
          0.015561923384666443,
          0.02920330874621868,
          0.015887325629591942,
          0.021231206133961678,
          0.020035389810800552,
          0.0221891887485981,
          0.012521237134933472,
          0.021113961935043335,
          0.061195679008960724,
          0.04597289487719536,
          0.011756590567529202,
          0.01241594273597002,
          0.019306780770421028,
          0.016539279371500015,
          0.032948486506938934,
          0.025788985192775726,
          0.017511004582047462,
          0.039763398468494415,
          0.01543889194726944,
          0.018334487453103065,
          0.009838107042014599,
          0.02355877310037613,
          0.026168588548898697,
          0.01032788772135973,
          0.011508727446198463,
          0.009878386743366718,
          0.018969619646668434,
          0.031480710953474045,
          0.01997976377606392,
          0.012168020941317081,
          0.025651834905147552,
          0.02073873020708561,
          0.014142739586532116,
          0.0219185221940279,
          0.009490481577813625,
          0.06527642160654068,
          0.01230926439166069,
          0.01628907397389412,
          0.013805780559778214,
          0.014205717481672764,
          0.015542357228696346,
          0.02361781895160675,
          0.013502800837159157,
          0.016187554225325584,
          0.021214330568909645,
          0.01137598231434822,
          0.010845472104847431,
          0.012137147597968578,
          0.014099565334618092,
          0.013334092684090137,
          0.025761263445019722,
          0.024982184171676636,
          0.013094089925289154,
          0.0165303573012352,
          0.011319608427584171,
          0.014057903550565243,
          0.03437114134430885,
          0.011470520868897438,
          0.018774505704641342,
          0.016938384622335434,
          0.04747243598103523,
          0.034687340259552,
          0.015727302059531212,
          0.009081155061721802,
          0.02347126603126526,
          0.01012024562805891,
          0.017916807904839516,
          0.05319203808903694,
          0.020688675343990326,
          0.011122498661279678,
          0.021985013037919998,
          0.013731040991842747,
          0.01102390605956316,
          0.01162452157586813,
          0.02326037921011448,
          0.016932368278503418,
          0.009919251315295696,
          0.012608140707015991,
          0.02672300487756729,
          0.01924094744026661,
          0.008760392665863037,
          0.023379042744636536,
          0.03319210931658745,
          0.06323598325252533,
          0.011835910379886627,
          0.024523427709937096,
          0.03149840608239174,
          0.011045817285776138,
          0.024398839101195335,
          0.022892499342560768,
          0.019362863153219223,
          0.02027101442217827,
          0.028276199474930763,
          0.036980655044317245,
          0.00832532811909914,
          0.023342683911323547,
          0.01618465781211853,
          0.03530434891581535,
          0.023724641650915146,
          0.028435925021767616,
          0.022397473454475403,
          0.009334786795079708,
          0.012385386973619461,
          0.027442846447229385,
          0.05876029655337334,
          0.020585350692272186,
          0.06361716985702515,
          0.01938501000404358,
          0.011602438986301422,
          0.015474259853363037,
          0.012626358307898045,
          0.012531512416899204,
          0.025656133890151978,
          0.016409587115049362,
          0.012642686255276203,
          0.013436676934361458,
          0.062329910695552826,
          0.014983538538217545,
          0.015411809086799622,
          0.02607830986380577,
          0.020670725032687187,
          0.025188975036144257,
          0.018886426463723183,
          0.01733584702014923,
          0.025085164234042168,
          0.010980740189552307,
          0.020486999303102493,
          0.011412452906370163,
          0.022014938294887543,
          0.015197009779512882,
          0.015191633254289627,
          0.008953854441642761,
          0.0193532295525074,
          0.021856315433979034,
          0.010816069319844246,
          0.032563094049692154,
          0.017461368814110756,
          0.01473703421652317,
          0.024018149822950363,
          0.011108754202723503,
          0.01996915601193905,
          0.09124381840229034,
          0.016550570726394653,
          0.02190227247774601,
          0.01464533805847168,
          0.027441760525107384,
          0.028739796951413155,
          0.019657254219055176,
          0.020405253395438194,
          0.020873110741376877,
          0.012204274535179138,
          0.02329327166080475,
          0.016796916723251343
         ]
        }
       ],
       "layout": {
        "template": {
         "data": {
          "bar": [
           {
            "error_x": {
             "color": "#2a3f5f"
            },
            "error_y": {
             "color": "#2a3f5f"
            },
            "marker": {
             "line": {
              "color": "#E5ECF6",
              "width": 0.5
             },
             "pattern": {
              "fillmode": "overlay",
              "size": 10,
              "solidity": 0.2
             }
            },
            "type": "bar"
           }
          ],
          "barpolar": [
           {
            "marker": {
             "line": {
              "color": "#E5ECF6",
              "width": 0.5
             },
             "pattern": {
              "fillmode": "overlay",
              "size": 10,
              "solidity": 0.2
             }
            },
            "type": "barpolar"
           }
          ],
          "carpet": [
           {
            "aaxis": {
             "endlinecolor": "#2a3f5f",
             "gridcolor": "white",
             "linecolor": "white",
             "minorgridcolor": "white",
             "startlinecolor": "#2a3f5f"
            },
            "baxis": {
             "endlinecolor": "#2a3f5f",
             "gridcolor": "white",
             "linecolor": "white",
             "minorgridcolor": "white",
             "startlinecolor": "#2a3f5f"
            },
            "type": "carpet"
           }
          ],
          "choropleth": [
           {
            "colorbar": {
             "outlinewidth": 0,
             "ticks": ""
            },
            "type": "choropleth"
           }
          ],
          "contour": [
           {
            "colorbar": {
             "outlinewidth": 0,
             "ticks": ""
            },
            "colorscale": [
             [
              0,
              "#0d0887"
             ],
             [
              0.1111111111111111,
              "#46039f"
             ],
             [
              0.2222222222222222,
              "#7201a8"
             ],
             [
              0.3333333333333333,
              "#9c179e"
             ],
             [
              0.4444444444444444,
              "#bd3786"
             ],
             [
              0.5555555555555556,
              "#d8576b"
             ],
             [
              0.6666666666666666,
              "#ed7953"
             ],
             [
              0.7777777777777778,
              "#fb9f3a"
             ],
             [
              0.8888888888888888,
              "#fdca26"
             ],
             [
              1,
              "#f0f921"
             ]
            ],
            "type": "contour"
           }
          ],
          "contourcarpet": [
           {
            "colorbar": {
             "outlinewidth": 0,
             "ticks": ""
            },
            "type": "contourcarpet"
           }
          ],
          "heatmap": [
           {
            "colorbar": {
             "outlinewidth": 0,
             "ticks": ""
            },
            "colorscale": [
             [
              0,
              "#0d0887"
             ],
             [
              0.1111111111111111,
              "#46039f"
             ],
             [
              0.2222222222222222,
              "#7201a8"
             ],
             [
              0.3333333333333333,
              "#9c179e"
             ],
             [
              0.4444444444444444,
              "#bd3786"
             ],
             [
              0.5555555555555556,
              "#d8576b"
             ],
             [
              0.6666666666666666,
              "#ed7953"
             ],
             [
              0.7777777777777778,
              "#fb9f3a"
             ],
             [
              0.8888888888888888,
              "#fdca26"
             ],
             [
              1,
              "#f0f921"
             ]
            ],
            "type": "heatmap"
           }
          ],
          "heatmapgl": [
           {
            "colorbar": {
             "outlinewidth": 0,
             "ticks": ""
            },
            "colorscale": [
             [
              0,
              "#0d0887"
             ],
             [
              0.1111111111111111,
              "#46039f"
             ],
             [
              0.2222222222222222,
              "#7201a8"
             ],
             [
              0.3333333333333333,
              "#9c179e"
             ],
             [
              0.4444444444444444,
              "#bd3786"
             ],
             [
              0.5555555555555556,
              "#d8576b"
             ],
             [
              0.6666666666666666,
              "#ed7953"
             ],
             [
              0.7777777777777778,
              "#fb9f3a"
             ],
             [
              0.8888888888888888,
              "#fdca26"
             ],
             [
              1,
              "#f0f921"
             ]
            ],
            "type": "heatmapgl"
           }
          ],
          "histogram": [
           {
            "marker": {
             "pattern": {
              "fillmode": "overlay",
              "size": 10,
              "solidity": 0.2
             }
            },
            "type": "histogram"
           }
          ],
          "histogram2d": [
           {
            "colorbar": {
             "outlinewidth": 0,
             "ticks": ""
            },
            "colorscale": [
             [
              0,
              "#0d0887"
             ],
             [
              0.1111111111111111,
              "#46039f"
             ],
             [
              0.2222222222222222,
              "#7201a8"
             ],
             [
              0.3333333333333333,
              "#9c179e"
             ],
             [
              0.4444444444444444,
              "#bd3786"
             ],
             [
              0.5555555555555556,
              "#d8576b"
             ],
             [
              0.6666666666666666,
              "#ed7953"
             ],
             [
              0.7777777777777778,
              "#fb9f3a"
             ],
             [
              0.8888888888888888,
              "#fdca26"
             ],
             [
              1,
              "#f0f921"
             ]
            ],
            "type": "histogram2d"
           }
          ],
          "histogram2dcontour": [
           {
            "colorbar": {
             "outlinewidth": 0,
             "ticks": ""
            },
            "colorscale": [
             [
              0,
              "#0d0887"
             ],
             [
              0.1111111111111111,
              "#46039f"
             ],
             [
              0.2222222222222222,
              "#7201a8"
             ],
             [
              0.3333333333333333,
              "#9c179e"
             ],
             [
              0.4444444444444444,
              "#bd3786"
             ],
             [
              0.5555555555555556,
              "#d8576b"
             ],
             [
              0.6666666666666666,
              "#ed7953"
             ],
             [
              0.7777777777777778,
              "#fb9f3a"
             ],
             [
              0.8888888888888888,
              "#fdca26"
             ],
             [
              1,
              "#f0f921"
             ]
            ],
            "type": "histogram2dcontour"
           }
          ],
          "mesh3d": [
           {
            "colorbar": {
             "outlinewidth": 0,
             "ticks": ""
            },
            "type": "mesh3d"
           }
          ],
          "parcoords": [
           {
            "line": {
             "colorbar": {
              "outlinewidth": 0,
              "ticks": ""
             }
            },
            "type": "parcoords"
           }
          ],
          "pie": [
           {
            "automargin": true,
            "type": "pie"
           }
          ],
          "scatter": [
           {
            "marker": {
             "colorbar": {
              "outlinewidth": 0,
              "ticks": ""
             }
            },
            "type": "scatter"
           }
          ],
          "scatter3d": [
           {
            "line": {
             "colorbar": {
              "outlinewidth": 0,
              "ticks": ""
             }
            },
            "marker": {
             "colorbar": {
              "outlinewidth": 0,
              "ticks": ""
             }
            },
            "type": "scatter3d"
           }
          ],
          "scattercarpet": [
           {
            "marker": {
             "colorbar": {
              "outlinewidth": 0,
              "ticks": ""
             }
            },
            "type": "scattercarpet"
           }
          ],
          "scattergeo": [
           {
            "marker": {
             "colorbar": {
              "outlinewidth": 0,
              "ticks": ""
             }
            },
            "type": "scattergeo"
           }
          ],
          "scattergl": [
           {
            "marker": {
             "colorbar": {
              "outlinewidth": 0,
              "ticks": ""
             }
            },
            "type": "scattergl"
           }
          ],
          "scattermapbox": [
           {
            "marker": {
             "colorbar": {
              "outlinewidth": 0,
              "ticks": ""
             }
            },
            "type": "scattermapbox"
           }
          ],
          "scatterpolar": [
           {
            "marker": {
             "colorbar": {
              "outlinewidth": 0,
              "ticks": ""
             }
            },
            "type": "scatterpolar"
           }
          ],
          "scatterpolargl": [
           {
            "marker": {
             "colorbar": {
              "outlinewidth": 0,
              "ticks": ""
             }
            },
            "type": "scatterpolargl"
           }
          ],
          "scatterternary": [
           {
            "marker": {
             "colorbar": {
              "outlinewidth": 0,
              "ticks": ""
             }
            },
            "type": "scatterternary"
           }
          ],
          "surface": [
           {
            "colorbar": {
             "outlinewidth": 0,
             "ticks": ""
            },
            "colorscale": [
             [
              0,
              "#0d0887"
             ],
             [
              0.1111111111111111,
              "#46039f"
             ],
             [
              0.2222222222222222,
              "#7201a8"
             ],
             [
              0.3333333333333333,
              "#9c179e"
             ],
             [
              0.4444444444444444,
              "#bd3786"
             ],
             [
              0.5555555555555556,
              "#d8576b"
             ],
             [
              0.6666666666666666,
              "#ed7953"
             ],
             [
              0.7777777777777778,
              "#fb9f3a"
             ],
             [
              0.8888888888888888,
              "#fdca26"
             ],
             [
              1,
              "#f0f921"
             ]
            ],
            "type": "surface"
           }
          ],
          "table": [
           {
            "cells": {
             "fill": {
              "color": "#EBF0F8"
             },
             "line": {
              "color": "white"
             }
            },
            "header": {
             "fill": {
              "color": "#C8D4E3"
             },
             "line": {
              "color": "white"
             }
            },
            "type": "table"
           }
          ]
         },
         "layout": {
          "annotationdefaults": {
           "arrowcolor": "#2a3f5f",
           "arrowhead": 0,
           "arrowwidth": 1
          },
          "autotypenumbers": "strict",
          "coloraxis": {
           "colorbar": {
            "outlinewidth": 0,
            "ticks": ""
           }
          },
          "colorscale": {
           "diverging": [
            [
             0,
             "#8e0152"
            ],
            [
             0.1,
             "#c51b7d"
            ],
            [
             0.2,
             "#de77ae"
            ],
            [
             0.3,
             "#f1b6da"
            ],
            [
             0.4,
             "#fde0ef"
            ],
            [
             0.5,
             "#f7f7f7"
            ],
            [
             0.6,
             "#e6f5d0"
            ],
            [
             0.7,
             "#b8e186"
            ],
            [
             0.8,
             "#7fbc41"
            ],
            [
             0.9,
             "#4d9221"
            ],
            [
             1,
             "#276419"
            ]
           ],
           "sequential": [
            [
             0,
             "#0d0887"
            ],
            [
             0.1111111111111111,
             "#46039f"
            ],
            [
             0.2222222222222222,
             "#7201a8"
            ],
            [
             0.3333333333333333,
             "#9c179e"
            ],
            [
             0.4444444444444444,
             "#bd3786"
            ],
            [
             0.5555555555555556,
             "#d8576b"
            ],
            [
             0.6666666666666666,
             "#ed7953"
            ],
            [
             0.7777777777777778,
             "#fb9f3a"
            ],
            [
             0.8888888888888888,
             "#fdca26"
            ],
            [
             1,
             "#f0f921"
            ]
           ],
           "sequentialminus": [
            [
             0,
             "#0d0887"
            ],
            [
             0.1111111111111111,
             "#46039f"
            ],
            [
             0.2222222222222222,
             "#7201a8"
            ],
            [
             0.3333333333333333,
             "#9c179e"
            ],
            [
             0.4444444444444444,
             "#bd3786"
            ],
            [
             0.5555555555555556,
             "#d8576b"
            ],
            [
             0.6666666666666666,
             "#ed7953"
            ],
            [
             0.7777777777777778,
             "#fb9f3a"
            ],
            [
             0.8888888888888888,
             "#fdca26"
            ],
            [
             1,
             "#f0f921"
            ]
           ]
          },
          "colorway": [
           "#636efa",
           "#EF553B",
           "#00cc96",
           "#ab63fa",
           "#FFA15A",
           "#19d3f3",
           "#FF6692",
           "#B6E880",
           "#FF97FF",
           "#FECB52"
          ],
          "font": {
           "color": "#2a3f5f"
          },
          "geo": {
           "bgcolor": "white",
           "lakecolor": "white",
           "landcolor": "#E5ECF6",
           "showlakes": true,
           "showland": true,
           "subunitcolor": "white"
          },
          "hoverlabel": {
           "align": "left"
          },
          "hovermode": "closest",
          "mapbox": {
           "style": "light"
          },
          "paper_bgcolor": "white",
          "plot_bgcolor": "#E5ECF6",
          "polar": {
           "angularaxis": {
            "gridcolor": "white",
            "linecolor": "white",
            "ticks": ""
           },
           "bgcolor": "#E5ECF6",
           "radialaxis": {
            "gridcolor": "white",
            "linecolor": "white",
            "ticks": ""
           }
          },
          "scene": {
           "xaxis": {
            "backgroundcolor": "#E5ECF6",
            "gridcolor": "white",
            "gridwidth": 2,
            "linecolor": "white",
            "showbackground": true,
            "ticks": "",
            "zerolinecolor": "white"
           },
           "yaxis": {
            "backgroundcolor": "#E5ECF6",
            "gridcolor": "white",
            "gridwidth": 2,
            "linecolor": "white",
            "showbackground": true,
            "ticks": "",
            "zerolinecolor": "white"
           },
           "zaxis": {
            "backgroundcolor": "#E5ECF6",
            "gridcolor": "white",
            "gridwidth": 2,
            "linecolor": "white",
            "showbackground": true,
            "ticks": "",
            "zerolinecolor": "white"
           }
          },
          "shapedefaults": {
           "line": {
            "color": "#2a3f5f"
           }
          },
          "ternary": {
           "aaxis": {
            "gridcolor": "white",
            "linecolor": "white",
            "ticks": ""
           },
           "baxis": {
            "gridcolor": "white",
            "linecolor": "white",
            "ticks": ""
           },
           "bgcolor": "#E5ECF6",
           "caxis": {
            "gridcolor": "white",
            "linecolor": "white",
            "ticks": ""
           }
          },
          "title": {
           "x": 0.05
          },
          "xaxis": {
           "automargin": true,
           "gridcolor": "white",
           "linecolor": "white",
           "ticks": "",
           "title": {
            "standoff": 15
           },
           "zerolinecolor": "white",
           "zerolinewidth": 2
          },
          "yaxis": {
           "automargin": true,
           "gridcolor": "white",
           "linecolor": "white",
           "ticks": "",
           "title": {
            "standoff": 15
           },
           "zerolinecolor": "white",
           "zerolinewidth": 2
          }
         }
        }
       }
      }
     },
     "metadata": {}
    }
   ],
   "metadata": {}
  },
  {
   "cell_type": "markdown",
   "source": [
    "We now define the threshold."
   ],
   "metadata": {}
  },
  {
   "cell_type": "code",
   "execution_count": 15,
   "source": [
    "threshold = np.mean(train_loss) + np.std(train_loss)\n",
    "print(\"Threshold: \", threshold)"
   ],
   "outputs": [
    {
     "output_type": "stream",
     "name": "stdout",
     "text": [
      "Threshold:  0.032012627\n"
     ]
    }
   ],
   "metadata": {}
  },
  {
   "cell_type": "markdown",
   "source": [
    "On the test dataset, we will use the threshold above to determine anormalies. We will do this as follows:"
   ],
   "metadata": {}
  },
  {
   "cell_type": "code",
   "execution_count": 16,
   "source": [
    "reconstructions_normal = autoencoder.predict(normal_test_data)\n",
    "test_loss_normal = tf.keras.losses.mae(reconstructions_normal, normal_test_data)\n",
    "\n",
    "\n",
    "reconstructions_abnormal = autoencoder.predict(abnormal_test_data)\n",
    "test_loss_abnormal = tf.keras.losses.mae(reconstructions_abnormal, abnormal_test_data)\n",
    "\n",
    "fig = go.Figure()\n",
    "fig.add_trace(go.Histogram(x=test_loss_normal[None,:][0],name='Normal loss'))\n",
    "fig.add_trace(go.Histogram(x=test_loss_abnormal[None,:][0],name='Abnormal loss'))\n",
    "\n",
    "\n",
    "# Overlay both histograms\n",
    "fig.update_layout(barmode='overlay')\n",
    "# Reduce opacity to see both histograms\n",
    "fig.update_traces(opacity=0.75)\n",
    "\n",
    "\n",
    "\n",
    "\n",
    "fig.add_shape(type=\"line\",\n",
    "    xref=\"x\", yref=\"y\",\n",
    "    x0=threshold, y0=0, x1=threshold, y1=90,\n",
    "    line=dict(\n",
    "        color=\"red\",\n",
    "        width=3,\n",
    "    ),\n",
    ")\n",
    "fig.show()"
   ],
   "outputs": [
    {
     "output_type": "display_data",
     "data": {
      "application/vnd.plotly.v1+json": {
       "config": {
        "plotlyServerURL": "https://plot.ly"
       },
       "data": [
        {
         "name": "Normal loss",
         "opacity": 0.75,
         "type": "histogram",
         "x": [
          0.03407162427902222,
          0.011107456870377064,
          0.02595098689198494,
          0.05845080688595772,
          0.013928213156759739,
          0.010075603611767292,
          0.012993799522519112,
          0.06572416424751282,
          0.01195965800434351,
          0.023633083328604698,
          0.01915431022644043,
          0.0192123930901289,
          0.01164679229259491,
          0.021866509690880775,
          0.020191339775919914,
          0.020952416583895683,
          0.02465960569679737,
          0.019972054287791252,
          0.012066446244716644,
          0.01808137260377407,
          0.03456241264939308,
          0.016402212902903557,
          0.02803710848093033,
          0.0134414779022336,
          0.020079895853996277,
          0.02606685645878315,
          0.026991218328475952,
          0.011307389475405216,
          0.019513418897986412,
          0.00888891238719225,
          0.019038686528801918,
          0.017132408916950226,
          0.016941308975219727,
          0.029586084187030792,
          0.04149836674332619,
          0.025531083345413208,
          0.02325708046555519,
          0.024645812809467316,
          0.011246652342379093,
          0.039795536547899246,
          0.01161454152315855,
          0.02560405433177948,
          0.014583158306777477,
          0.018759705126285553,
          0.009863657876849174,
          0.01052743848413229,
          0.023109296336770058,
          0.017005987465381622,
          0.01831703446805477,
          0.011046353727579117,
          0.01229793019592762,
          0.013767662458121777,
          0.07150280475616455,
          0.02124866098165512,
          0.012661981396377087,
          0.01139156799763441,
          0.024708576500415802,
          0.01321254763752222,
          0.007578267250210047,
          0.01693219318985939,
          0.02802230976521969,
          0.027646200731396675,
          0.015193384140729904,
          0.017929809167981148,
          0.0923391655087471,
          0.008392118848860264,
          0.01281020138412714,
          0.025643913075327873,
          0.01322444248944521,
          0.024442799389362335,
          0.013394436798989773,
          0.018740544095635414,
          0.01763889193534851,
          0.018677910789847374,
          0.024584338068962097,
          0.014680827036499977,
          0.024315977469086647,
          0.017861897125840187,
          0.01585392653942108,
          0.04871812462806702,
          0.015861334279179573,
          0.012008664198219776,
          0.012928297743201256,
          0.017355985939502716,
          0.05347082391381264,
          0.023374132812023163,
          0.017966292798519135,
          0.014822549186646938,
          0.012838684022426605,
          0.030918072909116745,
          0.024440472945570946,
          0.012827873229980469,
          0.016857072710990906,
          0.017084263265132904,
          0.012362384237349033,
          0.015494072809815407,
          0.025873452425003052,
          0.010753367096185684,
          0.012608700431883335,
          0.02769721858203411,
          0.010152773931622505,
          0.011995942331850529,
          0.03505789488554001,
          0.01389804482460022,
          0.011214274913072586,
          0.010528426617383957,
          0.022394588217139244,
          0.014799132943153381,
          0.012412583455443382,
          0.02122274786233902,
          0.02170453779399395,
          0.018591610714793205,
          0.02538018301129341,
          0.01470381673425436,
          0.014111270196735859,
          0.025097625330090523,
          0.014721120707690716,
          0.00930297002196312,
          0.014209543354809284,
          0.009263817220926285,
          0.018525445833802223,
          0.04354241117835045,
          0.02301713265478611,
          0.017655855044722557,
          0.02243557572364807,
          0.019172709435224533,
          0.01820603758096695,
          0.012372005730867386,
          0.01979336142539978,
          0.006358741316944361,
          0.017896238714456558,
          0.019072292372584343,
          0.014698182232677937,
          0.017106303945183754,
          0.014281558804214,
          0.01380919199436903,
          0.025788484141230583,
          0.01007760688662529,
          0.022016478702425957,
          0.0450357161462307,
          0.014435517601668835,
          0.00683191092684865,
          0.016347844153642654,
          0.010185230523347855,
          0.011462683789432049,
          0.016873231157660484,
          0.01278571505099535,
          0.015785101801156998,
          0.016629686579108238,
          0.009922662749886513,
          0.01323187630623579,
          0.019200965762138367,
          0.011943809688091278,
          0.01437609177082777,
          0.027548842132091522,
          0.020471880212426186,
          0.02758890762925148,
          0.017500586807727814,
          0.01866826042532921,
          0.024009564891457558,
          0.021152393892407417,
          0.021076561883091927,
          0.01030525378882885,
          0.01159715186804533,
          0.027020610868930817,
          0.021422337740659714,
          0.013730881735682487,
          0.01386227086186409,
          0.01943243108689785,
          0.022349020466208458,
          0.025019483640789986,
          0.011308546178042889,
          0.012833920307457447,
          0.024059800431132317,
          0.011000938713550568,
          0.02238193154335022,
          0.03461747244000435,
          0.016340011730790138,
          0.010122105479240417,
          0.019732534885406494,
          0.015842899680137634,
          0.012960463762283325,
          0.017448674887418747,
          0.019673192873597145,
          0.010370654985308647,
          0.025718525052070618,
          0.014676383696496487,
          0.02506428211927414,
          0.015233446843922138,
          0.015419065952301025,
          0.028949635103344917,
          0.012795191258192062,
          0.01678452640771866,
          0.025416431948542595,
          0.021077901124954224,
          0.01648544892668724,
          0.011539909057319164,
          0.02830645442008972,
          0.012362409383058548,
          0.015622825361788273,
          0.02596413902938366,
          0.013516819104552269,
          0.011854675598442554,
          0.013814217410981655,
          0.02921168878674507,
          0.00816275179386139,
          0.015408970415592194,
          0.012887234799563885,
          0.020111873745918274,
          0.0309897530823946,
          0.03235885128378868,
          0.05478213354945183,
          0.016847141087055206,
          0.02290697582066059,
          0.014139264822006226,
          0.03134572133421898,
          0.01932293362915516,
          0.017879541963338852,
          0.010398110374808311,
          0.009581407532095909,
          0.03724989667534828,
          0.018946394324302673,
          0.024370884522795677,
          0.014362078160047531,
          0.012907098047435284,
          0.017628466710448265,
          0.012572810985147953,
          0.01702171005308628,
          0.02275383099913597,
          0.012797534465789795,
          0.013743825256824493,
          0.01250924076884985,
          0.02594757080078125,
          0.02005593478679657,
          0.014799538999795914,
          0.018675632774829865,
          0.01826620101928711,
          0.01130622997879982,
          0.05796181783080101,
          0.09320112317800522,
          0.022372299805283546,
          0.019989436492323875,
          0.009911219589412212,
          0.01761014014482498,
          0.011984783224761486,
          0.012430444359779358,
          0.023296203464269638,
          0.013108308427035809,
          0.0258747860789299,
          0.010006816126406193,
          0.012529009021818638,
          0.023128146305680275,
          0.02587032876908779,
          0.008857199922204018,
          0.050397343933582306,
          0.01642107404768467,
          0.017283212393522263,
          0.022032367065548897,
          0.0153499161824584,
          0.023097826167941093,
          0.015974830836057663,
          0.022591684013605118,
          0.02589808963239193,
          0.022378971800208092,
          0.014089182019233704,
          0.011797735467553139,
          0.019107364118099213,
          0.013124105520546436,
          0.013432290405035019,
          0.053547270596027374,
          0.00942342821508646,
          0.020211676135659218,
          0.013616225682199001,
          0.028812211006879807,
          0.026100339367985725,
          0.02150237187743187,
          0.018568722531199455,
          0.013582438230514526,
          0.010435983538627625,
          0.014345877803862095,
          0.02997291088104248,
          0.010049005039036274,
          0.012099996209144592,
          0.009249950759112835,
          0.012597568333148956,
          0.03007340431213379,
          0.015874730423092842,
          0.014782297424972057,
          0.011401918716728687,
          0.019146297127008438,
          0.040583524852991104,
          0.030987510457634926,
          0.02641032263636589,
          0.01091060508042574,
          0.010752999223768711,
          0.03149990737438202,
          0.009647257626056671,
          0.013558694161474705,
          0.016286276280879974,
          0.021731814369559288,
          0.01376110315322876,
          0.016995646059513092,
          0.01580720953643322,
          0.054618287831544876,
          0.029164524748921394,
          0.015780501067638397,
          0.025728899985551834,
          0.009776763617992401,
          0.022786900401115417,
          0.012529700994491577,
          0.038129426538944244,
          0.02108747698366642,
          0.013076482340693474,
          0.014644396491348743,
          0.014411081559956074,
          0.011545534245669842,
          0.012810216285288334,
          0.011412137188017368,
          0.02760085090994835,
          0.02175706811249256,
          0.0183019507676363,
          0.015193472616374493,
          0.01197746954858303,
          0.011484161950647831,
          0.016946634277701378,
          0.017718026414513588,
          0.015596752054989338,
          0.010528153739869595,
          0.012543125078082085,
          0.00964577030390501,
          0.05881032347679138,
          0.021787170320749283,
          0.009942321106791496,
          0.043130774050951004,
          0.014070025645196438,
          0.024847079068422318,
          0.03192538022994995,
          0.018090680241584778,
          0.012498910538852215,
          0.022767435759305954,
          0.025288376957178116,
          0.007295071147382259,
          0.01302378624677658,
          0.017401810735464096,
          0.025417564436793327,
          0.02079978585243225,
          0.012054289691150188,
          0.014985064044594765,
          0.013088720850646496,
          0.024695416912436485,
          0.01962404139339924,
          0.009581079706549644,
          0.012825977057218552,
          0.014787022955715656,
          0.021097008138895035,
          0.026538129895925522,
          0.02070297673344612,
          0.016456611454486847,
          0.02514214627444744,
          0.022823356091976166,
          0.013576035387814045,
          0.032754164189100266,
          0.022507507354021072,
          0.03733924776315689,
          0.018527140840888023,
          0.012314582243561745,
          0.01657838374376297,
          0.015571851283311844,
          0.01212985161691904,
          0.015191585756838322,
          0.013152580708265305,
          0.014751006849110126,
          0.025237899273633957,
          0.027987642213702202,
          0.022125693038105965,
          0.010824877768754959,
          0.05989857390522957,
          0.017348546534776688,
          0.011052659712731838,
          0.059345852583646774,
          0.008687797002494335,
          0.014459085650742054,
          0.018628623336553574,
          0.01016839686781168,
          0.018306449055671692,
          0.02838771976530552,
          0.011480944231152534,
          0.010426576249301434,
          0.025909733027219772,
          0.029390675947070122,
          0.009262378327548504,
          0.019596150144934654,
          0.014744414947926998,
          0.02265002764761448,
          0.015244701877236366,
          0.014218720607459545,
          0.032069820910692215,
          0.01426681224256754,
          0.027997182682156563,
          0.026308532804250717,
          0.014738724566996098,
          0.015148337930440903,
          0.01601877436041832,
          0.02453044429421425,
          0.00800457876175642,
          0.016793983057141304,
          0.017579419538378716,
          0.010138657875359058,
          0.011570644564926624,
          0.011402529664337635,
          0.008168589323759079,
          0.024069666862487793,
          0.020887214690446854,
          0.014986221678555012,
          0.010237756185233593,
          0.008917827159166336,
          0.02900073491036892,
          0.016050299629569054,
          0.011956707574427128,
          0.013500812463462353,
          0.012304261326789856,
          0.010119091719388962,
          0.01729295775294304,
          0.025094518437981606,
          0.02502068132162094,
          0.015090052969753742,
          0.022368162870407104,
          0.02815769799053669,
          0.034279484301805496,
          0.013537866994738579,
          0.024645116180181503,
          0.012135539203882217,
          0.02723909169435501,
          0.028801733627915382,
          0.020909149199724197,
          0.012375099584460258,
          0.027572613209486008,
          0.015387510880827904,
          0.016613490879535675,
          0.012448091059923172,
          0.013273835182189941,
          0.021555958315730095,
          0.028076011687517166,
          0.042751241475343704,
          0.057584796100854874,
          0.011741730384528637,
          0.01222207397222519,
          0.009687762707471848,
          0.07893133163452148,
          0.01615874469280243,
          0.02079658769071102,
          0.022376134991645813,
          0.023923087865114212,
          0.01336903590708971,
          0.02131051756441593,
          0.023766348138451576,
          0.019077502191066742,
          0.01977648213505745,
          0.020538557320833206,
          0.046085331588983536,
          0.03955899551510811,
          0.0520821250975132,
          0.014132746495306492,
          0.03313190117478371,
          0.0531814806163311,
          0.009454553946852684,
          0.034266456961631775,
          0.012603064067661762,
          0.03233173117041588,
          0.07311885803937912,
          0.013754640705883503,
          0.00864631962031126,
          0.02619636431336403,
          0.0209406279027462,
          0.01289700623601675,
          0.029564721509814262,
          0.014859315007925034,
          0.021219493821263313,
          0.010401266627013683,
          0.01641102135181427,
          0.02504824660718441,
          0.026274295523762703,
          0.0306000467389822,
          0.02286403253674507,
          0.014068791642785072,
          0.025319334119558334,
          0.016074540093541145,
          0.011902177706360817,
          0.008350308053195477,
          0.012156317010521889,
          0.013359764590859413,
          0.00971834547817707,
          0.012428035028278828,
          0.01358795166015625,
          0.023763030767440796,
          0.03999008610844612,
          0.013128074817359447,
          0.02698419615626335,
          0.012135062366724014,
          0.02462342195212841,
          0.009956258349120617,
          0.013317764736711979,
          0.02198091521859169,
          0.014464053325355053,
          0.01684524677693844,
          0.012503980658948421,
          0.011114337481558323,
          0.012381459586322308,
          0.02299472689628601,
          0.03230787441134453,
          0.011507495306432247,
          0.017398811876773834,
          0.014016137458384037,
          0.01288741733878851,
          0.012939688749611378,
          0.01753675378859043,
          0.020041026175022125,
          0.03550001606345177,
          0.01126902550458908,
          0.06946119666099548,
          0.020395442843437195,
          0.019226279109716415,
          0.02454315312206745,
          0.041675589978694916,
          0.038581330329179764,
          0.03301658108830452,
          0.012738022021949291,
          0.03411952033638954,
          0.011745474301278591,
          0.014864727854728699,
          0.010861042886972427,
          0.014342558570206165,
          0.011816367506980896,
          0.013206399977207184,
          0.011172806844115257,
          0.015314175747334957,
          0.012064633890986443,
          0.01117948442697525,
          0.020405877381563187,
          0.01383196096867323,
          0.009911243803799152,
          0.024410298094153404,
          0.01757083646953106,
          0.01700861193239689,
          0.017731651663780212,
          0.027888910844922066,
          0.013235080055892467,
          0.01359514519572258,
          0.012663277797400951,
          0.01818617433309555,
          0.00932231079787016,
          0.03039085865020752,
          0.01779055781662464,
          0.03570082038640976,
          0.01993481256067753,
          0.015285829082131386,
          0.012680384330451488,
          0.043876539915800095,
          0.01627970114350319,
          0.015594159252941608
         ]
        },
        {
         "name": "Abnormal loss",
         "opacity": 0.75,
         "type": "histogram",
         "x": [
          0.04377974942326546,
          0.05508353188633919,
          0.043205879628658295,
          0.05433528125286102,
          0.0486484132707119,
          0.04924643784761429,
          0.03697989881038666,
          0.04109913110733032,
          0.044775765389204025,
          0.05621383711695671,
          0.03419169783592224,
          0.04216036573052406,
          0.03951013460755348,
          0.047584302723407745,
          0.022023960947990417,
          0.0520247220993042,
          0.04204709827899933,
          0.04400597885251045,
          0.057808537036180496,
          0.05386754497885704,
          0.052803464233875275,
          0.03899550810456276,
          0.05759738013148308,
          0.0474776029586792,
          0.04361676424741745,
          0.04033534601330757,
          0.054630499333143234,
          0.049150556325912476,
          0.08846430480480194,
          0.04340498521924019,
          0.08859404921531677,
          0.04135359823703766,
          0.049820639193058014,
          0.05084763094782829,
          0.047340575605630875,
          0.047765228897333145,
          0.04168449714779854,
          0.05624549835920334,
          0.05536288022994995,
          0.05669408664107323,
          0.046311553567647934,
          0.045063018798828125,
          0.045176777988672256,
          0.05014079809188843,
          0.04435281082987785,
          0.05591326951980591,
          0.04863956943154335,
          0.06303924322128296,
          0.050282761454582214,
          0.0451509952545166,
          0.04716060310602188,
          0.055181026458740234,
          0.053782641887664795,
          0.04737694561481476,
          0.057841960340738297,
          0.05221026390790939,
          0.05001743882894516,
          0.047219168394804,
          0.05252138525247574,
          0.04406458139419556,
          0.03554898872971535,
          0.04743625223636627,
          0.04494651034474373,
          0.047418948262929916,
          0.05044730752706528,
          0.04422928765416145,
          0.04185282066464424,
          0.05065280199050903,
          0.05616563931107521,
          0.055217280983924866,
          0.048211317509412766,
          0.035699598491191864,
          0.0443093441426754,
          0.04109053313732147,
          0.04562821239233017,
          0.0486639179289341,
          0.04611625149846077,
          0.04944280907511711,
          0.037463296204805374,
          0.056011300534009933,
          0.05082903429865837,
          0.05304112285375595,
          0.05049159377813339,
          0.03689100220799446,
          0.04678228870034218,
          0.04503550007939339,
          0.05119582638144493,
          0.06334765255451202,
          0.04561536759138107,
          0.04212643951177597,
          0.04212268069386482,
          0.05015403777360916,
          0.06050543859601021,
          0.044811565428972244,
          0.047604937106370926,
          0.04947938024997711,
          0.04410390183329582,
          0.044172707945108414,
          0.04087036848068237,
          0.050740331411361694,
          0.04882363602519035,
          0.05102621018886566,
          0.03888335078954697,
          0.05620547756552696,
          0.048224981874227524,
          0.05021582171320915,
          0.044293418526649475,
          0.04520973563194275,
          0.041439734399318695,
          0.04998566955327988,
          0.07243955135345459,
          0.05086469277739525,
          0.0518813319504261,
          0.04253772273659706,
          0.04793698340654373,
          0.05340343341231346,
          0.0512615442276001,
          0.05583170801401138,
          0.049502693116664886,
          0.036819636821746826,
          0.04727747663855553,
          0.056904375553131104,
          0.04556875303387642,
          0.04852944239974022,
          0.06257458031177521,
          0.05150027945637703,
          0.04383447393774986,
          0.0602116659283638,
          0.051456086337566376,
          0.04819202050566673,
          0.05754683539271355,
          0.05669941380620003,
          0.04357350990176201,
          0.043460238724946976,
          0.04995240643620491,
          0.042179614305496216,
          0.04322206601500511,
          0.043292246758937836,
          0.0453382171690464,
          0.04972601681947708,
          0.051209136843681335,
          0.04579725116491318,
          0.05898863077163696,
          0.04963020235300064,
          0.05392566695809364,
          0.05252483859658241,
          0.048025213181972504,
          0.04766138270497322,
          0.04715050756931305,
          0.052346426993608475,
          0.04574378579854965,
          0.04989363253116608,
          0.04107130691409111,
          0.05945800989866257,
          0.03794226422905922,
          0.04339193180203438,
          0.042335640639066696,
          0.04362259805202484,
          0.04458441212773323,
          0.03924357891082764,
          0.0457981675863266,
          0.03588620573282242,
          0.042634036391973495,
          0.04874306172132492,
          0.0490996390581131,
          0.03688891604542732,
          0.04604600369930267,
          0.04651202633976936,
          0.035731833428144455,
          0.04136843979358673,
          0.050512295216321945,
          0.04690298065543175,
          0.0565120093524456,
          0.04810882359743118,
          0.04956163093447685,
          0.052133750170469284,
          0.050695765763521194,
          0.04806734621524811,
          0.0873594582080841,
          0.05742524191737175,
          0.044395193457603455,
          0.05088194087147713,
          0.05108232423663139,
          0.03808632120490074,
          0.04124956205487251,
          0.03667834773659706,
          0.04764832556247711,
          0.051980651915073395,
          0.04377860575914383,
          0.05174991115927696,
          0.04518408700823784,
          0.04025384783744812,
          0.018585579469799995,
          0.05495116487145424,
          0.05051276832818985,
          0.043776970356702805,
          0.04656463861465454,
          0.05121903866529465,
          0.053756896406412125,
          0.05205202475190163,
          0.05999787151813507,
          0.047449689358472824,
          0.0527443066239357,
          0.0432334840297699,
          0.04866817221045494,
          0.05364440754055977,
          0.05082356557250023,
          0.04990233853459358,
          0.04340573772788048,
          0.04108573496341705,
          0.043303802609443665,
          0.05619726702570915,
          0.05223182961344719,
          0.0468144565820694,
          0.04605267569422722,
          0.04029345512390137,
          0.05505337193608284,
          0.04710518568754196,
          0.055968768894672394,
          0.04939815774559975,
          0.04955332726240158,
          0.04393278434872627,
          0.06361515074968338,
          0.0500020794570446,
          0.04391153156757355,
          0.04620331525802612,
          0.055281803011894226,
          0.04714435711503029,
          0.04555342346429825,
          0.048228707164525986,
          0.055712707340717316,
          0.048690374940633774,
          0.044522784650325775,
          0.04528237134218216,
          0.05042053014039993,
          0.0443355068564415,
          0.047205012291669846,
          0.04599784314632416,
          0.04613226652145386,
          0.053294211626052856,
          0.04543302580714226,
          0.05708948150277138,
          0.0468272939324379,
          0.049733541905879974,
          0.03812043368816376,
          0.045930881053209305,
          0.04155908152461052,
          0.045329660177230835,
          0.04788180813193321,
          0.04708504304289818,
          0.070912204682827,
          0.05661078169941902,
          0.04595289006829262,
          0.0458945631980896,
          0.04774080961942673,
          0.0392136387526989,
          0.04068814590573311,
          0.053981609642505646,
          0.05200018361210823,
          0.04822428897023201,
          0.05500522628426552,
          0.046927619725465775,
          0.048422396183013916,
          0.05038041993975639,
          0.05862965062260628,
          0.05288907513022423,
          0.059176187962293625,
          0.05986223369836807,
          0.049648623913526535,
          0.057128146290779114,
          0.03880312666296959,
          0.046962447464466095,
          0.050225481390953064,
          0.04949271306395531,
          0.05065540596842766,
          0.04664645344018936,
          0.05035947635769844,
          0.04606693983078003,
          0.013284430839121342,
          0.05732813477516174,
          0.05269322171807289,
          0.050331152975559235,
          0.07356219738721848,
          0.042971499264240265,
          0.043539129197597504,
          0.037950534373521805,
          0.03831257298588753,
          0.07748076319694519,
          0.046127792447805405,
          0.04705860838294029,
          0.04683325067162514,
          0.04753504693508148,
          0.044908326119184494,
          0.034794315695762634,
          0.0473848320543766,
          0.05663885548710823,
          0.04696916043758392,
          0.0485142357647419,
          0.050346940755844116,
          0.04960513487458229,
          0.042297642678022385,
          0.04055139049887657,
          0.05648835375905037,
          0.05153375491499901,
          0.047119397670030594,
          0.03584988787770271,
          0.04694191738963127,
          0.04655059799551964,
          0.0668637678027153,
          0.05405125021934509,
          0.04469182714819908,
          0.031229417771100998,
          0.037042759358882904,
          0.05159947648644447,
          0.058489199727773666,
          0.04826945438981056,
          0.04642101377248764,
          0.07526803761720657,
          0.052485208958387375,
          0.05191245302557945,
          0.04990925267338753,
          0.045522402971982956,
          0.053792066872119904,
          0.04452821984887123,
          0.06465250998735428,
          0.04505765065550804,
          0.04792848229408264,
          0.04921546205878258,
          0.04761854186654091,
          0.044479601085186005,
          0.044723402708768845,
          0.052053969353437424,
          0.04368489980697632,
          0.04564245045185089,
          0.04802462458610535,
          0.04483674466609955,
          0.047891657799482346,
          0.04415244236588478,
          0.04396950826048851,
          0.04561515152454376,
          0.05081687495112419,
          0.05802920088171959,
          0.04205259308218956,
          0.05003685504198074,
          0.04364606365561485,
          0.057645101100206375,
          0.05537852644920349,
          0.054867591708898544,
          0.056808508932590485,
          0.0617310032248497,
          0.045416828244924545,
          0.04877461493015289,
          0.04753728583455086,
          0.041678931564092636,
          0.06274836510419846,
          0.05129300057888031,
          0.05134561285376549,
          0.05355585739016533,
          0.04031560570001602,
          0.05799000710248947,
          0.0510123185813427,
          0.05158775672316551,
          0.04779165983200073,
          0.046820301562547684,
          0.05400664359331131,
          0.04778596758842468,
          0.04906957969069481,
          0.05016317963600159,
          0.04809226468205452,
          0.042140889912843704,
          0.04282050207257271,
          0.049350280314683914,
          0.041499823331832886,
          0.04484749585390091,
          0.048024822026491165,
          0.04840656742453575,
          0.053942181169986725,
          0.04259796068072319,
          0.05665822699666023,
          0.06856227666139603,
          0.038676243275403976,
          0.03809507191181183,
          0.053012650460004807,
          0.05873221158981323,
          0.08295734226703644,
          0.04599633812904358,
          0.04438363015651703,
          0.044041234999895096,
          0.05583043023943901,
          0.05027109384536743,
          0.06222939491271973,
          0.047587472945451736,
          0.04328557476401329,
          0.05799281224608421,
          0.04961799830198288,
          0.05782361701130867,
          0.05803525075316429,
          0.06007178872823715,
          0.04901740700006485,
          0.04545225575566292,
          0.04374558851122856,
          0.05489546060562134,
          0.04778032377362251,
          0.043067604303359985,
          0.05072185769677162,
          0.05835724622011185,
          0.0467073917388916,
          0.04995785653591156,
          0.04158457741141319,
          0.05272134393453598,
          0.047762710601091385,
          0.04543126001954079,
          0.044752366840839386,
          0.05317080393433571,
          0.05046030879020691,
          0.04851865768432617,
          0.050279855728149414,
          0.04572112485766411,
          0.05188150331377983,
          0.044599100947380066,
          0.0570126473903656,
          0.053614143282175064,
          0.051448602229356766,
          0.04146963357925415,
          0.05921177193522453,
          0.046774763613939285,
          0.048944830894470215,
          0.0459628589451313,
          0.05294690653681755,
          0.04331936687231064,
          0.057284653186798096,
          0.04349568486213684,
          0.04812359809875488,
          0.0458182692527771,
          0.04586658999323845,
          0.068647600710392,
          0.04668046161532402,
          0.045332103967666626,
          0.055703625082969666,
          0.05764267221093178
         ]
        }
       ],
       "layout": {
        "barmode": "overlay",
        "shapes": [
         {
          "line": {
           "color": "red",
           "width": 3
          },
          "type": "line",
          "x0": 0.03201262652873993,
          "x1": 0.03201262652873993,
          "xref": "x",
          "y0": 0,
          "y1": 90,
          "yref": "y"
         }
        ],
        "template": {
         "data": {
          "bar": [
           {
            "error_x": {
             "color": "#2a3f5f"
            },
            "error_y": {
             "color": "#2a3f5f"
            },
            "marker": {
             "line": {
              "color": "#E5ECF6",
              "width": 0.5
             },
             "pattern": {
              "fillmode": "overlay",
              "size": 10,
              "solidity": 0.2
             }
            },
            "type": "bar"
           }
          ],
          "barpolar": [
           {
            "marker": {
             "line": {
              "color": "#E5ECF6",
              "width": 0.5
             },
             "pattern": {
              "fillmode": "overlay",
              "size": 10,
              "solidity": 0.2
             }
            },
            "type": "barpolar"
           }
          ],
          "carpet": [
           {
            "aaxis": {
             "endlinecolor": "#2a3f5f",
             "gridcolor": "white",
             "linecolor": "white",
             "minorgridcolor": "white",
             "startlinecolor": "#2a3f5f"
            },
            "baxis": {
             "endlinecolor": "#2a3f5f",
             "gridcolor": "white",
             "linecolor": "white",
             "minorgridcolor": "white",
             "startlinecolor": "#2a3f5f"
            },
            "type": "carpet"
           }
          ],
          "choropleth": [
           {
            "colorbar": {
             "outlinewidth": 0,
             "ticks": ""
            },
            "type": "choropleth"
           }
          ],
          "contour": [
           {
            "colorbar": {
             "outlinewidth": 0,
             "ticks": ""
            },
            "colorscale": [
             [
              0,
              "#0d0887"
             ],
             [
              0.1111111111111111,
              "#46039f"
             ],
             [
              0.2222222222222222,
              "#7201a8"
             ],
             [
              0.3333333333333333,
              "#9c179e"
             ],
             [
              0.4444444444444444,
              "#bd3786"
             ],
             [
              0.5555555555555556,
              "#d8576b"
             ],
             [
              0.6666666666666666,
              "#ed7953"
             ],
             [
              0.7777777777777778,
              "#fb9f3a"
             ],
             [
              0.8888888888888888,
              "#fdca26"
             ],
             [
              1,
              "#f0f921"
             ]
            ],
            "type": "contour"
           }
          ],
          "contourcarpet": [
           {
            "colorbar": {
             "outlinewidth": 0,
             "ticks": ""
            },
            "type": "contourcarpet"
           }
          ],
          "heatmap": [
           {
            "colorbar": {
             "outlinewidth": 0,
             "ticks": ""
            },
            "colorscale": [
             [
              0,
              "#0d0887"
             ],
             [
              0.1111111111111111,
              "#46039f"
             ],
             [
              0.2222222222222222,
              "#7201a8"
             ],
             [
              0.3333333333333333,
              "#9c179e"
             ],
             [
              0.4444444444444444,
              "#bd3786"
             ],
             [
              0.5555555555555556,
              "#d8576b"
             ],
             [
              0.6666666666666666,
              "#ed7953"
             ],
             [
              0.7777777777777778,
              "#fb9f3a"
             ],
             [
              0.8888888888888888,
              "#fdca26"
             ],
             [
              1,
              "#f0f921"
             ]
            ],
            "type": "heatmap"
           }
          ],
          "heatmapgl": [
           {
            "colorbar": {
             "outlinewidth": 0,
             "ticks": ""
            },
            "colorscale": [
             [
              0,
              "#0d0887"
             ],
             [
              0.1111111111111111,
              "#46039f"
             ],
             [
              0.2222222222222222,
              "#7201a8"
             ],
             [
              0.3333333333333333,
              "#9c179e"
             ],
             [
              0.4444444444444444,
              "#bd3786"
             ],
             [
              0.5555555555555556,
              "#d8576b"
             ],
             [
              0.6666666666666666,
              "#ed7953"
             ],
             [
              0.7777777777777778,
              "#fb9f3a"
             ],
             [
              0.8888888888888888,
              "#fdca26"
             ],
             [
              1,
              "#f0f921"
             ]
            ],
            "type": "heatmapgl"
           }
          ],
          "histogram": [
           {
            "marker": {
             "pattern": {
              "fillmode": "overlay",
              "size": 10,
              "solidity": 0.2
             }
            },
            "type": "histogram"
           }
          ],
          "histogram2d": [
           {
            "colorbar": {
             "outlinewidth": 0,
             "ticks": ""
            },
            "colorscale": [
             [
              0,
              "#0d0887"
             ],
             [
              0.1111111111111111,
              "#46039f"
             ],
             [
              0.2222222222222222,
              "#7201a8"
             ],
             [
              0.3333333333333333,
              "#9c179e"
             ],
             [
              0.4444444444444444,
              "#bd3786"
             ],
             [
              0.5555555555555556,
              "#d8576b"
             ],
             [
              0.6666666666666666,
              "#ed7953"
             ],
             [
              0.7777777777777778,
              "#fb9f3a"
             ],
             [
              0.8888888888888888,
              "#fdca26"
             ],
             [
              1,
              "#f0f921"
             ]
            ],
            "type": "histogram2d"
           }
          ],
          "histogram2dcontour": [
           {
            "colorbar": {
             "outlinewidth": 0,
             "ticks": ""
            },
            "colorscale": [
             [
              0,
              "#0d0887"
             ],
             [
              0.1111111111111111,
              "#46039f"
             ],
             [
              0.2222222222222222,
              "#7201a8"
             ],
             [
              0.3333333333333333,
              "#9c179e"
             ],
             [
              0.4444444444444444,
              "#bd3786"
             ],
             [
              0.5555555555555556,
              "#d8576b"
             ],
             [
              0.6666666666666666,
              "#ed7953"
             ],
             [
              0.7777777777777778,
              "#fb9f3a"
             ],
             [
              0.8888888888888888,
              "#fdca26"
             ],
             [
              1,
              "#f0f921"
             ]
            ],
            "type": "histogram2dcontour"
           }
          ],
          "mesh3d": [
           {
            "colorbar": {
             "outlinewidth": 0,
             "ticks": ""
            },
            "type": "mesh3d"
           }
          ],
          "parcoords": [
           {
            "line": {
             "colorbar": {
              "outlinewidth": 0,
              "ticks": ""
             }
            },
            "type": "parcoords"
           }
          ],
          "pie": [
           {
            "automargin": true,
            "type": "pie"
           }
          ],
          "scatter": [
           {
            "marker": {
             "colorbar": {
              "outlinewidth": 0,
              "ticks": ""
             }
            },
            "type": "scatter"
           }
          ],
          "scatter3d": [
           {
            "line": {
             "colorbar": {
              "outlinewidth": 0,
              "ticks": ""
             }
            },
            "marker": {
             "colorbar": {
              "outlinewidth": 0,
              "ticks": ""
             }
            },
            "type": "scatter3d"
           }
          ],
          "scattercarpet": [
           {
            "marker": {
             "colorbar": {
              "outlinewidth": 0,
              "ticks": ""
             }
            },
            "type": "scattercarpet"
           }
          ],
          "scattergeo": [
           {
            "marker": {
             "colorbar": {
              "outlinewidth": 0,
              "ticks": ""
             }
            },
            "type": "scattergeo"
           }
          ],
          "scattergl": [
           {
            "marker": {
             "colorbar": {
              "outlinewidth": 0,
              "ticks": ""
             }
            },
            "type": "scattergl"
           }
          ],
          "scattermapbox": [
           {
            "marker": {
             "colorbar": {
              "outlinewidth": 0,
              "ticks": ""
             }
            },
            "type": "scattermapbox"
           }
          ],
          "scatterpolar": [
           {
            "marker": {
             "colorbar": {
              "outlinewidth": 0,
              "ticks": ""
             }
            },
            "type": "scatterpolar"
           }
          ],
          "scatterpolargl": [
           {
            "marker": {
             "colorbar": {
              "outlinewidth": 0,
              "ticks": ""
             }
            },
            "type": "scatterpolargl"
           }
          ],
          "scatterternary": [
           {
            "marker": {
             "colorbar": {
              "outlinewidth": 0,
              "ticks": ""
             }
            },
            "type": "scatterternary"
           }
          ],
          "surface": [
           {
            "colorbar": {
             "outlinewidth": 0,
             "ticks": ""
            },
            "colorscale": [
             [
              0,
              "#0d0887"
             ],
             [
              0.1111111111111111,
              "#46039f"
             ],
             [
              0.2222222222222222,
              "#7201a8"
             ],
             [
              0.3333333333333333,
              "#9c179e"
             ],
             [
              0.4444444444444444,
              "#bd3786"
             ],
             [
              0.5555555555555556,
              "#d8576b"
             ],
             [
              0.6666666666666666,
              "#ed7953"
             ],
             [
              0.7777777777777778,
              "#fb9f3a"
             ],
             [
              0.8888888888888888,
              "#fdca26"
             ],
             [
              1,
              "#f0f921"
             ]
            ],
            "type": "surface"
           }
          ],
          "table": [
           {
            "cells": {
             "fill": {
              "color": "#EBF0F8"
             },
             "line": {
              "color": "white"
             }
            },
            "header": {
             "fill": {
              "color": "#C8D4E3"
             },
             "line": {
              "color": "white"
             }
            },
            "type": "table"
           }
          ]
         },
         "layout": {
          "annotationdefaults": {
           "arrowcolor": "#2a3f5f",
           "arrowhead": 0,
           "arrowwidth": 1
          },
          "autotypenumbers": "strict",
          "coloraxis": {
           "colorbar": {
            "outlinewidth": 0,
            "ticks": ""
           }
          },
          "colorscale": {
           "diverging": [
            [
             0,
             "#8e0152"
            ],
            [
             0.1,
             "#c51b7d"
            ],
            [
             0.2,
             "#de77ae"
            ],
            [
             0.3,
             "#f1b6da"
            ],
            [
             0.4,
             "#fde0ef"
            ],
            [
             0.5,
             "#f7f7f7"
            ],
            [
             0.6,
             "#e6f5d0"
            ],
            [
             0.7,
             "#b8e186"
            ],
            [
             0.8,
             "#7fbc41"
            ],
            [
             0.9,
             "#4d9221"
            ],
            [
             1,
             "#276419"
            ]
           ],
           "sequential": [
            [
             0,
             "#0d0887"
            ],
            [
             0.1111111111111111,
             "#46039f"
            ],
            [
             0.2222222222222222,
             "#7201a8"
            ],
            [
             0.3333333333333333,
             "#9c179e"
            ],
            [
             0.4444444444444444,
             "#bd3786"
            ],
            [
             0.5555555555555556,
             "#d8576b"
            ],
            [
             0.6666666666666666,
             "#ed7953"
            ],
            [
             0.7777777777777778,
             "#fb9f3a"
            ],
            [
             0.8888888888888888,
             "#fdca26"
            ],
            [
             1,
             "#f0f921"
            ]
           ],
           "sequentialminus": [
            [
             0,
             "#0d0887"
            ],
            [
             0.1111111111111111,
             "#46039f"
            ],
            [
             0.2222222222222222,
             "#7201a8"
            ],
            [
             0.3333333333333333,
             "#9c179e"
            ],
            [
             0.4444444444444444,
             "#bd3786"
            ],
            [
             0.5555555555555556,
             "#d8576b"
            ],
            [
             0.6666666666666666,
             "#ed7953"
            ],
            [
             0.7777777777777778,
             "#fb9f3a"
            ],
            [
             0.8888888888888888,
             "#fdca26"
            ],
            [
             1,
             "#f0f921"
            ]
           ]
          },
          "colorway": [
           "#636efa",
           "#EF553B",
           "#00cc96",
           "#ab63fa",
           "#FFA15A",
           "#19d3f3",
           "#FF6692",
           "#B6E880",
           "#FF97FF",
           "#FECB52"
          ],
          "font": {
           "color": "#2a3f5f"
          },
          "geo": {
           "bgcolor": "white",
           "lakecolor": "white",
           "landcolor": "#E5ECF6",
           "showlakes": true,
           "showland": true,
           "subunitcolor": "white"
          },
          "hoverlabel": {
           "align": "left"
          },
          "hovermode": "closest",
          "mapbox": {
           "style": "light"
          },
          "paper_bgcolor": "white",
          "plot_bgcolor": "#E5ECF6",
          "polar": {
           "angularaxis": {
            "gridcolor": "white",
            "linecolor": "white",
            "ticks": ""
           },
           "bgcolor": "#E5ECF6",
           "radialaxis": {
            "gridcolor": "white",
            "linecolor": "white",
            "ticks": ""
           }
          },
          "scene": {
           "xaxis": {
            "backgroundcolor": "#E5ECF6",
            "gridcolor": "white",
            "gridwidth": 2,
            "linecolor": "white",
            "showbackground": true,
            "ticks": "",
            "zerolinecolor": "white"
           },
           "yaxis": {
            "backgroundcolor": "#E5ECF6",
            "gridcolor": "white",
            "gridwidth": 2,
            "linecolor": "white",
            "showbackground": true,
            "ticks": "",
            "zerolinecolor": "white"
           },
           "zaxis": {
            "backgroundcolor": "#E5ECF6",
            "gridcolor": "white",
            "gridwidth": 2,
            "linecolor": "white",
            "showbackground": true,
            "ticks": "",
            "zerolinecolor": "white"
           }
          },
          "shapedefaults": {
           "line": {
            "color": "#2a3f5f"
           }
          },
          "ternary": {
           "aaxis": {
            "gridcolor": "white",
            "linecolor": "white",
            "ticks": ""
           },
           "baxis": {
            "gridcolor": "white",
            "linecolor": "white",
            "ticks": ""
           },
           "bgcolor": "#E5ECF6",
           "caxis": {
            "gridcolor": "white",
            "linecolor": "white",
            "ticks": ""
           }
          },
          "title": {
           "x": 0.05
          },
          "xaxis": {
           "automargin": true,
           "gridcolor": "white",
           "linecolor": "white",
           "ticks": "",
           "title": {
            "standoff": 15
           },
           "zerolinecolor": "white",
           "zerolinewidth": 2
          },
          "yaxis": {
           "automargin": true,
           "gridcolor": "white",
           "linecolor": "white",
           "ticks": "",
           "title": {
            "standoff": 15
           },
           "zerolinecolor": "white",
           "zerolinewidth": 2
          }
         }
        }
       }
      }
     },
     "metadata": {}
    }
   ],
   "metadata": {}
  },
  {
   "cell_type": "markdown",
   "source": [
    "The red vertical line is at the threshold. Anything above the red vertical line is considered as an anormaly. \n",
    "\n",
    "## How accurate is our model \n",
    "\n",
    "We will compute the accuracy, precision and recall of our model. "
   ],
   "metadata": {}
  },
  {
   "cell_type": "code",
   "execution_count": 17,
   "source": [
    "def predict(model, data, threshold):\n",
    "  reconstructions = model(data)\n",
    "  loss = tf.keras.losses.mae(reconstructions, data)\n",
    "  return tf.math.less(loss, threshold)\n",
    "\n",
    "def print_stats(predictions, labels):\n",
    "  print(\"Accuracy = {}\".format(accuracy_score(labels, predictions)))\n",
    "  print(\"Precision = {}\".format(precision_score(labels, predictions)))\n",
    "  print(\"Recall = {}\".format(recall_score(labels, predictions)))\n",
    "\n",
    "\n",
    "\n",
    "preds = predict(autoencoder, test_data, threshold)\n",
    "print_stats(preds, test_labels)"
   ],
   "outputs": [
    {
     "output_type": "stream",
     "name": "stdout",
     "text": [
      "Accuracy = 0.943\nPrecision = 0.9921722113502935\nRecall = 0.9053571428571429\n"
     ]
    }
   ],
   "metadata": {}
  },
  {
   "cell_type": "markdown",
   "source": [
    "## Final words\n",
    "\n",
    "In this blog post, we have seen how autoencoders can be used to detect anomalies in our data. The ECG data is a  nice example to illustrate the idea, however, with a typical real-world use case, there will be more shortcomings. "
   ],
   "metadata": {}
  },
  {
   "cell_type": "code",
   "execution_count": null,
   "source": [],
   "outputs": [],
   "metadata": {}
  }
 ]
}