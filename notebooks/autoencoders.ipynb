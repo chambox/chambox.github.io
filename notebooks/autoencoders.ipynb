{
 "metadata": {
  "language_info": {
   "codemirror_mode": {
    "name": "ipython",
    "version": 3
   },
   "file_extension": ".py",
   "mimetype": "text/x-python",
   "name": "python",
   "nbconvert_exporter": "python",
   "pygments_lexer": "ipython3",
   "version": "3.7.9"
  },
  "orig_nbformat": 4,
  "kernelspec": {
   "name": "python3",
   "display_name": "Python 3.7.9 64-bit ('website': venv)"
  },
  "interpreter": {
   "hash": "526c6d517c181ea8a90430c85bc56c6c81b52fe8bc1332055751a149542bc334"
  }
 },
 "nbformat": 4,
 "nbformat_minor": 2,
 "cells": [
  {
   "cell_type": "markdown",
   "source": [
    "## Anomaly detection with autoencoders\n",
    "\n",
    "In this blog post we will use autoencoders to detect anomalies in ECG5000 dataset. In writing this blog post I have assumed that the reader has some basic understanding of neural networks and autoencoders as a specific type of neural network. Jeremy Jordan has a nice 10mins-read blog post on autoencoders, you can find it [here](https://www.jeremyjordan.me/autoencoders/).  The ECG5000 dataset which we will use contains 50,000 Electrocardiograms (ECG). Each cardiogram has 140 data points.  Luckily for us, the data has been labeled into a normal and abnormal rhythm by medical experts. Our goal is to use autoencoders to see if they can mimic the knowledge of a medical doctor and identify abnormal Electrocardiograms.\n",
    "\n",
    "Our approach will be to (1) train the autoencoder on the normal data and (2) use our trained model to reconstruct the entire dataset. We hypothesize that abnormal Electrocardiograms will have a higher reconstruction error. Recall that an autoencoder takes the input data and projects it onto a lower-dimensional space that captures only the signals in the data. The data can then be reconstructed from the lower-dimensional space. Note here that if a data point is noisy its reconstruction error (the distance between the actual point and the reconstructed one) will be large. It is this simple principle that we use to identity anomalies. \n",
    "\n",
    "\n",
    "## Lets load the ECG data "
   ],
   "metadata": {}
  },
  {
   "cell_type": "code",
   "execution_count": 11,
   "source": [
    "# libraries \n",
    "import matplotlib.pyplot as plt\n",
    "import numpy as np\n",
    "import pandas as pd\n",
    "import tensorflow as tf\n",
    "\n",
    "from sklearn.model_selection import train_test_split\n",
    "from sklearn.metrics import accuracy_score, precision_score, recall_score\n",
    "from tensorflow.keras import layers, losses\n",
    "from tensorflow.keras.datasets import fashion_mnist\n",
    "from tensorflow.keras.models import Model\n",
    "import plotly.express as px \n",
    "import plotly.graph_objects as go \n",
    "import plotly.offline as py_offline"
   ],
   "outputs": [],
   "metadata": {}
  },
  {
   "cell_type": "code",
   "execution_count": 3,
   "source": [
    "# Download the dataset\n",
    "url = 'http://storage.googleapis.com/download.tensorflow.org/data/ecg.csv'\n",
    "\n",
    "dataframe = pd.read_csv(url,header=None)\n",
    "raw_data = dataframe.values\n",
    "dataframe.head()"
   ],
   "outputs": [
    {
     "output_type": "execute_result",
     "data": {
      "text/plain": [
       "        0         1         2         3         4         5         6    \\\n",
       "0 -0.112522 -2.827204 -3.773897 -4.349751 -4.376041 -3.474986 -2.181408   \n",
       "1 -1.100878 -3.996840 -4.285843 -4.506579 -4.022377 -3.234368 -1.566126   \n",
       "2 -0.567088 -2.593450 -3.874230 -4.584095 -4.187449 -3.151462 -1.742940   \n",
       "3  0.490473 -1.914407 -3.616364 -4.318823 -4.268016 -3.881110 -2.993280   \n",
       "4  0.800232 -0.874252 -2.384761 -3.973292 -4.338224 -3.802422 -2.534510   \n",
       "\n",
       "        7         8         9    ...       131       132       133       134  \\\n",
       "0 -1.818286 -1.250522 -0.477492  ...  0.792168  0.933541  0.796958  0.578621   \n",
       "1 -0.992258 -0.754680  0.042321  ...  0.538356  0.656881  0.787490  0.724046   \n",
       "2 -1.490659 -1.183580 -0.394229  ...  0.886073  0.531452  0.311377 -0.021919   \n",
       "3 -1.671131 -1.333884 -0.965629  ...  0.350816  0.499111  0.600345  0.842069   \n",
       "4 -1.783423 -1.594450 -0.753199  ...  1.148884  0.958434  1.059025  1.371682   \n",
       "\n",
       "        135       136       137       138       139  140  \n",
       "0  0.257740  0.228077  0.123431  0.925286  0.193137  1.0  \n",
       "1  0.555784  0.476333  0.773820  1.119621 -1.436250  1.0  \n",
       "2 -0.713683 -0.532197  0.321097  0.904227 -0.421797  1.0  \n",
       "3  0.952074  0.990133  1.086798  1.403011 -0.383564  1.0  \n",
       "4  1.277392  0.960304  0.971020  1.614392  1.421456  1.0  \n",
       "\n",
       "[5 rows x 141 columns]"
      ],
      "text/html": [
       "<div>\n",
       "<style scoped>\n",
       "    .dataframe tbody tr th:only-of-type {\n",
       "        vertical-align: middle;\n",
       "    }\n",
       "\n",
       "    .dataframe tbody tr th {\n",
       "        vertical-align: top;\n",
       "    }\n",
       "\n",
       "    .dataframe thead th {\n",
       "        text-align: right;\n",
       "    }\n",
       "</style>\n",
       "<table border=\"1\" class=\"dataframe\">\n",
       "  <thead>\n",
       "    <tr style=\"text-align: right;\">\n",
       "      <th></th>\n",
       "      <th>0</th>\n",
       "      <th>1</th>\n",
       "      <th>2</th>\n",
       "      <th>3</th>\n",
       "      <th>4</th>\n",
       "      <th>5</th>\n",
       "      <th>6</th>\n",
       "      <th>7</th>\n",
       "      <th>8</th>\n",
       "      <th>9</th>\n",
       "      <th>...</th>\n",
       "      <th>131</th>\n",
       "      <th>132</th>\n",
       "      <th>133</th>\n",
       "      <th>134</th>\n",
       "      <th>135</th>\n",
       "      <th>136</th>\n",
       "      <th>137</th>\n",
       "      <th>138</th>\n",
       "      <th>139</th>\n",
       "      <th>140</th>\n",
       "    </tr>\n",
       "  </thead>\n",
       "  <tbody>\n",
       "    <tr>\n",
       "      <th>0</th>\n",
       "      <td>-0.112522</td>\n",
       "      <td>-2.827204</td>\n",
       "      <td>-3.773897</td>\n",
       "      <td>-4.349751</td>\n",
       "      <td>-4.376041</td>\n",
       "      <td>-3.474986</td>\n",
       "      <td>-2.181408</td>\n",
       "      <td>-1.818286</td>\n",
       "      <td>-1.250522</td>\n",
       "      <td>-0.477492</td>\n",
       "      <td>...</td>\n",
       "      <td>0.792168</td>\n",
       "      <td>0.933541</td>\n",
       "      <td>0.796958</td>\n",
       "      <td>0.578621</td>\n",
       "      <td>0.257740</td>\n",
       "      <td>0.228077</td>\n",
       "      <td>0.123431</td>\n",
       "      <td>0.925286</td>\n",
       "      <td>0.193137</td>\n",
       "      <td>1.0</td>\n",
       "    </tr>\n",
       "    <tr>\n",
       "      <th>1</th>\n",
       "      <td>-1.100878</td>\n",
       "      <td>-3.996840</td>\n",
       "      <td>-4.285843</td>\n",
       "      <td>-4.506579</td>\n",
       "      <td>-4.022377</td>\n",
       "      <td>-3.234368</td>\n",
       "      <td>-1.566126</td>\n",
       "      <td>-0.992258</td>\n",
       "      <td>-0.754680</td>\n",
       "      <td>0.042321</td>\n",
       "      <td>...</td>\n",
       "      <td>0.538356</td>\n",
       "      <td>0.656881</td>\n",
       "      <td>0.787490</td>\n",
       "      <td>0.724046</td>\n",
       "      <td>0.555784</td>\n",
       "      <td>0.476333</td>\n",
       "      <td>0.773820</td>\n",
       "      <td>1.119621</td>\n",
       "      <td>-1.436250</td>\n",
       "      <td>1.0</td>\n",
       "    </tr>\n",
       "    <tr>\n",
       "      <th>2</th>\n",
       "      <td>-0.567088</td>\n",
       "      <td>-2.593450</td>\n",
       "      <td>-3.874230</td>\n",
       "      <td>-4.584095</td>\n",
       "      <td>-4.187449</td>\n",
       "      <td>-3.151462</td>\n",
       "      <td>-1.742940</td>\n",
       "      <td>-1.490659</td>\n",
       "      <td>-1.183580</td>\n",
       "      <td>-0.394229</td>\n",
       "      <td>...</td>\n",
       "      <td>0.886073</td>\n",
       "      <td>0.531452</td>\n",
       "      <td>0.311377</td>\n",
       "      <td>-0.021919</td>\n",
       "      <td>-0.713683</td>\n",
       "      <td>-0.532197</td>\n",
       "      <td>0.321097</td>\n",
       "      <td>0.904227</td>\n",
       "      <td>-0.421797</td>\n",
       "      <td>1.0</td>\n",
       "    </tr>\n",
       "    <tr>\n",
       "      <th>3</th>\n",
       "      <td>0.490473</td>\n",
       "      <td>-1.914407</td>\n",
       "      <td>-3.616364</td>\n",
       "      <td>-4.318823</td>\n",
       "      <td>-4.268016</td>\n",
       "      <td>-3.881110</td>\n",
       "      <td>-2.993280</td>\n",
       "      <td>-1.671131</td>\n",
       "      <td>-1.333884</td>\n",
       "      <td>-0.965629</td>\n",
       "      <td>...</td>\n",
       "      <td>0.350816</td>\n",
       "      <td>0.499111</td>\n",
       "      <td>0.600345</td>\n",
       "      <td>0.842069</td>\n",
       "      <td>0.952074</td>\n",
       "      <td>0.990133</td>\n",
       "      <td>1.086798</td>\n",
       "      <td>1.403011</td>\n",
       "      <td>-0.383564</td>\n",
       "      <td>1.0</td>\n",
       "    </tr>\n",
       "    <tr>\n",
       "      <th>4</th>\n",
       "      <td>0.800232</td>\n",
       "      <td>-0.874252</td>\n",
       "      <td>-2.384761</td>\n",
       "      <td>-3.973292</td>\n",
       "      <td>-4.338224</td>\n",
       "      <td>-3.802422</td>\n",
       "      <td>-2.534510</td>\n",
       "      <td>-1.783423</td>\n",
       "      <td>-1.594450</td>\n",
       "      <td>-0.753199</td>\n",
       "      <td>...</td>\n",
       "      <td>1.148884</td>\n",
       "      <td>0.958434</td>\n",
       "      <td>1.059025</td>\n",
       "      <td>1.371682</td>\n",
       "      <td>1.277392</td>\n",
       "      <td>0.960304</td>\n",
       "      <td>0.971020</td>\n",
       "      <td>1.614392</td>\n",
       "      <td>1.421456</td>\n",
       "      <td>1.0</td>\n",
       "    </tr>\n",
       "  </tbody>\n",
       "</table>\n",
       "<p>5 rows × 141 columns</p>\n",
       "</div>"
      ]
     },
     "metadata": {},
     "execution_count": 3
    }
   ],
   "metadata": {}
  },
  {
   "cell_type": "markdown",
   "source": [
    "The last column contains the labels. The other data points are the electrocardiogram data. We will also create a train and test a dataset, as well as their labels, this is what data scientists do to overcome a serious problem in data science namely `over-fitting`."
   ],
   "metadata": {}
  },
  {
   "cell_type": "code",
   "execution_count": 4,
   "source": [
    "# The last element contains the labels\n",
    "labels = raw_data[:, -1]\n",
    "\n",
    "# The other data points are the electrocadriogram data\n",
    "data = raw_data[:, 0:-1]\n",
    "\n",
    "train_data, test_data, train_labels, test_labels = train_test_split(\n",
    "    data, labels, test_size=0.2, random_state=21\n",
    ")"
   ],
   "outputs": [],
   "metadata": {}
  },
  {
   "cell_type": "markdown",
   "source": [
    "We will also normalize the data to lie between [0,1]. Note here that we do normalization because to speed up the learning and convergence of the optimizer. \n"
   ],
   "metadata": {}
  },
  {
   "cell_type": "code",
   "execution_count": 5,
   "source": [
    "min_val = tf.reduce_min(train_data)\n",
    "max_val = tf.reduce_max(train_data)\n",
    "\n",
    "train_data = (train_data - min_val) / (max_val - min_val)\n",
    "test_data = (test_data - min_val) / (max_val - min_val)\n",
    "\n",
    "train_data = tf.cast(train_data, tf.float32)\n",
    "test_data = tf.cast(test_data, tf.float32)"
   ],
   "outputs": [],
   "metadata": {}
  },
  {
   "cell_type": "markdown",
   "source": [
    "\n",
    "As mentioned earlier, we will only train the autoencoder on the data with normal rhythms. Electrocardiograms with normal rhythm are labeled with 1. We will separate the normal rhythm from the abnormal ones in the following chunk of code."
   ],
   "metadata": {}
  },
  {
   "cell_type": "code",
   "execution_count": 6,
   "source": [
    "train_labels = train_labels.astype(bool)\n",
    "test_labels = test_labels.astype(bool)\n",
    "\n",
    "normal_train_data = train_data[train_labels]\n",
    "normal_test_data = test_data[test_labels]\n",
    "\n",
    "abnormal_train_data = train_data[~train_labels]\n",
    "abnormal_test_data = test_data[~test_labels]"
   ],
   "outputs": [],
   "metadata": {}
  },
  {
   "cell_type": "markdown",
   "source": [
    "Let's visualize a normal and an abnormal  ECG. "
   ],
   "metadata": {}
  },
  {
   "cell_type": "code",
   "execution_count": 7,
   "source": [
    "fig = go.Figure()\n",
    "fig.add_trace(go.Scatter(x=np.arange(140), y=normal_train_data[0],name='Normal'))\n",
    "fig.add_trace(go.Scatter(x=np.arange(140), y=abnormal_train_data[10],name='Abnormal'))\n"
   ],
   "outputs": [
    {
     "output_type": "display_data",
     "data": {
      "application/vnd.plotly.v1+json": {
       "config": {
        "plotlyServerURL": "https://plot.ly"
       },
       "data": [
        {
         "name": "Normal",
         "type": "scatter",
         "x": [
          0,
          1,
          2,
          3,
          4,
          5,
          6,
          7,
          8,
          9,
          10,
          11,
          12,
          13,
          14,
          15,
          16,
          17,
          18,
          19,
          20,
          21,
          22,
          23,
          24,
          25,
          26,
          27,
          28,
          29,
          30,
          31,
          32,
          33,
          34,
          35,
          36,
          37,
          38,
          39,
          40,
          41,
          42,
          43,
          44,
          45,
          46,
          47,
          48,
          49,
          50,
          51,
          52,
          53,
          54,
          55,
          56,
          57,
          58,
          59,
          60,
          61,
          62,
          63,
          64,
          65,
          66,
          67,
          68,
          69,
          70,
          71,
          72,
          73,
          74,
          75,
          76,
          77,
          78,
          79,
          80,
          81,
          82,
          83,
          84,
          85,
          86,
          87,
          88,
          89,
          90,
          91,
          92,
          93,
          94,
          95,
          96,
          97,
          98,
          99,
          100,
          101,
          102,
          103,
          104,
          105,
          106,
          107,
          108,
          109,
          110,
          111,
          112,
          113,
          114,
          115,
          116,
          117,
          118,
          119,
          120,
          121,
          122,
          123,
          124,
          125,
          126,
          127,
          128,
          129,
          130,
          131,
          132,
          133,
          134,
          135,
          136,
          137,
          138,
          139
         ],
         "y": [
          0.5703046321868896,
          0.4656165838241577,
          0.2905811667442322,
          0.17791584134101868,
          0.09538919478654861,
          0.08467857539653778,
          0.2019510418176651,
          0.3163002133369446,
          0.33732032775878906,
          0.41424882411956787,
          0.47070595622062683,
          0.4691905081272125,
          0.4776775538921356,
          0.48004090785980225,
          0.4702724516391754,
          0.4729926884174347,
          0.479171484708786,
          0.48027467727661133,
          0.46928870677948,
          0.46106863021850586,
          0.46148037910461426,
          0.4465829133987427,
          0.45325326919555664,
          0.4561009407043457,
          0.4489617943763733,
          0.44325318932533264,
          0.4340217411518097,
          0.4430723488330841,
          0.4325052499771118,
          0.43014901876449585,
          0.41454657912254333,
          0.4120652973651886,
          0.40420278906822205,
          0.4105454385280609,
          0.4082913100719452,
          0.40342992544174194,
          0.39648476243019104,
          0.3933204412460327,
          0.39158815145492554,
          0.3960387706756592,
          0.4074695408344269,
          0.40531179308891296,
          0.41734880208969116,
          0.41624557971954346,
          0.42334118485450745,
          0.4459063708782196,
          0.4455184042453766,
          0.44474098086357117,
          0.44404327869415283,
          0.4567321836948395,
          0.4521746337413788,
          0.4532504081726074,
          0.46082931756973267,
          0.4669593572616577,
          0.4663194417953491,
          0.47432830929756165,
          0.46297091245651245,
          0.4738894999027252,
          0.4678889811038971,
          0.4673447906970978,
          0.4802667498588562,
          0.48439839482307434,
          0.48574668169021606,
          0.48985567688941956,
          0.4931734800338745,
          0.48830410838127136,
          0.49913936853408813,
          0.505709171295166,
          0.5078241229057312,
          0.5132302641868591,
          0.5211992859840393,
          0.514991819858551,
          0.519900918006897,
          0.5074853897094727,
          0.5113434195518494,
          0.5092939734458923,
          0.5073481798171997,
          0.5110538005828857,
          0.5096123814582825,
          0.4963955879211426,
          0.49456536769866943,
          0.5014910101890564,
          0.5063670873641968,
          0.5020293593406677,
          0.5007152557373047,
          0.4958237409591675,
          0.4843623638153076,
          0.4914246201515198,
          0.4825357496738434,
          0.47723883390426636,
          0.47550636529922485,
          0.47530031204223633,
          0.4876338243484497,
          0.4776129722595215,
          0.474583238363266,
          0.4757544696331024,
          0.47009119391441345,
          0.4540967047214508,
          0.46874862909317017,
          0.4767007529735565,
          0.4795878529548645,
          0.4751480519771576,
          0.47619494795799255,
          0.48561891913414,
          0.48763763904571533,
          0.4996277689933777,
          0.5284430384635925,
          0.5431970953941345,
          0.5495933294296265,
          0.5488370060920715,
          0.5231477618217468,
          0.4934438467025757,
          0.49881476163864136,
          0.5099680423736572,
          0.516133189201355,
          0.4907889664173126,
          0.4668024778366089,
          0.43299439549446106,
          0.4164400100708008,
          0.4182245135307312,
          0.43140411376953125,
          0.43214115500450134,
          0.4212411642074585,
          0.42373567819595337,
          0.42885276675224304,
          0.43089887499809265,
          0.43537637591362,
          0.4391244351863861,
          0.4371418356895447,
          0.4453428089618683,
          0.4533092975616455,
          0.48821336030960083,
          0.5786804556846619,
          0.5858615636825562,
          0.5959517955780029,
          0.5952476263046265,
          0.5700759291648865,
          0.4850423336029053,
          0.42335018515586853,
          0.4759834408760071
         ]
        },
        {
         "name": "Abnormal",
         "type": "scatter",
         "x": [
          0,
          1,
          2,
          3,
          4,
          5,
          6,
          7,
          8,
          9,
          10,
          11,
          12,
          13,
          14,
          15,
          16,
          17,
          18,
          19,
          20,
          21,
          22,
          23,
          24,
          25,
          26,
          27,
          28,
          29,
          30,
          31,
          32,
          33,
          34,
          35,
          36,
          37,
          38,
          39,
          40,
          41,
          42,
          43,
          44,
          45,
          46,
          47,
          48,
          49,
          50,
          51,
          52,
          53,
          54,
          55,
          56,
          57,
          58,
          59,
          60,
          61,
          62,
          63,
          64,
          65,
          66,
          67,
          68,
          69,
          70,
          71,
          72,
          73,
          74,
          75,
          76,
          77,
          78,
          79,
          80,
          81,
          82,
          83,
          84,
          85,
          86,
          87,
          88,
          89,
          90,
          91,
          92,
          93,
          94,
          95,
          96,
          97,
          98,
          99,
          100,
          101,
          102,
          103,
          104,
          105,
          106,
          107,
          108,
          109,
          110,
          111,
          112,
          113,
          114,
          115,
          116,
          117,
          118,
          119,
          120,
          121,
          122,
          123,
          124,
          125,
          126,
          127,
          128,
          129,
          130,
          131,
          132,
          133,
          134,
          135,
          136,
          137,
          138,
          139
         ],
         "y": [
          0.5329287052154541,
          0.42691323161125183,
          0.3145599067211151,
          0.2371739000082016,
          0.19981078803539276,
          0.21743109822273254,
          0.2518561780452728,
          0.2954537570476532,
          0.3473758399486542,
          0.3800815939903259,
          0.3923959732055664,
          0.407206654548645,
          0.44568225741386414,
          0.4751375913619995,
          0.483759343624115,
          0.47566989064216614,
          0.4684554934501648,
          0.46574896574020386,
          0.46483319997787476,
          0.4736376404762268,
          0.479197233915329,
          0.47230127453804016,
          0.4715641736984253,
          0.47323518991470337,
          0.4756664037704468,
          0.47236913442611694,
          0.4690287411212921,
          0.4677097201347351,
          0.4599353075027466,
          0.4661334753036499,
          0.4627246856689453,
          0.46366363763809204,
          0.4606701135635376,
          0.45932096242904663,
          0.457520991563797,
          0.4532535672187805,
          0.446733295917511,
          0.4478684067726135,
          0.43974071741104126,
          0.44103923439979553,
          0.438339501619339,
          0.4366229176521301,
          0.42951300740242004,
          0.4300360381603241,
          0.42419999837875366,
          0.4242825508117676,
          0.42357248067855835,
          0.4246310591697693,
          0.42515575885772705,
          0.4267626106739044,
          0.42640605568885803,
          0.42264217138290405,
          0.42632901668548584,
          0.42786073684692383,
          0.42759475111961365,
          0.43526625633239746,
          0.4472229480743408,
          0.4444811940193176,
          0.44372132420539856,
          0.45492294430732727,
          0.45955488085746765,
          0.46075913310050964,
          0.46459531784057617,
          0.47474271059036255,
          0.4805888831615448,
          0.47759559750556946,
          0.4808807373046875,
          0.4862675964832306,
          0.48406457901000977,
          0.489418625831604,
          0.49476730823516846,
          0.4897550046443939,
          0.49135324358940125,
          0.4915482997894287,
          0.49116119742393494,
          0.4948224425315857,
          0.5009164214134216,
          0.5005794167518616,
          0.5021215677261353,
          0.5005620718002319,
          0.5103944540023804,
          0.5055659413337708,
          0.49806591868400574,
          0.5113372206687927,
          0.5090336799621582,
          0.5044867396354675,
          0.5068743228912354,
          0.5040984749794006,
          0.5148007273674011,
          0.5164287090301514,
          0.524182915687561,
          0.5215707421302795,
          0.5159848928451538,
          0.5256063342094421,
          0.5236104130744934,
          0.5318549275398254,
          0.5333878397941589,
          0.5232952833175659,
          0.5311147570610046,
          0.5344234704971313,
          0.5384212136268616,
          0.5441495180130005,
          0.5390430092811584,
          0.532925546169281,
          0.5377275943756104,
          0.5385782718658447,
          0.5352274179458618,
          0.5315637588500977,
          0.5281335115432739,
          0.5307815670967102,
          0.5298353433609009,
          0.5284962058067322,
          0.5302141308784485,
          0.520867645740509,
          0.5248750448226929,
          0.5208318829536438,
          0.5216645002365112,
          0.5147979855537415,
          0.5132279396057129,
          0.5095075964927673,
          0.48747628927230835,
          0.4872313141822815,
          0.491918683052063,
          0.4869232177734375,
          0.470104455947876,
          0.46071285009384155,
          0.4496693015098572,
          0.4408409297466278,
          0.4586341381072998,
          0.444327712059021,
          0.42187783122062683,
          0.3868783414363861,
          0.34086328744888306,
          0.3116318881511688,
          0.26741787791252136,
          0.2145995795726776,
          0.21184858679771423,
          0.28825443983078003,
          0.3932759165763855,
          0.48109084367752075
         ]
        }
       ],
       "layout": {
        "template": {
         "data": {
          "bar": [
           {
            "error_x": {
             "color": "#2a3f5f"
            },
            "error_y": {
             "color": "#2a3f5f"
            },
            "marker": {
             "line": {
              "color": "#E5ECF6",
              "width": 0.5
             },
             "pattern": {
              "fillmode": "overlay",
              "size": 10,
              "solidity": 0.2
             }
            },
            "type": "bar"
           }
          ],
          "barpolar": [
           {
            "marker": {
             "line": {
              "color": "#E5ECF6",
              "width": 0.5
             },
             "pattern": {
              "fillmode": "overlay",
              "size": 10,
              "solidity": 0.2
             }
            },
            "type": "barpolar"
           }
          ],
          "carpet": [
           {
            "aaxis": {
             "endlinecolor": "#2a3f5f",
             "gridcolor": "white",
             "linecolor": "white",
             "minorgridcolor": "white",
             "startlinecolor": "#2a3f5f"
            },
            "baxis": {
             "endlinecolor": "#2a3f5f",
             "gridcolor": "white",
             "linecolor": "white",
             "minorgridcolor": "white",
             "startlinecolor": "#2a3f5f"
            },
            "type": "carpet"
           }
          ],
          "choropleth": [
           {
            "colorbar": {
             "outlinewidth": 0,
             "ticks": ""
            },
            "type": "choropleth"
           }
          ],
          "contour": [
           {
            "colorbar": {
             "outlinewidth": 0,
             "ticks": ""
            },
            "colorscale": [
             [
              0,
              "#0d0887"
             ],
             [
              0.1111111111111111,
              "#46039f"
             ],
             [
              0.2222222222222222,
              "#7201a8"
             ],
             [
              0.3333333333333333,
              "#9c179e"
             ],
             [
              0.4444444444444444,
              "#bd3786"
             ],
             [
              0.5555555555555556,
              "#d8576b"
             ],
             [
              0.6666666666666666,
              "#ed7953"
             ],
             [
              0.7777777777777778,
              "#fb9f3a"
             ],
             [
              0.8888888888888888,
              "#fdca26"
             ],
             [
              1,
              "#f0f921"
             ]
            ],
            "type": "contour"
           }
          ],
          "contourcarpet": [
           {
            "colorbar": {
             "outlinewidth": 0,
             "ticks": ""
            },
            "type": "contourcarpet"
           }
          ],
          "heatmap": [
           {
            "colorbar": {
             "outlinewidth": 0,
             "ticks": ""
            },
            "colorscale": [
             [
              0,
              "#0d0887"
             ],
             [
              0.1111111111111111,
              "#46039f"
             ],
             [
              0.2222222222222222,
              "#7201a8"
             ],
             [
              0.3333333333333333,
              "#9c179e"
             ],
             [
              0.4444444444444444,
              "#bd3786"
             ],
             [
              0.5555555555555556,
              "#d8576b"
             ],
             [
              0.6666666666666666,
              "#ed7953"
             ],
             [
              0.7777777777777778,
              "#fb9f3a"
             ],
             [
              0.8888888888888888,
              "#fdca26"
             ],
             [
              1,
              "#f0f921"
             ]
            ],
            "type": "heatmap"
           }
          ],
          "heatmapgl": [
           {
            "colorbar": {
             "outlinewidth": 0,
             "ticks": ""
            },
            "colorscale": [
             [
              0,
              "#0d0887"
             ],
             [
              0.1111111111111111,
              "#46039f"
             ],
             [
              0.2222222222222222,
              "#7201a8"
             ],
             [
              0.3333333333333333,
              "#9c179e"
             ],
             [
              0.4444444444444444,
              "#bd3786"
             ],
             [
              0.5555555555555556,
              "#d8576b"
             ],
             [
              0.6666666666666666,
              "#ed7953"
             ],
             [
              0.7777777777777778,
              "#fb9f3a"
             ],
             [
              0.8888888888888888,
              "#fdca26"
             ],
             [
              1,
              "#f0f921"
             ]
            ],
            "type": "heatmapgl"
           }
          ],
          "histogram": [
           {
            "marker": {
             "pattern": {
              "fillmode": "overlay",
              "size": 10,
              "solidity": 0.2
             }
            },
            "type": "histogram"
           }
          ],
          "histogram2d": [
           {
            "colorbar": {
             "outlinewidth": 0,
             "ticks": ""
            },
            "colorscale": [
             [
              0,
              "#0d0887"
             ],
             [
              0.1111111111111111,
              "#46039f"
             ],
             [
              0.2222222222222222,
              "#7201a8"
             ],
             [
              0.3333333333333333,
              "#9c179e"
             ],
             [
              0.4444444444444444,
              "#bd3786"
             ],
             [
              0.5555555555555556,
              "#d8576b"
             ],
             [
              0.6666666666666666,
              "#ed7953"
             ],
             [
              0.7777777777777778,
              "#fb9f3a"
             ],
             [
              0.8888888888888888,
              "#fdca26"
             ],
             [
              1,
              "#f0f921"
             ]
            ],
            "type": "histogram2d"
           }
          ],
          "histogram2dcontour": [
           {
            "colorbar": {
             "outlinewidth": 0,
             "ticks": ""
            },
            "colorscale": [
             [
              0,
              "#0d0887"
             ],
             [
              0.1111111111111111,
              "#46039f"
             ],
             [
              0.2222222222222222,
              "#7201a8"
             ],
             [
              0.3333333333333333,
              "#9c179e"
             ],
             [
              0.4444444444444444,
              "#bd3786"
             ],
             [
              0.5555555555555556,
              "#d8576b"
             ],
             [
              0.6666666666666666,
              "#ed7953"
             ],
             [
              0.7777777777777778,
              "#fb9f3a"
             ],
             [
              0.8888888888888888,
              "#fdca26"
             ],
             [
              1,
              "#f0f921"
             ]
            ],
            "type": "histogram2dcontour"
           }
          ],
          "mesh3d": [
           {
            "colorbar": {
             "outlinewidth": 0,
             "ticks": ""
            },
            "type": "mesh3d"
           }
          ],
          "parcoords": [
           {
            "line": {
             "colorbar": {
              "outlinewidth": 0,
              "ticks": ""
             }
            },
            "type": "parcoords"
           }
          ],
          "pie": [
           {
            "automargin": true,
            "type": "pie"
           }
          ],
          "scatter": [
           {
            "marker": {
             "colorbar": {
              "outlinewidth": 0,
              "ticks": ""
             }
            },
            "type": "scatter"
           }
          ],
          "scatter3d": [
           {
            "line": {
             "colorbar": {
              "outlinewidth": 0,
              "ticks": ""
             }
            },
            "marker": {
             "colorbar": {
              "outlinewidth": 0,
              "ticks": ""
             }
            },
            "type": "scatter3d"
           }
          ],
          "scattercarpet": [
           {
            "marker": {
             "colorbar": {
              "outlinewidth": 0,
              "ticks": ""
             }
            },
            "type": "scattercarpet"
           }
          ],
          "scattergeo": [
           {
            "marker": {
             "colorbar": {
              "outlinewidth": 0,
              "ticks": ""
             }
            },
            "type": "scattergeo"
           }
          ],
          "scattergl": [
           {
            "marker": {
             "colorbar": {
              "outlinewidth": 0,
              "ticks": ""
             }
            },
            "type": "scattergl"
           }
          ],
          "scattermapbox": [
           {
            "marker": {
             "colorbar": {
              "outlinewidth": 0,
              "ticks": ""
             }
            },
            "type": "scattermapbox"
           }
          ],
          "scatterpolar": [
           {
            "marker": {
             "colorbar": {
              "outlinewidth": 0,
              "ticks": ""
             }
            },
            "type": "scatterpolar"
           }
          ],
          "scatterpolargl": [
           {
            "marker": {
             "colorbar": {
              "outlinewidth": 0,
              "ticks": ""
             }
            },
            "type": "scatterpolargl"
           }
          ],
          "scatterternary": [
           {
            "marker": {
             "colorbar": {
              "outlinewidth": 0,
              "ticks": ""
             }
            },
            "type": "scatterternary"
           }
          ],
          "surface": [
           {
            "colorbar": {
             "outlinewidth": 0,
             "ticks": ""
            },
            "colorscale": [
             [
              0,
              "#0d0887"
             ],
             [
              0.1111111111111111,
              "#46039f"
             ],
             [
              0.2222222222222222,
              "#7201a8"
             ],
             [
              0.3333333333333333,
              "#9c179e"
             ],
             [
              0.4444444444444444,
              "#bd3786"
             ],
             [
              0.5555555555555556,
              "#d8576b"
             ],
             [
              0.6666666666666666,
              "#ed7953"
             ],
             [
              0.7777777777777778,
              "#fb9f3a"
             ],
             [
              0.8888888888888888,
              "#fdca26"
             ],
             [
              1,
              "#f0f921"
             ]
            ],
            "type": "surface"
           }
          ],
          "table": [
           {
            "cells": {
             "fill": {
              "color": "#EBF0F8"
             },
             "line": {
              "color": "white"
             }
            },
            "header": {
             "fill": {
              "color": "#C8D4E3"
             },
             "line": {
              "color": "white"
             }
            },
            "type": "table"
           }
          ]
         },
         "layout": {
          "annotationdefaults": {
           "arrowcolor": "#2a3f5f",
           "arrowhead": 0,
           "arrowwidth": 1
          },
          "autotypenumbers": "strict",
          "coloraxis": {
           "colorbar": {
            "outlinewidth": 0,
            "ticks": ""
           }
          },
          "colorscale": {
           "diverging": [
            [
             0,
             "#8e0152"
            ],
            [
             0.1,
             "#c51b7d"
            ],
            [
             0.2,
             "#de77ae"
            ],
            [
             0.3,
             "#f1b6da"
            ],
            [
             0.4,
             "#fde0ef"
            ],
            [
             0.5,
             "#f7f7f7"
            ],
            [
             0.6,
             "#e6f5d0"
            ],
            [
             0.7,
             "#b8e186"
            ],
            [
             0.8,
             "#7fbc41"
            ],
            [
             0.9,
             "#4d9221"
            ],
            [
             1,
             "#276419"
            ]
           ],
           "sequential": [
            [
             0,
             "#0d0887"
            ],
            [
             0.1111111111111111,
             "#46039f"
            ],
            [
             0.2222222222222222,
             "#7201a8"
            ],
            [
             0.3333333333333333,
             "#9c179e"
            ],
            [
             0.4444444444444444,
             "#bd3786"
            ],
            [
             0.5555555555555556,
             "#d8576b"
            ],
            [
             0.6666666666666666,
             "#ed7953"
            ],
            [
             0.7777777777777778,
             "#fb9f3a"
            ],
            [
             0.8888888888888888,
             "#fdca26"
            ],
            [
             1,
             "#f0f921"
            ]
           ],
           "sequentialminus": [
            [
             0,
             "#0d0887"
            ],
            [
             0.1111111111111111,
             "#46039f"
            ],
            [
             0.2222222222222222,
             "#7201a8"
            ],
            [
             0.3333333333333333,
             "#9c179e"
            ],
            [
             0.4444444444444444,
             "#bd3786"
            ],
            [
             0.5555555555555556,
             "#d8576b"
            ],
            [
             0.6666666666666666,
             "#ed7953"
            ],
            [
             0.7777777777777778,
             "#fb9f3a"
            ],
            [
             0.8888888888888888,
             "#fdca26"
            ],
            [
             1,
             "#f0f921"
            ]
           ]
          },
          "colorway": [
           "#636efa",
           "#EF553B",
           "#00cc96",
           "#ab63fa",
           "#FFA15A",
           "#19d3f3",
           "#FF6692",
           "#B6E880",
           "#FF97FF",
           "#FECB52"
          ],
          "font": {
           "color": "#2a3f5f"
          },
          "geo": {
           "bgcolor": "white",
           "lakecolor": "white",
           "landcolor": "#E5ECF6",
           "showlakes": true,
           "showland": true,
           "subunitcolor": "white"
          },
          "hoverlabel": {
           "align": "left"
          },
          "hovermode": "closest",
          "mapbox": {
           "style": "light"
          },
          "paper_bgcolor": "white",
          "plot_bgcolor": "#E5ECF6",
          "polar": {
           "angularaxis": {
            "gridcolor": "white",
            "linecolor": "white",
            "ticks": ""
           },
           "bgcolor": "#E5ECF6",
           "radialaxis": {
            "gridcolor": "white",
            "linecolor": "white",
            "ticks": ""
           }
          },
          "scene": {
           "xaxis": {
            "backgroundcolor": "#E5ECF6",
            "gridcolor": "white",
            "gridwidth": 2,
            "linecolor": "white",
            "showbackground": true,
            "ticks": "",
            "zerolinecolor": "white"
           },
           "yaxis": {
            "backgroundcolor": "#E5ECF6",
            "gridcolor": "white",
            "gridwidth": 2,
            "linecolor": "white",
            "showbackground": true,
            "ticks": "",
            "zerolinecolor": "white"
           },
           "zaxis": {
            "backgroundcolor": "#E5ECF6",
            "gridcolor": "white",
            "gridwidth": 2,
            "linecolor": "white",
            "showbackground": true,
            "ticks": "",
            "zerolinecolor": "white"
           }
          },
          "shapedefaults": {
           "line": {
            "color": "#2a3f5f"
           }
          },
          "ternary": {
           "aaxis": {
            "gridcolor": "white",
            "linecolor": "white",
            "ticks": ""
           },
           "baxis": {
            "gridcolor": "white",
            "linecolor": "white",
            "ticks": ""
           },
           "bgcolor": "#E5ECF6",
           "caxis": {
            "gridcolor": "white",
            "linecolor": "white",
            "ticks": ""
           }
          },
          "title": {
           "x": 0.05
          },
          "xaxis": {
           "automargin": true,
           "gridcolor": "white",
           "linecolor": "white",
           "ticks": "",
           "title": {
            "standoff": 15
           },
           "zerolinecolor": "white",
           "zerolinewidth": 2
          },
          "yaxis": {
           "automargin": true,
           "gridcolor": "white",
           "linecolor": "white",
           "ticks": "",
           "title": {
            "standoff": 15
           },
           "zerolinecolor": "white",
           "zerolinewidth": 2
          }
         }
        }
       }
      }
     },
     "metadata": {}
    }
   ],
   "metadata": {}
  },
  {
   "cell_type": "code",
   "execution_count": 13,
   "source": [
    "fig = go.Figure()\n",
    "trace=go.Scatter(x=np.arange(140), y=normal_train_data[0],name='Normal')\n",
    "data = [trace]\n",
    "py_offline.plot(data, filename='basic-line', include_plotlyjs=False, output_type='div')\n"
   ],
   "outputs": [
    {
     "output_type": "execute_result",
     "data": {
      "text/plain": [
       "'<div>                            <div id=\"4621f28c-b9e8-4e51-b598-441728a29a05\" class=\"plotly-graph-div\" style=\"height:100%; width:100%;\"></div>            <script type=\"text/javascript\">                                    window.PLOTLYENV=window.PLOTLYENV || {};                                    if (document.getElementById(\"4621f28c-b9e8-4e51-b598-441728a29a05\")) {                    Plotly.newPlot(                        \"4621f28c-b9e8-4e51-b598-441728a29a05\",                        [{\"name\":\"Normal\",\"type\":\"scatter\",\"x\":[0,1,2,3,4,5,6,7,8,9,10,11,12,13,14,15,16,17,18,19,20,21,22,23,24,25,26,27,28,29,30,31,32,33,34,35,36,37,38,39,40,41,42,43,44,45,46,47,48,49,50,51,52,53,54,55,56,57,58,59,60,61,62,63,64,65,66,67,68,69,70,71,72,73,74,75,76,77,78,79,80,81,82,83,84,85,86,87,88,89,90,91,92,93,94,95,96,97,98,99,100,101,102,103,104,105,106,107,108,109,110,111,112,113,114,115,116,117,118,119,120,121,122,123,124,125,126,127,128,129,130,131,132,133,134,135,136,137,138,139],\"y\":[0.5703046321868896,0.4656165838241577,0.2905811667442322,0.17791584134101868,0.09538919478654861,0.08467857539653778,0.2019510418176651,0.3163002133369446,0.33732032775878906,0.41424882411956787,0.47070595622062683,0.4691905081272125,0.4776775538921356,0.48004090785980225,0.4702724516391754,0.4729926884174347,0.479171484708786,0.48027467727661133,0.46928870677948,0.46106863021850586,0.46148037910461426,0.4465829133987427,0.45325326919555664,0.4561009407043457,0.4489617943763733,0.44325318932533264,0.4340217411518097,0.4430723488330841,0.4325052499771118,0.43014901876449585,0.41454657912254333,0.4120652973651886,0.40420278906822205,0.4105454385280609,0.4082913100719452,0.40342992544174194,0.39648476243019104,0.3933204412460327,0.39158815145492554,0.3960387706756592,0.4074695408344269,0.40531179308891296,0.41734880208969116,0.41624557971954346,0.42334118485450745,0.4459063708782196,0.4455184042453766,0.44474098086357117,0.44404327869415283,0.4567321836948395,0.4521746337413788,0.4532504081726074,0.46082931756973267,0.4669593572616577,0.4663194417953491,0.47432830929756165,0.46297091245651245,0.4738894999027252,0.4678889811038971,0.4673447906970978,0.4802667498588562,0.48439839482307434,0.48574668169021606,0.48985567688941956,0.4931734800338745,0.48830410838127136,0.49913936853408813,0.505709171295166,0.5078241229057312,0.5132302641868591,0.5211992859840393,0.514991819858551,0.519900918006897,0.5074853897094727,0.5113434195518494,0.5092939734458923,0.5073481798171997,0.5110538005828857,0.5096123814582825,0.4963955879211426,0.49456536769866943,0.5014910101890564,0.5063670873641968,0.5020293593406677,0.5007152557373047,0.4958237409591675,0.4843623638153076,0.4914246201515198,0.4825357496738434,0.47723883390426636,0.47550636529922485,0.47530031204223633,0.4876338243484497,0.4776129722595215,0.474583238363266,0.4757544696331024,0.47009119391441345,0.4540967047214508,0.46874862909317017,0.4767007529735565,0.4795878529548645,0.4751480519771576,0.47619494795799255,0.48561891913414,0.48763763904571533,0.4996277689933777,0.5284430384635925,0.5431970953941345,0.5495933294296265,0.5488370060920715,0.5231477618217468,0.4934438467025757,0.49881476163864136,0.5099680423736572,0.516133189201355,0.4907889664173126,0.4668024778366089,0.43299439549446106,0.4164400100708008,0.4182245135307312,0.43140411376953125,0.43214115500450134,0.4212411642074585,0.42373567819595337,0.42885276675224304,0.43089887499809265,0.43537637591362,0.4391244351863861,0.4371418356895447,0.4453428089618683,0.4533092975616455,0.48821336030960083,0.5786804556846619,0.5858615636825562,0.5959517955780029,0.5952476263046265,0.5700759291648865,0.4850423336029053,0.42335018515586853,0.4759834408760071]}],                        {\"template\":{\"data\":{\"bar\":[{\"error_x\":{\"color\":\"#2a3f5f\"},\"error_y\":{\"color\":\"#2a3f5f\"},\"marker\":{\"line\":{\"color\":\"#E5ECF6\",\"width\":0.5},\"pattern\":{\"fillmode\":\"overlay\",\"size\":10,\"solidity\":0.2}},\"type\":\"bar\"}],\"barpolar\":[{\"marker\":{\"line\":{\"color\":\"#E5ECF6\",\"width\":0.5},\"pattern\":{\"fillmode\":\"overlay\",\"size\":10,\"solidity\":0.2}},\"type\":\"barpolar\"}],\"carpet\":[{\"aaxis\":{\"endlinecolor\":\"#2a3f5f\",\"gridcolor\":\"white\",\"linecolor\":\"white\",\"minorgridcolor\":\"white\",\"startlinecolor\":\"#2a3f5f\"},\"baxis\":{\"endlinecolor\":\"#2a3f5f\",\"gridcolor\":\"white\",\"linecolor\":\"white\",\"minorgridcolor\":\"white\",\"startlinecolor\":\"#2a3f5f\"},\"type\":\"carpet\"}],\"choropleth\":[{\"colorbar\":{\"outlinewidth\":0,\"ticks\":\"\"},\"type\":\"choropleth\"}],\"contour\":[{\"colorbar\":{\"outlinewidth\":0,\"ticks\":\"\"},\"colorscale\":[[0.0,\"#0d0887\"],[0.1111111111111111,\"#46039f\"],[0.2222222222222222,\"#7201a8\"],[0.3333333333333333,\"#9c179e\"],[0.4444444444444444,\"#bd3786\"],[0.5555555555555556,\"#d8576b\"],[0.6666666666666666,\"#ed7953\"],[0.7777777777777778,\"#fb9f3a\"],[0.8888888888888888,\"#fdca26\"],[1.0,\"#f0f921\"]],\"type\":\"contour\"}],\"contourcarpet\":[{\"colorbar\":{\"outlinewidth\":0,\"ticks\":\"\"},\"type\":\"contourcarpet\"}],\"heatmap\":[{\"colorbar\":{\"outlinewidth\":0,\"ticks\":\"\"},\"colorscale\":[[0.0,\"#0d0887\"],[0.1111111111111111,\"#46039f\"],[0.2222222222222222,\"#7201a8\"],[0.3333333333333333,\"#9c179e\"],[0.4444444444444444,\"#bd3786\"],[0.5555555555555556,\"#d8576b\"],[0.6666666666666666,\"#ed7953\"],[0.7777777777777778,\"#fb9f3a\"],[0.8888888888888888,\"#fdca26\"],[1.0,\"#f0f921\"]],\"type\":\"heatmap\"}],\"heatmapgl\":[{\"colorbar\":{\"outlinewidth\":0,\"ticks\":\"\"},\"colorscale\":[[0.0,\"#0d0887\"],[0.1111111111111111,\"#46039f\"],[0.2222222222222222,\"#7201a8\"],[0.3333333333333333,\"#9c179e\"],[0.4444444444444444,\"#bd3786\"],[0.5555555555555556,\"#d8576b\"],[0.6666666666666666,\"#ed7953\"],[0.7777777777777778,\"#fb9f3a\"],[0.8888888888888888,\"#fdca26\"],[1.0,\"#f0f921\"]],\"type\":\"heatmapgl\"}],\"histogram\":[{\"marker\":{\"pattern\":{\"fillmode\":\"overlay\",\"size\":10,\"solidity\":0.2}},\"type\":\"histogram\"}],\"histogram2d\":[{\"colorbar\":{\"outlinewidth\":0,\"ticks\":\"\"},\"colorscale\":[[0.0,\"#0d0887\"],[0.1111111111111111,\"#46039f\"],[0.2222222222222222,\"#7201a8\"],[0.3333333333333333,\"#9c179e\"],[0.4444444444444444,\"#bd3786\"],[0.5555555555555556,\"#d8576b\"],[0.6666666666666666,\"#ed7953\"],[0.7777777777777778,\"#fb9f3a\"],[0.8888888888888888,\"#fdca26\"],[1.0,\"#f0f921\"]],\"type\":\"histogram2d\"}],\"histogram2dcontour\":[{\"colorbar\":{\"outlinewidth\":0,\"ticks\":\"\"},\"colorscale\":[[0.0,\"#0d0887\"],[0.1111111111111111,\"#46039f\"],[0.2222222222222222,\"#7201a8\"],[0.3333333333333333,\"#9c179e\"],[0.4444444444444444,\"#bd3786\"],[0.5555555555555556,\"#d8576b\"],[0.6666666666666666,\"#ed7953\"],[0.7777777777777778,\"#fb9f3a\"],[0.8888888888888888,\"#fdca26\"],[1.0,\"#f0f921\"]],\"type\":\"histogram2dcontour\"}],\"mesh3d\":[{\"colorbar\":{\"outlinewidth\":0,\"ticks\":\"\"},\"type\":\"mesh3d\"}],\"parcoords\":[{\"line\":{\"colorbar\":{\"outlinewidth\":0,\"ticks\":\"\"}},\"type\":\"parcoords\"}],\"pie\":[{\"automargin\":true,\"type\":\"pie\"}],\"scatter\":[{\"marker\":{\"colorbar\":{\"outlinewidth\":0,\"ticks\":\"\"}},\"type\":\"scatter\"}],\"scatter3d\":[{\"line\":{\"colorbar\":{\"outlinewidth\":0,\"ticks\":\"\"}},\"marker\":{\"colorbar\":{\"outlinewidth\":0,\"ticks\":\"\"}},\"type\":\"scatter3d\"}],\"scattercarpet\":[{\"marker\":{\"colorbar\":{\"outlinewidth\":0,\"ticks\":\"\"}},\"type\":\"scattercarpet\"}],\"scattergeo\":[{\"marker\":{\"colorbar\":{\"outlinewidth\":0,\"ticks\":\"\"}},\"type\":\"scattergeo\"}],\"scattergl\":[{\"marker\":{\"colorbar\":{\"outlinewidth\":0,\"ticks\":\"\"}},\"type\":\"scattergl\"}],\"scattermapbox\":[{\"marker\":{\"colorbar\":{\"outlinewidth\":0,\"ticks\":\"\"}},\"type\":\"scattermapbox\"}],\"scatterpolar\":[{\"marker\":{\"colorbar\":{\"outlinewidth\":0,\"ticks\":\"\"}},\"type\":\"scatterpolar\"}],\"scatterpolargl\":[{\"marker\":{\"colorbar\":{\"outlinewidth\":0,\"ticks\":\"\"}},\"type\":\"scatterpolargl\"}],\"scatterternary\":[{\"marker\":{\"colorbar\":{\"outlinewidth\":0,\"ticks\":\"\"}},\"type\":\"scatterternary\"}],\"surface\":[{\"colorbar\":{\"outlinewidth\":0,\"ticks\":\"\"},\"colorscale\":[[0.0,\"#0d0887\"],[0.1111111111111111,\"#46039f\"],[0.2222222222222222,\"#7201a8\"],[0.3333333333333333,\"#9c179e\"],[0.4444444444444444,\"#bd3786\"],[0.5555555555555556,\"#d8576b\"],[0.6666666666666666,\"#ed7953\"],[0.7777777777777778,\"#fb9f3a\"],[0.8888888888888888,\"#fdca26\"],[1.0,\"#f0f921\"]],\"type\":\"surface\"}],\"table\":[{\"cells\":{\"fill\":{\"color\":\"#EBF0F8\"},\"line\":{\"color\":\"white\"}},\"header\":{\"fill\":{\"color\":\"#C8D4E3\"},\"line\":{\"color\":\"white\"}},\"type\":\"table\"}]},\"layout\":{\"annotationdefaults\":{\"arrowcolor\":\"#2a3f5f\",\"arrowhead\":0,\"arrowwidth\":1},\"autotypenumbers\":\"strict\",\"coloraxis\":{\"colorbar\":{\"outlinewidth\":0,\"ticks\":\"\"}},\"colorscale\":{\"diverging\":[[0,\"#8e0152\"],[0.1,\"#c51b7d\"],[0.2,\"#de77ae\"],[0.3,\"#f1b6da\"],[0.4,\"#fde0ef\"],[0.5,\"#f7f7f7\"],[0.6,\"#e6f5d0\"],[0.7,\"#b8e186\"],[0.8,\"#7fbc41\"],[0.9,\"#4d9221\"],[1,\"#276419\"]],\"sequential\":[[0.0,\"#0d0887\"],[0.1111111111111111,\"#46039f\"],[0.2222222222222222,\"#7201a8\"],[0.3333333333333333,\"#9c179e\"],[0.4444444444444444,\"#bd3786\"],[0.5555555555555556,\"#d8576b\"],[0.6666666666666666,\"#ed7953\"],[0.7777777777777778,\"#fb9f3a\"],[0.8888888888888888,\"#fdca26\"],[1.0,\"#f0f921\"]],\"sequentialminus\":[[0.0,\"#0d0887\"],[0.1111111111111111,\"#46039f\"],[0.2222222222222222,\"#7201a8\"],[0.3333333333333333,\"#9c179e\"],[0.4444444444444444,\"#bd3786\"],[0.5555555555555556,\"#d8576b\"],[0.6666666666666666,\"#ed7953\"],[0.7777777777777778,\"#fb9f3a\"],[0.8888888888888888,\"#fdca26\"],[1.0,\"#f0f921\"]]},\"colorway\":[\"#636efa\",\"#EF553B\",\"#00cc96\",\"#ab63fa\",\"#FFA15A\",\"#19d3f3\",\"#FF6692\",\"#B6E880\",\"#FF97FF\",\"#FECB52\"],\"font\":{\"color\":\"#2a3f5f\"},\"geo\":{\"bgcolor\":\"white\",\"lakecolor\":\"white\",\"landcolor\":\"#E5ECF6\",\"showlakes\":true,\"showland\":true,\"subunitcolor\":\"white\"},\"hoverlabel\":{\"align\":\"left\"},\"hovermode\":\"closest\",\"mapbox\":{\"style\":\"light\"},\"paper_bgcolor\":\"white\",\"plot_bgcolor\":\"#E5ECF6\",\"polar\":{\"angularaxis\":{\"gridcolor\":\"white\",\"linecolor\":\"white\",\"ticks\":\"\"},\"bgcolor\":\"#E5ECF6\",\"radialaxis\":{\"gridcolor\":\"white\",\"linecolor\":\"white\",\"ticks\":\"\"}},\"scene\":{\"xaxis\":{\"backgroundcolor\":\"#E5ECF6\",\"gridcolor\":\"white\",\"gridwidth\":2,\"linecolor\":\"white\",\"showbackground\":true,\"ticks\":\"\",\"zerolinecolor\":\"white\"},\"yaxis\":{\"backgroundcolor\":\"#E5ECF6\",\"gridcolor\":\"white\",\"gridwidth\":2,\"linecolor\":\"white\",\"showbackground\":true,\"ticks\":\"\",\"zerolinecolor\":\"white\"},\"zaxis\":{\"backgroundcolor\":\"#E5ECF6\",\"gridcolor\":\"white\",\"gridwidth\":2,\"linecolor\":\"white\",\"showbackground\":true,\"ticks\":\"\",\"zerolinecolor\":\"white\"}},\"shapedefaults\":{\"line\":{\"color\":\"#2a3f5f\"}},\"ternary\":{\"aaxis\":{\"gridcolor\":\"white\",\"linecolor\":\"white\",\"ticks\":\"\"},\"baxis\":{\"gridcolor\":\"white\",\"linecolor\":\"white\",\"ticks\":\"\"},\"bgcolor\":\"#E5ECF6\",\"caxis\":{\"gridcolor\":\"white\",\"linecolor\":\"white\",\"ticks\":\"\"}},\"title\":{\"x\":0.05},\"xaxis\":{\"automargin\":true,\"gridcolor\":\"white\",\"linecolor\":\"white\",\"ticks\":\"\",\"title\":{\"standoff\":15},\"zerolinecolor\":\"white\",\"zerolinewidth\":2},\"yaxis\":{\"automargin\":true,\"gridcolor\":\"white\",\"linecolor\":\"white\",\"ticks\":\"\",\"title\":{\"standoff\":15},\"zerolinecolor\":\"white\",\"zerolinewidth\":2}}}},                        {\"responsive\": true}                    )                };                            </script>        </div>'"
      ]
     },
     "metadata": {},
     "execution_count": 13
    }
   ],
   "metadata": {}
  },
  {
   "cell_type": "markdown",
   "source": [
    "Observe that there is a huge discrepancy between the normal and abnormal graphs for large values on the x-axis. We will now build an autoencoder that will encode the normal data.\n",
    "\n",
    "Build the model. Here we will use `Kera`'s sequential API, with three dense layers for the encoder and three dense layers for the decoder. We will create an `AnormlyDectector` class that inherits from the `Model` class. "
   ],
   "metadata": {}
  },
  {
   "cell_type": "code",
   "execution_count": 9,
   "source": [
    "class AnomalyDetector(Model):\n",
    "  def __init__(self):\n",
    "    super(AnomalyDetector, self).__init__()\n",
    "    self.encoder = tf.keras.Sequential([\n",
    "      layers.Dense(32, activation=\"relu\"),\n",
    "      layers.Dense(16, activation=\"relu\"),\n",
    "      layers.Dense(8, activation=\"relu\")])\n",
    "\n",
    "    self.decoder = tf.keras.Sequential([\n",
    "      layers.Dense(16, activation=\"relu\"),\n",
    "      layers.Dense(32, activation=\"relu\"),\n",
    "      layers.Dense(140, activation=\"sigmoid\")])\n",
    "\n",
    "  def call(self, x):\n",
    "    encoded = self.encoder(x)\n",
    "    decoded = self.decoder(encoded)\n",
    "    return decoded\n",
    "\n",
    "autoencoder = AnomalyDetector()"
   ],
   "outputs": [],
   "metadata": {}
  },
  {
   "cell_type": "markdown",
   "source": [
    "Note that the call method in the `AnormalyDetector` class combines the `encoder` and `decoder` and returns the `decoder` object. Let's `compile`, compilation here will mean we will update our `autoencoder` object with an `optimizer` and a `loss` function. We are using the mean absolute error loss defined as:\n",
    "\n",
    "$$\n",
    "\\text{mae} = \\frac{1}{n}\\sum_{i=1}^n{|y_i-\\hat{y}_i|}.\n",
    "$$\n",
    "\n",
    "Where in this simple formular, we have $n$ data points $i = 1,2,...,n$, $y_i$ refers to the actual (true/observed) data point and $\\hat{y}_i$ is its estimate. In our use case, $y_i$ is the actual ECG and $\\hat{y}_i$ will be its reconstructed version."
   ],
   "metadata": {}
  },
  {
   "cell_type": "code",
   "execution_count": 10,
   "source": [
    "autoencoder.compile(optimizer='adam', loss='mae')"
   ],
   "outputs": [],
   "metadata": {}
  },
  {
   "cell_type": "markdown",
   "source": [
    "We now train the `autoencoder` by calling its fit method using only the normal rhythm ECG."
   ],
   "metadata": {}
  },
  {
   "cell_type": "code",
   "execution_count": 11,
   "source": [
    "history = autoencoder.fit(normal_train_data, normal_train_data, \n",
    "          epochs=40, \n",
    "          batch_size=1024,\n",
    "          validation_data=(test_data, test_data),\n",
    "          shuffle=True)"
   ],
   "outputs": [
    {
     "output_type": "stream",
     "name": "stdout",
     "text": [
      "Epoch 1/40\n",
      "3/3 [==============================] - 1s 63ms/step - loss: 0.0609 - val_loss: 0.0545\n",
      "Epoch 2/40\n",
      "3/3 [==============================] - 0s 9ms/step - loss: 0.0578 - val_loss: 0.0536\n",
      "Epoch 3/40\n",
      "3/3 [==============================] - 0s 9ms/step - loss: 0.0570 - val_loss: 0.0529\n",
      "Epoch 4/40\n",
      "3/3 [==============================] - 0s 10ms/step - loss: 0.0562 - val_loss: 0.0521\n",
      "Epoch 5/40\n",
      "3/3 [==============================] - 0s 9ms/step - loss: 0.0552 - val_loss: 0.0513\n",
      "Epoch 6/40\n",
      "3/3 [==============================] - 0s 9ms/step - loss: 0.0541 - val_loss: 0.0503\n",
      "Epoch 7/40\n",
      "3/3 [==============================] - 0s 8ms/step - loss: 0.0526 - val_loss: 0.0492\n",
      "Epoch 8/40\n",
      "3/3 [==============================] - 0s 7ms/step - loss: 0.0508 - val_loss: 0.0480\n",
      "Epoch 9/40\n",
      "3/3 [==============================] - 0s 7ms/step - loss: 0.0485 - val_loss: 0.0469\n",
      "Epoch 10/40\n",
      "3/3 [==============================] - 0s 7ms/step - loss: 0.0459 - val_loss: 0.0459\n",
      "Epoch 11/40\n",
      "3/3 [==============================] - 0s 8ms/step - loss: 0.0432 - val_loss: 0.0453\n",
      "Epoch 12/40\n",
      "3/3 [==============================] - 0s 8ms/step - loss: 0.0406 - val_loss: 0.0446\n",
      "Epoch 13/40\n",
      "3/3 [==============================] - 0s 8ms/step - loss: 0.0383 - val_loss: 0.0433\n",
      "Epoch 14/40\n",
      "3/3 [==============================] - 0s 8ms/step - loss: 0.0360 - val_loss: 0.0417\n",
      "Epoch 15/40\n",
      "3/3 [==============================] - 0s 11ms/step - loss: 0.0341 - val_loss: 0.0408\n",
      "Epoch 16/40\n",
      "3/3 [==============================] - 0s 7ms/step - loss: 0.0323 - val_loss: 0.0401\n",
      "Epoch 17/40\n",
      "3/3 [==============================] - 0s 7ms/step - loss: 0.0309 - val_loss: 0.0393\n",
      "Epoch 18/40\n",
      "3/3 [==============================] - 0s 7ms/step - loss: 0.0296 - val_loss: 0.0388\n",
      "Epoch 19/40\n",
      "3/3 [==============================] - 0s 7ms/step - loss: 0.0285 - val_loss: 0.0384\n",
      "Epoch 20/40\n",
      "3/3 [==============================] - 0s 8ms/step - loss: 0.0275 - val_loss: 0.0378\n",
      "Epoch 21/40\n",
      "3/3 [==============================] - 0s 8ms/step - loss: 0.0266 - val_loss: 0.0373\n",
      "Epoch 22/40\n",
      "3/3 [==============================] - 0s 7ms/step - loss: 0.0258 - val_loss: 0.0369\n",
      "Epoch 23/40\n",
      "3/3 [==============================] - 0s 7ms/step - loss: 0.0252 - val_loss: 0.0365\n",
      "Epoch 24/40\n",
      "3/3 [==============================] - 0s 8ms/step - loss: 0.0245 - val_loss: 0.0361\n",
      "Epoch 25/40\n",
      "3/3 [==============================] - 0s 8ms/step - loss: 0.0239 - val_loss: 0.0357\n",
      "Epoch 26/40\n",
      "3/3 [==============================] - 0s 7ms/step - loss: 0.0233 - val_loss: 0.0352\n",
      "Epoch 27/40\n",
      "3/3 [==============================] - 0s 7ms/step - loss: 0.0228 - val_loss: 0.0349\n",
      "Epoch 28/40\n",
      "3/3 [==============================] - 0s 7ms/step - loss: 0.0222 - val_loss: 0.0347\n",
      "Epoch 29/40\n",
      "3/3 [==============================] - 0s 8ms/step - loss: 0.0218 - val_loss: 0.0344\n",
      "Epoch 30/40\n",
      "3/3 [==============================] - 0s 9ms/step - loss: 0.0214 - val_loss: 0.0343\n",
      "Epoch 31/40\n",
      "3/3 [==============================] - 0s 11ms/step - loss: 0.0212 - val_loss: 0.0342\n",
      "Epoch 32/40\n",
      "3/3 [==============================] - 0s 11ms/step - loss: 0.0209 - val_loss: 0.0341\n",
      "Epoch 33/40\n",
      "3/3 [==============================] - 0s 10ms/step - loss: 0.0208 - val_loss: 0.0342\n",
      "Epoch 34/40\n",
      "3/3 [==============================] - 0s 8ms/step - loss: 0.0206 - val_loss: 0.0341\n",
      "Epoch 35/40\n",
      "3/3 [==============================] - 0s 9ms/step - loss: 0.0205 - val_loss: 0.0341\n",
      "Epoch 36/40\n",
      "3/3 [==============================] - 0s 17ms/step - loss: 0.0204 - val_loss: 0.0342\n",
      "Epoch 37/40\n",
      "3/3 [==============================] - 0s 11ms/step - loss: 0.0203 - val_loss: 0.0342\n",
      "Epoch 38/40\n",
      "3/3 [==============================] - 0s 9ms/step - loss: 0.0202 - val_loss: 0.0339\n",
      "Epoch 39/40\n",
      "3/3 [==============================] - 0s 14ms/step - loss: 0.0201 - val_loss: 0.0338\n",
      "Epoch 40/40\n",
      "3/3 [==============================] - 0s 9ms/step - loss: 0.0201 - val_loss: 0.0338\n"
     ]
    }
   ],
   "metadata": {}
  },
  {
   "cell_type": "markdown",
   "source": [
    "Note that although, the training is done on the normal rythm ECG, the validation is done on the entire test dataset. "
   ],
   "metadata": {}
  },
  {
   "cell_type": "code",
   "execution_count": 12,
   "source": [
    "fig = go.Figure()\n",
    "fig.add_trace(go.Scatter(y=history.history[\"loss\"],name='Training loss'))\n",
    "fig.add_trace(go.Scatter(y=history.history[\"val_loss\"],name=\"Validation Loss\"))"
   ],
   "outputs": [
    {
     "output_type": "display_data",
     "data": {
      "application/vnd.plotly.v1+json": {
       "config": {
        "plotlyServerURL": "https://plot.ly"
       },
       "data": [
        {
         "name": "Training loss",
         "type": "scatter",
         "y": [
          0.06094101443886757,
          0.05784304812550545,
          0.05698439106345177,
          0.05616624280810356,
          0.05524281784892082,
          0.05406394228339195,
          0.05257987976074219,
          0.05075656250119209,
          0.0484929084777832,
          0.04587625712156296,
          0.04319223761558533,
          0.0406273677945137,
          0.03830694034695625,
          0.03601720184087753,
          0.0340852290391922,
          0.032327644526958466,
          0.030853210017085075,
          0.029585789889097214,
          0.028499094769358635,
          0.02750033140182495,
          0.026593947783112526,
          0.02581956423819065,
          0.025160249322652817,
          0.02452760376036167,
          0.02392330951988697,
          0.023335129022598267,
          0.02276184782385826,
          0.02224406972527504,
          0.02178984321653843,
          0.021437497809529305,
          0.021157156676054,
          0.020929472520947456,
          0.020761337131261826,
          0.02060365304350853,
          0.020470567047595978,
          0.020370133221149445,
          0.020300334319472313,
          0.02023761160671711,
          0.020136870443820953,
          0.020054996013641357
         ]
        },
        {
         "name": "Validation Loss",
         "type": "scatter",
         "y": [
          0.05451052635908127,
          0.05360353738069534,
          0.052869170904159546,
          0.05214734748005867,
          0.051279161125421524,
          0.05026901885867119,
          0.04918238893151283,
          0.048013702034950256,
          0.04687253013253212,
          0.04593208432197571,
          0.04525894299149513,
          0.044607970863580704,
          0.04334411025047302,
          0.041749902069568634,
          0.0407850481569767,
          0.04012737795710564,
          0.03933003544807434,
          0.038806814700365067,
          0.038434162735939026,
          0.037775177508592606,
          0.0373491570353508,
          0.036927636712789536,
          0.036511123180389404,
          0.036122605204582214,
          0.03571674972772598,
          0.035234831273555756,
          0.034933120012283325,
          0.03470233827829361,
          0.03441961854696274,
          0.03433365747332573,
          0.03415724262595177,
          0.03411921486258507,
          0.03417498990893364,
          0.03410548344254494,
          0.034078989177942276,
          0.03416922315955162,
          0.03416509926319122,
          0.03392256796360016,
          0.03375572711229324,
          0.033793434500694275
         ]
        }
       ],
       "layout": {
        "template": {
         "data": {
          "bar": [
           {
            "error_x": {
             "color": "#2a3f5f"
            },
            "error_y": {
             "color": "#2a3f5f"
            },
            "marker": {
             "line": {
              "color": "#E5ECF6",
              "width": 0.5
             },
             "pattern": {
              "fillmode": "overlay",
              "size": 10,
              "solidity": 0.2
             }
            },
            "type": "bar"
           }
          ],
          "barpolar": [
           {
            "marker": {
             "line": {
              "color": "#E5ECF6",
              "width": 0.5
             },
             "pattern": {
              "fillmode": "overlay",
              "size": 10,
              "solidity": 0.2
             }
            },
            "type": "barpolar"
           }
          ],
          "carpet": [
           {
            "aaxis": {
             "endlinecolor": "#2a3f5f",
             "gridcolor": "white",
             "linecolor": "white",
             "minorgridcolor": "white",
             "startlinecolor": "#2a3f5f"
            },
            "baxis": {
             "endlinecolor": "#2a3f5f",
             "gridcolor": "white",
             "linecolor": "white",
             "minorgridcolor": "white",
             "startlinecolor": "#2a3f5f"
            },
            "type": "carpet"
           }
          ],
          "choropleth": [
           {
            "colorbar": {
             "outlinewidth": 0,
             "ticks": ""
            },
            "type": "choropleth"
           }
          ],
          "contour": [
           {
            "colorbar": {
             "outlinewidth": 0,
             "ticks": ""
            },
            "colorscale": [
             [
              0,
              "#0d0887"
             ],
             [
              0.1111111111111111,
              "#46039f"
             ],
             [
              0.2222222222222222,
              "#7201a8"
             ],
             [
              0.3333333333333333,
              "#9c179e"
             ],
             [
              0.4444444444444444,
              "#bd3786"
             ],
             [
              0.5555555555555556,
              "#d8576b"
             ],
             [
              0.6666666666666666,
              "#ed7953"
             ],
             [
              0.7777777777777778,
              "#fb9f3a"
             ],
             [
              0.8888888888888888,
              "#fdca26"
             ],
             [
              1,
              "#f0f921"
             ]
            ],
            "type": "contour"
           }
          ],
          "contourcarpet": [
           {
            "colorbar": {
             "outlinewidth": 0,
             "ticks": ""
            },
            "type": "contourcarpet"
           }
          ],
          "heatmap": [
           {
            "colorbar": {
             "outlinewidth": 0,
             "ticks": ""
            },
            "colorscale": [
             [
              0,
              "#0d0887"
             ],
             [
              0.1111111111111111,
              "#46039f"
             ],
             [
              0.2222222222222222,
              "#7201a8"
             ],
             [
              0.3333333333333333,
              "#9c179e"
             ],
             [
              0.4444444444444444,
              "#bd3786"
             ],
             [
              0.5555555555555556,
              "#d8576b"
             ],
             [
              0.6666666666666666,
              "#ed7953"
             ],
             [
              0.7777777777777778,
              "#fb9f3a"
             ],
             [
              0.8888888888888888,
              "#fdca26"
             ],
             [
              1,
              "#f0f921"
             ]
            ],
            "type": "heatmap"
           }
          ],
          "heatmapgl": [
           {
            "colorbar": {
             "outlinewidth": 0,
             "ticks": ""
            },
            "colorscale": [
             [
              0,
              "#0d0887"
             ],
             [
              0.1111111111111111,
              "#46039f"
             ],
             [
              0.2222222222222222,
              "#7201a8"
             ],
             [
              0.3333333333333333,
              "#9c179e"
             ],
             [
              0.4444444444444444,
              "#bd3786"
             ],
             [
              0.5555555555555556,
              "#d8576b"
             ],
             [
              0.6666666666666666,
              "#ed7953"
             ],
             [
              0.7777777777777778,
              "#fb9f3a"
             ],
             [
              0.8888888888888888,
              "#fdca26"
             ],
             [
              1,
              "#f0f921"
             ]
            ],
            "type": "heatmapgl"
           }
          ],
          "histogram": [
           {
            "marker": {
             "pattern": {
              "fillmode": "overlay",
              "size": 10,
              "solidity": 0.2
             }
            },
            "type": "histogram"
           }
          ],
          "histogram2d": [
           {
            "colorbar": {
             "outlinewidth": 0,
             "ticks": ""
            },
            "colorscale": [
             [
              0,
              "#0d0887"
             ],
             [
              0.1111111111111111,
              "#46039f"
             ],
             [
              0.2222222222222222,
              "#7201a8"
             ],
             [
              0.3333333333333333,
              "#9c179e"
             ],
             [
              0.4444444444444444,
              "#bd3786"
             ],
             [
              0.5555555555555556,
              "#d8576b"
             ],
             [
              0.6666666666666666,
              "#ed7953"
             ],
             [
              0.7777777777777778,
              "#fb9f3a"
             ],
             [
              0.8888888888888888,
              "#fdca26"
             ],
             [
              1,
              "#f0f921"
             ]
            ],
            "type": "histogram2d"
           }
          ],
          "histogram2dcontour": [
           {
            "colorbar": {
             "outlinewidth": 0,
             "ticks": ""
            },
            "colorscale": [
             [
              0,
              "#0d0887"
             ],
             [
              0.1111111111111111,
              "#46039f"
             ],
             [
              0.2222222222222222,
              "#7201a8"
             ],
             [
              0.3333333333333333,
              "#9c179e"
             ],
             [
              0.4444444444444444,
              "#bd3786"
             ],
             [
              0.5555555555555556,
              "#d8576b"
             ],
             [
              0.6666666666666666,
              "#ed7953"
             ],
             [
              0.7777777777777778,
              "#fb9f3a"
             ],
             [
              0.8888888888888888,
              "#fdca26"
             ],
             [
              1,
              "#f0f921"
             ]
            ],
            "type": "histogram2dcontour"
           }
          ],
          "mesh3d": [
           {
            "colorbar": {
             "outlinewidth": 0,
             "ticks": ""
            },
            "type": "mesh3d"
           }
          ],
          "parcoords": [
           {
            "line": {
             "colorbar": {
              "outlinewidth": 0,
              "ticks": ""
             }
            },
            "type": "parcoords"
           }
          ],
          "pie": [
           {
            "automargin": true,
            "type": "pie"
           }
          ],
          "scatter": [
           {
            "marker": {
             "colorbar": {
              "outlinewidth": 0,
              "ticks": ""
             }
            },
            "type": "scatter"
           }
          ],
          "scatter3d": [
           {
            "line": {
             "colorbar": {
              "outlinewidth": 0,
              "ticks": ""
             }
            },
            "marker": {
             "colorbar": {
              "outlinewidth": 0,
              "ticks": ""
             }
            },
            "type": "scatter3d"
           }
          ],
          "scattercarpet": [
           {
            "marker": {
             "colorbar": {
              "outlinewidth": 0,
              "ticks": ""
             }
            },
            "type": "scattercarpet"
           }
          ],
          "scattergeo": [
           {
            "marker": {
             "colorbar": {
              "outlinewidth": 0,
              "ticks": ""
             }
            },
            "type": "scattergeo"
           }
          ],
          "scattergl": [
           {
            "marker": {
             "colorbar": {
              "outlinewidth": 0,
              "ticks": ""
             }
            },
            "type": "scattergl"
           }
          ],
          "scattermapbox": [
           {
            "marker": {
             "colorbar": {
              "outlinewidth": 0,
              "ticks": ""
             }
            },
            "type": "scattermapbox"
           }
          ],
          "scatterpolar": [
           {
            "marker": {
             "colorbar": {
              "outlinewidth": 0,
              "ticks": ""
             }
            },
            "type": "scatterpolar"
           }
          ],
          "scatterpolargl": [
           {
            "marker": {
             "colorbar": {
              "outlinewidth": 0,
              "ticks": ""
             }
            },
            "type": "scatterpolargl"
           }
          ],
          "scatterternary": [
           {
            "marker": {
             "colorbar": {
              "outlinewidth": 0,
              "ticks": ""
             }
            },
            "type": "scatterternary"
           }
          ],
          "surface": [
           {
            "colorbar": {
             "outlinewidth": 0,
             "ticks": ""
            },
            "colorscale": [
             [
              0,
              "#0d0887"
             ],
             [
              0.1111111111111111,
              "#46039f"
             ],
             [
              0.2222222222222222,
              "#7201a8"
             ],
             [
              0.3333333333333333,
              "#9c179e"
             ],
             [
              0.4444444444444444,
              "#bd3786"
             ],
             [
              0.5555555555555556,
              "#d8576b"
             ],
             [
              0.6666666666666666,
              "#ed7953"
             ],
             [
              0.7777777777777778,
              "#fb9f3a"
             ],
             [
              0.8888888888888888,
              "#fdca26"
             ],
             [
              1,
              "#f0f921"
             ]
            ],
            "type": "surface"
           }
          ],
          "table": [
           {
            "cells": {
             "fill": {
              "color": "#EBF0F8"
             },
             "line": {
              "color": "white"
             }
            },
            "header": {
             "fill": {
              "color": "#C8D4E3"
             },
             "line": {
              "color": "white"
             }
            },
            "type": "table"
           }
          ]
         },
         "layout": {
          "annotationdefaults": {
           "arrowcolor": "#2a3f5f",
           "arrowhead": 0,
           "arrowwidth": 1
          },
          "autotypenumbers": "strict",
          "coloraxis": {
           "colorbar": {
            "outlinewidth": 0,
            "ticks": ""
           }
          },
          "colorscale": {
           "diverging": [
            [
             0,
             "#8e0152"
            ],
            [
             0.1,
             "#c51b7d"
            ],
            [
             0.2,
             "#de77ae"
            ],
            [
             0.3,
             "#f1b6da"
            ],
            [
             0.4,
             "#fde0ef"
            ],
            [
             0.5,
             "#f7f7f7"
            ],
            [
             0.6,
             "#e6f5d0"
            ],
            [
             0.7,
             "#b8e186"
            ],
            [
             0.8,
             "#7fbc41"
            ],
            [
             0.9,
             "#4d9221"
            ],
            [
             1,
             "#276419"
            ]
           ],
           "sequential": [
            [
             0,
             "#0d0887"
            ],
            [
             0.1111111111111111,
             "#46039f"
            ],
            [
             0.2222222222222222,
             "#7201a8"
            ],
            [
             0.3333333333333333,
             "#9c179e"
            ],
            [
             0.4444444444444444,
             "#bd3786"
            ],
            [
             0.5555555555555556,
             "#d8576b"
            ],
            [
             0.6666666666666666,
             "#ed7953"
            ],
            [
             0.7777777777777778,
             "#fb9f3a"
            ],
            [
             0.8888888888888888,
             "#fdca26"
            ],
            [
             1,
             "#f0f921"
            ]
           ],
           "sequentialminus": [
            [
             0,
             "#0d0887"
            ],
            [
             0.1111111111111111,
             "#46039f"
            ],
            [
             0.2222222222222222,
             "#7201a8"
            ],
            [
             0.3333333333333333,
             "#9c179e"
            ],
            [
             0.4444444444444444,
             "#bd3786"
            ],
            [
             0.5555555555555556,
             "#d8576b"
            ],
            [
             0.6666666666666666,
             "#ed7953"
            ],
            [
             0.7777777777777778,
             "#fb9f3a"
            ],
            [
             0.8888888888888888,
             "#fdca26"
            ],
            [
             1,
             "#f0f921"
            ]
           ]
          },
          "colorway": [
           "#636efa",
           "#EF553B",
           "#00cc96",
           "#ab63fa",
           "#FFA15A",
           "#19d3f3",
           "#FF6692",
           "#B6E880",
           "#FF97FF",
           "#FECB52"
          ],
          "font": {
           "color": "#2a3f5f"
          },
          "geo": {
           "bgcolor": "white",
           "lakecolor": "white",
           "landcolor": "#E5ECF6",
           "showlakes": true,
           "showland": true,
           "subunitcolor": "white"
          },
          "hoverlabel": {
           "align": "left"
          },
          "hovermode": "closest",
          "mapbox": {
           "style": "light"
          },
          "paper_bgcolor": "white",
          "plot_bgcolor": "#E5ECF6",
          "polar": {
           "angularaxis": {
            "gridcolor": "white",
            "linecolor": "white",
            "ticks": ""
           },
           "bgcolor": "#E5ECF6",
           "radialaxis": {
            "gridcolor": "white",
            "linecolor": "white",
            "ticks": ""
           }
          },
          "scene": {
           "xaxis": {
            "backgroundcolor": "#E5ECF6",
            "gridcolor": "white",
            "gridwidth": 2,
            "linecolor": "white",
            "showbackground": true,
            "ticks": "",
            "zerolinecolor": "white"
           },
           "yaxis": {
            "backgroundcolor": "#E5ECF6",
            "gridcolor": "white",
            "gridwidth": 2,
            "linecolor": "white",
            "showbackground": true,
            "ticks": "",
            "zerolinecolor": "white"
           },
           "zaxis": {
            "backgroundcolor": "#E5ECF6",
            "gridcolor": "white",
            "gridwidth": 2,
            "linecolor": "white",
            "showbackground": true,
            "ticks": "",
            "zerolinecolor": "white"
           }
          },
          "shapedefaults": {
           "line": {
            "color": "#2a3f5f"
           }
          },
          "ternary": {
           "aaxis": {
            "gridcolor": "white",
            "linecolor": "white",
            "ticks": ""
           },
           "baxis": {
            "gridcolor": "white",
            "linecolor": "white",
            "ticks": ""
           },
           "bgcolor": "#E5ECF6",
           "caxis": {
            "gridcolor": "white",
            "linecolor": "white",
            "ticks": ""
           }
          },
          "title": {
           "x": 0.05
          },
          "xaxis": {
           "automargin": true,
           "gridcolor": "white",
           "linecolor": "white",
           "ticks": "",
           "title": {
            "standoff": 15
           },
           "zerolinecolor": "white",
           "zerolinewidth": 2
          },
          "yaxis": {
           "automargin": true,
           "gridcolor": "white",
           "linecolor": "white",
           "ticks": "",
           "title": {
            "standoff": 15
           },
           "zerolinecolor": "white",
           "zerolinewidth": 2
          }
         }
        }
       }
      }
     },
     "metadata": {}
    }
   ],
   "metadata": {}
  },
  {
   "cell_type": "markdown",
   "source": [
    "## Reconstruction error\n",
    "\n",
    "We now have a model that can encode and decode ECG. Let's use the model to reconstruct a particular ECG and check the reconstruction error, i.e., the difference between the actual ECG and its reconstruction. \n"
   ],
   "metadata": {}
  },
  {
   "cell_type": "code",
   "execution_count": 13,
   "source": [
    "encoded_data = autoencoder.encoder(normal_test_data).numpy()\n",
    "decoded_data = autoencoder.decoder(encoded_data).numpy()\n",
    "\n",
    "\n",
    "fig = go.Figure()\n",
    "fig.add_trace(go.Scatter(y=normal_test_data[0],name='Input data'))\n",
    "fig.add_trace(go.Scatter(y=decoded_data[0],name='Reconstruction & error',\n",
    "                         fill='tonexty'))\n"
   ],
   "outputs": [
    {
     "output_type": "display_data",
     "data": {
      "application/vnd.plotly.v1+json": {
       "config": {
        "plotlyServerURL": "https://plot.ly"
       },
       "data": [
        {
         "name": "Input data",
         "type": "scatter",
         "y": [
          0.48035767674446106,
          0.2887779176235199,
          0.19828546047210693,
          0.17403002083301544,
          0.19065187871456146,
          0.2570231258869171,
          0.35133999586105347,
          0.3795180916786194,
          0.41933903098106384,
          0.47931399941444397,
          0.5085671544075012,
          0.5021305084228516,
          0.4981786012649536,
          0.5009568333625793,
          0.4963546097278595,
          0.4957442283630371,
          0.49634596705436707,
          0.4871847927570343,
          0.49864014983177185,
          0.49027618765830994,
          0.48405030369758606,
          0.4853919446468353,
          0.4781576991081238,
          0.4776414632797241,
          0.4754825830459595,
          0.4680434465408325,
          0.4633431136608124,
          0.4667298495769501,
          0.4565943777561188,
          0.45639845728874207,
          0.44269412755966187,
          0.4387221038341522,
          0.4350164234638214,
          0.4311322867870331,
          0.43271467089653015,
          0.43053433299064636,
          0.4260518252849579,
          0.4177199602127075,
          0.4224426746368408,
          0.4249061048030853,
          0.4222816526889801,
          0.4255194664001465,
          0.427318811416626,
          0.4344993233680725,
          0.43405434489250183,
          0.4319981336593628,
          0.4433560073375702,
          0.4449458420276642,
          0.4500327408313751,
          0.44775307178497314,
          0.45146772265434265,
          0.4631691873073578,
          0.4599079489707947,
          0.4583589732646942,
          0.46505701541900635,
          0.4695504903793335,
          0.48476895689964294,
          0.4720330536365509,
          0.47590193152427673,
          0.48128950595855713,
          0.48106202483177185,
          0.483425110578537,
          0.4797944724559784,
          0.49654191732406616,
          0.497626930475235,
          0.5003345012664795,
          0.4999160170555115,
          0.4998267590999603,
          0.5085312724113464,
          0.5027685165405273,
          0.5192650556564331,
          0.5174381136894226,
          0.5176679491996765,
          0.5243684649467468,
          0.522845447063446,
          0.523930549621582,
          0.5308157205581665,
          0.5383780002593994,
          0.5319925546646118,
          0.5184898376464844,
          0.5222746729850769,
          0.5139047503471375,
          0.5156378149986267,
          0.5147913098335266,
          0.5096921324729919,
          0.5125722289085388,
          0.5018595457077026,
          0.49053633213043213,
          0.48884034156799316,
          0.4823535084724426,
          0.47934600710868835,
          0.48330995440483093,
          0.4766990542411804,
          0.47691449522972107,
          0.4795263111591339,
          0.4947693347930908,
          0.5108534097671509,
          0.5188336968421936,
          0.5332105159759521,
          0.5425611138343811,
          0.5682035684585571,
          0.5826812386512756,
          0.6099961996078491,
          0.6065466403961182,
          0.5954951047897339,
          0.5819999575614929,
          0.5612176060676575,
          0.5507384538650513,
          0.5170336961746216,
          0.4897701144218445,
          0.4583636224269867,
          0.41286134719848633,
          0.3860044479370117,
          0.3743003010749817,
          0.37155696749687195,
          0.36838045716285706,
          0.3640936613082886,
          0.3643512427806854,
          0.3664138913154602,
          0.3565950393676758,
          0.3636854290962219,
          0.3610741198062897,
          0.3605392873287201,
          0.3603725731372833,
          0.36098870635032654,
          0.3649810552597046,
          0.3636249601840973,
          0.36424019932746887,
          0.3778349459171295,
          0.4150768220424652,
          0.4684041142463684,
          0.46837979555130005,
          0.48350921273231506,
          0.4904227554798126,
          0.4625466465950012,
          0.43603575229644775,
          0.4314790964126587,
          0.45463305711746216,
          0.5246124863624573,
          0.37137290835380554
         ]
        },
        {
         "fill": "tonexty",
         "name": "Reconstruction & error",
         "type": "scatter",
         "y": [
          0.4215366542339325,
          0.2824558615684509,
          0.1977754533290863,
          0.1737746000289917,
          0.17926722764968872,
          0.21050617098808289,
          0.2920873463153839,
          0.34822455048561096,
          0.3806036710739136,
          0.4297937750816345,
          0.44053301215171814,
          0.43680045008659363,
          0.4465920329093933,
          0.4359327554702759,
          0.440249502658844,
          0.441995233297348,
          0.44711869955062866,
          0.4424295425415039,
          0.4395029544830322,
          0.44230371713638306,
          0.4453747868537903,
          0.4386032521724701,
          0.44186002016067505,
          0.4305499494075775,
          0.430867999792099,
          0.4257063865661621,
          0.4308692514896393,
          0.4212161898612976,
          0.41987714171409607,
          0.4265689551830292,
          0.4060603678226471,
          0.41308334469795227,
          0.40898507833480835,
          0.4131157100200653,
          0.41524043679237366,
          0.4099879264831543,
          0.41560643911361694,
          0.4148334264755249,
          0.4197635352611542,
          0.4062573313713074,
          0.4223591089248657,
          0.4268297553062439,
          0.4319952726364136,
          0.44130003452301025,
          0.44693025946617126,
          0.44904783368110657,
          0.4535784125328064,
          0.45592647790908813,
          0.4668738842010498,
          0.460483193397522,
          0.46323689818382263,
          0.4660056531429291,
          0.4719540774822235,
          0.46901535987854004,
          0.4721965193748474,
          0.47081249952316284,
          0.47015759348869324,
          0.4668731689453125,
          0.4632498025894165,
          0.4709637463092804,
          0.468795508146286,
          0.4727969467639923,
          0.47308796644210815,
          0.4727354645729065,
          0.4787108898162842,
          0.4748908579349518,
          0.48778772354125977,
          0.4855360686779022,
          0.48430079221725464,
          0.48794111609458923,
          0.4945322275161743,
          0.5001221895217896,
          0.49999967217445374,
          0.499734103679657,
          0.5031242966651917,
          0.4992666244506836,
          0.5059254765510559,
          0.49928808212280273,
          0.5022047758102417,
          0.5026564002037048,
          0.4989551603794098,
          0.4981951117515564,
          0.4927484095096588,
          0.49732741713523865,
          0.4905611276626587,
          0.4866080582141876,
          0.4922870099544525,
          0.48480719327926636,
          0.49396705627441406,
          0.4900294542312622,
          0.4889274537563324,
          0.48792919516563416,
          0.4841000437736511,
          0.4914860427379608,
          0.49296990036964417,
          0.49444717168807983,
          0.5046584606170654,
          0.5055855512619019,
          0.528030514717102,
          0.5352869033813477,
          0.5459020137786865,
          0.5588467717170715,
          0.5734704732894897,
          0.5808026194572449,
          0.5821341276168823,
          0.5726937651634216,
          0.5618022084236145,
          0.5583944916725159,
          0.5332291126251221,
          0.5215161442756653,
          0.504099428653717,
          0.4812026917934418,
          0.462647020816803,
          0.4556913375854492,
          0.45416149497032166,
          0.44584572315216064,
          0.4433569014072418,
          0.4485602378845215,
          0.4398965835571289,
          0.4436090588569641,
          0.4467218518257141,
          0.4453219771385193,
          0.4487918019294739,
          0.44400453567504883,
          0.4483926296234131,
          0.444008469581604,
          0.4492298662662506,
          0.453474760055542,
          0.46574923396110535,
          0.49427664279937744,
          0.5217942595481873,
          0.5345420241355896,
          0.5367279052734375,
          0.5310854315757751,
          0.5329341888427734,
          0.5088344812393188,
          0.510330080986023,
          0.5095243453979492,
          0.5096027851104736,
          0.4258952736854553
         ]
        }
       ],
       "layout": {
        "template": {
         "data": {
          "bar": [
           {
            "error_x": {
             "color": "#2a3f5f"
            },
            "error_y": {
             "color": "#2a3f5f"
            },
            "marker": {
             "line": {
              "color": "#E5ECF6",
              "width": 0.5
             },
             "pattern": {
              "fillmode": "overlay",
              "size": 10,
              "solidity": 0.2
             }
            },
            "type": "bar"
           }
          ],
          "barpolar": [
           {
            "marker": {
             "line": {
              "color": "#E5ECF6",
              "width": 0.5
             },
             "pattern": {
              "fillmode": "overlay",
              "size": 10,
              "solidity": 0.2
             }
            },
            "type": "barpolar"
           }
          ],
          "carpet": [
           {
            "aaxis": {
             "endlinecolor": "#2a3f5f",
             "gridcolor": "white",
             "linecolor": "white",
             "minorgridcolor": "white",
             "startlinecolor": "#2a3f5f"
            },
            "baxis": {
             "endlinecolor": "#2a3f5f",
             "gridcolor": "white",
             "linecolor": "white",
             "minorgridcolor": "white",
             "startlinecolor": "#2a3f5f"
            },
            "type": "carpet"
           }
          ],
          "choropleth": [
           {
            "colorbar": {
             "outlinewidth": 0,
             "ticks": ""
            },
            "type": "choropleth"
           }
          ],
          "contour": [
           {
            "colorbar": {
             "outlinewidth": 0,
             "ticks": ""
            },
            "colorscale": [
             [
              0,
              "#0d0887"
             ],
             [
              0.1111111111111111,
              "#46039f"
             ],
             [
              0.2222222222222222,
              "#7201a8"
             ],
             [
              0.3333333333333333,
              "#9c179e"
             ],
             [
              0.4444444444444444,
              "#bd3786"
             ],
             [
              0.5555555555555556,
              "#d8576b"
             ],
             [
              0.6666666666666666,
              "#ed7953"
             ],
             [
              0.7777777777777778,
              "#fb9f3a"
             ],
             [
              0.8888888888888888,
              "#fdca26"
             ],
             [
              1,
              "#f0f921"
             ]
            ],
            "type": "contour"
           }
          ],
          "contourcarpet": [
           {
            "colorbar": {
             "outlinewidth": 0,
             "ticks": ""
            },
            "type": "contourcarpet"
           }
          ],
          "heatmap": [
           {
            "colorbar": {
             "outlinewidth": 0,
             "ticks": ""
            },
            "colorscale": [
             [
              0,
              "#0d0887"
             ],
             [
              0.1111111111111111,
              "#46039f"
             ],
             [
              0.2222222222222222,
              "#7201a8"
             ],
             [
              0.3333333333333333,
              "#9c179e"
             ],
             [
              0.4444444444444444,
              "#bd3786"
             ],
             [
              0.5555555555555556,
              "#d8576b"
             ],
             [
              0.6666666666666666,
              "#ed7953"
             ],
             [
              0.7777777777777778,
              "#fb9f3a"
             ],
             [
              0.8888888888888888,
              "#fdca26"
             ],
             [
              1,
              "#f0f921"
             ]
            ],
            "type": "heatmap"
           }
          ],
          "heatmapgl": [
           {
            "colorbar": {
             "outlinewidth": 0,
             "ticks": ""
            },
            "colorscale": [
             [
              0,
              "#0d0887"
             ],
             [
              0.1111111111111111,
              "#46039f"
             ],
             [
              0.2222222222222222,
              "#7201a8"
             ],
             [
              0.3333333333333333,
              "#9c179e"
             ],
             [
              0.4444444444444444,
              "#bd3786"
             ],
             [
              0.5555555555555556,
              "#d8576b"
             ],
             [
              0.6666666666666666,
              "#ed7953"
             ],
             [
              0.7777777777777778,
              "#fb9f3a"
             ],
             [
              0.8888888888888888,
              "#fdca26"
             ],
             [
              1,
              "#f0f921"
             ]
            ],
            "type": "heatmapgl"
           }
          ],
          "histogram": [
           {
            "marker": {
             "pattern": {
              "fillmode": "overlay",
              "size": 10,
              "solidity": 0.2
             }
            },
            "type": "histogram"
           }
          ],
          "histogram2d": [
           {
            "colorbar": {
             "outlinewidth": 0,
             "ticks": ""
            },
            "colorscale": [
             [
              0,
              "#0d0887"
             ],
             [
              0.1111111111111111,
              "#46039f"
             ],
             [
              0.2222222222222222,
              "#7201a8"
             ],
             [
              0.3333333333333333,
              "#9c179e"
             ],
             [
              0.4444444444444444,
              "#bd3786"
             ],
             [
              0.5555555555555556,
              "#d8576b"
             ],
             [
              0.6666666666666666,
              "#ed7953"
             ],
             [
              0.7777777777777778,
              "#fb9f3a"
             ],
             [
              0.8888888888888888,
              "#fdca26"
             ],
             [
              1,
              "#f0f921"
             ]
            ],
            "type": "histogram2d"
           }
          ],
          "histogram2dcontour": [
           {
            "colorbar": {
             "outlinewidth": 0,
             "ticks": ""
            },
            "colorscale": [
             [
              0,
              "#0d0887"
             ],
             [
              0.1111111111111111,
              "#46039f"
             ],
             [
              0.2222222222222222,
              "#7201a8"
             ],
             [
              0.3333333333333333,
              "#9c179e"
             ],
             [
              0.4444444444444444,
              "#bd3786"
             ],
             [
              0.5555555555555556,
              "#d8576b"
             ],
             [
              0.6666666666666666,
              "#ed7953"
             ],
             [
              0.7777777777777778,
              "#fb9f3a"
             ],
             [
              0.8888888888888888,
              "#fdca26"
             ],
             [
              1,
              "#f0f921"
             ]
            ],
            "type": "histogram2dcontour"
           }
          ],
          "mesh3d": [
           {
            "colorbar": {
             "outlinewidth": 0,
             "ticks": ""
            },
            "type": "mesh3d"
           }
          ],
          "parcoords": [
           {
            "line": {
             "colorbar": {
              "outlinewidth": 0,
              "ticks": ""
             }
            },
            "type": "parcoords"
           }
          ],
          "pie": [
           {
            "automargin": true,
            "type": "pie"
           }
          ],
          "scatter": [
           {
            "marker": {
             "colorbar": {
              "outlinewidth": 0,
              "ticks": ""
             }
            },
            "type": "scatter"
           }
          ],
          "scatter3d": [
           {
            "line": {
             "colorbar": {
              "outlinewidth": 0,
              "ticks": ""
             }
            },
            "marker": {
             "colorbar": {
              "outlinewidth": 0,
              "ticks": ""
             }
            },
            "type": "scatter3d"
           }
          ],
          "scattercarpet": [
           {
            "marker": {
             "colorbar": {
              "outlinewidth": 0,
              "ticks": ""
             }
            },
            "type": "scattercarpet"
           }
          ],
          "scattergeo": [
           {
            "marker": {
             "colorbar": {
              "outlinewidth": 0,
              "ticks": ""
             }
            },
            "type": "scattergeo"
           }
          ],
          "scattergl": [
           {
            "marker": {
             "colorbar": {
              "outlinewidth": 0,
              "ticks": ""
             }
            },
            "type": "scattergl"
           }
          ],
          "scattermapbox": [
           {
            "marker": {
             "colorbar": {
              "outlinewidth": 0,
              "ticks": ""
             }
            },
            "type": "scattermapbox"
           }
          ],
          "scatterpolar": [
           {
            "marker": {
             "colorbar": {
              "outlinewidth": 0,
              "ticks": ""
             }
            },
            "type": "scatterpolar"
           }
          ],
          "scatterpolargl": [
           {
            "marker": {
             "colorbar": {
              "outlinewidth": 0,
              "ticks": ""
             }
            },
            "type": "scatterpolargl"
           }
          ],
          "scatterternary": [
           {
            "marker": {
             "colorbar": {
              "outlinewidth": 0,
              "ticks": ""
             }
            },
            "type": "scatterternary"
           }
          ],
          "surface": [
           {
            "colorbar": {
             "outlinewidth": 0,
             "ticks": ""
            },
            "colorscale": [
             [
              0,
              "#0d0887"
             ],
             [
              0.1111111111111111,
              "#46039f"
             ],
             [
              0.2222222222222222,
              "#7201a8"
             ],
             [
              0.3333333333333333,
              "#9c179e"
             ],
             [
              0.4444444444444444,
              "#bd3786"
             ],
             [
              0.5555555555555556,
              "#d8576b"
             ],
             [
              0.6666666666666666,
              "#ed7953"
             ],
             [
              0.7777777777777778,
              "#fb9f3a"
             ],
             [
              0.8888888888888888,
              "#fdca26"
             ],
             [
              1,
              "#f0f921"
             ]
            ],
            "type": "surface"
           }
          ],
          "table": [
           {
            "cells": {
             "fill": {
              "color": "#EBF0F8"
             },
             "line": {
              "color": "white"
             }
            },
            "header": {
             "fill": {
              "color": "#C8D4E3"
             },
             "line": {
              "color": "white"
             }
            },
            "type": "table"
           }
          ]
         },
         "layout": {
          "annotationdefaults": {
           "arrowcolor": "#2a3f5f",
           "arrowhead": 0,
           "arrowwidth": 1
          },
          "autotypenumbers": "strict",
          "coloraxis": {
           "colorbar": {
            "outlinewidth": 0,
            "ticks": ""
           }
          },
          "colorscale": {
           "diverging": [
            [
             0,
             "#8e0152"
            ],
            [
             0.1,
             "#c51b7d"
            ],
            [
             0.2,
             "#de77ae"
            ],
            [
             0.3,
             "#f1b6da"
            ],
            [
             0.4,
             "#fde0ef"
            ],
            [
             0.5,
             "#f7f7f7"
            ],
            [
             0.6,
             "#e6f5d0"
            ],
            [
             0.7,
             "#b8e186"
            ],
            [
             0.8,
             "#7fbc41"
            ],
            [
             0.9,
             "#4d9221"
            ],
            [
             1,
             "#276419"
            ]
           ],
           "sequential": [
            [
             0,
             "#0d0887"
            ],
            [
             0.1111111111111111,
             "#46039f"
            ],
            [
             0.2222222222222222,
             "#7201a8"
            ],
            [
             0.3333333333333333,
             "#9c179e"
            ],
            [
             0.4444444444444444,
             "#bd3786"
            ],
            [
             0.5555555555555556,
             "#d8576b"
            ],
            [
             0.6666666666666666,
             "#ed7953"
            ],
            [
             0.7777777777777778,
             "#fb9f3a"
            ],
            [
             0.8888888888888888,
             "#fdca26"
            ],
            [
             1,
             "#f0f921"
            ]
           ],
           "sequentialminus": [
            [
             0,
             "#0d0887"
            ],
            [
             0.1111111111111111,
             "#46039f"
            ],
            [
             0.2222222222222222,
             "#7201a8"
            ],
            [
             0.3333333333333333,
             "#9c179e"
            ],
            [
             0.4444444444444444,
             "#bd3786"
            ],
            [
             0.5555555555555556,
             "#d8576b"
            ],
            [
             0.6666666666666666,
             "#ed7953"
            ],
            [
             0.7777777777777778,
             "#fb9f3a"
            ],
            [
             0.8888888888888888,
             "#fdca26"
            ],
            [
             1,
             "#f0f921"
            ]
           ]
          },
          "colorway": [
           "#636efa",
           "#EF553B",
           "#00cc96",
           "#ab63fa",
           "#FFA15A",
           "#19d3f3",
           "#FF6692",
           "#B6E880",
           "#FF97FF",
           "#FECB52"
          ],
          "font": {
           "color": "#2a3f5f"
          },
          "geo": {
           "bgcolor": "white",
           "lakecolor": "white",
           "landcolor": "#E5ECF6",
           "showlakes": true,
           "showland": true,
           "subunitcolor": "white"
          },
          "hoverlabel": {
           "align": "left"
          },
          "hovermode": "closest",
          "mapbox": {
           "style": "light"
          },
          "paper_bgcolor": "white",
          "plot_bgcolor": "#E5ECF6",
          "polar": {
           "angularaxis": {
            "gridcolor": "white",
            "linecolor": "white",
            "ticks": ""
           },
           "bgcolor": "#E5ECF6",
           "radialaxis": {
            "gridcolor": "white",
            "linecolor": "white",
            "ticks": ""
           }
          },
          "scene": {
           "xaxis": {
            "backgroundcolor": "#E5ECF6",
            "gridcolor": "white",
            "gridwidth": 2,
            "linecolor": "white",
            "showbackground": true,
            "ticks": "",
            "zerolinecolor": "white"
           },
           "yaxis": {
            "backgroundcolor": "#E5ECF6",
            "gridcolor": "white",
            "gridwidth": 2,
            "linecolor": "white",
            "showbackground": true,
            "ticks": "",
            "zerolinecolor": "white"
           },
           "zaxis": {
            "backgroundcolor": "#E5ECF6",
            "gridcolor": "white",
            "gridwidth": 2,
            "linecolor": "white",
            "showbackground": true,
            "ticks": "",
            "zerolinecolor": "white"
           }
          },
          "shapedefaults": {
           "line": {
            "color": "#2a3f5f"
           }
          },
          "ternary": {
           "aaxis": {
            "gridcolor": "white",
            "linecolor": "white",
            "ticks": ""
           },
           "baxis": {
            "gridcolor": "white",
            "linecolor": "white",
            "ticks": ""
           },
           "bgcolor": "#E5ECF6",
           "caxis": {
            "gridcolor": "white",
            "linecolor": "white",
            "ticks": ""
           }
          },
          "title": {
           "x": 0.05
          },
          "xaxis": {
           "automargin": true,
           "gridcolor": "white",
           "linecolor": "white",
           "ticks": "",
           "title": {
            "standoff": 15
           },
           "zerolinecolor": "white",
           "zerolinewidth": 2
          },
          "yaxis": {
           "automargin": true,
           "gridcolor": "white",
           "linecolor": "white",
           "ticks": "",
           "title": {
            "standoff": 15
           },
           "zerolinecolor": "white",
           "zerolinewidth": 2
          }
         }
        }
       }
      }
     },
     "metadata": {}
    }
   ],
   "metadata": {}
  },
  {
   "cell_type": "markdown",
   "source": [
    "Let's do the same as above for an abnormal rhythm ECG on the test dataset."
   ],
   "metadata": {}
  },
  {
   "cell_type": "code",
   "execution_count": 14,
   "source": [
    "encoded_data = autoencoder.encoder(abnormal_test_data).numpy()\n",
    "decoded_data = autoencoder.decoder(encoded_data).numpy()\n",
    "\n",
    "\n",
    "fig = go.Figure()\n",
    "fig.add_trace(go.Scatter(y=abnormal_test_data[0],name='Input data'))\n",
    "fig.add_trace(go.Scatter(y=decoded_data[0],name='Reconstruction & error',\n",
    "                         fill='tonexty'))\n"
   ],
   "outputs": [
    {
     "output_type": "display_data",
     "data": {
      "application/vnd.plotly.v1+json": {
       "config": {
        "plotlyServerURL": "https://plot.ly"
       },
       "data": [
        {
         "name": "Input data",
         "type": "scatter",
         "y": [
          0.3687897026538849,
          0.30728116631507874,
          0.2658798396587372,
          0.2342016100883484,
          0.2289544939994812,
          0.24441950023174286,
          0.2897324562072754,
          0.32673344016075134,
          0.3450625240802765,
          0.35946375131607056,
          0.366017609834671,
          0.38083764910697937,
          0.4098110496997833,
          0.426404744386673,
          0.4301389157772064,
          0.42872142791748047,
          0.4324492812156677,
          0.42882904410362244,
          0.4317876100540161,
          0.4314000606536865,
          0.4309997260570526,
          0.43363940715789795,
          0.43189460039138794,
          0.4334389865398407,
          0.4282280206680298,
          0.4304920434951782,
          0.4316231906414032,
          0.43162646889686584,
          0.4328855872154236,
          0.42824631929397583,
          0.43387359380722046,
          0.4338427782058716,
          0.4270707368850708,
          0.4270402491092682,
          0.4258621335029602,
          0.42957353591918945,
          0.43204739689826965,
          0.42690134048461914,
          0.4267188310623169,
          0.42579153180122375,
          0.42145025730133057,
          0.42689019441604614,
          0.4192477762699127,
          0.42660969495773315,
          0.425228089094162,
          0.4170193672180176,
          0.4184109568595886,
          0.41961243748664856,
          0.41716280579566956,
          0.41829556226730347,
          0.41633373498916626,
          0.4121170938014984,
          0.4156325161457062,
          0.4140487611293793,
          0.4120148718357086,
          0.41335198283195496,
          0.4142370820045471,
          0.41685929894447327,
          0.41644006967544556,
          0.41624537110328674,
          0.4196259379386902,
          0.4177689850330353,
          0.41905897855758667,
          0.42218971252441406,
          0.4196544587612152,
          0.42940545082092285,
          0.4308989942073822,
          0.4307335913181305,
          0.4318483769893646,
          0.43540969491004944,
          0.44192975759506226,
          0.445151150226593,
          0.44695404171943665,
          0.4487036466598511,
          0.45294925570487976,
          0.4540736973285675,
          0.45773977041244507,
          0.4565097689628601,
          0.46157169342041016,
          0.4622882306575775,
          0.46499142050743103,
          0.46702536940574646,
          0.46528127789497375,
          0.4724016785621643,
          0.4684238135814667,
          0.4714818596839905,
          0.4761196970939636,
          0.4806874096393585,
          0.477120041847229,
          0.47579425573349,
          0.4818546175956726,
          0.48146358132362366,
          0.4816263020038605,
          0.4840543866157532,
          0.4852852523326874,
          0.48290780186653137,
          0.4826079308986664,
          0.48741355538368225,
          0.4890534281730652,
          0.49074432253837585,
          0.49717646837234497,
          0.4968552887439728,
          0.4969344139099121,
          0.5008605718612671,
          0.5031581521034241,
          0.5059995651245117,
          0.5076162815093994,
          0.5129083395004272,
          0.5130175948143005,
          0.5137396454811096,
          0.5173085331916809,
          0.5215231776237488,
          0.5224050283432007,
          0.5229285359382629,
          0.5217630863189697,
          0.5279528498649597,
          0.5248215794563293,
          0.5252198576927185,
          0.531267523765564,
          0.5323393940925598,
          0.5313363671302795,
          0.5249910354614258,
          0.531597912311554,
          0.5341436862945557,
          0.5397691130638123,
          0.5453839898109436,
          0.5644707083702087,
          0.5959868431091309,
          0.6098214387893677,
          0.6092298626899719,
          0.6011083722114563,
          0.5885306596755981,
          0.5727330446243286,
          0.5786002278327942,
          0.6149988770484924,
          0.6372957229614258,
          0.6170028448104858,
          0.5855123400688171,
          0.56629878282547,
          0.5726404190063477
         ]
        },
        {
         "fill": "tonexty",
         "name": "Reconstruction & error",
         "type": "scatter",
         "y": [
          0.42946118116378784,
          0.28007861971855164,
          0.18647480010986328,
          0.1660359799861908,
          0.1624695062637329,
          0.22179675102233887,
          0.2948979139328003,
          0.34142953157424927,
          0.36400389671325684,
          0.3934039771556854,
          0.42686745524406433,
          0.44109755754470825,
          0.4258157014846802,
          0.44170886278152466,
          0.43952468037605286,
          0.4350410997867584,
          0.42898574471473694,
          0.4327405095100403,
          0.4350050389766693,
          0.4275009036064148,
          0.42198923230171204,
          0.4268306791782379,
          0.41767823696136475,
          0.4306669235229492,
          0.4250004291534424,
          0.425468772649765,
          0.4148673415184021,
          0.42198437452316284,
          0.4132887125015259,
          0.4019526243209839,
          0.4176281690597534,
          0.4074631631374359,
          0.4044569134712219,
          0.3952566981315613,
          0.39075854420661926,
          0.3913360834121704,
          0.38625603914260864,
          0.3912333846092224,
          0.3932838439941406,
          0.4141223430633545,
          0.4095587432384491,
          0.4134596586227417,
          0.4187995195388794,
          0.4227379560470581,
          0.42766064405441284,
          0.4371870756149292,
          0.4460338354110718,
          0.44737184047698975,
          0.43997111916542053,
          0.4546418786048889,
          0.452027827501297,
          0.4532865881919861,
          0.4470908045768738,
          0.45387598872184753,
          0.4521673917770386,
          0.45435672998428345,
          0.4569258391857147,
          0.4656330645084381,
          0.47152501344680786,
          0.4620819687843323,
          0.47000759840011597,
          0.4646272361278534,
          0.46805036067962646,
          0.4732065200805664,
          0.47013047337532043,
          0.48296788334846497,
          0.4673110246658325,
          0.47898510098457336,
          0.48960229754447937,
          0.49322977662086487,
          0.4889187514781952,
          0.48710545897483826,
          0.49229028820991516,
          0.4980117082595825,
          0.4944193661212921,
          0.5010497570037842,
          0.4943942725658417,
          0.501541018486023,
          0.4968823194503784,
          0.4964061379432678,
          0.49745458364486694,
          0.4957312345504761,
          0.5004669427871704,
          0.49303314089775085,
          0.4954056143760681,
          0.4990229606628418,
          0.4887658655643463,
          0.4974200129508972,
          0.4814136326313019,
          0.48703864216804504,
          0.48627203702926636,
          0.48499733209609985,
          0.4919429421424866,
          0.48371583223342896,
          0.4882614314556122,
          0.49521130323410034,
          0.5004538893699646,
          0.5224986672401428,
          0.5212641954421997,
          0.5358890891075134,
          0.5494678616523743,
          0.5649950504302979,
          0.581906795501709,
          0.5849176049232483,
          0.5861953496932983,
          0.584652304649353,
          0.5842498540878296,
          0.5584355592727661,
          0.557451605796814,
          0.5348984003067017,
          0.5168555378913879,
          0.49768662452697754,
          0.4756934940814972,
          0.45688462257385254,
          0.44058406352996826,
          0.44839099049568176,
          0.4454679489135742,
          0.43797528743743896,
          0.448981374502182,
          0.44384798407554626,
          0.43995001912117004,
          0.43983572721481323,
          0.43436676263809204,
          0.4411764442920685,
          0.43847519159317017,
          0.4462696611881256,
          0.44607651233673096,
          0.45244091749191284,
          0.46234384179115295,
          0.49378708004951477,
          0.534040629863739,
          0.536147952079773,
          0.5488781332969666,
          0.5592741966247559,
          0.5424920320510864,
          0.5377394556999207,
          0.518700122833252,
          0.509705126285553,
          0.5231212973594666,
          0.4238724112510681
         ]
        }
       ],
       "layout": {
        "template": {
         "data": {
          "bar": [
           {
            "error_x": {
             "color": "#2a3f5f"
            },
            "error_y": {
             "color": "#2a3f5f"
            },
            "marker": {
             "line": {
              "color": "#E5ECF6",
              "width": 0.5
             },
             "pattern": {
              "fillmode": "overlay",
              "size": 10,
              "solidity": 0.2
             }
            },
            "type": "bar"
           }
          ],
          "barpolar": [
           {
            "marker": {
             "line": {
              "color": "#E5ECF6",
              "width": 0.5
             },
             "pattern": {
              "fillmode": "overlay",
              "size": 10,
              "solidity": 0.2
             }
            },
            "type": "barpolar"
           }
          ],
          "carpet": [
           {
            "aaxis": {
             "endlinecolor": "#2a3f5f",
             "gridcolor": "white",
             "linecolor": "white",
             "minorgridcolor": "white",
             "startlinecolor": "#2a3f5f"
            },
            "baxis": {
             "endlinecolor": "#2a3f5f",
             "gridcolor": "white",
             "linecolor": "white",
             "minorgridcolor": "white",
             "startlinecolor": "#2a3f5f"
            },
            "type": "carpet"
           }
          ],
          "choropleth": [
           {
            "colorbar": {
             "outlinewidth": 0,
             "ticks": ""
            },
            "type": "choropleth"
           }
          ],
          "contour": [
           {
            "colorbar": {
             "outlinewidth": 0,
             "ticks": ""
            },
            "colorscale": [
             [
              0,
              "#0d0887"
             ],
             [
              0.1111111111111111,
              "#46039f"
             ],
             [
              0.2222222222222222,
              "#7201a8"
             ],
             [
              0.3333333333333333,
              "#9c179e"
             ],
             [
              0.4444444444444444,
              "#bd3786"
             ],
             [
              0.5555555555555556,
              "#d8576b"
             ],
             [
              0.6666666666666666,
              "#ed7953"
             ],
             [
              0.7777777777777778,
              "#fb9f3a"
             ],
             [
              0.8888888888888888,
              "#fdca26"
             ],
             [
              1,
              "#f0f921"
             ]
            ],
            "type": "contour"
           }
          ],
          "contourcarpet": [
           {
            "colorbar": {
             "outlinewidth": 0,
             "ticks": ""
            },
            "type": "contourcarpet"
           }
          ],
          "heatmap": [
           {
            "colorbar": {
             "outlinewidth": 0,
             "ticks": ""
            },
            "colorscale": [
             [
              0,
              "#0d0887"
             ],
             [
              0.1111111111111111,
              "#46039f"
             ],
             [
              0.2222222222222222,
              "#7201a8"
             ],
             [
              0.3333333333333333,
              "#9c179e"
             ],
             [
              0.4444444444444444,
              "#bd3786"
             ],
             [
              0.5555555555555556,
              "#d8576b"
             ],
             [
              0.6666666666666666,
              "#ed7953"
             ],
             [
              0.7777777777777778,
              "#fb9f3a"
             ],
             [
              0.8888888888888888,
              "#fdca26"
             ],
             [
              1,
              "#f0f921"
             ]
            ],
            "type": "heatmap"
           }
          ],
          "heatmapgl": [
           {
            "colorbar": {
             "outlinewidth": 0,
             "ticks": ""
            },
            "colorscale": [
             [
              0,
              "#0d0887"
             ],
             [
              0.1111111111111111,
              "#46039f"
             ],
             [
              0.2222222222222222,
              "#7201a8"
             ],
             [
              0.3333333333333333,
              "#9c179e"
             ],
             [
              0.4444444444444444,
              "#bd3786"
             ],
             [
              0.5555555555555556,
              "#d8576b"
             ],
             [
              0.6666666666666666,
              "#ed7953"
             ],
             [
              0.7777777777777778,
              "#fb9f3a"
             ],
             [
              0.8888888888888888,
              "#fdca26"
             ],
             [
              1,
              "#f0f921"
             ]
            ],
            "type": "heatmapgl"
           }
          ],
          "histogram": [
           {
            "marker": {
             "pattern": {
              "fillmode": "overlay",
              "size": 10,
              "solidity": 0.2
             }
            },
            "type": "histogram"
           }
          ],
          "histogram2d": [
           {
            "colorbar": {
             "outlinewidth": 0,
             "ticks": ""
            },
            "colorscale": [
             [
              0,
              "#0d0887"
             ],
             [
              0.1111111111111111,
              "#46039f"
             ],
             [
              0.2222222222222222,
              "#7201a8"
             ],
             [
              0.3333333333333333,
              "#9c179e"
             ],
             [
              0.4444444444444444,
              "#bd3786"
             ],
             [
              0.5555555555555556,
              "#d8576b"
             ],
             [
              0.6666666666666666,
              "#ed7953"
             ],
             [
              0.7777777777777778,
              "#fb9f3a"
             ],
             [
              0.8888888888888888,
              "#fdca26"
             ],
             [
              1,
              "#f0f921"
             ]
            ],
            "type": "histogram2d"
           }
          ],
          "histogram2dcontour": [
           {
            "colorbar": {
             "outlinewidth": 0,
             "ticks": ""
            },
            "colorscale": [
             [
              0,
              "#0d0887"
             ],
             [
              0.1111111111111111,
              "#46039f"
             ],
             [
              0.2222222222222222,
              "#7201a8"
             ],
             [
              0.3333333333333333,
              "#9c179e"
             ],
             [
              0.4444444444444444,
              "#bd3786"
             ],
             [
              0.5555555555555556,
              "#d8576b"
             ],
             [
              0.6666666666666666,
              "#ed7953"
             ],
             [
              0.7777777777777778,
              "#fb9f3a"
             ],
             [
              0.8888888888888888,
              "#fdca26"
             ],
             [
              1,
              "#f0f921"
             ]
            ],
            "type": "histogram2dcontour"
           }
          ],
          "mesh3d": [
           {
            "colorbar": {
             "outlinewidth": 0,
             "ticks": ""
            },
            "type": "mesh3d"
           }
          ],
          "parcoords": [
           {
            "line": {
             "colorbar": {
              "outlinewidth": 0,
              "ticks": ""
             }
            },
            "type": "parcoords"
           }
          ],
          "pie": [
           {
            "automargin": true,
            "type": "pie"
           }
          ],
          "scatter": [
           {
            "marker": {
             "colorbar": {
              "outlinewidth": 0,
              "ticks": ""
             }
            },
            "type": "scatter"
           }
          ],
          "scatter3d": [
           {
            "line": {
             "colorbar": {
              "outlinewidth": 0,
              "ticks": ""
             }
            },
            "marker": {
             "colorbar": {
              "outlinewidth": 0,
              "ticks": ""
             }
            },
            "type": "scatter3d"
           }
          ],
          "scattercarpet": [
           {
            "marker": {
             "colorbar": {
              "outlinewidth": 0,
              "ticks": ""
             }
            },
            "type": "scattercarpet"
           }
          ],
          "scattergeo": [
           {
            "marker": {
             "colorbar": {
              "outlinewidth": 0,
              "ticks": ""
             }
            },
            "type": "scattergeo"
           }
          ],
          "scattergl": [
           {
            "marker": {
             "colorbar": {
              "outlinewidth": 0,
              "ticks": ""
             }
            },
            "type": "scattergl"
           }
          ],
          "scattermapbox": [
           {
            "marker": {
             "colorbar": {
              "outlinewidth": 0,
              "ticks": ""
             }
            },
            "type": "scattermapbox"
           }
          ],
          "scatterpolar": [
           {
            "marker": {
             "colorbar": {
              "outlinewidth": 0,
              "ticks": ""
             }
            },
            "type": "scatterpolar"
           }
          ],
          "scatterpolargl": [
           {
            "marker": {
             "colorbar": {
              "outlinewidth": 0,
              "ticks": ""
             }
            },
            "type": "scatterpolargl"
           }
          ],
          "scatterternary": [
           {
            "marker": {
             "colorbar": {
              "outlinewidth": 0,
              "ticks": ""
             }
            },
            "type": "scatterternary"
           }
          ],
          "surface": [
           {
            "colorbar": {
             "outlinewidth": 0,
             "ticks": ""
            },
            "colorscale": [
             [
              0,
              "#0d0887"
             ],
             [
              0.1111111111111111,
              "#46039f"
             ],
             [
              0.2222222222222222,
              "#7201a8"
             ],
             [
              0.3333333333333333,
              "#9c179e"
             ],
             [
              0.4444444444444444,
              "#bd3786"
             ],
             [
              0.5555555555555556,
              "#d8576b"
             ],
             [
              0.6666666666666666,
              "#ed7953"
             ],
             [
              0.7777777777777778,
              "#fb9f3a"
             ],
             [
              0.8888888888888888,
              "#fdca26"
             ],
             [
              1,
              "#f0f921"
             ]
            ],
            "type": "surface"
           }
          ],
          "table": [
           {
            "cells": {
             "fill": {
              "color": "#EBF0F8"
             },
             "line": {
              "color": "white"
             }
            },
            "header": {
             "fill": {
              "color": "#C8D4E3"
             },
             "line": {
              "color": "white"
             }
            },
            "type": "table"
           }
          ]
         },
         "layout": {
          "annotationdefaults": {
           "arrowcolor": "#2a3f5f",
           "arrowhead": 0,
           "arrowwidth": 1
          },
          "autotypenumbers": "strict",
          "coloraxis": {
           "colorbar": {
            "outlinewidth": 0,
            "ticks": ""
           }
          },
          "colorscale": {
           "diverging": [
            [
             0,
             "#8e0152"
            ],
            [
             0.1,
             "#c51b7d"
            ],
            [
             0.2,
             "#de77ae"
            ],
            [
             0.3,
             "#f1b6da"
            ],
            [
             0.4,
             "#fde0ef"
            ],
            [
             0.5,
             "#f7f7f7"
            ],
            [
             0.6,
             "#e6f5d0"
            ],
            [
             0.7,
             "#b8e186"
            ],
            [
             0.8,
             "#7fbc41"
            ],
            [
             0.9,
             "#4d9221"
            ],
            [
             1,
             "#276419"
            ]
           ],
           "sequential": [
            [
             0,
             "#0d0887"
            ],
            [
             0.1111111111111111,
             "#46039f"
            ],
            [
             0.2222222222222222,
             "#7201a8"
            ],
            [
             0.3333333333333333,
             "#9c179e"
            ],
            [
             0.4444444444444444,
             "#bd3786"
            ],
            [
             0.5555555555555556,
             "#d8576b"
            ],
            [
             0.6666666666666666,
             "#ed7953"
            ],
            [
             0.7777777777777778,
             "#fb9f3a"
            ],
            [
             0.8888888888888888,
             "#fdca26"
            ],
            [
             1,
             "#f0f921"
            ]
           ],
           "sequentialminus": [
            [
             0,
             "#0d0887"
            ],
            [
             0.1111111111111111,
             "#46039f"
            ],
            [
             0.2222222222222222,
             "#7201a8"
            ],
            [
             0.3333333333333333,
             "#9c179e"
            ],
            [
             0.4444444444444444,
             "#bd3786"
            ],
            [
             0.5555555555555556,
             "#d8576b"
            ],
            [
             0.6666666666666666,
             "#ed7953"
            ],
            [
             0.7777777777777778,
             "#fb9f3a"
            ],
            [
             0.8888888888888888,
             "#fdca26"
            ],
            [
             1,
             "#f0f921"
            ]
           ]
          },
          "colorway": [
           "#636efa",
           "#EF553B",
           "#00cc96",
           "#ab63fa",
           "#FFA15A",
           "#19d3f3",
           "#FF6692",
           "#B6E880",
           "#FF97FF",
           "#FECB52"
          ],
          "font": {
           "color": "#2a3f5f"
          },
          "geo": {
           "bgcolor": "white",
           "lakecolor": "white",
           "landcolor": "#E5ECF6",
           "showlakes": true,
           "showland": true,
           "subunitcolor": "white"
          },
          "hoverlabel": {
           "align": "left"
          },
          "hovermode": "closest",
          "mapbox": {
           "style": "light"
          },
          "paper_bgcolor": "white",
          "plot_bgcolor": "#E5ECF6",
          "polar": {
           "angularaxis": {
            "gridcolor": "white",
            "linecolor": "white",
            "ticks": ""
           },
           "bgcolor": "#E5ECF6",
           "radialaxis": {
            "gridcolor": "white",
            "linecolor": "white",
            "ticks": ""
           }
          },
          "scene": {
           "xaxis": {
            "backgroundcolor": "#E5ECF6",
            "gridcolor": "white",
            "gridwidth": 2,
            "linecolor": "white",
            "showbackground": true,
            "ticks": "",
            "zerolinecolor": "white"
           },
           "yaxis": {
            "backgroundcolor": "#E5ECF6",
            "gridcolor": "white",
            "gridwidth": 2,
            "linecolor": "white",
            "showbackground": true,
            "ticks": "",
            "zerolinecolor": "white"
           },
           "zaxis": {
            "backgroundcolor": "#E5ECF6",
            "gridcolor": "white",
            "gridwidth": 2,
            "linecolor": "white",
            "showbackground": true,
            "ticks": "",
            "zerolinecolor": "white"
           }
          },
          "shapedefaults": {
           "line": {
            "color": "#2a3f5f"
           }
          },
          "ternary": {
           "aaxis": {
            "gridcolor": "white",
            "linecolor": "white",
            "ticks": ""
           },
           "baxis": {
            "gridcolor": "white",
            "linecolor": "white",
            "ticks": ""
           },
           "bgcolor": "#E5ECF6",
           "caxis": {
            "gridcolor": "white",
            "linecolor": "white",
            "ticks": ""
           }
          },
          "title": {
           "x": 0.05
          },
          "xaxis": {
           "automargin": true,
           "gridcolor": "white",
           "linecolor": "white",
           "ticks": "",
           "title": {
            "standoff": 15
           },
           "zerolinecolor": "white",
           "zerolinewidth": 2
          },
          "yaxis": {
           "automargin": true,
           "gridcolor": "white",
           "linecolor": "white",
           "ticks": "",
           "title": {
            "standoff": 15
           },
           "zerolinecolor": "white",
           "zerolinewidth": 2
          }
         }
        }
       }
      }
     },
     "metadata": {}
    }
   ],
   "metadata": {}
  },
  {
   "cell_type": "markdown",
   "source": [
    "With the naked eye, the two plots above seem to suggest that the reconstruction error for the abnormal rhythm ECG is larger. We will formalize our findings in the next section.\n",
    "\n",
    "## Detecting anomalies\n",
    "\n",
    "Here we will compute the reconstruction error for all the data points both normal and abnormal.  For the reconstruction error, we will use the mean absolute error.\n",
    "We will compute the reconstruction error of the training dataset and choose a threshold  (one standard deviation away from the mean) above which we will classify an ECG as abnormal.\n"
   ],
   "metadata": {}
  },
  {
   "cell_type": "code",
   "execution_count": 15,
   "source": [
    "reconstructions = autoencoder.predict(normal_train_data)\n",
    "train_loss = tf.keras.losses.mae(reconstructions, normal_train_data)\n",
    "\n",
    "fig = go.Figure()\n",
    "fig.add_trace(go.Histogram(x=train_loss[None,:][0],name='Normal loss'))"
   ],
   "outputs": [
    {
     "output_type": "display_data",
     "data": {
      "application/vnd.plotly.v1+json": {
       "config": {
        "plotlyServerURL": "https://plot.ly"
       },
       "data": [
        {
         "name": "Normal loss",
         "type": "histogram",
         "x": [
          0.027521580457687378,
          0.010413173586130142,
          0.01952538825571537,
          0.018039507791399956,
          0.012217342853546143,
          0.017189690843224525,
          0.020989710465073586,
          0.014302968978881836,
          0.014687573537230492,
          0.01716136373579502,
          0.014569091610610485,
          0.008405808359384537,
          0.01146223396062851,
          0.023339370265603065,
          0.06883028894662857,
          0.021106179803609848,
          0.01315726526081562,
          0.010847631841897964,
          0.040127407759428024,
          0.009207822382450104,
          0.014683127403259277,
          0.01075498852878809,
          0.021451778709888458,
          0.025341816246509552,
          0.025440607219934464,
          0.02350246161222458,
          0.033166881650686264,
          0.017964251339435577,
          0.007753376383334398,
          0.016098225489258766,
          0.023430144414305687,
          0.02519010566174984,
          0.011947269551455975,
          0.014473438262939453,
          0.012038505636155605,
          0.007870975881814957,
          0.01261934544891119,
          0.02078794501721859,
          0.030202586203813553,
          0.007796091493219137,
          0.015078086405992508,
          0.04530036821961403,
          0.012754939496517181,
          0.011315380223095417,
          0.016420528292655945,
          0.013857492245733738,
          0.02206888608634472,
          0.01295538991689682,
          0.023523319512605667,
          0.01066342368721962,
          0.009994366206228733,
          0.006729487795382738,
          0.020120499655604362,
          0.013655882328748703,
          0.012145642191171646,
          0.014935458078980446,
          0.04178173840045929,
          0.028718529269099236,
          0.020854206755757332,
          0.046695686876773834,
          0.028102228417992592,
          0.04332923889160156,
          0.024295128881931305,
          0.023356212303042412,
          0.009451520629227161,
          0.01848575659096241,
          0.022980177775025368,
          0.01861639693379402,
          0.04225367307662964,
          0.010173932649195194,
          0.08774023503065109,
          0.01727866195142269,
          0.015171729028224945,
          0.02621539682149887,
          0.011995114386081696,
          0.012087859213352203,
          0.013282856903970242,
          0.013055187650024891,
          0.057073336094617844,
          0.009963789954781532,
          0.024292539805173874,
          0.01559528149664402,
          0.013470632955431938,
          0.05628097429871559,
          0.012891564518213272,
          0.011593583971261978,
          0.011951501481235027,
          0.013307150453329086,
          0.01164778508245945,
          0.0823807343840599,
          0.008434253744781017,
          0.010942036285996437,
          0.012714728713035583,
          0.012979649938642979,
          0.022792505100369453,
          0.02770153060555458,
          0.023870041593909264,
          0.00998577568680048,
          0.017191344872117043,
          0.007623192388564348,
          0.0560893788933754,
          0.028569160029292107,
          0.02262294478714466,
          0.02130049467086792,
          0.014733345247805119,
          0.01620389148592949,
          0.029247570782899857,
          0.009936382994055748,
          0.010198337957262993,
          0.016581103205680847,
          0.011234580539166927,
          0.01210583746433258,
          0.01990967057645321,
          0.021154770627617836,
          0.025255708023905754,
          0.07417777925729752,
          0.02855312079191208,
          0.016819065436720848,
          0.00868341326713562,
          0.012763124890625477,
          0.012923885136842728,
          0.00880222488194704,
          0.014781037345528603,
          0.019018998369574547,
          0.02695709653198719,
          0.02447095885872841,
          0.01256158109754324,
          0.009368916973471642,
          0.022412648424506187,
          0.023507457226514816,
          0.012938064523041248,
          0.041198037564754486,
          0.012140830978751183,
          0.01907038688659668,
          0.01718985103070736,
          0.01060971524566412,
          0.009402165189385414,
          0.023058941587805748,
          0.009852834977209568,
          0.030599795281887054,
          0.05339396372437477,
          0.013168924488127232,
          0.012308859266340733,
          0.023794764652848244,
          0.013152034021914005,
          0.011317314580082893,
          0.01101417001336813,
          0.03313296288251877,
          0.009147350676357746,
          0.06236957758665085,
          0.011214418336749077,
          0.016995083540678024,
          0.021925637498497963,
          0.008319457061588764,
          0.01663406752049923,
          0.062126513570547104,
          0.010543087497353554,
          0.009476806037127972,
          0.015750279650092125,
          0.008394465781748295,
          0.024159342050552368,
          0.012538271956145763,
          0.009319400414824486,
          0.024079704657197,
          0.012419168837368488,
          0.021283702924847603,
          0.028165029361844063,
          0.014651453122496605,
          0.018712839111685753,
          0.031241709366440773,
          0.035246841609478,
          0.010817959904670715,
          0.03630465269088745,
          0.014533485285937786,
          0.006063495762646198,
          0.0218434426933527,
          0.009431596845388412,
          0.02849702350795269,
          0.01437312550842762,
          0.012996498495340347,
          0.011856524273753166,
          0.02635830081999302,
          0.014513298869132996,
          0.03433087095618248,
          0.014584902673959732,
          0.018251150846481323,
          0.02788463607430458,
          0.015538224019110203,
          0.021814420819282532,
          0.02790064550936222,
          0.011935899965465069,
          0.05130314454436302,
          0.022770073264837265,
          0.01004047691822052,
          0.018321504816412926,
          0.013171849772334099,
          0.02094826102256775,
          0.0181113388389349,
          0.01027639489620924,
          0.010699592530727386,
          0.01650933548808098,
          0.0243048258125782,
          0.04976142942905426,
          0.011950388550758362,
          0.02379744127392769,
          0.02719796821475029,
          0.00899979006499052,
          0.010702192783355713,
          0.014139356091618538,
          0.014085635542869568,
          0.0163715872913599,
          0.011469367891550064,
          0.012155274860560894,
          0.01435752585530281,
          0.024654347449541092,
          0.01556384190917015,
          0.010411939583718777,
          0.018659668043255806,
          0.01398828811943531,
          0.02764163538813591,
          0.011255527846515179,
          0.03516123816370964,
          0.014629187062382698,
          0.011886115185916424,
          0.01727065071463585,
          0.012639100663363934,
          0.02265138179063797,
          0.021334391087293625,
          0.009505302645266056,
          0.01488617155700922,
          0.014986736699938774,
          0.010428622364997864,
          0.010800058022141457,
          0.01448138989508152,
          0.011874734424054623,
          0.008923093788325787,
          0.019872993230819702,
          0.014677497558295727,
          0.030450278893113136,
          0.02773265913128853,
          0.02388830855488777,
          0.009908005595207214,
          0.009967322461307049,
          0.022235728800296783,
          0.014621835201978683,
          0.019019579514861107,
          0.0076518673449754715,
          0.012874695472419262,
          0.012751155532896519,
          0.022761058062314987,
          0.0199490487575531,
          0.02233024500310421,
          0.02763858437538147,
          0.0237471591681242,
          0.012421910651028156,
          0.0219571590423584,
          0.018548352643847466,
          0.02249864488840103,
          0.008798105642199516,
          0.012598472647368908,
          0.012104787863790989,
          0.02707948349416256,
          0.026879053562879562,
          0.02700931765139103,
          0.01401654165238142,
          0.04294639453291893,
          0.007962765172123909,
          0.020572604611516,
          0.03467203676700592,
          0.02443719655275345,
          0.008068770170211792,
          0.016406428068876266,
          0.009455113671720028,
          0.020723829045891762,
          0.019639382138848305,
          0.011553219519555569,
          0.027247853577136993,
          0.060440629720687866,
          0.017132189124822617,
          0.028173377737402916,
          0.015262266620993614,
          0.013166933320462704,
          0.043813928961753845,
          0.016502391546964645,
          0.012238403782248497,
          0.01536297332495451,
          0.013214601203799248,
          0.009771470911800861,
          0.014669074676930904,
          0.011883610859513283,
          0.008964144624769688,
          0.028476586565375328,
          0.016895350068807602,
          0.024655023589730263,
          0.027884460985660553,
          0.017653560265898705,
          0.0613311342895031,
          0.012064147740602493,
          0.029689230024814606,
          0.013089459389448166,
          0.10230226069688797,
          0.007158529944717884,
          0.031169554218649864,
          0.027378587052226067,
          0.020290322601795197,
          0.047858960926532745,
          0.023337749764323235,
          0.01734287478029728,
          0.014943891204893589,
          0.012120735831558704,
          0.02782336249947548,
          0.009132144041359425,
          0.02656741440296173,
          0.017127687111496925,
          0.024208441376686096,
          0.017839524894952774,
          0.009027322754263878,
          0.009535054676234722,
          0.02975578047335148,
          0.012578566558659077,
          0.015189833007752895,
          0.013269626535475254,
          0.07394307106733322,
          0.015313049778342247,
          0.012946786358952522,
          0.020044513046741486,
          0.0182319525629282,
          0.010069604031741619,
          0.01369908731430769,
          0.01236951444298029,
          0.0204742643982172,
          0.008295600302517414,
          0.008106988854706287,
          0.012327652424573898,
          0.019110720604658127,
          0.02114866115152836,
          0.00726191746070981,
          0.012721295468509197,
          0.018155207857489586,
          0.026337554678320885,
          0.012866362929344177,
          0.02534744329750538,
          0.008990357629954815,
          0.0194228682667017,
          0.0185779370367527,
          0.010269789956510067,
          0.024934090673923492,
          0.014749988913536072,
          0.0219576433300972,
          0.027707884088158607,
          0.024010127410292625,
          0.023027952760457993,
          0.02348257042467594,
          0.007586049847304821,
          0.0678626149892807,
          0.010225939564406872,
          0.01471865177154541,
          0.008847621269524097,
          0.012251376174390316,
          0.05613230541348457,
          0.014412767253816128,
          0.021611288189888,
          0.02535511553287506,
          0.030362337827682495,
          0.011598220095038414,
          0.014502964913845062,
          0.02044511027634144,
          0.02597329206764698,
          0.011624766513705254,
          0.020067650824785233,
          0.00909493863582611,
          0.015325297601521015,
          0.02863403409719467,
          0.014074521139264107,
          0.013198143802583218,
          0.07210083305835724,
          0.01331760361790657,
          0.0515935979783535,
          0.02528960630297661,
          0.024377815425395966,
          0.012793195433914661,
          0.010356476530432701,
          0.024120928719639778,
          0.015318606980144978,
          0.01957402564585209,
          0.02460535801947117,
          0.013105613179504871,
          0.03670976310968399,
          0.01248612068593502,
          0.025616584345698357,
          0.03574679419398308,
          0.015247178263962269,
          0.009328793734312057,
          0.024829620495438576,
          0.009489133022725582,
          0.0070723965764045715,
          0.02362503856420517,
          0.008878800086677074,
          0.013847694732248783,
          0.01869589276611805,
          0.029677895829081535,
          0.014108716510236263,
          0.01003213319927454,
          0.010475444607436657,
          0.027089089155197144,
          0.01268075406551361,
          0.02134391851723194,
          0.014683193527162075,
          0.02455749735236168,
          0.03612050786614418,
          0.010067171417176723,
          0.014929761178791523,
          0.009391249157488346,
          0.028823206201195717,
          0.019219521433115005,
          0.024379272013902664,
          0.01256145816296339,
          0.03934486210346222,
          0.01256826426833868,
          0.01052610669285059,
          0.013058740645647049,
          0.015809964388608932,
          0.013441856950521469,
          0.04770506173372269,
          0.02507137320935726,
          0.02601977251470089,
          0.041723351925611496,
          0.012224330566823483,
          0.00971971359103918,
          0.03346806764602661,
          0.012604243122041225,
          0.027802977710962296,
          0.018321983516216278,
          0.03125770762562752,
          0.01399563904851675,
          0.027520840987563133,
          0.026219306513667107,
          0.007992944680154324,
          0.015703260898590088,
          0.026182003319263458,
          0.010387067683041096,
          0.023335708305239677,
          0.011846007779240608,
          0.018178313970565796,
          0.051474183797836304,
          0.020823301747441292,
          0.015042112208902836,
          0.012219734489917755,
          0.010024839080870152,
          0.022245191037654877,
          0.022659141570329666,
          0.016111912205815315,
          0.010174455121159554,
          0.025858694687485695,
          0.031858332455158234,
          0.012582002207636833,
          0.02775413729250431,
          0.01485683023929596,
          0.021637357771396637,
          0.016237931326031685,
          0.011173893697559834,
          0.013137764297425747,
          0.022914621978998184,
          0.025055790320038795,
          0.008233672007918358,
          0.0346236377954483,
          0.02289995551109314,
          0.010093961842358112,
          0.020782368257641792,
          0.016602281481027603,
          0.05968538671731949,
          0.02075238525867462,
          0.024222997948527336,
          0.020184269174933434,
          0.01328977383673191,
          0.008331658318638802,
          0.021426083520054817,
          0.02862067148089409,
          0.010630648583173752,
          0.017135750502347946,
          0.020345890894532204,
          0.01905312016606331,
          0.009279312565922737,
          0.012514506466686726,
          0.012189767323434353,
          0.012863541021943092,
          0.017410442233085632,
          0.017646921798586845,
          0.013384409248828888,
          0.012010255828499794,
          0.02268621325492859,
          0.021077124401926994,
          0.010519148781895638,
          0.021083887666463852,
          0.053561534732580185,
          0.02283771149814129,
          0.01202378235757351,
          0.012076770886778831,
          0.013825674541294575,
          0.01827169768512249,
          0.015548492781817913,
          0.009260342456400394,
          0.014697292819619179,
          0.013863367028534412,
          0.009040906094014645,
          0.0110469376668334,
          0.069098100066185,
          0.027039596810936928,
          0.02233533188700676,
          0.011131302453577518,
          0.010689829476177692,
          0.04671153798699379,
          0.013598035089671612,
          0.012311695143580437,
          0.010378706268966198,
          0.025065775960683823,
          0.028861790895462036,
          0.016643786802887917,
          0.0196671225130558,
          0.01667608506977558,
          0.0077516199089586735,
          0.012005259282886982,
          0.02406592294573784,
          0.015373979695141315,
          0.055942825973033905,
          0.011912325397133827,
          0.024835215881466866,
          0.016522586345672607,
          0.022344820201396942,
          0.00979745015501976,
          0.017500203102827072,
          0.018698662519454956,
          0.012651504017412663,
          0.024365920573472977,
          0.010887386277318,
          0.013555746525526047,
          0.01455423142760992,
          0.013606349937617779,
          0.010933961719274521,
          0.023573102429509163,
          0.013578885234892368,
          0.023977048695087433,
          0.022039124742150307,
          0.007174999453127384,
          0.0090648727491498,
          0.011816367506980896,
          0.016374295577406883,
          0.009605036117136478,
          0.011828274466097355,
          0.017164945602416992,
          0.016359498724341393,
          0.012059030123054981,
          0.011943641118705273,
          0.009648908860981464,
          0.01169920340180397,
          0.0468132458627224,
          0.01316426508128643,
          0.0214471984654665,
          0.018921591341495514,
          0.008043549954891205,
          0.019035646691918373,
          0.03052128106355667,
          0.058038998395204544,
          0.027964051812887192,
          0.025622811168432236,
          0.015757892280817032,
          0.011121954768896103,
          0.014956203289330006,
          0.046375397592782974,
          0.02050003968179226,
          0.009869351051747799,
          0.010765301994979382,
          0.005844349507242441,
          0.012749681249260902,
          0.012504659593105316,
          0.012415039353072643,
          0.01240978017449379,
          0.01445405837148428,
          0.023385463282465935,
          0.015902630984783173,
          0.024056557565927505,
          0.011725718155503273,
          0.012399225495755672,
          0.009318189695477486,
          0.036402538418769836,
          0.009088113903999329,
          0.010728107765316963,
          0.016393650323152542,
          0.015025833621621132,
          0.02515251934528351,
          0.008772967383265495,
          0.01627519726753235,
          0.011480558663606644,
          0.009471866302192211,
          0.02473301999270916,
          0.014059217646718025,
          0.02605166845023632,
          0.011541414074599743,
          0.07477955520153046,
          0.03074672631919384,
          0.009878084063529968,
          0.009454615414142609,
          0.03024589642882347,
          0.02209709770977497,
          0.03363131731748581,
          0.013992544263601303,
          0.023876210674643517,
          0.03405999019742012,
          0.00962346326559782,
          0.016788838431239128,
          0.0200346689671278,
          0.01963375322520733,
          0.012501854449510574,
          0.013695658184587955,
          0.011215039528906345,
          0.02335304208099842,
          0.0477796234190464,
          0.017498591914772987,
          0.013780895620584488,
          0.01412934996187687,
          0.031893279403448105,
          0.01080868486315012,
          0.00936448946595192,
          0.009080024436116219,
          0.01240401342511177,
          0.027307700365781784,
          0.015162073075771332,
          0.012538004666566849,
          0.030190620571374893,
          0.01851090043783188,
          0.014585178345441818,
          0.009157051332294941,
          0.01314538437873125,
          0.037485264241695404,
          0.02761753648519516,
          0.008480316959321499,
          0.011877098120748997,
          0.016842497512698174,
          0.012682860717177391,
          0.008262301795184612,
          0.03836020827293396,
          0.012007683515548706,
          0.011167904362082481,
          0.019773855805397034,
          0.017140207812190056,
          0.029185360297560692,
          0.03026258945465088,
          0.01067367848008871,
          0.011438940651714802,
          0.017760271206498146,
          0.01725967787206173,
          0.007406636606901884,
          0.02073751576244831,
          0.020860623568296432,
          0.01210254617035389,
          0.010955783538520336,
          0.010990639217197895,
          0.01835453510284424,
          0.008103752508759499,
          0.012647755444049835,
          0.032970309257507324,
          0.03179901838302612,
          0.017277242615818977,
          0.021755900233983994,
          0.01227050181478262,
          0.01466207206249237,
          0.013124064542353153,
          0.010653347708284855,
          0.010911466553807259,
          0.013296940363943577,
          0.008293911814689636,
          0.03602954372763634,
          0.020207593217492104,
          0.01002421509474516,
          0.018787631765007973,
          0.009758404456079006,
          0.017386090010404587,
          0.012756075710058212,
          0.0803946703672409,
          0.007332249078899622,
          0.0116503881290555,
          0.030689546838402748,
          0.031000273302197456,
          0.01833254098892212,
          0.043755561113357544,
          0.01151239313185215,
          0.008712485432624817,
          0.012364144437015057,
          0.010551312007009983,
          0.02927418425679207,
          0.010975418612360954,
          0.04710444062948227,
          0.008378861472010612,
          0.02124030515551567,
          0.017620105296373367,
          0.02215351164340973,
          0.0515139140188694,
          0.023531347513198853,
          0.02942461334168911,
          0.014808453619480133,
          0.029084093868732452,
          0.008820784278213978,
          0.02875184640288353,
          0.010127752088010311,
          0.016485100612044334,
          0.02223777025938034,
          0.012387990951538086,
          0.03114626742899418,
          0.0159751083701849,
          0.018697010353207588,
          0.007928402163088322,
          0.013796650804579258,
          0.014978006482124329,
          0.01934843324124813,
          0.022972146049141884,
          0.03852812200784683,
          0.02234063856303692,
          0.009518541395664215,
          0.019169500097632408,
          0.018538743257522583,
          0.011876259930431843,
          0.013614680618047714,
          0.01451442763209343,
          0.01608705148100853,
          0.008788730017840862,
          0.008793655782938004,
          0.027132827788591385,
          0.010401281528174877,
          0.021775610744953156,
          0.01016183290630579,
          0.008618189953267574,
          0.037019629031419754,
          0.023801779374480247,
          0.013073556125164032,
          0.011011870577931404,
          0.02354424260556698,
          0.010745168663561344,
          0.008700770325958729,
          0.011877882294356823,
          0.0632626935839653,
          0.031952183693647385,
          0.0295335054397583,
          0.02198600023984909,
          0.02450968138873577,
          0.012716446071863174,
          0.026539891958236694,
          0.012094499543309212,
          0.010393846780061722,
          0.00894080102443695,
          0.031096410006284714,
          0.016095919534564018,
          0.007841777056455612,
          0.015009966678917408,
          0.06300633400678635,
          0.018477797508239746,
          0.029109185561537743,
          0.07886980473995209,
          0.016950009390711784,
          0.00890432856976986,
          0.012341237626969814,
          0.018298277631402016,
          0.0155210355296731,
          0.07786420732736588,
          0.024797827005386353,
          0.014482099562883377,
          0.03290993720293045,
          0.012189834378659725,
          0.029729556292295456,
          0.02566586621105671,
          0.047903142869472504,
          0.03079787641763687,
          0.012550733983516693,
          0.013353465124964714,
          0.01941792294383049,
          0.02711094170808792,
          0.01158210076391697,
          0.0616537444293499,
          0.010513585060834885,
          0.022326776757836342,
          0.02247839979827404,
          0.02522430010139942,
          0.013663601130247116,
          0.036477942019701004,
          0.014201504178345203,
          0.012820321135222912,
          0.0260757002979517,
          0.014235008507966995,
          0.012187318876385689,
          0.022527819499373436,
          0.012622937560081482,
          0.012559407390654087,
          0.012630253098905087,
          0.00903808418661356,
          0.016114788129925728,
          0.015892691910266876,
          0.010098597966134548,
          0.01194735337048769,
          0.010260431095957756,
          0.015972625464200974,
          0.020849153399467468,
          0.019541282206773758,
          0.01853916421532631,
          0.007897858507931232,
          0.013984721153974533,
          0.009404686279594898,
          0.007157944608479738,
          0.012147029861807823,
          0.01209295354783535,
          0.012766405008733273,
          0.018133224919438362,
          0.011242784559726715,
          0.015269255265593529,
          0.013627015054225922,
          0.021452007815241814,
          0.016155386343598366,
          0.018922312185168266,
          0.02620728500187397,
          0.01766839064657688,
          0.014563897624611855,
          0.020971005782485008,
          0.02454652637243271,
          0.03007473610341549,
          0.021603353321552277,
          0.05098985135555267,
          0.02995738387107849,
          0.02866971865296364,
          0.023953527212142944,
          0.014621253125369549,
          0.020947936922311783,
          0.0259736068546772,
          0.01950659044086933,
          0.025615839287638664,
          0.026500340551137924,
          0.03429785370826721,
          0.01812572218477726,
          0.012481089681386948,
          0.010450371541082859,
          0.02388572320342064,
          0.029057832434773445,
          0.014829101040959358,
          0.02666698396205902,
          0.021250231191515923,
          0.013024567626416683,
          0.01145494356751442,
          0.021522458642721176,
          0.011262915097177029,
          0.023883497342467308,
          0.01269143633544445,
          0.016545407474040985,
          0.023668712005019188,
          0.025045856833457947,
          0.026547132059931755,
          0.025964926928281784,
          0.010489149950444698,
          0.009998363442718983,
          0.02451574057340622,
          0.01082427054643631,
          0.016683444380760193,
          0.012528657913208008,
          0.03600822016596794,
          0.025316327810287476,
          0.01911490224301815,
          0.008359894156455994,
          0.01847097836434841,
          0.015354146249592304,
          0.013022799976170063,
          0.012033924460411072,
          0.006415165960788727,
          0.025725215673446655,
          0.014810490421950817,
          0.02934092842042446,
          0.009474294260144234,
          0.025130005553364754,
          0.011253060773015022,
          0.018030237406492233,
          0.027565935626626015,
          0.028843866661190987,
          0.016092106699943542,
          0.02564091607928276,
          0.02156936377286911,
          0.01507300790399313,
          0.019347837194800377,
          0.009531747549772263,
          0.006792791187763214,
          0.010699364356696606,
          0.016748860478401184,
          0.018044287338852882,
          0.016159413382411003,
          0.03310873731970787,
          0.022520210593938828,
          0.023121008649468422,
          0.016882406547665596,
          0.013074337504804134,
          0.025453386828303337,
          0.008962704800069332,
          0.012484963051974773,
          0.0248569343239069,
          0.009655425325036049,
          0.020447485148906708,
          0.01893748715519905,
          0.029557064175605774,
          0.040158770978450775,
          0.008742614649236202,
          0.03316137194633484,
          0.013415147550404072,
          0.01059578824788332,
          0.010321486741304398,
          0.011348183266818523,
          0.012435459531843662,
          0.02344929613173008,
          0.010435791686177254,
          0.012574797496199608,
          0.02606329508125782,
          0.021655123680830002,
          0.014709425158798695,
          0.016991624608635902,
          0.009703430347144604,
          0.024753402918577194,
          0.013715729117393494,
          0.013404333032667637,
          0.012691136449575424,
          0.019840598106384277,
          0.023754296824336052,
          0.04965480417013168,
          0.017656290903687477,
          0.022269200533628464,
          0.009680667892098427,
          0.023434557020664215,
          0.01520185824483633,
          0.05829266086220741,
          0.015455936081707478,
          0.012111482210457325,
          0.03136438876390457,
          0.008984916843473911,
          0.025150388479232788,
          0.014314910396933556,
          0.025387002155184746,
          0.02273079752922058,
          0.03635360300540924,
          0.016786644235253334,
          0.009028381668031216,
          0.034596748650074005,
          0.021234778687357903,
          0.02830888330936432,
          0.03150107339024544,
          0.009652727283537388,
          0.02494294010102749,
          0.012003254145383835,
          0.02416394092142582,
          0.028037836775183678,
          0.028459306806325912,
          0.018168503418564796,
          0.025954805314540863,
          0.027225127443671227,
          0.027581609785556793,
          0.020477738231420517,
          0.010027601383626461,
          0.023996829986572266,
          0.009672448970377445,
          0.01205478422343731,
          0.011223639361560345,
          0.010769695974886417,
          0.031824808567762375,
          0.018302064388990402,
          0.033449433743953705,
          0.022266456857323647,
          0.022233448922634125,
          0.00810818187892437,
          0.01443833764642477,
          0.023339925333857536,
          0.023591281846165657,
          0.014286596328020096,
          0.01069097314029932,
          0.007616547867655754,
          0.007902508601546288,
          0.028899673372507095,
          0.02151361107826233,
          0.0168297216296196,
          0.03527681529521942,
          0.013105359859764576,
          0.0099649578332901,
          0.01237080805003643,
          0.01608109101653099,
          0.0067250388674438,
          0.018631264567375183,
          0.010921948589384556,
          0.01450415700674057,
          0.01435675099492073,
          0.021493369713425636,
          0.009199697524309158,
          0.01931394636631012,
          0.029060274362564087,
          0.016056068241596222,
          0.01383641455322504,
          0.03254500776529312,
          0.013912678696215153,
          0.011238290928304195,
          0.026913227513432503,
          0.009822259657084942,
          0.012688877061009407,
          0.015672028064727783,
          0.02374785952270031,
          0.016010640189051628,
          0.012484010308980942,
          0.014939519576728344,
          0.01548523735255003,
          0.02458140254020691,
          0.06074105575680733,
          0.013848616741597652,
          0.03057488054037094,
          0.009453156031668186,
          0.010740331374108791,
          0.008633583784103394,
          0.027356158941984177,
          0.017546091228723526,
          0.026521848514676094,
          0.039576396346092224,
          0.018579864874482155,
          0.016951391473412514,
          0.013585519976913929,
          0.024712225422263145,
          0.03523065522313118,
          0.020952709019184113,
          0.0660034641623497,
          0.017444096505641937,
          0.011211452074348927,
          0.011385048739612103,
          0.011369036510586739,
          0.03081967495381832,
          0.014816835522651672,
          0.010414205491542816,
          0.02550019882619381,
          0.014983830973505974,
          0.02572569251060486,
          0.018573585897684097,
          0.06970882415771484,
          0.025802304968237877,
          0.009770778007805347,
          0.02899160049855709,
          0.011642509140074253,
          0.025586852803826332,
          0.011194203048944473,
          0.009576521813869476,
          0.014612088911235332,
          0.01315114926546812,
          0.015102526172995567,
          0.01578279212117195,
          0.05917435884475708,
          0.043559569865465164,
          0.014304781332612038,
          0.012640791945159435,
          0.03588687628507614,
          0.011957709677517414,
          0.02459830977022648,
          0.016483141109347343,
          0.016949186101555824,
          0.019500380381941795,
          0.02325606159865856,
          0.010158177465200424,
          0.03727692365646362,
          0.011101644486188889,
          0.010730801150202751,
          0.014510448090732098,
          0.012744576670229435,
          0.030962606891989708,
          0.011249368079006672,
          0.01925591379404068,
          0.028393084183335304,
          0.008147899992763996,
          0.02145300805568695,
          0.015034094452857971,
          0.02215350605547428,
          0.09309094399213791,
          0.02072175405919552,
          0.037517063319683075,
          0.02137911319732666,
          0.020784765481948853,
          0.011349715292453766,
          0.009724853560328484,
          0.011949603445827961,
          0.031857382506132126,
          0.018112167716026306,
          0.0518997497856617,
          0.01263402495533228,
          0.0617825984954834,
          0.012713943608105183,
          0.022995993494987488,
          0.03403012454509735,
          0.01421231497079134,
          0.02239415980875492,
          0.009627633728086948,
          0.011198115535080433,
          0.019178513437509537,
          0.015109162777662277,
          0.020656516775488853,
          0.018794434145092964,
          0.015777435153722763,
          0.01023129466921091,
          0.02126571163535118,
          0.022208916023373604,
          0.013316262513399124,
          0.06227940693497658,
          0.025086332112550735,
          0.03022018074989319,
          0.032268352806568146,
          0.029181020334362984,
          0.019662154838442802,
          0.07275329530239105,
          0.020938996225595474,
          0.012309486046433449,
          0.009121176786720753,
          0.009122077375650406,
          0.011007850058376789,
          0.01400159765034914,
          0.01473113801330328,
          0.008968573063611984,
          0.021780503913760185,
          0.014276787638664246,
          0.013100401498377323,
          0.012446800246834755,
          0.017560144886374474,
          0.029860738664865494,
          0.03213853761553764,
          0.012165271677076817,
          0.037115614861249924,
          0.025138579308986664,
          0.0265821386128664,
          0.01477414183318615,
          0.05799000710248947,
          0.01274771336466074,
          0.025549083948135376,
          0.0133357560262084,
          0.018913034349679947,
          0.009206448681652546,
          0.015403708443045616,
          0.03936363756656647,
          0.012388342060148716,
          0.025229960680007935,
          0.011833607219159603,
          0.010226831771433353,
          0.02062208577990532,
          0.01182597503066063,
          0.023681849241256714,
          0.012618039734661579,
          0.015801234170794487,
          0.020144760608673096,
          0.014189457520842552,
          0.018963400274515152,
          0.014600149355828762,
          0.013661196455359459,
          0.020845022052526474,
          0.010849939659237862,
          0.015046261250972748,
          0.023274777457118034,
          0.014320340938866138,
          0.035647280514240265,
          0.019713008776307106,
          0.0158469770103693,
          0.013831491582095623,
          0.024515746161341667,
          0.012340332381427288,
          0.021469024941325188,
          0.045119497925043106,
          0.021993540227413177,
          0.03241325914859772,
          0.026014799252152443,
          0.012459873221814632,
          0.025989234447479248,
          0.011069584637880325,
          0.035498715937137604,
          0.014867845922708511,
          0.027907755225896835,
          0.028255416080355644,
          0.020577499642968178,
          0.013476911932229996,
          0.014583817683160305,
          0.013891080394387245,
          0.015986811369657516,
          0.015799041837453842,
          0.015106807462871075,
          0.030513878911733627,
          0.03371788188815117,
          0.011773686856031418,
          0.019505267962813377,
          0.012683001346886158,
          0.01158631220459938,
          0.00804067961871624,
          0.0264144130051136,
          0.015676312148571014,
          0.011493816040456295,
          0.023264748975634575,
          0.02456722967326641,
          0.016521677374839783,
          0.016668519005179405,
          0.018528630957007408,
          0.018983300775289536,
          0.008072343654930592,
          0.01982535608112812,
          0.011846561916172504,
          0.033290162682533264,
          0.0405205674469471,
          0.037740688771009445,
          0.011288424953818321,
          0.012204363010823727,
          0.006815647706389427,
          0.014772694557905197,
          0.05230318009853363,
          0.013983621262013912,
          0.015426432713866234,
          0.009604331105947495,
          0.024183005094528198,
          0.013075890950858593,
          0.01680923067033291,
          0.014404933899641037,
          0.04254835098981857,
          0.016167372465133667,
          0.020183168351650238,
          0.026347381994128227,
          0.02616550587117672,
          0.010808671824634075,
          0.014087689109146595,
          0.015727803111076355,
          0.01401843037456274,
          0.014780771918594837,
          0.01140694972127676,
          0.03150218725204468,
          0.015789223834872246,
          0.024998119100928307,
          0.031219789758324623,
          0.021011773496866226,
          0.022767886519432068,
          0.026052018627524376,
          0.012705301865935326,
          0.008765149861574173,
          0.008185242302715778,
          0.013320696540176868,
          0.025706442072987556,
          0.07524223625659943,
          0.009702878072857857,
          0.016312992200255394,
          0.032908983528614044,
          0.013794110156595707,
          0.015873728320002556,
          0.012261107563972473,
          0.019432885572314262,
          0.007593466434627771,
          0.025277143344283104,
          0.015560979954898357,
          0.013906871899962425,
          0.013890651054680347,
          0.008280239999294281,
          0.010263612493872643,
          0.02374204993247986,
          0.009712569415569305,
          0.010547787882387638,
          0.009742229245603085,
          0.006663071922957897,
          0.011528357863426208,
          0.04113038629293442,
          0.061480775475502014,
          0.023866793140769005,
          0.021887928247451782,
          0.02852202020585537,
          0.015067304484546185,
          0.013390040956437588,
          0.01232249103486538,
          0.009288960136473179,
          0.017086172476410866,
          0.008737553842365742,
          0.026707161217927933,
          0.023353056982159615,
          0.028173303231596947,
          0.02498238906264305,
          0.01408139243721962,
          0.01041581854224205,
          0.011372173205018044,
          0.011260583065450191,
          0.014606189914047718,
          0.034019697457551956,
          0.020570559427142143,
          0.027555452659726143,
          0.02667659893631935,
          0.018062803894281387,
          0.009738107211887836,
          0.015048871748149395,
          0.01973073184490204,
          0.021591370925307274,
          0.014772357419133186,
          0.08850369602441788,
          0.021197117865085602,
          0.01915271207690239,
          0.006711750291287899,
          0.02641461417078972,
          0.014704329892992973,
          0.019017094746232033,
          0.012771975249052048,
          0.01292736828327179,
          0.014442690648138523,
          0.013330597430467606,
          0.023114850744605064,
          0.027131306007504463,
          0.01633981615304947,
          0.03202752396464348,
          0.011867724359035492,
          0.011548874899744987,
          0.017386505380272865,
          0.011113380081951618,
          0.026044007390737534,
          0.013367450796067715,
          0.014018879272043705,
          0.028253253549337387,
          0.012765109539031982,
          0.010332777164876461,
          0.006783161778002977,
          0.014460808597505093,
          0.014379392378032207,
          0.025322427973151207,
          0.014619044028222561,
          0.025258967652916908,
          0.008837584406137466,
          0.015259099192917347,
          0.011064407415688038,
          0.010397456586360931,
          0.012628007680177689,
          0.02259456366300583,
          0.023276882246136665,
          0.009432788006961346,
          0.024877384305000305,
          0.021047379821538925,
          0.01708892360329628,
          0.027105001732707024,
          0.007655564229935408,
          0.011658319272100925,
          0.032909173518419266,
          0.013476026244461536,
          0.014558911323547363,
          0.02389015257358551,
          0.014684208668768406,
          0.02304173819720745,
          0.025646353140473366,
          0.010343845002353191,
          0.013743056915700436,
          0.010602111928164959,
          0.010542700998485088,
          0.02713366225361824,
          0.015799004584550858,
          0.019830819219350815,
          0.018728576600551605,
          0.010807747952640057,
          0.02172991633415222,
          0.023217882961034775,
          0.009592999704182148,
          0.012340201996266842,
          0.01823713444173336,
          0.015667369589209557,
          0.015284768305718899,
          0.011417862959206104,
          0.02420782297849655,
          0.007913986220955849,
          0.01943599246442318,
          0.03207312896847725,
          0.014920555055141449,
          0.012667803093791008,
          0.015939518809318542,
          0.00847556535154581,
          0.021002406254410744,
          0.06404520571231842,
          0.04549296200275421,
          0.029748674482107162,
          0.017590869218111038,
          0.01164234895259142,
          0.014588865451514721,
          0.013559293933212757,
          0.022491425275802612,
          0.013359290547668934,
          0.021048374474048615,
          0.025469502434134483,
          0.014518514275550842,
          0.015027957037091255,
          0.008715094067156315,
          0.017154479399323463,
          0.018517296761274338,
          0.016137825325131416,
          0.01095604244619608,
          0.018521185964345932,
          0.008849948644638062,
          0.017687968909740448,
          0.015703169628977776,
          0.021068694069981575,
          0.04362562671303749,
          0.010907484218478203,
          0.047895096242427826,
          0.05886084586381912,
          0.027125688269734383,
          0.03158702701330185,
          0.016443932428956032,
          0.01302733737975359,
          0.012963048182427883,
          0.01612796075642109,
          0.012872372753918171,
          0.011978689581155777,
          0.014434810727834702,
          0.019321709871292114,
          0.02661016397178173,
          0.022462449967861176,
          0.012279551476240158,
          0.07935652136802673,
          0.015082025900483131,
          0.024967240169644356,
          0.009328223764896393,
          0.010485059581696987,
          0.02614288404583931,
          0.007597682997584343,
          0.015100857242941856,
          0.015755997970700264,
          0.02989775873720646,
          0.022028693929314613,
          0.011065351776778698,
          0.05770871415734291,
          0.02112041972577572,
          0.026856286451220512,
          0.02162657491862774,
          0.013728191144764423,
          0.012100355699658394,
          0.015039668418467045,
          0.01746559888124466,
          0.025862058624625206,
          0.013216867111623287,
          0.015566745772957802,
          0.01108813937753439,
          0.011689365841448307,
          0.02828732505440712,
          0.013554706238210201,
          0.02263878472149372,
          0.019222917035222054,
          0.011963209137320518,
          0.011399085633456707,
          0.022673526778817177,
          0.09613113850355148,
          0.06508457660675049,
          0.035328641533851624,
          0.029546989127993584,
          0.022316422313451767,
          0.021288534626364708,
          0.011746672913432121,
          0.01846945285797119,
          0.012990574352443218,
          0.02598295547068119,
          0.03609658405184746,
          0.03260810673236847,
          0.01674986444413662,
          0.02034401334822178,
          0.010214151814579964,
          0.01894599013030529,
          0.02030359022319317,
          0.023154035210609436,
          0.0273912250995636,
          0.01775517500936985,
          0.013806942850351334,
          0.023952879011631012,
          0.009998844005167484,
          0.014115296304225922,
          0.013467798940837383,
          0.014357110485434532,
          0.03345687687397003,
          0.016321122646331787,
          0.018528511747717857,
          0.02174055390059948,
          0.015832887962460518,
          0.012951881624758244,
          0.01967764087021351,
          0.02825992926955223,
          0.0298579391092062,
          0.012145737186074257,
          0.009602388367056847,
          0.020612260326743126,
          0.02533229999244213,
          0.009074494242668152,
          0.03208848088979721,
          0.012765968218445778,
          0.011081863194704056,
          0.012778191827237606,
          0.01211467757821083,
          0.011000055819749832,
          0.02301679737865925,
          0.01559325773268938,
          0.008802765049040318,
          0.012900544330477715,
          0.018870916217565536,
          0.009573920629918575,
          0.009818182326853275,
          0.01571008376777172,
          0.021089712157845497,
          0.02385278418660164,
          0.024965249001979828,
          0.01105275098234415,
          0.008982938714325428,
          0.016190217807888985,
          0.014232117682695389,
          0.024275677278637886,
          0.02741231769323349,
          0.0077127013355493546,
          0.013045268133282661,
          0.026661327108740807,
          0.011206432245671749,
          0.0170642901211977,
          0.014950012788176537,
          0.009475905448198318,
          0.017478913068771362,
          0.017329586669802666,
          0.012515977025032043,
          0.019516596570611,
          0.015264805406332016,
          0.010803277604281902,
          0.06155272200703621,
          0.026265256106853485,
          0.031707800924777985,
          0.023526618257164955,
          0.011776678264141083,
          0.026598172262310982,
          0.011951681226491928,
          0.04657556861639023,
          0.012163008563220501,
          0.026750463992357254,
          0.0107622891664505,
          0.021437805145978928,
          0.0100063132122159,
          0.010955150239169598,
          0.05057797580957413,
          0.01564706303179264,
          0.018982237204909325,
          0.011900141835212708,
          0.018293343484401703,
          0.023094994947314262,
          0.020906710997223854,
          0.01002977229654789,
          0.024406244978308678,
          0.024734998121857643,
          0.019955819472670555,
          0.02690817229449749,
          0.024561339989304543,
          0.017008299008011818,
          0.012691494077444077,
          0.028044557198882103,
          0.013580378144979477,
          0.012615826912224293,
          0.022297602146863937,
          0.011083663441240788,
          0.010864254087209702,
          0.018499072641134262,
          0.049196548759937286,
          0.021639671176671982,
          0.017856411635875702,
          0.01468483917415142,
          0.011599265038967133,
          0.013699844479560852,
          0.03419439494609833,
          0.014079819433391094,
          0.009561380371451378,
          0.013353146612644196,
          0.05826907977461815,
          0.02584206685423851,
          0.015435539186000824,
          0.040192198008298874,
          0.020262224599719048,
          0.014354499988257885,
          0.011574392206966877,
          0.01051387283951044,
          0.013189632445573807,
          0.011885493993759155,
          0.012471443973481655,
          0.013435067608952522,
          0.011842242442071438,
          0.009178809821605682,
          0.011412093415856361,
          0.026493843644857407,
          0.012924217619001865,
          0.03320655599236488,
          0.013175517320632935,
          0.024400964379310608,
          0.00911340769380331,
          0.013057706877589226,
          0.024443361908197403,
          0.02137037366628647,
          0.013616684824228287,
          0.012564219534397125,
          0.016699524596333504,
          0.030494043603539467,
          0.013555935584008694,
          0.026797128841280937,
          0.02067107893526554,
          0.013763055205345154,
          0.012188886292278767,
          0.02192140556871891,
          0.03660902380943298,
          0.011867746710777283,
          0.019483329728245735,
          0.009964273311197758,
          0.02779540978372097,
          0.024890094995498657,
          0.03531859070062637,
          0.016836481168866158,
          0.010737769305706024,
          0.020438704639673233,
          0.016710909083485603,
          0.01710938848555088,
          0.012771520763635635,
          0.029079684987664223,
          0.01882636360824108,
          0.013472618535161018,
          0.013754988089203835,
          0.025975964963436127,
          0.01355375349521637,
          0.012503311038017273,
          0.00741217378526926,
          0.013825290836393833,
          0.02499770186841488,
          0.0254056379199028,
          0.018962856382131577,
          0.013446824625134468,
          0.013174934312701225,
          0.01767042838037014,
          0.030200641602277756,
          0.008362941443920135,
          0.007504431065171957,
          0.024329811334609985,
          0.010023483075201511,
          0.011739099398255348,
          0.009468350559473038,
          0.016182193532586098,
          0.02600995823740959,
          0.0234710481017828,
          0.013212457299232483,
          0.014342207461595535,
          0.02762754261493683,
          0.06525826454162598,
          0.02197817899286747,
          0.012552822008728981,
          0.019223155453801155,
          0.018977463245391846,
          0.012654653750360012,
          0.024970892816781998,
          0.00797111727297306,
          0.00804282259196043,
          0.012188619934022427,
          0.01757609099149704,
          0.010052538476884365,
          0.013044440187513828,
          0.010630530305206776,
          0.011848381720483303,
          0.00851796567440033,
          0.015942150726914406,
          0.009773556143045425,
          0.028793590143322945,
          0.01647404208779335,
          0.026859179139137268,
          0.01938452385365963,
          0.011780418455600739,
          0.012794488109648228,
          0.032406553626060486,
          0.022127682343125343,
          0.028227338567376137,
          0.012300312519073486,
          0.028070343658328056,
          0.01863393932580948,
          0.024906614795327187,
          0.027030518278479576,
          0.01859961822628975,
          0.00821509025990963,
          0.01102762296795845,
          0.014941750094294548,
          0.020096121355891228,
          0.01732058823108673,
          0.03372638672590256,
          0.007813719101250172,
          0.013064210303127766,
          0.014216005802154541,
          0.07712036371231079,
          0.03292718157172203,
          0.05734904110431671,
          0.01772204227745533,
          0.029244307428598404,
          0.025425774976611137,
          0.010186203755438328,
          0.02225639298558235,
          0.01785930246114731,
          0.023306196555495262,
          0.026955949142575264,
          0.027949417009949684,
          0.011457884684205055,
          0.021062025800347328,
          0.013634786009788513,
          0.021088240668177605,
          0.009627901017665863,
          0.01217461097985506,
          0.01699177175760269,
          0.010696366429328918,
          0.011508042924106121,
          0.012149648740887642,
          0.0624680332839489,
          0.023557234555482864,
          0.015646182000637054,
          0.029662448912858963,
          0.01819189265370369,
          0.011309116147458553,
          0.009361622855067253,
          0.023737868294119835,
          0.009020949713885784,
          0.033511243760585785,
          0.010950098745524883,
          0.015400423668324947,
          0.012833939865231514,
          0.02482408657670021,
          0.029949218034744263,
          0.01442661415785551,
          0.008596815168857574,
          0.02443261817097664,
          0.013510885648429394,
          0.02618635632097721,
          0.010415932163596153,
          0.02236396260559559,
          0.012664759531617165,
          0.013417480513453484,
          0.012532924301922321,
          0.01211877167224884,
          0.013549713417887688,
          0.02123861387372017,
          0.02137346938252449,
          0.026424773037433624,
          0.09324679523706436,
          0.018530890345573425,
          0.009422908537089825,
          0.014966728165745735,
          0.017423223704099655,
          0.021097376942634583,
          0.026645367965102196,
          0.03497762978076935,
          0.016058096662163734,
          0.008922752924263477,
          0.008345542475581169,
          0.02828642725944519,
          0.028226319700479507,
          0.015355502255260944,
          0.019338879734277725,
          0.0086972052231431,
          0.008249196223914623,
          0.013574555516242981,
          0.009681264869868755,
          0.020468896254897118,
          0.02425321377813816,
          0.012778551317751408,
          0.0142329977825284,
          0.010316829197108746,
          0.016318073496222496,
          0.012794087640941143,
          0.03089524619281292,
          0.02195228636264801,
          0.01319162268191576,
          0.013693705201148987,
          0.02235294319689274,
          0.013136858120560646,
          0.016426077112555504,
          0.013776457868516445,
          0.011030404828488827,
          0.010069027543067932,
          0.007876607589423656,
          0.024174848571419716,
          0.011839110404253006,
          0.013209999538958073,
          0.023519206792116165,
          0.010531212203204632,
          0.019371986389160156,
          0.05040616914629936,
          0.01850360818207264,
          0.054766226559877396,
          0.08018191158771515,
          0.013952392153441906,
          0.012475737370550632,
          0.011961220763623714,
          0.022727709263563156,
          0.025041671469807625,
          0.06463873386383057,
          0.009750462137162685,
          0.02087542414665222,
          0.007129155099391937,
          0.01634521782398224,
          0.014436119236052036,
          0.013271752744913101,
          0.009371517226099968,
          0.011716676875948906,
          0.037878960371017456,
          0.010206790640950203,
          0.013504606671631336,
          0.009143471717834473,
          0.009397943504154682,
          0.02768927998840809,
          0.01869248040020466,
          0.015397659502923489,
          0.04135455563664436,
          0.03333677724003792,
          0.02119380794465542,
          0.009939078241586685,
          0.01326203253120184,
          0.01855272427201271,
          0.024362633004784584,
          0.02269606664776802,
          0.026308538392186165,
          0.011665361933410168,
          0.011167345568537712,
          0.00942093413323164,
          0.009797398000955582,
          0.014745716005563736,
          0.02053198590874672,
          0.02208688296377659,
          0.008788908831775188,
          0.009250618517398834,
          0.014034836553037167,
          0.045054513961076736,
          0.025647064670920372,
          0.015322417952120304,
          0.010770102962851524,
          0.020474303513765335,
          0.01593090407550335,
          0.016636425629258156,
          0.031749263405799866,
          0.012832734733819962,
          0.017507629469037056,
          0.02432061918079853,
          0.014034466817975044,
          0.019928354769945145,
          0.025777464732527733,
          0.028000792488455772,
          0.010297739878296852,
          0.011450160294771194,
          0.021922172978520393,
          0.026090454310178757,
          0.014781481586396694,
          0.016370864585042,
          0.029160363599658012,
          0.012033656239509583,
          0.020419633015990257,
          0.02608749270439148,
          0.012554284185171127,
          0.011525287292897701,
          0.011962675489485264,
          0.008923579007387161,
          0.02010032720863819,
          0.013393509201705456,
          0.03880785033106804,
          0.012116558849811554,
          0.012478793039917946,
          0.008587862364947796,
          0.029374850913882256,
          0.013259689323604107,
          0.012360443361103535,
          0.010013272054493427,
          0.01819608546793461,
          0.01146603561937809,
          0.0256861113011837,
          0.05085122585296631,
          0.011958178132772446,
          0.023820724338293076,
          0.01255402248352766,
          0.07038885354995728,
          0.03607812151312828,
          0.009864258579909801,
          0.00870998203754425,
          0.024347567930817604,
          0.020851530134677887,
          0.02616087719798088,
          0.020289646461606026,
          0.022665491327643394,
          0.044759102165699005,
          0.018025504425168037,
          0.034314125776290894,
          0.03227967396378517,
          0.023772023618221283,
          0.02985299564898014,
          0.00890445802360773,
          0.024957196786999702,
          0.040201980620622635,
          0.01408652774989605,
          0.023301567882299423,
          0.02193501591682434,
          0.010350922122597694,
          0.015454006381332874,
          0.01782175526022911,
          0.01709708385169506,
          0.03233100473880768,
          0.017660096287727356,
          0.01966063678264618,
          0.015619957819581032,
          0.011618982069194317,
          0.012620622292160988,
          0.013298764824867249,
          0.023881154134869576,
          0.010956637561321259,
          0.030699601396918297,
          0.013956442475318909,
          0.04318629205226898,
          0.014365479350090027,
          0.023633122444152832,
          0.014609716832637787,
          0.011516834609210491,
          0.0451476089656353,
          0.05857814475893974,
          0.017857449129223824,
          0.02019028179347515,
          0.009559611789882183,
          0.020571207627654076,
          0.01565944217145443,
          0.015136417001485825,
          0.01574215479195118,
          0.011809769086539745,
          0.01595981791615486,
          0.010337482206523418,
          0.015817442908883095,
          0.017533879727125168,
          0.010217503644526005,
          0.01971992291510105,
          0.011529379524290562,
          0.016603894531726837,
          0.008368179202079773,
          0.01871456950902939,
          0.010167453438043594,
          0.015354548580944538,
          0.013837769627571106,
          0.0072030373848974705,
          0.02389819547533989,
          0.010430271737277508,
          0.01004781387746334,
          0.018704677000641823,
          0.012206895276904106,
          0.024304388090968132,
          0.01433505117893219,
          0.012903022579848766,
          0.019006680697202682,
          0.023100676015019417,
          0.02295597642660141,
          0.021221091970801353,
          0.010856090113520622,
          0.010451345704495907,
          0.009051200933754444,
          0.015925545245409012,
          0.024339016526937485,
          0.011747458949685097,
          0.014268612489104271,
          0.013041642494499683,
          0.02150464989244938,
          0.022298259660601616,
          0.02679373510181904,
          0.021204283460974693,
          0.015133043751120567,
          0.0139266112819314,
          0.012261389754712582,
          0.01682445779442787,
          0.02509181760251522,
          0.011094450950622559,
          0.00597343361005187,
          0.017070183530449867,
          0.010225186124444008,
          0.006159922108054161,
          0.011938407085835934,
          0.025478865951299667,
          0.013939827680587769,
          0.021506022661924362,
          0.011485462076961994,
          0.008462373167276382,
          0.025088010355830193,
          0.028573423624038696,
          0.013274447992444038,
          0.01650807075202465,
          0.008515619672834873,
          0.02882552146911621,
          0.026599248871207237,
          0.02328408882021904,
          0.011580511927604675,
          0.012825408019125462,
          0.02333054505288601,
          0.030241260305047035,
          0.026823237538337708,
          0.06320548057556152,
          0.025190463289618492,
          0.018930085003376007,
          0.013933987356722355,
          0.014935493469238281,
          0.020465601235628128,
          0.018417567014694214,
          0.012019066140055656,
          0.02501179836690426,
          0.014926476404070854,
          0.025628408417105675,
          0.01053830236196518,
          0.07016457617282867,
          0.022146061062812805,
          0.00872838869690895,
          0.010634529404342175,
          0.046322621405124664,
          0.014130647294223309,
          0.026883738115429878,
          0.017098991200327873,
          0.012698731385171413,
          0.01636071689426899,
          0.021845955401659012,
          0.010519805364310741,
          0.009432710707187653,
          0.014849845319986343,
          0.04907495155930519,
          0.009377853944897652,
          0.02672846056520939,
          0.009192056953907013,
          0.016616640612483025,
          0.011098206043243408,
          0.011221949942409992,
          0.009889633394777775,
          0.024327227845788002,
          0.013369348831474781,
          0.01825800910592079,
          0.016744112595915794,
          0.015370274893939495,
          0.02435845136642456,
          0.01874343492090702,
          0.01994066685438156,
          0.013680174946784973,
          0.02080715447664261,
          0.023572556674480438,
          0.029652561992406845,
          0.01951327733695507,
          0.01403640117496252,
          0.01334147248417139,
          0.02853531949222088,
          0.009568796493113041,
          0.023775270208716393,
          0.016798987984657288,
          0.05661166459321976,
          0.011897798627614975,
          0.023006344214081764,
          0.057089585810899734,
          0.021598856896162033,
          0.00903864111751318,
          0.026813112199306488,
          0.04482109844684601,
          0.046144209802150726,
          0.014418295584619045,
          0.015270309522747993,
          0.056193966418504715,
          0.010818866081535816,
          0.01148796547204256,
          0.010266885161399841,
          0.018130876123905182,
          0.024439500644803047,
          0.019608575850725174,
          0.027814941480755806,
          0.012258872389793396,
          0.04875512048602104,
          0.009395591914653778,
          0.02419431135058403,
          0.015051926486194134,
          0.018844740465283394,
          0.024498717859387398,
          0.007829121313989162,
          0.02143021672964096,
          0.015863319858908653,
          0.01689339429140091,
          0.010791088454425335,
          0.013355448842048645,
          0.030741970986127853,
          0.008992232382297516,
          0.011576909571886063,
          0.015405560843646526,
          0.015727432444691658,
          0.013764536939561367,
          0.04434288293123245,
          0.06324983388185501,
          0.020881425589323044,
          0.013648374937474728,
          0.013744625262916088,
          0.019392088055610657,
          0.010298799723386765,
          0.025236692279577255,
          0.028551403433084488,
          0.014746032655239105,
          0.011843289248645306,
          0.02293345145881176,
          0.01207710336893797,
          0.012537355534732342,
          0.011474820785224438,
          0.019556455314159393,
          0.009547954425215721,
          0.01422290038317442,
          0.03521846607327461,
          0.013639170676469803,
          0.01046145148575306,
          0.021659690886735916,
          0.009304836392402649,
          0.009596740826964378,
          0.014782101847231388,
          0.046839598566293716,
          0.016213588416576385,
          0.021886922419071198,
          0.011892312206327915,
          0.019196271896362305,
          0.011463282629847527,
          0.009833373129367828,
          0.01060099620372057,
          0.010497263632714748,
          0.01446522492915392,
          0.012909460812807083,
          0.011079336516559124,
          0.010387067683041096,
          0.009537914767861366,
          0.012544657103717327,
          0.02114308811724186,
          0.02434217557311058,
          0.02547820657491684,
          0.007962672971189022,
          0.010371409356594086,
          0.01540662907063961,
          0.06160246208310127,
          0.04729241132736206,
          0.03923927620053291,
          0.018756788223981857,
          0.028989557176828384,
          0.0212244875729084,
          0.02180597186088562,
          0.026843901723623276,
          0.015353118069469929,
          0.01533463690429926,
          0.010813986882567406,
          0.011316267773509026,
          0.024118030443787575,
          0.008143946528434753,
          0.0576530322432518,
          0.00973129365593195,
          0.009161949157714844,
          0.010691821575164795,
          0.01417523343116045,
          0.017213517799973488,
          0.012344514951109886,
          0.01754111610352993,
          0.008048392832279205,
          0.007977161556482315,
          0.02529420703649521,
          0.027213094756007195,
          0.0426032729446888,
          0.010312475264072418,
          0.03190189227461815,
          0.011220579035580158,
          0.023151841014623642,
          0.012238522991538048,
          0.009545745328068733,
          0.015950124710798264,
          0.01763012632727623,
          0.014750994741916656,
          0.015696274116635323,
          0.015505765564739704,
          0.011744712479412556,
          0.012641511857509613,
          0.06259892880916595,
          0.024584533646702766,
          0.013017945922911167,
          0.011919079348444939,
          0.05015100911259651,
          0.036958105862140656,
          0.03138675168156624,
          0.018910186365246773,
          0.01820940338075161,
          0.006764219608157873,
          0.0193194393068552,
          0.009295682422816753,
          0.016590824350714684,
          0.017137248069047928,
          0.016151458024978638,
          0.009717423468828201,
          0.012462248094379902,
          0.024075821042060852,
          0.022563373669981956,
          0.015401458367705345,
          0.02804095670580864,
          0.008637499995529652,
          0.01616537570953369,
          0.01555919274687767,
          0.01624746061861515,
          0.011427536606788635,
          0.014815147034823895,
          0.06814169883728027,
          0.009294395335018635,
          0.07062383741140366,
          0.011021462269127369,
          0.018139265477657318,
          0.03631965070962906,
          0.042480263859033585,
          0.012684055604040623,
          0.03559039160609245,
          0.0401247963309288,
          0.01870591565966606,
          0.010131997987627983,
          0.007343810983002186,
          0.02080654539167881,
          0.009780014865100384,
          0.014984305016696453,
          0.07206609845161438,
          0.009916330687701702,
          0.021061250939965248,
          0.010667964816093445,
          0.011904989369213581,
          0.01393676083534956,
          0.029563678428530693,
          0.015499765984714031,
          0.021027177572250366,
          0.019242744892835617,
          0.022929079830646515,
          0.011791948229074478,
          0.020884711295366287,
          0.06482340395450592,
          0.04646378755569458,
          0.011149212718009949,
          0.011388362385332584,
          0.0199715718626976,
          0.015974929556250572,
          0.03269806504249573,
          0.02487703040242195,
          0.01685270294547081,
          0.039443306624889374,
          0.014848302118480206,
          0.018236739560961723,
          0.009595276787877083,
          0.025039812549948692,
          0.026014437898993492,
          0.009551197290420532,
          0.010518211871385574,
          0.009353614412248135,
          0.01736285537481308,
          0.030351730063557625,
          0.01841585710644722,
          0.011211434379220009,
          0.02513916790485382,
          0.01960136741399765,
          0.013567997142672539,
          0.021529546007514,
          0.008221290074288845,
          0.06651273369789124,
          0.01201660931110382,
          0.01633245311677456,
          0.0126675795763731,
          0.012887268327176571,
          0.014929631724953651,
          0.023878073319792747,
          0.012682795524597168,
          0.015725508332252502,
          0.020566759631037712,
          0.010716305114328861,
          0.009502165019512177,
          0.01068714540451765,
          0.013048241846263409,
          0.011536285281181335,
          0.02545870654284954,
          0.023514386266469955,
          0.012124577537178993,
          0.016515446826815605,
          0.009974884800612926,
          0.012604538351297379,
          0.034981705248355865,
          0.011077344417572021,
          0.0176643505692482,
          0.01597377099096775,
          0.046496737748384476,
          0.035420868545770645,
          0.014842506498098373,
          0.008340185508131981,
          0.024429289624094963,
          0.009526923298835754,
          0.017940033227205276,
          0.05695794150233269,
          0.020850518718361855,
          0.010289017111063004,
          0.021862301975488663,
          0.01334302593022585,
          0.010611670091748238,
          0.01113496720790863,
          0.023167716339230537,
          0.01589437946677208,
          0.008735773153603077,
          0.012533471919596195,
          0.026963554322719574,
          0.019066687673330307,
          0.00737182330340147,
          0.024042483419179916,
          0.033723682165145874,
          0.06374625861644745,
          0.010690120048820972,
          0.025134924799203873,
          0.033146582543849945,
          0.00979258120059967,
          0.023906325921416283,
          0.022460293024778366,
          0.019779713824391365,
          0.019656004384160042,
          0.029365843161940575,
          0.03629090636968613,
          0.007565392646938562,
          0.023269014433026314,
          0.014917169697582722,
          0.036619506776332855,
          0.024210460484027863,
          0.028985455632209778,
          0.022211529314517975,
          0.008261810056865215,
          0.011292330920696259,
          0.027792204171419144,
          0.059557750821113586,
          0.021255869418382645,
          0.06761369109153748,
          0.017933307215571404,
          0.009773794561624527,
          0.014770863577723503,
          0.012536980211734772,
          0.012134775519371033,
          0.026154309511184692,
          0.01567908003926277,
          0.012033725157380104,
          0.01168639026582241,
          0.06306516379117966,
          0.014817694202065468,
          0.014496885240077972,
          0.02778659015893936,
          0.019481277093291283,
          0.026217689737677574,
          0.01877610757946968,
          0.016854779794812202,
          0.02375265583395958,
          0.010377801023423672,
          0.02054780162870884,
          0.010136988945305347,
          0.022303257137537003,
          0.015086187981069088,
          0.013510954566299915,
          0.008459565229713917,
          0.018941594287753105,
          0.021922430023550987,
          0.010095926932990551,
          0.03188205510377884,
          0.017462335526943207,
          0.014025007374584675,
          0.024207808077335358,
          0.010251198895275593,
          0.018939349800348282,
          0.09488920122385025,
          0.014973408542573452,
          0.022362075746059418,
          0.013593238778412342,
          0.027277659624814987,
          0.02731063961982727,
          0.019124342128634453,
          0.020385241135954857,
          0.021065320819616318,
          0.012064517475664616,
          0.023240813985466957,
          0.016069622710347176
         ]
        }
       ],
       "layout": {
        "template": {
         "data": {
          "bar": [
           {
            "error_x": {
             "color": "#2a3f5f"
            },
            "error_y": {
             "color": "#2a3f5f"
            },
            "marker": {
             "line": {
              "color": "#E5ECF6",
              "width": 0.5
             },
             "pattern": {
              "fillmode": "overlay",
              "size": 10,
              "solidity": 0.2
             }
            },
            "type": "bar"
           }
          ],
          "barpolar": [
           {
            "marker": {
             "line": {
              "color": "#E5ECF6",
              "width": 0.5
             },
             "pattern": {
              "fillmode": "overlay",
              "size": 10,
              "solidity": 0.2
             }
            },
            "type": "barpolar"
           }
          ],
          "carpet": [
           {
            "aaxis": {
             "endlinecolor": "#2a3f5f",
             "gridcolor": "white",
             "linecolor": "white",
             "minorgridcolor": "white",
             "startlinecolor": "#2a3f5f"
            },
            "baxis": {
             "endlinecolor": "#2a3f5f",
             "gridcolor": "white",
             "linecolor": "white",
             "minorgridcolor": "white",
             "startlinecolor": "#2a3f5f"
            },
            "type": "carpet"
           }
          ],
          "choropleth": [
           {
            "colorbar": {
             "outlinewidth": 0,
             "ticks": ""
            },
            "type": "choropleth"
           }
          ],
          "contour": [
           {
            "colorbar": {
             "outlinewidth": 0,
             "ticks": ""
            },
            "colorscale": [
             [
              0,
              "#0d0887"
             ],
             [
              0.1111111111111111,
              "#46039f"
             ],
             [
              0.2222222222222222,
              "#7201a8"
             ],
             [
              0.3333333333333333,
              "#9c179e"
             ],
             [
              0.4444444444444444,
              "#bd3786"
             ],
             [
              0.5555555555555556,
              "#d8576b"
             ],
             [
              0.6666666666666666,
              "#ed7953"
             ],
             [
              0.7777777777777778,
              "#fb9f3a"
             ],
             [
              0.8888888888888888,
              "#fdca26"
             ],
             [
              1,
              "#f0f921"
             ]
            ],
            "type": "contour"
           }
          ],
          "contourcarpet": [
           {
            "colorbar": {
             "outlinewidth": 0,
             "ticks": ""
            },
            "type": "contourcarpet"
           }
          ],
          "heatmap": [
           {
            "colorbar": {
             "outlinewidth": 0,
             "ticks": ""
            },
            "colorscale": [
             [
              0,
              "#0d0887"
             ],
             [
              0.1111111111111111,
              "#46039f"
             ],
             [
              0.2222222222222222,
              "#7201a8"
             ],
             [
              0.3333333333333333,
              "#9c179e"
             ],
             [
              0.4444444444444444,
              "#bd3786"
             ],
             [
              0.5555555555555556,
              "#d8576b"
             ],
             [
              0.6666666666666666,
              "#ed7953"
             ],
             [
              0.7777777777777778,
              "#fb9f3a"
             ],
             [
              0.8888888888888888,
              "#fdca26"
             ],
             [
              1,
              "#f0f921"
             ]
            ],
            "type": "heatmap"
           }
          ],
          "heatmapgl": [
           {
            "colorbar": {
             "outlinewidth": 0,
             "ticks": ""
            },
            "colorscale": [
             [
              0,
              "#0d0887"
             ],
             [
              0.1111111111111111,
              "#46039f"
             ],
             [
              0.2222222222222222,
              "#7201a8"
             ],
             [
              0.3333333333333333,
              "#9c179e"
             ],
             [
              0.4444444444444444,
              "#bd3786"
             ],
             [
              0.5555555555555556,
              "#d8576b"
             ],
             [
              0.6666666666666666,
              "#ed7953"
             ],
             [
              0.7777777777777778,
              "#fb9f3a"
             ],
             [
              0.8888888888888888,
              "#fdca26"
             ],
             [
              1,
              "#f0f921"
             ]
            ],
            "type": "heatmapgl"
           }
          ],
          "histogram": [
           {
            "marker": {
             "pattern": {
              "fillmode": "overlay",
              "size": 10,
              "solidity": 0.2
             }
            },
            "type": "histogram"
           }
          ],
          "histogram2d": [
           {
            "colorbar": {
             "outlinewidth": 0,
             "ticks": ""
            },
            "colorscale": [
             [
              0,
              "#0d0887"
             ],
             [
              0.1111111111111111,
              "#46039f"
             ],
             [
              0.2222222222222222,
              "#7201a8"
             ],
             [
              0.3333333333333333,
              "#9c179e"
             ],
             [
              0.4444444444444444,
              "#bd3786"
             ],
             [
              0.5555555555555556,
              "#d8576b"
             ],
             [
              0.6666666666666666,
              "#ed7953"
             ],
             [
              0.7777777777777778,
              "#fb9f3a"
             ],
             [
              0.8888888888888888,
              "#fdca26"
             ],
             [
              1,
              "#f0f921"
             ]
            ],
            "type": "histogram2d"
           }
          ],
          "histogram2dcontour": [
           {
            "colorbar": {
             "outlinewidth": 0,
             "ticks": ""
            },
            "colorscale": [
             [
              0,
              "#0d0887"
             ],
             [
              0.1111111111111111,
              "#46039f"
             ],
             [
              0.2222222222222222,
              "#7201a8"
             ],
             [
              0.3333333333333333,
              "#9c179e"
             ],
             [
              0.4444444444444444,
              "#bd3786"
             ],
             [
              0.5555555555555556,
              "#d8576b"
             ],
             [
              0.6666666666666666,
              "#ed7953"
             ],
             [
              0.7777777777777778,
              "#fb9f3a"
             ],
             [
              0.8888888888888888,
              "#fdca26"
             ],
             [
              1,
              "#f0f921"
             ]
            ],
            "type": "histogram2dcontour"
           }
          ],
          "mesh3d": [
           {
            "colorbar": {
             "outlinewidth": 0,
             "ticks": ""
            },
            "type": "mesh3d"
           }
          ],
          "parcoords": [
           {
            "line": {
             "colorbar": {
              "outlinewidth": 0,
              "ticks": ""
             }
            },
            "type": "parcoords"
           }
          ],
          "pie": [
           {
            "automargin": true,
            "type": "pie"
           }
          ],
          "scatter": [
           {
            "marker": {
             "colorbar": {
              "outlinewidth": 0,
              "ticks": ""
             }
            },
            "type": "scatter"
           }
          ],
          "scatter3d": [
           {
            "line": {
             "colorbar": {
              "outlinewidth": 0,
              "ticks": ""
             }
            },
            "marker": {
             "colorbar": {
              "outlinewidth": 0,
              "ticks": ""
             }
            },
            "type": "scatter3d"
           }
          ],
          "scattercarpet": [
           {
            "marker": {
             "colorbar": {
              "outlinewidth": 0,
              "ticks": ""
             }
            },
            "type": "scattercarpet"
           }
          ],
          "scattergeo": [
           {
            "marker": {
             "colorbar": {
              "outlinewidth": 0,
              "ticks": ""
             }
            },
            "type": "scattergeo"
           }
          ],
          "scattergl": [
           {
            "marker": {
             "colorbar": {
              "outlinewidth": 0,
              "ticks": ""
             }
            },
            "type": "scattergl"
           }
          ],
          "scattermapbox": [
           {
            "marker": {
             "colorbar": {
              "outlinewidth": 0,
              "ticks": ""
             }
            },
            "type": "scattermapbox"
           }
          ],
          "scatterpolar": [
           {
            "marker": {
             "colorbar": {
              "outlinewidth": 0,
              "ticks": ""
             }
            },
            "type": "scatterpolar"
           }
          ],
          "scatterpolargl": [
           {
            "marker": {
             "colorbar": {
              "outlinewidth": 0,
              "ticks": ""
             }
            },
            "type": "scatterpolargl"
           }
          ],
          "scatterternary": [
           {
            "marker": {
             "colorbar": {
              "outlinewidth": 0,
              "ticks": ""
             }
            },
            "type": "scatterternary"
           }
          ],
          "surface": [
           {
            "colorbar": {
             "outlinewidth": 0,
             "ticks": ""
            },
            "colorscale": [
             [
              0,
              "#0d0887"
             ],
             [
              0.1111111111111111,
              "#46039f"
             ],
             [
              0.2222222222222222,
              "#7201a8"
             ],
             [
              0.3333333333333333,
              "#9c179e"
             ],
             [
              0.4444444444444444,
              "#bd3786"
             ],
             [
              0.5555555555555556,
              "#d8576b"
             ],
             [
              0.6666666666666666,
              "#ed7953"
             ],
             [
              0.7777777777777778,
              "#fb9f3a"
             ],
             [
              0.8888888888888888,
              "#fdca26"
             ],
             [
              1,
              "#f0f921"
             ]
            ],
            "type": "surface"
           }
          ],
          "table": [
           {
            "cells": {
             "fill": {
              "color": "#EBF0F8"
             },
             "line": {
              "color": "white"
             }
            },
            "header": {
             "fill": {
              "color": "#C8D4E3"
             },
             "line": {
              "color": "white"
             }
            },
            "type": "table"
           }
          ]
         },
         "layout": {
          "annotationdefaults": {
           "arrowcolor": "#2a3f5f",
           "arrowhead": 0,
           "arrowwidth": 1
          },
          "autotypenumbers": "strict",
          "coloraxis": {
           "colorbar": {
            "outlinewidth": 0,
            "ticks": ""
           }
          },
          "colorscale": {
           "diverging": [
            [
             0,
             "#8e0152"
            ],
            [
             0.1,
             "#c51b7d"
            ],
            [
             0.2,
             "#de77ae"
            ],
            [
             0.3,
             "#f1b6da"
            ],
            [
             0.4,
             "#fde0ef"
            ],
            [
             0.5,
             "#f7f7f7"
            ],
            [
             0.6,
             "#e6f5d0"
            ],
            [
             0.7,
             "#b8e186"
            ],
            [
             0.8,
             "#7fbc41"
            ],
            [
             0.9,
             "#4d9221"
            ],
            [
             1,
             "#276419"
            ]
           ],
           "sequential": [
            [
             0,
             "#0d0887"
            ],
            [
             0.1111111111111111,
             "#46039f"
            ],
            [
             0.2222222222222222,
             "#7201a8"
            ],
            [
             0.3333333333333333,
             "#9c179e"
            ],
            [
             0.4444444444444444,
             "#bd3786"
            ],
            [
             0.5555555555555556,
             "#d8576b"
            ],
            [
             0.6666666666666666,
             "#ed7953"
            ],
            [
             0.7777777777777778,
             "#fb9f3a"
            ],
            [
             0.8888888888888888,
             "#fdca26"
            ],
            [
             1,
             "#f0f921"
            ]
           ],
           "sequentialminus": [
            [
             0,
             "#0d0887"
            ],
            [
             0.1111111111111111,
             "#46039f"
            ],
            [
             0.2222222222222222,
             "#7201a8"
            ],
            [
             0.3333333333333333,
             "#9c179e"
            ],
            [
             0.4444444444444444,
             "#bd3786"
            ],
            [
             0.5555555555555556,
             "#d8576b"
            ],
            [
             0.6666666666666666,
             "#ed7953"
            ],
            [
             0.7777777777777778,
             "#fb9f3a"
            ],
            [
             0.8888888888888888,
             "#fdca26"
            ],
            [
             1,
             "#f0f921"
            ]
           ]
          },
          "colorway": [
           "#636efa",
           "#EF553B",
           "#00cc96",
           "#ab63fa",
           "#FFA15A",
           "#19d3f3",
           "#FF6692",
           "#B6E880",
           "#FF97FF",
           "#FECB52"
          ],
          "font": {
           "color": "#2a3f5f"
          },
          "geo": {
           "bgcolor": "white",
           "lakecolor": "white",
           "landcolor": "#E5ECF6",
           "showlakes": true,
           "showland": true,
           "subunitcolor": "white"
          },
          "hoverlabel": {
           "align": "left"
          },
          "hovermode": "closest",
          "mapbox": {
           "style": "light"
          },
          "paper_bgcolor": "white",
          "plot_bgcolor": "#E5ECF6",
          "polar": {
           "angularaxis": {
            "gridcolor": "white",
            "linecolor": "white",
            "ticks": ""
           },
           "bgcolor": "#E5ECF6",
           "radialaxis": {
            "gridcolor": "white",
            "linecolor": "white",
            "ticks": ""
           }
          },
          "scene": {
           "xaxis": {
            "backgroundcolor": "#E5ECF6",
            "gridcolor": "white",
            "gridwidth": 2,
            "linecolor": "white",
            "showbackground": true,
            "ticks": "",
            "zerolinecolor": "white"
           },
           "yaxis": {
            "backgroundcolor": "#E5ECF6",
            "gridcolor": "white",
            "gridwidth": 2,
            "linecolor": "white",
            "showbackground": true,
            "ticks": "",
            "zerolinecolor": "white"
           },
           "zaxis": {
            "backgroundcolor": "#E5ECF6",
            "gridcolor": "white",
            "gridwidth": 2,
            "linecolor": "white",
            "showbackground": true,
            "ticks": "",
            "zerolinecolor": "white"
           }
          },
          "shapedefaults": {
           "line": {
            "color": "#2a3f5f"
           }
          },
          "ternary": {
           "aaxis": {
            "gridcolor": "white",
            "linecolor": "white",
            "ticks": ""
           },
           "baxis": {
            "gridcolor": "white",
            "linecolor": "white",
            "ticks": ""
           },
           "bgcolor": "#E5ECF6",
           "caxis": {
            "gridcolor": "white",
            "linecolor": "white",
            "ticks": ""
           }
          },
          "title": {
           "x": 0.05
          },
          "xaxis": {
           "automargin": true,
           "gridcolor": "white",
           "linecolor": "white",
           "ticks": "",
           "title": {
            "standoff": 15
           },
           "zerolinecolor": "white",
           "zerolinewidth": 2
          },
          "yaxis": {
           "automargin": true,
           "gridcolor": "white",
           "linecolor": "white",
           "ticks": "",
           "title": {
            "standoff": 15
           },
           "zerolinecolor": "white",
           "zerolinewidth": 2
          }
         }
        }
       }
      }
     },
     "metadata": {}
    }
   ],
   "metadata": {}
  },
  {
   "cell_type": "markdown",
   "source": [
    "We now define the threshold."
   ],
   "metadata": {}
  },
  {
   "cell_type": "code",
   "execution_count": 16,
   "source": [
    "threshold = np.mean(train_loss) + np.std(train_loss)\n",
    "print(\"Threshold: \", threshold)"
   ],
   "outputs": [
    {
     "output_type": "stream",
     "name": "stdout",
     "text": [
      "Threshold:  0.032248836\n"
     ]
    }
   ],
   "metadata": {}
  },
  {
   "cell_type": "markdown",
   "source": [
    "On the test dataset, we will use the threshold above to determine anormalies. We will do this as follows:"
   ],
   "metadata": {}
  },
  {
   "cell_type": "code",
   "execution_count": 19,
   "source": [
    "reconstructions_normal = autoencoder.predict(normal_test_data)\n",
    "test_loss_normal = tf.keras.losses.mae(reconstructions_normal, normal_test_data)\n",
    "\n",
    "\n",
    "reconstructions_abnormal = autoencoder.predict(abnormal_test_data)\n",
    "test_loss_abnormal = tf.keras.losses.mae(reconstructions_abnormal, abnormal_test_data)\n",
    "\n",
    "fig = go.Figure()\n",
    "fig.add_trace(go.Histogram(x=test_loss_normal[None,:][0],name='Normal loss'))\n",
    "fig.add_trace(go.Histogram(x=test_loss_abnormal[None,:][0],name='Abnormal loss'))\n",
    "\n",
    "\n",
    "# Overlay both histograms\n",
    "fig.update_layout(barmode='overlay')\n",
    "# Reduce opacity to see both histograms\n",
    "fig.update_traces(opacity=0.75)\n",
    "\n",
    "\n",
    "\n",
    "\n",
    "fig.add_shape(type=\"line\",\n",
    "    xref=\"x\", yref=\"y\",\n",
    "    x0=threshold, y0=0, x1=threshold, y1=90,\n",
    "    line=dict(\n",
    "        color=\"red\",\n",
    "        width=3,\n",
    "    ),\n",
    ")\n",
    "fig.show()"
   ],
   "outputs": [
    {
     "output_type": "display_data",
     "data": {
      "application/vnd.plotly.v1+json": {
       "config": {
        "plotlyServerURL": "https://plot.ly"
       },
       "data": [
        {
         "name": "Normal loss",
         "opacity": 0.75,
         "type": "histogram",
         "x": [
          0.0329410694539547,
          0.009620302356779575,
          0.02501015178859234,
          0.062070198357105255,
          0.012837345711886883,
          0.009678559377789497,
          0.011300700716674328,
          0.06607019901275635,
          0.010897447355091572,
          0.02279205434024334,
          0.01788722164928913,
          0.0183405801653862,
          0.011584648862481117,
          0.021374057978391647,
          0.019237181171774864,
          0.02180125191807747,
          0.023438269272446632,
          0.0200492050498724,
          0.011175783351063728,
          0.017317989841103554,
          0.035278551280498505,
          0.015559155493974686,
          0.02790362574160099,
          0.012083704583346844,
          0.02050442434847355,
          0.02661047875881195,
          0.026960942894220352,
          0.009826283901929855,
          0.018967583775520325,
          0.008211718872189522,
          0.019464803859591484,
          0.015767166391015053,
          0.015615985728800297,
          0.03022048808634281,
          0.04110085964202881,
          0.026018088683485985,
          0.022567588835954666,
          0.025813544169068336,
          0.010141760110855103,
          0.03882475569844246,
          0.010342812165617943,
          0.02436542697250843,
          0.014138446189463139,
          0.018356937915086746,
          0.009561781771481037,
          0.009500334039330482,
          0.021941060200333595,
          0.015818051993846893,
          0.01719972863793373,
          0.01011212170124054,
          0.011575437150895596,
          0.012654021382331848,
          0.07258279621601105,
          0.0202567670494318,
          0.012158730067312717,
          0.010968981310725212,
          0.024914532899856567,
          0.014103256165981293,
          0.006375011522322893,
          0.016526497900485992,
          0.027069201692938805,
          0.02863899990916252,
          0.014737377874553204,
          0.018271995708346367,
          0.09727620333433151,
          0.007546320091933012,
          0.012239363975822926,
          0.027608348056674004,
          0.011616028845310211,
          0.025089651346206665,
          0.013333139941096306,
          0.018489541485905647,
          0.016647741198539734,
          0.018793191760778427,
          0.024873191490769386,
          0.01387999951839447,
          0.02538382075726986,
          0.016925737261772156,
          0.014767110347747803,
          0.04915535822510719,
          0.015047756023705006,
          0.011717282235622406,
          0.012200156226754189,
          0.016730543226003647,
          0.05388743430376053,
          0.02304239384829998,
          0.016659457236528397,
          0.014170140027999878,
          0.0120216840878129,
          0.03161406144499779,
          0.024464117363095284,
          0.011470193043351173,
          0.016628028824925423,
          0.017010191455483437,
          0.011669965460896492,
          0.015028094872832298,
          0.02624383755028248,
          0.00986877828836441,
          0.01151694543659687,
          0.025911737233400345,
          0.009312230162322521,
          0.010934141464531422,
          0.036808326840400696,
          0.013622329570353031,
          0.010461480356752872,
          0.009457964450120926,
          0.02129940129816532,
          0.013082769699394703,
          0.010827824473381042,
          0.021009642630815506,
          0.021261360496282578,
          0.019542617723345757,
          0.025909317657351494,
          0.013897056691348553,
          0.01264561153948307,
          0.02570508047938347,
          0.013414843007922173,
          0.008468491956591606,
          0.013428295962512493,
          0.008314854465425014,
          0.017648430541157722,
          0.04395993426442146,
          0.023440953344106674,
          0.016142359003424644,
          0.021731436252593994,
          0.019041988998651505,
          0.01821397803723812,
          0.010859349742531776,
          0.021434703841805458,
          0.005572177469730377,
          0.016727985814213753,
          0.01837192103266716,
          0.013495943509042263,
          0.016641054302453995,
          0.013713610358536243,
          0.013720558024942875,
          0.02496599219739437,
          0.008806603029370308,
          0.022656619548797607,
          0.044390060007572174,
          0.014101669192314148,
          0.005752650089561939,
          0.015956487506628036,
          0.008749684318900108,
          0.010471469722688198,
          0.016048120334744453,
          0.011906471103429794,
          0.01481895986944437,
          0.016109416261315346,
          0.008970574475824833,
          0.012092244811356068,
          0.01877875067293644,
          0.011710943654179573,
          0.013777569867670536,
          0.028413694351911545,
          0.019485685974359512,
          0.02753499150276184,
          0.0174708254635334,
          0.01835542730987072,
          0.024555476382374763,
          0.02057705633342266,
          0.021799523383378983,
          0.009929395280778408,
          0.0102388896048069,
          0.026566674932837486,
          0.021145422011613846,
          0.012982329353690147,
          0.013068621046841145,
          0.018012914806604385,
          0.02167939394712448,
          0.025472059845924377,
          0.010480385273694992,
          0.012261862866580486,
          0.025184622034430504,
          0.00965891219675541,
          0.02203754149377346,
          0.034198276698589325,
          0.016210250556468964,
          0.008249739184975624,
          0.01890929602086544,
          0.014753734692931175,
          0.011979927308857441,
          0.017082149162888527,
          0.020317643880844116,
          0.009431935846805573,
          0.026097895577549934,
          0.01435308251529932,
          0.02514100819826126,
          0.014884233474731445,
          0.014205767773091793,
          0.02784007415175438,
          0.012459774501621723,
          0.015720533207058907,
          0.02612330950796604,
          0.021773086860775948,
          0.01593312993645668,
          0.01027426403015852,
          0.028963375836610794,
          0.012003302574157715,
          0.015202577225863934,
          0.02771574631333351,
          0.013367637991905212,
          0.011087455786764622,
          0.013321789912879467,
          0.029397951439023018,
          0.006936924997717142,
          0.014338861219584942,
          0.011564607731997967,
          0.020377550274133682,
          0.03209223225712776,
          0.032787661999464035,
          0.05713128671050072,
          0.016511013731360435,
          0.02211063914000988,
          0.01320002879947424,
          0.03032039850950241,
          0.020325003191828728,
          0.01761910505592823,
          0.009018145501613617,
          0.008540577255189419,
          0.03577970713376999,
          0.01841847226023674,
          0.02457047998905182,
          0.01429018285125494,
          0.012343094684183598,
          0.018276534974575043,
          0.011756381951272488,
          0.016702918335795403,
          0.02271426096558571,
          0.01179405115544796,
          0.012865619733929634,
          0.011547388508915901,
          0.026170428842306137,
          0.02088100276887417,
          0.013608547858893871,
          0.01897197775542736,
          0.017784418538212776,
          0.010746036656200886,
          0.05803414806723595,
          0.09830649197101593,
          0.022521167993545532,
          0.019565293565392494,
          0.009104333817958832,
          0.016957484185695648,
          0.010863815434277058,
          0.011886736378073692,
          0.02225063554942608,
          0.01293293759226799,
          0.02508438192307949,
          0.008891167119145393,
          0.01165857259184122,
          0.0246706735342741,
          0.02650930918753147,
          0.007977031171321869,
          0.05055747181177139,
          0.015299214981496334,
          0.01624656468629837,
          0.022787222638726234,
          0.014808840118348598,
          0.023858387023210526,
          0.015344120562076569,
          0.021763725206255913,
          0.027306988835334778,
          0.02183287963271141,
          0.012732701376080513,
          0.011233177967369556,
          0.017940321937203407,
          0.01320045255124569,
          0.012567794881761074,
          0.0568876750767231,
          0.008243178948760033,
          0.019153721630573273,
          0.012657796032726765,
          0.027575906366109848,
          0.02698192000389099,
          0.02118145301938057,
          0.017540231347084045,
          0.01216060109436512,
          0.009316650219261646,
          0.013124956749379635,
          0.02874748408794403,
          0.009497229941189289,
          0.010841146111488342,
          0.00832363497465849,
          0.012266279198229313,
          0.031636372208595276,
          0.0146316047757864,
          0.013930724002420902,
          0.010843468829989433,
          0.018196627497673035,
          0.039717577397823334,
          0.02988171949982643,
          0.02708078734576702,
          0.01056898757815361,
          0.009253371506929398,
          0.03125358372926712,
          0.008659943006932735,
          0.013332699425518513,
          0.01602429337799549,
          0.0203240979462862,
          0.012908346951007843,
          0.015985582023859024,
          0.015404812060296535,
          0.05551856756210327,
          0.027774224057793617,
          0.015178251080214977,
          0.025279806926846504,
          0.00840316154062748,
          0.023426145315170288,
          0.011704228818416595,
          0.03772496059536934,
          0.01949017308652401,
          0.01218172162771225,
          0.013372467830777168,
          0.01275458000600338,
          0.010107532143592834,
          0.01174070592969656,
          0.010942980647087097,
          0.027064945548772812,
          0.021927110850811005,
          0.017123432829976082,
          0.014258556999266148,
          0.011046956293284893,
          0.010392723605036736,
          0.015278896316885948,
          0.017247803509235382,
          0.01620783470571041,
          0.009639231488108635,
          0.01151361782103777,
          0.008380644023418427,
          0.0631658136844635,
          0.0222029909491539,
          0.00864586140960455,
          0.04252072051167488,
          0.013954246416687965,
          0.024300824850797653,
          0.03132694214582443,
          0.0182577446103096,
          0.012070567347109318,
          0.022616209462285042,
          0.02470380999147892,
          0.0062690796330571175,
          0.011400504037737846,
          0.01661355048418045,
          0.025999795645475388,
          0.02022428810596466,
          0.01091553270816803,
          0.01502714492380619,
          0.011997848749160767,
          0.025963516905903816,
          0.019512981176376343,
          0.008217977359890938,
          0.011964986100792885,
          0.013391003012657166,
          0.022769825533032417,
          0.027124321088194847,
          0.020925546064972878,
          0.014530438929796219,
          0.023752473294734955,
          0.024713627994060516,
          0.013132532127201557,
          0.0319669134914875,
          0.022404618561267853,
          0.03769680857658386,
          0.01758439466357231,
          0.011647451668977737,
          0.01714116334915161,
          0.014420665800571442,
          0.011470809578895569,
          0.015324418433010578,
          0.012420634739100933,
          0.013369047082960606,
          0.026929227635264397,
          0.027289630845189095,
          0.021702641621232033,
          0.009628016501665115,
          0.06282812356948853,
          0.016454771161079407,
          0.010741320438683033,
          0.06018003076314926,
          0.007692945655435324,
          0.013184734620153904,
          0.017316102981567383,
          0.009144331328570843,
          0.018241258338093758,
          0.029155870899558067,
          0.0101677430793643,
          0.009350230917334557,
          0.026006707921624184,
          0.028986165300011635,
          0.008271509781479836,
          0.01985151693224907,
          0.013528854586184025,
          0.021578844636678696,
          0.014147256501019001,
          0.013459727168083191,
          0.03163996711373329,
          0.01291530579328537,
          0.02808915637433529,
          0.026179194450378418,
          0.014428459107875824,
          0.014061091467738152,
          0.015596967190504074,
          0.02348751574754715,
          0.008013403974473476,
          0.016464466229081154,
          0.017465811222791672,
          0.008912391029298306,
          0.011071698740124702,
          0.010652678087353706,
          0.0069946772418916225,
          0.024308543652296066,
          0.022397546097636223,
          0.01400776393711567,
          0.009370074607431889,
          0.008588884025812149,
          0.027978291735053062,
          0.015234704129397869,
          0.010834090411663055,
          0.012597869150340557,
          0.01227327436208725,
          0.009663949720561504,
          0.017050186172127724,
          0.024776998907327652,
          0.02519012615084648,
          0.013920958153903484,
          0.02161235734820366,
          0.02855009026825428,
          0.034699585288763046,
          0.013545452617108822,
          0.025608355179429054,
          0.011807313188910484,
          0.02662266232073307,
          0.028806239366531372,
          0.021740958094596863,
          0.011936303228139877,
          0.028089528903365135,
          0.014688321389257908,
          0.016402360051870346,
          0.011663898825645447,
          0.012174230068922043,
          0.02138603664934635,
          0.02659505419433117,
          0.04335727170109749,
          0.05806852877140045,
          0.011820949614048004,
          0.011417808942496777,
          0.008415351621806622,
          0.08376320451498032,
          0.016001155599951744,
          0.02230784483253956,
          0.022296862676739693,
          0.02496284991502762,
          0.012373864650726318,
          0.021871374920010567,
          0.025589944794774055,
          0.01805134303867817,
          0.01899566501379013,
          0.020650813356041908,
          0.04699524864554405,
          0.04018690064549446,
          0.05295111611485481,
          0.013314841315150261,
          0.032449688762426376,
          0.055574677884578705,
          0.00853628572076559,
          0.03350278362631798,
          0.012103849090635777,
          0.0311542097479105,
          0.07486008107662201,
          0.01263988297432661,
          0.007284804712980986,
          0.025988219305872917,
          0.021451108157634735,
          0.012154336087405682,
          0.029625551775097847,
          0.013526389375329018,
          0.020931703969836235,
          0.009629368782043457,
          0.014994132332503796,
          0.02505626529455185,
          0.025855328887701035,
          0.03190243989229202,
          0.022369371727108955,
          0.014460382983088493,
          0.027940062806010246,
          0.015034671872854233,
          0.011042715981602669,
          0.007559104356914759,
          0.011058496311306953,
          0.011882567778229713,
          0.009425993077456951,
          0.0112691605463624,
          0.012354223988950253,
          0.024434123188257217,
          0.03876502811908722,
          0.011327752843499184,
          0.02562521956861019,
          0.011792073957622051,
          0.025488801300525665,
          0.00876654963940382,
          0.012054734863340855,
          0.02269597537815571,
          0.013555464334785938,
          0.01593107171356678,
          0.011221630498766899,
          0.009566453285515308,
          0.012115472927689552,
          0.022488990798592567,
          0.0313887782394886,
          0.00982742477208376,
          0.016969280317425728,
          0.01401103287935257,
          0.011815950274467468,
          0.012375101447105408,
          0.01676008105278015,
          0.02083474025130272,
          0.035560473799705505,
          0.010350232012569904,
          0.07332415878772736,
          0.019519954919815063,
          0.019772233441472054,
          0.025202127173542976,
          0.04150297865271568,
          0.03820837661623955,
          0.03426269441843033,
          0.011576500721275806,
          0.03467271849513054,
          0.010419937781989574,
          0.013875748962163925,
          0.01000681146979332,
          0.013676043599843979,
          0.011020864360034466,
          0.011669930070638657,
          0.010883346199989319,
          0.014320805668830872,
          0.010763760656118393,
          0.009832445532083511,
          0.020512795075774193,
          0.01220426894724369,
          0.008675818331539631,
          0.025086015462875366,
          0.016013851389288902,
          0.016797011718153954,
          0.01708732172846794,
          0.030299799516797066,
          0.012267295271158218,
          0.013331396505236626,
          0.011900215409696102,
          0.017312437295913696,
          0.008302549831569195,
          0.030648643150925636,
          0.017347101122140884,
          0.036013126373291016,
          0.02044305019080639,
          0.01563241519033909,
          0.01206976454705,
          0.04470798000693321,
          0.015522030182182789,
          0.01461756695061922
         ]
        },
        {
         "name": "Abnormal loss",
         "opacity": 0.75,
         "type": "histogram",
         "x": [
          0.042505357414484024,
          0.058378566056489944,
          0.04616237431764603,
          0.054494764655828476,
          0.05039665848016739,
          0.05247875303030014,
          0.04348005726933479,
          0.04447845369577408,
          0.0466189906001091,
          0.05949725955724716,
          0.0358867421746254,
          0.043838981539011,
          0.04211500659584999,
          0.05001779645681381,
          0.020543863996863365,
          0.05541389435529709,
          0.04410330951213837,
          0.0470307357609272,
          0.06117614358663559,
          0.05744199827313423,
          0.05819551646709442,
          0.042979646474123,
          0.061190128326416016,
          0.050797585397958755,
          0.04775027930736542,
          0.04477496072649956,
          0.05792887508869171,
          0.05244706943631172,
          0.09575016796588898,
          0.046360015869140625,
          0.09314776957035065,
          0.04458644986152649,
          0.05199776217341423,
          0.05217516049742699,
          0.05029534921050072,
          0.05031399801373482,
          0.0453178808093071,
          0.058860357850790024,
          0.05678200721740723,
          0.057981137186288834,
          0.04813006520271301,
          0.047759003937244415,
          0.04880335181951523,
          0.05361553654074669,
          0.04267951473593712,
          0.059368595480918884,
          0.0508466511964798,
          0.06461522728204727,
          0.054178640246391296,
          0.04835713282227516,
          0.04873715713620186,
          0.05663864687085152,
          0.053144510835409164,
          0.049097299575805664,
          0.060828834772109985,
          0.05309387668967247,
          0.05258205533027649,
          0.05203913524746895,
          0.05211203172802925,
          0.04739684239029884,
          0.03897803649306297,
          0.052280548959970474,
          0.04922165349125862,
          0.05210316181182861,
          0.055595897138118744,
          0.04472200945019722,
          0.04610009863972664,
          0.052083082497119904,
          0.058764077723026276,
          0.05531447380781174,
          0.05086841061711311,
          0.035538170486688614,
          0.049157243221998215,
          0.045046862214803696,
          0.04944372549653053,
          0.05139647051692009,
          0.04843921959400177,
          0.052482038736343384,
          0.04019143059849739,
          0.05736815556883812,
          0.054073624312877655,
          0.05098191648721695,
          0.04991032928228378,
          0.036048922687768936,
          0.05049329996109009,
          0.04789040982723236,
          0.05271546170115471,
          0.0649973601102829,
          0.0498485192656517,
          0.04497280344367027,
          0.044962868094444275,
          0.05535295978188515,
          0.05898762494325638,
          0.04973249509930611,
          0.05109892413020134,
          0.054054539650678635,
          0.04872181639075279,
          0.047816935926675797,
          0.04374168813228607,
          0.053220368921756744,
          0.05217617005109787,
          0.05488108843564987,
          0.0443301796913147,
          0.0608304962515831,
          0.05119342729449272,
          0.05318537726998329,
          0.047217898070812225,
          0.04909007251262665,
          0.044917572289705276,
          0.05184328556060791,
          0.0719202384352684,
          0.052789270877838135,
          0.05557077378034592,
          0.04497120529413223,
          0.051172368228435516,
          0.05513190105557442,
          0.05199524760246277,
          0.05953948199748993,
          0.05303420498967171,
          0.03918669372797012,
          0.04951523616909981,
          0.05765724927186966,
          0.05080034211277962,
          0.050739213824272156,
          0.06443096697330475,
          0.05218730494379997,
          0.046454742550849915,
          0.06283654272556305,
          0.05436629429459572,
          0.05070256069302559,
          0.06089721992611885,
          0.05971631407737732,
          0.04590617120265961,
          0.047139305621385574,
          0.049479659646749496,
          0.046460188925266266,
          0.046831198036670685,
          0.0450231097638607,
          0.04952598363161087,
          0.05110539123415947,
          0.05433599650859833,
          0.04821277782320976,
          0.06178818270564079,
          0.052907656878232956,
          0.05400644615292549,
          0.05707191675901413,
          0.05090945586562157,
          0.05122276768088341,
          0.050237130373716354,
          0.05416583642363548,
          0.05042799562215805,
          0.05426224321126938,
          0.043948739767074585,
          0.0627058744430542,
          0.039987605065107346,
          0.048665016889572144,
          0.045418113470077515,
          0.04782852530479431,
          0.045998841524124146,
          0.041501015424728394,
          0.049235519021749496,
          0.03902262821793556,
          0.047676026821136475,
          0.053164783865213394,
          0.0516168586909771,
          0.03797547146677971,
          0.04842180013656616,
          0.04485037922859192,
          0.039389386773109436,
          0.044475506991147995,
          0.05344996973872185,
          0.04994882270693779,
          0.0590476430952549,
          0.05088290199637413,
          0.05304283648729324,
          0.053636208176612854,
          0.05355928838253021,
          0.05211438611149788,
          0.09304960072040558,
          0.061311423778533936,
          0.048696137964725494,
          0.05387868732213974,
          0.05479322001338005,
          0.03944433107972145,
          0.04324677959084511,
          0.03845077008008957,
          0.05012219399213791,
          0.05580705404281616,
          0.04808421805500984,
          0.05321758985519409,
          0.04736815020442009,
          0.04188583418726921,
          0.01821967028081417,
          0.05841497704386711,
          0.05446920543909073,
          0.04690245911478996,
          0.0451982244849205,
          0.05419093370437622,
          0.05491961911320686,
          0.052547886967659,
          0.061173390597105026,
          0.05147130787372589,
          0.05325891077518463,
          0.046736545860767365,
          0.05198337882757187,
          0.05731247365474701,
          0.050622355192899704,
          0.05264590308070183,
          0.04656744748353958,
          0.04700777307152748,
          0.04626062884926796,
          0.05823676288127899,
          0.05576447397470474,
          0.04954468831419945,
          0.04844529926776886,
          0.043439630419015884,
          0.05847924202680588,
          0.05006156116724014,
          0.05584373325109482,
          0.052653968334198,
          0.05467206612229347,
          0.04688068851828575,
          0.06935298442840576,
          0.05299774557352066,
          0.04846187308430672,
          0.0456266812980175,
          0.0578131265938282,
          0.05057734251022339,
          0.049427252262830734,
          0.052285920828580856,
          0.05700606480240822,
          0.0508400984108448,
          0.04828757792711258,
          0.047872960567474365,
          0.05374670773744583,
          0.04939320310950279,
          0.049872610718011856,
          0.04996814951300621,
          0.049287788569927216,
          0.05745280906558037,
          0.04857838898897171,
          0.05635882169008255,
          0.049685534089803696,
          0.051998820155858994,
          0.040585704147815704,
          0.04818674176931381,
          0.04447633773088455,
          0.04726957529783249,
          0.049653004854917526,
          0.05290372297167778,
          0.07246341556310654,
          0.06163830682635307,
          0.04506969451904297,
          0.04779939725995064,
          0.050177834928035736,
          0.043253131210803986,
          0.04117507115006447,
          0.05404112860560417,
          0.05479194596409798,
          0.05094846338033676,
          0.056993938982486725,
          0.04964376613497734,
          0.050956517457962036,
          0.0525783896446228,
          0.06120995059609413,
          0.05195314437150955,
          0.0633922591805458,
          0.06052141264081001,
          0.05292908102273941,
          0.05910385772585869,
          0.04033750295639038,
          0.04999169334769249,
          0.05475405976176262,
          0.053305044770240784,
          0.05253548175096512,
          0.04732249304652214,
          0.05532660707831383,
          0.04960125684738159,
          0.012004212476313114,
          0.06073789671063423,
          0.055247265845537186,
          0.055088482797145844,
          0.07736840099096298,
          0.04638618603348732,
          0.04893043637275696,
          0.039108239114284515,
          0.040480807423591614,
          0.08151722699403763,
          0.05134239047765732,
          0.048766277730464935,
          0.049071624875068665,
          0.053334590047597885,
          0.047260310500860214,
          0.03730516508221626,
          0.049408793449401855,
          0.05844182148575783,
          0.04903538152575493,
          0.05159272998571396,
          0.05444329231977463,
          0.049044959247112274,
          0.0432116724550724,
          0.042808182537555695,
          0.05720532312989235,
          0.050181955099105835,
          0.050837788730859756,
          0.03644634410738945,
          0.04979848116636276,
          0.05089007690548897,
          0.06786661595106125,
          0.0554964505136013,
          0.04564019292593002,
          0.03290591761469841,
          0.03776738420128822,
          0.054486341774463654,
          0.06137160584330559,
          0.05111682787537575,
          0.04941409453749657,
          0.08176316320896149,
          0.05658808350563049,
          0.05574539303779602,
          0.05349990725517273,
          0.04728930816054344,
          0.05565428361296654,
          0.047428976744413376,
          0.06869549304246902,
          0.05076014995574951,
          0.05108114704489708,
          0.05086889863014221,
          0.05025394633412361,
          0.04695458337664604,
          0.0471818633377552,
          0.05583347752690315,
          0.04878850653767586,
          0.04788704589009285,
          0.05120755359530449,
          0.04764402657747269,
          0.050267692655324936,
          0.0485403798520565,
          0.045047055929899216,
          0.046888645738363266,
          0.05582302063703537,
          0.05989304929971695,
          0.04392320290207863,
          0.05123582482337952,
          0.04484410956501961,
          0.06045671924948692,
          0.05681626498699188,
          0.0568658821284771,
          0.060382187366485596,
          0.06631802022457123,
          0.04896802827715874,
          0.05131274461746216,
          0.054806459695100784,
          0.04584016650915146,
          0.0638277605175972,
          0.053384456783533096,
          0.05413631722331047,
          0.05490049347281456,
          0.04331706464290619,
          0.05820469930768013,
          0.053640175610780716,
          0.05535440519452095,
          0.04680432006716728,
          0.05101488530635834,
          0.056469500064849854,
          0.04995746165513992,
          0.05086597055196762,
          0.05300484597682953,
          0.051137086004018784,
          0.04520922899246216,
          0.047120578587055206,
          0.051550526171922684,
          0.04540151730179787,
          0.04462205618619919,
          0.05126839503645897,
          0.049865905195474625,
          0.05729810893535614,
          0.044307224452495575,
          0.058233071118593216,
          0.07332136482000351,
          0.042002614587545395,
          0.041966184973716736,
          0.05583760514855385,
          0.059976790100336075,
          0.08495212346315384,
          0.05246616527438164,
          0.04681543633341789,
          0.0463738739490509,
          0.05879668518900871,
          0.05184011161327362,
          0.06727362424135208,
          0.053056541830301285,
          0.0467430017888546,
          0.05981681868433952,
          0.0512164868414402,
          0.06143858656287193,
          0.058865804225206375,
          0.06353303790092468,
          0.052735935896635056,
          0.04893002659082413,
          0.04580134525895119,
          0.05284466966986656,
          0.051419567316770554,
          0.045759521424770355,
          0.05459621176123619,
          0.062258489429950714,
          0.049002308398485184,
          0.05378437787294388,
          0.04028276354074478,
          0.05432585999369621,
          0.05095589533448219,
          0.04933594912290573,
          0.0461667962372303,
          0.05897338688373566,
          0.05568427965044975,
          0.051702987402677536,
          0.05305745080113411,
          0.04845968633890152,
          0.053002603352069855,
          0.05010002851486206,
          0.057280007749795914,
          0.05473867803812027,
          0.05200491473078728,
          0.04766624793410301,
          0.0626678317785263,
          0.05144320800900459,
          0.05174865201115608,
          0.05052553117275238,
          0.053832173347473145,
          0.04701652750372887,
          0.05517764762043953,
          0.04652059078216553,
          0.04903388395905495,
          0.049696438014507294,
          0.04944053664803505,
          0.07268071919679642,
          0.048631325364112854,
          0.04867587238550186,
          0.05875863879919052,
          0.057551268488168716
         ]
        }
       ],
       "layout": {
        "barmode": "overlay",
        "shapes": [
         {
          "line": {
           "color": "red",
           "width": 3
          },
          "type": "line",
          "x0": 0.032248836010694504,
          "x1": 0.032248836010694504,
          "xref": "x",
          "y0": 0,
          "y1": 90,
          "yref": "y"
         }
        ],
        "template": {
         "data": {
          "bar": [
           {
            "error_x": {
             "color": "#2a3f5f"
            },
            "error_y": {
             "color": "#2a3f5f"
            },
            "marker": {
             "line": {
              "color": "#E5ECF6",
              "width": 0.5
             },
             "pattern": {
              "fillmode": "overlay",
              "size": 10,
              "solidity": 0.2
             }
            },
            "type": "bar"
           }
          ],
          "barpolar": [
           {
            "marker": {
             "line": {
              "color": "#E5ECF6",
              "width": 0.5
             },
             "pattern": {
              "fillmode": "overlay",
              "size": 10,
              "solidity": 0.2
             }
            },
            "type": "barpolar"
           }
          ],
          "carpet": [
           {
            "aaxis": {
             "endlinecolor": "#2a3f5f",
             "gridcolor": "white",
             "linecolor": "white",
             "minorgridcolor": "white",
             "startlinecolor": "#2a3f5f"
            },
            "baxis": {
             "endlinecolor": "#2a3f5f",
             "gridcolor": "white",
             "linecolor": "white",
             "minorgridcolor": "white",
             "startlinecolor": "#2a3f5f"
            },
            "type": "carpet"
           }
          ],
          "choropleth": [
           {
            "colorbar": {
             "outlinewidth": 0,
             "ticks": ""
            },
            "type": "choropleth"
           }
          ],
          "contour": [
           {
            "colorbar": {
             "outlinewidth": 0,
             "ticks": ""
            },
            "colorscale": [
             [
              0,
              "#0d0887"
             ],
             [
              0.1111111111111111,
              "#46039f"
             ],
             [
              0.2222222222222222,
              "#7201a8"
             ],
             [
              0.3333333333333333,
              "#9c179e"
             ],
             [
              0.4444444444444444,
              "#bd3786"
             ],
             [
              0.5555555555555556,
              "#d8576b"
             ],
             [
              0.6666666666666666,
              "#ed7953"
             ],
             [
              0.7777777777777778,
              "#fb9f3a"
             ],
             [
              0.8888888888888888,
              "#fdca26"
             ],
             [
              1,
              "#f0f921"
             ]
            ],
            "type": "contour"
           }
          ],
          "contourcarpet": [
           {
            "colorbar": {
             "outlinewidth": 0,
             "ticks": ""
            },
            "type": "contourcarpet"
           }
          ],
          "heatmap": [
           {
            "colorbar": {
             "outlinewidth": 0,
             "ticks": ""
            },
            "colorscale": [
             [
              0,
              "#0d0887"
             ],
             [
              0.1111111111111111,
              "#46039f"
             ],
             [
              0.2222222222222222,
              "#7201a8"
             ],
             [
              0.3333333333333333,
              "#9c179e"
             ],
             [
              0.4444444444444444,
              "#bd3786"
             ],
             [
              0.5555555555555556,
              "#d8576b"
             ],
             [
              0.6666666666666666,
              "#ed7953"
             ],
             [
              0.7777777777777778,
              "#fb9f3a"
             ],
             [
              0.8888888888888888,
              "#fdca26"
             ],
             [
              1,
              "#f0f921"
             ]
            ],
            "type": "heatmap"
           }
          ],
          "heatmapgl": [
           {
            "colorbar": {
             "outlinewidth": 0,
             "ticks": ""
            },
            "colorscale": [
             [
              0,
              "#0d0887"
             ],
             [
              0.1111111111111111,
              "#46039f"
             ],
             [
              0.2222222222222222,
              "#7201a8"
             ],
             [
              0.3333333333333333,
              "#9c179e"
             ],
             [
              0.4444444444444444,
              "#bd3786"
             ],
             [
              0.5555555555555556,
              "#d8576b"
             ],
             [
              0.6666666666666666,
              "#ed7953"
             ],
             [
              0.7777777777777778,
              "#fb9f3a"
             ],
             [
              0.8888888888888888,
              "#fdca26"
             ],
             [
              1,
              "#f0f921"
             ]
            ],
            "type": "heatmapgl"
           }
          ],
          "histogram": [
           {
            "marker": {
             "pattern": {
              "fillmode": "overlay",
              "size": 10,
              "solidity": 0.2
             }
            },
            "type": "histogram"
           }
          ],
          "histogram2d": [
           {
            "colorbar": {
             "outlinewidth": 0,
             "ticks": ""
            },
            "colorscale": [
             [
              0,
              "#0d0887"
             ],
             [
              0.1111111111111111,
              "#46039f"
             ],
             [
              0.2222222222222222,
              "#7201a8"
             ],
             [
              0.3333333333333333,
              "#9c179e"
             ],
             [
              0.4444444444444444,
              "#bd3786"
             ],
             [
              0.5555555555555556,
              "#d8576b"
             ],
             [
              0.6666666666666666,
              "#ed7953"
             ],
             [
              0.7777777777777778,
              "#fb9f3a"
             ],
             [
              0.8888888888888888,
              "#fdca26"
             ],
             [
              1,
              "#f0f921"
             ]
            ],
            "type": "histogram2d"
           }
          ],
          "histogram2dcontour": [
           {
            "colorbar": {
             "outlinewidth": 0,
             "ticks": ""
            },
            "colorscale": [
             [
              0,
              "#0d0887"
             ],
             [
              0.1111111111111111,
              "#46039f"
             ],
             [
              0.2222222222222222,
              "#7201a8"
             ],
             [
              0.3333333333333333,
              "#9c179e"
             ],
             [
              0.4444444444444444,
              "#bd3786"
             ],
             [
              0.5555555555555556,
              "#d8576b"
             ],
             [
              0.6666666666666666,
              "#ed7953"
             ],
             [
              0.7777777777777778,
              "#fb9f3a"
             ],
             [
              0.8888888888888888,
              "#fdca26"
             ],
             [
              1,
              "#f0f921"
             ]
            ],
            "type": "histogram2dcontour"
           }
          ],
          "mesh3d": [
           {
            "colorbar": {
             "outlinewidth": 0,
             "ticks": ""
            },
            "type": "mesh3d"
           }
          ],
          "parcoords": [
           {
            "line": {
             "colorbar": {
              "outlinewidth": 0,
              "ticks": ""
             }
            },
            "type": "parcoords"
           }
          ],
          "pie": [
           {
            "automargin": true,
            "type": "pie"
           }
          ],
          "scatter": [
           {
            "marker": {
             "colorbar": {
              "outlinewidth": 0,
              "ticks": ""
             }
            },
            "type": "scatter"
           }
          ],
          "scatter3d": [
           {
            "line": {
             "colorbar": {
              "outlinewidth": 0,
              "ticks": ""
             }
            },
            "marker": {
             "colorbar": {
              "outlinewidth": 0,
              "ticks": ""
             }
            },
            "type": "scatter3d"
           }
          ],
          "scattercarpet": [
           {
            "marker": {
             "colorbar": {
              "outlinewidth": 0,
              "ticks": ""
             }
            },
            "type": "scattercarpet"
           }
          ],
          "scattergeo": [
           {
            "marker": {
             "colorbar": {
              "outlinewidth": 0,
              "ticks": ""
             }
            },
            "type": "scattergeo"
           }
          ],
          "scattergl": [
           {
            "marker": {
             "colorbar": {
              "outlinewidth": 0,
              "ticks": ""
             }
            },
            "type": "scattergl"
           }
          ],
          "scattermapbox": [
           {
            "marker": {
             "colorbar": {
              "outlinewidth": 0,
              "ticks": ""
             }
            },
            "type": "scattermapbox"
           }
          ],
          "scatterpolar": [
           {
            "marker": {
             "colorbar": {
              "outlinewidth": 0,
              "ticks": ""
             }
            },
            "type": "scatterpolar"
           }
          ],
          "scatterpolargl": [
           {
            "marker": {
             "colorbar": {
              "outlinewidth": 0,
              "ticks": ""
             }
            },
            "type": "scatterpolargl"
           }
          ],
          "scatterternary": [
           {
            "marker": {
             "colorbar": {
              "outlinewidth": 0,
              "ticks": ""
             }
            },
            "type": "scatterternary"
           }
          ],
          "surface": [
           {
            "colorbar": {
             "outlinewidth": 0,
             "ticks": ""
            },
            "colorscale": [
             [
              0,
              "#0d0887"
             ],
             [
              0.1111111111111111,
              "#46039f"
             ],
             [
              0.2222222222222222,
              "#7201a8"
             ],
             [
              0.3333333333333333,
              "#9c179e"
             ],
             [
              0.4444444444444444,
              "#bd3786"
             ],
             [
              0.5555555555555556,
              "#d8576b"
             ],
             [
              0.6666666666666666,
              "#ed7953"
             ],
             [
              0.7777777777777778,
              "#fb9f3a"
             ],
             [
              0.8888888888888888,
              "#fdca26"
             ],
             [
              1,
              "#f0f921"
             ]
            ],
            "type": "surface"
           }
          ],
          "table": [
           {
            "cells": {
             "fill": {
              "color": "#EBF0F8"
             },
             "line": {
              "color": "white"
             }
            },
            "header": {
             "fill": {
              "color": "#C8D4E3"
             },
             "line": {
              "color": "white"
             }
            },
            "type": "table"
           }
          ]
         },
         "layout": {
          "annotationdefaults": {
           "arrowcolor": "#2a3f5f",
           "arrowhead": 0,
           "arrowwidth": 1
          },
          "autotypenumbers": "strict",
          "coloraxis": {
           "colorbar": {
            "outlinewidth": 0,
            "ticks": ""
           }
          },
          "colorscale": {
           "diverging": [
            [
             0,
             "#8e0152"
            ],
            [
             0.1,
             "#c51b7d"
            ],
            [
             0.2,
             "#de77ae"
            ],
            [
             0.3,
             "#f1b6da"
            ],
            [
             0.4,
             "#fde0ef"
            ],
            [
             0.5,
             "#f7f7f7"
            ],
            [
             0.6,
             "#e6f5d0"
            ],
            [
             0.7,
             "#b8e186"
            ],
            [
             0.8,
             "#7fbc41"
            ],
            [
             0.9,
             "#4d9221"
            ],
            [
             1,
             "#276419"
            ]
           ],
           "sequential": [
            [
             0,
             "#0d0887"
            ],
            [
             0.1111111111111111,
             "#46039f"
            ],
            [
             0.2222222222222222,
             "#7201a8"
            ],
            [
             0.3333333333333333,
             "#9c179e"
            ],
            [
             0.4444444444444444,
             "#bd3786"
            ],
            [
             0.5555555555555556,
             "#d8576b"
            ],
            [
             0.6666666666666666,
             "#ed7953"
            ],
            [
             0.7777777777777778,
             "#fb9f3a"
            ],
            [
             0.8888888888888888,
             "#fdca26"
            ],
            [
             1,
             "#f0f921"
            ]
           ],
           "sequentialminus": [
            [
             0,
             "#0d0887"
            ],
            [
             0.1111111111111111,
             "#46039f"
            ],
            [
             0.2222222222222222,
             "#7201a8"
            ],
            [
             0.3333333333333333,
             "#9c179e"
            ],
            [
             0.4444444444444444,
             "#bd3786"
            ],
            [
             0.5555555555555556,
             "#d8576b"
            ],
            [
             0.6666666666666666,
             "#ed7953"
            ],
            [
             0.7777777777777778,
             "#fb9f3a"
            ],
            [
             0.8888888888888888,
             "#fdca26"
            ],
            [
             1,
             "#f0f921"
            ]
           ]
          },
          "colorway": [
           "#636efa",
           "#EF553B",
           "#00cc96",
           "#ab63fa",
           "#FFA15A",
           "#19d3f3",
           "#FF6692",
           "#B6E880",
           "#FF97FF",
           "#FECB52"
          ],
          "font": {
           "color": "#2a3f5f"
          },
          "geo": {
           "bgcolor": "white",
           "lakecolor": "white",
           "landcolor": "#E5ECF6",
           "showlakes": true,
           "showland": true,
           "subunitcolor": "white"
          },
          "hoverlabel": {
           "align": "left"
          },
          "hovermode": "closest",
          "mapbox": {
           "style": "light"
          },
          "paper_bgcolor": "white",
          "plot_bgcolor": "#E5ECF6",
          "polar": {
           "angularaxis": {
            "gridcolor": "white",
            "linecolor": "white",
            "ticks": ""
           },
           "bgcolor": "#E5ECF6",
           "radialaxis": {
            "gridcolor": "white",
            "linecolor": "white",
            "ticks": ""
           }
          },
          "scene": {
           "xaxis": {
            "backgroundcolor": "#E5ECF6",
            "gridcolor": "white",
            "gridwidth": 2,
            "linecolor": "white",
            "showbackground": true,
            "ticks": "",
            "zerolinecolor": "white"
           },
           "yaxis": {
            "backgroundcolor": "#E5ECF6",
            "gridcolor": "white",
            "gridwidth": 2,
            "linecolor": "white",
            "showbackground": true,
            "ticks": "",
            "zerolinecolor": "white"
           },
           "zaxis": {
            "backgroundcolor": "#E5ECF6",
            "gridcolor": "white",
            "gridwidth": 2,
            "linecolor": "white",
            "showbackground": true,
            "ticks": "",
            "zerolinecolor": "white"
           }
          },
          "shapedefaults": {
           "line": {
            "color": "#2a3f5f"
           }
          },
          "ternary": {
           "aaxis": {
            "gridcolor": "white",
            "linecolor": "white",
            "ticks": ""
           },
           "baxis": {
            "gridcolor": "white",
            "linecolor": "white",
            "ticks": ""
           },
           "bgcolor": "#E5ECF6",
           "caxis": {
            "gridcolor": "white",
            "linecolor": "white",
            "ticks": ""
           }
          },
          "title": {
           "x": 0.05
          },
          "xaxis": {
           "automargin": true,
           "gridcolor": "white",
           "linecolor": "white",
           "ticks": "",
           "title": {
            "standoff": 15
           },
           "zerolinecolor": "white",
           "zerolinewidth": 2
          },
          "yaxis": {
           "automargin": true,
           "gridcolor": "white",
           "linecolor": "white",
           "ticks": "",
           "title": {
            "standoff": 15
           },
           "zerolinecolor": "white",
           "zerolinewidth": 2
          }
         }
        }
       }
      }
     },
     "metadata": {}
    }
   ],
   "metadata": {}
  },
  {
   "cell_type": "markdown",
   "source": [
    "The red vertical line is at the threshold. Anything above the red vertical line is considered as an anormaly. \n",
    "\n",
    "## How accurate is our model \n",
    "\n",
    "We will compute the accuracy, precision and recall of our model. "
   ],
   "metadata": {}
  },
  {
   "cell_type": "code",
   "execution_count": 20,
   "source": [
    "def predict(model, data, threshold):\n",
    "  reconstructions = model(data)\n",
    "  loss = tf.keras.losses.mae(reconstructions, data)\n",
    "  return tf.math.less(loss, threshold)\n",
    "\n",
    "def print_stats(predictions, labels):\n",
    "  print(\"Accuracy = {}\".format(accuracy_score(labels, predictions)))\n",
    "  print(\"Precision = {}\".format(precision_score(labels, predictions)))\n",
    "  print(\"Recall = {}\".format(recall_score(labels, predictions)))\n",
    "\n",
    "\n",
    "\n",
    "preds = predict(autoencoder, test_data, threshold)\n",
    "print_stats(preds, test_labels)"
   ],
   "outputs": [
    {
     "output_type": "stream",
     "name": "stdout",
     "text": [
      "Accuracy = 0.948\n",
      "Precision = 0.9941634241245136\n",
      "Recall = 0.9125\n"
     ]
    }
   ],
   "metadata": {}
  },
  {
   "cell_type": "markdown",
   "source": [
    "## Final words\n",
    "\n",
    "In this blog post, we have seen how autoencoders can be used to detect anomalies in our data. The ECG data is a  nice example to illustrate the idea, however, with a typical real-world use case, there will be more shortcomings. "
   ],
   "metadata": {}
  },
  {
   "cell_type": "code",
   "execution_count": null,
   "source": [],
   "outputs": [],
   "metadata": {}
  }
 ]
}