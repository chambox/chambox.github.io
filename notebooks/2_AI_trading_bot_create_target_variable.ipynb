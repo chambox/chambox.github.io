{
 "cells": [
  {
   "cell_type": "markdown",
   "source": [
    "This blog post is the second in line of the series of posts discussing on how to create an AI (Artificial intelligent) trading bot.  We try to make the individual blog post to be self content, for this reason we will give you a recap of the problem we are solving.  We are creating smart trading bot using AI, we will call the bot chambot.  The steps invoved are in the  flow diagram below \n",
    "\n",
    "![](../images/flow_diagram.png)\n",
    "\n",
    "\n",
    "* Already discuss how to fetch data from Binance in [here](https://chambox.github.io/1_AI_trading_bot_fetch_data/)\n",
    "* This blog is about point 2., creating a target variable. \n"
   ],
   "metadata": {}
  },
  {
   "cell_type": "markdown",
   "source": [],
   "metadata": {}
  }
 ],
 "metadata": {
  "orig_nbformat": 4,
  "language_info": {
   "name": "python"
  }
 },
 "nbformat": 4,
 "nbformat_minor": 2
}