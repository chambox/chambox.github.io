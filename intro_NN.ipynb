{
 "metadata": {
  "language_info": {
   "codemirror_mode": {
    "name": "ipython",
    "version": 3
   },
   "file_extension": ".py",
   "mimetype": "text/x-python",
   "name": "python",
   "nbconvert_exporter": "python",
   "pygments_lexer": "ipython3",
   "version": "3.7.9"
  },
  "orig_nbformat": 4,
  "kernelspec": {
   "name": "python3",
   "display_name": "Python 3.7.9 64-bit ('website': venv)"
  },
  "interpreter": {
   "hash": "526c6d517c181ea8a90430c85bc56c6c81b52fe8bc1332055751a149542bc334"
  }
 },
 "nbformat": 4,
 "nbformat_minor": 2,
 "cells": [
  {
   "source": [
    "# Neural networks in keras, a first look\n",
    "\n",
    "Artifical intelligence (AI)  has featured on the news several times in the past few years. AI , machine  learning and deep learning feature in countless articles often outside technological oriented publications. You will hear often of self driving cars, chatbots, robots replacing humans in factories and many other stories, with AI as the vilan or the hero. At the heart of this technological revolution is neural networks (NN) which we briefly introduce in this article. The focus here is to introduce  NNs  with python using the keras API. "
   ],
   "cell_type": "markdown",
   "metadata": {}
  },
  {
   "source": [
    "The problem we will solve here is to classify grayscale images of handwritten digits (28x28 pixels)  into their 10 categories which ranges from 0-9. We a will use a classic dataset in the machine learning community, namely MNIST. MNIST has 60k training images and another 10k images for testing. \n",
    "\n",
    "Let's import the MNIST dataset. `train_images` and `train_labels` represent the data that the model will learn from. We will then use `test_images` and `test_labels` to test the model. The data  object is a numpy array with each image of dimension 28x28 mapped to one and only one label in the range [0,9].  The training and test data look like this:"
   ],
   "cell_type": "markdown",
   "metadata": {}
  },
  {
   "cell_type": "code",
   "execution_count": 9,
   "metadata": {},
   "outputs": [
    {
     "output_type": "stream",
     "name": "stdout",
     "text": [
      "train_image shape: (60000, 28, 28)\ntrain_labels nature: [5 0 4 ... 5 6 8]\ntest_image shape: (60000, 28, 28)\ntest_labels nature: [5 0 4 ... 5 6 8]\n"
     ]
    }
   ],
   "source": [
    "from tensorflow.keras.datasets import mnist\n",
    "((train_images, train_labels),\n",
    "(test_images, test_labels) )= mnist.load_data()\n",
    "\n",
    "print(f'train_image shape: {train_images.shape}') \n",
    "print(f'train_labels nature: {train_labels}')\n",
    "\n",
    "print(f'test_image shape: {train_images.shape}') \n",
    "print(f'test_labels nature: {train_labels}')"
   ]
  },
  {
   "source": [
    "Our workflow will be as follows: \n",
    "\n",
    "1. Create an architecture for the network, and create a network object\n",
    "2. Compile the network object\n",
    "3. Prepare the training and test datasets\n",
    "4.  Fit the network object to data"
   ],
   "cell_type": "markdown",
   "metadata": {}
  },
  {
   "cell_type": "code",
   "execution_count": 12,
   "metadata": {},
   "outputs": [],
   "source": [
    "import pandas as pd\n",
    "df = pd.DataFrame({\"validityDate\": ['2021-03-31','2021-03-08','2021-03-05','2021-04-20']})"
   ]
  },
  {
   "cell_type": "code",
   "execution_count": 13,
   "metadata": {},
   "outputs": [],
   "source": [
    "validityDate = df.to_csv('validityDates.csv', index=False)"
   ]
  },
  {
   "cell_type": "code",
   "execution_count": null,
   "metadata": {},
   "outputs": [],
   "source": []
  }
 ]
}