{
 "metadata": {
  "language_info": {
   "codemirror_mode": {
    "name": "ipython",
    "version": 3
   },
   "file_extension": ".py",
   "mimetype": "text/x-python",
   "name": "python",
   "nbconvert_exporter": "python",
   "pygments_lexer": "ipython3",
   "version": "3.7.9"
  },
  "orig_nbformat": 4,
  "kernelspec": {
   "name": "python3",
   "display_name": "Python 3.7.9 64-bit ('website': venv)"
  },
  "interpreter": {
   "hash": "526c6d517c181ea8a90430c85bc56c6c81b52fe8bc1332055751a149542bc334"
  }
 },
 "nbformat": 4,
 "nbformat_minor": 2,
 "cells": [
  {
   "source": [
    "# Neural networks in keras, a first look\n",
    "\n",
    "Artifical intelligence (AI)  has featured on the news several times in the past few years. AI , machine  learning and deep learning feature in countless articles often outside technological oriented publications. You will hear often of self driving cars, chatbots, robots replacing humans in factories and many other stories, with AI as the vilan or the hero. At the heart of this technological revolution is neural networks (NN) which we briefly introduce in this article. The focus here is to introduce  NNs  with python using the keras API. "
   ],
   "cell_type": "markdown",
   "metadata": {}
  },
  {
   "source": [
    "The problem we will solve here is to classify grayscale images of handwritten digits (28x28 pixels)  into their 10 categories which ranges from 0-9. We a will use a classic dataset in the machine learning community, namely MNIST. MNIST has 60k training images and another 10k images for testing. Let's import the MNIST dataset. "
   ],
   "cell_type": "markdown",
   "metadata": {}
  },
  {
   "cell_type": "code",
   "execution_count": 6,
   "metadata": {},
   "outputs": [],
   "source": [
    "from tensorflow.keras.datasets import mnist\n",
    "(train_images, train_labels),(test_images, test_labels) = mnist.load_data()"
   ]
  },
  {
   "source": [
    "`train_images` and `train_labels` represent the data that the model will learn from. We will then use `test_images` and `test_labels` to test the model. The data  object is a numpy array with each image of dimension 28x28 mapped to one and only one label in the range [0,9].  The training and test data look like this:"
   ],
   "cell_type": "markdown",
   "metadata": {}
  },
  {
   "cell_type": "code",
   "execution_count": 7,
   "metadata": {},
   "outputs": [
    {
     "output_type": "execute_result",
     "data": {
      "text/plain": [
       "((60000, 28, 28),\n",
       " array([5, 0, 4, ..., 5, 6, 8], dtype=uint8),\n",
       " (10000, 28, 28),\n",
       " array([7, 2, 1, ..., 4, 5, 6], dtype=uint8))"
      ]
     },
     "metadata": {},
     "execution_count": 7
    }
   ],
   "source": [
    "train_images.shape,train_labels,test_images.shape,test_labels"
   ]
  },
  {
   "cell_type": "code",
   "execution_count": 3,
   "metadata": {},
   "outputs": [
    {
     "output_type": "execute_result",
     "data": {
      "text/plain": [
       "array([5, 0, 4, ..., 5, 6, 8], dtype=uint8)"
      ]
     },
     "metadata": {},
     "execution_count": 3
    }
   ],
   "source": []
  },
  {
   "source": [
    "The test data:"
   ],
   "cell_type": "markdown",
   "metadata": {}
  },
  {
   "cell_type": "code",
   "execution_count": 4,
   "metadata": {},
   "outputs": [
    {
     "output_type": "execute_result",
     "data": {
      "text/plain": [
       "(10000, 28, 28)"
      ]
     },
     "metadata": {},
     "execution_count": 4
    }
   ],
   "source": [
    "test_images.shape"
   ]
  },
  {
   "cell_type": "code",
   "execution_count": 5,
   "metadata": {},
   "outputs": [
    {
     "output_type": "execute_result",
     "data": {
      "text/plain": [
       "array([7, 2, 1, ..., 4, 5, 6], dtype=uint8)"
      ]
     },
     "metadata": {},
     "execution_count": 5
    }
   ],
   "source": []
  },
  {
   "source": [
    "Let's now create an architecture for the network. "
   ],
   "cell_type": "markdown",
   "metadata": {}
  },
  {
   "source": [
    "This will be the workflow:\n",
    "\n",
    "1. Create an architecture for the network, and create a network object\n",
    "2. Compile the network object\n",
    "3. Prepare the training and test datasets\n",
    "4.  Fit the network object to data"
   ],
   "cell_type": "markdown",
   "metadata": {}
  },
  {
   "cell_type": "code",
   "execution_count": null,
   "metadata": {},
   "outputs": [],
   "source": []
  }
 ]
}